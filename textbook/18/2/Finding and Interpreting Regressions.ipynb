{
 "cells": [
  {
   "cell_type": "code",
   "execution_count": 2,
   "id": "27cef0fb",
   "metadata": {},
   "outputs": [],
   "source": [
    "import numpy as np\n",
    "import pandas as pd\n",
    "\n",
    "%matplotlib inline\n",
    "import matplotlib.pyplot as plt\n",
    "plt.style.use('fivethirtyeight')"
   ]
  },
  {
   "cell_type": "markdown",
   "id": "ab5848d9",
   "metadata": {},
   "source": [
    "# Regression and Objective Functions\n",
    "\n",
    "\n",
    "Is there some way we can we determine which trend line is \"the best\"? The answer is sort of. Given a data set $\\{(X_1,Y_1),...,(X_n,Y_n)\\}$ consisting of observations of two variables, we want to find a function $f(x)$ so that $f(X_i)$ gives a prediction for $Y_i$. In this case we will look at linear functions $f(x)=\\alpha+\\beta x$, and the process of finding a good choice for $\\alpha$ and $\\beta$ is known as linear regression.\n",
    "\n",
    "If $f(x)=\\beta X+\\alpha$ is a candidate for our regression function, the $i$-th residual is \n",
    "$$\\epsilon_i = Y_i - f(X_i) = Y_i-(\\beta X_i+\\alpha).$$ The residual can be see as a measure of error, measuring the difference between the actual value of $Y_i$ and the value $\\beta X_i+\\alpha$ predicted by the model. \n",
    "\n",
    "<img src=\"Residuals.png\" alt=\"Residuals\" />\n",
    "\n",
    "Generally, speaking better models have residuals with lower absolute value. However, you can almost always change $\\beta$ and $\\alpha$ to lower some residuals at the cost of increasing others. To decide which regression line $f(x)=\\alpha+\\beta x$ is best we must choose an objective function. In this case, it is a way of combining the residuals into a measure of the overall error.\n",
    "\n",
    "One common way of choosing the model $Y=\\beta X+\\alpha$, is known as Ordinary Least Squares Regression (OLS). In Ordinary Least Square Regression we pick the regression line that minimizes the residual sum of squares, RSS, that is\n",
    "\n",
    "$$\\textrm{RSS} = \\sum_{i=1}^n \\epsilon_i^2 = \\sum_{i=1}^n (\\beta X_i+\\alpha-Y_i)^2.$$\n",
    "\n",
    "One big reason for using OLS, is the fact it is relatively easy to compute. In fact explicit formulas, can be given for $\\alpha$ and $\\beta$. Namely, if $\\overline{x}$ and $\\overline{y}$ are the sample means \n",
    "$$\\overline{x} = \\frac{\\sum_{i=1}^n x_i}{n} \\text{ and } \\overline{y} = \\frac{\\sum_{i=1}^n y_i}{n},$$\n",
    "then \n",
    "$$ \\beta = \\frac{\\left(\\sum_{i=1}^n x_i-\\overline{x}\\right)\\left(\\sum_{i=1}^n y_i-\\overline{y}\\right)}{\\left(\\sum_{i=1}^n x_i-\\overline{x}\\right)^2} \\textrm{ and } \\alpha = \\overline{y}-\\beta \\overline{x}.$$\n",
    "\n",
    "These formulas can be hard to evaluate by hand for large data sets, but can be computed quickly by your computer. \n",
    "\n",
    "\n",
    "Another common choice for the objective function, is the Sum of Absolute Errors\n",
    "\n",
    "$$\\textrm{SAE} = \\sum_{i=1}^n |m X_i+b-Y_i| = \\sum_{i=1}^n |\\epsilon_i|.$$\n",
    "\n",
    "While the Sum of Absolute Errors itself might be easier to compute by hand, It turns out it is a bit harder to find the linear function $f(x)$ which minimizes the Sum of Absolute Errors. This is in part because, there maybe more than one line which minimizes the Sum. However, this approach does have some advantages. Regressions done with Sum of Absolute Errors tends to be more robust, behaving better if the data contains outliers or the residuals are non-normal. "
   ]
  },
  {
   "cell_type": "markdown",
   "id": "61059411",
   "metadata": {},
   "source": [
    "# Computing and Interpreting Least Square Regressions\n",
    "\n",
    "Let's compute a least squares regression, for the housing data set, between floor_size and sold_price."
   ]
  },
  {
   "cell_type": "code",
   "execution_count": 3,
   "id": "e944bb2b",
   "metadata": {},
   "outputs": [
    {
     "data": {
      "text/html": [
       "<div>\n",
       "<style scoped>\n",
       "    .dataframe tbody tr th:only-of-type {\n",
       "        vertical-align: middle;\n",
       "    }\n",
       "\n",
       "    .dataframe tbody tr th {\n",
       "        vertical-align: top;\n",
       "    }\n",
       "\n",
       "    .dataframe thead th {\n",
       "        text-align: right;\n",
       "    }\n",
       "</style>\n",
       "<table border=\"1\" class=\"dataframe\">\n",
       "  <thead>\n",
       "    <tr style=\"text-align: right;\">\n",
       "      <th></th>\n",
       "      <th>floor_size</th>\n",
       "      <th>bed_room_count</th>\n",
       "      <th>built_year</th>\n",
       "      <th>sold_date</th>\n",
       "      <th>sold_price</th>\n",
       "      <th>room_count</th>\n",
       "      <th>garage_size</th>\n",
       "      <th>parking_lot</th>\n",
       "    </tr>\n",
       "  </thead>\n",
       "  <tbody>\n",
       "    <tr>\n",
       "      <th>0</th>\n",
       "      <td>2068</td>\n",
       "      <td>3</td>\n",
       "      <td>2003</td>\n",
       "      <td>Aug2015</td>\n",
       "      <td>195500</td>\n",
       "      <td>6</td>\n",
       "      <td>768</td>\n",
       "      <td>3</td>\n",
       "    </tr>\n",
       "    <tr>\n",
       "      <th>1</th>\n",
       "      <td>3372</td>\n",
       "      <td>3</td>\n",
       "      <td>1999</td>\n",
       "      <td>Dec2015</td>\n",
       "      <td>385000</td>\n",
       "      <td>6</td>\n",
       "      <td>480</td>\n",
       "      <td>2</td>\n",
       "    </tr>\n",
       "    <tr>\n",
       "      <th>2</th>\n",
       "      <td>3130</td>\n",
       "      <td>3</td>\n",
       "      <td>1999</td>\n",
       "      <td>Jan2017</td>\n",
       "      <td>188000</td>\n",
       "      <td>7</td>\n",
       "      <td>400</td>\n",
       "      <td>2</td>\n",
       "    </tr>\n",
       "    <tr>\n",
       "      <th>3</th>\n",
       "      <td>3991</td>\n",
       "      <td>3</td>\n",
       "      <td>1999</td>\n",
       "      <td>Nov2014</td>\n",
       "      <td>375000</td>\n",
       "      <td>8</td>\n",
       "      <td>400</td>\n",
       "      <td>2</td>\n",
       "    </tr>\n",
       "    <tr>\n",
       "      <th>4</th>\n",
       "      <td>1450</td>\n",
       "      <td>2</td>\n",
       "      <td>1999</td>\n",
       "      <td>Jan2015</td>\n",
       "      <td>136000</td>\n",
       "      <td>7</td>\n",
       "      <td>200</td>\n",
       "      <td>1</td>\n",
       "    </tr>\n",
       "  </tbody>\n",
       "</table>\n",
       "</div>"
      ],
      "text/plain": [
       "   floor_size  bed_room_count  built_year sold_date  sold_price  room_count  \\\n",
       "0        2068               3        2003   Aug2015      195500           6   \n",
       "1        3372               3        1999   Dec2015      385000           6   \n",
       "2        3130               3        1999   Jan2017      188000           7   \n",
       "3        3991               3        1999   Nov2014      375000           8   \n",
       "4        1450               2        1999   Jan2015      136000           7   \n",
       "\n",
       "   garage_size  parking_lot  \n",
       "0          768            3  \n",
       "1          480            2  \n",
       "2          400            2  \n",
       "3          400            2  \n",
       "4          200            1  "
      ]
     },
     "execution_count": 3,
     "metadata": {},
     "output_type": "execute_result"
    }
   ],
   "source": [
    "housing_df = pd.read_csv(\"../../data/Housing.csv\")\n",
    "housing_df.head()"
   ]
  },
  {
   "cell_type": "code",
   "execution_count": 16,
   "id": "6b41f84f",
   "metadata": {},
   "outputs": [
    {
     "data": {
      "image/png": "[encoded data removed]",
      "text/plain": [
       "<Figure size 640x480 with 1 Axes>"
      ]
     },
     "metadata": {},
     "output_type": "display_data"
    }
   ],
   "source": [
    "lin_regress   = np.polyfit(housing_df['floor_size'],housing_df['sold_price'],1)\n",
    "lin_regress_p = np.poly1d(lin_regress)\n",
    "plt.scatter(housing_df['floor_size'],housing_df['sold_price'])\n",
    "plt.xlabel(\"Floor Size\")\n",
    "plt.ylabel(\"Selling Price\")\n",
    "plt.plot(np.arange(1000,5000), lin_regress_p(np.arange(1000,5000)), \"-\",color=\"black\");\n",
    "plt.show()"
   ]
  },
  {
   "cell_type": "markdown",
   "id": "29efafff",
   "metadata": {},
   "source": [
    "One advantage that a linear regression has over more complicated approaches like deep learning is that it's easy to interpret the resulting model. For the floor size model above we can see get linear polynomial $p(x)=94.66x + 25181.19$."
   ]
  },
  {
   "cell_type": "code",
   "execution_count": 18,
   "id": "4a302652",
   "metadata": {},
   "outputs": [
    {
     "name": "stdout",
     "output_type": "stream",
     "text": [
      " \n",
      "94.66 x + 2.518e+04\n"
     ]
    }
   ],
   "source": [
    "print(lin_regress_p)"
   ]
  },
  {
   "cell_type": "code",
   "execution_count": 44,
   "id": "12300524",
   "metadata": {},
   "outputs": [
    {
     "data": {
      "text/plain": [
       "261831.86053480083"
      ]
     },
     "execution_count": 44,
     "metadata": {},
     "output_type": "execute_result"
    }
   ],
   "source": [
    "lin_regress_p(2500)"
   ]
  },
  {
   "cell_type": "markdown",
   "id": "e10a0c43",
   "metadata": {},
   "source": [
    "# Interpretation of Regressions.\n",
    "\n",
    "In general, when performing a regression between variables $Y$ and $X$. We can think of the resulting regression function $f(x)$, as giving a prediction $f(X_i)$ of the value of $Y_i$. For instance, for the linear regression above between floor size and sell price, $p(2500) = 261831$ which means the model predicts the average price of a $2500$ square foot apartment to be $\\$261831$. While there are no examples in our data frame of apartments with exactly $2500$ square feet, there are some that are within that range and we can see that the price is a little high, but not unreasonable."
   ]
  },
  {
   "cell_type": "code",
   "execution_count": 43,
   "id": "4220293c",
   "metadata": {},
   "outputs": [
    {
     "data": {
      "text/html": [
       "<div>\n",
       "<style scoped>\n",
       "    .dataframe tbody tr th:only-of-type {\n",
       "        vertical-align: middle;\n",
       "    }\n",
       "\n",
       "    .dataframe tbody tr th {\n",
       "        vertical-align: top;\n",
       "    }\n",
       "\n",
       "    .dataframe thead th {\n",
       "        text-align: right;\n",
       "    }\n",
       "</style>\n",
       "<table border=\"1\" class=\"dataframe\">\n",
       "  <thead>\n",
       "    <tr style=\"text-align: right;\">\n",
       "      <th></th>\n",
       "      <th>floor_size</th>\n",
       "      <th>bed_room_count</th>\n",
       "      <th>built_year</th>\n",
       "      <th>sold_date</th>\n",
       "      <th>sold_price</th>\n",
       "      <th>room_count</th>\n",
       "      <th>garage_size</th>\n",
       "      <th>parking_lot</th>\n",
       "    </tr>\n",
       "  </thead>\n",
       "  <tbody>\n",
       "    <tr>\n",
       "      <th>14</th>\n",
       "      <td>2476</td>\n",
       "      <td>4</td>\n",
       "      <td>2006</td>\n",
       "      <td>Dec2014</td>\n",
       "      <td>233000</td>\n",
       "      <td>9</td>\n",
       "      <td>440</td>\n",
       "      <td>2</td>\n",
       "    </tr>\n",
       "    <tr>\n",
       "      <th>43</th>\n",
       "      <td>2468</td>\n",
       "      <td>5</td>\n",
       "      <td>1995</td>\n",
       "      <td>May2015</td>\n",
       "      <td>233000</td>\n",
       "      <td>7</td>\n",
       "      <td>484</td>\n",
       "      <td>2</td>\n",
       "    </tr>\n",
       "    <tr>\n",
       "      <th>51</th>\n",
       "      <td>2482</td>\n",
       "      <td>3</td>\n",
       "      <td>1997</td>\n",
       "      <td>Apr2017</td>\n",
       "      <td>271000</td>\n",
       "      <td>7</td>\n",
       "      <td>520</td>\n",
       "      <td>2</td>\n",
       "    </tr>\n",
       "    <tr>\n",
       "      <th>78</th>\n",
       "      <td>2462</td>\n",
       "      <td>4</td>\n",
       "      <td>2008</td>\n",
       "      <td>Jul2017</td>\n",
       "      <td>267500</td>\n",
       "      <td>10</td>\n",
       "      <td>200</td>\n",
       "      <td>1</td>\n",
       "    </tr>\n",
       "    <tr>\n",
       "      <th>81</th>\n",
       "      <td>2504</td>\n",
       "      <td>4</td>\n",
       "      <td>2005</td>\n",
       "      <td>Aug2016</td>\n",
       "      <td>210200</td>\n",
       "      <td>7</td>\n",
       "      <td>440</td>\n",
       "      <td>2</td>\n",
       "    </tr>\n",
       "    <tr>\n",
       "      <th>84</th>\n",
       "      <td>2488</td>\n",
       "      <td>3</td>\n",
       "      <td>1995</td>\n",
       "      <td>Mar2015</td>\n",
       "      <td>279000</td>\n",
       "      <td>8</td>\n",
       "      <td>638</td>\n",
       "      <td>2</td>\n",
       "    </tr>\n",
       "  </tbody>\n",
       "</table>\n",
       "</div>"
      ],
      "text/plain": [
       "    floor_size  bed_room_count  built_year sold_date  sold_price  room_count  \\\n",
       "14        2476               4        2006   Dec2014      233000           9   \n",
       "43        2468               5        1995   May2015      233000           7   \n",
       "51        2482               3        1997   Apr2017      271000           7   \n",
       "78        2462               4        2008   Jul2017      267500          10   \n",
       "81        2504               4        2005   Aug2016      210200           7   \n",
       "84        2488               3        1995   Mar2015      279000           8   \n",
       "\n",
       "    garage_size  parking_lot  \n",
       "14          440            2  \n",
       "43          484            2  \n",
       "51          520            2  \n",
       "78          200            1  \n",
       "81          440            2  \n",
       "84          638            2  "
      ]
     },
     "execution_count": 43,
     "metadata": {},
     "output_type": "execute_result"
    }
   ],
   "source": [
    "housing_df.loc[ abs(housing_df['floor_size']-2500) < 50]"
   ]
  },
  {
   "cell_type": "markdown",
   "id": "4b1e467c",
   "metadata": {},
   "source": [
    "Linear regressions have the advantage over other more complicated methods such as deep learning. In that the regression function is easily understood. For instance, with the regression function between floor_size and sell_price\n",
    "$$ p(x)=94.66x + 25181.19.$$\n",
    "The slope of this line has an interpretation, $\\$94.66$ is the average increase in price of an apartment for every $1$ square foot increase in floor price. The intercept $25181.19$ is the prediction $p(0)$ of the sell_price of an apartment with $0$ square feet. Since no such apartment can exist, the intercept is less immediately interpretable.\n",
    "\n",
    "This example also illustrates a shortcoming of regressions. While they can be used to give predictions, if those values fall far outside the current data, the predictions likely will not be accurate."
   ]
  },
  {
   "cell_type": "markdown",
   "id": "af5568c7",
   "metadata": {},
   "source": []
  }
 ],
 "metadata": {
  "kernelspec": {
   "display_name": "Python 3 (ipykernel)",
   "language": "python",
   "name": "python3"
  },
  "language_info": {
   "codemirror_mode": {
    "name": "ipython",
    "version": 3
   },
   "file_extension": ".py",
   "mimetype": "text/x-python",
   "name": "python",
   "nbconvert_exporter": "python",
   "pygments_lexer": "ipython3",
   "version": "3.11.5"
  }
 },
 "nbformat": 4,
 "nbformat_minor": 5
}

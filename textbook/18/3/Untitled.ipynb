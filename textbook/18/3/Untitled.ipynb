{
 "cells": [
  {
   "cell_type": "code",
   "execution_count": 71,
   "id": "e504c9f1",
   "metadata": {},
   "outputs": [],
   "source": [
    "import pandas as pd\n",
    "import numpy as np\n",
    "\n",
    "import matplotlib.pyplot as plt\n",
    "from time import process_time"
   ]
  },
  {
   "cell_type": "code",
   "execution_count": null,
   "id": "5fa1e8c7",
   "metadata": {},
   "outputs": [],
   "source": [
    "samp = np.random.gamma(10,5,size=10000)\n",
    "m = np.mean(samp)\n",
    "m"
   ]
  },
  {
   "cell_type": "code",
   "execution_count": null,
   "id": "35755ed6",
   "metadata": {},
   "outputs": [],
   "source": [
    "samp = np.random.gamma(10,5,size=10000)\n"
   ]
  },
  {
   "cell_type": "code",
   "execution_count": 74,
   "id": "76926b56",
   "metadata": {},
   "outputs": [
    {
     "name": "stdout",
     "output_type": "stream",
     "text": [
      "0.16666666666666666\n",
      "0.0010070000000723667\n",
      "138.99200599999995\n",
      "278.10682999999995\n",
      "417.138903\n",
      "556.0290210000001\n",
      "694.9949979999999\n",
      "834.0190229999998\n",
      "973.1452559999998\n",
      "1111.8152380000001\n",
      "1250.194959\n",
      "0.9175\n"
     ]
    },
    {
     "data": {
      "text/plain": [
       "(array([ 7.,  0.,  1.,  0.,  0.,  1.,  0.,  0.,  0., 91.]),\n",
       " array([0. , 0.1, 0.2, 0.3, 0.4, 0.5, 0.6, 0.7, 0.8, 0.9, 1. ]),\n",
       " <BarContainer object of 10 artists>)"
      ]
     },
     "execution_count": 74,
     "metadata": {},
     "output_type": "execute_result"
    },
    {
     "data": {
      "image/png": "[encoded data removed]",
      "text/plain": [
       "<Figure size 640x480 with 1 Axes>"
      ]
     },
     "metadata": {},
     "output_type": "display_data"
    }
   ],
   "source": [
    "sample_size = 1000\n",
    "ci_level = 5\n",
    "true_mean = 1/(6)\n",
    "#true_mean = np.mean(np.random.beta(1,5,size=100_000))\n",
    "print(true_mean)\n",
    "\n",
    "ci_hit_perc = []\n",
    "    \n",
    "start = process_time()\n",
    "for i in np.arange(0,100):\n",
    "    samp = np.random.beta(1,5,size=sample_size)\n",
    "    if i%10 == 0:\n",
    "        print(process_time()-start)\n",
    "    ci_hit_count = 0\n",
    "    for k in np.arange(0,1000):\n",
    "        boot_means = []\n",
    "        for j in np.arange(0,1000):\n",
    "            boot_samp = np.random.choice(samp,size = sample_size,replace=True)\n",
    "            boot_means.append( np.mean(boot_samp) - np.mean(samp))\n",
    "        \n",
    "        L0 = np.percentile(boot_means,ci_level/2)\n",
    "        U0 = np.percentile(boot_means,100-ci_level/2)\n",
    "        #check if empirical bootstrap contains the true mean\n",
    "        if np.mean(samp)-U0 < true_mean < np.mean(samp)-L0:\n",
    "            ci_hit_count+=1\n",
    "    ci_hit_perc.append(ci_hit_count/1000)\n",
    "    \n",
    "\n",
    "print(np.mean(ci_hit_perc))\n",
    "plt.hist(ci_hit_perc)"
   ]
  },
  {
   "cell_type": "code",
   "execution_count": 77,
   "id": "84209a28",
   "metadata": {},
   "outputs": [
    {
     "data": {
      "text/plain": [
       "7"
      ]
     },
     "execution_count": 77,
     "metadata": {},
     "output_type": "execute_result"
    }
   ],
   "source": [
    "sum(np.array(ci_hit_perc) < 0.01)"
   ]
  },
  {
   "cell_type": "code",
   "execution_count": 78,
   "id": "539c74b0",
   "metadata": {},
   "outputs": [],
   "source": [
    "letter_numbers = { \"A\":9, \"B\":2, \"C\":2, \"D\":4, \"E\":12, \"F\":2, \"G\":3, \"H\":2, \"I\":9, \\\n",
    "                  \"J\":1, \"K\":1, \"L\":4, \"M\":2, \"N\":6, \"O\":8, \"P\":2, \"Q\":1, \"R\":6, \\\n",
    "                  \"S\":4, \"T\":6, \"U\":4, \"V\":2, \"W\":2, \"X\":1, \"Y\":2, \"Z\":1 }\n",
    "\n",
    "# Let us check: how many letter tiles are in the box?\n",
    "def is_valid(word, tile_counts):\n",
    "    '''a function that checks if a given word can be built using scrabble tiles'''\n",
    "    word_count_items={item:word.count(item) for item in set(word)}\n",
    "    return all(tile_counts.get(item.upper(),0) >= count for item, count in word_count_items.items())"
   ]
  },
  {
   "cell_type": "code",
   "execution_count": 83,
   "id": "6498ccf3",
   "metadata": {},
   "outputs": [
    {
     "data": {
      "text/plain": [
       "True"
      ]
     },
     "execution_count": 83,
     "metadata": {},
     "output_type": "execute_result"
    }
   ],
   "source": [
    "is_valid(\"jaz\",letter_numbers)"
   ]
  },
  {
   "cell_type": "code",
   "execution_count": 85,
   "id": "bfd855f3",
   "metadata": {},
   "outputs": [
    {
     "data": {
      "text/plain": [
       "11"
      ]
     },
     "execution_count": 85,
     "metadata": {},
     "output_type": "execute_result"
    }
   ],
   "source": [
    "def vowel_count(input_str):\n",
    "    '''a function that counts the vowels in a string'''\n",
    "    input_str=input_str.lower()\n",
    "    vowels='aeiou'\n",
    "    count=0\n",
    "    for word in input_str:\n",
    "        if word in vowels:\n",
    "            count+=1\n",
    "    return count\n",
    "vowel_count(\"AabcEe e Ii Oo Uu\")"
   ]
  },
  {
   "cell_type": "code",
   "execution_count": 86,
   "id": "11df8f7d",
   "metadata": {},
   "outputs": [],
   "source": [
    "letter_numbers = { \"A\":9, \"B\":2, \"C\":2, \"D\":4, \"E\":12, \"F\":2, \"G\":3, \"H\":2, \"I\":9, \\\n",
    "                  \"J\":1, \"K\":1, \"L\":4, \"M\":2, \"N\":6, \"O\":8, \"P\":2, \"Q\":1, \"R\":6, \\\n",
    "                  \"S\":4, \"T\":6, \"U\":4, \"V\":2, \"W\":2, \"X\":1, \"Y\":2, \"Z\":1 }\n",
    "\n",
    "def is_valid(word):\n",
    "    word = word.upper()#converts to uppercase\n",
    "    for letter in word:\n",
    "        # If the letter is in the available letters\n",
    "        if letter in letter_numbers and letter_numbers[letter] > 0:\n",
    "            # Use one tile\n",
    "            letter_numbers[letter] -= 1\n",
    "        else:\n",
    "            # If the letter is not available\n",
    "            return False\n",
    "    return True"
   ]
  },
  {
   "cell_type": "code",
   "execution_count": 87,
   "id": "27d8b9a9",
   "metadata": {},
   "outputs": [
    {
     "data": {
      "text/plain": [
       "True"
      ]
     },
     "execution_count": 87,
     "metadata": {},
     "output_type": "execute_result"
    }
   ],
   "source": [
    "is_valid(\"AAAA\")"
   ]
  },
  {
   "cell_type": "code",
   "execution_count": 88,
   "id": "e43560c7",
   "metadata": {},
   "outputs": [
    {
     "data": {
      "text/plain": [
       "True"
      ]
     },
     "execution_count": 88,
     "metadata": {},
     "output_type": "execute_result"
    }
   ],
   "source": [
    "is_valid(\"AAAA\")"
   ]
  },
  {
   "cell_type": "code",
   "execution_count": 90,
   "id": "c43cd8a5",
   "metadata": {},
   "outputs": [
    {
     "data": {
      "text/plain": [
       "False"
      ]
     },
     "execution_count": 90,
     "metadata": {},
     "output_type": "execute_result"
    }
   ],
   "source": [
    "is_valid(\"AAAA\")"
   ]
  },
  {
   "cell_type": "code",
   "execution_count": null,
   "id": "08afe1bc",
   "metadata": {},
   "outputs": [],
   "source": []
  }
 ],
 "metadata": {
  "kernelspec": {
   "display_name": "Python 3 (ipykernel)",
   "language": "python",
   "name": "python3"
  },
  "language_info": {
   "codemirror_mode": {
    "name": "ipython",
    "version": 3
   },
   "file_extension": ".py",
   "mimetype": "text/x-python",
   "name": "python",
   "nbconvert_exporter": "python",
   "pygments_lexer": "ipython3",
   "version": "3.11.5"
  }
 },
 "nbformat": 4,
 "nbformat_minor": 5
}

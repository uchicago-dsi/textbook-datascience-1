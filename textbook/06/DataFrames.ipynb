{
 "cells": [
  {
   "cell_type": "markdown",
   "metadata": {},
   "source": [
    "(data-frames)=\n",
    "# DataFrames\n",
    "\n",
    "*Jesse London and Kriti Sehgal*\n",
    "\n",
    "The `DataFrame` is a data structure in Python that is widely used in Data Science and is provided by the <a href=\"https://pandas.pydata.org/\" rel=\"noopener\" target=\"_blank\">`pandas`</a> library for data analysis and manipulation.\n",
    "\n",
    "DataFrames are two-dimensional collections of data. You can think of them as tables, similar to Excel spreadsheets. The dimensions of a DataFrame refer to its shape, i.e., the number of **rows** and **columns**. Each row represents a data point (observation/record), and each column represents the value of a *feature* or *variable* associated with that data point. Each column has its own name, i.e., the feature name, and each row has an index, which can be numbers or custom labels. In the example DataFrame below, the rows have index `0`, `1`, `2`, ... and the feature or column names are `Name`, `Age`, `Job`, and `Department`."
   ]
  },
  {
   "cell_type": "code",
   "execution_count": 1,
   "metadata": {
    "tags": [
     "remove-input"
    ]
   },
   "outputs": [
    {
     "data": {
      "text/html": [
       "<div>\n",
       "<style scoped>\n",
       "    .dataframe tbody tr th:only-of-type {\n",
       "        vertical-align: middle;\n",
       "    }\n",
       "\n",
       "    .dataframe tbody tr th {\n",
       "        vertical-align: top;\n",
       "    }\n",
       "\n",
       "    .dataframe thead th {\n",
       "        text-align: right;\n",
       "    }\n",
       "</style>\n",
       "<table border=\"1\" class=\"dataframe\">\n",
       "  <thead>\n",
       "    <tr style=\"text-align: right;\">\n",
       "      <th></th>\n",
       "      <th>Name</th>\n",
       "      <th>Age</th>\n",
       "      <th>Job</th>\n",
       "      <th>Department</th>\n",
       "    </tr>\n",
       "  </thead>\n",
       "  <tbody>\n",
       "    <tr>\n",
       "      <th>0</th>\n",
       "      <td>Amina</td>\n",
       "      <td>40</td>\n",
       "      <td>Professor</td>\n",
       "      <td>History</td>\n",
       "    </tr>\n",
       "    <tr>\n",
       "      <th>1</th>\n",
       "      <td>Hiroshi</td>\n",
       "      <td>35</td>\n",
       "      <td>Researcher</td>\n",
       "      <td>Physics</td>\n",
       "    </tr>\n",
       "    <tr>\n",
       "      <th>2</th>\n",
       "      <td>Gabriela</td>\n",
       "      <td>32</td>\n",
       "      <td>Lecturer</td>\n",
       "      <td>Biology</td>\n",
       "    </tr>\n",
       "    <tr>\n",
       "      <th>3</th>\n",
       "      <td>Elena</td>\n",
       "      <td>28</td>\n",
       "      <td>Lab Technician</td>\n",
       "      <td>Chemistry</td>\n",
       "    </tr>\n",
       "    <tr>\n",
       "      <th>4</th>\n",
       "      <td>Arjun</td>\n",
       "      <td>32</td>\n",
       "      <td>Postdoc</td>\n",
       "      <td>CS</td>\n",
       "    </tr>\n",
       "    <tr>\n",
       "      <th>5</th>\n",
       "      <td>Maria</td>\n",
       "      <td>38</td>\n",
       "      <td>Administrator</td>\n",
       "      <td>Admin</td>\n",
       "    </tr>\n",
       "    <tr>\n",
       "      <th>6</th>\n",
       "      <td>Wei</td>\n",
       "      <td>29</td>\n",
       "      <td>Data Analyst</td>\n",
       "      <td>Statistics</td>\n",
       "    </tr>\n",
       "  </tbody>\n",
       "</table>\n",
       "</div>"
      ],
      "text/plain": [
       "       Name  Age             Job  Department\n",
       "0     Amina   40       Professor     History\n",
       "1   Hiroshi   35      Researcher     Physics\n",
       "2  Gabriela   32        Lecturer     Biology\n",
       "3     Elena   28  Lab Technician   Chemistry\n",
       "4     Arjun   32         Postdoc          CS\n",
       "5     Maria   38   Administrator       Admin\n",
       "6       Wei   29    Data Analyst  Statistics"
      ]
     },
     "execution_count": 1,
     "metadata": {},
     "output_type": "execute_result"
    }
   ],
   "source": [
    "import pandas as pd\n",
    "df = pd. DataFrame({\n",
    "    \"Name\": [\"Amina\", \"Hiroshi\", \"Gabriela\", \"Elena\", \"Arjun\", \"Maria\", \"Wei\"],\n",
    "    \"Age\": [40, 35, 32, 28, 32, 38, 29],\n",
    "    \"Job\": [\"Professor\", \"Researcher\", \"Lecturer\", \"Lab Technician\", \"Postdoc\", \"Administrator\", \"Data Analyst\"],\n",
    "    \"Department\": [\"History\", \"Physics\", \"Biology\", \"Chemistry\", \"CS\", \"Admin\", \"Statistics\"]\n",
    "})\n",
    "df"
   ]
  },
  {
   "cell_type": "markdown",
   "metadata": {},
   "source": [
    ":::{note}\n",
    "An interesting aspect of `pandas` DataFrames is that different columns can store different types of data. For example, in the DataFrame above, the column `Age` contains numeric values, while the column `Job` contains strings. This is a key distinction between `numpy` arrays and `pandas` DataFrames. Recall from [section 4.3](https://textbook-datascience-1-dev.vercel.app/04/3/Arrays-Intro.html) that `numpy` arrays are **homogeneous**, meaning all elements must have the same data type.\n",
    "\n",
    "Another important difference is in indexing. In `numpy` arrays, all axes or dimensions are indexed with integers, whereas in `pandas` DataFrames, both row and column indexes can be custom labels, including integers, strings, or other types, as we will see in the next section.\n",
    "\n",
    "`numpy` arrays and `pandas` DataFrames are optimized for different tasks. `numpy` arrays are ideal for numerical computations, linear algebra, and fast element-wise operations, while `pandas` DataFrames are specifically designed for analyzing, manipulating, and working efficiently with tabular data.\n",
    ":::"
   ]
  },
  {
   "cell_type": "markdown",
   "metadata": {},
   "source": [
    "The following sections explore the basics of using the pandas `DataFrame`."
   ]
  }
 ],
 "metadata": {
  "kernelspec": {
   "display_name": "base",
   "language": "python",
   "name": "python3"
  },
  "language_info": {
   "codemirror_mode": {
    "name": "ipython",
    "version": 3
   },
   "file_extension": ".py",
   "mimetype": "text/x-python",
   "name": "python",
   "nbconvert_exporter": "python",
   "pygments_lexer": "ipython3",
   "version": "3.12.3"
  }
 },
 "nbformat": 4,
 "nbformat_minor": 4
}

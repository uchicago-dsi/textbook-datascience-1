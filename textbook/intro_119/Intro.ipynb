{
 "cells": [
  {
   "cell_type": "markdown",
   "id": "4cf0fe7e",
   "metadata": {},
   "source": [
    "# Part-II: Using Data to Understand Our World\n",
    "*Kriti Sehgal*"
   ]
  },
  {
   "cell_type": "markdown",
   "id": "d171851c",
   "metadata": {},
   "source": [
    "Part-1 of this textbook introduced you to the exciting field of Data Science and equipped you with the Mathematical, Statistical and programming tools to explore, clean, and understand data. In Part II, we take the next step: use data to build models that help us make predictions, identify patterns, and uncover hidden structure. This is where we formally step into the world of **machine learning**.\n",
    "\n",
    "Let us look at where we are at through the lens of the Data Science Pipeline."
   ]
  },
  {
   "cell_type": "markdown",
   "id": "1689f128",
   "metadata": {},
   "source": [
    "<img align=\"center\" src=\"Data_Science_Pipeline.png\" width=\"70%\"/>\n",
    "\n",
    "<em>Figure: Data Science Pipeline.</em>"
   ]
  },
  {
   "cell_type": "markdown",
   "id": "a258e461",
   "metadata": {},
   "source": [
    "We begin with the foundations of machine learning, building from regression and classification to modern approaches such as neural networks and tree models. Along the way, we develop essential skills in feature engineering, cross‑validation, clustering, and working with relational databases."
   ]
  }
 ],
 "metadata": {
  "language_info": {
   "name": "python"
  }
 },
 "nbformat": 4,
 "nbformat_minor": 5
}

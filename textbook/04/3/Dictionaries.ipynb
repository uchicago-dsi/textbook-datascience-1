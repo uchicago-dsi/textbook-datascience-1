{
 "cells": [
  {
   "cell_type": "markdown",
   "metadata": {},
   "source": [
    "# Dictionaries\n",
    "*Amanda R. Kube Jotte*\n",
    "\n",
    "The next collection of data we will discuss is the **dictionary**. Like lists, dictionaries are built into Python and do not require you to load any additional libraries. Dictionaries are Python's built-in **mapping** tool. They *map* `values` onto `keys` and are composed of `key`:`value` pairs. \n",
    "\n",
    "## Creating Dictionaries\n",
    "\n",
    "An empty dictionary can be created using `{}` as follows:"
   ]
  },
  {
   "cell_type": "code",
   "execution_count": 1,
   "metadata": {},
   "outputs": [],
   "source": [
    "dictionary = {}"
   ]
  },
  {
   "cell_type": "markdown",
   "metadata": {},
   "source": [
    "Where lists are indexed using numbers (for example `my_list[0:3]`), dictionaries are indexed using their **keys**. Below, we create a dictionary named `my_dict`  which has two keys which are both strings and two values, one of which is a float and the other a string. "
   ]
  },
  {
   "cell_type": "code",
   "execution_count": 2,
   "metadata": {},
   "outputs": [
    {
     "data": {
      "text/plain": [
       "{'key1': 2.4, 'key2': 'value here'}"
      ]
     },
     "execution_count": 2,
     "metadata": {},
     "output_type": "execute_result"
    }
   ],
   "source": [
    "value1 = 2.4\n",
    "value2 = \"value here\"\n",
    "\n",
    "my_dict = {\n",
    "    'key1': value1,\n",
    "    'key2': value2\n",
    "}\n",
    "\n",
    "my_dict"
   ]
  },
  {
   "cell_type": "markdown",
   "metadata": {},
   "source": [
    "If we want to access a value in this dictionary, we use its key."
   ]
  },
  {
   "cell_type": "code",
   "execution_count": 3,
   "metadata": {},
   "outputs": [
    {
     "data": {
      "text/plain": [
       "2.4"
      ]
     },
     "execution_count": 3,
     "metadata": {},
     "output_type": "execute_result"
    }
   ],
   "source": [
    "my_dict['key1']"
   ]
  },
  {
   "cell_type": "markdown",
   "metadata": {},
   "source": [
    "Dictionary keys must be unique and immutable.  They can be strings, numbers, or tuples.  Lists and dictionaries (that can be changed) are not allowed as dictionary keys.\n",
    "\n",
    "We can also create dictionaries from lists of `key`:`value` pairs presented as tuples using `dict()`."
   ]
  },
  {
   "cell_type": "code",
   "execution_count": null,
   "metadata": {},
   "outputs": [
    {
     "data": {
      "text/plain": [
       "{1: 'Susanna', 2: 'Evelyn', 3: 'Amanda'}"
      ]
     },
     "execution_count": 4,
     "metadata": {},
     "output_type": "execute_result"
    }
   ],
   "source": [
    "names_list = [(1,\"Susanna\"),(2,\"Evelyn\"),(3,\"Amanda\")]\n",
    "dict(names_list)"
   ]
  },
  {
   "cell_type": "markdown",
   "metadata": {},
   "source": [
    "## Dictionary of Dictionaries\n",
    "\n",
    "In the previous two examples the values were all strings or all integers. As we saw when creating `my_dict`, values in a dictionary do not need to be of the same data type. Values can include integers, floats, strings, lists, ..., or even other dictionaries! One useful application of a dictionary is as an address book.\n",
    "\n",
    "Here we create a dictionary of dictionaries.  (What are the keys of the top level dictionary?  What are the keys of the second-level dictionary?)"
   ]
  },
  {
   "cell_type": "code",
   "execution_count": 6,
   "metadata": {},
   "outputs": [
    {
     "data": {
      "text/plain": [
       "{'Bill': {'phone': 3125551234, 'email': 'bill@internet.com'},\n",
       " 'Mary': {'phone': 3125559876, 'email': 'mary@web.net'},\n",
       " 'Sue': {'phone': 3125552468, 'email': 'sue@email.edu'}}"
      ]
     },
     "execution_count": 6,
     "metadata": {},
     "output_type": "execute_result"
    }
   ],
   "source": [
    "addresses = {\n",
    "    \"Bill\": {'phone':3125551234, 'email': 'bill@internet.com'},\n",
    "    \"Mary\": {'phone':3125559876, 'email': 'mary@web.net'},\n",
    "    \"Sue\": {'phone':3125552468, 'email': 'sue@email.edu'}\n",
    "}\n",
    "addresses"
   ]
  },
  {
   "cell_type": "markdown",
   "metadata": {},
   "source": [
    "If I want to know Mary's information, I can access it using the key `Mary`."
   ]
  },
  {
   "cell_type": "code",
   "execution_count": 7,
   "metadata": {},
   "outputs": [
    {
     "data": {
      "text/plain": [
       "{'phone': 3125559876, 'email': 'mary@web.net'}"
      ]
     },
     "execution_count": 7,
     "metadata": {},
     "output_type": "execute_result"
    }
   ],
   "source": [
    "addresses['Mary']"
   ]
  },
  {
   "cell_type": "markdown",
   "metadata": {},
   "source": [
    "This returns a dictionary of information for Mary. If I am only interested in a certain piece of information, for example her phone number, I can access it using the `phone` key."
   ]
  },
  {
   "cell_type": "code",
   "execution_count": 8,
   "metadata": {},
   "outputs": [
    {
     "data": {
      "text/plain": [
       "3125559876"
      ]
     },
     "execution_count": 8,
     "metadata": {},
     "output_type": "execute_result"
    }
   ],
   "source": [
    "addresses['Mary']['phone']"
   ]
  },
  {
   "cell_type": "markdown",
   "metadata": {},
   "source": [
    "This returns only her phone number. Perhaps we can't remember which keys are in the address book. We can use `list()` to list all of the keys."
   ]
  },
  {
   "cell_type": "code",
   "execution_count": 9,
   "metadata": {},
   "outputs": [
    {
     "data": {
      "text/plain": [
       "['Bill', 'Mary', 'Sue']"
      ]
     },
     "execution_count": 9,
     "metadata": {},
     "output_type": "execute_result"
    }
   ],
   "source": [
    "list(addresses)"
   ]
  },
  {
   "cell_type": "markdown",
   "metadata": {},
   "source": [
    ":::{note}\n",
    "The `list()` function takes in a grouping of data and uses it to create a list. In the case of a dictionary, it creates a list of *keys*. In the case of a string, it creates a list of *characters*. It can also be used to create an empty list, if you don't give it any input.\n",
    "\n",
    ":::"
   ]
  },
  {
   "cell_type": "markdown",
   "metadata": {},
   "source": [
    "## Changing Dictionaries\n",
    "\n",
    "We can also add elements to a dictionary..."
   ]
  },
  {
   "cell_type": "code",
   "execution_count": 13,
   "metadata": {},
   "outputs": [
    {
     "data": {
      "text/plain": [
       "{'Bill': {'phone': 3125551234, 'email': 'bill@internet.com'},\n",
       " 'Mary': {'phone': 3125559876, 'email': 'mary@web.net'},\n",
       " 'Sue': {'phone': 3125552468, 'email': 'sue@email.edu'},\n",
       " 'Dan': {'phone': 3125555678}}"
      ]
     },
     "execution_count": 13,
     "metadata": {},
     "output_type": "execute_result"
    }
   ],
   "source": [
    "addresses['Dan'] = {'phone':3125555678} # Not all values need to have the same data type or length\n",
    "addresses"
   ]
  },
  {
   "cell_type": "markdown",
   "metadata": {},
   "source": [
    "...and delete elements from a dictionary using `del`."
   ]
  },
  {
   "cell_type": "code",
   "execution_count": 14,
   "metadata": {},
   "outputs": [
    {
     "data": {
      "text/plain": [
       "{'Bill': {'phone': 3125551234, 'email': 'bill@internet.com'},\n",
       " 'Sue': {'phone': 3125552468, 'email': 'sue@email.edu'},\n",
       " 'Dan': {'phone': 3125555678}}"
      ]
     },
     "execution_count": 14,
     "metadata": {},
     "output_type": "execute_result"
    }
   ],
   "source": [
    "del addresses['Mary']\n",
    "addresses"
   ]
  },
  {
   "cell_type": "markdown",
   "metadata": {},
   "source": [
    "Keys are unique so the following code would not add a new key, but rather change the value of the key:"
   ]
  },
  {
   "cell_type": "code",
   "execution_count": 15,
   "metadata": {},
   "outputs": [
    {
     "data": {
      "text/plain": [
       "{'Bill': {'phone': 3125551234, 'email': 'bill@internet.com'},\n",
       " 'Sue': {'phone': 3125552468, 'email': 'sue@email.edu'},\n",
       " 'Dan': {'phone': 3125555678, 'email': 'none'}}"
      ]
     },
     "execution_count": 15,
     "metadata": {},
     "output_type": "execute_result"
    }
   ],
   "source": [
    "addresses['Dan'] = {'phone':3125555678,'email': 'none'}\n",
    "addresses"
   ]
  },
  {
   "cell_type": "markdown",
   "metadata": {},
   "source": [
    "## Working with Dictionary Methods\n",
    "\n",
    "Dictionaries come with built-in methods that make it easy to access and update their contents. We will go through a few of the most commonly used ones, but you can always find out more by reading the [Python documentation](https://docs.python.org/3/tutorial/datastructures.html#dictionaries).\n",
    "\n",
    "The `.keys()` method returns all of the keys in the dictionary.  \n",
    "\n",
    "```python\n",
    "student = {\"name\": \"Alice\", \"age\": 20}\n",
    "print(student.keys())\n",
    "# dict_keys(['name', 'age'])\n",
    "```\n",
    "\n",
    "Notice that the output isn’t a plain list—it’s something called a **view object**, which we’ll talk more about shortly.\n",
    "\n",
    "---\n",
    "\n",
    "### `.values()`\n",
    "\n",
    "The `.values()` method returns all of the values stored in the dictionary.  \n",
    "\n",
    "```python\n",
    "print(student.values())\n",
    "# dict_values(['Alice', 20])\n",
    "```\n",
    "\n",
    "This is useful if you only care about the information stored in the dictionary, not the keys.\n",
    "\n",
    "---\n",
    "\n",
    "### `.items()`\n",
    "\n",
    "The `.items()` method returns both keys and values together, as tuples. Each tuple is a `(key, value)` pair.  \n",
    "\n",
    "```python\n",
    "print(student.items())\n",
    "# dict_items([('name', 'Alice'), ('age', 20)])\n",
    "```\n",
    "\n",
    "This is especially handy when you want to loop through the dictionary and need access to both the keys and the values.\n",
    "\n",
    "---\n",
    "\n",
    "### `.update()`\n",
    "\n",
    "The `.update()` method allows you to add new key–value pairs or overwrite existing ones.  \n",
    "\n",
    "```python\n",
    "student.update({\"age\": 21, \"major\": \"Data Science\"})\n",
    "print(student)\n",
    "# {'name': 'Alice', 'age': 21, 'major': 'Data Science'}\n",
    "```\n",
    "\n",
    "Here, the value for `\"age\"` was updated from `20` to `21`, and a new key `\"major\"` was added.\n",
    "\n",
    "---\n",
    "\n",
    "### A Note on View Objects\n",
    "\n",
    "The results of `.keys()`, `.values()`, and `.items()` are **view objects**, not static lists. A view object acts like a “live window” into the dictionary:\n",
    "\n",
    "- If the dictionary changes, the view updates automatically.  \n",
    "- If you need a snapshot (a fixed list of the current contents), you can convert the view into a list.  \n",
    "\n",
    "```python\n",
    "keys_view = student.keys()\n",
    "print(keys_view)  # dict_keys(['name', 'age', 'major'])\n",
    "\n",
    "# Add another key\n",
    "student[\"GPA\"] = 3.8\n",
    "print(keys_view)  # dict_keys(['name', 'age', 'major', 'GPA'])\n",
    "\n",
    "# Convert to a list if you need a fixed snapshot\n",
    "print(list(student.keys()))  # ['name', 'age', 'major', 'GPA']\n",
    "```\n",
    "\n",
    "This dynamic behavior is powerful, but it can be surprising if you’re not expecting it.\n"
   ]
  },
  {
   "cell_type": "code",
   "execution_count": null,
   "metadata": {},
   "outputs": [],
   "source": [
    "student = {\"name\": \"Alice\", \"age\": 20}\n",
    "print(student.keys())"
   ]
  },
  {
   "cell_type": "markdown",
   "metadata": {},
   "source": [
    "```{note}\n",
    "The output of `.keys()` isn’t a plain list -- it’s something called a **view object**. A view object acts like a “live window” into the dictionary. If the dictionary changes, the view updates automatically. This dynamic behavior is powerful, but it can be surprising if you’re not expecting it.\n",
    "\n",
    "If you need a snapshot (a fixed list of the current contents), you can convert the view into a list using `list()`.\n",
    "```\n",
    "\n",
    "Similar to `.keys()`, the `.values()` method returns all of the *values* stored in the dictionary. Its output is also a view object."
   ]
  },
  {
   "cell_type": "code",
   "execution_count": null,
   "metadata": {},
   "outputs": [],
   "source": [
    "print(student.items())"
   ]
  },
  {
   "cell_type": "markdown",
   "metadata": {},
   "source": [
    "This is useful if you only care about the information stored in the dictionary, not the keys.\n",
    "\n",
    "The `.items()` method returns both keys and values together, as tuples. Each tuple is a `(key, value)` pair and *is also a view object*. "
   ]
  },
  {
   "cell_type": "code",
   "execution_count": null,
   "metadata": {},
   "outputs": [],
   "source": [
    "print(student.items())"
   ]
  },
  {
   "cell_type": "markdown",
   "metadata": {},
   "source": [
    "Be careful when using `.keys()`, `.values()`, and `.items()` because, unless you convert them into a list, they will automatically update whenever the dictionary itself is updated.  \n",
    "\n",
    "In contrast, the `.update()` method does *not* return a view object. Instead, it mutates the dictionary directly by adding new key–value pairs or overwriting existing ones. Like many mutating methods in Python (for example, `list.insert()`), its return value is `None`. You don’t need to reassign the variable because `.update()` modifies the dictionary in place."
   ]
  },
  {
   "cell_type": "code",
   "execution_count": null,
   "metadata": {},
   "outputs": [],
   "source": [
    "student.update({\"age\": 21, \"major\": \"Data Science\"})\n",
    "print(student)"
   ]
  },
  {
   "cell_type": "markdown",
   "metadata": {},
   "source": [
    "Dictionaries are powerful because they let us store values under unique keys. But sometimes, we don’t care about the values at all; we only care about the keys themselves. For example, we might just want to know *whether something exists* in our collection, without needing to store extra information alongside it.  \n",
    "\n",
    "This is where another data structure, the **set**, comes in. Sets are designed specifically for working with unique elements and membership tests, making them a natural next step after dictionaries."
   ]
  },
  {
   "cell_type": "markdown",
   "metadata": {},
   "source": []
  }
 ],
 "metadata": {
  "kernelspec": {
   "display_name": "Python 3 (ipykernel)",
   "language": "python",
   "name": "python3"
  },
  "language_info": {
   "codemirror_mode": {
    "name": "ipython",
    "version": 3
   },
   "file_extension": ".py",
   "mimetype": "text/x-python",
   "name": "python",
   "nbconvert_exporter": "python",
   "pygments_lexer": "ipython3",
   "version": "3.10.6"
  },
  "vscode": {
   "interpreter": {
    "hash": "aee8b7b246df8f9039afb4144a1f6fd8d2ca17a180786b69acc140d282b71a49"
   }
  }
 },
 "nbformat": 4,
 "nbformat_minor": 4
}

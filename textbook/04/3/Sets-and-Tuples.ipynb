{
 "cells": [
  {
   "cell_type": "markdown",
   "id": "04e25d84",
   "metadata": {},
   "source": [
    "| Type            | Ordered | Mutable | Allows Duplicates | Indexed Access | Keys/Values | Typical Uses |\n",
    "|-----------------|---------|---------|------------------|----------------|-------------|--------------|\n",
    "| List            | Yes     | Yes     | Yes              | Yes            | No          | General-purpose collections where order matters |\n",
    "| Tuple           | Yes     | No      | Yes              | Yes            | No          | Fixed collections, function returns, dictionary keys |\n",
    "| Dictionary      | No      | Yes     | Keys: No<br>Values: Yes | By key       | Yes         | Lookups by name/label, storing mappings |\n",
    "| Set             | No      | Yes     | No (all elements unique) | No         | No          | Membership tests, removing duplicates, set operations |\n",
    "| Array (NumPy)   | Yes     | Yes     | Yes              | Yes            | No          | Efficient numerical operations, vectorized math |"
   ]
  }
 ],
 "metadata": {
  "language_info": {
   "name": "python"
  }
 },
 "nbformat": 4,
 "nbformat_minor": 5
}

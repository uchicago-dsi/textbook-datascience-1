{
 "cells": [
  {
   "cell_type": "markdown",
   "metadata": {},
   "source": [
    "# Collections of Data\n",
    "\n",
    "We have looked at how Python can store and manipulate data one element at a time; next we need the ability to store and manipulate many elements at once. Data structures organize data, and choosing the right kind of data structure can make some parts of our analysis particularly simple. Python and its libraries provide many ways to group data together. In this and future chapters, we will discuss some important ones:\n",
    "\n",
    "* Lists\n",
    "* Tuples\n",
    "* Sets\n",
    "* Dictionaries\n",
    "* (numpy) Arrays\n",
    "* (pandas) DataFrames (discussed in [Chapter 6](../06/DataFrames.ipynb))\n",
    "\n",
    "The above are listed in order of increasing functionality and sophistication and, in general, you should use the simplest one that meets your needs."
   ]
  }
 ],
 "metadata": {
  "kernelspec": {
   "display_name": "Python 3 (ipykernel)",
   "language": "python",
   "name": "python3"
  },
  "language_info": {
   "codemirror_mode": {
    "name": "ipython",
    "version": 3
   },
   "file_extension": ".py",
   "mimetype": "text/x-python",
   "name": "python",
   "nbconvert_exporter": "python",
   "pygments_lexer": "ipython3",
   "version": "3.10.6"
  },
  "vscode": {
   "interpreter": {
    "hash": "aee8b7b246df8f9039afb4144a1f6fd8d2ca17a180786b69acc140d282b71a49"
   }
  }
 },
 "nbformat": 4,
 "nbformat_minor": 4
}

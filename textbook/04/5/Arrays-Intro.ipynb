{
 "cells": [
  {
   "cell_type": "markdown",
   "id": "c6234d0a",
   "metadata": {},
   "source": [
    "# Arrays\n",
    "*Amanda R. Kube Jotte*"
   ]
  },
  {
   "cell_type": "markdown",
   "id": "e72d9bce",
   "metadata": {},
   "source": [
    "An **array** is a data structure that stores a collection of elements, usually numbers. Arrays can look similar to lists, but they are designed for numerical work. All elements in an array must be the same type, which makes arrays faster and more efficient for calculations than lists.\n",
    "\n",
    "In Python, arrays are provided by the `numpy` library. Arrays can be one-dimensional (like a simple list) or multi-dimensional (like a table or grid). In this section, we will explore how to create arrays and use some common functions with them."
   ]
  },
  {
   "cell_type": "markdown",
   "id": "77369985",
   "metadata": {},
   "source": [
    "## Creating Arrays\n",
    "\n",
    "The first thing we need to do when working with arrays is import `numpy`. This makes all of the objects, functions, and methods in the `numpy` library available to us in our current Python session.  "
   ]
  },
  {
   "cell_type": "code",
   "execution_count": 2,
   "id": "186372d8",
   "metadata": {},
   "outputs": [],
   "source": [
    "import numpy"
   ]
  },
  {
   "cell_type": "markdown",
   "id": "dd121951",
   "metadata": {},
   "source": [
    "Recall from when we worked with the math module in [Section 3.5](../../03/5/IntroFunctions.ipynb), that we need to use the name of the library followed by a `.` to access its functionality. This `.` is called the **dot operator**. We also use the dot operator when calling methods on objects.\n",
    "\n",
    "With `numpy`, we use the `array()` function to create new arrays. The `array()` function takes in a sequence of data, such as a list, and turns it into an array."
   ]
  },
  {
   "cell_type": "code",
   "execution_count": null,
   "id": "3100d633",
   "metadata": {},
   "outputs": [
    {
     "data": {
      "text/plain": [
       "array(1)"
      ]
     },
     "execution_count": 5,
     "metadata": {},
     "output_type": "execute_result"
    }
   ],
   "source": [
    "numpy.array([1, 2, 3])"
   ]
  },
  {
   "cell_type": "markdown",
   "id": "19d16dc1",
   "metadata": {},
   "source": [
    "::::note\n",
    "Data scientists don’t usually type out the full name of the library `numpy`.  \n",
    "Instead, it is *convention* to abbreviate it as `np`. This practice is called **aliasing**.  \n",
    "\n",
    "We can create this alias by typing:  \n",
    "\n",
    "```python\n",
    "import numpy as np\n",
    "```\n",
    "\n",
    "Now Python knows that `np` refers to `numpy`, and we can rewrite our earlier code as:  \n",
    "\n",
    "```python\n",
    "np.array([1, 2, 3])\n",
    "```\n",
    "::::"
   ]
  },
  {
   "cell_type": "code",
   "execution_count": 7,
   "id": "4fafaddb",
   "metadata": {
    "tags": [
     "remove-cell"
    ]
   },
   "outputs": [],
   "source": [
    "import numpy as np"
   ]
  },
  {
   "cell_type": "markdown",
   "id": "e33ad9a3",
   "metadata": {},
   "source": [
    "Sometimes we want to create arrays containing a long series of values. It can be time-consuming to type out every number by hand.  \n",
    "\n",
    "We can use the `np.arange()` function to generate an array of numbers with uniform spacing.  \n",
    "\n",
    "- With **one argument**, `arange(n)` generates numbers starting at `0` and ending at `n-1`.  \n",
    "- With **two arguments**, `arange(start, stop)` generates numbers starting at `start` and ending at `stop - 1`.  \n",
    "- With **three arguments**, `arange(start, stop, step)` generates numbers starting at `start`, ending before `stop`, and spaced by `step`.  "
   ]
  },
  {
   "cell_type": "code",
   "execution_count": null,
   "id": "2ff1ae6b",
   "metadata": {},
   "outputs": [],
   "source": [
    "np.arange(5)"
   ]
  },
  {
   "cell_type": "code",
   "execution_count": null,
   "id": "3d4d06e7",
   "metadata": {},
   "outputs": [],
   "source": [
    "np.arange(2, 7)"
   ]
  },
  {
   "cell_type": "code",
   "execution_count": null,
   "id": "3bfa734e",
   "metadata": {},
   "outputs": [],
   "source": [
    "np.arange(1, 10, 2)"
   ]
  },
  {
   "cell_type": "code",
   "execution_count": 9,
   "id": "7ae8670a",
   "metadata": {},
   "outputs": [
    {
     "data": {
      "text/plain": [
       "array([1. , 1.1, 1.2, 1.3, 1.4, 1.5, 1.6, 1.7, 1.8, 1.9])"
      ]
     },
     "execution_count": 9,
     "metadata": {},
     "output_type": "execute_result"
    }
   ],
   "source": [
    "np.arange(1, 2, 0.1)"
   ]
  },
  {
   "cell_type": "markdown",
   "id": "0b31777b",
   "metadata": {},
   "source": [
    ":::{note}\n",
    "Python has a built-in function `range` that works similarly to `np.arange`, but it returns a list instead of a `numpy` array. `np.arange` can also use decimal (float) step sizes, which is not possible with plain `range()`.\n",
    ":::\n",
    "\n",
    "::::{Admonition}An Aside\n",
    "You may notice that NumPy prints `1.` instead of `1.0`.  \n",
    "\n",
    "This is just a formatting choice. `numpy` shows numbers in a compact way, and it does not print the trailing zero after the decimal point if it’s not needed.  \n",
    "\n",
    "The value is still the floating-point number `1.0` in Python — it’s only being displayed as `1.`.  \n",
    "::::"
   ]
  },
  {
   "cell_type": "markdown",
   "id": "7e71b117",
   "metadata": {},
   "source": [
    "One of the biggest advantages of arrays is that they allow for convenient **elementwise calculations**. This means that when you perform a mathematical operation on arrays, the operation is applied to each element in turn.  \n",
    "\n",
    "For example, multiplying two arrays *of the same length* multiplies each pair of elements: "
   ]
  },
  {
   "cell_type": "code",
   "execution_count": 12,
   "id": "a8c411f9",
   "metadata": {},
   "outputs": [
    {
     "data": {
      "text/plain": [
       "array([10, 40, 90])"
      ]
     },
     "execution_count": 12,
     "metadata": {},
     "output_type": "execute_result"
    }
   ],
   "source": [
    "a = np.array([1, 2, 3])\n",
    "b = np.array([10, 20, 30])\n",
    "\n",
    "a * b"
   ]
  },
  {
   "cell_type": "markdown",
   "id": "c75ac61b",
   "metadata": {},
   "source": [
    ":::{note}\n",
    "This behavior is different from lists. If you multiply two lists, Python will give you an error. If you multiply a list by a number, it repeats the list instead of doing elementwise multiplication:  \n",
    "\n",
    "```python\n",
    "[1, 2, 3] * 3   # [1, 2, 3, 1, 2, 3, 1, 2, 3]\n",
    "```\n",
    ":::\n",
    "\n",
    "You can add, subtract, or divide arrays similarly:"
   ]
  },
  {
   "cell_type": "code",
   "execution_count": 13,
   "id": "7fd9c319",
   "metadata": {},
   "outputs": [
    {
     "data": {
      "text/plain": [
       "array([19, 38, 57])"
      ]
     },
     "execution_count": 13,
     "metadata": {},
     "output_type": "execute_result"
    }
   ],
   "source": [
    "b - a + b"
   ]
  },
  {
   "cell_type": "code",
   "execution_count": 14,
   "id": "7d93e988",
   "metadata": {},
   "outputs": [
    {
     "data": {
      "text/plain": [
       "array([0.1, 0.1, 0.1])"
      ]
     },
     "execution_count": 14,
     "metadata": {},
     "output_type": "execute_result"
    }
   ],
   "source": [
    "a / b"
   ]
  },
  {
   "cell_type": "markdown",
   "id": "2c972b46",
   "metadata": {},
   "source": [
    "## Multidimensional Arrays and Indexing\n",
    "\n",
    "When performing calculations with multiple arrays, the **shapes** (dimensions) of the arrays must be *compatible*.  \n",
    "\n",
    "You can check the shape of an array using the `.shape` **attribute**. An attribute is information that belongs to an object.\n",
    "\n",
    "Just like we use the dot operator `.` to call a method (a function that belongs to an object), we also use it to access attributes (data that belongs to an object). But, unlike when we use methods, we do not include parentheses `()` after an attribute.\n",
    "\n",
    "For example, we can the `.shape` attribute to tells us the dimensions of an array:"
   ]
  },
  {
   "cell_type": "code",
   "execution_count": 15,
   "id": "8ff767eb",
   "metadata": {},
   "outputs": [
    {
     "data": {
      "text/plain": [
       "(4,)"
      ]
     },
     "execution_count": 15,
     "metadata": {},
     "output_type": "execute_result"
    }
   ],
   "source": [
    "my_array = np.array([5, 7, 9, 11])\n",
    "my_array.shape"
   ]
  },
  {
   "cell_type": "markdown",
   "id": "756c8eb6",
   "metadata": {},
   "source": [
    ":::warning\n",
    "Many students, understandably, confuse functions, methods, and attributes.\n",
    "\n",
    "Remember:\n",
    "- **Functions** are reusable blocks of code that perform a task. Sometimes functions are contained in libraries so we need to use the dot operator to access them: `np.arange()`.\n",
    "- **Methods** are functions that belong to a type of object and act on those objects. We also need the dot operator when using methods, but it comes after an *object* not a library: `list.append()`\n",
    "- **Attributes** are information about an object. They, like methods, belong to the object so we need the dot operator to access them. However, they do not act on the object, so we don't need to use parentheses: `array.shape`.\n",
    "\n",
    ":::\n",
    "\n",
    "The `shape` attribute of an array is a tuple containing the dimensions of the array. The code above produced the tuple `(4,)` which tells us that there are 4 elements in the array. As there is only one element in the tuple, we also know that this is a *one-dimensional* (1d) array. You can think of it as a single row or a simple line of numbers.\n",
    "\n",
    "We can also make arrays with more than one dimension. Below, is a two-dimensional array make by providing `np.array()` with a list of lists."
   ]
  },
  {
   "cell_type": "code",
   "execution_count": 17,
   "id": "936141cd",
   "metadata": {},
   "outputs": [
    {
     "name": "stdout",
     "output_type": "stream",
     "text": [
      "[[ 1  2  3  4]\n",
      " [ 5  6  7  8]\n",
      " [ 9 10 11 12]]\n"
     ]
    },
    {
     "data": {
      "text/plain": [
       "(3, 4)"
      ]
     },
     "execution_count": 17,
     "metadata": {},
     "output_type": "execute_result"
    }
   ],
   "source": [
    "dd = np.array([[1, 2, 3, 4],\n",
    "              [5, 6, 7, 8],\n",
    "              [9, 10, 11, 12]])\n",
    "print(dd)\n",
    "dd.shape"
   ]
  },
  {
   "cell_type": "markdown",
   "id": "38f95d0c",
   "metadata": {},
   "source": [
    "Now the shape tuple contains two numbers, (3, 4) for 3 rows and 4 columns. You can think of a 2d array like a table or spreadsheet.\n",
    "\n",
    "Higher dimensions are possible, too. A (2, 3, 4) array would be three-dimensional (3D) — you can think of it as a stack of 2 separate 3×4 tables."
   ]
  },
  {
   "cell_type": "code",
   "execution_count": null,
   "id": "9a0ef2ec",
   "metadata": {},
   "outputs": [
    {
     "name": "stdout",
     "output_type": "stream",
     "text": [
      "[[[ 1  2  3  4]\n",
      "  [ 5  6  7  8]\n",
      "  [ 9 10 11 12]]\n",
      "\n",
      " [[ 1  2  3  4]\n",
      "  [ 5  6  7  8]\n",
      "  [ 9 10 11 12]]]\n"
     ]
    },
    {
     "data": {
      "text/plain": [
       "(2, 3, 4)"
      ]
     },
     "execution_count": 18,
     "metadata": {},
     "output_type": "execute_result"
    }
   ],
   "source": [
    "ddd = np.array([[[1, 2, 3, 4],\n",
    "              [5, 6, 7, 8],\n",
    "              [9, 10, 11, 12]],\n",
    "              [[13, 14, 15, 16],\n",
    "              [17, 18, 19, 20],\n",
    "              [21, 22, 23, 24]]])\n",
    "print(ddd)\n",
    "ddd.shape"
   ]
  },
  {
   "cell_type": "markdown",
   "id": "61fadfed",
   "metadata": {},
   "source": [
    "We can retrieve individual elements of arrays by indexing. For 1d arrays, indexing works in the same way it works for [lists](../1/Lists.ipynb)."
   ]
  },
  {
   "cell_type": "code",
   "execution_count": 49,
   "id": "46e16d32",
   "metadata": {},
   "outputs": [
    {
     "name": "stdout",
     "output_type": "stream",
     "text": [
      "[ 5  7  9 11]\n"
     ]
    },
    {
     "data": {
      "text/plain": [
       "9"
      ]
     },
     "execution_count": 49,
     "metadata": {},
     "output_type": "execute_result"
    }
   ],
   "source": [
    "print(my_array)\n",
    "my_array[2]"
   ]
  },
  {
   "cell_type": "code",
   "execution_count": 51,
   "id": "d2742759",
   "metadata": {},
   "outputs": [
    {
     "data": {
      "text/plain": [
       "array([7, 9])"
      ]
     },
     "execution_count": 51,
     "metadata": {},
     "output_type": "execute_result"
    }
   ],
   "source": [
    "my_array[1:3]"
   ]
  },
  {
   "cell_type": "markdown",
   "id": "ed0be994",
   "metadata": {},
   "source": [
    "When working with a multidimensional array, the same indexing rules apply as with one-dimensional arrays. The difference is that we now have to provide an index for each dimension of the array.\n",
    "\n",
    "You can think of a multidimensional array as an *array of arrays*. Each inner array has its own indices, and we use a comma-separated list of indices to locate a specific element.\n",
    "\n",
    "For example, the following is a 2 dimensional array."
   ]
  },
  {
   "cell_type": "code",
   "execution_count": null,
   "id": "b1d0449b",
   "metadata": {},
   "outputs": [
    {
     "data": {
      "text/plain": [
       "array([[1, 2, 3],\n",
       "       [4, 5, 6],\n",
       "       [7, 8, 9]])"
      ]
     },
     "execution_count": 52,
     "metadata": {},
     "output_type": "execute_result"
    }
   ],
   "source": [
    "j = np.array([[1, 2, 3],\n",
    "              [4, 5, 6],\n",
    "              [7, 8, 9]])\n",
    "j"
   ]
  },
  {
   "cell_type": "markdown",
   "id": "f7724a3c",
   "metadata": {},
   "source": [
    "Providing a single index chooses one of the inner arrays."
   ]
  },
  {
   "cell_type": "code",
   "execution_count": null,
   "id": "a16d41e6",
   "metadata": {},
   "outputs": [
    {
     "data": {
      "text/plain": [
       "array([1, 2, 3])"
      ]
     },
     "execution_count": 53,
     "metadata": {},
     "output_type": "execute_result"
    }
   ],
   "source": [
    "j[0]"
   ]
  },
  {
   "cell_type": "markdown",
   "id": "c5c8e536",
   "metadata": {},
   "source": [
    "Providing a second index chooses an element within that array."
   ]
  },
  {
   "cell_type": "code",
   "execution_count": null,
   "id": "df2a18ca",
   "metadata": {},
   "outputs": [
    {
     "data": {
      "text/plain": [
       "2"
      ]
     },
     "execution_count": 54,
     "metadata": {},
     "output_type": "execute_result"
    }
   ],
   "source": [
    "j[0,1]"
   ]
  },
  {
   "cell_type": "markdown",
   "id": "2721d2ba",
   "metadata": {},
   "source": [
    "We can also use slices, like we did with lists."
   ]
  },
  {
   "cell_type": "code",
   "execution_count": null,
   "id": "ca5fda1c",
   "metadata": {},
   "outputs": [
    {
     "data": {
      "text/plain": [
       "array([5, 6])"
      ]
     },
     "execution_count": 56,
     "metadata": {},
     "output_type": "execute_result"
    }
   ],
   "source": [
    "j[1, 1:3]"
   ]
  },
  {
   "cell_type": "markdown",
   "id": "3016f444",
   "metadata": {},
   "source": [
    "If we have a 3-dimensional array, we then need 3 indices. See if you can follow this example."
   ]
  },
  {
   "cell_type": "code",
   "execution_count": null,
   "id": "99e03a27",
   "metadata": {},
   "outputs": [
    {
     "name": "stdout",
     "output_type": "stream",
     "text": [
      "(2, 2, 4)\n"
     ]
    },
    {
     "data": {
      "text/plain": [
       "array([14])"
      ]
     },
     "execution_count": 58,
     "metadata": {},
     "output_type": "execute_result"
    }
   ],
   "source": [
    "k = np.array([[[1, 2, 3, 4], [5, 6, 7, 8]],\n",
    "              [[9, 10 , 11, 12], [13, 14, 15, 16]]])\n",
    "\n",
    "print(k.shape)\n",
    "\n",
    "k[1,0,1:2:]"
   ]
  },
  {
   "cell_type": "markdown",
   "id": "bce92cc1",
   "metadata": {},
   "source": [
    "The first index, 1, selects the second element in the outer array: `[[9, 10 , 11, 12], [13, 14, 15, 16]]`. The second index, 0, selects the first element of that array: `[9, 10 , 11, 12]`. Then we slice the resulting array starting at index 1 and going through (but not including) the end of the array with a step of 2. This results in only `10` as we stop before reaching `12`."
   ]
  },
  {
   "cell_type": "markdown",
   "id": "cfb21c77",
   "metadata": {},
   "source": [
    "## Broadcasting\n",
    "\n",
    "When you do mathematical operations on arrays, NumPy normally expects the arrays to have the same shape. But sometimes, the shapes are different. For example, we might add a scalar to a whole array.\n",
    "\n",
    "Instead of giving an error, `numpy` uses a set of rules called **broadcasting**. Broadcasting is the process of automatically stretching/repeating one array so that its shape matches the other, allowing elementwise operations to work.\n",
    "\n",
    "To decide if two arrays can be broadcast, `numpy` compares their shapes *from right to left*. For each dimension, one of these must be true:\n",
    "\n",
    "1. The sizes are the same, or\n",
    "2. One of the sizes is 1.\n",
    "\n",
    "If all dimensions meet these conditions, the arrays are *compatible*.\n",
    "\n",
    "\n",
    "For example, the arrays below have different shapes..."
   ]
  },
  {
   "cell_type": "code",
   "execution_count": 19,
   "id": "d4790d91",
   "metadata": {},
   "outputs": [
    {
     "name": "stdout",
     "output_type": "stream",
     "text": [
      "(3,)\n",
      "(1,)\n"
     ]
    },
    {
     "data": {
      "text/plain": [
       "array([6, 7, 8])"
      ]
     },
     "execution_count": 19,
     "metadata": {},
     "output_type": "execute_result"
    }
   ],
   "source": [
    "larger = np.array([1, 2, 3])\n",
    "smaller = np.array([5])\n",
    "\n",
    "print(larger.shape)\n",
    "print(smaller.shape)\n",
    "\n",
    "larger + smaller"
   ]
  },
  {
   "cell_type": "markdown",
   "id": "559bb5b0",
   "metadata": {},
   "source": [
    "...but Python broadcasts the shorter array to make it the same size as the larger array. Essentially performing the following:"
   ]
  },
  {
   "cell_type": "code",
   "execution_count": 20,
   "id": "c93484a7",
   "metadata": {},
   "outputs": [
    {
     "data": {
      "text/plain": [
       "array([6, 7, 8])"
      ]
     },
     "execution_count": 20,
     "metadata": {},
     "output_type": "execute_result"
    }
   ],
   "source": [
    "larger + np.array([5, 5, 5])"
   ]
  },
  {
   "cell_type": "markdown",
   "id": "303f58b4",
   "metadata": {},
   "source": [
    "This would also work if we used the scalar `5` instead of a single-element array."
   ]
  },
  {
   "cell_type": "code",
   "execution_count": 21,
   "id": "e34eab14",
   "metadata": {},
   "outputs": [
    {
     "data": {
      "text/plain": [
       "array([6, 7, 8])"
      ]
     },
     "execution_count": 21,
     "metadata": {},
     "output_type": "execute_result"
    }
   ],
   "source": [
    "larger + 5"
   ]
  },
  {
   "cell_type": "markdown",
   "id": "4b618914",
   "metadata": {},
   "source": [
    "This allows us to do calculations like:"
   ]
  },
  {
   "cell_type": "code",
   "execution_count": 22,
   "id": "5d8b8a60",
   "metadata": {},
   "outputs": [
    {
     "data": {
      "text/plain": [
       "array([5.1, 5.2, 5.3])"
      ]
     },
     "execution_count": 22,
     "metadata": {},
     "output_type": "execute_result"
    }
   ],
   "source": [
    "larger / 10 + 5"
   ]
  },
  {
   "cell_type": "markdown",
   "id": "9b62f180",
   "metadata": {},
   "source": [
    "\n",
    "The following would also work:"
   ]
  },
  {
   "cell_type": "code",
   "execution_count": null,
   "id": "b5486203",
   "metadata": {},
   "outputs": [
    {
     "name": "stdout",
     "output_type": "stream",
     "text": [
      "(3, 3) (3,)\n"
     ]
    },
    {
     "data": {
      "text/plain": [
       "array([[11, 22, 33],\n",
       "       [14, 25, 36],\n",
       "       [17, 28, 39]])"
      ]
     },
     "execution_count": 26,
     "metadata": {},
     "output_type": "execute_result"
    }
   ],
   "source": [
    "m = np.array([[1, 2, 3],\n",
    "              [4, 5, 6],\n",
    "              [7, 8, 9]])\n",
    "\n",
    "n = np.array([10, 20, 30])\n",
    "\n",
    "print(m.shape, n.shape)\n",
    "\n",
    "m + n"
   ]
  },
  {
   "cell_type": "markdown",
   "id": "0dbcf793",
   "metadata": {},
   "source": [
    "From right to left, we compare 3 and 1 then, 3 and 3. The first pair contains a 1, the second are exactly the same."
   ]
  },
  {
   "cell_type": "markdown",
   "id": "699f3d3f",
   "metadata": {},
   "source": [
    "Not all shapes can be broadcast together."
   ]
  },
  {
   "cell_type": "code",
   "execution_count": 27,
   "id": "10899701",
   "metadata": {},
   "outputs": [
    {
     "name": "stdout",
     "output_type": "stream",
     "text": [
      "(3,) (2,)\n"
     ]
    },
    {
     "ename": "ValueError",
     "evalue": "operands could not be broadcast together with shapes (3,) (2,) ",
     "output_type": "error",
     "traceback": [
      "\u001b[0;31m---------------------------------------------------------------------------\u001b[0m",
      "\u001b[0;31mValueError\u001b[0m                                Traceback (most recent call last)",
      "Cell \u001b[0;32mIn[27], line 6\u001b[0m\n\u001b[1;32m      2\u001b[0m y \u001b[38;5;241m=\u001b[39m np\u001b[38;5;241m.\u001b[39marray([\u001b[38;5;241m1\u001b[39m, \u001b[38;5;241m2\u001b[39m])\n\u001b[1;32m      4\u001b[0m \u001b[38;5;28mprint\u001b[39m(x\u001b[38;5;241m.\u001b[39mshape, y\u001b[38;5;241m.\u001b[39mshape)\n\u001b[0;32m----> 6\u001b[0m \u001b[43mx\u001b[49m\u001b[43m \u001b[49m\u001b[38;5;241;43m+\u001b[39;49m\u001b[43m \u001b[49m\u001b[43my\u001b[49m\n",
      "\u001b[0;31mValueError\u001b[0m: operands could not be broadcast together with shapes (3,) (2,) "
     ]
    }
   ],
   "source": [
    "x = np.array([1, 2, 3])\n",
    "y = np.array([1, 2])\n",
    "\n",
    "print(x.shape, y.shape)\n",
    "\n",
    "x + y"
   ]
  },
  {
   "cell_type": "markdown",
   "id": "0779c05a",
   "metadata": {},
   "source": [
    "Above, we compare the sizes 1 and 1, then 3 and 2. The second pair is not a match and does not contain 1 so Python raises a `ValueError`."
   ]
  },
  {
   "cell_type": "markdown",
   "id": "5e772d89",
   "metadata": {},
   "source": [
    "## Reshaping and Combining Arrays\n",
    "\n",
    "So far, we have worked with arrays in one shape at a time — a row of numbers, or a simple table. But in practice, data does not always arrive in the shape we want. Sometimes we need to reorganize it into rows and columns, or prepare it for broadcasting with another array.\n",
    "\n",
    "`Numpy` has a `reshape()` method that lets us change the shape of an array, without changing the data itself. For example, the 1d array below..."
   ]
  },
  {
   "cell_type": "code",
   "execution_count": 32,
   "id": "d7c77b2e-bd5e-45d4-acb8-dc30395bf8f5",
   "metadata": {},
   "outputs": [
    {
     "data": {
      "text/plain": [
       "array([  1,   2,   3,   4,   5,   6,   7,   8,   9,  10,  11,  12,  13,\n",
       "        14,  15,  16,  17,  18,  19,  20,  21,  22,  23,  24,  25,  26,\n",
       "        27,  28,  29,  30,  31,  32,  33,  34,  35,  36,  37,  38,  39,\n",
       "        40,  41,  42,  43,  44,  45,  46,  47,  48,  49,  50,  51,  52,\n",
       "        53,  54,  55,  56,  57,  58,  59,  60,  61,  62,  63,  64,  65,\n",
       "        66,  67,  68,  69,  70,  71,  72,  73,  74,  75,  76,  77,  78,\n",
       "        79,  80,  81,  82,  83,  84,  85,  86,  87,  88,  89,  90,  91,\n",
       "        92,  93,  94,  95,  96,  97,  98,  99, 100])"
      ]
     },
     "execution_count": 32,
     "metadata": {},
     "output_type": "execute_result"
    }
   ],
   "source": [
    "flat = np.arange(1,101)\n",
    "flat"
   ]
  },
  {
   "cell_type": "markdown",
   "id": "7bba5fb1",
   "metadata": {},
   "source": [
    "...can be reshaped to have 20 rows and 5 columns..."
   ]
  },
  {
   "cell_type": "code",
   "execution_count": 34,
   "id": "63529f0f",
   "metadata": {},
   "outputs": [
    {
     "data": {
      "text/plain": [
       "array([[  1,   2,   3,   4,   5],\n",
       "       [  6,   7,   8,   9,  10],\n",
       "       [ 11,  12,  13,  14,  15],\n",
       "       [ 16,  17,  18,  19,  20],\n",
       "       [ 21,  22,  23,  24,  25],\n",
       "       [ 26,  27,  28,  29,  30],\n",
       "       [ 31,  32,  33,  34,  35],\n",
       "       [ 36,  37,  38,  39,  40],\n",
       "       [ 41,  42,  43,  44,  45],\n",
       "       [ 46,  47,  48,  49,  50],\n",
       "       [ 51,  52,  53,  54,  55],\n",
       "       [ 56,  57,  58,  59,  60],\n",
       "       [ 61,  62,  63,  64,  65],\n",
       "       [ 66,  67,  68,  69,  70],\n",
       "       [ 71,  72,  73,  74,  75],\n",
       "       [ 76,  77,  78,  79,  80],\n",
       "       [ 81,  82,  83,  84,  85],\n",
       "       [ 86,  87,  88,  89,  90],\n",
       "       [ 91,  92,  93,  94,  95],\n",
       "       [ 96,  97,  98,  99, 100]])"
      ]
     },
     "execution_count": 34,
     "metadata": {},
     "output_type": "execute_result"
    }
   ],
   "source": [
    "np.reshape(flat, (20,5))"
   ]
  },
  {
   "cell_type": "markdown",
   "id": "448520b6",
   "metadata": {},
   "source": [
    "...or to be a 10 by 10 grid."
   ]
  },
  {
   "cell_type": "code",
   "execution_count": 35,
   "id": "49021c50",
   "metadata": {},
   "outputs": [
    {
     "data": {
      "text/plain": [
       "array([[  1,   2,   3,   4,   5,   6,   7,   8,   9,  10],\n",
       "       [ 11,  12,  13,  14,  15,  16,  17,  18,  19,  20],\n",
       "       [ 21,  22,  23,  24,  25,  26,  27,  28,  29,  30],\n",
       "       [ 31,  32,  33,  34,  35,  36,  37,  38,  39,  40],\n",
       "       [ 41,  42,  43,  44,  45,  46,  47,  48,  49,  50],\n",
       "       [ 51,  52,  53,  54,  55,  56,  57,  58,  59,  60],\n",
       "       [ 61,  62,  63,  64,  65,  66,  67,  68,  69,  70],\n",
       "       [ 71,  72,  73,  74,  75,  76,  77,  78,  79,  80],\n",
       "       [ 81,  82,  83,  84,  85,  86,  87,  88,  89,  90],\n",
       "       [ 91,  92,  93,  94,  95,  96,  97,  98,  99, 100]])"
      ]
     },
     "execution_count": 35,
     "metadata": {},
     "output_type": "execute_result"
    }
   ],
   "source": [
    "np.reshape(flat, (10,10))"
   ]
  },
  {
   "cell_type": "markdown",
   "id": "da379125",
   "metadata": {},
   "source": [
    "Be careful that the dimensions you provide to `reshape()` match the size of the data you are reshaping. For example, I cannot fit 100 values into 10 rows and 9 columns..."
   ]
  },
  {
   "cell_type": "code",
   "execution_count": 36,
   "id": "42083368",
   "metadata": {},
   "outputs": [
    {
     "ename": "ValueError",
     "evalue": "cannot reshape array of size 100 into shape (10,9)",
     "output_type": "error",
     "traceback": [
      "\u001b[0;31m---------------------------------------------------------------------------\u001b[0m",
      "\u001b[0;31mValueError\u001b[0m                                Traceback (most recent call last)",
      "Cell \u001b[0;32mIn[36], line 1\u001b[0m\n\u001b[0;32m----> 1\u001b[0m \u001b[43mnp\u001b[49m\u001b[38;5;241;43m.\u001b[39;49m\u001b[43mreshape\u001b[49m\u001b[43m(\u001b[49m\u001b[43mflat\u001b[49m\u001b[43m,\u001b[49m\u001b[43m \u001b[49m\u001b[43m(\u001b[49m\u001b[38;5;241;43m10\u001b[39;49m\u001b[43m,\u001b[49m\u001b[38;5;241;43m9\u001b[39;49m\u001b[43m)\u001b[49m\u001b[43m)\u001b[49m\n",
      "File \u001b[0;32m~/Library/Python/3.9/lib/python/site-packages/numpy/core/fromnumeric.py:285\u001b[0m, in \u001b[0;36mreshape\u001b[0;34m(a, newshape, order)\u001b[0m\n\u001b[1;32m    200\u001b[0m \u001b[38;5;129m@array_function_dispatch\u001b[39m(_reshape_dispatcher)\n\u001b[1;32m    201\u001b[0m \u001b[38;5;28;01mdef\u001b[39;00m \u001b[38;5;21mreshape\u001b[39m(a, newshape, order\u001b[38;5;241m=\u001b[39m\u001b[38;5;124m'\u001b[39m\u001b[38;5;124mC\u001b[39m\u001b[38;5;124m'\u001b[39m):\n\u001b[1;32m    202\u001b[0m \u001b[38;5;250m    \u001b[39m\u001b[38;5;124;03m\"\"\"\u001b[39;00m\n\u001b[1;32m    203\u001b[0m \u001b[38;5;124;03m    Gives a new shape to an array without changing its data.\u001b[39;00m\n\u001b[1;32m    204\u001b[0m \n\u001b[0;32m   (...)\u001b[0m\n\u001b[1;32m    283\u001b[0m \u001b[38;5;124;03m           [5, 6]])\u001b[39;00m\n\u001b[1;32m    284\u001b[0m \u001b[38;5;124;03m    \"\"\"\u001b[39;00m\n\u001b[0;32m--> 285\u001b[0m     \u001b[38;5;28;01mreturn\u001b[39;00m \u001b[43m_wrapfunc\u001b[49m\u001b[43m(\u001b[49m\u001b[43ma\u001b[49m\u001b[43m,\u001b[49m\u001b[43m \u001b[49m\u001b[38;5;124;43m'\u001b[39;49m\u001b[38;5;124;43mreshape\u001b[39;49m\u001b[38;5;124;43m'\u001b[39;49m\u001b[43m,\u001b[49m\u001b[43m \u001b[49m\u001b[43mnewshape\u001b[49m\u001b[43m,\u001b[49m\u001b[43m \u001b[49m\u001b[43morder\u001b[49m\u001b[38;5;241;43m=\u001b[39;49m\u001b[43morder\u001b[49m\u001b[43m)\u001b[49m\n",
      "File \u001b[0;32m~/Library/Python/3.9/lib/python/site-packages/numpy/core/fromnumeric.py:59\u001b[0m, in \u001b[0;36m_wrapfunc\u001b[0;34m(obj, method, *args, **kwds)\u001b[0m\n\u001b[1;32m     56\u001b[0m     \u001b[38;5;28;01mreturn\u001b[39;00m _wrapit(obj, method, \u001b[38;5;241m*\u001b[39margs, \u001b[38;5;241m*\u001b[39m\u001b[38;5;241m*\u001b[39mkwds)\n\u001b[1;32m     58\u001b[0m \u001b[38;5;28;01mtry\u001b[39;00m:\n\u001b[0;32m---> 59\u001b[0m     \u001b[38;5;28;01mreturn\u001b[39;00m \u001b[43mbound\u001b[49m\u001b[43m(\u001b[49m\u001b[38;5;241;43m*\u001b[39;49m\u001b[43margs\u001b[49m\u001b[43m,\u001b[49m\u001b[43m \u001b[49m\u001b[38;5;241;43m*\u001b[39;49m\u001b[38;5;241;43m*\u001b[39;49m\u001b[43mkwds\u001b[49m\u001b[43m)\u001b[49m\n\u001b[1;32m     60\u001b[0m \u001b[38;5;28;01mexcept\u001b[39;00m \u001b[38;5;167;01mTypeError\u001b[39;00m:\n\u001b[1;32m     61\u001b[0m     \u001b[38;5;66;03m# A TypeError occurs if the object does have such a method in its\u001b[39;00m\n\u001b[1;32m     62\u001b[0m     \u001b[38;5;66;03m# class, but its signature is not identical to that of NumPy's. This\u001b[39;00m\n\u001b[0;32m   (...)\u001b[0m\n\u001b[1;32m     66\u001b[0m     \u001b[38;5;66;03m# Call _wrapit from within the except clause to ensure a potential\u001b[39;00m\n\u001b[1;32m     67\u001b[0m     \u001b[38;5;66;03m# exception has a traceback chain.\u001b[39;00m\n\u001b[1;32m     68\u001b[0m     \u001b[38;5;28;01mreturn\u001b[39;00m _wrapit(obj, method, \u001b[38;5;241m*\u001b[39margs, \u001b[38;5;241m*\u001b[39m\u001b[38;5;241m*\u001b[39mkwds)\n",
      "\u001b[0;31mValueError\u001b[0m: cannot reshape array of size 100 into shape (10,9)"
     ]
    }
   ],
   "source": [
    "np.reshape(flat, (10,9))"
   ]
  },
  {
   "cell_type": "markdown",
   "id": "5b9e48fa",
   "metadata": {},
   "source": [
    "...or into 12 rows and 12 columns."
   ]
  },
  {
   "cell_type": "code",
   "execution_count": 37,
   "id": "2dab5f19",
   "metadata": {},
   "outputs": [
    {
     "ename": "ValueError",
     "evalue": "cannot reshape array of size 100 into shape (12,12)",
     "output_type": "error",
     "traceback": [
      "\u001b[0;31m---------------------------------------------------------------------------\u001b[0m",
      "\u001b[0;31mValueError\u001b[0m                                Traceback (most recent call last)",
      "Cell \u001b[0;32mIn[37], line 1\u001b[0m\n\u001b[0;32m----> 1\u001b[0m \u001b[43mnp\u001b[49m\u001b[38;5;241;43m.\u001b[39;49m\u001b[43mreshape\u001b[49m\u001b[43m(\u001b[49m\u001b[43mflat\u001b[49m\u001b[43m,\u001b[49m\u001b[43m \u001b[49m\u001b[43m(\u001b[49m\u001b[38;5;241;43m12\u001b[39;49m\u001b[43m,\u001b[49m\u001b[38;5;241;43m12\u001b[39;49m\u001b[43m)\u001b[49m\u001b[43m)\u001b[49m\n",
      "File \u001b[0;32m~/Library/Python/3.9/lib/python/site-packages/numpy/core/fromnumeric.py:285\u001b[0m, in \u001b[0;36mreshape\u001b[0;34m(a, newshape, order)\u001b[0m\n\u001b[1;32m    200\u001b[0m \u001b[38;5;129m@array_function_dispatch\u001b[39m(_reshape_dispatcher)\n\u001b[1;32m    201\u001b[0m \u001b[38;5;28;01mdef\u001b[39;00m \u001b[38;5;21mreshape\u001b[39m(a, newshape, order\u001b[38;5;241m=\u001b[39m\u001b[38;5;124m'\u001b[39m\u001b[38;5;124mC\u001b[39m\u001b[38;5;124m'\u001b[39m):\n\u001b[1;32m    202\u001b[0m \u001b[38;5;250m    \u001b[39m\u001b[38;5;124;03m\"\"\"\u001b[39;00m\n\u001b[1;32m    203\u001b[0m \u001b[38;5;124;03m    Gives a new shape to an array without changing its data.\u001b[39;00m\n\u001b[1;32m    204\u001b[0m \n\u001b[0;32m   (...)\u001b[0m\n\u001b[1;32m    283\u001b[0m \u001b[38;5;124;03m           [5, 6]])\u001b[39;00m\n\u001b[1;32m    284\u001b[0m \u001b[38;5;124;03m    \"\"\"\u001b[39;00m\n\u001b[0;32m--> 285\u001b[0m     \u001b[38;5;28;01mreturn\u001b[39;00m \u001b[43m_wrapfunc\u001b[49m\u001b[43m(\u001b[49m\u001b[43ma\u001b[49m\u001b[43m,\u001b[49m\u001b[43m \u001b[49m\u001b[38;5;124;43m'\u001b[39;49m\u001b[38;5;124;43mreshape\u001b[39;49m\u001b[38;5;124;43m'\u001b[39;49m\u001b[43m,\u001b[49m\u001b[43m \u001b[49m\u001b[43mnewshape\u001b[49m\u001b[43m,\u001b[49m\u001b[43m \u001b[49m\u001b[43morder\u001b[49m\u001b[38;5;241;43m=\u001b[39;49m\u001b[43morder\u001b[49m\u001b[43m)\u001b[49m\n",
      "File \u001b[0;32m~/Library/Python/3.9/lib/python/site-packages/numpy/core/fromnumeric.py:59\u001b[0m, in \u001b[0;36m_wrapfunc\u001b[0;34m(obj, method, *args, **kwds)\u001b[0m\n\u001b[1;32m     56\u001b[0m     \u001b[38;5;28;01mreturn\u001b[39;00m _wrapit(obj, method, \u001b[38;5;241m*\u001b[39margs, \u001b[38;5;241m*\u001b[39m\u001b[38;5;241m*\u001b[39mkwds)\n\u001b[1;32m     58\u001b[0m \u001b[38;5;28;01mtry\u001b[39;00m:\n\u001b[0;32m---> 59\u001b[0m     \u001b[38;5;28;01mreturn\u001b[39;00m \u001b[43mbound\u001b[49m\u001b[43m(\u001b[49m\u001b[38;5;241;43m*\u001b[39;49m\u001b[43margs\u001b[49m\u001b[43m,\u001b[49m\u001b[43m \u001b[49m\u001b[38;5;241;43m*\u001b[39;49m\u001b[38;5;241;43m*\u001b[39;49m\u001b[43mkwds\u001b[49m\u001b[43m)\u001b[49m\n\u001b[1;32m     60\u001b[0m \u001b[38;5;28;01mexcept\u001b[39;00m \u001b[38;5;167;01mTypeError\u001b[39;00m:\n\u001b[1;32m     61\u001b[0m     \u001b[38;5;66;03m# A TypeError occurs if the object does have such a method in its\u001b[39;00m\n\u001b[1;32m     62\u001b[0m     \u001b[38;5;66;03m# class, but its signature is not identical to that of NumPy's. This\u001b[39;00m\n\u001b[0;32m   (...)\u001b[0m\n\u001b[1;32m     66\u001b[0m     \u001b[38;5;66;03m# Call _wrapit from within the except clause to ensure a potential\u001b[39;00m\n\u001b[1;32m     67\u001b[0m     \u001b[38;5;66;03m# exception has a traceback chain.\u001b[39;00m\n\u001b[1;32m     68\u001b[0m     \u001b[38;5;28;01mreturn\u001b[39;00m _wrapit(obj, method, \u001b[38;5;241m*\u001b[39margs, \u001b[38;5;241m*\u001b[39m\u001b[38;5;241m*\u001b[39mkwds)\n",
      "\u001b[0;31mValueError\u001b[0m: cannot reshape array of size 100 into shape (12,12)"
     ]
    }
   ],
   "source": [
    "np.reshape(flat, (12,12))"
   ]
  },
  {
   "cell_type": "markdown",
   "id": "0a8a313c",
   "metadata": {},
   "source": [
    "Not only can we reshape an array, but we can also *concatenate* arrays - meaning we can stack arrays together - using the functions `np.row_stack()` and `np.column_stack()`. These functions take 1d or 2d arrays *as a tuple* and combine them to create 2d arrays. Like with mathematical operations, arrays must have compatible shapes in order to stack them.\n",
    "\n",
    "To use `np.row_stack()`, arrays must have the same number of rows.\n"
   ]
  },
  {
   "cell_type": "code",
   "execution_count": 45,
   "id": "136613c5",
   "metadata": {},
   "outputs": [
    {
     "name": "stdout",
     "output_type": "stream",
     "text": [
      "(3,) (3, 3)\n"
     ]
    },
    {
     "data": {
      "text/plain": [
       "array([[7, 8, 9],\n",
       "       [9, 8, 7],\n",
       "       [9, 8, 7],\n",
       "       [9, 8, 7]])"
      ]
     },
     "execution_count": 45,
     "metadata": {},
     "output_type": "execute_result"
    }
   ],
   "source": [
    "one_array = np.array([7, 8, 9])\n",
    "another_array = np.array([[9, 8, 7],\n",
    "                          [9, 8, 7],\n",
    "                          [9, 8, 7]])\n",
    "\n",
    "print(one_array.shape, another_array.shape)\n",
    "\n",
    "combined_row = np.row_stack((one_array, another_array))\n",
    "combined_row"
   ]
  },
  {
   "cell_type": "markdown",
   "id": "546f16ea",
   "metadata": {},
   "source": [
    "To use `np.column_stack()`, arrays must have the same number of columns."
   ]
  },
  {
   "cell_type": "code",
   "execution_count": 44,
   "id": "4bef6c20",
   "metadata": {},
   "outputs": [
    {
     "name": "stdout",
     "output_type": "stream",
     "text": [
      "[[7]\n",
      " [8]\n",
      " [9]]\n"
     ]
    },
    {
     "data": {
      "text/plain": [
       "array([[7, 9, 8, 7],\n",
       "       [8, 9, 8, 7],\n",
       "       [9, 9, 8, 7]])"
      ]
     },
     "execution_count": 44,
     "metadata": {},
     "output_type": "execute_result"
    }
   ],
   "source": [
    "one_array_col = np.reshape(one_array, (3,1))\n",
    "\n",
    "print(one_array_col)\n",
    "\n",
    "combined_col = np.column_stack((one_array_col, another_array))\n",
    "combined_col"
   ]
  },
  {
   "cell_type": "markdown",
   "id": "3b6bc94d",
   "metadata": {},
   "source": [
    "## Mathematical Functions\n",
    "\n",
    "So far, we’ve seen that arrays can be reshaped and combined, and that NumPy lets us perform elementwise arithmetic. But, the real power of arrays, comes from the many mathematical functions available in `numpy`. Some especially useful aggregate functions include `np.min()`, `np.max()`, `np.sum()`, and `np.average()`.\n",
    "\n",
    "These can be applied to the entire array, or restricted to a particular axis (rows or columns) in multidimensional arrays.\n",
    "\n",
    "Applying these functions to the whole array means that all values are included in the calculation, and the result is a single summary value."
   ]
  },
  {
   "cell_type": "code",
   "execution_count": 46,
   "id": "09ec58cd",
   "metadata": {},
   "outputs": [
    {
     "name": "stdout",
     "output_type": "stream",
     "text": [
      "[[7 9 8 7]\n",
      " [8 9 8 7]\n",
      " [9 9 8 7]]\n"
     ]
    },
    {
     "data": {
      "text/plain": [
       "7"
      ]
     },
     "execution_count": 46,
     "metadata": {},
     "output_type": "execute_result"
    }
   ],
   "source": [
    "print(combined_col)\n",
    "np.min(combined_col)"
   ]
  },
  {
   "cell_type": "markdown",
   "id": "73ee6b57",
   "metadata": {},
   "source": [
    "To apply these functions across columns of the array, use an `axis=0` argument. To apply them across rows, use an `axis=1` argument. The returned array will be the same length as the number of columns or rows."
   ]
  },
  {
   "cell_type": "code",
   "execution_count": null,
   "id": "4856de65",
   "metadata": {},
   "outputs": [
    {
     "data": {
      "text/plain": [
       "array([24, 27, 24, 21])"
      ]
     },
     "execution_count": 47,
     "metadata": {},
     "output_type": "execute_result"
    }
   ],
   "source": [
    "np.sum(combined_col, axis=0)"
   ]
  },
  {
   "cell_type": "code",
   "execution_count": 48,
   "id": "dc5a9be6",
   "metadata": {},
   "outputs": [
    {
     "data": {
      "text/plain": [
       "array([7.75, 8.  , 8.25])"
      ]
     },
     "execution_count": 48,
     "metadata": {},
     "output_type": "execute_result"
    }
   ],
   "source": [
    "np.average(combined_col, axis=1)"
   ]
  },
  {
   "cell_type": "markdown",
   "id": "92056223",
   "metadata": {},
   "source": [
    "Not all `numpy` mathematical functions aggregate data. Some can be applied to transform elements within an array. Some include `np.sqrt()`, `np.power()`, and `np.log()`. \n",
    "\n",
    "For example, this code takes each element in the array to the third power."
   ]
  },
  {
   "cell_type": "code",
   "execution_count": 50,
   "id": "a7ac141b",
   "metadata": {},
   "outputs": [
    {
     "data": {
      "text/plain": [
       "array([ 1,  8, 27])"
      ]
     },
     "execution_count": 50,
     "metadata": {},
     "output_type": "execute_result"
    }
   ],
   "source": [
    "np.power(np.array([1, 2, 3]), 3)"
   ]
  },
  {
   "cell_type": "markdown",
   "id": "5c30409d",
   "metadata": {},
   "source": [
    "You can find more information on these and many other mathematical functions in the [`numpy` documentation](https://numpy.org/doc/stable/reference/routines.math.html#)."
   ]
  },
  {
   "cell_type": "markdown",
   "id": "a8123e71",
   "metadata": {},
   "source": [
    "This chapter covered 5 different ways of organizing data: lists, tuples, dictionaries, sets, and arrays. The following table summarizes them to help you compare, contrast, and decide which object to use when.\n",
    "\n",
    "| Type            | Ordered | Mutable | Allows Duplicates | Indexed Access  | Typical Uses |\n",
    "|-----------------|---------|---------|-------------------|-----------------|--------------|\n",
    "| List            | Yes     | Yes     | Yes              | Yes             | General-purpose collections where order matters |\n",
    "| Tuple           | Yes     | No      | Yes              | Yes            | Fixed collections, function returns|\n",
    "| Dictionary      | No      | Yes     | Keys: No<br>Values: Yes | By key       | Lookups by name/label, storing mappings |\n",
    "| Set             | No      | Yes     | No | No         | Membership tests, removing duplicates, set operations |\n",
    "| Array (NumPy)   | Yes     | Yes     | Yes              | Yes             | Efficient numerical operations |"
   ]
  },
  {
   "cell_type": "code",
   "execution_count": null,
   "id": "e3b13b05",
   "metadata": {},
   "outputs": [],
   "source": []
  }
 ],
 "metadata": {
  "kernelspec": {
   "display_name": "Python 3",
   "language": "python",
   "name": "python3"
  },
  "language_info": {
   "codemirror_mode": {
    "name": "ipython",
    "version": 3
   },
   "file_extension": ".py",
   "mimetype": "text/x-python",
   "name": "python",
   "nbconvert_exporter": "python",
   "pygments_lexer": "ipython3",
   "version": "3.9.6"
  }
 },
 "nbformat": 4,
 "nbformat_minor": 5
}

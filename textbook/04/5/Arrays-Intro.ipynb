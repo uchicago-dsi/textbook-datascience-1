{
 "cells": [
  {
   "cell_type": "markdown",
   "id": "c6234d0a",
   "metadata": {},
   "source": [
    "# Arrays\n",
    "*Evelyn Campbell*"
   ]
  },
  {
   "cell_type": "markdown",
   "id": "e72d9bce",
   "metadata": {},
   "source": [
    "An *array* is a data structure that consists of a collection of elements organized into a grid-like shape. In Python, arrays can be one-dimensional, akin to a list, or multidimensional (2D, 3D, etc.). However, unlike a list, an array consists of elements that are all of the same data type. This makes arrays convenient for storage and manipulation of data elements. Arrays are offered through the `numpy` library, and are often used in conjunction with other Python libraries, such as `pandas`, `scipy`, and `scikit-learn` (linked below). We will explore arrays in this section, along with commonly used functions used with arrays."
   ]
  },
  {
   "cell_type": "markdown",
   "id": "77369985",
   "metadata": {},
   "source": [
    "## Constructing arrays\n",
    "\n",
    "To make an array, we first need to import `numpy`.  This makes the methods in the `numpy` library available to us in our current Python session.  Two useful functions in `numpy` are `array()` which creates numpy arrays from other data types and `arange()` which creates arrays containing regularly spaced floating-point numbers.  After `import numpy as np` we can use these methods by prepending `np.` to their names: `np.array()` and `np.arange()`"
   ]
  },
  {
   "cell_type": "code",
   "execution_count": 1,
   "id": "ab8b729c",
   "metadata": {},
   "outputs": [
    {
     "data": {
      "text/plain": [
       "array([30, 50, 70, 90])"
      ]
     },
     "execution_count": 1,
     "metadata": {},
     "output_type": "execute_result"
    }
   ],
   "source": [
    "import numpy as np\n",
    "\n",
    "my_list = [30, 50, 70, 90]\n",
    "my_array = np.array(my_list)\n",
    "my_array"
   ]
  },
  {
   "cell_type": "markdown",
   "id": "0b31777b",
   "metadata": {},
   "source": [
    "We see here that `np.array()` can make an array.  The `np.arange()` function can also create arrays. `arange()` generates arrays of (floating-point) numbers with uniform spacing.  When invoked with one argument, `arange()` generates a list of numbers starting with 1:"
   ]
  },
  {
   "cell_type": "code",
   "execution_count": 2,
   "id": "ac5884e3-fb8c-4419-89ba-c27dad038895",
   "metadata": {},
   "outputs": [
    {
     "data": {
      "text/plain": [
       "array([0, 1, 2, 3, 4, 5, 6, 7, 8, 9])"
      ]
     },
     "execution_count": 2,
     "metadata": {},
     "output_type": "execute_result"
    }
   ],
   "source": [
    "my_array1 = np.arange(10)\n",
    "my_array1"
   ]
  },
  {
   "cell_type": "markdown",
   "id": "63f22d44-76fc-4fe7-a698-49ba444a50c7",
   "metadata": {},
   "source": [
    "When used (\"called\")  with two arguments,  `np.arange(start, stop)`  begins at `start` and ends *before* `stop`:"
   ]
  },
  {
   "cell_type": "code",
   "execution_count": 3,
   "id": "9f09fedf",
   "metadata": {},
   "outputs": [
    {
     "data": {
      "text/plain": [
       "array([4, 5, 6, 7])"
      ]
     },
     "execution_count": 3,
     "metadata": {},
     "output_type": "execute_result"
    }
   ],
   "source": [
    "my_array2 = np.arange(4, 8)\n",
    "my_array2"
   ]
  },
  {
   "cell_type": "markdown",
   "id": "6e9c89fa-9a50-4fe3-8d64-1543971f1f5b",
   "metadata": {},
   "source": [
    "And with three arguments, `np.arange(start, stop, step)`  begins at `start`, ends *before* `stop`, and has an interval `step` between adjacent elements:"
   ]
  },
  {
   "cell_type": "code",
   "execution_count": 4,
   "id": "a06510f2-e695-49db-a06b-3bbe9e1d5eea",
   "metadata": {},
   "outputs": [
    {
     "data": {
      "text/plain": [
       "array([100, 110, 120, 130, 140, 150, 160, 170, 180, 190])"
      ]
     },
     "execution_count": 4,
     "metadata": {},
     "output_type": "execute_result"
    }
   ],
   "source": [
    "my_array3 = np.arange(100,200,10)\n",
    "my_array3"
   ]
  },
  {
   "cell_type": "markdown",
   "id": "ed9c9a2b",
   "metadata": {},
   "source": [
    "So far, these have been one-dimensional arrays.  Arrays have an attribute `.shape` that is a tuple that counts the number of elements in each dimension:"
   ]
  },
  {
   "cell_type": "code",
   "execution_count": 5,
   "id": "61e2c1e0-c9f5-4d86-86f6-46fdfb2596c8",
   "metadata": {},
   "outputs": [
    {
     "name": "stdout",
     "output_type": "stream",
     "text": [
      "(10,) (4,) (10,)\n"
     ]
    }
   ],
   "source": [
    "print(my_array1.shape, my_array2.shape, my_array3.shape)"
   ]
  },
  {
   "cell_type": "markdown",
   "id": "67cc001f-2f6c-4278-bde2-97093eef3a42",
   "metadata": {},
   "source": [
    "Each of these shapes has only one element; this tells us these are 1d numpy arrays."
   ]
  },
  {
   "cell_type": "markdown",
   "id": "7e71b117",
   "metadata": {},
   "source": [
    "## Mathematical operations with arrays\n",
    "\n",
    "Arrays also allow for convenient elementwise calculations. For example, we can easily multiply our two arrays to obtain a new array of values. "
   ]
  },
  {
   "cell_type": "code",
   "execution_count": 6,
   "id": "a8c411f9",
   "metadata": {},
   "outputs": [
    {
     "name": "stdout",
     "output_type": "stream",
     "text": [
      "[0 1 2 3 4 5 6 7 8 9]\n",
      "[100 110 120 130 140 150 160 170 180 190]\n",
      "[   0  110  240  390  560  750  960 1190 1440 1710]\n"
     ]
    }
   ],
   "source": [
    "my_array4 = my_array1 * my_array3\n",
    "print(my_array1)\n",
    "print(my_array3)\n",
    "print(my_array4) "
   ]
  },
  {
   "cell_type": "markdown",
   "id": "2c972b46",
   "metadata": {},
   "source": [
    "The resulting array consists of the products of element-by-element multiplication of the first two arrays. Keep in mind that when performing calculations with multiple arrays, the dimensions of the arrays must be *compatible*. \n",
    "\n",
    "Performing elementwise operations on arrays of different shapes is called **broadcasting**, and a discussion on array shape compatibility in mathematical operations can be found in the referenced documentation on *Array broadcasting in numpy* below. "
   ]
  },
  {
   "cell_type": "markdown",
   "id": "e7cefaca",
   "metadata": {},
   "source": [
    "More simply, we can also perform a desired calculation on all elements of an array using scalar values:"
   ]
  },
  {
   "cell_type": "code",
   "execution_count": 7,
   "id": "1fa0c046",
   "metadata": {},
   "outputs": [
    {
     "data": {
      "text/plain": [
       "array([12. , 12.5, 13. , 13.5, 14. , 14.5, 15. , 15.5, 16. , 16.5])"
      ]
     },
     "execution_count": 7,
     "metadata": {},
     "output_type": "execute_result"
    }
   ],
   "source": [
    "my_array3 / 20 + 7"
   ]
  },
  {
   "cell_type": "markdown",
   "id": "5e772d89",
   "metadata": {},
   "source": [
    "## Reshaping and combining arrays\n",
    "\n",
    "Arrays can also be reshaped and combined. We can use the `np.reshape()` function to change the first two arrays from a 1-dimensional 1x4 array to a 2-dimensional 2x2 array."
   ]
  },
  {
   "cell_type": "code",
   "execution_count": 8,
   "id": "d7c77b2e-bd5e-45d4-acb8-dc30395bf8f5",
   "metadata": {},
   "outputs": [
    {
     "name": "stdout",
     "output_type": "stream",
     "text": [
      "[30 50 70 90]\n",
      "[4 5 6 7]\n"
     ]
    }
   ],
   "source": [
    "print(my_array)\n",
    "print(my_array2)"
   ]
  },
  {
   "cell_type": "code",
   "execution_count": 9,
   "id": "63529f0f",
   "metadata": {},
   "outputs": [],
   "source": [
    "reshape1 = np.reshape(my_array, (2,2))\n",
    "reshape2 = np.reshape(my_array2, (2,2))"
   ]
  },
  {
   "cell_type": "code",
   "execution_count": 10,
   "id": "49021c50",
   "metadata": {},
   "outputs": [
    {
     "data": {
      "text/plain": [
       "array([[30, 50],\n",
       "       [70, 90]])"
      ]
     },
     "execution_count": 10,
     "metadata": {},
     "output_type": "execute_result"
    }
   ],
   "source": [
    "reshape1"
   ]
  },
  {
   "cell_type": "code",
   "execution_count": 11,
   "id": "42083368",
   "metadata": {},
   "outputs": [
    {
     "data": {
      "text/plain": [
       "array([[4, 5],\n",
       "       [6, 7]])"
      ]
     },
     "execution_count": 11,
     "metadata": {},
     "output_type": "execute_result"
    }
   ],
   "source": [
    "reshape2"
   ]
  },
  {
   "cell_type": "markdown",
   "id": "a4b25524",
   "metadata": {},
   "source": [
    "When combining arrays that have the same shape, we can use the `np.row_stack()` and `np.column_stack()` functions to concatenate the rows and columns of multiple arrays, respectively. "
   ]
  },
  {
   "cell_type": "code",
   "execution_count": 12,
   "id": "136613c5",
   "metadata": {},
   "outputs": [
    {
     "data": {
      "text/plain": [
       "array([[30, 50,  4,  5],\n",
       "       [70, 90,  6,  7]])"
      ]
     },
     "execution_count": 12,
     "metadata": {},
     "output_type": "execute_result"
    }
   ],
   "source": [
    "combined_col = np.column_stack((reshape1, reshape2))\n",
    "combined_col"
   ]
  },
  {
   "cell_type": "code",
   "execution_count": 13,
   "id": "4bef6c20",
   "metadata": {},
   "outputs": [
    {
     "data": {
      "text/plain": [
       "array([[30, 50],\n",
       "       [70, 90],\n",
       "       [ 4,  5],\n",
       "       [ 6,  7]])"
      ]
     },
     "execution_count": 13,
     "metadata": {},
     "output_type": "execute_result"
    }
   ],
   "source": [
    "combined_row = np.row_stack((reshape1, reshape2))\n",
    "combined_row"
   ]
  },
  {
   "cell_type": "markdown",
   "id": "3b6bc94d",
   "metadata": {},
   "source": [
    "## Array functions\n",
    "\n",
    "Construction and reshaping of arrays is an important consideration if you wish to perform aggregate functions on them. Some useful aggregate functions that can be performed on arrays include `np.min()`, `np.max()`, `np.sum()`, and `np.average()`. These functions can be applied to the entire array or across rows and columns."
   ]
  },
  {
   "cell_type": "code",
   "execution_count": 14,
   "id": "09ec58cd",
   "metadata": {},
   "outputs": [
    {
     "name": "stdout",
     "output_type": "stream",
     "text": [
      "[[30 50]\n",
      " [70 90]]\n"
     ]
    }
   ],
   "source": [
    "print(reshape1)"
   ]
  },
  {
   "cell_type": "code",
   "execution_count": 15,
   "id": "2d931434-cbdd-441a-ac72-aaf8871a768b",
   "metadata": {},
   "outputs": [
    {
     "data": {
      "text/plain": [
       "30"
      ]
     },
     "execution_count": 15,
     "metadata": {},
     "output_type": "execute_result"
    }
   ],
   "source": [
    "np.min(reshape1)"
   ]
  },
  {
   "cell_type": "markdown",
   "id": "73ee6b57",
   "metadata": {},
   "source": [
    "To apply these functions across columns of the array, use an `axis=0` argument. To apply them across rows, use an `axis=1` argument. The returned array will be the same length as the number of columns or rows."
   ]
  },
  {
   "cell_type": "code",
   "execution_count": 16,
   "id": "4856de65",
   "metadata": {},
   "outputs": [
    {
     "data": {
      "text/plain": [
       "array([100, 140])"
      ]
     },
     "execution_count": 16,
     "metadata": {},
     "output_type": "execute_result"
    }
   ],
   "source": [
    "np.sum(reshape1, axis=0)"
   ]
  },
  {
   "cell_type": "code",
   "execution_count": 17,
   "id": "dc5a9be6",
   "metadata": {},
   "outputs": [
    {
     "data": {
      "text/plain": [
       "array([40., 80.])"
      ]
     },
     "execution_count": 17,
     "metadata": {},
     "output_type": "execute_result"
    }
   ],
   "source": [
    "np.average(reshape1, axis=1)"
   ]
  },
  {
   "cell_type": "markdown",
   "id": "98c21db8-802f-4204-9fd4-ed29786b1ada",
   "metadata": {},
   "source": [
    "We can retrieve individual elements of arrays with square brackets containing numbers for the indexes.  Since `combined_col` is a 2d-array, we need two indexes.  The conventional order is *rows then columns*."
   ]
  },
  {
   "cell_type": "code",
   "execution_count": 18,
   "id": "18fd4501-df3e-44e1-b705-094c9bebd03e",
   "metadata": {},
   "outputs": [
    {
     "name": "stdout",
     "output_type": "stream",
     "text": [
      "[[30 50]\n",
      " [70 90]]\n"
     ]
    }
   ],
   "source": [
    "print(reshape1)"
   ]
  },
  {
   "cell_type": "code",
   "execution_count": 19,
   "id": "0db18f89-e180-47a4-9788-79890bd29c10",
   "metadata": {},
   "outputs": [
    {
     "data": {
      "text/plain": [
       "50"
      ]
     },
     "execution_count": 19,
     "metadata": {},
     "output_type": "execute_result"
    }
   ],
   "source": [
    "reshape1[0,1]  # row 0, column 1"
   ]
  },
  {
   "cell_type": "code",
   "execution_count": 20,
   "id": "989f7c1f-8ee6-4a04-9398-1c2e1c1a688b",
   "metadata": {},
   "outputs": [
    {
     "data": {
      "text/plain": [
       "90"
      ]
     },
     "execution_count": 20,
     "metadata": {},
     "output_type": "execute_result"
    }
   ],
   "source": [
    "reshape1[1,1]  # row 1, column 1 "
   ]
  },
  {
   "cell_type": "markdown",
   "id": "353d8bd8-7e2d-4d99-b23f-450aa3a43275",
   "metadata": {},
   "source": [
    "Remember that because of **0-based indexing**; the element in the first row and first column is [0,0] and the element in the second row and second column is [1,1]."
   ]
  },
  {
   "cell_type": "markdown",
   "id": "72afd51d-4471-48cc-8c92-5743aef87567",
   "metadata": {},
   "source": [
    "And subsets of the array can be retrieved by using **slices** for the indexes.  Slices are of the form start:stop.  If either start or stop is omitted, the slices go as far as possible (to the beginning or the ending of the array on that axis. "
   ]
  },
  {
   "cell_type": "code",
   "execution_count": 21,
   "id": "5aad15f5-30bb-4d5a-8bea-4c924797dba3",
   "metadata": {},
   "outputs": [
    {
     "data": {
      "text/plain": [
       "array([[30, 50,  4,  5],\n",
       "       [70, 90,  6,  7]])"
      ]
     },
     "execution_count": 21,
     "metadata": {},
     "output_type": "execute_result"
    }
   ],
   "source": [
    "combined_col"
   ]
  },
  {
   "cell_type": "code",
   "execution_count": 22,
   "id": "366fd664-d9e4-446c-b27e-3ad30ea8556d",
   "metadata": {},
   "outputs": [
    {
     "data": {
      "text/plain": [
       "array([90,  6])"
      ]
     },
     "execution_count": 22,
     "metadata": {},
     "output_type": "execute_result"
    }
   ],
   "source": [
    "combined_col[1, 1:3]"
   ]
  },
  {
   "cell_type": "markdown",
   "id": "ce0a59ca-c10a-46bf-b7cb-1475bf1f703a",
   "metadata": {},
   "source": [
    "If we omit both start and stop, `:` is a symbol for an index that is shorthand for \"all the elements\":"
   ]
  },
  {
   "cell_type": "code",
   "execution_count": 23,
   "id": "4ea2f6d7-60e0-4f06-8d82-b7fdb15d78c6",
   "metadata": {},
   "outputs": [
    {
     "data": {
      "text/plain": [
       "array([[50,  4],\n",
       "       [90,  6]])"
      ]
     },
     "execution_count": 23,
     "metadata": {},
     "output_type": "execute_result"
    }
   ],
   "source": [
    "combined_col[:, 1:3]  # This gives columns 1 and 2 for all the rows."
   ]
  },
  {
   "cell_type": "markdown",
   "id": "102342cd-2397-47b4-b862-2e3b14bf4dc4",
   "metadata": {},
   "source": [
    "And slicing has one more trick: you can give slices three numbers by adding a second colon.  The third number specifies a \"step\", causing the slice to take non-adjacent cells: "
   ]
  },
  {
   "cell_type": "code",
   "execution_count": 24,
   "id": "a012f259-dc8c-4f10-8e00-4dea6e322348",
   "metadata": {},
   "outputs": [
    {
     "data": {
      "text/plain": [
       "array([0, 1, 2, 3, 4, 5, 6, 7, 8, 9])"
      ]
     },
     "execution_count": 24,
     "metadata": {},
     "output_type": "execute_result"
    }
   ],
   "source": [
    "my_array1"
   ]
  },
  {
   "cell_type": "code",
   "execution_count": 25,
   "id": "e076f7c6-00eb-4a6e-adf5-d85a172e2b49",
   "metadata": {},
   "outputs": [
    {
     "data": {
      "text/plain": [
       "array([2, 3, 4, 5, 6, 7, 8, 9])"
      ]
     },
     "execution_count": 25,
     "metadata": {},
     "output_type": "execute_result"
    }
   ],
   "source": [
    "my_array1[2::]  # The list from element 2 to the end"
   ]
  },
  {
   "cell_type": "code",
   "execution_count": 26,
   "id": "d0b46f3a-ef20-41fe-a3e8-06047a8c715b",
   "metadata": {},
   "outputs": [
    {
     "data": {
      "text/plain": [
       "array([2, 4, 6, 8])"
      ]
     },
     "execution_count": 26,
     "metadata": {},
     "output_type": "execute_result"
    }
   ],
   "source": [
    "my_array1[2::2]  # starting at 2, skipping every other element/Numpy"
   ]
  },
  {
   "cell_type": "markdown",
   "id": "c0bdcb73-bc6e-43f8-a7e3-9eda7530c1d4",
   "metadata": {},
   "source": [
    "Like with lists, we can use numbers or slices like this if we want subsets of the arrays.  Unlike lists, we can ask for two-dimensional slices by putting two slices inside the square brackets. "
   ]
  },
  {
   "cell_type": "markdown",
   "id": "92056223",
   "metadata": {},
   "source": [
    "A number of other aggregate functions can be applied to transform elements within an array. These include `np.sqrt()`, `np.square()`, `np.power()`, `np.log()`, and many others."
   ]
  },
  {
   "cell_type": "code",
   "execution_count": 27,
   "id": "a7ac141b",
   "metadata": {},
   "outputs": [
    {
     "data": {
      "text/plain": [
       "array([[ 64, 125],\n",
       "       [216, 343]])"
      ]
     },
     "execution_count": 27,
     "metadata": {},
     "output_type": "execute_result"
    }
   ],
   "source": [
    "np.power(reshape2, 3)"
   ]
  },
  {
   "cell_type": "markdown",
   "id": "ec7f35b1",
   "metadata": {},
   "source": [
    "## Indexing and Slicing\n",
    "\n",
    "1D arrays can be indexed similarly to how lists are indexed, as mentioned in the [section 4.1](../1/Lists.ipynb).\n",
    "\n",
    "\n",
    "To begin in demonstrating this, let's make a new array of string elements called `flowers`:"
   ]
  },
  {
   "cell_type": "code",
   "execution_count": 28,
   "id": "c1f4ad88",
   "metadata": {},
   "outputs": [
    {
     "data": {
      "text/plain": [
       "array(['orchid', 'rose', 'lilac', 'peony', 'tulip', 'dahlia', 'lily',\n",
       "       'violet'], dtype='<U6')"
      ]
     },
     "execution_count": 28,
     "metadata": {},
     "output_type": "execute_result"
    }
   ],
   "source": [
    "flowers = np.array(['orchid', 'rose', 'lilac', 'peony', 'tulip', 'dahlia', 'lily', 'violet'])\n",
    "flowers"
   ]
  },
  {
   "cell_type": "markdown",
   "id": "a0004ce9",
   "metadata": {},
   "source": [
    "As seen with lists, arrays utilize *zero-indexing*, meaning that the first element of an array has an index of 0. If we wanted to select the third to the sixth (inclusive) element in `flowers`, we need recognize that this corresponds to indexes 2 and 5, respectively.\n",
    "\n",
    "<img align=\"center\" src=\"./img/flowers_array3.png\" width=\"80%\"/>\n",
    "\n",
    "A single colon (:) can be used to slice a range of elements in an array. The format for simple slicing an array is as follows:\n",
    "\n",
    "```\n",
    "array[start:end]\n",
    "```\n",
    "\n",
    "\n",
    "\n",
    "If used between the indices *j* and *k*, slicing the elements of an array will return all elements between *j* and *k*, <u>excluding k</u>.\n",
    "\n",
    "In this case, we use 2:6 to slice from the third to the sixth element because we want to include the sixth element (which is located at index 5):\n"
   ]
  },
  {
   "cell_type": "code",
   "execution_count": 29,
   "id": "9935ef70",
   "metadata": {
    "scrolled": true
   },
   "outputs": [
    {
     "data": {
      "text/plain": [
       "array(['lilac', 'peony', 'tulip', 'dahlia'], dtype='<U6')"
      ]
     },
     "execution_count": 29,
     "metadata": {},
     "output_type": "execute_result"
    }
   ],
   "source": [
    "flowers[2:6]"
   ]
  },
  {
   "cell_type": "markdown",
   "id": "17633c64",
   "metadata": {},
   "source": [
    "Arrays can also be sliced in intervals. Slicing in intervals takes on the following format:\n",
    "\n",
    "```\n",
    "array[start:end:step]\n",
    "```\n",
    "\n",
    "The step dictates the spacing between values. If we wanted to slice `flowers` starting at the second element to the sixth element (inclusive) in steps of two, we would use the following code:"
   ]
  },
  {
   "cell_type": "code",
   "execution_count": 30,
   "id": "67dcfe21",
   "metadata": {},
   "outputs": [
    {
     "data": {
      "text/plain": [
       "array(['rose', 'peony', 'dahlia'], dtype='<U6')"
      ]
     },
     "execution_count": 30,
     "metadata": {},
     "output_type": "execute_result"
    }
   ],
   "source": [
    "flowers[1:6:2]"
   ]
  },
  {
   "cell_type": "markdown",
   "id": "83db1e0c",
   "metadata": {},
   "source": [
    "Slices can be made without explicitly indicating the start of end or the slice. In these cases, Python will start slicing with the first element if the beginning is not indicated and will stop at the last element if the end is not indicated:"
   ]
  },
  {
   "cell_type": "code",
   "execution_count": 31,
   "id": "b71afccd",
   "metadata": {},
   "outputs": [
    {
     "data": {
      "text/plain": [
       "array(['rose', 'peony', 'dahlia', 'violet'], dtype='<U6')"
      ]
     },
     "execution_count": 31,
     "metadata": {},
     "output_type": "execute_result"
    }
   ],
   "source": [
    "flowers[1::2] # Starts at the second element and selects every other element to the end of the array"
   ]
  },
  {
   "cell_type": "code",
   "execution_count": 32,
   "id": "cbb7b21d",
   "metadata": {},
   "outputs": [
    {
     "data": {
      "text/plain": [
       "array(['orchid', 'rose', 'lilac', 'peony'], dtype='<U6')"
      ]
     },
     "execution_count": 32,
     "metadata": {},
     "output_type": "execute_result"
    }
   ],
   "source": [
    "flowers[:4] # Selects every element between the first and forth (inclusive) element"
   ]
  },
  {
   "cell_type": "markdown",
   "id": "1c87ad78",
   "metadata": {},
   "source": [
    "When arrays become very long, it may be useful to use **negative-indexing**. Negative indexing assigns indices of elements starting from the last element. The very last element of an array has an index of -1, the penultimate, -2, and so on. If we want the fourth-from-last element of `flowers`, we could use the following:"
   ]
  },
  {
   "cell_type": "code",
   "execution_count": 33,
   "id": "5a6bca2a",
   "metadata": {},
   "outputs": [
    {
     "data": {
      "text/plain": [
       "'tulip'"
      ]
     },
     "execution_count": 33,
     "metadata": {},
     "output_type": "execute_result"
    }
   ],
   "source": [
    "flowers[-4]"
   ]
  },
  {
   "cell_type": "markdown",
   "id": "a6291acf",
   "metadata": {},
   "source": [
    "Negative indexing can be combined with slicing to return elements of an array in a reverse order. For example, we can list all the flowers from `lily` to `lilac` in reverse order using the following:"
   ]
  },
  {
   "cell_type": "code",
   "execution_count": 34,
   "id": "873f024a",
   "metadata": {},
   "outputs": [
    {
     "data": {
      "text/plain": [
       "array(['lily', 'tulip', 'lilac'], dtype='<U6')"
      ]
     },
     "execution_count": 34,
     "metadata": {},
     "output_type": "execute_result"
    }
   ],
   "source": [
    "flowers[6:1:-2]"
   ]
  },
  {
   "cell_type": "markdown",
   "id": "ba581ef8",
   "metadata": {},
   "source": [
    "Here, it's okay that the starting index is greater than the ending index because we indicated the step to go from back to front."
   ]
  },
  {
   "cell_type": "markdown",
   "id": "e64cbc23",
   "metadata": {},
   "source": [
    "## Nested arrays\n",
    "\n",
    "When working with a multidimensional array, the same rules apply, but we have to keep in mind that the arrays within the a 2D array themselves have indices. Let's construct two more arrays called `fruits` and `pantone` and make a combined array with `flowers`."
   ]
  },
  {
   "cell_type": "code",
   "execution_count": 35,
   "id": "a1a87fb8",
   "metadata": {
    "scrolled": true
   },
   "outputs": [
    {
     "data": {
      "text/plain": [
       "array([['orchid', 'rose', 'lilac', 'peony', 'tulip', 'dahlia', 'lily',\n",
       "        'violet'],\n",
       "       ['strawberry', 'banana', 'blueberry', 'pineapple', 'cherry',\n",
       "        'papaya', 'lychee', 'mango'],\n",
       "       ['emerald', 'polignac', 'saffron', 'fuchsia rose', 'marsala',\n",
       "        'ultra violet', 'mustard', 'lapis blue']], dtype='<U12')"
      ]
     },
     "execution_count": 35,
     "metadata": {},
     "output_type": "execute_result"
    }
   ],
   "source": [
    "fruits = np.array(['strawberry', 'banana', 'blueberry', 'pineapple', 'cherry', 'papaya', 'lychee', 'mango'])\n",
    "pantone = np.array(['emerald', 'polignac', 'saffron', 'fuchsia rose', 'marsala', 'ultra violet', 'mustard', 'lapis blue'])\n",
    "combined = np.row_stack((flowers, fruits, pantone))\n",
    "combined"
   ]
  },
  {
   "cell_type": "markdown",
   "id": "8bac48ad",
   "metadata": {},
   "source": [
    "We can assess the final dimensions of `combined` using the `shape` method. The `shape` method returns a tuple indicating the rows and columns:"
   ]
  },
  {
   "cell_type": "code",
   "execution_count": 36,
   "id": "0f25f043",
   "metadata": {},
   "outputs": [
    {
     "data": {
      "text/plain": [
       "(3, 8)"
      ]
     },
     "execution_count": 36,
     "metadata": {},
     "output_type": "execute_result"
    }
   ],
   "source": [
    "combined.shape"
   ]
  },
  {
   "cell_type": "markdown",
   "id": "064c7724",
   "metadata": {},
   "source": [
    "Now, we are working with an array of arrays that is 3 rows by 8 columns. As such, we have to be able to determine the index of each array to be able to even access the individual elements within them. For instance, if we wanted to identify the 3rd color within `pantone`, we first have to be able to index the array with colors:"
   ]
  },
  {
   "cell_type": "code",
   "execution_count": 37,
   "id": "67a9b1fe",
   "metadata": {},
   "outputs": [
    {
     "data": {
      "text/plain": [
       "array(['emerald', 'polignac', 'saffron', 'fuchsia rose', 'marsala',\n",
       "       'ultra violet', 'mustard', 'lapis blue'], dtype='<U12')"
      ]
     },
     "execution_count": 37,
     "metadata": {},
     "output_type": "execute_result"
    }
   ],
   "source": [
    "combined[2]"
   ]
  },
  {
   "cell_type": "markdown",
   "id": "216ef0d6",
   "metadata": {},
   "source": [
    "Once we can get that array, getting the 3rd element would be as easy as identifying the index within `pantone`:"
   ]
  },
  {
   "cell_type": "code",
   "execution_count": 38,
   "id": "dac5a4e3",
   "metadata": {},
   "outputs": [
    {
     "data": {
      "text/plain": [
       "'saffron'"
      ]
     },
     "execution_count": 38,
     "metadata": {},
     "output_type": "execute_result"
    }
   ],
   "source": [
    "combined[2][2]"
   ]
  },
  {
   "cell_type": "markdown",
   "id": "f4b4d38c",
   "metadata": {},
   "source": [
    "To this point, all of these slicing mechanisms are interchangeable between lists and arrays. However, if we wanted to take a particular index in all arrays of `combined`, the following would work for an array of arrays, but not a list of lists:"
   ]
  },
  {
   "cell_type": "code",
   "execution_count": 39,
   "id": "bf623f51",
   "metadata": {
    "scrolled": true
   },
   "outputs": [
    {
     "data": {
      "text/plain": [
       "array(['lilac', 'blueberry', 'saffron'], dtype='<U12')"
      ]
     },
     "execution_count": 39,
     "metadata": {},
     "output_type": "execute_result"
    }
   ],
   "source": [
    "combined[:,2]"
   ]
  },
  {
   "cell_type": "markdown",
   "id": "d6a2cea2",
   "metadata": {},
   "source": [
    "Notice that this gives a different result than the following code:"
   ]
  },
  {
   "cell_type": "code",
   "execution_count": 40,
   "id": "3a843104",
   "metadata": {},
   "outputs": [
    {
     "data": {
      "text/plain": [
       "array(['emerald', 'polignac', 'saffron', 'fuchsia rose', 'marsala',\n",
       "       'ultra violet', 'mustard', 'lapis blue'], dtype='<U12')"
      ]
     },
     "execution_count": 40,
     "metadata": {},
     "output_type": "execute_result"
    }
   ],
   "source": [
    "combined[:][2]"
   ]
  },
  {
   "cell_type": "markdown",
   "id": "1da7860a",
   "metadata": {},
   "source": [
    "In slicing, a comma separates rows from columns. Hence, `combined[:,2]` is saying \"from all rows of `combined`, take the column at index 2, while `combined[:][2]` is saying \"from all elements in `combined` take the element at index 2.\" This syntax, while subtle, greatly affects the granularity of slicing.\n",
    "\n",
    "Ranges can also be used to slice specific subsets of columns and rows, as shown below:"
   ]
  },
  {
   "cell_type": "code",
   "execution_count": 41,
   "id": "907a4af3",
   "metadata": {},
   "outputs": [
    {
     "data": {
      "text/plain": [
       "array([['lilac', 'peony', 'tulip', 'dahlia'],\n",
       "       ['blueberry', 'pineapple', 'cherry', 'papaya']], dtype='<U12')"
      ]
     },
     "execution_count": 41,
     "metadata": {},
     "output_type": "execute_result"
    }
   ],
   "source": [
    "combined[0:2,2:6]"
   ]
  },
  {
   "cell_type": "markdown",
   "id": "5a3d5b7c",
   "metadata": {},
   "source": [
    "We see that the above code returned the elements from index 2 to 5 (inclusive) from the `flowers` and `fruits` arrays within `combined`. The `flowers` and `fruits` arrays were returned because they are the elements at 0 and 1 index, respectively, within `combined`."
   ]
  },
  {
   "cell_type": "markdown",
   "id": "5d11e234",
   "metadata": {},
   "source": [
    "Using 2-D arrays to store and organize numerical data types can also be very useful. Below, we create a new array of array consisting of a collection of even numbers, numbers divisible by five, and numbers divisible by ten:"
   ]
  },
  {
   "cell_type": "code",
   "execution_count": 42,
   "id": "5249d8ad",
   "metadata": {
    "scrolled": true
   },
   "outputs": [
    {
     "data": {
      "text/plain": [
       "array([[ 2.,  5., 10.],\n",
       "       [ 4., 10., 20.],\n",
       "       [ 6., 15., 30.],\n",
       "       [ 8., 20., 40.],\n",
       "       [10., 25., 50.]])"
      ]
     },
     "execution_count": 42,
     "metadata": {},
     "output_type": "execute_result"
    }
   ],
   "source": [
    "evens = np.arange(2.0, 11.0, 2)\n",
    "fives = np.arange(5, 26, 5)\n",
    "tens = np.arange(10, 51, 10)\n",
    "\n",
    "num_comb = np.column_stack((evens, fives, tens))\n",
    "num_comb"
   ]
  },
  {
   "cell_type": "markdown",
   "id": "6ea3bf80",
   "metadata": {},
   "source": [
    "We can use slicing to perform operations on specific subsets of  `num_comb`:"
   ]
  },
  {
   "cell_type": "code",
   "execution_count": 43,
   "id": "b0f0373c",
   "metadata": {
    "scrolled": true
   },
   "outputs": [
    {
     "data": {
      "text/plain": [
       "array([4634., 4649., 4674.])"
      ]
     },
     "execution_count": 43,
     "metadata": {},
     "output_type": "execute_result"
    }
   ],
   "source": [
    "num_comb[:][-1] + num_comb[3].sum()**2"
   ]
  },
  {
   "cell_type": "markdown",
   "id": "e47537f0",
   "metadata": {},
   "source": [
    "Furthermore, these slices can be used as input to functions:"
   ]
  },
  {
   "cell_type": "code",
   "execution_count": 44,
   "id": "3a337098",
   "metadata": {},
   "outputs": [
    {
     "data": {
      "text/plain": [
       "array([  4.,  16.,  36.,  64., 100.])"
      ]
     },
     "execution_count": 44,
     "metadata": {},
     "output_type": "execute_result"
    }
   ],
   "source": [
    "np.power(num_comb[:,0], 2)"
   ]
  },
  {
   "cell_type": "markdown",
   "id": "d3242398",
   "metadata": {},
   "source": [
    "When working with multidimensional arrays, being able to subset portions and do calculations via functions or operations can be an easy way to analyze data, particularly, if the array is organized in a meaningful way. From this, new arrays can be created and appended to existing arrays to update or complete a dataset:"
   ]
  },
  {
   "cell_type": "code",
   "execution_count": 45,
   "id": "1974c88f",
   "metadata": {},
   "outputs": [
    {
     "data": {
      "text/plain": [
       "array([[  2.,   5.,  10.,   4.],\n",
       "       [  4.,  10.,  20.,  16.],\n",
       "       [  6.,  15.,  30.,  36.],\n",
       "       [  8.,  20.,  40.,  64.],\n",
       "       [ 10.,  25.,  50., 100.]])"
      ]
     },
     "execution_count": 45,
     "metadata": {},
     "output_type": "execute_result"
    }
   ],
   "source": [
    "squared = np.power(num_comb[:,0], 2)\n",
    "\n",
    "num_comb = np.column_stack((num_comb, squared))\n",
    "num_comb"
   ]
  },
  {
   "cell_type": "markdown",
   "id": "140edda6",
   "metadata": {},
   "source": [
    "Arrays are a powerful data type that make for easy and seamless data storage and analysis. The rules around slicing for arrays can be a bit tricky. It's important to practice to get used indexing and to understand how to access arrays within arrays vs *elements* of said arrays."
   ]
  },
  {
   "cell_type": "markdown",
   "id": "8d8570bb",
   "metadata": {},
   "source": [
    "## Resources\n",
    "\n",
    "- <a target=\"_blank\" href=\"https://numpy.org/doc/stable/reference/routines.math.html\">Mathematical aggregate functions by numpy</a>\n",
    "- <a target=\"_blank\" href=\"https://numpy.org/doc/1.20/user/theory.broadcasting.html\">Array broadcasting in numpy</a>\n",
    "\n",
    "- <a target=\"_blank\" href=\"https://scipy.org\">Scipy documentation</a>\n",
    "- <a target=\"_blank\" href=\"https://scikit-learn.org/stable/\">scikit-learn documentation</a>"
   ]
  },
  {
   "cell_type": "markdown",
   "id": "a8123e71",
   "metadata": {},
   "source": [
    "| Type            | Ordered | Mutable | Allows Duplicates | Indexed Access  | Typical Uses |\n",
    "|-----------------|---------|---------|-------------------|-----------------|--------------|\n",
    "| List            | Yes     | Yes     | Yes              | Yes             | General-purpose collections where order matters |\n",
    "| Tuple           | Yes     | No      | Yes              | Yes            | Fixed collections, function returns, dictionary keys |\n",
    "| Dictionary      | No      | Yes     | Keys: No<br>Values: Yes | By key       | Lookups by name/label, storing mappings |\n",
    "| Set             | No      | Yes     | No (all elements unique) | No         | Membership tests, removing duplicates, set operations |\n",
    "| Array (NumPy)   | Yes     | Yes     | Yes              | Yes             | Efficient numerical operations, vectorized math |"
   ]
  },
  {
   "cell_type": "code",
   "execution_count": null,
   "id": "e3b13b05",
   "metadata": {},
   "outputs": [],
   "source": []
  }
 ],
 "metadata": {
  "kernelspec": {
   "display_name": "Python 3 (ipykernel)",
   "language": "python",
   "name": "python3"
  },
  "language_info": {
   "codemirror_mode": {
    "name": "ipython",
    "version": 3
   },
   "file_extension": ".py",
   "mimetype": "text/x-python",
   "name": "python",
   "nbconvert_exporter": "python",
   "pygments_lexer": "ipython3",
   "version": "3.10.6"
  }
 },
 "nbformat": 4,
 "nbformat_minor": 5
}

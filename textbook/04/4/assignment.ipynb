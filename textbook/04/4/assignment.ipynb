{
 "cells": [
  {
   "cell_type": "markdown",
   "metadata": {},
   "source": [
    "# Assignment for Mutable Data Types\n",
    "*Will Trimble*"
   ]
  },
  {
   "cell_type": "markdown",
   "metadata": {},
   "source": [
    "Python's equals sign has different behavior for different data types. \n",
    "\n",
    "**Immutable** data types include strings, numbers, and tuples.  Immutable data types and expressions copy by value.\n",
    "\n",
    "**Mutable** data types include lists, dictionaries, sets, and more complicated data types.  These require explicit copying.\n",
    "\n",
    "For immutable data types, the = is the assignment operator: the right hand side of the expression is evaluated and the value is copied into the name on the left hand side of the `=` sign."
   ]
  },
  {
   "cell_type": "markdown",
   "metadata": {},
   "source": [
    "For mutable data types, = gives a new name to the same object.   The data is not copied, and exists in only one place in the computer's memory.  The same data now has two names, both of which can be used to change it.   This may have unintended effects:"
   ]
  },
  {
   "cell_type": "code",
   "execution_count": 1,
   "metadata": {},
   "outputs": [
    {
     "name": "stdout",
     "output_type": "stream",
     "text": [
      "[1, 2, 6]\n",
      "[1, 2, 6]\n"
     ]
    }
   ],
   "source": [
    "list1 = [1,2,3]\n",
    "list2 = list1  # this does not create a new list\n",
    "list1[2] = 6   # since there is only one list, changing list1\n",
    "print(list1)\n",
    "print(list2)   # changes list2."
   ]
  },
  {
   "cell_type": "markdown",
   "metadata": {},
   "source": [
    "If you need a second copy of a mutable object, you must copy it explicitly.  Mutable data types have a `.copy()` method that will create a new copy that can be altered separately from the original:"
   ]
  },
  {
   "cell_type": "code",
   "execution_count": 2,
   "metadata": {},
   "outputs": [
    {
     "name": "stdout",
     "output_type": "stream",
     "text": [
      "[1, 2, 8]\n",
      "[1, 2, 3]\n"
     ]
    }
   ],
   "source": [
    "list3 = [1,2,3]\n",
    "list4 = list3.copy()\n",
    "list3[2] = 8\n",
    "print(list3)\n",
    "print(list4)  \n",
    "# Success!  list3 can finally have different values from list4"
   ]
  },
  {
   "cell_type": "markdown",
   "metadata": {},
   "source": []
  },
  {
   "cell_type": "markdown",
   "metadata": {},
   "source": [
    "Can you follow what is happening to the strings here?  Can you predict which animal is assigned to different variables?"
   ]
  },
  {
   "cell_type": "code",
   "execution_count": null,
   "metadata": {},
   "outputs": [],
   "source": [
    "animal1 = \"dog\"\n",
    "animal2 = \"cat\"\n",
    "animal3 = \"porcupine\"\n",
    "animal4 = animal3\n",
    "animal3 = animal2\n",
    "animal2 = animal1\n",
    "animal1 = animal3 "
   ]
  },
  {
   "cell_type": "code",
   "execution_count": 4,
   "metadata": {},
   "outputs": [
    {
     "data": {
      "text/plain": [
       "('cat', 'dog', 'cat', 'procupine')"
      ]
     },
     "execution_count": 4,
     "metadata": {},
     "output_type": "execute_result"
    }
   ],
   "source": [
    "# This line will display the contents of these four strings\n",
    "animal1, animal2, animal3, animal4"
   ]
  }
 ],
 "metadata": {
  "kernelspec": {
   "display_name": "Python 3 (ipykernel)",
   "language": "python",
   "name": "python3"
  },
  "language_info": {
   "codemirror_mode": {
    "name": "ipython",
    "version": 3
   },
   "file_extension": ".py",
   "mimetype": "text/x-python",
   "name": "python",
   "nbconvert_exporter": "python",
   "pygments_lexer": "ipython3",
   "version": "3.10.6"
  },
  "vscode": {
   "interpreter": {
    "hash": "1a1af0ee75eeea9e2e1ee996c87e7a2b11a0bebd85af04bb136d915cefc0abce"
   }
  }
 },
 "nbformat": 4,
 "nbformat_minor": 4
}

{
 "cells": [
  {
   "cell_type": "markdown",
   "id": "04e25d84",
   "metadata": {},
   "source": [
    "# Sets\n",
    "*Amanda R. Kube Jotte*\n",
    "\n",
    "A **set** is like a dictionary with just the keys and no values. It stores unique elements, with no duplicates and no ordering of the elements.\n",
    "\n",
    "## Creating Sets\n",
    "\n",
    "Sets, like dictionaries, are created with curly braces { }. Instead of having pairs of keys and values in the braces, we add the individual elements separated by commas.\n",
    "\n",
    "\n",
    "\n",
    "Instead, you iterate or test membership.\n",
    "\n",
    "python\n",
    "Copy\n",
    "Edit\n",
    "2 in my_set   # True\n",
    "Mutability\n",
    "\n",
    "Sets are mutable: you can .add() and .remove().\n",
    "\n",
    "python\n",
    "Copy\n",
    "Edit\n",
    "my_set.add(4)\n",
    "my_set.remove(2)\n",
    "Set operations (where they shine)\n",
    "\n",
    "Union | or .union()\n",
    "\n",
    "Intersection & or .intersection()\n",
    "\n",
    "Difference - or .difference()\n",
    "\n",
    "Symmetric difference ^ or .symmetric_difference()\n",
    "\n",
    "python\n",
    "Copy\n",
    "Edit\n",
    "a = {1, 2, 3}\n",
    "b = {3, 4, 5}\n",
    "a | b   # {1, 2, 3, 4, 5}\n",
    "a & b   # {3}\n",
    "When to use\n",
    "\n",
    "Fast membership checks (x in set).\n",
    "\n",
    "Removing duplicates from data.\n",
    "\n",
    "Working with mathematical-style sets."
   ]
  },
  {
   "cell_type": "code",
   "execution_count": null,
   "id": "63a4a743",
   "metadata": {},
   "outputs": [],
   "source": [
    "my_set = {1, 2, 3}\n",
    "my_set"
   ]
  },
  {
   "cell_type": "markdown",
   "id": "d8e15275",
   "metadata": {},
   "source": [
    "Duplicate items are automatically removed."
   ]
  },
  {
   "cell_type": "code",
   "execution_count": null,
   "id": "6ff9e932",
   "metadata": {},
   "outputs": [],
   "source": [
    "my_set = {1, 2, 2, 3}\n",
    "my_set"
   ]
  },
  {
   "cell_type": "markdown",
   "id": "4dfdbede",
   "metadata": {},
   "source": [
    ":::note\n",
    "If you want to create an empty set, you have to use the `set()` function. The following code:\n",
    "\n",
    "```python\n",
    "{}\n",
    "```\n",
    "\n",
    "...will create an empty dictionary.\n",
    "\n",
    ":::\n",
    "\n",
    "As sets are unordered, we cannot index them like we could lists or tuples."
   ]
  },
  {
   "cell_type": "code",
   "execution_count": null,
   "id": "8689b5c8",
   "metadata": {},
   "outputs": [],
   "source": [
    "my_set[0]"
   ]
  },
  {
   "cell_type": "markdown",
   "id": "04da7fd3",
   "metadata": {},
   "source": [
    "We typically use sets to keep track of membership in a group. We can test membership using "
   ]
  },
  {
   "cell_type": "markdown",
   "id": "033ef61f",
   "metadata": {},
   "source": []
  },
  {
   "cell_type": "markdown",
   "id": "4836812d",
   "metadata": {},
   "source": []
  }
 ],
 "metadata": {
  "language_info": {
   "name": "python"
  }
 },
 "nbformat": 4,
 "nbformat_minor": 5
}

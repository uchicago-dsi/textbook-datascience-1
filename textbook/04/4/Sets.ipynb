{
 "cells": [
  {
   "cell_type": "markdown",
   "id": "04e25d84",
   "metadata": {},
   "source": [
    "# Sets\n",
    "*Amanda R. Kube Jotte*\n",
    "\n",
    "A **set** is like a dictionary with just the keys and no values. It stores unique elements, with no duplicates and no ordering of the elements.\n",
    "\n",
    "## Creating Sets\n",
    "\n",
    "Sets, like dictionaries, are created with curly braces `{}`. Instead of having pairs of keys and values in the braces, we add the individual elements separated by commas."
   ]
  },
  {
   "cell_type": "code",
   "execution_count": null,
   "id": "63a4a743",
   "metadata": {},
   "outputs": [],
   "source": [
    "my_set = {1, 2, 3}\n",
    "my_set"
   ]
  },
  {
   "cell_type": "markdown",
   "id": "d8e15275",
   "metadata": {},
   "source": [
    "Duplicate items are automatically removed."
   ]
  },
  {
   "cell_type": "code",
   "execution_count": null,
   "id": "6ff9e932",
   "metadata": {},
   "outputs": [],
   "source": [
    "my_set = {1, 2, 2, 3}\n",
    "my_set"
   ]
  },
  {
   "cell_type": "markdown",
   "id": "4dfdbede",
   "metadata": {},
   "source": [
    ":::note\n",
    "If you want to create an empty set, you have to use the `set()` function. The following code:\n",
    "\n",
    "```python\n",
    "{}\n",
    "```\n",
    "\n",
    "...will create an empty dictionary.\n",
    "\n",
    ":::\n",
    "\n",
    "As sets are unordered, we cannot index them like we could lists or tuples."
   ]
  },
  {
   "cell_type": "code",
   "execution_count": null,
   "id": "8689b5c8",
   "metadata": {},
   "outputs": [],
   "source": [
    "my_set[0]"
   ]
  },
  {
   "cell_type": "markdown",
   "id": "04da7fd3",
   "metadata": {},
   "source": [
    "## Membership Operators\n",
    "\n",
    "We typically use sets to keep track of membership in a group. We can test membership using the boolean `in` operator. The `in` operator is one of two membership operators, the other being `not in`. These test whether or not a value is in a container."
   ]
  },
  {
   "cell_type": "code",
   "execution_count": null,
   "id": "4bc3fa87",
   "metadata": {},
   "outputs": [],
   "source": [
    "3 in my_set"
   ]
  },
  {
   "cell_type": "code",
   "execution_count": null,
   "id": "9281a69a",
   "metadata": {},
   "outputs": [],
   "source": [
    "5 in my_set"
   ]
  },
  {
   "cell_type": "code",
   "execution_count": null,
   "id": "29ea8665",
   "metadata": {},
   "outputs": [],
   "source": [
    "2 not in my_set"
   ]
  },
  {
   "cell_type": "markdown",
   "id": "033ef61f",
   "metadata": {},
   "source": [
    "These operators also work with lists."
   ]
  },
  {
   "cell_type": "code",
   "execution_count": null,
   "id": "beb469e0",
   "metadata": {},
   "outputs": [],
   "source": [
    "primes_abridged = [2, 3, 5, 7, 11, 13, 17, 19, 23]\n",
    "\n",
    "4 in primes_abridged"
   ]
  },
  {
   "cell_type": "markdown",
   "id": "f13fa18b",
   "metadata": {},
   "source": [
    "And they can be used to check if certain keys are `in` a dictionary."
   ]
  },
  {
   "cell_type": "code",
   "execution_count": null,
   "id": "cdc4e303",
   "metadata": {},
   "outputs": [],
   "source": [
    "addresses = {\n",
    "    \"Bill\": {'phone':3125551234, 'email': 'bill@internet.com'},\n",
    "    \"Mary\": {'phone':3125559876, 'email': 'mary@web.net'},\n",
    "    \"Sue\": {'phone':3125552468, 'email': 'sue@email.edu'}\n",
    "}\n",
    "\n",
    "'Sue' in addresses"
   ]
  },
  {
   "cell_type": "code",
   "execution_count": null,
   "id": "ac8b7d5b",
   "metadata": {},
   "outputs": [],
   "source": [
    "\"Annie\" not in addresses\n"
   ]
  },
  {
   "cell_type": "markdown",
   "id": "d91c7ea4",
   "metadata": {},
   "source": [
    "## Mutability and Methods\n",
    "\n",
    "Like lists, sets are mutable. You can `add()` or `remove()` elements from sets using set methods."
   ]
  },
  {
   "cell_type": "code",
   "execution_count": null,
   "id": "4ccb4a3f",
   "metadata": {},
   "outputs": [],
   "source": [
    "my_set.add(4)"
   ]
  },
  {
   "cell_type": "code",
   "execution_count": null,
   "id": "42bf4770",
   "metadata": {},
   "outputs": [],
   "source": [
    "my_set.remove(2)"
   ]
  },
  {
   "cell_type": "markdown",
   "id": "d7fcf6eb",
   "metadata": {},
   "source": [
    "In mathematics, there are several common operations we perform on sets. In Python, these operations are available as both methods and as operators. The most common are **union**, **intersection**, and **difference**.\n",
    "\n",
    "Union: Combines two sets, returning a set that contains every element that appears in either set.\n",
    "\n",
    "The union combines two sets, returning a set that contains every element that appears in either set. We can perform a union using `union()` or by using the bitwise operator `|`.\n"
   ]
  },
  {
   "cell_type": "code",
   "execution_count": null,
   "id": "df5c5bab",
   "metadata": {},
   "outputs": [],
   "source": [
    "a = {1, 2, 3}\n",
    "b = {3, 4, 5}\n",
    "\n",
    "a.union(b) # or a | b"
   ]
  },
  {
   "cell_type": "markdown",
   "id": "6ff7c6bd",
   "metadata": {},
   "source": [
    "The intersection returns only the elements that the two sets have in common. We can perform an intersection using `intersection()` or by using the bitwise operator `&`."
   ]
  },
  {
   "cell_type": "code",
   "execution_count": null,
   "id": "d2ea274d",
   "metadata": {},
   "outputs": [],
   "source": [
    "a.intersection(b) # or a & b"
   ]
  },
  {
   "cell_type": "markdown",
   "id": "3ac10cae",
   "metadata": {},
   "source": [
    "The difference returns the elements in the first set that are not in the second set. We can take a difference using `difference()` or by using the operator `-`."
   ]
  },
  {
   "cell_type": "code",
   "execution_count": null,
   "id": "c37d5311",
   "metadata": {},
   "outputs": [],
   "source": [
    "a.difference(b)"
   ]
  },
  {
   "cell_type": "code",
   "execution_count": null,
   "id": "16626239",
   "metadata": {},
   "outputs": [],
   "source": [
    "b.difference(a)"
   ]
  },
  {
   "cell_type": "markdown",
   "id": "91240999",
   "metadata": {},
   "source": [
    "```{note}\n",
    "Order doesn't matter when using intersection or union - `a.union(b)` gives the same result as `b.union(a)`.\n",
    "\n",
    "However, it *does* matter when taking a set difference. Above, we can see that `a.difference(b)` is not equal to `b.difference(a)`.\n",
    "\n",
    "```\n",
    "\n",
    "Sets can be useful when working with mathematical-style sets, like calculating probabilities. They are also handy for fast membership checks, and for removing duplicates from data. \n",
    "\n",
    "We have now covered **lists**, **tuples**, **dictionaries**, and **sets**. These are all built-in data structures in Python, which means we can use them without importing any additional libraries. \n",
    "\n",
    "In the next section, we will work with an extremely useful and versatile object called an **array**. To do this, we will need to learn a new library: `numpy`."
   ]
  },
  {
   "cell_type": "markdown",
   "id": "4836812d",
   "metadata": {},
   "source": []
  }
 ],
 "metadata": {
  "language_info": {
   "name": "python"
  }
 },
 "nbformat": 4,
 "nbformat_minor": 5
}

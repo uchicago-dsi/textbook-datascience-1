{
 "cells": [
  {
   "cell_type": "markdown",
   "id": "6418f2c0",
   "metadata": {},
   "source": [
    "# Tuples\n",
    "*Amanda R. Kube Jotte*\n",
    "\n",
    "Sometimes, we want a collection of elements, but we don't need that collection to be mutable. **Tuples** are similar to lists in that they are an ordered, indexed sequence of values. \n",
    "\n",
    "## Creation and Immutability\n",
    "\n",
    "To create a tuples, we use parentheses `()` instead of square brackets (as a list would use). We still separate the elements using commas."
   ]
  },
  {
   "cell_type": "code",
   "execution_count": 1,
   "id": "a0ee3d03",
   "metadata": {},
   "outputs": [],
   "source": [
    "my_tuple = (1, 2, 3)"
   ]
  },
  {
   "cell_type": "markdown",
   "id": "6e6e45a5",
   "metadata": {},
   "source": [
    ":::note\n",
    "If, for some reason, you want to create a tuple with only one value inside, the following code will not work:\n",
    "\n",
    "```python\n",
    "my_tuple = (5)\n",
    "```\n",
    "\n",
    "Instead, you will need to add a comma after the value:\n",
    "\n",
    "```python\n",
    "my_tuple = (5,)\n",
    "```\n",
    "\n",
    ":::\n",
    "\n",
    "Once created, tuples cannot be changed. They are immutable. That means there is no `append()` or `insert()` method that acts on a tuple. We also can't reassign items in a tuple. Trying to do so will raise a `TypeError`."
   ]
  },
  {
   "cell_type": "code",
   "execution_count": 2,
   "id": "160d7874",
   "metadata": {},
   "outputs": [
    {
     "ename": "TypeError",
     "evalue": "'tuple' object does not support item assignment",
     "output_type": "error",
     "traceback": [
      "\u001b[0;31m---------------------------------------------------------------------------\u001b[0m",
      "\u001b[0;31mTypeError\u001b[0m                                 Traceback (most recent call last)",
      "Cell \u001b[0;32mIn[2], line 1\u001b[0m\n\u001b[0;32m----> 1\u001b[0m \u001b[43mmy_tuple\u001b[49m\u001b[43m[\u001b[49m\u001b[38;5;241;43m0\u001b[39;49m\u001b[43m]\u001b[49m \u001b[38;5;241m=\u001b[39m \u001b[38;5;241m99\u001b[39m\n",
      "\u001b[0;31mTypeError\u001b[0m: 'tuple' object does not support item assignment"
     ]
    }
   ],
   "source": [
    "my_tuple[0] = 99"
   ]
  },
  {
   "cell_type": "markdown",
   "id": "14392b22",
   "metadata": {},
   "source": [
    "We don't use tuples often in this book, but they can be useful when we have a fixed collection of objects or values (perhaps latitude and longitude or RGB values) or when we want to prevent a set of values from being accidentally modified. \n",
    "\n",
    "## Unpacking Tuples\n",
    "\n",
    "You might also see tuples as the output of functions. If you want a function to return multiple objects, you can return a tuple containing those objects. Later, you can get those items out of the tuple by indexing..."
   ]
  },
  {
   "cell_type": "code",
   "execution_count": 3,
   "id": "faae1ddb",
   "metadata": {},
   "outputs": [
    {
     "data": {
      "text/plain": [
       "3"
      ]
     },
     "execution_count": 3,
     "metadata": {},
     "output_type": "execute_result"
    }
   ],
   "source": [
    "my_tuple[2]"
   ]
  },
  {
   "cell_type": "markdown",
   "id": "080681ad",
   "metadata": {},
   "source": [
    "...or by **unpacking** the tuple."
   ]
  },
  {
   "cell_type": "code",
   "execution_count": 5,
   "id": "e3c4fe47",
   "metadata": {},
   "outputs": [
    {
     "name": "stdout",
     "output_type": "stream",
     "text": [
      "3\n",
      "4\n"
     ]
    }
   ],
   "source": [
    "point = (3, 4)\n",
    "x, y = point\n",
    "print(x)\n",
    "print(y) "
   ]
  },
  {
   "cell_type": "markdown",
   "id": "7e373317",
   "metadata": {},
   "source": []
  },
  {
   "cell_type": "markdown",
   "id": "90548f3d",
   "metadata": {},
   "source": []
  }
 ],
 "metadata": {
  "kernelspec": {
   "display_name": "Python 3",
   "language": "python",
   "name": "python3"
  },
  "language_info": {
   "codemirror_mode": {
    "name": "ipython",
    "version": 3
   },
   "file_extension": ".py",
   "mimetype": "text/x-python",
   "name": "python",
   "nbconvert_exporter": "python",
   "pygments_lexer": "ipython3",
   "version": "3.9.6"
  }
 },
 "nbformat": 4,
 "nbformat_minor": 5
}

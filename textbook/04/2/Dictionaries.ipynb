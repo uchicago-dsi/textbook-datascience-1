{
 "cells": [
  {
   "cell_type": "markdown",
   "metadata": {},
   "source": [
    "# Dictionaries\n",
    "*Amanda R. Kube Jotte*\n",
    "\n",
    "The next collection of data we will discuss is the *dictionary*. Like lists, dictionaries are built into Python and do not require you to load any additional libraries. Dictionaries are Python's built-in *mapping* tool. They *map* `values` onto `keys` and as are composed of `key`:`value` pairs. \n",
    "\n",
    "## Creating Dictionaries\n",
    "\n",
    "An empty dictionary can be created using `{}` as follows:"
   ]
  },
  {
   "cell_type": "code",
   "execution_count": 1,
   "metadata": {},
   "outputs": [],
   "source": [
    "dictionary = {}"
   ]
  },
  {
   "cell_type": "markdown",
   "metadata": {},
   "source": [
    "Where lists are indexed using numbers (for example `my_list[0:3]`), dictionaries are indexed using their *keys*. Below, we create a dictionary named `my_dict`  which has two keys which are both strings and two values, one of which is a float and the other a string. "
   ]
  },
  {
   "cell_type": "code",
   "execution_count": 2,
   "metadata": {},
   "outputs": [
    {
     "data": {
      "text/plain": [
       "{'key1': 2.4, 'key2': 'value here'}"
      ]
     },
     "execution_count": 2,
     "metadata": {},
     "output_type": "execute_result"
    }
   ],
   "source": [
    "value1 = 2.4\n",
    "value2 = \"value here\"\n",
    "\n",
    "my_dict = {\n",
    "    'key1': value1,\n",
    "    'key2': value2\n",
    "}\n",
    "\n",
    "my_dict"
   ]
  },
  {
   "cell_type": "markdown",
   "metadata": {},
   "source": [
    "If we want to access a value in this dictionary, we use its key."
   ]
  },
  {
   "cell_type": "code",
   "execution_count": 3,
   "metadata": {},
   "outputs": [
    {
     "data": {
      "text/plain": [
       "2.4"
      ]
     },
     "execution_count": 3,
     "metadata": {},
     "output_type": "execute_result"
    }
   ],
   "source": [
    "my_dict['key1']"
   ]
  },
  {
   "cell_type": "markdown",
   "metadata": {},
   "source": [
    "Dictionary keys must be unique and immutable.  They can be strings, numbers, or tuples.  Lists and dictionaries (that can be changed) are not allowed as dictionary keys.\n",
    "\n",
    "We can also create dictionaries from lists of key:value pairs presented as tuples using `dict()`."
   ]
  },
  {
   "cell_type": "code",
   "execution_count": 4,
   "metadata": {},
   "outputs": [
    {
     "data": {
      "text/plain": [
       "{1: 'Susanna', 2: 'Evelyn', 3: 'Amanda'}"
      ]
     },
     "execution_count": 4,
     "metadata": {},
     "output_type": "execute_result"
    }
   ],
   "source": [
    "dict([(1,\"Susanna\"),(2,\"Evelyn\"),(3,\"Amanda\")])"
   ]
  },
  {
   "cell_type": "markdown",
   "metadata": {},
   "source": [
    "In the previous section, we learned about list comprehensions. We can use *dictionary comprehensions* to create dictionaries in a similar way. Instead of using `[]` as in list comprehensions, a dictionary comprehension using `{}`."
   ]
  },
  {
   "cell_type": "code",
   "execution_count": 5,
   "metadata": {},
   "outputs": [
    {
     "data": {
      "text/plain": [
       "{1: 11, 2: 12, 3: 13}"
      ]
     },
     "execution_count": 5,
     "metadata": {},
     "output_type": "execute_result"
    }
   ],
   "source": [
    "{k:k+10 for k in (1,2,3)}"
   ]
  },
  {
   "cell_type": "markdown",
   "metadata": {},
   "source": [
    "## Dictionary of Dictionaries\n",
    "\n",
    "Though in the previous two examples the values were all strings or all integers. As we saw when creating `my_dict`, values in a dictionary do not need to be of the same data type. Values can include integers, floats, strings, lists, ..., or even other dictionaries! One useful application of a dictionary is as an address book.\n",
    "\n",
    "Here we create a dictionary of dictionaries.  (What are the keys of the top level dictionary?  What are the keys of the second-level dictionary?)"
   ]
  },
  {
   "cell_type": "code",
   "execution_count": 6,
   "metadata": {},
   "outputs": [
    {
     "data": {
      "text/plain": [
       "{'Bill': {'phone': 3125551234, 'email': 'bill@internet.com'},\n",
       " 'Mary': {'phone': 3125559876, 'email': 'mary@web.net'},\n",
       " 'Sue': {'phone': 3125552468, 'email': 'sue@email.edu'}}"
      ]
     },
     "execution_count": 6,
     "metadata": {},
     "output_type": "execute_result"
    }
   ],
   "source": [
    "addresses = {\n",
    "    \"Bill\": {'phone':3125551234, 'email': 'bill@internet.com'},\n",
    "    \"Mary\": {'phone':3125559876, 'email': 'mary@web.net'},\n",
    "    \"Sue\": {'phone':3125552468, 'email': 'sue@email.edu'}\n",
    "}\n",
    "addresses"
   ]
  },
  {
   "cell_type": "markdown",
   "metadata": {},
   "source": [
    "If I want to know Mary's information, I can access it using the key `Mary`."
   ]
  },
  {
   "cell_type": "code",
   "execution_count": 7,
   "metadata": {},
   "outputs": [
    {
     "data": {
      "text/plain": [
       "{'phone': 3125559876, 'email': 'mary@web.net'}"
      ]
     },
     "execution_count": 7,
     "metadata": {},
     "output_type": "execute_result"
    }
   ],
   "source": [
    "addresses['Mary']"
   ]
  },
  {
   "cell_type": "markdown",
   "metadata": {},
   "source": [
    "This returns a dictionary of information for Mary. If I am only interested in a certain piece of information, for example her phone number, I can access it using the `phone` key."
   ]
  },
  {
   "cell_type": "code",
   "execution_count": 8,
   "metadata": {},
   "outputs": [
    {
     "data": {
      "text/plain": [
       "3125559876"
      ]
     },
     "execution_count": 8,
     "metadata": {},
     "output_type": "execute_result"
    }
   ],
   "source": [
    "addresses['Mary']['phone']"
   ]
  },
  {
   "cell_type": "markdown",
   "metadata": {},
   "source": [
    "This returns only her phone number. Perhaps we can't remember which keys are in the address book. We can use `list()` to list all of the keys."
   ]
  },
  {
   "cell_type": "code",
   "execution_count": 9,
   "metadata": {},
   "outputs": [
    {
     "data": {
      "text/plain": [
       "['Bill', 'Mary', 'Sue']"
      ]
     },
     "execution_count": 9,
     "metadata": {},
     "output_type": "execute_result"
    }
   ],
   "source": [
    "list(addresses)"
   ]
  },
  {
   "cell_type": "markdown",
   "metadata": {},
   "source": [
    "We can also check if certain keys are `in` our dictionary."
   ]
  },
  {
   "cell_type": "code",
   "execution_count": 10,
   "metadata": {},
   "outputs": [
    {
     "data": {
      "text/plain": [
       "True"
      ]
     },
     "execution_count": 10,
     "metadata": {},
     "output_type": "execute_result"
    }
   ],
   "source": [
    "'Sue' in addresses"
   ]
  },
  {
   "cell_type": "code",
   "execution_count": 11,
   "metadata": {},
   "outputs": [
    {
     "data": {
      "text/plain": [
       "False"
      ]
     },
     "execution_count": 11,
     "metadata": {},
     "output_type": "execute_result"
    }
   ],
   "source": [
    "'Anne' in addresses"
   ]
  },
  {
   "cell_type": "code",
   "execution_count": 12,
   "metadata": {},
   "outputs": [
    {
     "data": {
      "text/plain": [
       "True"
      ]
     },
     "execution_count": 12,
     "metadata": {},
     "output_type": "execute_result"
    }
   ],
   "source": [
    "'Eve' not in addresses"
   ]
  },
  {
   "cell_type": "markdown",
   "metadata": {},
   "source": [
    "## Changing Dictionaries\n",
    "\n",
    "We can also add elements to a dictionary..."
   ]
  },
  {
   "cell_type": "code",
   "execution_count": 13,
   "metadata": {},
   "outputs": [
    {
     "data": {
      "text/plain": [
       "{'Bill': {'phone': 3125551234, 'email': 'bill@internet.com'},\n",
       " 'Mary': {'phone': 3125559876, 'email': 'mary@web.net'},\n",
       " 'Sue': {'phone': 3125552468, 'email': 'sue@email.edu'},\n",
       " 'Dan': {'phone': 3125555678}}"
      ]
     },
     "execution_count": 13,
     "metadata": {},
     "output_type": "execute_result"
    }
   ],
   "source": [
    "addresses['Dan'] = {'phone':3125555678} # Not all values need to have the same data type or length\n",
    "addresses"
   ]
  },
  {
   "cell_type": "markdown",
   "metadata": {},
   "source": [
    "...and delete elements from a dictionary using `del`."
   ]
  },
  {
   "cell_type": "code",
   "execution_count": 14,
   "metadata": {},
   "outputs": [
    {
     "data": {
      "text/plain": [
       "{'Bill': {'phone': 3125551234, 'email': 'bill@internet.com'},\n",
       " 'Sue': {'phone': 3125552468, 'email': 'sue@email.edu'},\n",
       " 'Dan': {'phone': 3125555678}}"
      ]
     },
     "execution_count": 14,
     "metadata": {},
     "output_type": "execute_result"
    }
   ],
   "source": [
    "del addresses['Mary']\n",
    "addresses"
   ]
  },
  {
   "cell_type": "markdown",
   "metadata": {},
   "source": [
    "Keys are unique so the following code would not add a new key, but rather change the value of the key:"
   ]
  },
  {
   "cell_type": "code",
   "execution_count": 15,
   "metadata": {},
   "outputs": [
    {
     "data": {
      "text/plain": [
       "{'Bill': {'phone': 3125551234, 'email': 'bill@internet.com'},\n",
       " 'Sue': {'phone': 3125552468, 'email': 'sue@email.edu'},\n",
       " 'Dan': {'phone': 3125555678, 'email': 'none'}}"
      ]
     },
     "execution_count": 15,
     "metadata": {},
     "output_type": "execute_result"
    }
   ],
   "source": [
    "addresses['Dan'] = {'phone':3125555678,'email': 'none'}\n",
    "addresses"
   ]
  },
  {
   "cell_type": "markdown",
   "metadata": {},
   "source": [
    "A major difference between dictionaries and lists and arrays is that dictionaries do not preserve the order of the key:value pairs.  There is no first element in a dictionary; there are the elements `'Bill'`, `'Sue'`, and `'Dan'`, not necessarily in that order.  Your code cannot depend on the keys coming out in any specific order.  If you need a consistent order, you must sort the keys yourself."
   ]
  },
  {
   "cell_type": "markdown",
   "metadata": {},
   "source": [
    "Next, we will discuss a collection of data that is different from both lists and dictionaries in that it *must* include only one data type and is not built into Python. This collection is known as an array."
   ]
  }
 ],
 "metadata": {
  "kernelspec": {
   "display_name": "Python 3 (ipykernel)",
   "language": "python",
   "name": "python3"
  },
  "language_info": {
   "codemirror_mode": {
    "name": "ipython",
    "version": 3
   },
   "file_extension": ".py",
   "mimetype": "text/x-python",
   "name": "python",
   "nbconvert_exporter": "python",
   "pygments_lexer": "ipython3",
   "version": "3.10.6"
  },
  "vscode": {
   "interpreter": {
    "hash": "aee8b7b246df8f9039afb4144a1f6fd8d2ca17a180786b69acc140d282b71a49"
   }
  }
 },
 "nbformat": 4,
 "nbformat_minor": 4
}

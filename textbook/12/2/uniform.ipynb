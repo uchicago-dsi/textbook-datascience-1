{
 "cells": [
  {
   "cell_type": "code",
   "execution_count": null,
   "metadata": {
    "id": "mONQM3_UNv0l",
    "tags": [
     "remove-cell"
    ]
   },
   "outputs": [],
   "source": [
    "import numpy as np\n",
    "import pandas as pd\n",
    "import matplotlib.pyplot as plt\n",
    "import warnings\n",
    "warnings.simplefilter(action='ignore', category=FutureWarning)"
   ]
  },
  {
   "cell_type": "markdown",
   "metadata": {
    "id": "HzxdGZlPmZ1u"
   },
   "source": [
    "# Uniform Distribution\n",
    "\n",
    "The **Uniform Distribution** is used when all events in a given sample space are equally likely to occur. We see this distribution in tossing a fair coin, rolling a die, or using a random number generator. Notice these examples include both discrete and continuous random variables. *The Uniform Distribution has both discrete and continuous versions!* \n",
    "\n",
    "First we will discuss the discrete version."
   ]
  },
  {
   "cell_type": "markdown",
   "metadata": {
    "id": "LRg8sNNwzvN-"
   },
   "source": [
    "## Discrete Uniform Empirical Distribution\n",
    "\n",
    "As a simple example, we'll build an empirical distribution of rolls of a six-sided die.\n",
    "\n",
    "So far we have randomly sampled from a list or array. We can also randomly sample from DataFrames! This is advantageous in the situation where we want to select a random subset of data to build predictive models or to analyze.\n",
    "\n",
    "First, we create a DataFrame representing a six-sided die."
   ]
  },
  {
   "cell_type": "code",
   "execution_count": null,
   "metadata": {
    "colab": {
     "base_uri": "https://localhost:8080/",
     "height": 238
    },
    "executionInfo": {
     "elapsed": 5,
     "status": "ok",
     "timestamp": 1689097341313,
     "user": {
      "displayName": "Amanda Jotte",
      "userId": "14869546754145298709"
     },
     "user_tz": 300
    },
    "id": "VSEM7P39zvOG",
    "outputId": "28af5a4b-409d-4fe7-af10-232a701f16c6"
   },
   "outputs": [],
   "source": [
    "die = pd.DataFrame(\n",
    "   {\n",
    "       'Face': np.arange(1, 7),\n",
    "   }\n",
    ")\n",
    "die"
   ]
  },
  {
   "cell_type": "markdown",
   "metadata": {
    "id": "FaJNg0tfzvOG"
   },
   "source": [
    "We see that this DataFrame has six rows and one column (Face).\n",
    "Similar to randomly selecting an option from a list, we can randomly sample from a DataFrame, using the DataFrame's `sample()` method.\n",
    "\n",
    "This method randomly selects an entire row or rows from the DataFrame. Below, the input argument `n = 1` denotes that we want to select exactly one row. We can choose to sample more than one row by changing `n`."
   ]
  },
  {
   "cell_type": "code",
   "execution_count": null,
   "metadata": {
    "colab": {
     "base_uri": "https://localhost:8080/",
     "height": 81
    },
    "executionInfo": {
     "elapsed": 4,
     "status": "ok",
     "timestamp": 1689097341313,
     "user": {
      "displayName": "Amanda Jotte",
      "userId": "14869546754145298709"
     },
     "user_tz": 300
    },
    "id": "OQXtZ8S_zvOG",
    "outputId": "c65528fa-4723-4bd1-fc48-1e17dade21bc"
   },
   "outputs": [],
   "source": [
    "die.sample(n = 1)"
   ]
  },
  {
   "cell_type": "markdown",
   "metadata": {
    "id": "kPnmZyTPzvOG"
   },
   "source": [
    "Some additional arguments to this function include:\n",
    "- `replace`: whether to \"replace\" rows for re-sampling (note: `np.random.choice()` also has this argument!)\n",
    "- `random_state`: the initial state of the pseudo-random generator\n",
    "\n",
    "Setting the `replace` option to `True` allows us to sample the same row more than once. With this option, we are choosing a row, replacing it in the \"pool\" of options to sample, and choosing our next row from the original DataFrame. Setting this option to `False` allows us to choose a row only once. The default in pandas is `replace=False`.\n",
    "\n",
    "Setting the `random_state` equal to some integer allows for reproducibility of results. With this option, `sample` still gives us a \"random\" result, but it will be the same \"random\" result each time we run our experiment. (\"True\" randomness is, after all, the domain of quantum mechanics!) Note that for now this is not extremely important, but it will be useful for predictive modeling in the future."
   ]
  },
  {
   "cell_type": "code",
   "execution_count": null,
   "metadata": {
    "colab": {
     "base_uri": "https://localhost:8080/",
     "height": 363
    },
    "executionInfo": {
     "elapsed": 4,
     "status": "ok",
     "timestamp": 1689097341313,
     "user": {
      "displayName": "Amanda Jotte",
      "userId": "14869546754145298709"
     },
     "user_tz": 300
    },
    "id": "whVgoSE8zvOH",
    "outputId": "35c0fdc4-6924-439d-930d-65b01270343c"
   },
   "outputs": [],
   "source": [
    "die.sample(10, replace=True, random_state=1)"
   ]
  },
  {
   "cell_type": "markdown",
   "metadata": {
    "id": "cdF5hlhozvOH"
   },
   "source": [
    "Above, we randomly sampled ten numbers between one and six (inclusive) with replacement corresponding to our rolling a die ten times. This is an example of a probabilistic sample as the chance of each face landing upright is 1/6, and we know this before rolling the die.\n",
    "\n",
    "We can now visualize the results of these random samples with a barchart. This will give us an idea of how often each number is rolled.\n",
    "\n",
    "If we only roll the die 12 times, some numbers appear with much greater frequency than others. (Notice that 3 doesn't appear at all in the graph below since it appeared 0 times in the sample)"
   ]
  },
  {
   "cell_type": "code",
   "execution_count": null,
   "metadata": {
    "colab": {
     "base_uri": "https://localhost:8080/",
     "height": 425
    },
    "executionInfo": {
     "elapsed": 545,
     "status": "ok",
     "timestamp": 1689097342003,
     "user": {
      "displayName": "Amanda Jotte",
      "userId": "14869546754145298709"
     },
     "user_tz": 300
    },
    "id": "TYtMzig6zvOH",
    "outputId": "ef9d844c-95cf-477c-9460-38b32d96dd79"
   },
   "outputs": [],
   "source": [
    "# This code takes a sample of 12 die, looks at the faces column of the dataframe,\n",
    "# counts the number of times each value occurs, sorts them from 1 to 6, then plots a bar chart\n",
    "#\n",
    "# Note we use a barchart to depict a discrete distribution\n",
    "\n",
    "die.sample(12, replace=True, random_state=1).Face.value_counts().sort_index().plot.bar();\n",
    "plt.xlabel('Face');\n",
    "plt.ylabel(\"Number of Occurrences\");\n",
    "plt.title(\"Distribution of 12 Dice Rolls\");\n",
    "plt.show()"
   ]
  },
  {
   "cell_type": "markdown",
   "metadata": {
    "id": "cqY5JyklzvOH"
   },
   "source": [
    "Randomly sampling 100 rolls of the die we start to see a more evenly distributed graph."
   ]
  },
  {
   "cell_type": "code",
   "execution_count": null,
   "metadata": {
    "colab": {
     "base_uri": "https://localhost:8080/",
     "height": 425
    },
    "executionInfo": {
     "elapsed": 670,
     "status": "ok",
     "timestamp": 1689097342672,
     "user": {
      "displayName": "Amanda Jotte",
      "userId": "14869546754145298709"
     },
     "user_tz": 300
    },
    "id": "oVGKaB_czvOH",
    "outputId": "ba79a5c3-1f03-4c9d-9987-25b4e2876c01"
   },
   "outputs": [],
   "source": [
    "die.sample(100, replace=True).Face.value_counts().sort_index().plot.bar();\n",
    "plt.xlabel('Face');\n",
    "plt.ylabel(\"Number of Occurrences\");\n",
    "plt.title(\"Distribution of 100 Dice Rolls\");\n",
    "plt.show()"
   ]
  },
  {
   "cell_type": "markdown",
   "metadata": {
    "id": "X_UasovGzvOH"
   },
   "source": [
    "Let's see how the distribution changes as we increase the number of randomly sampled rolls of a six-sided die from 1,000 to 100,000\n",
    "\n"
   ]
  },
  {
   "cell_type": "code",
   "execution_count": null,
   "metadata": {
    "colab": {
     "base_uri": "https://localhost:8080/",
     "height": 425
    },
    "executionInfo": {
     "elapsed": 607,
     "status": "ok",
     "timestamp": 1689097343278,
     "user": {
      "displayName": "Amanda Jotte",
      "userId": "14869546754145298709"
     },
     "user_tz": 300
    },
    "id": "3mT_NImKzvOH",
    "outputId": "920f183d-34fb-4bf8-9682-e06a2fe34d33"
   },
   "outputs": [],
   "source": [
    "die.sample(1_000, replace=True).Face.value_counts().sort_index().plot.bar();\n",
    "plt.xlabel('Face');\n",
    "plt.ylabel(\"Number of Occurrences\");\n",
    "plt.title(\"Distribution of 1,000 Dice Rolls\");\n",
    "plt.show()"
   ]
  },
  {
   "cell_type": "code",
   "execution_count": null,
   "metadata": {
    "colab": {
     "base_uri": "https://localhost:8080/",
     "height": 425
    },
    "executionInfo": {
     "elapsed": 185,
     "status": "ok",
     "timestamp": 1689097343460,
     "user": {
      "displayName": "Amanda Jotte",
      "userId": "14869546754145298709"
     },
     "user_tz": 300
    },
    "id": "iSrk-MkPzvOH",
    "outputId": "6909b9c5-38d1-4d0d-987f-cbca5015d17b"
   },
   "outputs": [],
   "source": [
    "die.sample(10_000, replace=True).Face.value_counts().sort_index().plot.bar();\n",
    "plt.xlabel('Face');\n",
    "plt.ylabel(\"Number of Occurrences\");\n",
    "plt.title(\"Distribution of 10,000 Dice Rolls\");\n",
    "plt.show()"
   ]
  },
  {
   "cell_type": "code",
   "execution_count": null,
   "metadata": {
    "colab": {
     "base_uri": "https://localhost:8080/",
     "height": 425
    },
    "executionInfo": {
     "elapsed": 453,
     "status": "ok",
     "timestamp": 1689097343912,
     "user": {
      "displayName": "Amanda Jotte",
      "userId": "14869546754145298709"
     },
     "user_tz": 300
    },
    "id": "IKaJoO5qzvOH",
    "outputId": "f9aa6b9d-ce8e-4ee2-a174-f2225bb403a4"
   },
   "outputs": [],
   "source": [
    "die.sample(100_000, replace=True).Face.value_counts().sort_index().plot.bar();\n",
    "plt.xlabel('Face');\n",
    "plt.ylabel(\"Number of Occurrences\");\n",
    "plt.title(\"Distribution of 100,000 Dice Rolls\");\n",
    "plt.show()"
   ]
  },
  {
   "cell_type": "markdown",
   "metadata": {
    "id": "Rww-DUwWzvOH"
   },
   "source": [
    "As the number of samples increases – that is, as we roll the die many many many times – we find that the empirical distribution (our observed distribution of dice rolls) shows each face of the die appears roughly the same number of times. As we know the probability of sampling each face of the die is the same (1/6), we are seeing our empirical distribution get closer to the true probability distribution of the die, looking more *uniform*.\n",
    "\n",
    "This phenomenon is related to a mathematical theorem known as the **Law of Large Numbers**. The Law of Large Numbers states that, as the number of experiments increases, the mean of the empirical distribution gets closer to the mean of the probability distribution (also known as the expected value).\n",
    "\n",
    "Let's look at the mean of the empirical distribution for different numbers of experiments."
   ]
  },
  {
   "cell_type": "code",
   "execution_count": null,
   "metadata": {
    "colab": {
     "base_uri": "https://localhost:8080/"
    },
    "executionInfo": {
     "elapsed": 199,
     "status": "ok",
     "timestamp": 1689097344109,
     "user": {
      "displayName": "Amanda Jotte",
      "userId": "14869546754145298709"
     },
     "user_tz": 300
    },
    "id": "wUFGvtwhC_eZ",
    "outputId": "d0f55885-ba1a-4d16-8246-4dd59be1ae59"
   },
   "outputs": [],
   "source": [
    "np.mean(die.sample(100, replace=True, random_state = 118))"
   ]
  },
  {
   "cell_type": "code",
   "execution_count": null,
   "metadata": {
    "colab": {
     "base_uri": "https://localhost:8080/"
    },
    "executionInfo": {
     "elapsed": 4,
     "status": "ok",
     "timestamp": 1689097344109,
     "user": {
      "displayName": "Amanda Jotte",
      "userId": "14869546754145298709"
     },
     "user_tz": 300
    },
    "id": "qfUpMS29DbYA",
    "outputId": "becb61af-62dc-4bd4-cb4d-a1fa8a291570"
   },
   "outputs": [],
   "source": [
    "np.mean(die.sample(1_000, replace=True, random_state = 118))"
   ]
  },
  {
   "cell_type": "code",
   "execution_count": null,
   "metadata": {
    "colab": {
     "base_uri": "https://localhost:8080/"
    },
    "executionInfo": {
     "elapsed": 3,
     "status": "ok",
     "timestamp": 1689097344109,
     "user": {
      "displayName": "Amanda Jotte",
      "userId": "14869546754145298709"
     },
     "user_tz": 300
    },
    "id": "R4fMWl5jDdgt",
    "outputId": "12c8150e-bee0-4ecc-8fe9-cd09b819aa0d"
   },
   "outputs": [],
   "source": [
    "np.mean(die.sample(1_000_000, replace=True, random_state = 118))"
   ]
  },
  {
   "cell_type": "markdown",
   "metadata": {
    "id": "d1Bzx04Vioap"
   },
   "source": [
    "<font color=\"purple\">\n",
    "\n",
    "\n",
    "\n",
    "\n",
    "\n",
    "</font>"
   ]
  },
  {
   "cell_type": "markdown",
   "metadata": {
    "id": "0iIkmIngD0AC"
   },
   "source": [
    "These seem to be approaching 3.5, but in order to know for sure, we need to know more about the probability distribution for our dice rolling example: the **Discrete Uniform Distribution**."
   ]
  },
  {
   "cell_type": "markdown",
   "metadata": {
    "id": "UHdrlKmNi5s-"
   },
   "source": [
    "## Discrete Uniform Probability Distribution\n",
    "\n",
    "How do we define this rolling of a six-sided die mathematically? We saw above that repeating this experiment yielded a collection of samples from the population for samples of sizes 100, 1,000, 10,000 and larger.\n",
    "\n",
    "In the case where each outcome is equally likely to occur, the function that assigns probabilities is the **uniform distribution**. For a sample space containing $n$ elements, the PMF is defined by:\n",
    "\n",
    "> $P(X=x)=\\frac{1}{n}$ for all x in the sample space S (0 otherwise).\n",
    "\n",
    "Further, if $E$ is an event containing multiple elements from the sample space, then:\n",
    "\n",
    "> $P(E)=\\frac{\\text{Number of elements in E}}{n}$\n",
    "\n",
    "For our example of rolling a six-sided die, each roll has a probability of exactly $\\frac{1}{6} \\approx 0.1666$ of occurring. If we take the example of rolling a six-sided die 1,000 times and computing the probabilities of each result, we find that, in practice, the empirical probability we rolled a 1 was $0.171$, not the $0.1666$ given by the theoretical probability."
   ]
  },
  {
   "cell_type": "code",
   "execution_count": null,
   "metadata": {
    "colab": {
     "base_uri": "https://localhost:8080/"
    },
    "executionInfo": {
     "elapsed": 2,
     "status": "ok",
     "timestamp": 1689097344109,
     "user": {
      "displayName": "Amanda Jotte",
      "userId": "14869546754145298709"
     },
     "user_tz": 300
    },
    "id": "FJw6VaEXtAu9",
    "outputId": "b0696210-6a28-404a-8d6d-c4335f8afb53"
   },
   "outputs": [],
   "source": [
    "#both the np.random.choice and DataFrame.sample functions sample from a uniform distribution by default\n",
    "empirical_probabilities = (die.sample(1_000, replace=True,random_state=1).value_counts())/1_000\n",
    "empirical_probabilities"
   ]
  },
  {
   "cell_type": "markdown",
   "metadata": {
    "id": "VH-dBUEZFahB"
   },
   "source": [
    "Returning to our discussion of the Law of Large Numbers, what is the expected value (mean) of the Uniform Probability Distribution? \n",
    "\n",
    "The mean of a uniform distribution with PMF $P(X=x)=\\frac{1}{n}$ and sample space S = {1, 2, ..., n} is:\n",
    "\n",
    "> $\\mu(X)=\\frac{n+1}{2}$\n",
    "\n",
    "This corresponds to the average of the elements in our sample space: \n",
    "> $\\frac{1+2+...+n}{n}= \\frac{\\frac{n(n+1)}{2}}{n}= \\frac{n+1}{2}$\n",
    "\n",
    "In our dice rolling example, n is 6 so the expected (theoretical) mean of our probability distribution is $\\frac{6+1}{2} = 3.5$. So the means of our empirical distributions are indeed approaching 3.5 as the samples get larger. \n",
    "\n",
    "We can also calculate the variance and standard deviation for the probability distribution of dice rolling. The variance of a uniform probability distribution with sample space S = {1, 2, ..., n} is:\n",
    "\n",
    " > $\\sigma^2(X)=\\frac{n^2 - 1}{12}$\n",
    "\n",
    " which for our example is:\n",
    " \n",
    " > $\\frac{6^2 - 1}{12} = 2.92$\n",
    " \n",
    "As the standard deviation is the square root of the variance, the standard deviation of our dice rolling example is 1.71. \n",
    " \n",
    "Let's check whether an empirical distribution of rolling 1,000,000 die will match the expected standard deviation:"
   ]
  },
  {
   "cell_type": "code",
   "execution_count": null,
   "metadata": {
    "colab": {
     "base_uri": "https://localhost:8080/"
    },
    "executionInfo": {
     "elapsed": 2,
     "status": "ok",
     "timestamp": 1689097344109,
     "user": {
      "displayName": "Amanda Jotte",
      "userId": "14869546754145298709"
     },
     "user_tz": 300
    },
    "id": "iN3k77zT6tIM",
    "outputId": "cd9c9f02-1588-4cd1-ea12-570622740490"
   },
   "outputs": [],
   "source": [
    "np.std(die.sample(1_000_000, replace=True))"
   ]
  },
  {
   "cell_type": "markdown",
   "metadata": {
    "id": "7IPo4vii6zvd"
   },
   "source": [
    "What we see in our empirical distribution matches what we would expect mathematically knowing the probability distribution it is approximating. In fact, the Law of Large Numbers says that when $n$, or the number of samples, is large, the mean and standard deviation from our empirical distribution serves as a good estimate for the mean and standard deviation of the probability distribution."
   ]
  },
  {
   "cell_type": "markdown",
   "metadata": {
    "id": "ybzaJh-ngX5C"
   },
   "source": [
    "## Continuous Uniform Probability Distribution\n",
    "\n",
    "Imagine that instead of sampling from a discrete sample space, as in our dice rolling example, we sample with replacement from a continuous sample space also between 1 and 6. Now, our random variable can take on any real number in this interval. When no outcome has a higher chance than another of being selected (imagine throwing a dart at a number line), this random variable is continuously uniform. \n",
    "\n",
    "We denote a continuous uniform random variable, $X$, on the interval $[a, b]$ with $X \\sim U(a,b)$. Therefore, a random variable that takes values between 1 and 6 would be denoted by $X \\sim U(1,6)$. \n",
    "\n",
    "The PDF for a continuous uniform random variable is:\n",
    "\n",
    "> $f(x) = \\frac{1}{b-a}$ when $x$ is between $a$ and $b$ and 0 otherwise.\n",
    "\n",
    "From this distribution, we calculate the middle of the interval:\n",
    "\n",
    "> $\\mu = \\frac{b+a}{2}$\n",
    "\n",
    "and the variance:\n",
    "\n",
    "> $\\sigma^2 = \\frac{(b-a)^2}{12}$ "
   ]
  },
  {
   "cell_type": "markdown",
   "metadata": {
    "id": "HMJVPExf_Z_u"
   },
   "source": [
    "Our continuous random variable $X \\sim U(1,6)$ would have PDF $P(X=x) = \\frac{1}{6-1} = \\frac{1}{5}$ when $x$ is between $1$ and $6$ and 0 otherwise. It also has $\\mu = \\frac{6+1}{2} = \\frac{7}{2}$ and $\\sigma = \\sqrt{\\sigma^2} = \\sqrt{\\frac{(6-1)^2}{12}}= \\sqrt{\\frac{25}{12}} \\approx 1.44$\n",
    "\n",
    "The graph of this distribution is shown below along with the mean as a red dot and one standard deviation plotted with dashes on either side of the mean."
   ]
  },
  {
   "cell_type": "code",
   "execution_count": null,
   "metadata": {
    "colab": {
     "base_uri": "https://localhost:8080/",
     "height": 435
    },
    "executionInfo": {
     "elapsed": 631,
     "status": "ok",
     "timestamp": 1689097373281,
     "user": {
      "displayName": "Amanda Jotte",
      "userId": "14869546754145298709"
     },
     "user_tz": 300
    },
    "id": "Y9S83acMDqAv",
    "outputId": "0de14301-ba18-41c6-d77a-d35843b0c4c1",
    "tags": [
     "remove-input"
    ]
   },
   "outputs": [],
   "source": [
    "plt.plot([1,2,3,4,5,6], [0.2]*6)\n",
    "plt.fill_between([1,2,3,4,5,6], [0.2]*6, 0)\n",
    "plt.scatter(7/2, -0.004, color='red', s=30)\n",
    "plt.hlines(y=-0.004, xmin=7/2 - 1.44, xmax=7/2 + 1.44, color = 'red', linestyles = 'dashed')\n",
    "plt.ylim([-0.01,0.3]);\n",
    "plt.xlabel(\"Value\");\n",
    "plt.ylabel(\"Probability\");\n",
    "plt.title(\"Continuous Uniform Probability Distribution\");"
   ]
  },
  {
   "cell_type": "markdown",
   "metadata": {
    "id": "rFJpsP0yObNr"
   },
   "source": [
    "Often, it is useful to be able to draw samples from a known distribution like the uniform. Previously, we have used `np.random.sample()` to draw samples from a given list. The `np.random()` module has other useful functions for drawing random samples, including `np.random.uniform()`. This function takes in a value for `low` and `high` as well as a `size` (the number of samples to draw) and draws from the continuous uniform probability distribution on the interval [`low` to `high`). \n",
    "\n",
    "Below, we draw 10 random samples from the uniform distribution depicted above."
   ]
  },
  {
   "cell_type": "code",
   "execution_count": null,
   "metadata": {
    "colab": {
     "base_uri": "https://localhost:8080/"
    },
    "executionInfo": {
     "elapsed": 117,
     "status": "ok",
     "timestamp": 1689097344562,
     "user": {
      "displayName": "Amanda Jotte",
      "userId": "14869546754145298709"
     },
     "user_tz": 300
    },
    "id": "tDYiQgHR_bSO",
    "outputId": "94848534-8dfb-4997-ea1c-7abf820fe025"
   },
   "outputs": [],
   "source": [
    "np.random.uniform(low = 1, high = 6, size = 10)"
   ]
  },
  {
   "cell_type": "markdown",
   "metadata": {
    "id": "rgd7MRB4Qvfz"
   },
   "source": [
    "We can use this random number generator to create an empirical distribution for the continuous uniform."
   ]
  },
  {
   "cell_type": "code",
   "execution_count": null,
   "metadata": {
    "colab": {
     "base_uri": "https://localhost:8080/",
     "height": 430
    },
    "executionInfo": {
     "elapsed": 322,
     "status": "ok",
     "timestamp": 1689097344883,
     "user": {
      "displayName": "Amanda Jotte",
      "userId": "14869546754145298709"
     },
     "user_tz": 300
    },
    "id": "HUUbKjph_egZ",
    "outputId": "fc80aae7-16e1-478e-db98-666da560d093"
   },
   "outputs": [],
   "source": [
    "# Note we use a histogram to depict a continuous distribution\n",
    "plt.hist(np.random.uniform(1,6,100));\n",
    "plt.xlabel(\"Value\");\n",
    "plt.ylabel(\"Probability\");\n",
    "plt.title(\"Sample Size: 100\\n Continuous Uniform Empirical Distribution\");"
   ]
  },
  {
   "cell_type": "markdown",
   "metadata": {
    "id": "WojIaqYiQ5yw"
   },
   "source": [
    "Again, due to the Law of Large Numbers, as the size of the sample increases, we see the histograms look more like the graph of the uniform probability distribution."
   ]
  },
  {
   "cell_type": "code",
   "execution_count": null,
   "metadata": {
    "colab": {
     "base_uri": "https://localhost:8080/",
     "height": 430
    },
    "executionInfo": {
     "elapsed": 318,
     "status": "ok",
     "timestamp": 1689097345200,
     "user": {
      "displayName": "Amanda Jotte",
      "userId": "14869546754145298709"
     },
     "user_tz": 300
    },
    "id": "x5b3s4e1_zo8",
    "outputId": "8f140f58-b71d-4d20-bcf5-08fceac3d066"
   },
   "outputs": [],
   "source": [
    "plt.hist(np.random.uniform(1,6,1_000));\n",
    "plt.xlabel(\"Value\");\n",
    "plt.ylabel(\"Probability\");\n",
    "plt.title(\"Sample Size: 1,000\\n Contiunous Uniform Empirical Distribution\");"
   ]
  },
  {
   "cell_type": "code",
   "execution_count": null,
   "metadata": {
    "colab": {
     "base_uri": "https://localhost:8080/",
     "height": 430
    },
    "executionInfo": {
     "elapsed": 526,
     "status": "ok",
     "timestamp": 1689097345724,
     "user": {
      "displayName": "Amanda Jotte",
      "userId": "14869546754145298709"
     },
     "user_tz": 300
    },
    "id": "GZFQ4ARdCJGR",
    "outputId": "ed1454d1-095e-4df3-aa1c-2dd3f63da496"
   },
   "outputs": [],
   "source": [
    "plt.hist(np.random.uniform(1,6,10_000));\n",
    "plt.xlabel(\"Value\");\n",
    "plt.ylabel(\"Probability\");\n",
    "plt.title(\"Sample Size: 10,000\\n Contiunous Uniform Empirical Distribution\");"
   ]
  },
  {
   "cell_type": "code",
   "execution_count": null,
   "metadata": {
    "colab": {
     "base_uri": "https://localhost:8080/",
     "height": 430
    },
    "executionInfo": {
     "elapsed": 365,
     "status": "ok",
     "timestamp": 1689097346086,
     "user": {
      "displayName": "Amanda Jotte",
      "userId": "14869546754145298709"
     },
     "user_tz": 300
    },
    "id": "807zpoQVCKil",
    "outputId": "43d826f8-6dee-4ede-82f2-50e84397c037"
   },
   "outputs": [],
   "source": [
    "plt.hist(np.random.uniform(1,6,100_000));\n",
    "plt.xlabel(\"Value\");\n",
    "plt.ylabel(\"Probability\");\n",
    "plt.title(\"Sample Size: 100,000\\n Contiunous Uniform Empirical Distribution\");"
   ]
  },
  {
   "cell_type": "markdown",
   "metadata": {
    "id": "JdLOaLJZRLAy"
   },
   "source": [
    "The mean and standard deviation approach the theoretical values we calculated as well."
   ]
  },
  {
   "cell_type": "code",
   "execution_count": null,
   "metadata": {
    "colab": {
     "base_uri": "https://localhost:8080/"
    },
    "executionInfo": {
     "elapsed": 3,
     "status": "ok",
     "timestamp": 1689097346086,
     "user": {
      "displayName": "Amanda Jotte",
      "userId": "14869546754145298709"
     },
     "user_tz": 300
    },
    "id": "4VvgBqwqH8BW",
    "outputId": "49639999-cf4d-48cb-81ae-0b28ba2bf496"
   },
   "outputs": [],
   "source": [
    "np.random.uniform(1,6,100_000).mean()"
   ]
  },
  {
   "cell_type": "code",
   "execution_count": null,
   "metadata": {
    "colab": {
     "base_uri": "https://localhost:8080/"
    },
    "executionInfo": {
     "elapsed": 2,
     "status": "ok",
     "timestamp": 1689097346086,
     "user": {
      "displayName": "Amanda Jotte",
      "userId": "14869546754145298709"
     },
     "user_tz": 300
    },
    "id": "g7SHOMEPRTCx",
    "outputId": "a302da95-71af-4422-e07d-3643b5d40149"
   },
   "outputs": [],
   "source": [
    "np.random.uniform(1,6,100_000).std()"
   ]
  },
  {
   "cell_type": "markdown",
   "metadata": {
    "id": "5RNX8nKYDikj"
   },
   "source": [
    "Next we will discuss one of the most commonly used probability distributions of all: the **Normal Distribution**."
   ]
  }
 ],
 "metadata": {
  "colab": {
   "provenance": []
  },
  "kernelspec": {
   "display_name": "Python 3 (ipykernel)",
   "language": "python",
   "name": "python3"
  },
  "language_info": {
   "codemirror_mode": {
    "name": "ipython",
    "version": 3
   },
   "file_extension": ".py",
   "mimetype": "text/x-python",
   "name": "python",
   "nbconvert_exporter": "python",
   "pygments_lexer": "ipython3",
   "version": "3.12.2"
  },
  "toc": {
   "base_numbering": 1,
   "nav_menu": {},
   "number_sections": true,
   "sideBar": true,
   "skip_h1_title": false,
   "title_cell": "Table of Contents",
   "title_sidebar": "Contents",
   "toc_cell": false,
   "toc_position": {},
   "toc_section_display": true,
   "toc_window_display": false
  },
  "vscode": {
   "interpreter": {
    "hash": "aee8b7b246df8f9039afb4144a1f6fd8d2ca17a180786b69acc140d282b71a49"
   }
  }
 },
 "nbformat": 4,
 "nbformat_minor": 4
}

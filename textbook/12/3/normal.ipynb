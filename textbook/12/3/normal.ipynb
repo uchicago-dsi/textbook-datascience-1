{
 "cells": [
  {
   "cell_type": "code",
   "execution_count": 1,
   "metadata": {
    "id": "tAzM3r78p08k",
    "tags": [
     "remove-cell"
    ]
   },
   "outputs": [],
   "source": [
    "import pandas as pd\n",
    "import numpy as np\n",
    "import matplotlib.pyplot as plt\n",
    "%matplotlib inline\n",
    "import warnings\n",
    "warnings.filterwarnings('ignore')"
   ]
  },
  {
   "cell_type": "markdown",
   "metadata": {
    "id": "HtrRcRR0uFAM"
   },
   "source": [
    "# Normal Distribution"
   ]
  },
  {
   "cell_type": "markdown",
   "metadata": {
    "id": "q0LoZTYHoCuw"
   },
   "source": [
    "Let's consider another distribution with real data.\n",
    "\n",
    "Below we load in the classic Galton Height dataset[^***]. This dataset was collected from families and contains heights of the father, mother, and children. We will focus on the father heights, and plot the distribution of heights in a histogram."
   ]
  },
  {
   "cell_type": "code",
   "execution_count": 4,
   "metadata": {
    "colab": {
     "base_uri": "https://localhost:8080/",
     "height": 235
    },
    "executionInfo": {
     "elapsed": 188,
     "status": "ok",
     "timestamp": 1689610841357,
     "user": {
      "displayName": "Susanna Lange",
      "userId": "00843628675540967552"
     },
     "user_tz": 300
    },
    "id": "UOdUEyhemMef",
    "outputId": "79220073-def2-4067-bec0-293762a2f8a4"
   },
   "outputs": [
    {
     "data": {
      "text/html": [
       "<div>\n",
       "<style scoped>\n",
       "    .dataframe tbody tr th:only-of-type {\n",
       "        vertical-align: middle;\n",
       "    }\n",
       "\n",
       "    .dataframe tbody tr th {\n",
       "        vertical-align: top;\n",
       "    }\n",
       "\n",
       "    .dataframe thead th {\n",
       "        text-align: right;\n",
       "    }\n",
       "</style>\n",
       "<table border=\"1\" class=\"dataframe\">\n",
       "  <thead>\n",
       "    <tr style=\"text-align: right;\">\n",
       "      <th></th>\n",
       "      <th>family</th>\n",
       "      <th>father</th>\n",
       "      <th>mother</th>\n",
       "      <th>midparentHeight</th>\n",
       "      <th>children</th>\n",
       "      <th>childNum</th>\n",
       "      <th>gender</th>\n",
       "      <th>childHeight</th>\n",
       "    </tr>\n",
       "  </thead>\n",
       "  <tbody>\n",
       "    <tr>\n",
       "      <th>0</th>\n",
       "      <td>1</td>\n",
       "      <td>78.5</td>\n",
       "      <td>67.0</td>\n",
       "      <td>75.43</td>\n",
       "      <td>4</td>\n",
       "      <td>1</td>\n",
       "      <td>male</td>\n",
       "      <td>73.2</td>\n",
       "    </tr>\n",
       "    <tr>\n",
       "      <th>1</th>\n",
       "      <td>1</td>\n",
       "      <td>78.5</td>\n",
       "      <td>67.0</td>\n",
       "      <td>75.43</td>\n",
       "      <td>4</td>\n",
       "      <td>2</td>\n",
       "      <td>female</td>\n",
       "      <td>69.2</td>\n",
       "    </tr>\n",
       "    <tr>\n",
       "      <th>2</th>\n",
       "      <td>1</td>\n",
       "      <td>78.5</td>\n",
       "      <td>67.0</td>\n",
       "      <td>75.43</td>\n",
       "      <td>4</td>\n",
       "      <td>3</td>\n",
       "      <td>female</td>\n",
       "      <td>69.0</td>\n",
       "    </tr>\n",
       "    <tr>\n",
       "      <th>3</th>\n",
       "      <td>1</td>\n",
       "      <td>78.5</td>\n",
       "      <td>67.0</td>\n",
       "      <td>75.43</td>\n",
       "      <td>4</td>\n",
       "      <td>4</td>\n",
       "      <td>female</td>\n",
       "      <td>69.0</td>\n",
       "    </tr>\n",
       "    <tr>\n",
       "      <th>4</th>\n",
       "      <td>2</td>\n",
       "      <td>75.5</td>\n",
       "      <td>66.5</td>\n",
       "      <td>73.66</td>\n",
       "      <td>4</td>\n",
       "      <td>1</td>\n",
       "      <td>male</td>\n",
       "      <td>73.5</td>\n",
       "    </tr>\n",
       "    <tr>\n",
       "      <th>5</th>\n",
       "      <td>2</td>\n",
       "      <td>75.5</td>\n",
       "      <td>66.5</td>\n",
       "      <td>73.66</td>\n",
       "      <td>4</td>\n",
       "      <td>2</td>\n",
       "      <td>male</td>\n",
       "      <td>72.5</td>\n",
       "    </tr>\n",
       "  </tbody>\n",
       "</table>\n",
       "</div>"
      ],
      "text/plain": [
       "  family  father  mother  midparentHeight  children  childNum  gender  \\\n",
       "0      1    78.5    67.0            75.43         4         1    male   \n",
       "1      1    78.5    67.0            75.43         4         2  female   \n",
       "2      1    78.5    67.0            75.43         4         3  female   \n",
       "3      1    78.5    67.0            75.43         4         4  female   \n",
       "4      2    75.5    66.5            73.66         4         1    male   \n",
       "5      2    75.5    66.5            73.66         4         2    male   \n",
       "\n",
       "   childHeight  \n",
       "0         73.2  \n",
       "1         69.2  \n",
       "2         69.0  \n",
       "3         69.0  \n",
       "4         73.5  \n",
       "5         72.5  "
      ]
     },
     "execution_count": 4,
     "metadata": {},
     "output_type": "execute_result"
    }
   ],
   "source": [
    "galton_df = pd.read_csv(\"../../data/height.csv\")\n",
    "galton_df.head(6)"
   ]
  },
  {
   "cell_type": "code",
   "execution_count": 5,
   "metadata": {
    "colab": {
     "base_uri": "https://localhost:8080/",
     "height": 472
    },
    "executionInfo": {
     "elapsed": 1567,
     "status": "ok",
     "timestamp": 1689610867384,
     "user": {
      "displayName": "Susanna Lange",
      "userId": "00843628675540967552"
     },
     "user_tz": 300
    },
    "id": "6Mi-17cNm1oG",
    "outputId": "93ce9d81-264e-49aa-c749-3c4867921b15"
   },
   "outputs": [
    {
     "data": {
      "image/png": "[encoded data removed]",
      "text/plain": [
       "<Figure size 640x480 with 1 Axes>"
      ]
     },
     "metadata": {},
     "output_type": "display_data"
    }
   ],
   "source": [
    "bin_size=np.arange(60, 80.5, 1)\n",
    "plt.hist(galton_df[\"father\"], bins = bin_size, density = True)\n",
    "plt.title('Father heights')\n",
    "plt.xlabel('heights (in inches)')\n",
    "plt.ylabel('Probabilities')\n",
    "plt.scatter(galton_df['father'].mean(), 0.004, color='red', s=60);\n",
    "plt.show()"
   ]
  },
  {
   "cell_type": "markdown",
   "metadata": {
    "id": "MO3r-9W6moSJ"
   },
   "source": [
    "This data approximates a distribution, but a special one!\n",
    "We can see this distribution is bell-shaped, continuous, symmetric and approximates a **normal distribution**."
   ]
  },
  {
   "cell_type": "markdown",
   "metadata": {
    "id": "ja0QmiNunQY0"
   },
   "source": [
    "## Normal Probability Distribution\n",
    "\n",
    "Arguably one of the most important continuous distributions, the normal distribution is a common distribution that tends to model heights, weights, SAT scores - to name a few.\n",
    "\n",
    "This distribution is symmetric and bell-shaped, giving it the nickname \"bell-curve\". The three measures of center: mode, median, and mean, are exactly the same for the normal distribution. Further, the distribution itself is defined entirely in terms of its mean and standard deviation. Notationally, given a random variable $X$ that is normally distributed, we can say $X \\sim N(\\mu,\\sigma)$, where $\\mu$ and $\\sigma$ are the mean and standard deviation of the distribution, respectively.\n",
    "\n",
    "Below, we can plot a normal distribution with the `scipy` library function `stats.norm()`:\n",
    "\n",
    "```python\n",
    "stats.norm(loc, scale)\n",
    "```\n",
    "where the arguments `loc` and `scale` correspond to the mean and standard deviation of the normal distribution, respectively. \n",
    "\n",
    "To get the corresponding $y$ values, we call the PDF method (`pdf()`) on a given array of x-values:\n",
    "```python\n",
    "stats.norm(loc, scale).pdf(x)\n",
    "```\n",
    "\n",
    "In our visualization, we also depict the mean in red. "
   ]
  },
  {
   "cell_type": "code",
   "execution_count": 8,
   "metadata": {
    "colab": {
     "base_uri": "https://localhost:8080/",
     "height": 472
    },
    "executionInfo": {
     "elapsed": 480,
     "status": "ok",
     "timestamp": 1689622686716,
     "user": {
      "displayName": "Susanna Lange",
      "userId": "00843628675540967552"
     },
     "user_tz": 300
    },
    "id": "cFM9Aj9QAvxi",
    "outputId": "3fe0093d-f87d-4ee2-a46a-bdd4555ffbff"
   },
   "outputs": [
    {
     "data": {
      "image/png": "[encoded data removed]",
      "text/plain": [
       "<Figure size 640x480 with 1 Axes>"
      ]
     },
     "metadata": {},
     "output_type": "display_data"
    }
   ],
   "source": [
    "from scipy import stats\n",
    "\n",
    "# initialize a normal distribution with mean 0 and standard deviation of 1\n",
    "snd = stats.norm(loc = 0, scale = 1)\n",
    "\n",
    "#generates 100 values from -5 to 5, equally spaced\n",
    "x = np.linspace(-5, 5, 100)\n",
    "\n",
    "plt.plot(x, snd.pdf(x))\n",
    "plt.scatter(0, 0, color='red', s=60);\n",
    "\n",
    "plt.xlim(-5, 5)\n",
    "plt.title('Normal Distribution')\n",
    "plt.xlabel('Values of Random Variable X')\n",
    "plt.ylabel('Probability')\n",
    "plt.show()"
   ]
  },
  {
   "cell_type": "markdown",
   "metadata": {
    "id": "lMLzxQhPDN3x"
   },
   "source": [
    "While there is not an easy formula to compute probabilities by hand, the normal curve itself can be written as a function \n",
    ">$f(x)=\\frac{1}{\\sigma \\sqrt{2\\pi}}e^{\\left(-\\frac{1}{2}\\left(\\frac{x-\\mu}{\\sigma}\\right)^{2}\\right)}$\n",
    "\n",
    "where probabilities of interest are calculated by finding the area under the curve.\n"
   ]
  },
  {
   "cell_type": "markdown",
   "metadata": {
    "id": "b_amsPoPFuY5"
   },
   "source": [
    "## Standard Deviation and the Normal Distribution"
   ]
  },
  {
   "cell_type": "markdown",
   "metadata": {
    "id": "2Qd1emqtF1IZ"
   },
   "source": [
    "Remember how we said standard deviation was a good measure of spread? One reason is because it can be used to bound the data. In particular, a majority of the data that is normally distributed falls within one standard deviation of the mean: about $68.27\\%$ of the data! About $95.45\\%$ of the data falls within two standard deviations, and roughly $99.73\\%$ falls within three standard deviations.\n",
    "\n",
    "![](normal_std_plot.png)"
   ]
  },
  {
   "cell_type": "markdown",
   "metadata": {
    "id": "OsTsmVkDYAdn"
   },
   "source": [
    "The special case of the normal distribution is called the **standard normal distribution** and occurs when $\\mu = 0$ and $\\sigma = 1$.\n",
    "Given a random variable and any values for $\\mu$ and $\\sigma$, that is $X  ∼  N(\\mu, \\sigma)$, we can *transform* to a standard normal, by normalizing it! That is:\n",
    "\n",
    "$$\\frac{X-\\mu}{\\sigma}$$\n",
    "\n",
    "Note this may be useful if you are comparing values from multiple normal distributions."
   ]
  },
  {
   "cell_type": "markdown",
   "metadata": {
    "id": "aGmmlswknQdG"
   },
   "source": [
    "## Central Limit Theorem"
   ]
  },
  {
   "cell_type": "markdown",
   "metadata": {
    "id": "EvrgC9pP1Rg4"
   },
   "source": [
    "Recall the rolling of the die example from [the previous section](../2/uniform.ipynb). Now, suppose I am not interested in each roll but in the average value of all the dice rolls of students in my classroom. I have 50 students present and each student rolls 1 die. I then take the mean of all 50 dice rolls. What is the probability distribution for the average dice roll? This is another question that can be easily answered through simulation!"
   ]
  },
  {
   "cell_type": "markdown",
   "metadata": {
    "id": "3-gnT0Dp0qqf"
   },
   "source": [
    "Simulations use a computer to mimic real experiments. Returning to our dice-rolling example from the [the previous section](../2/uniform.ipynb), instead of asking all of my students to roll dice and take the mean 100s or 1000s of times to plot an empirical distribution (which would be both cumbersome and time consuming), I can have the computer do it for us. First, we can write code that does this experiment one time. We use `sample()` to roll our die and `np.mean()` to take the average."
   ]
  },
  {
   "cell_type": "code",
   "execution_count": 16,
   "metadata": {
    "colab": {
     "base_uri": "https://localhost:8080/"
    },
    "id": "hKfpyHL90qqg",
    "outputId": "dd3d4011-2fc9-4a26-dbef-80989804cd1b"
   },
   "outputs": [
    {
     "data": {
      "text/plain": [
       "3.68"
      ]
     },
     "execution_count": 16,
     "metadata": {},
     "output_type": "execute_result"
    }
   ],
   "source": [
    "die = pd.DataFrame(\n",
    "    {\n",
    "        'Face': np.arange(1, 7),\n",
    "    }\n",
    ")\n",
    "np.mean(die.sample(50, replace=True))"
   ]
  },
  {
   "cell_type": "markdown",
   "metadata": {
    "id": "jw3scddc0qqg"
   },
   "source": [
    "The next step is to write a function that can repeat the experiment a certain number of times. We can do this using a `for loop` and saving the results of each experiment in a `numpy` array."
   ]
  },
  {
   "cell_type": "code",
   "execution_count": 31,
   "metadata": {
    "id": "vWcmm54V0qqg"
   },
   "outputs": [],
   "source": [
    "def face_mean_sim(nsim):\n",
    "    \"\"\"Simulates nsim repetitions of 50 dice rolls and returns their sample mean.\"\"\"\n",
    "    np.random.seed(1234)\n",
    "    means = []\n",
    "    for i in range(nsim):\n",
    "        means.append(np.mean(die.sample(50, replace=True)))\n",
    "    return np.array(means)"
   ]
  },
  {
   "cell_type": "markdown",
   "metadata": {
    "id": "BLV1ElBdDYRC"
   },
   "source": [
    "Our new function `face_mean_sim()` will simulate the rolling of 50 die the number of times specified by `nsim`.\n",
    "\n",
    "If we repeat the experiment 10 times we get an idea of what the means look like. In particular, we find that 3 of these 10 experiments have a mean of around 3.45, while all experiments have a mean in the range 3.22 to 3.76."
   ]
  },
  {
   "cell_type": "code",
   "execution_count": 33,
   "metadata": {
    "colab": {
     "base_uri": "https://localhost:8080/"
    },
    "id": "vdGI2hEGDTn-",
    "outputId": "88008e86-b9bb-4869-c128-3242640e9180"
   },
   "outputs": [
    {
     "data": {
      "text/plain": [
       "array([3.42, 3.5 , 3.24, 3.44, 3.22, 3.6 , 3.08, 3.76, 3.66, 3.46])"
      ]
     },
     "execution_count": 33,
     "metadata": {},
     "output_type": "execute_result"
    }
   ],
   "source": [
    "ten_runs = face_mean_sim(10)\n",
    "ten_runs"
   ]
  },
  {
   "cell_type": "markdown",
   "metadata": {},
   "source": [
    "Plotting a histogram we see the empirical distribution of these 10 experiments. "
   ]
  },
  {
   "cell_type": "code",
   "execution_count": 35,
   "metadata": {
    "colab": {
     "base_uri": "https://localhost:8080/",
     "height": 295
    },
    "id": "hWV_0YWlD7C5",
    "outputId": "ffff25a8-2fb5-48ff-d139-89c5f672febb"
   },
   "outputs": [
    {
     "data": {
      "image/png": "[encoded data removed]",
      "text/plain": [
       "<Figure size 640x480 with 1 Axes>"
      ]
     },
     "metadata": {},
     "output_type": "display_data"
    }
   ],
   "source": [
    "plt.hist(ten_runs);\n",
    "plt.xlabel('Mean')\n",
    "plt.ylabel('Frequency')\n",
    "plt.title('Simulation Mean over 50 Dice Rolls: Ten Runs')\n",
    "plt.show()"
   ]
  },
  {
   "cell_type": "markdown",
   "metadata": {
    "id": "XFod8VdI0qqg"
   },
   "source": [
    "It is difficult to determine what this distribution looks like with only 10 runs, so we experiment by plotting the empirical distributions of results from 100, 1000, and 10000 replications of the dice rolling experiment."
   ]
  },
  {
   "cell_type": "code",
   "execution_count": null,
   "metadata": {
    "colab": {
     "base_uri": "https://localhost:8080/",
     "height": 585
    },
    "id": "2OAHXHU80qqg",
    "outputId": "2121369d-e903-4d89-b726-5abf80360976"
   },
   "outputs": [],
   "source": [
    "fig, axs = plt.subplots(3, figsize=(8, 8))\n",
    "fig.suptitle('Simulation Mean over 50 Dice Rolls: 100, 1000, and 10000 Runs', fontsize=16)\n",
    "fig.tight_layout()\n",
    "axs[0].hist(face_mean_sim(100), 30);\n",
    "axs[1].hist(face_mean_sim(1_000), 30);\n",
    "axs[2].hist(face_mean_sim(10_000),30);"
   ]
  },
  {
   "cell_type": "markdown",
   "metadata": {
    "id": "YXasPZ5g0qqg"
   },
   "source": [
    "As we saw with our Uniform Distribution experiment, with larger numbers of experiments/samples our empirical distribution approaches the true probability distribution.\n",
    "\n",
    "Based on our empirical distribution with 10,000 experiments, we can see that the average value of the dice rolls is symmetric and approximately bell-shaped with a mean of around 3.5. In fact, these properties of being approximately bell-shaped and symmetric are characteristic of the empirical *normal distribution*.\n",
    "\n",
    "As we are plotting the distribution means of samples from a uniform distribution, the resulting probability distribution will always take on this shape, that is it will always be approximately normal, as long as the sample size is sufficiently large. This is due to an important mathematical theorem, the **Central Limit Theorem**[^***]. \n",
    "\n",
    "The Central Limit Theorem (CLT) states that if you take sufficiently large random samples from a population with replacement, the distribution of sample means will be approximately normally distributed. The CLT is a property of sample means and holds true for samples from any distribution *you may come across*, not just the uniform distribution of dice rolls. For example, the distribution of average heights, average weights, and average test scores of data science students would all be approximately normally distributed as long as we take large enough random samples from our population with replacement."
   ]
  },
  {
   "cell_type": "markdown",
   "metadata": {
    "id": "0VW8nyQG4Vot"
   },
   "source": [
    "In the [the previous section](../2/uniform.ipynb) we calculated the mean and standard deviation of the uniform distribution of our dice rolls. The CLT allows us to use these to estimate the mean (μ) and standard deviation (σ) of our distribution of sample means. According to the Central Limit Theorem, if the mean and standard deviation of the population you are sampling from are $\\mu$ and $\\sigma$ respectively, then the mean and standard deviation of the distribution of sample means are $\\mu$ and $\\frac{σ}{\\sqrt{n}}$ respectively, where n is the sample size.\n",
    "\n",
    "Therefore, since we know from earlier that the mean of the uniform dice rolling distribution is 3.5 and the standard deviation is 1.71, the mean of the distribution of sample means is also 3.5 and the standard deviation is $\\frac{1.71}{\\sqrt{50}} = 0.24$. \n",
    "\n",
    "Let's evaluate this further using our empirical distribution."
   ]
  },
  {
   "cell_type": "code",
   "execution_count": null,
   "metadata": {
    "colab": {
     "base_uri": "https://localhost:8080/"
    },
    "id": "LhLQc4oD3zUB",
    "outputId": "1c38e57a-04d1-4d1b-ddd3-9dace39f8bf0"
   },
   "outputs": [],
   "source": [
    "np.mean(face_mean_sim(10_000))"
   ]
  },
  {
   "cell_type": "code",
   "execution_count": null,
   "metadata": {
    "colab": {
     "base_uri": "https://localhost:8080/"
    },
    "id": "05URqhM234nV",
    "outputId": "8599cfc7-2f21-4e2c-93e5-a140323e1eba"
   },
   "outputs": [],
   "source": [
    "np.std(face_mean_sim(10_000))"
   ]
  },
  {
   "cell_type": "markdown",
   "metadata": {
    "id": "cnPp3SB24KBQ"
   },
   "source": [
    "Our empirical distribution matches what we expected to see mathematically according to the Central Limit Theorem!"
   ]
  },
  {
   "cell_type": "markdown",
   "metadata": {
    "id": "wrdpcFZg8BaL"
   },
   "source": [
    "[^***]: For more information on the Galton Height Dataset, see the following article: Galton, Francis Sir. “Regression Towards Mediocrity in Hereditary Stature.” The Journal of the Anthropological Institute of Great Britain and Ireland 15: 246.\n",
    "\n",
    "[^***]: For more information on the Central Limit Theorem, see the online Statistics Textbook at [OpenStax](https://cnx.org/contents/MBiUQmmY@25.39:MVbL0vFO@10/Introduction)"
   ]
  }
 ],
 "metadata": {
  "colab": {
   "provenance": []
  },
  "kernelspec": {
   "display_name": "Python 3 (ipykernel)",
   "language": "python",
   "name": "python3"
  },
  "language_info": {
   "codemirror_mode": {
    "name": "ipython",
    "version": 3
   },
   "file_extension": ".py",
   "mimetype": "text/x-python",
   "name": "python",
   "nbconvert_exporter": "python",
   "pygments_lexer": "ipython3",
   "version": "3.12.2"
  },
  "vscode": {
   "interpreter": {
    "hash": "aee8b7b246df8f9039afb4144a1f6fd8d2ca17a180786b69acc140d282b71a49"
   }
  }
 },
 "nbformat": 4,
 "nbformat_minor": 4
}

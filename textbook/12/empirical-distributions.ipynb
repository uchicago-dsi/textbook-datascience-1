{
 "cells": [
  {
   "cell_type": "markdown",
   "metadata": {
    "id": "Q3mGhvjVcAzg"
   },
   "source": [
    "# Empirical and Probability Distributions\n",
    "*Susanna Lange and Amanda R. Kube Jotte*"
   ]
  },
  {
   "cell_type": "markdown",
   "metadata": {
    "id": "G0bUZ8QDcAz6"
   },
   "source": [
    "In the past few chapters, we have discussed methods of sampling individuals from a population and how biased samples can affect the generalizability of our data. Remember, sampling is used to make inferences about a population when gathering information about the entire population is difficult or impossible. We make these inferences through calculating statistics on our sample with the goal of estimating the true population parameter we are interested in.\n",
    "\n",
    "## Probabilistic Sampling\n",
    "Earlier in this book, we learned how to slice dataframes or select elements from arrays. This is a type of sampling known as **deterministic sampling** since there is no chance involved. In this section, we will build on our use of the `random.choice()` function from [Chapter 9](../10/03/sampling.ipynb) to create **probabilistic samples** where the probability of each unit being chosen is known before sampling is done. Simple random samples (SRS), as we learned in [Chapter 9](../10/03/sampling.ipynb), are samples in which each unit has equal probability of being chosen. Since we know the probability of each unit being chosen, a SRS is an example of a probabilistic sample.\n",
    "\n",
    "In this chapter, we will use probabilistic sampling and the probability basics we learned in [Chapter 10](../11/Probability_Intro.ipynb) to explore ways of understanding a population from a sample.\n",
    "\n",
    "\n",
    "\n",
    "\n",
    "\n",
    "\n",
    "\n"
   ]
  }
 ],
 "metadata": {
  "colab": {
   "provenance": []
  },
  "kernelspec": {
   "display_name": "Python 3 (ipykernel)",
   "language": "python",
   "name": "python3"
  },
  "language_info": {
   "codemirror_mode": {
    "name": "ipython",
    "version": 3
   },
   "file_extension": ".py",
   "mimetype": "text/x-python",
   "name": "python",
   "nbconvert_exporter": "python",
   "pygments_lexer": "ipython3",
   "version": "3.12.2"
  },
  "vscode": {
   "interpreter": {
    "hash": "aee8b7b246df8f9039afb4144a1f6fd8d2ca17a180786b69acc140d282b71a49"
   }
  }
 },
 "nbformat": 4,
 "nbformat_minor": 4
}

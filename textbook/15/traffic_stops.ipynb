{
 "cells": [
  {
   "cell_type": "markdown",
   "metadata": {},
   "source": [
    "# Data Science Case Study: Traffic Stops\n",
    "\n",
    "*Amanda R. Kube Jotte*\n",
    "\n",
    "In the previous chapters, we have learned how to use, summarize, and manipulate data, as well as how to test hypotheses. We also emphasized the importance of understanding your data before analyzing it and making ethical choices at every stage of the data science pipeline.\n",
    "\n",
    "These skills are not just academic exercises; they equip data scientists to work across a wide range of fields, from genetics to social services. In this chapter, we will bring those ideas together in a case study. By working with a real dataset that has meaningful societal implications, you will see how the tools and principles you have learned so far can be applied in practice."
   ]
  },
  {
   "cell_type": "markdown",
   "metadata": {},
   "source": []
  }
 ],
 "metadata": {
  "kernelspec": {
   "display_name": "Python 3.9.13 64-bit",
   "language": "python",
   "name": "python3"
  },
  "language_info": {
   "name": "python",
   "version": "3.9.13"
  },
  "orig_nbformat": 4,
  "vscode": {
   "interpreter": {
    "hash": "aee8b7b246df8f9039afb4144a1f6fd8d2ca17a180786b69acc140d282b71a49"
   }
  }
 },
 "nbformat": 4,
 "nbformat_minor": 2
}

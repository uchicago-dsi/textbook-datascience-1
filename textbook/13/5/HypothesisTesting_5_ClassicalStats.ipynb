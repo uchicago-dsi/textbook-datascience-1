{
 "cells": [
  {
   "cell_type": "markdown",
   "id": "14c791e3",
   "metadata": {},
   "source": [
    "# Connections with classical statistical methods\n",
    "\n",
    "If you've read a statistics textbook, you might think that the methods described above are very different than classical hypothesis testing methodology. In fact, the main difference is in the way the distribution of the test statistic under $H_0$ is obtained.\n",
    "\n",
    "Traditional methods in statistics, use mathematical derivations (instead of simulations) to obtain the distribution of the test statistic. For example, distributions for statistics based on sample means can be approximated by a normal distribution because of the central limit theorem. This can lead to great computational savings - it is sufficient to calculate means and standard deviations to determine an approximation to the distribution of the test statistic - but it diminishes the flexibility in the choice of test statistics.\n",
    "\n",
    "We end this chapter with a short introduction to type 1 and 2 errors that are an important concept in classical hypothesis testing literature.\n",
    "\n",
    "## Type 1 and type 2 errors\n",
    "\n",
    "In some studies, a decision needs to be made about which hypothesis to trust, $H_0$ or $H_A$. A decision means that one of the hypotheses is selected, and is usually done by selecting a cut-off value $\\alpha$, called **significance level**: a commonly used significance level is $\\alpha=0.05$. If the p-value is smaller than $\\alpha$, we reject $H_0$, otherwise we fail to reject it. Obviously, the decision might be incorrect. The table below shows scenarios when the decision is correct, and for those when they are incorrect, it defines two types of errors.\n",
    "\n",
    "<img align=\"center\" src=\"./errors.png\" width=\"400\"/>\n",
    "\n",
    "\n",
    "A **type 1 error** is rejecting the $H_0$ when it is true. Note that the type 1 error rate is equal to the significance level. A **type 2 error** is failing to reject the $H_0$ when it is false.\n",
    "\n",
    "Type 1 and type 2 errors are different sorts of mistakes and have different consequences. In many scenarios, $H_0$ is the status quo (for example, a new treatment has the same effect as an old treatment). Rejecting $H_0$ possibly means that the new treatment should be implemented, but a type 1 error introduces a false conclusion and can lead to a tremendous waste of resources before further studies invalidate the original finding. A type 2 error — failing to recognize a medical breakthrough — represents a missed opportunity."
   ]
  }
 ],
 "metadata": {
  "kernelspec": {
   "display_name": "Python 3 (ipykernel)",
   "language": "python",
   "name": "python3"
  },
  "language_info": {
   "codemirror_mode": {
    "name": "ipython",
    "version": 3
   },
   "file_extension": ".py",
   "mimetype": "text/x-python",
   "name": "python",
   "nbconvert_exporter": "python",
   "pygments_lexer": "ipython3",
   "version": "3.12.2"
  }
 },
 "nbformat": 4,
 "nbformat_minor": 5
}

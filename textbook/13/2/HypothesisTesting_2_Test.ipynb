{
 "cells": [
  {
   "cell_type": "code",
   "execution_count": 1,
   "id": "9576642d",
   "metadata": {
    "tags": [
     "remove-cell"
    ]
   },
   "outputs": [],
   "source": [
    "import numpy as np\n",
    "import pandas as pd\n",
    "\n",
    "%matplotlib inline\n",
    "import matplotlib.pyplot as plt\n",
    "plt.style.use('fivethirtyeight')\n",
    "\n",
    "natality2016=pd.read_csv(\"../../data/Natality2016.csv\")"
   ]
  },
  {
   "cell_type": "markdown",
   "id": "af0c15cd",
   "metadata": {},
   "source": [
    "# Hypothesis testing\n",
    "\n",
    "Hypothesis testing is about choosing between two views, called **hypotheses**, on how data were generated (for example, SSR=1 or SSR =1.05 where SSR is the secondary sex ratio we defined in the previous section). Hypotheses, called **null** and **alternative**, should be specified before doing the analysis. *Testing* is a way to select the hypothesis that is better supported by the data. Note that the null hypothesis corresponds to what we called \"the data-generating model\" in the previous section.\n",
    "\n",
    "**Ingredients of hypothesis testing:**\n",
    "- A null hypothesis $H_0$ (e.g. SSR=1.05);\n",
    "- An alternative hypothesis $H_A$ (e.g. SSR$\\neq$ 1.05);\n",
    "- A test statistic;\n",
    "- A decision or a measure of significance that is obtained from the test statistic and its distribution under the null hypothesis.\n",
    "\n",
    "In the previous section we investigated $H_0$: SSR=1 by simulating from the binomial distribution. The natural alternative there was $H_A:$ SSR$\\neq$ 1. The test statistic we used was the number of boys.\n",
    "\n",
    "\n",
    "Let's look in more detail at the components of a hypothesis test on a subset of these data. Assume that someone claims that Illinois has a different SSR based on what they have seen in a hospital they work for. You decide to investigate this using the natality data we introduced above. Before looking at the data, you need to decide on the first three ingredients:\n",
    "\n",
    "**Null hypothesis** is generally the default view (generally believed to be true) and it all needs to lead to clear rules on how the data were generated. In this case, it makes sense to declare that $H_0:$ SSR_IL=1.05 (the probability of having a boy in Illinois is 0.512 which corresponds to a secondary sex ratio of 1.05). \n",
    "\n",
    "**Alternative hypothesis** should be the opposite of the null, but it can have variations (for example, we can use SSR_IL<1.05 or SSR_IL>1.05). Here, because there was no additional information provided, it is natural to use $H_A:$ SSR_IL$\\neq$ 1.05. Note that the choice of alternative will impact the measure of significance that is discussed below.\n",
    "\n",
    "**Test statistic** is the summary of the data that will be used for investigating consistency. We aim to choose the statistic that is most informative for the hypotheses we are investigating. We will use here the observed SSR in IL as a test statistic.\n",
    "\n",
    "Below are the cells that show the data and the histogram of test statistics generated under $H_0$."
   ]
  },
  {
   "cell_type": "code",
   "execution_count": 2,
   "id": "32a5b1c6",
   "metadata": {
    "scrolled": true
   },
   "outputs": [
    {
     "data": {
      "text/html": [
       "<div>\n",
       "<style scoped>\n",
       "    .dataframe tbody tr th:only-of-type {\n",
       "        vertical-align: middle;\n",
       "    }\n",
       "\n",
       "    .dataframe tbody tr th {\n",
       "        vertical-align: top;\n",
       "    }\n",
       "\n",
       "    .dataframe thead th {\n",
       "        text-align: right;\n",
       "    }\n",
       "</style>\n",
       "<table border=\"1\" class=\"dataframe\">\n",
       "  <thead>\n",
       "    <tr style=\"text-align: right;\">\n",
       "      <th></th>\n",
       "      <th>Births</th>\n",
       "    </tr>\n",
       "    <tr>\n",
       "      <th>Gender.Code</th>\n",
       "      <th></th>\n",
       "    </tr>\n",
       "  </thead>\n",
       "  <tbody>\n",
       "    <tr>\n",
       "      <th>F</th>\n",
       "      <td>75461</td>\n",
       "    </tr>\n",
       "    <tr>\n",
       "      <th>M</th>\n",
       "      <td>78894</td>\n",
       "    </tr>\n",
       "  </tbody>\n",
       "</table>\n",
       "</div>"
      ],
      "text/plain": [
       "             Births\n",
       "Gender.Code        \n",
       "F             75461\n",
       "M             78894"
      ]
     },
     "execution_count": 2,
     "metadata": {},
     "output_type": "execute_result"
    }
   ],
   "source": [
    "natality2016[natality2016.State==\"Illinois\"][['Gender.Code','Births']].groupby('Gender.Code').sum()"
   ]
  },
  {
   "cell_type": "code",
   "execution_count": 3,
   "id": "ddd040fe",
   "metadata": {},
   "outputs": [
    {
     "data": {
      "image/png": "[encoded data removed]",
      "text/plain": [
       "<Figure size 432x288 with 1 Axes>"
      ]
     },
     "metadata": {},
     "output_type": "display_data"
    }
   ],
   "source": [
    "simulated_nr=np.random.binomial(75461+78894,0.512,size=10000)\n",
    "\n",
    "plt.hist(simulated_nr)\n",
    "plt.title('10,000 simulated datasets')\n",
    "plt.xlabel(\"Number of boys\")\n",
    "plt.scatter(78894, -30, color='red', s=30);"
   ]
  },
  {
   "cell_type": "markdown",
   "id": "799fc604",
   "metadata": {},
   "source": [
    "In the above histogram, the observed statistic (indicated by the red dot) seems to be natural realization from the distribution summarized by the histogram. There seems to be no evidence against $H_0$. A more complete conclusion: using the number of boys as test statistic, we find no evidence to reject $H_0$ (no evidence that the data is inconsistent with SSR=1.05)."
   ]
  },
  {
   "cell_type": "markdown",
   "id": "f37f6714",
   "metadata": {},
   "source": [
    "## Significance as measured by the p-value\n",
    "\n",
    "**P-values** capture the consistency of the data (test statistic) with the null hypothesis (distribution of the statistic under the null).\n",
    "\n",
    "The p-value is the chance, **under the null hypothesis**, that the test statistic is equal to the observed value or is further in the direction of the alternative.\n",
    " \n",
    "It is important to use correctly the specified alternative hypothesis for specifying the tail or tails of the null distribution of the statistic.\n",
    "\n",
    "The decision is made using the null distribution of the test statistics (*probability distribution*); we will use an approximation given by an *empirical distribution*. P-value is about the tail area of the distribution.\n",
    "\n",
    "In the above example, the proportion of simulations that lead to more extreme values than the one observed is:"
   ]
  },
  {
   "cell_type": "code",
   "execution_count": 4,
   "id": "55f6ac61",
   "metadata": {},
   "outputs": [
    {
     "data": {
      "text/plain": [
       "0.2459"
      ]
     },
     "execution_count": 4,
     "metadata": {},
     "output_type": "execute_result"
    }
   ],
   "source": [
    "sum(simulated_nr<=78894)/10000"
   ]
  },
  {
   "cell_type": "markdown",
   "id": "5e1ca42a",
   "metadata": {},
   "source": [
    "## Interpretation of p-values\n",
    "\n",
    "**When $H_0$ is true**: p-value is (approximately) distributed uniform on the interval [0,1]:\n",
    "- about half of p-values are larger than 0.5\n",
    "- about 10% are smaller than 0.1\n",
    "- about 5% are smaller than 0.05\n",
    " \n",
    "A small p-value (typically smaller than 0.05 or 0.01) indicates evidence against the null hypothesis (smaller the p-value, stronger the evidence). A large p-value indicates no evidence (or weak evidence) against the null."
   ]
  },
  {
   "cell_type": "code",
   "execution_count": null,
   "id": "3d912c54-4e0d-4d32-8b3b-0a0b4c0ff338",
   "metadata": {},
   "outputs": [],
   "source": []
  }
 ],
 "metadata": {
  "kernelspec": {
   "display_name": "Python 3 (ipykernel)",
   "language": "python",
   "name": "python3"
  },
  "language_info": {
   "codemirror_mode": {
    "name": "ipython",
    "version": 3
   },
   "file_extension": ".py",
   "mimetype": "text/x-python",
   "name": "python",
   "nbconvert_exporter": "python",
   "pygments_lexer": "ipython3",
   "version": "3.12.2"
  }
 },
 "nbformat": 4,
 "nbformat_minor": 5
}

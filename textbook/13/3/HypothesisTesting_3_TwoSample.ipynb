{
 "cells": [
  {
   "cell_type": "code",
   "execution_count": 4,
   "id": "ce6756f4",
   "metadata": {
    "tags": [
     "remove-cell"
    ]
   },
   "outputs": [],
   "source": [
    "import numpy as np\n",
    "import pandas as pd\n",
    "\n",
    "%matplotlib inline\n",
    "import matplotlib.pyplot as plt\n",
    "plt.style.use('fivethirtyeight')"
   ]
  },
  {
   "cell_type": "markdown",
   "id": "296319db",
   "metadata": {},
   "source": [
    "# Two sample testing\n",
    "\n",
    "In many applications there is an interest in comparing two random samples; for example, investigating differences in cholesterol levels between two groups of patients. It is often done using a hypothesis test - hence the name \"**two sample testing**\". This is also called **A/B testing**.\n",
    "\n",
    "The natural hypotheses for this situation are:\n",
    "\n",
    "$H_0$: the two samples are generated from the same distribution.\n",
    "\n",
    "$H_A$: the two samples are generated from two different distributions.\n",
    "\n",
    "The test statistic is normally based on the difference in a specified sample summary; for example, difference in means, or medians, or standard deviations (if we expect the sample to differ in their variability). \n",
    "\n",
    "We illustrate this with a [classic diabetes dataset](https://www.kaggle.com/datasets/uciml/pima-indians-diabetes-database) from the National Institute of Diabetes and Digestive and Kidney Diseases. The subjects of this dataset are females at least 21 years old, and the goal was to predict diabetes status that is summarized in the column called \"Outcome\"."
   ]
  },
  {
   "cell_type": "code",
   "execution_count": 6,
   "id": "db2679f2",
   "metadata": {
    "scrolled": true
   },
   "outputs": [
    {
     "data": {
      "text/html": [
       "<div>\n",
       "<style scoped>\n",
       "    .dataframe tbody tr th:only-of-type {\n",
       "        vertical-align: middle;\n",
       "    }\n",
       "\n",
       "    .dataframe tbody tr th {\n",
       "        vertical-align: top;\n",
       "    }\n",
       "\n",
       "    .dataframe thead th {\n",
       "        text-align: right;\n",
       "    }\n",
       "</style>\n",
       "<table border=\"1\" class=\"dataframe\">\n",
       "  <thead>\n",
       "    <tr style=\"text-align: right;\">\n",
       "      <th></th>\n",
       "      <th>Pregnancies</th>\n",
       "      <th>Glucose</th>\n",
       "      <th>BloodPressure</th>\n",
       "      <th>SkinThickness</th>\n",
       "      <th>Insulin</th>\n",
       "      <th>BMI</th>\n",
       "      <th>DiabetesPedigreeFunction</th>\n",
       "      <th>Age</th>\n",
       "      <th>Outcome</th>\n",
       "    </tr>\n",
       "  </thead>\n",
       "  <tbody>\n",
       "    <tr>\n",
       "      <th>0</th>\n",
       "      <td>6</td>\n",
       "      <td>148</td>\n",
       "      <td>72</td>\n",
       "      <td>35</td>\n",
       "      <td>0</td>\n",
       "      <td>33.6</td>\n",
       "      <td>0.627</td>\n",
       "      <td>50</td>\n",
       "      <td>1</td>\n",
       "    </tr>\n",
       "    <tr>\n",
       "      <th>1</th>\n",
       "      <td>1</td>\n",
       "      <td>85</td>\n",
       "      <td>66</td>\n",
       "      <td>29</td>\n",
       "      <td>0</td>\n",
       "      <td>26.6</td>\n",
       "      <td>0.351</td>\n",
       "      <td>31</td>\n",
       "      <td>0</td>\n",
       "    </tr>\n",
       "    <tr>\n",
       "      <th>2</th>\n",
       "      <td>8</td>\n",
       "      <td>183</td>\n",
       "      <td>64</td>\n",
       "      <td>0</td>\n",
       "      <td>0</td>\n",
       "      <td>23.3</td>\n",
       "      <td>0.672</td>\n",
       "      <td>32</td>\n",
       "      <td>1</td>\n",
       "    </tr>\n",
       "    <tr>\n",
       "      <th>3</th>\n",
       "      <td>1</td>\n",
       "      <td>89</td>\n",
       "      <td>66</td>\n",
       "      <td>23</td>\n",
       "      <td>94</td>\n",
       "      <td>28.1</td>\n",
       "      <td>0.167</td>\n",
       "      <td>21</td>\n",
       "      <td>0</td>\n",
       "    </tr>\n",
       "    <tr>\n",
       "      <th>4</th>\n",
       "      <td>0</td>\n",
       "      <td>137</td>\n",
       "      <td>40</td>\n",
       "      <td>35</td>\n",
       "      <td>168</td>\n",
       "      <td>43.1</td>\n",
       "      <td>2.288</td>\n",
       "      <td>33</td>\n",
       "      <td>1</td>\n",
       "    </tr>\n",
       "  </tbody>\n",
       "</table>\n",
       "</div>"
      ],
      "text/plain": [
       "   Pregnancies  Glucose  BloodPressure  SkinThickness  Insulin   BMI  \\\n",
       "0            6      148             72             35        0  33.6   \n",
       "1            1       85             66             29        0  26.6   \n",
       "2            8      183             64              0        0  23.3   \n",
       "3            1       89             66             23       94  28.1   \n",
       "4            0      137             40             35      168  43.1   \n",
       "\n",
       "   DiabetesPedigreeFunction  Age  Outcome  \n",
       "0                     0.627   50        1  \n",
       "1                     0.351   31        0  \n",
       "2                     0.672   32        1  \n",
       "3                     0.167   21        0  \n",
       "4                     2.288   33        1  "
      ]
     },
     "execution_count": 6,
     "metadata": {},
     "output_type": "execute_result"
    }
   ],
   "source": [
    "diabetes=pd.read_csv(\"../../data/diabetes.csv\")\n",
    "diabetes.head(5)"
   ]
  },
  {
   "cell_type": "markdown",
   "id": "7d59dfef",
   "metadata": {},
   "source": [
    "We will focus in this example on BMI. Below are **boxplots** for the two diabetes status groups."
   ]
  },
  {
   "cell_type": "markdown",
   "id": "087837b7-3f0a-4bed-8b5c-d9db96118016",
   "metadata": {},
   "source": [
    ":::{note}\n",
    "\n",
    "A boxplot (also commonly known as a box and whisker plot) is a great choice to help visualize and compare the distribution of data within one or more groups. Although a boxplot might seem confusing the first time you see it, all of its components help us to quickly understand important summary statistics of the data distribution.\n",
    "\n",
    "The bottom edge of the box demarcates the 25th percentile (Quartile 1, or Q1) of the data. The top edge of the box demarcates the 75th percentile (Quartile 3, or Q3). Thus, the box itself represents the range in which the middle 50% of the data falls (Q3-Q1). This range is also commonly referred to as the **Interquartile Range (IQR)**.\n",
    "\n",
    "The horizontal line within the box indicates the median value of the distribution (50th percentile). When using the `matplotlib.boxplot()` function, the top whisker (what looks like a T above the box) extends to the largest data point of the distribution that falls within the range $Q3 + 1.5*IQR$. The bottom whisker (what looks like an upside down T below the box) extends to the smallest data point within the range $Q1 - 1.5*IQR$. Data points with a value larger or lower than the whiskers are considered outliers and represented as circles above or below the whiskers.\n",
    "\n",
    ":::"
   ]
  },
  {
   "cell_type": "code",
   "execution_count": 12,
   "id": "5df62fd5",
   "metadata": {
    "scrolled": true
   },
   "outputs": [
    {
     "data": {
      "image/png": "[encoded data removed]",
      "text/plain": [
       "<Figure size 640x480 with 1 Axes>"
      ]
     },
     "metadata": {},
     "output_type": "display_data"
    }
   ],
   "source": [
    "plt.boxplot([diabetes.BMI[diabetes.Outcome==0],\n",
    "             diabetes.BMI[diabetes.Outcome==1]],\n",
    "            tick_labels=[\"No\",\"Yes\"]);"
   ]
  },
  {
   "cell_type": "markdown",
   "id": "137e49c9",
   "metadata": {},
   "source": [
    "There are several observations from the above plots: \n",
    "- The distributions of BMI in the two groups seem different; for example, the median BMI is larger in diabetics.\n",
    "- There are some subjects for which the recorded value for BMI is equal to 0; this suggests that missing data were recorded as 0 (as a BMI of 0 is biologically implausible!) and we will have to take that into account in our analysis.\n",
    "\n",
    "Below, we create two arrays that contain the BMI values in the two groups after removing the missing data."
   ]
  },
  {
   "cell_type": "code",
   "execution_count": 17,
   "id": "8db3611c",
   "metadata": {},
   "outputs": [
    {
     "name": "stdout",
     "output_type": "stream",
     "text": [
      "[491, 266]\n"
     ]
    }
   ],
   "source": [
    "# remove missing data\n",
    "d_no=diabetes.BMI[(diabetes.Outcome==0)&(diabetes.BMI>0)]\n",
    "d_yes=diabetes.BMI[(diabetes.Outcome==1)&(diabetes.BMI>0)]\n",
    "\n",
    "n0=len(d_no)\n",
    "n1=len(d_yes)\n",
    "\n",
    "print([n0,n1])"
   ]
  },
  {
   "cell_type": "markdown",
   "id": "3bbb4989",
   "metadata": {},
   "source": [
    "We have two samples here of size $n_0=491$ and $n_1=266$, and the null hypothesis we investigate is:  BMI distributions in diabetics and non-diabetics subjects are the same. \n",
    "\n",
    "The test statistic we will use is the difference in sample medians, with an observed value of 4.2:"
   ]
  },
  {
   "cell_type": "code",
   "execution_count": null,
   "id": "abebd5d5",
   "metadata": {},
   "outputs": [],
   "source": [
    "test_stat=np.median(d_yes)-np.median(d_no)\n",
    "print(round(test_stat,2))"
   ]
  },
  {
   "cell_type": "markdown",
   "id": "f2461faa",
   "metadata": {},
   "source": [
    "The next step is to obtain an approximation for the sampling distribution of our test statistic. The procedure we implement, called a **permutation test**, uses the following observations:\n",
    "- If the null hypothesis is true: a BMI value is equally likely to be sampled from diabetics and non-diabetics.\n",
    "- If the null hypothesis is true: all rearrangements (permutations) of BMI values among the two groups are equally likely.\n",
    "- If the null hypothesis is true: the observed test statistic can be viewed as a sample from the distribution of median differences of permuted BMI values in two groups.\n",
    "\n",
    "It suggests the following simulation to learn the null distribution for the test statistic:\n",
    "- Shuffle (permute) the BMI values\n",
    "- Assign $n_0=491$ to “Group A“ and the rest to “Group B“ (to maintain the two sample sizes)\n",
    "- Find the differences between medians of the two shuffled (permuted) groups\n",
    "- Repeat\n",
    "\n",
    "The generated distribution and the value of the test statistic are used to calculate a p-value.\n",
    "\n",
    "We first illustrate how to create shuffled samples and calculate the corresponding test statistic. We use the numpy function `np.random.permutation()` to create an array that has the same values but with order that is shuffled: the first part of the new array will correspond to the control group. "
   ]
  },
  {
   "cell_type": "code",
   "execution_count": null,
   "id": "c3b487e5",
   "metadata": {},
   "outputs": [],
   "source": [
    "shuffled_combine=np.random.permutation(np.append(d_no,d_yes))\n",
    "shuffled_no=shuffled_combine[0:n0]\n",
    "shuffled_yes=shuffled_combine[n0:(n0+n1)]\n",
    "\n",
    "np.median(shuffled_yes)-np.median(shuffled_no)"
   ]
  },
  {
   "cell_type": "markdown",
   "id": "63e99303",
   "metadata": {},
   "source": [
    "In the cell code below, we repeat the procedure 5,000 times and create an approximation for the distribution of our test statistic that is saved in the array `differences`."
   ]
  },
  {
   "cell_type": "code",
   "execution_count": null,
   "id": "d2f15e7c",
   "metadata": {},
   "outputs": [],
   "source": [
    "differences = np.array([])\n",
    "\n",
    "for i in np.arange(5000):\n",
    "    shuffled_combine=np.random.permutation(np.append(d_no,d_yes))\n",
    "    shuffled_no=shuffled_combine[0:n0]\n",
    "    shuffled_yes=shuffled_combine[n0:(n0+n1)]\n",
    "    differences = np.append(differences,np.median(shuffled_yes)-np.median(shuffled_no))"
   ]
  },
  {
   "cell_type": "code",
   "execution_count": null,
   "id": "57e2cb72",
   "metadata": {
    "scrolled": true
   },
   "outputs": [],
   "source": [
    "plt.hist(differences)\n",
    "plt.scatter(test_stat, -20, color='red', s=30)\n",
    "plt.title('5000 simulated datasets')\n",
    "plt.xlabel(\"Difference in medians\");"
   ]
  },
  {
   "cell_type": "markdown",
   "id": "6731b167",
   "metadata": {},
   "source": [
    "From the above histogram, we can see that there is strong evidence against the null hypothesis that the distributions of BMI in cases and controls are the same.\n",
    "\n",
    "Please note that the choice of test statistic could have a big impact on the conclusions from the test. Below, we repeat the procedure using as test statistic the difference in standard deviations of the two samples. There is no evidence that the distributions are different when using this statistic."
   ]
  },
  {
   "cell_type": "code",
   "execution_count": 19,
   "id": "eb66d51f",
   "metadata": {},
   "outputs": [
    {
     "data": {
      "image/png": "[encoded data removed]",
      "text/plain": [
       "<Figure size 640x480 with 1 Axes>"
      ]
     },
     "metadata": {},
     "output_type": "display_data"
    }
   ],
   "source": [
    "differences = np.array([])\n",
    "\n",
    "# define group sample sizes\n",
    "group_a = 491\n",
    "group_b = 266\n",
    "\n",
    "for i in np.arange(5000):\n",
    "    shuffled_combine=np.random.permutation(np.append(d_no,d_yes))\n",
    "    shuffled_no=shuffled_combine[0:group_a]\n",
    "    shuffled_yes=shuffled_combine[group_a:(group_a+group_b)]\n",
    "    differences = np.append(differences,np.std(shuffled_yes)-np.std(shuffled_no))\n",
    "\n",
    "\n",
    "plt.hist(differences)\n",
    "plt.scatter(np.std(d_yes)-np.std(d_no), -20, color='red', s=30)\n",
    "plt.title('5000 simulated datasets')\n",
    "plt.xlabel(\"Difference in standard deviations\");"
   ]
  }
 ],
 "metadata": {
  "kernelspec": {
   "display_name": "Python 3 (ipykernel)",
   "language": "python",
   "name": "python3"
  },
  "language_info": {
   "codemirror_mode": {
    "name": "ipython",
    "version": 3
   },
   "file_extension": ".py",
   "mimetype": "text/x-python",
   "name": "python",
   "nbconvert_exporter": "python",
   "pygments_lexer": "ipython3",
   "version": "3.12.2"
  }
 },
 "nbformat": 4,
 "nbformat_minor": 5
}

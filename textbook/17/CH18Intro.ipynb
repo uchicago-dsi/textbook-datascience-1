{
 "cells": [
  {
   "cell_type": "markdown",
   "metadata": {},
   "source": [
    "# Simple Linear Regression\n",
    "\n",
    "*Bill Trok*\n",
    "\n",
    "Here we will begin discussion of some of the more advanced techniques in Data Science. Frequently, we are interested not just in the behavior of a variable, but how that variable behaves as another variable changes. We've seen this already in the form of A/B testing, this lets us see how one variable varies as a binary variable changes. Here we extend this seeing how a change in one numeric variable affects another.\n",
    "\n",
    "While a simple linear regression will not allow us to model all possible relationships between two numeric variables it's simplicity and interpretability still make it a valuable tool, when working with data. "
   ]
  },
  {
   "cell_type": "code",
   "execution_count": null,
   "metadata": {},
   "outputs": [],
   "source": []
  }
 ],
 "metadata": {
  "kernelspec": {
   "display_name": "Python 3 (ipykernel)",
   "language": "python",
   "name": "python3"
  },
  "language_info": {
   "codemirror_mode": {
    "name": "ipython",
    "version": 3
   },
   "file_extension": ".py",
   "mimetype": "text/x-python",
   "name": "python",
   "nbconvert_exporter": "python",
   "pygments_lexer": "ipython3",
   "version": "3.11.5"
  },
  "vscode": {
   "interpreter": {
    "hash": "aee8b7b246df8f9039afb4144a1f6fd8d2ca17a180786b69acc140d282b71a49"
   }
  }
 },
 "nbformat": 4,
 "nbformat_minor": 2
}

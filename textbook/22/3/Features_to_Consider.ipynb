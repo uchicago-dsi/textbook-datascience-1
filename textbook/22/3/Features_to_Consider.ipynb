{
 "cells": [
  {
   "cell_type": "code",
   "execution_count": 1,
   "id": "54c65e45",
   "metadata": {
    "tags": [
     "remove-cell"
    ]
   },
   "outputs": [],
   "source": [
    "import numpy as np\n",
    "import pandas as pd\n",
    "%matplotlib inline\n",
    "\n",
    "import matplotlib.pyplot as plt\n",
    "plt.style.use('fivethirtyeight')"
   ]
  },
  {
   "cell_type": "markdown",
   "id": "7da853d9",
   "metadata": {},
   "source": [
    "# Features to Consider"
   ]
  },
  {
   "cell_type": "markdown",
   "id": "81721d7b",
   "metadata": {},
   "source": [
    "For a kNN model, there are two main choices to make for your algorithm - the choice of $k$, and the choice of distance metric."
   ]
  },
  {
   "cell_type": "markdown",
   "id": "3cb282c2",
   "metadata": {},
   "source": [
    "## Choice of  $k$: How many neighbors?"
   ]
  },
  {
   "cell_type": "markdown",
   "id": "4009a76e",
   "metadata": {},
   "source": [
    "Typically when classifying data, we want a sense of how well our classification algorithm will perform with, or generalize to, unseen data. But we also want an opportunity to tune, or find the best value, of the parameters of the model before we measure accuracy on the test data. Thus we use the ideas from Chapter __ to split the data into training and test data, as well as form a validation set from our training data to find the best choice of $k$.\n",
    "\n",
    "We use cross validation to do this. In particular, k-fold validation (note this $k$ is different than the $k$ in kNN). This method of k-fold validation splits the training data into $k$ equal samples, or equal folds. The model is trained $k$ times where each time it is trained on $k-1$ folds and validated on the remaining fold of training data. The fold that serves as the validation set is changed each time until each fold has had an opportunity to validate. The resulting accuracies are averaged over all of the training.\n",
    "\n",
    "The figure below [[1]](#1) shows an example of k-fold cross validation with $k=5$."
   ]
  },
  {
   "cell_type": "markdown",
   "id": "4d7f9a51",
   "metadata": {},
   "source": [
    "<!-- <img src=\"../../images/k_fold.png\" alt=\"image\" width=\"60%\" height=\"auto\"> -->\n",
    "\n",
    "![k-fold](../../images/k_fold.png)"
   ]
  },
  {
   "cell_type": "markdown",
   "id": "6cf17f13",
   "metadata": {},
   "source": [
    "Thus, when deciding on a number of neighbors to help us classify a new data point, we can check performance on a different number of neighbors: $k=1, 2, 3,$ etc, using cross validation. This allows us to choose the smallest value of neighbors that results in the highest validation accuracy. "
   ]
  },
  {
   "cell_type": "markdown",
   "id": "c548cf6b",
   "metadata": {
    "hideCode": false,
    "hidePrompt": false
   },
   "source": [
    "## Choice of distance metric"
   ]
  },
  {
   "cell_type": "markdown",
   "id": "b6232207",
   "metadata": {},
   "source": [
    "Above we used the Euclidean distance to define a neghbor, but there are other options for this choice of metric."
   ]
  },
  {
   "cell_type": "markdown",
   "id": "c32d191d",
   "metadata": {
    "hideCode": false,
    "hidePrompt": false
   },
   "source": [
    "The most commonly used distance is the **Euclidean distance**. This distance metric calculates the shortest line distance between points in the $xy$ coordinate plane and comes from the Pythogorean theorem."
   ]
  },
  {
   "cell_type": "markdown",
   "id": "35c99b74",
   "metadata": {
    "hideCode": false,
    "hidePrompt": false
   },
   "source": [
    "Given points $p = (x_1, y_1)$,  $q = (x_2, y_2)$, we define the distance between these points as  \n",
    "$$d(p,q) = \\sqrt{(x_1-x_2)^2 + (y_1-y_2)^2}$$\n",
    "\n",
    "\n",
    "\n",
    "This distance extends to multiple dimensions or multiple features $n$. In general, we have two points $p = (x_1, x_2, ..., x_n)$ and $q = (z_1, z_2, ..., z_n)$, the Euclidean distance is computed as\n",
    "\n",
    "$$d(p,q) = \\sqrt{(x_1-z_1)^2 + (x_2-z_2)^2+ ...(x_n-z_n)^2}$$"
   ]
  },
  {
   "cell_type": "markdown",
   "id": "67ebc3ab",
   "metadata": {
    "hideCode": false,
    "hidePrompt": false
   },
   "source": [
    "**Manhattan distance**, often called the taxicab distance, measures the distance between two points\n",
    "\n",
    "Given points $p = (x_1, y_1)$,  $q = (x_2, y_2)$, we define the distance between these points as  \n",
    "$$|x_1-x_2|+|y_1-y_2|,$$\n",
    "\n",
    "which can also be extended to higher dimensions. For $n$ dimensions, with given input of two points $p = (x_1, x_2, ..., x_n)$ and $q = (z_1, z_2, ..., z_n)$, the distance is defined to be\n",
    "\n",
    "$$d(p,q) = |x_1-z_1| + |x_2-z_2|+ ...|x_n-z_n|.$$"
   ]
  },
  {
   "cell_type": "code",
   "execution_count": 2,
   "id": "6f7b2389",
   "metadata": {
    "tags": [
     "hide-input"
    ]
   },
   "outputs": [
    {
     "data": {
      "image/png": "[encoded data removed]",
      "text/plain": [
       "<Figure size 432x288 with 2 Axes>"
      ]
     },
     "metadata": {},
     "output_type": "display_data"
    }
   ],
   "source": [
    "plt.subplot(1, 3, 1)\n",
    "plt.plot((1, 2),(1,2),'black', linewidth=2);\n",
    "plt.scatter(1,1 , color='black', s=30);\n",
    "plt.scatter(2,2 , color='black', s=30);\n",
    "plt.xticks([1,2])\n",
    "plt.yticks([1,2])\n",
    "plt.axis('equal');\n",
    "plt.title(\"Euclidean distance\");\n",
    "\n",
    "\n",
    "\n",
    "plt.subplot(1, 3, 3)\n",
    "\n",
    "plt.plot((1, 2),(1,1),'black', linewidth=2);\n",
    "plt.plot((2, 2),(1,2),'black', linewidth=2);\n",
    "plt.scatter(1,1 , color='black', s=30);\n",
    "plt.scatter(2,2 , color='black', s=30);\n",
    "plt.xticks([1,2])\n",
    "plt.yticks([1,2])\n",
    "plt.axis('equal');\n",
    "plt.title(\"Manhattan distance\");"
   ]
  },
  {
   "cell_type": "markdown",
   "id": "80e46119",
   "metadata": {
    "hideCode": false,
    "hidePrompt": false
   },
   "source": [
    "**Chebyshev distance** measures the largest distance within a single coordinate.\n",
    "\n",
    "\n",
    "For $n$ dimensions, with given input of two points $p = (x_1, x_2, ..., x_n)$ and $q = (z_1, z_2, ..., z_n)$, the distance is defined to be\n",
    "\n",
    "$$d(p,q) = max(|x_1−z_1|,|x_2−z_2|, ....|x_n−z_n|)$$\n",
    "\n",
    "In two dimensions, the Chebyshev distance can be thought of as taking the longer leg of the triangle formed between the two points of interest."
   ]
  },
  {
   "cell_type": "markdown",
   "id": "8ce6b53c",
   "metadata": {},
   "source": [
    "Examples of different distance metrics between two points $(1,1)$ and $(2,2)$.\n",
    "Using the Euclidean distance, we have \n",
    "$$\\sqrt{(2-1)^2+(2-1)^2}=\\sqrt{2}$$\n",
    "\n",
    "Using the Manhattan distance, we have \n",
    "$$|2-1|+|2-1| = 2$$\n",
    "\n",
    "\n",
    "while the Chebyshev distance gives us \n",
    "$$max(|2-1|,|2-1|) = 1$$"
   ]
  },
  {
   "cell_type": "markdown",
   "id": "532ea1e5",
   "metadata": {
    "hideCode": false,
    "hidePrompt": false
   },
   "source": [
    "Choice of distance function will depend on the problem of interest. In general, the goal is for a smaller distance between two points to indicate those points have the same class."
   ]
  },
  {
   "cell_type": "markdown",
   "id": "d616d573",
   "metadata": {},
   "source": [
    "It has been shown that the Euclidean metric might not be the optimal choice for higher dimensional data [[2]](#2), where the Manhattan metric is preferred in most example cases.\n",
    "\n",
    "\n",
    "#### References\n",
    "<a id=\"1\">[1]</a> \n",
    "Kumar, Ajitesh. “K-Fold Cross Validation in Machine Learning - Python Example.” Analytics Yogi, 3 Jan. 2024, vitalflux.com/k-fold-cross-validation-python-example/. \n",
    "\n",
    "<a id=\"2\">[2]</a> \n",
    "Aggarwal, Charu C., et al. “On the Surprising Behavior of Distance Metrics in High Dimensional Space.” SpringerLink, Springer Berlin Heidelberg, 1 Jan. 1970, link.springer.com/chapter/10.1007/3-540-44503-X_27. "
   ]
  }
 ],
 "metadata": {
  "kernelspec": {
   "display_name": "Python 3 (ipykernel)",
   "language": "python",
   "name": "python3"
  },
  "language_info": {
   "codemirror_mode": {
    "name": "ipython",
    "version": 3
   },
   "file_extension": ".py",
   "mimetype": "text/x-python",
   "name": "python",
   "nbconvert_exporter": "python",
   "pygments_lexer": "ipython3",
   "version": "3.9.12"
  }
 },
 "nbformat": 4,
 "nbformat_minor": 5
}

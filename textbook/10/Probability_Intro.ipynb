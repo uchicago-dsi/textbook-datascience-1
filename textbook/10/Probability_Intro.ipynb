{
 "cells": [
  {
   "cell_type": "code",
   "execution_count": 1,
   "metadata": {
    "tags": [
     "remove-cell"
    ]
   },
   "outputs": [],
   "source": [
    "import numpy as np\n",
    "import pandas as pd\n",
    "\n",
    "%matplotlib inline\n",
    "import matplotlib.pyplot as plt\n",
    "plt.style.use('fivethirtyeight')"
   ]
  },
  {
   "cell_type": "markdown",
   "metadata": {},
   "source": [
    "#  Probability: Mathematical/Theoretical and Computational Approaches\n",
    "\n",
    "*Dan L. Nicolae* \n",
    "\n",
    "Throughout this textbook, we will illustrate how some problems can be solved mathematically, computationally (using simulations), or through a combination of mathematical/analytical and computational approaches. Each approach has its strengths and, in this chapter, we use the calculation versus estimation of probabilities to highlight some of them.\n",
    "\n",
    "We illustrate the concepts we want to introduce with a classic probability exercise called **the birthday problem**. Suppose you and a friend go to a party where there are 30 people (all unknown to both of you) and your friend wants to bet you that there are two people at that party who share their birthday. Would you be willing to take that bet? \n",
    "\n",
    "Your willingness to take the bet should be related to the chance of winning the bet. What do you think is more likely to happen: finding a pair with shared birthdays or having 30 distinct birthdays? \n",
    "\n",
    "We will answer this question using the language of probability, we will calculate the probability of the event that at least two people share birthdays in a group of 30 people. In the following sections, we will introduce the rules we need for deriving this probability and then show how to estimate them using simulations.\n",
    "\n",
    "Let's start with a simpler problem: what is the probability that two people share their birthday. Can you justify the following result?\n",
    "\n",
    "$$P(\\text{two random people have the same birthday}) ~=~ \\frac{1}{365}$$\n",
    "\n",
    "Think about the assumptions you implicitly or explicitly made in your justification. \n",
    "\n",
    "We will show in the next section that, given a number of people, $n$ (with $2\\leq n\\leq 365$), the probability, $P_n$, that at least two share a birthday is given by:\n",
    "\n",
    "$$P_n ~=~ 1-\\frac{365\\times364\\times ...\\times (365-n+1)}{365^n}$$\n",
    "\n",
    "which can also be written as\n",
    "\n",
    "$$P_n ~=~ 1-\\frac{365}{365}\\times\\frac{364}{365}\\times\\frac{363}{365}\\times ...\\times \\frac{(365-n+1)}{365}$$\n",
    "\n",
    "The assumptions used to obtain the above formula for $P_n$ are:\n",
    "\n",
    "a. There are 365 days in a year;\n",
    "\n",
    "b. All days are equally likely to be a birthday;\n",
    "\n",
    "c. Subjects' birthdays are independent of each other (for example, no twins in the room).\n",
    "\n",
    "The function below calculates these probabilities. Note that, for computational reasons, we implement the second formula for $P_n$: consider how large  $365^n$ is for n= 30 or 50."
   ]
  },
  {
   "cell_type": "code",
   "execution_count": 2,
   "metadata": {},
   "outputs": [],
   "source": [
    "# a function that calculates the probability for 2 <= n <= 365\n",
    "def birthday_prob(n):\n",
    "    \"\"\"Calculates the probability that at least 2 people \n",
    "       out of n have the same birthday\"\"\"\n",
    "    prob=1\n",
    "    for i in np.arange(n):\n",
    "        prob = prob * (365-i)/365\n",
    "    return round(1-prob,4)"
   ]
  },
  {
   "cell_type": "markdown",
   "metadata": {},
   "source": [
    "We can use this function to calculate the probability for the above scenario (a group of 30 random people)."
   ]
  },
  {
   "cell_type": "code",
   "execution_count": 3,
   "metadata": {
    "scrolled": true
   },
   "outputs": [
    {
     "data": {
      "text/plain": [
       "0.7063"
      ]
     },
     "execution_count": 3,
     "metadata": {},
     "output_type": "execute_result"
    }
   ],
   "source": [
    "birthday_prob(30)"
   ]
  },
  {
   "cell_type": "markdown",
   "metadata": {},
   "source": [
    "The probability is close to 0.7 which means it is more likely your friend wins the bet.\n",
    "\n",
    "Let's also look on how these probabilities change with $n$. We construct below a dataframe that contains these probabilities for $n$ ranging from 2 to 60."
   ]
  },
  {
   "cell_type": "code",
   "execution_count": 4,
   "metadata": {},
   "outputs": [
    {
     "data": {
      "text/html": [
       "<div>\n",
       "<style scoped>\n",
       "    .dataframe tbody tr th:only-of-type {\n",
       "        vertical-align: middle;\n",
       "    }\n",
       "\n",
       "    .dataframe tbody tr th {\n",
       "        vertical-align: top;\n",
       "    }\n",
       "\n",
       "    .dataframe thead th {\n",
       "        text-align: right;\n",
       "    }\n",
       "</style>\n",
       "<table border=\"1\" class=\"dataframe\">\n",
       "  <thead>\n",
       "    <tr style=\"text-align: right;\">\n",
       "      <th></th>\n",
       "      <th>Number of people</th>\n",
       "      <th>Probability</th>\n",
       "    </tr>\n",
       "  </thead>\n",
       "  <tbody>\n",
       "    <tr>\n",
       "      <th>0</th>\n",
       "      <td>2</td>\n",
       "      <td>0.0027</td>\n",
       "    </tr>\n",
       "    <tr>\n",
       "      <th>1</th>\n",
       "      <td>3</td>\n",
       "      <td>0.0082</td>\n",
       "    </tr>\n",
       "    <tr>\n",
       "      <th>2</th>\n",
       "      <td>4</td>\n",
       "      <td>0.0164</td>\n",
       "    </tr>\n",
       "    <tr>\n",
       "      <th>3</th>\n",
       "      <td>5</td>\n",
       "      <td>0.0271</td>\n",
       "    </tr>\n",
       "    <tr>\n",
       "      <th>4</th>\n",
       "      <td>6</td>\n",
       "      <td>0.0405</td>\n",
       "    </tr>\n",
       "    <tr>\n",
       "      <th>5</th>\n",
       "      <td>7</td>\n",
       "      <td>0.0562</td>\n",
       "    </tr>\n",
       "    <tr>\n",
       "      <th>6</th>\n",
       "      <td>8</td>\n",
       "      <td>0.0743</td>\n",
       "    </tr>\n",
       "  </tbody>\n",
       "</table>\n",
       "</div>"
      ],
      "text/plain": [
       "   Number of people  Probability\n",
       "0                 2       0.0027\n",
       "1                 3       0.0082\n",
       "2                 4       0.0164\n",
       "3                 5       0.0271\n",
       "4                 6       0.0405\n",
       "5                 7       0.0562\n",
       "6                 8       0.0743"
      ]
     },
     "execution_count": 4,
     "metadata": {},
     "output_type": "execute_result"
    }
   ],
   "source": [
    "# Construct a data frame with the probabilities for a range of n's\n",
    "number_people=np.arange(2,61,1)\n",
    "b_probs= np.array([]) # an empty array\n",
    "\n",
    "for i in number_people: \n",
    "    b_probs= np.append(b_probs,birthday_prob(i))\n",
    "\n",
    "Birthday_df=pd.DataFrame(\n",
    "    {\"Number of people\":number_people,\n",
    "     \"Probability\":b_probs})\n",
    "Birthday_df.head(7)"
   ]
  },
  {
   "cell_type": "markdown",
   "metadata": {},
   "source": [
    "We construct below a scatter graph of these probabilities that shows the trend. "
   ]
  },
  {
   "cell_type": "code",
   "execution_count": 5,
   "metadata": {
    "scrolled": true
   },
   "outputs": [
    {
     "data": {
      "image/png": "[encoded data removed]",
      "text/plain": [
       "<Figure size 640x480 with 1 Axes>"
      ]
     },
     "metadata": {},
     "output_type": "display_data"
    }
   ],
   "source": [
    "Birthday_df.plot.scatter(\"Number of people\",\"Probability\")\n",
    "plt.show()"
   ]
  },
  {
   "cell_type": "markdown",
   "metadata": {},
   "source": [
    "Are the above probabilities surprising? Can you provide an intuition for them? Note that the number of people that yields the probability closest to a fair bet is 23."
   ]
  },
  {
   "cell_type": "code",
   "execution_count": 6,
   "metadata": {},
   "outputs": [
    {
     "data": {
      "text/plain": [
       "0.5073"
      ]
     },
     "execution_count": 6,
     "metadata": {},
     "output_type": "execute_result"
    }
   ],
   "source": [
    "birthday_prob(23)"
   ]
  }
 ],
 "metadata": {
  "kernelspec": {
   "display_name": "base",
   "language": "python",
   "name": "python3"
  },
  "language_info": {
   "codemirror_mode": {
    "name": "ipython",
    "version": 3
   },
   "file_extension": ".py",
   "mimetype": "text/x-python",
   "name": "python",
   "nbconvert_exporter": "python",
   "pygments_lexer": "ipython3",
   "version": "3.12.3"
  }
 },
 "nbformat": 4,
 "nbformat_minor": 2
}

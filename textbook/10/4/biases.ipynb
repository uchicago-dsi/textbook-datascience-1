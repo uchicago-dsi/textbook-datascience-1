{
 "cells": [
  {
   "attachments": {},
   "cell_type": "markdown",
   "metadata": {},
   "source": [
    "# Biases\n",
    "\n",
    "Recall the introduction to this chapter where we stated that bigger data is not always better. This is often due to the sampling method used to gather that \"Big Data\". We have already discussed the need for representative samples to ensure generalization of the sample to the population. The bias introduced by oversampling some portions of the population over others is known as **selection bias**. However, this is not the only bias that can be introduced during the data collection process. \n",
    "\n",
    "## Non-response Bias\n",
    "\n",
    "Imagine sampling participants and emailing each participant a survey to complete. Some participants might not complete that survey. **Non-response bias** occurs when the people who decline to respond are different in some meaningful way than those who do respond. Perhaps you wish to study parenting and all single parents were too busy to complete the survey. Your study would be missing an important perspective.\n",
    "\n",
    "## Response Bias\n",
    "\n",
    "Turning attention from those who did not respond to those who did, their responses can suffer from **response bias**. Response bias can appear in multiple formats. Sometimes, participants have an incentive to respond in ways that might not be truthful, especially if questions are sensitive or embarrassing. For example, in a survey of campus sexual health, students might be embarrassed to report STIs, and therefore trends in these data may be misleading. This can be influenced by the wording or tone of the questions as well as if participants have been ensured their data will be kept private. \n",
    "\n",
    "Some response bias can be due more to boredom than truthfulness. For example, especially in long surveys, participants may care more about completing the task than completing the task well. Some participants may choose to select random answers, select the same answer for every question, or answer questions in a pattern. It is important for a researcher to consider the wording, tone and length of a survey carefully, and to check all surveys for possible response bias before analyzing data.\n",
    "\n",
    "### Randomized Response\n",
    "\n",
    "Suppose I want to know how many college students have cheated on an exam at some point in their lives. Students are less likely to respond truthfully about cheating which could create response bias in my sample. One strategy for combating this type of response bias is to use a technique known as **randomized response**. Instead of asking all students to respond truthfully, I ask them to flip 2 coins without letting me see the results. If the first coin lands on heads, they should give a truthful answer. If it lands on tails, their answer depends on the second coin flip where they answer \"yes\" if the second coin lands on heads and \"no\" if the second coin lands on tails (see image below). \n",
    "\n",
    "<img align=\"center\" src=\"./FlowChart.png\" width=\"60%\" class=\"center\"/>\n",
    "\n",
    "This inserts randomness into response ensuring that the researcher does not know who answered truthfully and therefore does not know who has cheated in the past. This encourages students to give truthful answers when prompted and allows the researcher to calculate an estimate of the true proportion of students who have cheated. Let's explore this in a simulation. \n",
    "\n",
    "Let the true proportion of students who have cheated be 30%. We can simulate the truthful answers and coin flips of 100 students using `np.random.choice` as follows. "
   ]
  },
  {
   "cell_type": "code",
   "execution_count": 1,
   "metadata": {},
   "outputs": [],
   "source": [
    "import numpy as np\n",
    "\n",
    "np.random.seed(1890)\n",
    "\n",
    "truth = np.random.choice([\"Yes\", \"No\"], 100, p=[0.3, 0.7])\n",
    "flip1 = np.random.choice([\"Heads\", \"Tails\"], 100)\n",
    "flip2 = np.random.choice([\"Heads\", \"Tails\"], 100)"
   ]
  },
  {
   "cell_type": "markdown",
   "metadata": {},
   "source": [
    "The reported answers given by students in our random response survey would be the following."
   ]
  },
  {
   "cell_type": "code",
   "execution_count": 2,
   "metadata": {},
   "outputs": [
    {
     "data": {
      "text/plain": [
       "0.43"
      ]
     },
     "execution_count": 2,
     "metadata": {},
     "output_type": "execute_result"
    }
   ],
   "source": [
    "reported = truth.copy()\n",
    "\n",
    "reported[(flip1 == \"Tails\") & (flip2 == \"Heads\")] = \"Yes\"\n",
    "reported[(flip1 == \"Tails\") & (flip2 == \"Tails\")] = \"No\"\n",
    "\n",
    "sum(reported == \"Yes\") / 100"
   ]
  },
  {
   "cell_type": "markdown",
   "metadata": {},
   "source": [
    "Compare this to the true proportion."
   ]
  },
  {
   "cell_type": "code",
   "execution_count": 3,
   "metadata": {},
   "outputs": [
    {
     "data": {
      "text/plain": [
       "0.27"
      ]
     },
     "execution_count": 3,
     "metadata": {},
     "output_type": "execute_result"
    }
   ],
   "source": [
    "sum(truth == \"Yes\") / 100"
   ]
  },
  {
   "cell_type": "markdown",
   "metadata": {},
   "source": [
    "Based on the coinflips about half of the participants responded truthfully. We also know that about a quarter of the participants falsely responded \"yes\" and a quarter falsely responded \"no\". Therefore, if we call the chance of someone truthfully responding \"yes\" $p$, the chance of seeing a response of \"yes\" (truthful or not truthful) is $P(yes) = \\frac{1}{2}p + \\frac{1}{4}$. Solving for $p$ the chance of a truthful yes is $2P(yes)-\\frac{1}{2}$. "
   ]
  },
  {
   "cell_type": "code",
   "execution_count": 4,
   "metadata": {},
   "outputs": [
    {
     "data": {
      "text/plain": [
       "0.36"
      ]
     },
     "execution_count": 4,
     "metadata": {},
     "output_type": "execute_result"
    }
   ],
   "source": [
    "2 * (sum(reported == \"Yes\") / 100) - (1 / 2)"
   ]
  },
  {
   "cell_type": "markdown",
   "metadata": {},
   "source": [
    "Which is a good estimate for the truthful proportion of 0.27. This method (like many other data science methods) makes use of properties of *probabilities* which we will learn more about next!"
   ]
  },
  {
   "cell_type": "markdown",
   "metadata": {},
   "source": [
    "[^*]: You can also pass an integer to `np.random.choice` instead of an array. This will result in a SRS from the set of integers 0 through but not including the integer you specified. For example, `np.random.choice(5)` would result in a SRS from {0,1,2,3,4}."
   ]
  }
 ],
 "metadata": {
  "kernelspec": {
   "display_name": "Python 3 (ipykernel)",
   "language": "python",
   "name": "python3"
  },
  "language_info": {
   "codemirror_mode": {
    "name": "ipython",
    "version": 3
   },
   "file_extension": ".py",
   "mimetype": "text/x-python",
   "name": "python",
   "nbconvert_exporter": "python",
   "pygments_lexer": "ipython3",
   "version": "3.9.13"
  },
  "vscode": {
   "interpreter": {
    "hash": "aee8b7b246df8f9039afb4144a1f6fd8d2ca17a180786b69acc140d282b71a49"
   }
  }
 },
 "nbformat": 4,
 "nbformat_minor": 4
}

{
 "cells": [
  {
   "cell_type": "code",
   "execution_count": 39,
   "metadata": {
    "tags": [
     "remove-cell"
    ]
   },
   "outputs": [],
   "source": [
    "import pandas as pd"
   ]
  },
  {
   "attachments": {},
   "cell_type": "markdown",
   "metadata": {},
   "source": [
    "# Causality versus Association\n",
    "\n",
    "As scientists, we are often looking for patterns or relations between variables. When there exists a pattern between two variables, we call this an **association**[^*]. For example, time of day is associated with the traffic on Chicago's Lake Shore Drive and temperature outside is associated with the number of people at Lake Michigan.\n",
    "\n",
    "When we see that two variables *X* and *Y* are associated, we often wonder if one causes the other. Here are three common scenarios:\n",
    "\n",
    "* **Causation**: change in *X* causes change in *Y* (or vice-versa)\n",
    "* **Common response**: some other variable *Z* causes change in both *X* and *Y* \n",
    "* **Colliding**: changes in both *X* and *Y* cause change in some variable *Z*\n",
    "\n",
    "Well-designed studies, which we will discuss further in the next section, can help distinguish between the three scenarios which are often depicted using causal graphs. A **causal graph** is a graph where each node depicts a variable and each edge is directed (an arrow) pointing in the direction of a cause. The figure below shows a causal graph as well as an example of a *causal association*.\n",
    "\n",
    "<img align=\"center\" src=\"./Causation.png\" alt=\"DAG Causality\" class=\"center\"/>\n",
    "\n",
    "When we see a causal association between *X* and *Y* we can depict it with an arrow from the cause to the effect. For example jumping in the lake is the direct cause of getting wet so the arrow is drawn from jumping in the lake to getting wet."
   ]
  },
  {
   "attachments": {},
   "cell_type": "markdown",
   "metadata": {},
   "source": [
    "## Common Response\n",
    "\n",
    "The causal graph figure shows below an association between *X* and *Y* (depicted by the dotted line) that is present due to the presence of a third variable, *Z*. When quantifying the influence of one of these (independent) variables on the other (dependent), the third may be a lurking or a confounding variable depending on the situation. \n",
    "\n",
    "<img align=\"center\" src=\"./Confounder.png\" alt=\"DAG Confounder\" class=\"center\"/>\n",
    "\n",
    "A **lurking variable** is a variable that is not directly measured or accounted for in a study and results in making a spurious association. When planning a study, researchers try to avoid lurking variables by including as many potentially related variables as possible. These variables typically influence the dependent variable even if they are not directly related to the independent variable.\n",
    "\n",
    "For example, suppose a streaming app has a new recommendation algorithm and they want to measure its impact on increasing the time users spend watching content on the app. In such a study a user's internet speed could be a possible lurking variable. Internet speed does not directly affect the reccommendation algorithm, which is the independent variable in the study, but does have an influence on the dependent variable, i.e. viewing time on the app. Users' internet speed might be hard to identify in this scenario despite its subtle influence on viewing time. Users with higher internet speed might have a smoother streaming experience that leads to spending more time on the app regardless of the efficacy of this new recommendation algorithm.\n",
    "\n",
    "A **confounding variable** is a variable that is included in a study but still results in a spurious association because it is not properly accounted for or controlled. Such a variable influences both the independent and the dependent variables. **Conditioning on** a confounding variable is best practice to remove the spurious association between *X* and *Y*. Conditioning on a variable means looking at only one value of the conditioned variable. \n",
    "\n",
    "For example, suppose we have a dataset that contains information about beach events. We plot ice cream sales and number of swimmers at the beach and see that there is a positive association such that as ice cream sales increase so does the number of swimmers. Should we conclude that ice cream makes people want to go swimming? Thinking more deeply about the problem, we realize that more people go swimming when the weather is warm. Ice cream sales also increase during warm weather, therefore both variables have a common cause: weather. When we condition on weather and only consider ice cream sales and swimming in the summer months, the association disappears. However, it is important that we condition only on confounding variables. Conditioning on variables that are not confounders can introduce spurious associations as we will see later in this section.\n",
    "\n",
    "The core difference between a confounding variable and a lurking variable lies in the awareness of these variables during the study."
   ]
  },
  {
   "cell_type": "markdown",
   "metadata": {},
   "source": [
    "### An Illustrative Example of Confounding\n",
    "Consider the following dataset which contains information about cases of the Delta variant of COVID-19 in the UK[^****]."
   ]
  },
  {
   "cell_type": "code",
   "execution_count": 40,
   "metadata": {},
   "outputs": [
    {
     "data": {
      "text/html": [
       "<div>\n",
       "<style scoped>\n",
       "    .dataframe tbody tr th:only-of-type {\n",
       "        vertical-align: middle;\n",
       "    }\n",
       "\n",
       "    .dataframe tbody tr th {\n",
       "        vertical-align: top;\n",
       "    }\n",
       "\n",
       "    .dataframe thead th {\n",
       "        text-align: right;\n",
       "    }\n",
       "</style>\n",
       "<table border=\"1\" class=\"dataframe\">\n",
       "  <thead>\n",
       "    <tr style=\"text-align: right;\">\n",
       "      <th></th>\n",
       "      <th>age_group</th>\n",
       "      <th>vaccine_status</th>\n",
       "      <th>outcome</th>\n",
       "    </tr>\n",
       "  </thead>\n",
       "  <tbody>\n",
       "    <tr>\n",
       "      <th>0</th>\n",
       "      <td>under 50</td>\n",
       "      <td>vaccinated</td>\n",
       "      <td>death</td>\n",
       "    </tr>\n",
       "    <tr>\n",
       "      <th>1</th>\n",
       "      <td>under 50</td>\n",
       "      <td>vaccinated</td>\n",
       "      <td>death</td>\n",
       "    </tr>\n",
       "    <tr>\n",
       "      <th>2</th>\n",
       "      <td>under 50</td>\n",
       "      <td>vaccinated</td>\n",
       "      <td>death</td>\n",
       "    </tr>\n",
       "    <tr>\n",
       "      <th>3</th>\n",
       "      <td>under 50</td>\n",
       "      <td>vaccinated</td>\n",
       "      <td>death</td>\n",
       "    </tr>\n",
       "    <tr>\n",
       "      <th>4</th>\n",
       "      <td>under 50</td>\n",
       "      <td>vaccinated</td>\n",
       "      <td>death</td>\n",
       "    </tr>\n",
       "  </tbody>\n",
       "</table>\n",
       "</div>"
      ],
      "text/plain": [
       "  age_group vaccine_status outcome\n",
       "0  under 50     vaccinated   death\n",
       "1  under 50     vaccinated   death\n",
       "2  under 50     vaccinated   death\n",
       "3  under 50     vaccinated   death\n",
       "4  under 50     vaccinated   death"
      ]
     },
     "execution_count": 40,
     "metadata": {},
     "output_type": "execute_result"
    }
   ],
   "source": [
    "covid = pd.read_csv(\"../../data/simpsons_paradox_covid.csv\")\n",
    "covid.head()"
   ]
  },
  {
   "cell_type": "markdown",
   "metadata": {},
   "source": [
    "This dataset contains three columns with information on the age of the individual, whether they received the COVID-19 vaccine, and whether they survived the disease. We are interested in the mortality rate for vaccinated and unvaccinated patients."
   ]
  },
  {
   "cell_type": "code",
   "execution_count": 41,
   "metadata": {},
   "outputs": [
    {
     "data": {
      "text/html": [
       "<div>\n",
       "<style scoped>\n",
       "    .dataframe tbody tr th:only-of-type {\n",
       "        vertical-align: middle;\n",
       "    }\n",
       "\n",
       "    .dataframe tbody tr th {\n",
       "        vertical-align: top;\n",
       "    }\n",
       "\n",
       "    .dataframe thead th {\n",
       "        text-align: right;\n",
       "    }\n",
       "</style>\n",
       "<table border=\"1\" class=\"dataframe\">\n",
       "  <thead>\n",
       "    <tr style=\"text-align: right;\">\n",
       "      <th></th>\n",
       "      <th></th>\n",
       "      <th>counts</th>\n",
       "      <th>proportion</th>\n",
       "    </tr>\n",
       "    <tr>\n",
       "      <th>vaccine_status</th>\n",
       "      <th>outcome</th>\n",
       "      <th></th>\n",
       "      <th></th>\n",
       "    </tr>\n",
       "  </thead>\n",
       "  <tbody>\n",
       "    <tr>\n",
       "      <th rowspan=\"2\" valign=\"top\">unvaccinated</th>\n",
       "      <th>death</th>\n",
       "      <td>253</td>\n",
       "      <td>0.001675</td>\n",
       "    </tr>\n",
       "    <tr>\n",
       "      <th>survived</th>\n",
       "      <td>150799</td>\n",
       "      <td>0.998325</td>\n",
       "    </tr>\n",
       "    <tr>\n",
       "      <th rowspan=\"2\" valign=\"top\">vaccinated</th>\n",
       "      <th>death</th>\n",
       "      <td>481</td>\n",
       "      <td>0.004107</td>\n",
       "    </tr>\n",
       "    <tr>\n",
       "      <th>survived</th>\n",
       "      <td>116633</td>\n",
       "      <td>0.995893</td>\n",
       "    </tr>\n",
       "  </tbody>\n",
       "</table>\n",
       "</div>"
      ],
      "text/plain": [
       "                         counts  proportion\n",
       "vaccine_status outcome                     \n",
       "unvaccinated   death        253    0.001675\n",
       "               survived  150799    0.998325\n",
       "vaccinated     death        481    0.004107\n",
       "               survived  116633    0.995893"
      ]
     },
     "execution_count": 41,
     "metadata": {},
     "output_type": "execute_result"
    }
   ],
   "source": [
    "outcome_vax_table = covid.groupby([\"vaccine_status\",\"outcome\"]).count().rename(columns={\"age_group\":\"counts\"})\n",
    "\n",
    "# There are 151052 unvaccinated patients and 117114 vaccinated patients in the dataset\n",
    "outcome_vax_table[\"proportion\"] = outcome_vax_table['counts'] / [151052, 151052, 117114, 117114] \n",
    "outcome_vax_table"
   ]
  },
  {
   "cell_type": "markdown",
   "metadata": {},
   "source": [
    "You may be surprised to see that the proportion of patients who died was higher in the vaccinated group than in the non-vaccinated group. However, there is a confounding variable that affects both whether someone received the vaccine and risk of death from COVID-19: age. Those who are older are more at-risk for COVID-19 and also received more vaccines. We can see this from the table below:"
   ]
  },
  {
   "cell_type": "code",
   "execution_count": 42,
   "metadata": {},
   "outputs": [
    {
     "data": {
      "text/html": [
       "<div>\n",
       "<style scoped>\n",
       "    .dataframe tbody tr th:only-of-type {\n",
       "        vertical-align: middle;\n",
       "    }\n",
       "\n",
       "    .dataframe tbody tr th {\n",
       "        vertical-align: top;\n",
       "    }\n",
       "\n",
       "    .dataframe thead th {\n",
       "        text-align: right;\n",
       "    }\n",
       "</style>\n",
       "<table border=\"1\" class=\"dataframe\">\n",
       "  <thead>\n",
       "    <tr style=\"text-align: right;\">\n",
       "      <th></th>\n",
       "      <th></th>\n",
       "      <th>counts</th>\n",
       "      <th>proportion</th>\n",
       "    </tr>\n",
       "    <tr>\n",
       "      <th>age_group</th>\n",
       "      <th>vaccine_status</th>\n",
       "      <th></th>\n",
       "      <th></th>\n",
       "    </tr>\n",
       "  </thead>\n",
       "  <tbody>\n",
       "    <tr>\n",
       "      <th rowspan=\"2\" valign=\"top\">50 +</th>\n",
       "      <th>unvaccinated</th>\n",
       "      <td>3440</td>\n",
       "      <td>0.111881</td>\n",
       "    </tr>\n",
       "    <tr>\n",
       "      <th>vaccinated</th>\n",
       "      <td>27307</td>\n",
       "      <td>0.888119</td>\n",
       "    </tr>\n",
       "    <tr>\n",
       "      <th rowspan=\"2\" valign=\"top\">under 50</th>\n",
       "      <th>unvaccinated</th>\n",
       "      <td>147612</td>\n",
       "      <td>0.621736</td>\n",
       "    </tr>\n",
       "    <tr>\n",
       "      <th>vaccinated</th>\n",
       "      <td>89807</td>\n",
       "      <td>0.378264</td>\n",
       "    </tr>\n",
       "  </tbody>\n",
       "</table>\n",
       "</div>"
      ],
      "text/plain": [
       "                          counts  proportion\n",
       "age_group vaccine_status                    \n",
       "50 +      unvaccinated      3440    0.111881\n",
       "          vaccinated       27307    0.888119\n",
       "under 50  unvaccinated    147612    0.621736\n",
       "          vaccinated       89807    0.378264"
      ]
     },
     "execution_count": 42,
     "metadata": {},
     "output_type": "execute_result"
    }
   ],
   "source": [
    "age_vax_table = covid.groupby([\"age_group\",\"vaccine_status\"]).count().rename(columns={\"outcome\":\"counts\"})\n",
    "\n",
    "# There are 30747 patients over 50 and 237419 patients under 50 in the dataset\n",
    "age_vax_table[\"proportion\"] = age_vax_table['counts'] / [30747, 30747, 237419, 237419]\n",
    "age_vax_table"
   ]
  },
  {
   "cell_type": "markdown",
   "metadata": {},
   "source": [
    "If we condition on this confounder, we can see the true relationship between vaccine_status and outcome."
   ]
  },
  {
   "cell_type": "code",
   "execution_count": 43,
   "metadata": {},
   "outputs": [
    {
     "data": {
      "text/html": [
       "<div>\n",
       "<style scoped>\n",
       "    .dataframe tbody tr th:only-of-type {\n",
       "        vertical-align: middle;\n",
       "    }\n",
       "\n",
       "    .dataframe tbody tr th {\n",
       "        vertical-align: top;\n",
       "    }\n",
       "\n",
       "    .dataframe thead th {\n",
       "        text-align: right;\n",
       "    }\n",
       "</style>\n",
       "<table border=\"1\" class=\"dataframe\">\n",
       "  <thead>\n",
       "    <tr style=\"text-align: right;\">\n",
       "      <th></th>\n",
       "      <th></th>\n",
       "      <th></th>\n",
       "      <th>counter</th>\n",
       "      <th>proportion</th>\n",
       "    </tr>\n",
       "    <tr>\n",
       "      <th>age_group</th>\n",
       "      <th>vaccine_status</th>\n",
       "      <th>outcome</th>\n",
       "      <th></th>\n",
       "      <th></th>\n",
       "    </tr>\n",
       "  </thead>\n",
       "  <tbody>\n",
       "    <tr>\n",
       "      <th rowspan=\"4\" valign=\"top\">50 +</th>\n",
       "      <th rowspan=\"2\" valign=\"top\">unvaccinated</th>\n",
       "      <th>death</th>\n",
       "      <td>205</td>\n",
       "      <td>0.059593</td>\n",
       "    </tr>\n",
       "    <tr>\n",
       "      <th>survived</th>\n",
       "      <td>3235</td>\n",
       "      <td>0.940407</td>\n",
       "    </tr>\n",
       "    <tr>\n",
       "      <th rowspan=\"2\" valign=\"top\">vaccinated</th>\n",
       "      <th>death</th>\n",
       "      <td>460</td>\n",
       "      <td>0.016845</td>\n",
       "    </tr>\n",
       "    <tr>\n",
       "      <th>survived</th>\n",
       "      <td>26847</td>\n",
       "      <td>0.983155</td>\n",
       "    </tr>\n",
       "    <tr>\n",
       "      <th rowspan=\"4\" valign=\"top\">under 50</th>\n",
       "      <th rowspan=\"2\" valign=\"top\">unvaccinated</th>\n",
       "      <th>death</th>\n",
       "      <td>48</td>\n",
       "      <td>0.000325</td>\n",
       "    </tr>\n",
       "    <tr>\n",
       "      <th>survived</th>\n",
       "      <td>147564</td>\n",
       "      <td>0.999675</td>\n",
       "    </tr>\n",
       "    <tr>\n",
       "      <th rowspan=\"2\" valign=\"top\">vaccinated</th>\n",
       "      <th>death</th>\n",
       "      <td>21</td>\n",
       "      <td>0.000234</td>\n",
       "    </tr>\n",
       "    <tr>\n",
       "      <th>survived</th>\n",
       "      <td>89786</td>\n",
       "      <td>0.999766</td>\n",
       "    </tr>\n",
       "  </tbody>\n",
       "</table>\n",
       "</div>"
      ],
      "text/plain": [
       "                                   counter  proportion\n",
       "age_group vaccine_status outcome                      \n",
       "50 +      unvaccinated   death         205    0.059593\n",
       "                         survived     3235    0.940407\n",
       "          vaccinated     death         460    0.016845\n",
       "                         survived    26847    0.983155\n",
       "under 50  unvaccinated   death          48    0.000325\n",
       "                         survived   147564    0.999675\n",
       "          vaccinated     death          21    0.000234\n",
       "                         survived    89786    0.999766"
      ]
     },
     "execution_count": 43,
     "metadata": {},
     "output_type": "execute_result"
    }
   ],
   "source": [
    "covid['counter'] = 1 # Create this fourth variable since we will be grouping on all other variables\n",
    "conditioned = covid.groupby([\"age_group\",\"vaccine_status\",\"outcome\"]).count()\n",
    "\n",
    "\n",
    "conditioned[\"proportion\"] = conditioned['counter'] / [3440, 3440, 27307, 27307, 147612, 147612, 89807, 89807]\n",
    "conditioned"
   ]
  },
  {
   "cell_type": "markdown",
   "metadata": {},
   "source": [
    "Looking at our conditioned data, we see that after accounting for age, those who received the vaccine had lower mortality rates than those who did not receive the vaccine. This reversal of a trend when groups are separated instead of combined is known as **Simpson's Paradox**. "
   ]
  },
  {
   "cell_type": "markdown",
   "metadata": {},
   "source": [
    "## Colliding Variables\n",
    "\n",
    "The next causal graph figure depicts an association between *X* and *Y* that is due to conditioning on the **collider** variable, *Z*. \n",
    "\n",
    "<img align=\"center\" src=\"./Collider.png\" width=\"60%\" alt=\"DAG for Collider\" class=\"center\"/>\n",
    "\n",
    "We see spurious associations between two variables *X* and *Y* when both are causes of a third variable *Z* and we are conditioning on *Z*[^**]. For example: looking only at hospitalized patient data (conditioning on being hospitalized), we see a negative association between diabetes and heart disease such that those who have diabetes are less likely to have heart disease. However, it is known that diabetes is a risk factor for heart disease[^***] – having diabetes makes you more likely to develop heart disease – so we should expect to see the opposite effect. This reversal in association occurs because we are only looking at hospitalized patients and both heart disease and diabetes are causes of hospitalization. Diabetes increases likelihood of heart disease and likelihood of hospitalization. Heart disease increases likelihood of hospitalization as well. If you are hospitalized for diabetes, it is less likely you also have heart disease. Therefore, those with diabetes in this sample of hospitalized patients have lower incidence of heart disease than those with diabetes in the general population, reversing the association between diabetes and heart disease.\n",
    "\n",
    "Let's consider another example. Suppose your friend is complaining about a recent date. The person she went to dinner with was very good-looking but had no sense of humor. Your friend comments that it seems all good-looking people have a bad sense of humor. You know that in reality looks and humor are not related. Your friend is conditioning on a collider by considering only people that she dates. She likely only dates people that meet a certain threshold of looks and humor. Those that are very good-looking may not need to have as good of a sense of humor to get a date whereas those who are less good-looking may need to have a better sense of humor. This creates a negative association between looks and humor that does not exist outside of her dating pool."
   ]
  },
  {
   "cell_type": "markdown",
   "metadata": {},
   "source": [
    "### An Illustrative Example of Colliding\n",
    "\n",
    "Returning to our COVID-19 example, there is also a colliding variable such that both age and vaccine status affect mortality rate. Currently, this is not an issue because we are not conditioning on `outcome`. However, let's return to our investigation of vaccine status. We noticed that more people aged over 50 received the vaccine than those under 50. What would happen if we conditioned on `outcome`?"
   ]
  },
  {
   "cell_type": "code",
   "execution_count": 44,
   "metadata": {},
   "outputs": [
    {
     "data": {
      "text/html": [
       "<div>\n",
       "<style scoped>\n",
       "    .dataframe tbody tr th:only-of-type {\n",
       "        vertical-align: middle;\n",
       "    }\n",
       "\n",
       "    .dataframe tbody tr th {\n",
       "        vertical-align: top;\n",
       "    }\n",
       "\n",
       "    .dataframe thead th {\n",
       "        text-align: right;\n",
       "    }\n",
       "</style>\n",
       "<table border=\"1\" class=\"dataframe\">\n",
       "  <thead>\n",
       "    <tr style=\"text-align: right;\">\n",
       "      <th></th>\n",
       "      <th></th>\n",
       "      <th></th>\n",
       "      <th>counter</th>\n",
       "      <th>proportion</th>\n",
       "    </tr>\n",
       "    <tr>\n",
       "      <th>outcome</th>\n",
       "      <th>age_group</th>\n",
       "      <th>vaccine_status</th>\n",
       "      <th></th>\n",
       "      <th></th>\n",
       "    </tr>\n",
       "  </thead>\n",
       "  <tbody>\n",
       "    <tr>\n",
       "      <th rowspan=\"4\" valign=\"top\">death</th>\n",
       "      <th rowspan=\"2\" valign=\"top\">50 +</th>\n",
       "      <th>unvaccinated</th>\n",
       "      <td>205</td>\n",
       "      <td>0.308271</td>\n",
       "    </tr>\n",
       "    <tr>\n",
       "      <th>vaccinated</th>\n",
       "      <td>460</td>\n",
       "      <td>0.691729</td>\n",
       "    </tr>\n",
       "    <tr>\n",
       "      <th rowspan=\"2\" valign=\"top\">under 50</th>\n",
       "      <th>unvaccinated</th>\n",
       "      <td>48</td>\n",
       "      <td>0.695652</td>\n",
       "    </tr>\n",
       "    <tr>\n",
       "      <th>vaccinated</th>\n",
       "      <td>21</td>\n",
       "      <td>0.304348</td>\n",
       "    </tr>\n",
       "    <tr>\n",
       "      <th rowspan=\"4\" valign=\"top\">survived</th>\n",
       "      <th rowspan=\"2\" valign=\"top\">50 +</th>\n",
       "      <th>unvaccinated</th>\n",
       "      <td>3235</td>\n",
       "      <td>0.107539</td>\n",
       "    </tr>\n",
       "    <tr>\n",
       "      <th>vaccinated</th>\n",
       "      <td>26847</td>\n",
       "      <td>0.892461</td>\n",
       "    </tr>\n",
       "    <tr>\n",
       "      <th rowspan=\"2\" valign=\"top\">under 50</th>\n",
       "      <th>unvaccinated</th>\n",
       "      <td>147564</td>\n",
       "      <td>0.621715</td>\n",
       "    </tr>\n",
       "    <tr>\n",
       "      <th>vaccinated</th>\n",
       "      <td>89786</td>\n",
       "      <td>0.378285</td>\n",
       "    </tr>\n",
       "  </tbody>\n",
       "</table>\n",
       "</div>"
      ],
      "text/plain": [
       "                                   counter  proportion\n",
       "outcome  age_group vaccine_status                     \n",
       "death    50 +      unvaccinated        205    0.308271\n",
       "                   vaccinated          460    0.691729\n",
       "         under 50  unvaccinated         48    0.695652\n",
       "                   vaccinated           21    0.304348\n",
       "survived 50 +      unvaccinated       3235    0.107539\n",
       "                   vaccinated        26847    0.892461\n",
       "         under 50  unvaccinated     147564    0.621715\n",
       "                   vaccinated        89786    0.378285"
      ]
     },
     "execution_count": 44,
     "metadata": {},
     "output_type": "execute_result"
    }
   ],
   "source": [
    "collider = covid.groupby([\"outcome\",\"age_group\",\"vaccine_status\"]).count()\n",
    "\n",
    "collider[\"proportion\"] = collider['counter'] / [665, 665, 69, 69, 30082, 30082, 237350, 237350]\n",
    "collider"
   ]
  },
  {
   "cell_type": "markdown",
   "metadata": {},
   "source": [
    "This gives us a much different idea of how many of each age group received the vaccine. For example, if we only had data on those who died, the data would tell us that only 69% of those over 50 are vaccinated when the true number is 89%. This is why it important to understand relationships between variables in your data before conducting analyses or making claims about association."
   ]
  },
  {
   "attachments": {},
   "cell_type": "markdown",
   "metadata": {},
   "source": [
    "\n",
    "[^*]: An association is often referred to as a correlation. Correlations are discussed in more detail in Chapter 17.\n",
    "\n",
    "[^**]: A more thorough discussion of colliders is beyond the scope of this book, but interested readers are referred to *The Book of Why* by Judea Pearl and Dana Mackenzie.\n",
    "\n",
    "[^***]: Glovaci D, Fan W, Wong ND. Epidemiology of Diabetes Mellitus and Cardiovascular Disease. Curr Cardiol Rep. 2019 Mar 4;21(4):21. doi: 10.1007/s11886-019-1107-y. PMID: 30828746\n",
    "\n",
    "[^****]: Source: https://assets.publishing.service.gov.uk/government/uploads/system/uploads/attachment_data/file/1009243/Technical_Briefing_20.pdf"
   ]
  },
  {
   "cell_type": "markdown",
   "metadata": {},
   "source": []
  }
 ],
 "metadata": {
  "kernelspec": {
   "display_name": "Python 3 (ipykernel)",
   "language": "python",
   "name": "python3"
  },
  "language_info": {
   "codemirror_mode": {
    "name": "ipython",
    "version": 3
   },
   "file_extension": ".py",
   "mimetype": "text/x-python",
   "name": "python",
   "nbconvert_exporter": "python",
   "pygments_lexer": "ipython3",
   "version": "3.10.9"
  },
  "vscode": {
   "interpreter": {
    "hash": "aee8b7b246df8f9039afb4144a1f6fd8d2ca17a180786b69acc140d282b71a49"
   }
  }
 },
 "nbformat": 4,
 "nbformat_minor": 4
}

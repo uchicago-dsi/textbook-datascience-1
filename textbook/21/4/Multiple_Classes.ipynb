{
 "cells": [
  {
   "cell_type": "code",
   "execution_count": 2,
   "id": "c6339242",
   "metadata": {
    "tags": [
     "remove-cell"
    ]
   },
   "outputs": [],
   "source": [
    "import numpy as np\n",
    "import pandas as pd\n",
    "%matplotlib inline\n",
    "import math\n",
    "\n",
    "import matplotlib.pyplot as plt\n",
    "plt.style.use('fivethirtyeight')\n",
    "import matplotlib.patches as mpatches"
   ]
  },
  {
   "cell_type": "markdown",
   "id": "8f4988f9",
   "metadata": {},
   "source": [
    "# Classifying fruit\n"
   ]
  },
  {
   "cell_type": "markdown",
   "id": "ad9d3f21",
   "metadata": {},
   "source": [
    "Now that we have an idea of how kNN classification works, let us consider a more advanced example that includes cross validation to tune the parameter $k$, a measure of accuracy, and discussion on the data itself. Below we load in the data.\n",
    "\n",
    "\n",
    "This data contains measurements on actual fruits: apples, lemons, oranges, and mandarins compiled by [Iain Murray, PhD](https://homepages.inf.ed.ac.uk/imurray2/teaching/oranges_and_lemons/) and expanded on by [Susan Li](https://github.com/susanli2016/Machine-Learning-with-Python/blob/master/fruit_data_with_colors.txt).\n",
    "It contains the following features: width (cm), height (cm), mass(g), colorscore(0 - 1 scale).\n",
    "\n",
    "\n",
    "We focus on width and height features to determine if we can classify fruit. Note we need a few of the functions defined thus far, so we redefine them below for easy access."
   ]
  },
  {
   "cell_type": "code",
   "execution_count": 3,
   "id": "0e69ac19",
   "metadata": {},
   "outputs": [],
   "source": [
    "# the Euclidean distance\n",
    "def distance(pt1, pt2):   \n",
    "    \"\"\"Return the distance between two points, represented as arrays\"\"\"\n",
    "    return np.sqrt(sum((pt1 - pt2)**2))\n",
    "\n",
    "def row_wise_distance(row, my_point):\n",
    "    '''Computes the distance between the given my_point and a single df row'''\n",
    "    return distance(my_point, np.array(row))\n",
    "\n",
    "def closest_k(df, point, k):\n",
    "    \"\"\"Outputs a df containing the k closest rows in the input df to array 'point' \"\"\"\n",
    "    df = df.assign(Distance_to_point = df.apply(row_wise_distance, args=(point,), axis=1))\n",
    "    df = df.sort_values('Distance_to_point') \n",
    "    topk = df.head(k)\n",
    "    return topk"
   ]
  },
  {
   "cell_type": "code",
   "execution_count": 4,
   "id": "52138ad5",
   "metadata": {},
   "outputs": [
    {
     "data": {
      "text/html": [
       "<div>\n",
       "<style scoped>\n",
       "    .dataframe tbody tr th:only-of-type {\n",
       "        vertical-align: middle;\n",
       "    }\n",
       "\n",
       "    .dataframe tbody tr th {\n",
       "        vertical-align: top;\n",
       "    }\n",
       "\n",
       "    .dataframe thead th {\n",
       "        text-align: right;\n",
       "    }\n",
       "</style>\n",
       "<table border=\"1\" class=\"dataframe\">\n",
       "  <thead>\n",
       "    <tr style=\"text-align: right;\">\n",
       "      <th></th>\n",
       "      <th>fruit_label</th>\n",
       "      <th>fruit_name</th>\n",
       "      <th>fruit_subtype</th>\n",
       "      <th>mass</th>\n",
       "      <th>width</th>\n",
       "      <th>height</th>\n",
       "      <th>color_score</th>\n",
       "    </tr>\n",
       "  </thead>\n",
       "  <tbody>\n",
       "    <tr>\n",
       "      <th>0</th>\n",
       "      <td>1</td>\n",
       "      <td>apple</td>\n",
       "      <td>granny_smith</td>\n",
       "      <td>192</td>\n",
       "      <td>8.4</td>\n",
       "      <td>7.3</td>\n",
       "      <td>0.55</td>\n",
       "    </tr>\n",
       "    <tr>\n",
       "      <th>1</th>\n",
       "      <td>1</td>\n",
       "      <td>apple</td>\n",
       "      <td>granny_smith</td>\n",
       "      <td>180</td>\n",
       "      <td>8.0</td>\n",
       "      <td>6.8</td>\n",
       "      <td>0.59</td>\n",
       "    </tr>\n",
       "    <tr>\n",
       "      <th>2</th>\n",
       "      <td>1</td>\n",
       "      <td>apple</td>\n",
       "      <td>granny_smith</td>\n",
       "      <td>176</td>\n",
       "      <td>7.4</td>\n",
       "      <td>7.2</td>\n",
       "      <td>0.60</td>\n",
       "    </tr>\n",
       "    <tr>\n",
       "      <th>3</th>\n",
       "      <td>2</td>\n",
       "      <td>mandarin</td>\n",
       "      <td>mandarin</td>\n",
       "      <td>86</td>\n",
       "      <td>6.2</td>\n",
       "      <td>4.7</td>\n",
       "      <td>0.80</td>\n",
       "    </tr>\n",
       "    <tr>\n",
       "      <th>4</th>\n",
       "      <td>2</td>\n",
       "      <td>mandarin</td>\n",
       "      <td>mandarin</td>\n",
       "      <td>84</td>\n",
       "      <td>6.0</td>\n",
       "      <td>4.6</td>\n",
       "      <td>0.79</td>\n",
       "    </tr>\n",
       "  </tbody>\n",
       "</table>\n",
       "</div>"
      ],
      "text/plain": [
       "   fruit_label fruit_name fruit_subtype  mass  width  height  color_score\n",
       "0            1      apple  granny_smith   192    8.4     7.3         0.55\n",
       "1            1      apple  granny_smith   180    8.0     6.8         0.59\n",
       "2            1      apple  granny_smith   176    7.4     7.2         0.60\n",
       "3            2   mandarin      mandarin    86    6.2     4.7         0.80\n",
       "4            2   mandarin      mandarin    84    6.0     4.6         0.79"
      ]
     },
     "execution_count": 4,
     "metadata": {},
     "output_type": "execute_result"
    }
   ],
   "source": [
    "fruit_df = pd.read_csv('../../data/fruit_data_with_colors.txt', sep=\"\\t\")\n",
    "fruit_df.head()"
   ]
  },
  {
   "cell_type": "markdown",
   "id": "d9a641e4",
   "metadata": {},
   "source": [
    "Although we can get a general sense of the algorithm using raw data, we do want to be careful about the scale and units of the feature data. To illustrate the importance of this, suppose instead of width in cm we have width in meters in our fruit dataset. The corresponding column name `width_meters` has been added to the DataFrame below. Let's investigate how this affects the kNN classification."
   ]
  },
  {
   "cell_type": "code",
   "execution_count": 5,
   "id": "730f34e9",
   "metadata": {},
   "outputs": [
    {
     "data": {
      "text/html": [
       "<div>\n",
       "<style scoped>\n",
       "    .dataframe tbody tr th:only-of-type {\n",
       "        vertical-align: middle;\n",
       "    }\n",
       "\n",
       "    .dataframe tbody tr th {\n",
       "        vertical-align: top;\n",
       "    }\n",
       "\n",
       "    .dataframe thead th {\n",
       "        text-align: right;\n",
       "    }\n",
       "</style>\n",
       "<table border=\"1\" class=\"dataframe\">\n",
       "  <thead>\n",
       "    <tr style=\"text-align: right;\">\n",
       "      <th></th>\n",
       "      <th>fruit_label</th>\n",
       "      <th>fruit_name</th>\n",
       "      <th>fruit_subtype</th>\n",
       "      <th>mass</th>\n",
       "      <th>width</th>\n",
       "      <th>height</th>\n",
       "      <th>color_score</th>\n",
       "      <th>width_meters</th>\n",
       "    </tr>\n",
       "  </thead>\n",
       "  <tbody>\n",
       "    <tr>\n",
       "      <th>0</th>\n",
       "      <td>1</td>\n",
       "      <td>apple</td>\n",
       "      <td>granny_smith</td>\n",
       "      <td>192</td>\n",
       "      <td>8.4</td>\n",
       "      <td>7.3</td>\n",
       "      <td>0.55</td>\n",
       "      <td>0.084</td>\n",
       "    </tr>\n",
       "    <tr>\n",
       "      <th>1</th>\n",
       "      <td>1</td>\n",
       "      <td>apple</td>\n",
       "      <td>granny_smith</td>\n",
       "      <td>180</td>\n",
       "      <td>8.0</td>\n",
       "      <td>6.8</td>\n",
       "      <td>0.59</td>\n",
       "      <td>0.080</td>\n",
       "    </tr>\n",
       "    <tr>\n",
       "      <th>2</th>\n",
       "      <td>1</td>\n",
       "      <td>apple</td>\n",
       "      <td>granny_smith</td>\n",
       "      <td>176</td>\n",
       "      <td>7.4</td>\n",
       "      <td>7.2</td>\n",
       "      <td>0.60</td>\n",
       "      <td>0.074</td>\n",
       "    </tr>\n",
       "    <tr>\n",
       "      <th>3</th>\n",
       "      <td>2</td>\n",
       "      <td>mandarin</td>\n",
       "      <td>mandarin</td>\n",
       "      <td>86</td>\n",
       "      <td>6.2</td>\n",
       "      <td>4.7</td>\n",
       "      <td>0.80</td>\n",
       "      <td>0.062</td>\n",
       "    </tr>\n",
       "    <tr>\n",
       "      <th>4</th>\n",
       "      <td>2</td>\n",
       "      <td>mandarin</td>\n",
       "      <td>mandarin</td>\n",
       "      <td>84</td>\n",
       "      <td>6.0</td>\n",
       "      <td>4.6</td>\n",
       "      <td>0.79</td>\n",
       "      <td>0.060</td>\n",
       "    </tr>\n",
       "  </tbody>\n",
       "</table>\n",
       "</div>"
      ],
      "text/plain": [
       "   fruit_label fruit_name fruit_subtype  mass  width  height  color_score   \n",
       "0            1      apple  granny_smith   192    8.4     7.3         0.55  \\\n",
       "1            1      apple  granny_smith   180    8.0     6.8         0.59   \n",
       "2            1      apple  granny_smith   176    7.4     7.2         0.60   \n",
       "3            2   mandarin      mandarin    86    6.2     4.7         0.80   \n",
       "4            2   mandarin      mandarin    84    6.0     4.6         0.79   \n",
       "\n",
       "   width_meters  \n",
       "0         0.084  \n",
       "1         0.080  \n",
       "2         0.074  \n",
       "3         0.062  \n",
       "4         0.060  "
      ]
     },
     "execution_count": 5,
     "metadata": {},
     "output_type": "execute_result"
    }
   ],
   "source": [
    "fruit_df['width_meters'] = fruit_df['width']/100\n",
    "fruit_df.head()"
   ]
  },
  {
   "cell_type": "markdown",
   "id": "6623239f",
   "metadata": {},
   "source": [
    "Visually, we find that because of this change in units, on the right graph below the distance between the x coordinates has become very small. This corresponds to the width (m) as incorporating less useful information about 'closeness' between data points, while the 'height' feature contains more weight in classifying a neighbor."
   ]
  },
  {
   "cell_type": "code",
   "execution_count": 6,
   "id": "02eaf5da",
   "metadata": {
    "tags": [
     "hide-input"
    ]
   },
   "outputs": [
    {
     "data": {
      "image/png": "[encoded data removed]",
      "text/plain": [
       "<Figure size 1080x432 with 2 Axes>"
      ]
     },
     "metadata": {},
     "output_type": "display_data"
    }
   ],
   "source": [
    "plt.subplots(figsize=(15, 6))\n",
    "plt.subplot(1, 2, 1)\n",
    "\n",
    "plt.scatter(fruit_df.loc[fruit_df['fruit_name']== 'apple']['width'], fruit_df.loc[fruit_df['fruit_name']== 'apple']['height'] , color='red', s=30)\n",
    "plt.scatter(fruit_df.loc[fruit_df['fruit_name']== 'lemon']['width'], fruit_df.loc[fruit_df['fruit_name']== 'lemon']['height'] , color='limegreen', s=30)\n",
    "plt.scatter(fruit_df.loc[fruit_df['fruit_name']== 'orange']['width'], fruit_df.loc[fruit_df['fruit_name']== 'orange']['height'] , color='orange', s=30)\n",
    "plt.scatter(fruit_df.loc[fruit_df['fruit_name']== 'mandarin']['width'], fruit_df.loc[fruit_df['fruit_name']== 'mandarin']['height'] , color='blue', s=30)\n",
    "\n",
    "r_patch = mpatches.Patch(color='red', label='Apple')\n",
    "y_patch = mpatches.Patch(color='limegreen', label='Lemon')\n",
    "o_patch = mpatches.Patch(color='orange', label='Orange')\n",
    "m_patch = mpatches.Patch(color='blue', label='Mandarin')\n",
    "plt.legend(handles=[r_patch, y_patch,o_patch, m_patch])\n",
    "plt.xticks(np.arange(0,11))\n",
    "plt.xlabel('width (cm)')\n",
    "plt.ylabel('height (cm)')\n",
    "plt.title(\"Fruits\");\n",
    "\n",
    "plt.subplot(1, 2, 2)\n",
    "plt.scatter(fruit_df.loc[fruit_df['fruit_name']== 'apple']['width_meters'], fruit_df.loc[fruit_df['fruit_name']== 'apple']['height'] , color='red', s=30)\n",
    "plt.scatter(fruit_df.loc[fruit_df['fruit_name']== 'lemon']['width_meters'], fruit_df.loc[fruit_df['fruit_name']== 'lemon']['height'] , color='limegreen', s=30)\n",
    "plt.scatter(fruit_df.loc[fruit_df['fruit_name']== 'orange']['width_meters'], fruit_df.loc[fruit_df['fruit_name']== 'orange']['height'] , color='orange', s=30)\n",
    "plt.scatter(fruit_df.loc[fruit_df['fruit_name']== 'mandarin']['width_meters'], fruit_df.loc[fruit_df['fruit_name']== 'mandarin']['height'] , color='blue', s=30)\n",
    "\n",
    "r_patch = mpatches.Patch(color='red', label='Apple')\n",
    "y_patch = mpatches.Patch(color='limegreen', label='Lemon')\n",
    "o_patch = mpatches.Patch(color='orange', label='Orange')\n",
    "m_patch = mpatches.Patch(color='blue', label='Mandarin')\n",
    "plt.legend(handles=[r_patch, y_patch,o_patch, m_patch])\n",
    "plt.xticks(np.arange(0,11))\n",
    "plt.xlabel('width (m)')\n",
    "plt.ylabel('height (cm)')\n",
    "plt.title(\"Fruits\");"
   ]
  },
  {
   "cell_type": "markdown",
   "id": "476b7ca9",
   "metadata": {},
   "source": [
    "To see this, suppose we classify a new fruit with width = 5cm and height = 7cm on the left graph and that same fruit on the right graph, width = 5/100 m, height = 7cm. Doing so, we find that the left graph records lemon as the 5 nearest neighbors! But with width recorded in meters, apple is the majority with $k = 5$ neighbors, and there are no lemons in sight!"
   ]
  },
  {
   "cell_type": "code",
   "execution_count": 7,
   "id": "9f93239e",
   "metadata": {},
   "outputs": [
    {
     "data": {
      "text/html": [
       "<div>\n",
       "<style scoped>\n",
       "    .dataframe tbody tr th:only-of-type {\n",
       "        vertical-align: middle;\n",
       "    }\n",
       "\n",
       "    .dataframe tbody tr th {\n",
       "        vertical-align: top;\n",
       "    }\n",
       "\n",
       "    .dataframe thead th {\n",
       "        text-align: right;\n",
       "    }\n",
       "</style>\n",
       "<table border=\"1\" class=\"dataframe\">\n",
       "  <thead>\n",
       "    <tr style=\"text-align: right;\">\n",
       "      <th></th>\n",
       "      <th>width</th>\n",
       "      <th>height</th>\n",
       "      <th>Distance_to_point</th>\n",
       "      <th>fruit_name</th>\n",
       "    </tr>\n",
       "  </thead>\n",
       "  <tbody>\n",
       "    <tr>\n",
       "      <th>51</th>\n",
       "      <td>6.0</td>\n",
       "      <td>7.5</td>\n",
       "      <td>1.118034</td>\n",
       "      <td>lemon</td>\n",
       "    </tr>\n",
       "    <tr>\n",
       "      <th>52</th>\n",
       "      <td>5.9</td>\n",
       "      <td>8.0</td>\n",
       "      <td>1.345362</td>\n",
       "      <td>lemon</td>\n",
       "    </tr>\n",
       "    <tr>\n",
       "      <th>56</th>\n",
       "      <td>5.9</td>\n",
       "      <td>8.1</td>\n",
       "      <td>1.421267</td>\n",
       "      <td>lemon</td>\n",
       "    </tr>\n",
       "    <tr>\n",
       "      <th>55</th>\n",
       "      <td>6.3</td>\n",
       "      <td>7.7</td>\n",
       "      <td>1.476482</td>\n",
       "      <td>lemon</td>\n",
       "    </tr>\n",
       "    <tr>\n",
       "      <th>58</th>\n",
       "      <td>6.1</td>\n",
       "      <td>8.1</td>\n",
       "      <td>1.555635</td>\n",
       "      <td>lemon</td>\n",
       "    </tr>\n",
       "  </tbody>\n",
       "</table>\n",
       "</div>"
      ],
      "text/plain": [
       "    width  height  Distance_to_point fruit_name\n",
       "51    6.0     7.5           1.118034      lemon\n",
       "52    5.9     8.0           1.345362      lemon\n",
       "56    5.9     8.1           1.421267      lemon\n",
       "55    6.3     7.7           1.476482      lemon\n",
       "58    6.1     8.1           1.555635      lemon"
      ]
     },
     "execution_count": 7,
     "metadata": {},
     "output_type": "execute_result"
    }
   ],
   "source": [
    "closest_k(fruit_df[['width', 'height']], point= np.array([5,7]), k=5).join(fruit_df['fruit_name'])"
   ]
  },
  {
   "cell_type": "code",
   "execution_count": 8,
   "id": "4272db79",
   "metadata": {},
   "outputs": [
    {
     "data": {
      "text/html": [
       "<div>\n",
       "<style scoped>\n",
       "    .dataframe tbody tr th:only-of-type {\n",
       "        vertical-align: middle;\n",
       "    }\n",
       "\n",
       "    .dataframe tbody tr th {\n",
       "        vertical-align: top;\n",
       "    }\n",
       "\n",
       "    .dataframe thead th {\n",
       "        text-align: right;\n",
       "    }\n",
       "</style>\n",
       "<table border=\"1\" class=\"dataframe\">\n",
       "  <thead>\n",
       "    <tr style=\"text-align: right;\">\n",
       "      <th></th>\n",
       "      <th>width_meters</th>\n",
       "      <th>height</th>\n",
       "      <th>Distance_to_point</th>\n",
       "      <th>fruit_name</th>\n",
       "    </tr>\n",
       "  </thead>\n",
       "  <tbody>\n",
       "    <tr>\n",
       "      <th>32</th>\n",
       "      <td>0.072</td>\n",
       "      <td>7.0</td>\n",
       "      <td>0.022000</td>\n",
       "      <td>orange</td>\n",
       "    </tr>\n",
       "    <tr>\n",
       "      <th>9</th>\n",
       "      <td>0.074</td>\n",
       "      <td>7.0</td>\n",
       "      <td>0.024000</td>\n",
       "      <td>apple</td>\n",
       "    </tr>\n",
       "    <tr>\n",
       "      <th>28</th>\n",
       "      <td>0.067</td>\n",
       "      <td>7.1</td>\n",
       "      <td>0.101435</td>\n",
       "      <td>orange</td>\n",
       "    </tr>\n",
       "    <tr>\n",
       "      <th>12</th>\n",
       "      <td>0.070</td>\n",
       "      <td>7.1</td>\n",
       "      <td>0.101980</td>\n",
       "      <td>apple</td>\n",
       "    </tr>\n",
       "    <tr>\n",
       "      <th>22</th>\n",
       "      <td>0.073</td>\n",
       "      <td>7.1</td>\n",
       "      <td>0.102611</td>\n",
       "      <td>apple</td>\n",
       "    </tr>\n",
       "  </tbody>\n",
       "</table>\n",
       "</div>"
      ],
      "text/plain": [
       "    width_meters  height  Distance_to_point fruit_name\n",
       "32         0.072     7.0           0.022000     orange\n",
       "9          0.074     7.0           0.024000      apple\n",
       "28         0.067     7.1           0.101435     orange\n",
       "12         0.070     7.1           0.101980      apple\n",
       "22         0.073     7.1           0.102611      apple"
      ]
     },
     "execution_count": 8,
     "metadata": {},
     "output_type": "execute_result"
    }
   ],
   "source": [
    "closest_k(fruit_df[['width_meters', 'height']], point= np.array([5/100,7]), k=5).join(fruit_df['fruit_name'])"
   ]
  },
  {
   "cell_type": "markdown",
   "id": "bc98a90b",
   "metadata": {},
   "source": [
    "Therefore it is important the features are in the same units. They also need to be in the same scale. So here we normalize our features of interest to be between 0 and 1 before we classify any new values."
   ]
  },
  {
   "cell_type": "code",
   "execution_count": 9,
   "id": "95426f14",
   "metadata": {},
   "outputs": [],
   "source": [
    "def minmax_scaling(x):\n",
    "    \"Convert any array of numbers\"\n",
    "    return (x - np.min(x))/(np.max(x)-np.min(x)) "
   ]
  },
  {
   "cell_type": "code",
   "execution_count": 10,
   "id": "b55367f5",
   "metadata": {},
   "outputs": [],
   "source": [
    "fruit_df['Normalized_width'] = minmax_scaling(fruit_df['width'])\n",
    "fruit_df['Normalized_height'] = minmax_scaling(fruit_df['height'])"
   ]
  },
  {
   "cell_type": "code",
   "execution_count": 11,
   "id": "4c1b9163",
   "metadata": {},
   "outputs": [
    {
     "data": {
      "text/html": [
       "<div>\n",
       "<style scoped>\n",
       "    .dataframe tbody tr th:only-of-type {\n",
       "        vertical-align: middle;\n",
       "    }\n",
       "\n",
       "    .dataframe tbody tr th {\n",
       "        vertical-align: top;\n",
       "    }\n",
       "\n",
       "    .dataframe thead th {\n",
       "        text-align: right;\n",
       "    }\n",
       "</style>\n",
       "<table border=\"1\" class=\"dataframe\">\n",
       "  <thead>\n",
       "    <tr style=\"text-align: right;\">\n",
       "      <th></th>\n",
       "      <th>fruit_label</th>\n",
       "      <th>fruit_name</th>\n",
       "      <th>fruit_subtype</th>\n",
       "      <th>mass</th>\n",
       "      <th>width</th>\n",
       "      <th>height</th>\n",
       "      <th>color_score</th>\n",
       "      <th>width_meters</th>\n",
       "      <th>Normalized_width</th>\n",
       "      <th>Normalized_height</th>\n",
       "    </tr>\n",
       "  </thead>\n",
       "  <tbody>\n",
       "    <tr>\n",
       "      <th>0</th>\n",
       "      <td>1</td>\n",
       "      <td>apple</td>\n",
       "      <td>granny_smith</td>\n",
       "      <td>192</td>\n",
       "      <td>8.4</td>\n",
       "      <td>7.3</td>\n",
       "      <td>0.55</td>\n",
       "      <td>0.084</td>\n",
       "      <td>0.684211</td>\n",
       "      <td>0.507692</td>\n",
       "    </tr>\n",
       "    <tr>\n",
       "      <th>1</th>\n",
       "      <td>1</td>\n",
       "      <td>apple</td>\n",
       "      <td>granny_smith</td>\n",
       "      <td>180</td>\n",
       "      <td>8.0</td>\n",
       "      <td>6.8</td>\n",
       "      <td>0.59</td>\n",
       "      <td>0.080</td>\n",
       "      <td>0.578947</td>\n",
       "      <td>0.430769</td>\n",
       "    </tr>\n",
       "    <tr>\n",
       "      <th>2</th>\n",
       "      <td>1</td>\n",
       "      <td>apple</td>\n",
       "      <td>granny_smith</td>\n",
       "      <td>176</td>\n",
       "      <td>7.4</td>\n",
       "      <td>7.2</td>\n",
       "      <td>0.60</td>\n",
       "      <td>0.074</td>\n",
       "      <td>0.421053</td>\n",
       "      <td>0.492308</td>\n",
       "    </tr>\n",
       "    <tr>\n",
       "      <th>3</th>\n",
       "      <td>2</td>\n",
       "      <td>mandarin</td>\n",
       "      <td>mandarin</td>\n",
       "      <td>86</td>\n",
       "      <td>6.2</td>\n",
       "      <td>4.7</td>\n",
       "      <td>0.80</td>\n",
       "      <td>0.062</td>\n",
       "      <td>0.105263</td>\n",
       "      <td>0.107692</td>\n",
       "    </tr>\n",
       "  </tbody>\n",
       "</table>\n",
       "</div>"
      ],
      "text/plain": [
       "   fruit_label fruit_name fruit_subtype  mass  width  height  color_score   \n",
       "0            1      apple  granny_smith   192    8.4     7.3         0.55  \\\n",
       "1            1      apple  granny_smith   180    8.0     6.8         0.59   \n",
       "2            1      apple  granny_smith   176    7.4     7.2         0.60   \n",
       "3            2   mandarin      mandarin    86    6.2     4.7         0.80   \n",
       "\n",
       "   width_meters  Normalized_width  Normalized_height  \n",
       "0         0.084          0.684211           0.507692  \n",
       "1         0.080          0.578947           0.430769  \n",
       "2         0.074          0.421053           0.492308  \n",
       "3         0.062          0.105263           0.107692  "
      ]
     },
     "execution_count": 11,
     "metadata": {},
     "output_type": "execute_result"
    }
   ],
   "source": [
    "fruit_df.head(4)"
   ]
  },
  {
   "cell_type": "markdown",
   "id": "e0c91ce9",
   "metadata": {},
   "source": [
    "After normalization, we see the features of interest plotted below on the scale of 0 to 1."
   ]
  },
  {
   "cell_type": "code",
   "execution_count": 12,
   "id": "62199e0c",
   "metadata": {
    "tags": [
     "hide-input"
    ]
   },
   "outputs": [
    {
     "data": {
      "image/png": "[encoded data removed]",
      "text/plain": [
       "<Figure size 432x288 with 1 Axes>"
      ]
     },
     "metadata": {},
     "output_type": "display_data"
    }
   ],
   "source": [
    "plt.scatter(fruit_df.loc[fruit_df['fruit_name']== 'apple']['Normalized_width'], fruit_df.loc[fruit_df['fruit_name']== 'apple']['Normalized_height'] , color='red', s=30)\n",
    "plt.scatter(fruit_df.loc[fruit_df['fruit_name']== 'lemon']['Normalized_width'], fruit_df.loc[fruit_df['fruit_name']== 'lemon']['Normalized_height'] , color='limegreen', s=30)\n",
    "plt.scatter(fruit_df.loc[fruit_df['fruit_name']== 'orange']['Normalized_width'], fruit_df.loc[fruit_df['fruit_name']== 'orange']['Normalized_height'] , color='orange', s=30)\n",
    "plt.scatter(fruit_df.loc[fruit_df['fruit_name']== 'mandarin']['Normalized_width'], fruit_df.loc[fruit_df['fruit_name']== 'mandarin']['Normalized_height'] , color='blue', s=30)\n",
    "r_patch = mpatches.Patch(color='red', label='Apple')\n",
    "y_patch = mpatches.Patch(color='limegreen', label='Lemon')\n",
    "o_patch = mpatches.Patch(color='orange', label='Orange')\n",
    "m_patch = mpatches.Patch(color='blue', label='Mandarin')\n",
    "plt.legend(handles=[r_patch, y_patch,o_patch, m_patch])\n",
    "plt.xlabel('width')\n",
    "plt.ylabel('height')\n",
    "plt.title(\"Fruits\");"
   ]
  },
  {
   "cell_type": "markdown",
   "id": "9c2f9cf2",
   "metadata": {},
   "source": [
    "At this point we have standardized the data, now we want to split this into training and testing data to determine a good model. Below we do this by randomly shuffling the data and taking a 80:20 split."
   ]
  },
  {
   "cell_type": "code",
   "execution_count": 13,
   "id": "2ba9fb0e",
   "metadata": {},
   "outputs": [],
   "source": [
    "shuffled_fruit=fruit_df.sample(frac=1, random_state=1)"
   ]
  },
  {
   "cell_type": "code",
   "execution_count": 14,
   "id": "4d0aa7c7",
   "metadata": {},
   "outputs": [],
   "source": [
    "Train = shuffled_fruit.iloc[0:math.floor(len(shuffled_fruit)*0.8)]\n",
    "Test = shuffled_fruit.iloc[math.floor(len(shuffled_fruit)*0.8):len(shuffled_fruit)]"
   ]
  },
  {
   "cell_type": "code",
   "execution_count": 15,
   "id": "be005af9",
   "metadata": {},
   "outputs": [],
   "source": [
    "X_train = Train[['Normalized_width', 'Normalized_height']]\n",
    "Y_train = Train[['fruit_label']].rename(columns={\"fruit_label\": \"Class\"})\n",
    "X_test = Test[['Normalized_width', 'Normalized_height']]\n",
    "Y_test = Test[['fruit_label']].rename(columns={\"fruit_label\": \"Class\"})"
   ]
  },
  {
   "cell_type": "markdown",
   "id": "d2491de4",
   "metadata": {},
   "source": [
    "Since our fruit can take on one of five categories, we change our majority function to return the majority class from a collection of finite classes."
   ]
  },
  {
   "cell_type": "code",
   "execution_count": 16,
   "id": "daefd13d",
   "metadata": {},
   "outputs": [],
   "source": [
    "def majority_multiclass(topkclasses):\n",
    "    \"\"\"returns the class with the majority \n",
    "    over the \"Class\" column\"\"\"\n",
    "    \n",
    "    return topkclasses['Class'].value_counts().idxmax()"
   ]
  },
  {
   "cell_type": "markdown",
   "id": "8657f05d",
   "metadata": {},
   "source": [
    "We also modify our `closest_k` function in the previous section to take in our training data. The goal of this function is to call function `row_wise_distance` to compute the distance from every point in our training data to the new data and sort the resulting DataFrame to output the top $k$ neighbors closest to the new point of interest. "
   ]
  },
  {
   "cell_type": "code",
   "execution_count": 17,
   "id": "03700333",
   "metadata": {},
   "outputs": [],
   "source": [
    "def closest(X_train, Y_train, point, k):\n",
    "    \"\"\"Outputs a df containing the k closest rows in the training data to array 'point' \"\"\"\n",
    "    X_train = X_train.assign(Distance_to_point = X_train.apply(row_wise_distance, args=(point,), axis=1))\n",
    "    X_train = X_train.sort_values('Distance_to_point') \n",
    "    X_train['Class'] = Y_train\n",
    "    topk = X_train.head(k)\n",
    "    return topk"
   ]
  },
  {
   "cell_type": "markdown",
   "id": "88ca5b34",
   "metadata": {},
   "source": [
    "Our goal is to classify not just one new data point, but a collection of new data. We want to iterate through all of the new data points in `X_test`, calculate $k$ nearest neighbors and find the majority classification label to assign as a predicted label for the `X_test` data. The function `classify` defined below does exactly that and stores the predicted label as a new column in the given test DataFrame."
   ]
  },
  {
   "cell_type": "code",
   "execution_count": 18,
   "id": "453f0ca9",
   "metadata": {},
   "outputs": [],
   "source": [
    "def classify(X_train,Y_train, X_test, k):\n",
    "    \"\"\"Classify data in X_test using k-nearest neighbor classification with the given training table.\n",
    "    Output is a DataFrame with X_test appended by a column of Class prediction\"\"\"\n",
    "    n=X_test.shape[0] \n",
    "    \n",
    "    pred_class = np.array([])\n",
    "    for i in np.arange(n):\n",
    "        topkclasses = closest(X_train,Y_train, X_test.iloc[i], k)\n",
    "        pred_class = np.append(pred_class,majority_multiclass(topkclasses))\n",
    "    \n",
    "    report_df=X_test.copy()\n",
    "    report_df['Predicted_Class']=pred_class\n",
    "    \n",
    "    return report_df"
   ]
  },
  {
   "cell_type": "markdown",
   "id": "fe76b8e1",
   "metadata": {},
   "source": [
    "Before we use this function on our unseen test data, we need to choose a value of $k$ for this model by cross validation."
   ]
  },
  {
   "cell_type": "markdown",
   "id": "bc3a194a",
   "metadata": {},
   "source": [
    "## Cross Validation"
   ]
  },
  {
   "cell_type": "markdown",
   "id": "814c44f2",
   "metadata": {},
   "source": [
    "We use the training data and k-fold cross validation (as discussed in [Section 21.3: Features to Consider](../../21/3/Features_to_Consider.ipynb)) to tune the value of the number of neighbors, $k$, that is optimal in our situation. Here we split our training data into 4 (mostly) equal parts, of size 11 or 12, iterating through which portion serves as the validation set, and taking the average accuracy for a given value of $k$. By accuracy, we mean the total number of correctly classified labels divided by the total total number of classified points.\n",
    "\n",
    "Since the training data is already randomized, we group the data directly from `X_train` and `Y_train`.\n",
    "\n",
    "The `cross_valid` function cycles through values of $k$ from $k=1$ to $k=9$ and takes the average over 4 training and validation sets to compute one *averaged* accuracy for each $k$. We use this function to help us choose a value for $k$ to use on the test data."
   ]
  },
  {
   "cell_type": "code",
   "execution_count": 19,
   "id": "1178caf2",
   "metadata": {},
   "outputs": [],
   "source": [
    "def cross_valid(X_train, Y_train):\n",
    "    '''Divides the train data into 4 parts and uses the third to validate the output\n",
    "    and compute average accuracies for k in the range 1 to 9'''\n",
    "    X = [X_train[0:12], X_train[12:12+12], X_train[24:24+12], X_train[36:36+11]] \n",
    "    Y = [Y_train[0:12], Y_train[12:12+12], Y_train[24:24+12], Y_train[36:36+11]]\n",
    "    \n",
    "    \n",
    "    average_accuracies = []\n",
    "    for my_k in np.array([1,2,3,4,5,6,7,8,9]):\n",
    "        accuracies = []\n",
    "        for i in np.arange(0,4):         \n",
    "            excluded = np.arange(0,4)[~np.isin(np.arange(np.arange(0,4).size), i)]\n",
    "            current_x_train =  pd.concat([X[excluded[0]], X[excluded[1]], X[excluded[2]]])\n",
    "            current_y_train =  pd.concat([Y[excluded[0]], Y[excluded[1]], Y[excluded[2]]])\n",
    "            \n",
    "            output = classify(current_x_train, current_y_train, X[i], k = my_k)\n",
    "            accuracies.append(sum(Y[i].Class == output.Predicted_Class)/len(Y[i]))\n",
    "        average_accuracies.append(np.mean(accuracies))\n",
    "        \n",
    "    return average_accuracies           "
   ]
  },
  {
   "cell_type": "code",
   "execution_count": 20,
   "id": "0738529e",
   "metadata": {},
   "outputs": [],
   "source": [
    "cross_val_array = cross_valid(X_train, Y_train)"
   ]
  },
  {
   "cell_type": "markdown",
   "id": "2e8e1caa",
   "metadata": {},
   "source": [
    "To see all of the accuracies from the `cross_valid` function, we display the value of $k$ and the corresponding accuracy below."
   ]
  },
  {
   "cell_type": "code",
   "execution_count": 21,
   "id": "711ba5ad",
   "metadata": {},
   "outputs": [
    {
     "name": "stdout",
     "output_type": "stream",
     "text": [
      "k = 1: Accuracy: 0.787878787878788\n",
      "k = 2: Accuracy: 0.787878787878788\n",
      "k = 3: Accuracy: 0.8522727272727273\n",
      "k = 4: Accuracy: 0.8522727272727273\n",
      "k = 5: Accuracy: 0.8314393939393939\n",
      "k = 6: Accuracy: 0.8295454545454546\n",
      "k = 7: Accuracy: 0.8087121212121212\n",
      "k = 8: Accuracy: 0.8484848484848484\n",
      "k = 9: Accuracy: 0.8068181818181819\n"
     ]
    }
   ],
   "source": [
    "for i in np.arange(0,len(cross_val_array)):\n",
    "    print(\"k = \" + str(i+1)+ ': Accuracy: '+ str(cross_val_array[i]))"
   ]
  },
  {
   "cell_type": "markdown",
   "id": "7bdfa6d5",
   "metadata": {},
   "source": [
    "The best accuracy achieved was about $85.2 \\%$. But, notice we have a tie in accuracy. In this case, we choose the smallest value of $k$ that achieves the best accuracy, $k = 3$. A smaller $k$ will be quicker to compute and yields the same accuracy on our validation set."
   ]
  },
  {
   "cell_type": "markdown",
   "id": "12ab9525",
   "metadata": {},
   "source": [
    "Now that we have a value of $k$, we run the classifier on our test data using $k=3$!"
   ]
  },
  {
   "cell_type": "code",
   "execution_count": 22,
   "id": "aa632d2a",
   "metadata": {},
   "outputs": [
    {
     "data": {
      "text/html": [
       "<div>\n",
       "<style scoped>\n",
       "    .dataframe tbody tr th:only-of-type {\n",
       "        vertical-align: middle;\n",
       "    }\n",
       "\n",
       "    .dataframe tbody tr th {\n",
       "        vertical-align: top;\n",
       "    }\n",
       "\n",
       "    .dataframe thead th {\n",
       "        text-align: right;\n",
       "    }\n",
       "</style>\n",
       "<table border=\"1\" class=\"dataframe\">\n",
       "  <thead>\n",
       "    <tr style=\"text-align: right;\">\n",
       "      <th></th>\n",
       "      <th>Normalized_width</th>\n",
       "      <th>Normalized_height</th>\n",
       "      <th>Predicted_Class</th>\n",
       "    </tr>\n",
       "  </thead>\n",
       "  <tbody>\n",
       "    <tr>\n",
       "      <th>56</th>\n",
       "      <td>0.026316</td>\n",
       "      <td>0.630769</td>\n",
       "      <td>4.0</td>\n",
       "    </tr>\n",
       "    <tr>\n",
       "      <th>1</th>\n",
       "      <td>0.578947</td>\n",
       "      <td>0.430769</td>\n",
       "      <td>1.0</td>\n",
       "    </tr>\n",
       "    <tr>\n",
       "      <th>16</th>\n",
       "      <td>0.473684</td>\n",
       "      <td>0.538462</td>\n",
       "      <td>1.0</td>\n",
       "    </tr>\n",
       "    <tr>\n",
       "      <th>0</th>\n",
       "      <td>0.684211</td>\n",
       "      <td>0.507692</td>\n",
       "      <td>3.0</td>\n",
       "    </tr>\n",
       "    <tr>\n",
       "      <th>15</th>\n",
       "      <td>0.500000</td>\n",
       "      <td>0.476923</td>\n",
       "      <td>1.0</td>\n",
       "    </tr>\n",
       "  </tbody>\n",
       "</table>\n",
       "</div>"
      ],
      "text/plain": [
       "    Normalized_width  Normalized_height  Predicted_Class\n",
       "56          0.026316           0.630769              4.0\n",
       "1           0.578947           0.430769              1.0\n",
       "16          0.473684           0.538462              1.0\n",
       "0           0.684211           0.507692              3.0\n",
       "15          0.500000           0.476923              1.0"
      ]
     },
     "execution_count": 22,
     "metadata": {},
     "output_type": "execute_result"
    }
   ],
   "source": [
    "output = classify(X_train,Y_train, X_test, k = 3)\n",
    "output.head()"
   ]
  },
  {
   "cell_type": "markdown",
   "id": "ba3e5e9c",
   "metadata": {},
   "source": [
    "We get a predicted class, which we can compare with the actual test labels and compute a percentage correct as a measure of accurary."
   ]
  },
  {
   "cell_type": "code",
   "execution_count": 23,
   "id": "8ffe9170",
   "metadata": {},
   "outputs": [
    {
     "data": {
      "text/plain": [
       "56     True\n",
       "1      True\n",
       "16     True\n",
       "0     False\n",
       "15     True\n",
       "5      True\n",
       "11    False\n",
       "9      True\n",
       "8     False\n",
       "12    False\n",
       "43     True\n",
       "37    False\n",
       "dtype: bool"
      ]
     },
     "execution_count": 23,
     "metadata": {},
     "output_type": "execute_result"
    }
   ],
   "source": [
    "# check if the classification matches the \"true\" label\n",
    "Y_test.Class == output.Predicted_Class"
   ]
  },
  {
   "cell_type": "code",
   "execution_count": 24,
   "id": "5f369d9f",
   "metadata": {},
   "outputs": [
    {
     "data": {
      "text/plain": [
       "0.5833333333333334"
      ]
     },
     "execution_count": 24,
     "metadata": {},
     "output_type": "execute_result"
    }
   ],
   "source": [
    "sum(Y_test.Class == output.Predicted_Class)/len(Y_test)"
   ]
  },
  {
   "cell_type": "markdown",
   "id": "f6ea445b",
   "metadata": {},
   "source": [
    "Based on these results we have an accuracy of about $58\\% $."
   ]
  },
  {
   "cell_type": "markdown",
   "id": "8297b4e0",
   "metadata": {},
   "source": [
    "This seems kind of low, but recall we have a small sample of data and only 2 features. Let's try to improve this by including another fruit feature."
   ]
  },
  {
   "cell_type": "markdown",
   "id": "8ee44bf3",
   "metadata": {},
   "source": [
    "## Higher Dimensions"
   ]
  },
  {
   "cell_type": "markdown",
   "id": "af0565d3",
   "metadata": {},
   "source": [
    "We consider the `color_score` feature of the given fruit. To include this in our model, we first standardize that column of data. We can then visualize in a three dimensional setting. Note, we can include as many features, or dimensions, as we want that help us classify...we just might not be able to visualize anything higher than three dimensions."
   ]
  },
  {
   "cell_type": "code",
   "execution_count": 25,
   "id": "bec35e28",
   "metadata": {},
   "outputs": [],
   "source": [
    "fruit_df['Normalized_color'] = minmax_scaling(fruit_df['color_score'])"
   ]
  },
  {
   "cell_type": "code",
   "execution_count": 26,
   "id": "0b2ebbcd",
   "metadata": {
    "tags": [
     "hide-input"
    ]
   },
   "outputs": [
    {
     "data": {
      "image/png": "[encoded data removed]",
      "text/plain": [
       "<Figure size 864x576 with 1 Axes>"
      ]
     },
     "metadata": {},
     "output_type": "display_data"
    }
   ],
   "source": [
    "fig = plt.figure(figsize = (12,8))\n",
    "ax = plt.axes(projection='3d')\n",
    "\n",
    "\n",
    "ax.scatter3D(fruit_df.loc[fruit_df['fruit_name']== 'apple']['Normalized_width'], fruit_df.loc[fruit_df['fruit_name']== 'apple']['Normalized_height'], fruit_df.loc[fruit_df['fruit_name']== 'apple']['Normalized_color'] , color='red', s=30)\n",
    "ax.scatter3D(fruit_df.loc[fruit_df['fruit_name']== 'lemon']['Normalized_width'], fruit_df.loc[fruit_df['fruit_name']== 'lemon']['Normalized_height'], fruit_df.loc[fruit_df['fruit_name']== 'lemon']['Normalized_color'] , color='limegreen', s=30)\n",
    "ax.scatter3D(fruit_df.loc[fruit_df['fruit_name']== 'orange']['Normalized_width'], fruit_df.loc[fruit_df['fruit_name']== 'orange']['Normalized_height'], fruit_df.loc[fruit_df['fruit_name']== 'orange']['Normalized_color'] , color='orange', s=30)\n",
    "ax.scatter3D(fruit_df.loc[fruit_df['fruit_name']== 'mandarin']['Normalized_width'], fruit_df.loc[fruit_df['fruit_name']== 'mandarin']['Normalized_height'], fruit_df.loc[fruit_df['fruit_name']== 'mandarin']['Normalized_color'] , color='blue', s=30);\n",
    "r_patch = mpatches.Patch(color='red', label='Apple')\n",
    "y_patch = mpatches.Patch(color='limegreen', label='Lemon')\n",
    "o_patch = mpatches.Patch(color='orange', label='Orange')\n",
    "m_patch = mpatches.Patch(color='blue', label='Mandarin')\n",
    "ax.legend(handles=[r_patch, y_patch,o_patch, m_patch])\n",
    "ax.set_xlabel('width')\n",
    "ax.set_ylabel('height')\n",
    "ax.set_zlabel('colorscore');"
   ]
  },
  {
   "cell_type": "markdown",
   "id": "ed7bb16a",
   "metadata": {},
   "source": [
    "With one new feature added to our data, we shuffle and divide into training and test data. We can directly use the `cross_valid` function defined above to cross validate and determine a value for $k$ in this new setting."
   ]
  },
  {
   "cell_type": "code",
   "execution_count": 27,
   "id": "f1ec25d2",
   "metadata": {},
   "outputs": [],
   "source": [
    "shuffled_fruit=fruit_df.sample(frac=1, random_state=1)\n",
    "Train = shuffled_fruit.iloc[0:math.floor(len(shuffled_fruit)*0.8)]\n",
    "Test = shuffled_fruit.iloc[math.floor(len(shuffled_fruit)*0.8):len(shuffled_fruit)]\n",
    "\n",
    "\n",
    "X_train = Train[['Normalized_width', 'Normalized_height', 'Normalized_color']]\n",
    "Y_train = Train[['fruit_label']].rename(columns={\"fruit_label\": \"Class\"})\n",
    "X_test = Test[['Normalized_width', 'Normalized_height', 'Normalized_color']]\n",
    "Y_test = Test[['fruit_label']].rename(columns={\"fruit_label\": \"Class\"})"
   ]
  },
  {
   "cell_type": "code",
   "execution_count": 28,
   "id": "23593291",
   "metadata": {},
   "outputs": [
    {
     "name": "stdout",
     "output_type": "stream",
     "text": [
      "k = 1: Accuracy: 0.9166666666666666\n",
      "k = 2: Accuracy: 0.9166666666666666\n",
      "k = 3: Accuracy: 0.8731060606060606\n",
      "k = 4: Accuracy: 0.8958333333333333\n",
      "k = 5: Accuracy: 0.9166666666666666\n",
      "k = 6: Accuracy: 0.9166666666666666\n",
      "k = 7: Accuracy: 0.8503787878787878\n",
      "k = 8: Accuracy: 0.8503787878787878\n",
      "k = 9: Accuracy: 0.7632575757575757\n"
     ]
    }
   ],
   "source": [
    "cross_val_array = cross_valid(X_train, Y_train)\n",
    "\n",
    "for i in np.arange(0,len(cross_val_array)):\n",
    "    print(\"k = \" + str(i+1)+ ': Accuracy: '+ str(cross_val_array[i]))"
   ]
  },
  {
   "cell_type": "markdown",
   "id": "6a331a23",
   "metadata": {},
   "source": [
    "Extra feature information has improved validation accuracy and here we choose $k=1$ to determine the accuracy on our test data. Classifying our test data below, we see that our small test set of size 12 classifies every data point correctly! "
   ]
  },
  {
   "cell_type": "code",
   "execution_count": 29,
   "id": "52574551",
   "metadata": {},
   "outputs": [],
   "source": [
    "output = classify(X_train,Y_train, X_test, k = 1)"
   ]
  },
  {
   "cell_type": "code",
   "execution_count": 30,
   "id": "e897ec40",
   "metadata": {},
   "outputs": [
    {
     "data": {
      "text/plain": [
       "56    True\n",
       "1     True\n",
       "16    True\n",
       "0     True\n",
       "15    True\n",
       "5     True\n",
       "11    True\n",
       "9     True\n",
       "8     True\n",
       "12    True\n",
       "43    True\n",
       "37    True\n",
       "dtype: bool"
      ]
     },
     "execution_count": 30,
     "metadata": {},
     "output_type": "execute_result"
    }
   ],
   "source": [
    "# check if the classification matches the \"true\" label\n",
    "Y_test.Class == output.Predicted_Class"
   ]
  },
  {
   "cell_type": "code",
   "execution_count": 31,
   "id": "41195267",
   "metadata": {},
   "outputs": [
    {
     "data": {
      "text/plain": [
       "1.0"
      ]
     },
     "execution_count": 31,
     "metadata": {},
     "output_type": "execute_result"
    }
   ],
   "source": [
    "sum(Y_test.Class == output.Predicted_Class)/len(Y_test)"
   ]
  },
  {
   "cell_type": "markdown",
   "id": "df31d721",
   "metadata": {},
   "source": [
    "In general, we find that kNN is an intuitive way to classify new data, as we just need a measure of distance and a number of neighbors to implement this method. We saw that we can include multiple features and classify into a finite number of classes. We were also able to test the accuracy of this method by using cross validation to choose a value for $k$ and count how many times our classification algorithm correctly identified the label."
   ]
  }
 ],
 "metadata": {
  "kernelspec": {
   "display_name": "Python 3 (ipykernel)",
   "language": "python",
   "name": "python3"
  },
  "language_info": {
   "codemirror_mode": {
    "name": "ipython",
    "version": 3
   },
   "file_extension": ".py",
   "mimetype": "text/x-python",
   "name": "python",
   "nbconvert_exporter": "python",
   "pygments_lexer": "ipython3",
   "version": "3.9.12"
  }
 },
 "nbformat": 4,
 "nbformat_minor": 5
}

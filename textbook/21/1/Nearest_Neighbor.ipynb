{
 "cells": [
  {
   "cell_type": "code",
   "execution_count": 1,
   "id": "4a8acd9c",
   "metadata": {
    "tags": [
     "remove-cell"
    ]
   },
   "outputs": [],
   "source": [
    "import numpy as np\n",
    "import pandas as pd\n",
    "%matplotlib inline\n",
    "\n",
    "\n",
    "import matplotlib.pyplot as plt\n",
    "plt.style.use('fivethirtyeight')\n",
    "import matplotlib.patches as mpatches"
   ]
  },
  {
   "cell_type": "markdown",
   "id": "b58f71d9",
   "metadata": {
    "hideCode": false,
    "hidePrompt": false
   },
   "source": [
    "# Nearest Neighbor"
   ]
  },
  {
   "cell_type": "markdown",
   "id": "2e2701ed",
   "metadata": {
    "hideCode": false,
    "hidePrompt": false
   },
   "source": [
    "Given a collection of $n$ labeled data points $\\mathcal{D} = \\{(x,y)_i\\}_{i=1}^n$, where each data point is a collection of features, and a distance metric, $d(p,q)$, defined on points $p$ and $q$, we can classify a new data point $z$ by considering the label of its closest neighbor. The new data point then adopts the same label as its nearest neighbor.\n",
    "\n",
    "To see an example of this, suppose we have information on 20 cats and 20 dogs. Someone measured their ear pointiness and their claw sharpness on a scale of 0-10. Here, scores close to 0 indicate ears on the floppy side or unsharp claws, while scores close to 10 indicate pointy ears or sharp claws.\n",
    "\n",
    "These measurements correspond to features, or characteristics, of these animals. The results are recorded in the DataFrame below. Note we also include a label that denotes if the corresponding characteristics were taken from a cat or a dog."
   ]
  },
  {
   "cell_type": "code",
   "execution_count": 2,
   "id": "7438f124",
   "metadata": {
    "tags": [
     "hide-input"
    ]
   },
   "outputs": [],
   "source": [
    "np.random.seed(seed=1243)\n",
    "dog_ears = np.random.normal(loc=2.5, scale=2.25, size=20)\n",
    "\n",
    "cat_ears = np.random.normal(loc=6, scale=1.5, size=20)\n",
    "\n",
    "cat_claws = np.random.normal(loc=5, scale=2, size=20)\n",
    "\n",
    "dog_claws = np.random.normal(loc=3.5, scale=1.56, size=20)\n",
    "animal_labels = np.concatenate((np.full((20, ), ['dog']),  np.full((20, ), ['cat'])))\n",
    "\n",
    "\n",
    "characteristic_df = pd.DataFrame({'claw sharpness': np.concatenate((dog_claws, cat_claws)),\n",
    "              'ear pointiness': np.concatenate((dog_ears, cat_ears)), 'Label': animal_labels})\n",
    "characteristic_df = characteristic_df.sample(frac=1).reset_index(drop=True)"
   ]
  },
  {
   "cell_type": "code",
   "execution_count": 3,
   "id": "02b0dc43",
   "metadata": {},
   "outputs": [
    {
     "data": {
      "text/html": [
       "<div>\n",
       "<style scoped>\n",
       "    .dataframe tbody tr th:only-of-type {\n",
       "        vertical-align: middle;\n",
       "    }\n",
       "\n",
       "    .dataframe tbody tr th {\n",
       "        vertical-align: top;\n",
       "    }\n",
       "\n",
       "    .dataframe thead th {\n",
       "        text-align: right;\n",
       "    }\n",
       "</style>\n",
       "<table border=\"1\" class=\"dataframe\">\n",
       "  <thead>\n",
       "    <tr style=\"text-align: right;\">\n",
       "      <th></th>\n",
       "      <th>claw sharpness</th>\n",
       "      <th>ear pointiness</th>\n",
       "      <th>Label</th>\n",
       "    </tr>\n",
       "  </thead>\n",
       "  <tbody>\n",
       "    <tr>\n",
       "      <th>0</th>\n",
       "      <td>3.825685</td>\n",
       "      <td>6.406667</td>\n",
       "      <td>cat</td>\n",
       "    </tr>\n",
       "    <tr>\n",
       "      <th>1</th>\n",
       "      <td>4.763658</td>\n",
       "      <td>1.951387</td>\n",
       "      <td>dog</td>\n",
       "    </tr>\n",
       "    <tr>\n",
       "      <th>2</th>\n",
       "      <td>6.329188</td>\n",
       "      <td>5.066956</td>\n",
       "      <td>cat</td>\n",
       "    </tr>\n",
       "    <tr>\n",
       "      <th>3</th>\n",
       "      <td>2.824689</td>\n",
       "      <td>1.649148</td>\n",
       "      <td>dog</td>\n",
       "    </tr>\n",
       "    <tr>\n",
       "      <th>4</th>\n",
       "      <td>5.949133</td>\n",
       "      <td>4.280015</td>\n",
       "      <td>cat</td>\n",
       "    </tr>\n",
       "  </tbody>\n",
       "</table>\n",
       "</div>"
      ],
      "text/plain": [
       "   claw sharpness  ear pointiness Label\n",
       "0        3.825685        6.406667   cat\n",
       "1        4.763658        1.951387   dog\n",
       "2        6.329188        5.066956   cat\n",
       "3        2.824689        1.649148   dog\n",
       "4        5.949133        4.280015   cat"
      ]
     },
     "execution_count": 3,
     "metadata": {},
     "output_type": "execute_result"
    }
   ],
   "source": [
    "characteristic_df.head()"
   ]
  },
  {
   "cell_type": "code",
   "execution_count": 4,
   "id": "53033b23",
   "metadata": {
    "tags": [
     "hide-input"
    ]
   },
   "outputs": [
    {
     "data": {
      "image/png": "[encoded data removed]",
      "text/plain": [
       "<Figure size 432x288 with 1 Axes>"
      ]
     },
     "metadata": {},
     "output_type": "display_data"
    }
   ],
   "source": [
    "cat_df = characteristic_df.loc[characteristic_df.Label =='cat']\n",
    "dog_df = characteristic_df.loc[characteristic_df.Label =='dog']\n",
    "plt.scatter(cat_df['claw sharpness'], cat_df['ear pointiness'] , color='blue', s=30)\n",
    "plt.scatter(dog_df['claw sharpness'], dog_df['ear pointiness'] , color='black', s=30);\n",
    "\n",
    "blue_patch = mpatches.Patch(color='blue', label='Cat')\n",
    "black_patch = mpatches.Patch(color='black', label='Dog')\n",
    "plt.legend(handles=[blue_patch, black_patch])\n",
    "plt.title(\"Dog vs Cat\")\n",
    "plt.ylabel('Ear Pointiness')\n",
    "plt.xlabel('Claw Sharpness');"
   ]
  },
  {
   "cell_type": "markdown",
   "id": "1472c68e",
   "metadata": {},
   "source": [
    "Above we see the black dots represent the 'dog' label or class, while blue dots represent the 'cat' label or class. We see that based on this simulated data, dogs tend to have floppier ears than cats while the claw sharpness of cats has a larger range."
   ]
  },
  {
   "cell_type": "markdown",
   "id": "a24c913d",
   "metadata": {
    "hideCode": false,
    "hidePrompt": false
   },
   "source": [
    "Now, suppose have a new data point, in red on the graph below, with a 7 on claw sharpness and 6 on ear pointiness, (7,6), that we want to classify as 'cat' or 'dog'."
   ]
  },
  {
   "cell_type": "code",
   "execution_count": 5,
   "id": "0525a8a5",
   "metadata": {
    "hideCode": false,
    "hidePrompt": false,
    "tags": [
     "hide-input"
    ]
   },
   "outputs": [
    {
     "data": {
      "image/png": "[encoded data removed]",
      "text/plain": [
       "<Figure size 432x288 with 1 Axes>"
      ]
     },
     "metadata": {},
     "output_type": "display_data"
    }
   ],
   "source": [
    "plt.scatter(cat_df['claw sharpness'], cat_df['ear pointiness'] , color='blue', s=30)\n",
    "plt.scatter(dog_df['claw sharpness'], dog_df['ear pointiness'] , color='black', s=30);\n",
    "\n",
    "plt.scatter(7,6 , color='red', s=30);\n",
    "blue_patch = mpatches.Patch(color='blue', label='Cat')\n",
    "black_patch = mpatches.Patch(color='black', label='Dog')\n",
    "plt.legend(handles=[blue_patch, black_patch])\n",
    "\n",
    "plt.title(\"Dog vs Cat\")\n",
    "plt.ylabel('Ear Pointiness')\n",
    "plt.xlabel('Claw Sharpness');"
   ]
  },
  {
   "cell_type": "markdown",
   "id": "3673a46d",
   "metadata": {
    "hideCode": false,
    "hidePrompt": false
   },
   "source": [
    "The nearest neighbor algorithm says to search for the closest point and label the new data point with that classification. We will use the standard Euclidean distance, which calculates the shortest straight line path between two points. Below we define this function and call it on the points $(0,0)$ and $(1,1)$ to confirm the calculation."
   ]
  },
  {
   "cell_type": "code",
   "execution_count": 6,
   "id": "f6460464",
   "metadata": {
    "hideCode": false,
    "hidePrompt": false
   },
   "outputs": [],
   "source": [
    "# the Euclidean distance\n",
    "def distance(pt1, pt2):   \n",
    "    \"\"\"Return the distance between two points, represented as arrays\"\"\"\n",
    "    return np.sqrt(sum((pt1 - pt2)**2))"
   ]
  },
  {
   "cell_type": "code",
   "execution_count": 7,
   "id": "969503b1",
   "metadata": {},
   "outputs": [
    {
     "data": {
      "text/plain": [
       "1.4142135623730951"
      ]
     },
     "execution_count": 7,
     "metadata": {},
     "output_type": "execute_result"
    }
   ],
   "source": [
    "distance(np.array([0,0]), np.array([1,1]))"
   ]
  },
  {
   "cell_type": "markdown",
   "id": "1bd201cb",
   "metadata": {},
   "source": [
    "To use this function on our DataFrame, we firstc extract the x and y coordinate from our DataFrame to an array. We use the `.iloc` method to extract both features of interest. Below is how we could compute the distance between the point at index 1 in the DataFrame with our new point of interest $(7,6)$.\n"
   ]
  },
  {
   "cell_type": "code",
   "execution_count": 8,
   "id": "718f2c4f",
   "metadata": {},
   "outputs": [
    {
     "data": {
      "text/plain": [
       "array([4.763657934907621, 1.951386783638458], dtype=object)"
      ]
     },
     "execution_count": 8,
     "metadata": {},
     "output_type": "execute_result"
    }
   ],
   "source": [
    "one_point =characteristic_df.iloc[1,0:2].to_numpy()\n",
    "one_point"
   ]
  },
  {
   "cell_type": "code",
   "execution_count": 9,
   "id": "41b1fd17",
   "metadata": {
    "hideCode": false,
    "hidePrompt": false
   },
   "outputs": [
    {
     "data": {
      "text/plain": [
       "4.625202136966448"
      ]
     },
     "execution_count": 9,
     "metadata": {},
     "output_type": "execute_result"
    }
   ],
   "source": [
    "distance(one_point, np.array([7,6]))"
   ]
  },
  {
   "cell_type": "markdown",
   "id": "0eccbb78",
   "metadata": {
    "hideCode": false,
    "hidePrompt": false
   },
   "source": [
    "We want to do this will all points in our data and find the smallest! So we create a function that takes in a row of features (note this corresponds to one point) and a new point of interest and computes the distance for each row."
   ]
  },
  {
   "cell_type": "code",
   "execution_count": 10,
   "id": "5d4036f8",
   "metadata": {
    "hideCode": false,
    "hidePrompt": false
   },
   "outputs": [],
   "source": [
    "def row_wise_distance(row, my_point):\n",
    "    '''Computes the distance between the given my_point and a single df row'''\n",
    "    return distance(my_point, np.array(row))"
   ]
  },
  {
   "cell_type": "markdown",
   "id": "074cd975",
   "metadata": {},
   "source": [
    "We can use the `.apply` method and specify our point $(7,6)$ as an additional argument to create a new column in the DataFrame that computes the distance to point $(7,6)$ from each point in the DataFrame. "
   ]
  },
  {
   "cell_type": "code",
   "execution_count": 11,
   "id": "a77f08ba",
   "metadata": {},
   "outputs": [],
   "source": [
    "characteristic_df['Distance to point'] =  \\\n",
    "            characteristic_df[['claw sharpness', 'ear pointiness']].  \\\n",
    "            apply(row_wise_distance, args=(np.array([7,6]),), axis=1)"
   ]
  },
  {
   "cell_type": "code",
   "execution_count": 12,
   "id": "450b64be",
   "metadata": {},
   "outputs": [
    {
     "data": {
      "text/html": [
       "<div>\n",
       "<style scoped>\n",
       "    .dataframe tbody tr th:only-of-type {\n",
       "        vertical-align: middle;\n",
       "    }\n",
       "\n",
       "    .dataframe tbody tr th {\n",
       "        vertical-align: top;\n",
       "    }\n",
       "\n",
       "    .dataframe thead th {\n",
       "        text-align: right;\n",
       "    }\n",
       "</style>\n",
       "<table border=\"1\" class=\"dataframe\">\n",
       "  <thead>\n",
       "    <tr style=\"text-align: right;\">\n",
       "      <th></th>\n",
       "      <th>claw sharpness</th>\n",
       "      <th>ear pointiness</th>\n",
       "      <th>Label</th>\n",
       "      <th>Distance to point</th>\n",
       "    </tr>\n",
       "  </thead>\n",
       "  <tbody>\n",
       "    <tr>\n",
       "      <th>0</th>\n",
       "      <td>3.825685</td>\n",
       "      <td>6.406667</td>\n",
       "      <td>cat</td>\n",
       "      <td>3.200259</td>\n",
       "    </tr>\n",
       "    <tr>\n",
       "      <th>1</th>\n",
       "      <td>4.763658</td>\n",
       "      <td>1.951387</td>\n",
       "      <td>dog</td>\n",
       "      <td>4.625202</td>\n",
       "    </tr>\n",
       "    <tr>\n",
       "      <th>2</th>\n",
       "      <td>6.329188</td>\n",
       "      <td>5.066956</td>\n",
       "      <td>cat</td>\n",
       "      <td>1.149156</td>\n",
       "    </tr>\n",
       "    <tr>\n",
       "      <th>3</th>\n",
       "      <td>2.824689</td>\n",
       "      <td>1.649148</td>\n",
       "      <td>dog</td>\n",
       "      <td>6.030185</td>\n",
       "    </tr>\n",
       "    <tr>\n",
       "      <th>4</th>\n",
       "      <td>5.949133</td>\n",
       "      <td>4.280015</td>\n",
       "      <td>cat</td>\n",
       "      <td>2.015607</td>\n",
       "    </tr>\n",
       "  </tbody>\n",
       "</table>\n",
       "</div>"
      ],
      "text/plain": [
       "   claw sharpness  ear pointiness Label  Distance to point\n",
       "0        3.825685        6.406667   cat           3.200259\n",
       "1        4.763658        1.951387   dog           4.625202\n",
       "2        6.329188        5.066956   cat           1.149156\n",
       "3        2.824689        1.649148   dog           6.030185\n",
       "4        5.949133        4.280015   cat           2.015607"
      ]
     },
     "execution_count": 12,
     "metadata": {},
     "output_type": "execute_result"
    }
   ],
   "source": [
    "characteristic_df.head()"
   ]
  },
  {
   "cell_type": "markdown",
   "id": "0a6415bf",
   "metadata": {},
   "source": [
    "We can then sort this new column to find the shortest distance."
   ]
  },
  {
   "cell_type": "code",
   "execution_count": 13,
   "id": "3b1a3345",
   "metadata": {
    "hideCode": false,
    "hidePrompt": false
   },
   "outputs": [
    {
     "data": {
      "text/html": [
       "<div>\n",
       "<style scoped>\n",
       "    .dataframe tbody tr th:only-of-type {\n",
       "        vertical-align: middle;\n",
       "    }\n",
       "\n",
       "    .dataframe tbody tr th {\n",
       "        vertical-align: top;\n",
       "    }\n",
       "\n",
       "    .dataframe thead th {\n",
       "        text-align: right;\n",
       "    }\n",
       "</style>\n",
       "<table border=\"1\" class=\"dataframe\">\n",
       "  <thead>\n",
       "    <tr style=\"text-align: right;\">\n",
       "      <th></th>\n",
       "      <th>index</th>\n",
       "      <th>claw sharpness</th>\n",
       "      <th>ear pointiness</th>\n",
       "      <th>Label</th>\n",
       "      <th>Distance to point</th>\n",
       "    </tr>\n",
       "  </thead>\n",
       "  <tbody>\n",
       "    <tr>\n",
       "      <th>0</th>\n",
       "      <td>39</td>\n",
       "      <td>6.183873</td>\n",
       "      <td>6.240770</td>\n",
       "      <td>cat</td>\n",
       "      <td>0.850902</td>\n",
       "    </tr>\n",
       "    <tr>\n",
       "      <th>1</th>\n",
       "      <td>21</td>\n",
       "      <td>8.055856</td>\n",
       "      <td>6.270573</td>\n",
       "      <td>cat</td>\n",
       "      <td>1.089973</td>\n",
       "    </tr>\n",
       "    <tr>\n",
       "      <th>2</th>\n",
       "      <td>2</td>\n",
       "      <td>6.329188</td>\n",
       "      <td>5.066956</td>\n",
       "      <td>cat</td>\n",
       "      <td>1.149156</td>\n",
       "    </tr>\n",
       "    <tr>\n",
       "      <th>3</th>\n",
       "      <td>13</td>\n",
       "      <td>6.557677</td>\n",
       "      <td>7.194344</td>\n",
       "      <td>cat</td>\n",
       "      <td>1.273620</td>\n",
       "    </tr>\n",
       "    <tr>\n",
       "      <th>4</th>\n",
       "      <td>15</td>\n",
       "      <td>5.814228</td>\n",
       "      <td>6.939289</td>\n",
       "      <td>cat</td>\n",
       "      <td>1.512719</td>\n",
       "    </tr>\n",
       "  </tbody>\n",
       "</table>\n",
       "</div>"
      ],
      "text/plain": [
       "   index  claw sharpness  ear pointiness Label  Distance to point\n",
       "0     39        6.183873        6.240770   cat           0.850902\n",
       "1     21        8.055856        6.270573   cat           1.089973\n",
       "2      2        6.329188        5.066956   cat           1.149156\n",
       "3     13        6.557677        7.194344   cat           1.273620\n",
       "4     15        5.814228        6.939289   cat           1.512719"
      ]
     },
     "execution_count": 13,
     "metadata": {},
     "output_type": "execute_result"
    }
   ],
   "source": [
    "sorted_df = characteristic_df.sort_values(by = 'Distance to point').reset_index()\n",
    "sorted_df.head()"
   ]
  },
  {
   "cell_type": "markdown",
   "id": "95253658",
   "metadata": {},
   "source": [
    "From this table we see that the nearest neighbor is labeled as a cat! We can also see this visually below."
   ]
  },
  {
   "cell_type": "code",
   "execution_count": 14,
   "id": "be074130",
   "metadata": {
    "hideCode": false,
    "hidePrompt": false,
    "tags": [
     "hide-input"
    ]
   },
   "outputs": [
    {
     "data": {
      "image/png": "[encoded data removed]",
      "text/plain": [
       "<Figure size 432x288 with 1 Axes>"
      ]
     },
     "metadata": {},
     "output_type": "display_data"
    }
   ],
   "source": [
    "#connect point with it's nearest neighbor\n",
    "\n",
    "plt.scatter(cat_df['claw sharpness'], cat_df['ear pointiness'] , color='blue', s=30)\n",
    "plt.scatter(dog_df['claw sharpness'], dog_df['ear pointiness'] , color='black', s=30);\n",
    "plt.plot((sorted_df['claw sharpness'][0], 7),(sorted_df['ear pointiness'][0],6),'black', linewidth=1.5, zorder = 1);\n",
    "plt.scatter(7,6 , color='red', s=30);\n",
    "blue_patch = mpatches.Patch(color='blue', label='Cat')\n",
    "black_patch = mpatches.Patch(color='black', label='Dog')\n",
    "plt.legend(handles=[blue_patch, black_patch])\n",
    "\n",
    "plt.title(\"Dog vs Cat\")\n",
    "plt.ylabel('Ear Pointiness')\n",
    "plt.xlabel('Claw Sharpness');"
   ]
  },
  {
   "cell_type": "markdown",
   "id": "8fd5898c",
   "metadata": {
    "hideCode": false,
    "hidePrompt": false
   },
   "source": [
    "Since the closest neighbor is a cat, we label this new point as a cat."
   ]
  },
  {
   "cell_type": "code",
   "execution_count": 15,
   "id": "46eee1a1",
   "metadata": {
    "hideCode": false,
    "hidePrompt": false
   },
   "outputs": [
    {
     "data": {
      "text/plain": [
       "'cat'"
      ]
     },
     "execution_count": 15,
     "metadata": {},
     "output_type": "execute_result"
    }
   ],
   "source": [
    "sorted_df.Label[0]"
   ]
  },
  {
   "cell_type": "markdown",
   "id": "29378eac",
   "metadata": {},
   "source": [
    "But what happens if we try to classify another data point closer to an outlier.\n",
    "Consider a new point $(5.8,4.9)$. Should this be classified a 'dog' or 'cat'?"
   ]
  },
  {
   "cell_type": "code",
   "execution_count": 16,
   "id": "08c9924e",
   "metadata": {
    "tags": [
     "hide-input"
    ]
   },
   "outputs": [
    {
     "data": {
      "image/png": "[encoded data removed]",
      "text/plain": [
       "<Figure size 432x288 with 1 Axes>"
      ]
     },
     "metadata": {},
     "output_type": "display_data"
    }
   ],
   "source": [
    "plt.scatter(cat_df['claw sharpness'], cat_df['ear pointiness'] , color='blue', s=30)\n",
    "plt.scatter(dog_df['claw sharpness'], dog_df['ear pointiness'] , color='black', s=30);\n",
    "plt.scatter(5.8,4.9 , color='red', s=30);\n",
    "\n",
    "blue_patch = mpatches.Patch(color='blue', label='Cat')\n",
    "black_patch = mpatches.Patch(color='black', label='Dog')\n",
    "plt.legend(handles=[blue_patch, black_patch])\n",
    "plt.title(\"Dog vs Cat\")\n",
    "plt.ylabel('Ear Pointiness')\n",
    "plt.xlabel('Claw Sharpness');"
   ]
  },
  {
   "cell_type": "markdown",
   "id": "a29637bf",
   "metadata": {},
   "source": [
    "If we repeat the process above on the point $(5.8,4.9)$ by\n",
    "1. Calculating the distance to this new point for each point in the DataFrame,\n",
    "2. Sorting the resulting DataFrame from closest to farthest away,\n",
    "\n",
    "we get the following."
   ]
  },
  {
   "cell_type": "code",
   "execution_count": 17,
   "id": "9a409c08",
   "metadata": {},
   "outputs": [],
   "source": [
    "characteristic_df['Distance to point'] =  \\\n",
    "            characteristic_df[['claw sharpness', 'ear pointiness']].  \\\n",
    "            apply(row_wise_distance, args=(np.array([5.8,4.9]),), axis=1)"
   ]
  },
  {
   "cell_type": "code",
   "execution_count": 18,
   "id": "e53804a4",
   "metadata": {},
   "outputs": [
    {
     "data": {
      "text/html": [
       "<div>\n",
       "<style scoped>\n",
       "    .dataframe tbody tr th:only-of-type {\n",
       "        vertical-align: middle;\n",
       "    }\n",
       "\n",
       "    .dataframe tbody tr th {\n",
       "        vertical-align: top;\n",
       "    }\n",
       "\n",
       "    .dataframe thead th {\n",
       "        text-align: right;\n",
       "    }\n",
       "</style>\n",
       "<table border=\"1\" class=\"dataframe\">\n",
       "  <thead>\n",
       "    <tr style=\"text-align: right;\">\n",
       "      <th></th>\n",
       "      <th>claw sharpness</th>\n",
       "      <th>ear pointiness</th>\n",
       "      <th>Label</th>\n",
       "      <th>Distance to point</th>\n",
       "    </tr>\n",
       "  </thead>\n",
       "  <tbody>\n",
       "    <tr>\n",
       "      <th>24</th>\n",
       "      <td>5.422290</td>\n",
       "      <td>4.963878</td>\n",
       "      <td>dog</td>\n",
       "      <td>0.383073</td>\n",
       "    </tr>\n",
       "    <tr>\n",
       "      <th>2</th>\n",
       "      <td>6.329188</td>\n",
       "      <td>5.066956</td>\n",
       "      <td>cat</td>\n",
       "      <td>0.554901</td>\n",
       "    </tr>\n",
       "    <tr>\n",
       "      <th>12</th>\n",
       "      <td>6.168168</td>\n",
       "      <td>4.426849</td>\n",
       "      <td>cat</td>\n",
       "      <td>0.599516</td>\n",
       "    </tr>\n",
       "    <tr>\n",
       "      <th>4</th>\n",
       "      <td>5.949133</td>\n",
       "      <td>4.280015</td>\n",
       "      <td>cat</td>\n",
       "      <td>0.637670</td>\n",
       "    </tr>\n",
       "    <tr>\n",
       "      <th>7</th>\n",
       "      <td>5.385259</td>\n",
       "      <td>3.926157</td>\n",
       "      <td>cat</td>\n",
       "      <td>1.058480</td>\n",
       "    </tr>\n",
       "    <tr>\n",
       "      <th>39</th>\n",
       "      <td>6.183873</td>\n",
       "      <td>6.240770</td>\n",
       "      <td>cat</td>\n",
       "      <td>1.394640</td>\n",
       "    </tr>\n",
       "  </tbody>\n",
       "</table>\n",
       "</div>"
      ],
      "text/plain": [
       "    claw sharpness  ear pointiness Label  Distance to point\n",
       "24        5.422290        4.963878   dog           0.383073\n",
       "2         6.329188        5.066956   cat           0.554901\n",
       "12        6.168168        4.426849   cat           0.599516\n",
       "4         5.949133        4.280015   cat           0.637670\n",
       "7         5.385259        3.926157   cat           1.058480\n",
       "39        6.183873        6.240770   cat           1.394640"
      ]
     },
     "execution_count": 18,
     "metadata": {},
     "output_type": "execute_result"
    }
   ],
   "source": [
    "characteristic_df.sort_values('Distance to point').head(6)"
   ]
  },
  {
   "cell_type": "markdown",
   "id": "383caa13",
   "metadata": {},
   "source": [
    "Notice we would classify this new point as 'dog' even though we can see there are more 'cat' labels near the red point. \n",
    "\n",
    "One nearest neighbor might not give us enough information to help classify this new point. Instead, it might be useful to rely on multiple neighbors to help us find a label."
   ]
  }
 ],
 "metadata": {
  "kernelspec": {
   "display_name": "Python 3 (ipykernel)",
   "language": "python",
   "name": "python3"
  },
  "language_info": {
   "codemirror_mode": {
    "name": "ipython",
    "version": 3
   },
   "file_extension": ".py",
   "mimetype": "text/x-python",
   "name": "python",
   "nbconvert_exporter": "python",
   "pygments_lexer": "ipython3",
   "version": "3.9.12"
  }
 },
 "nbformat": 4,
 "nbformat_minor": 5
}

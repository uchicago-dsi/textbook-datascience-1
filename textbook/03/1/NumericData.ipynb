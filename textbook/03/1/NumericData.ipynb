{
 "cells": [
  {
   "cell_type": "markdown",
   "id": "a8fc2ad8",
   "metadata": {},
   "source": [
    "# Working with Numeric Data\n",
    "*Amanda R. Kube Jotte and Evelyn Campbell*\n",
    "\n",
    "Python offers a number of different data types that can be manipulated and used by various functions. Some important built-in Python data types include **integers**, **floats**, **booleans**, and **strings**. In the first few sections we will explore each data type along with useful operations that we can perform with them. Then, we will discuss how to do more complicated calculations using **functions** and **methods**. First, we will start with the numeric data types: **integers** and **floats**."
   ]
  },
  {
   "cell_type": "markdown",
   "id": "db60da18",
   "metadata": {},
   "source": [
    "## Integers & Floats\n",
    "\n",
    "Integers and floating-point numbers (floats) are numeric data types that are often used to perform mathematical operations. **Integers** consist of whole numbers, while **floats** consist of whole numbers with decimal places. Floats can hold 15-17 digits following the decimal point and can be used to obtain more accurate calculations. However, it is easier and faster for a computer to do calculations using integers. Thus, one must weigh the pros and cons of using these data types when doing calculations and writing functions to obtain outcomes that are most aligned with their end goals. Let's take a look at these data types in more detail.\n"
   ]
  },
  {
   "cell_type": "code",
   "execution_count": null,
   "id": "f4ff1869",
   "metadata": {},
   "outputs": [
    {
     "name": "stdout",
     "output_type": "stream",
     "text": [
      "4567\n",
      "45.67\n"
     ]
    }
   ],
   "source": [
    "print(4567)\n",
    "print(45.67)"
   ]
  },
  {
   "cell_type": "markdown",
   "id": "3560e27b",
   "metadata": {},
   "source": [
    "Python has built-in **functions** that use values and expressions as an argument, or input, to perform a task and produce an output. A common one is the `print()` function, which displays an output. We will learn about a few more built-in functions that are associated with datatypes in this section. Built-in functions will be further discussed in depth in section [Section 3.5](../../03/5/IntroFunctions.ipynb)."
   ]
  },
  {
   "cell_type": "markdown",
   "id": "300a81cf",
   "metadata": {},
   "source": [
    "We can confirm the integer and float above by calling the `type()` function on these values."
   ]
  },
  {
   "cell_type": "code",
   "execution_count": null,
   "id": "47b93f15",
   "metadata": {},
   "outputs": [
    {
     "data": {
      "text/plain": [
       "int"
      ]
     },
     "metadata": {},
     "output_type": "display_data"
    }
   ],
   "source": [
    "type(4567)"
   ]
  },
  {
   "cell_type": "code",
   "execution_count": null,
   "id": "b9fb4b22",
   "metadata": {},
   "outputs": [
    {
     "data": {
      "text/plain": [
       "float"
      ]
     },
     "metadata": {},
     "output_type": "display_data"
    }
   ],
   "source": [
    "type(45.67)"
   ]
  },
  {
   "cell_type": "markdown",
   "id": "86a883aa",
   "metadata": {},
   "source": [
    "These numerical data types can be converted between floats and integers using the `float()` and `int()` functions. Let's see what happens when we convert the integer value 4567 to a float and the float value 45.67 to an integer:"
   ]
  },
  {
   "cell_type": "code",
   "execution_count": null,
   "id": "5f60bffe",
   "metadata": {},
   "outputs": [
    {
     "data": {
      "text/plain": [
       "4567.0"
      ]
     },
     "metadata": {},
     "output_type": "display_data"
    }
   ],
   "source": [
    "float(4567)"
   ]
  },
  {
   "cell_type": "code",
   "execution_count": null,
   "id": "f9592886",
   "metadata": {},
   "outputs": [
    {
     "data": {
      "text/plain": [
       "45"
      ]
     },
     "metadata": {},
     "output_type": "display_data"
    }
   ],
   "source": [
    "int(45.67)"
   ]
  },
  {
   "cell_type": "markdown",
   "id": "f4fb7024",
   "metadata": {},
   "source": [
    "We can see that the conversion of an integer to a float simply adds one significant figure after the decimal place. Moreover, converting a float to an integer rounds the number *down* to the nearest whole number."
   ]
  },
  {
   "cell_type": "markdown",
   "id": "807c609d",
   "metadata": {},
   "source": [
    "## Operations\n",
    "\n",
    "To work with numeric data in Python, we need to know the basic mathematical operators. In this section, we will see how to use Python to perform mathematical operations such as addition, subtraction, multiplication, division, and exponentiation.\n",
    "\n",
    "### Addition and Subtraction\n",
    "\n",
    "Addition and subtraction are relatively self explanatory in Python. We use the operators `+` and `-` as we would on a calculator. For example, we can type $3 + 4$ in a Jupyter notebook cell and run it to output the solution, 7, as follows:"
   ]
  },
  {
   "cell_type": "code",
   "execution_count": null,
   "id": "5bc4d8b7",
   "metadata": {},
   "outputs": [
    {
     "data": {
      "text/plain": [
       "7"
      ]
     },
     "metadata": {},
     "output_type": "display_data"
    }
   ],
   "source": [
    "3 + 4"
   ]
  },
  {
   "cell_type": "markdown",
   "id": "d846308a",
   "metadata": {},
   "source": [
    "We can do the same for subtraction, subtracting 6 from 10 to get 4."
   ]
  },
  {
   "cell_type": "code",
   "execution_count": null,
   "id": "1061f7ac",
   "metadata": {},
   "outputs": [
    {
     "data": {
      "text/plain": [
       "4"
      ]
     },
     "metadata": {},
     "output_type": "display_data"
    }
   ],
   "source": [
    "10 - 6"
   ]
  },
  {
   "cell_type": "markdown",
   "id": "7174194d",
   "metadata": {},
   "source": [
    "We can create longer expressions as well."
   ]
  },
  {
   "cell_type": "code",
   "execution_count": null,
   "id": "e5d3c71f",
   "metadata": {},
   "outputs": [
    {
     "data": {
      "text/plain": [
       "15"
      ]
     },
     "metadata": {},
     "output_type": "display_data"
    }
   ],
   "source": [
    "2 + 5 - 4 + 10 + 2"
   ]
  },
  {
   "cell_type": "markdown",
   "id": "77650a9b",
   "metadata": {},
   "source": [
    "### Multiplication and Division\n",
    "\n",
    "The operator for multiplication in Python is `*`, which we can use as follows."
   ]
  },
  {
   "cell_type": "code",
   "execution_count": null,
   "id": "8f0be124",
   "metadata": {},
   "outputs": [
    {
     "data": {
      "text/plain": [
       "18"
      ]
     },
     "metadata": {},
     "output_type": "display_data"
    }
   ],
   "source": [
    "3 * 6"
   ]
  },
  {
   "cell_type": "markdown",
   "id": "17208b00",
   "metadata": {},
   "source": [
    "There are multiple types of division in Python. We can use `/` for normal division which may result in a number with a decimal. For example:"
   ]
  },
  {
   "cell_type": "code",
   "execution_count": null,
   "id": "47cd0ec1",
   "metadata": {},
   "outputs": [
    {
     "data": {
      "text/plain": [
       "3.5"
      ]
     },
     "metadata": {},
     "output_type": "display_data"
    }
   ],
   "source": [
    "7 / 2"
   ]
  },
  {
   "cell_type": "markdown",
   "id": "91e2fe10",
   "metadata": {},
   "source": [
    "We can also do **floor division** using `//`. Floor division is equivalent to dividing and then taking the *floor* of the result (rounding down to the nearest whole number)."
   ]
  },
  {
   "cell_type": "code",
   "execution_count": null,
   "id": "db0baa57",
   "metadata": {},
   "outputs": [
    {
     "data": {
      "text/plain": [
       "3"
      ]
     },
     "metadata": {},
     "output_type": "display_data"
    }
   ],
   "source": [
    "7 // 2"
   ]
  },
  {
   "cell_type": "markdown",
   "id": "29f81560",
   "metadata": {},
   "source": [
    "We can also use the **modulo** operator `%` to get the remainder after division. Using the same example as above. We know that two goes into 7 three times leaving a remainder of 1. Therefore, 7 modulo 2 gives the result 1."
   ]
  },
  {
   "cell_type": "code",
   "execution_count": null,
   "id": "dcec4197",
   "metadata": {},
   "outputs": [
    {
     "data": {
      "text/plain": [
       "1"
      ]
     },
     "metadata": {},
     "output_type": "display_data"
    }
   ],
   "source": [
    "7 % 2"
   ]
  },
  {
   "cell_type": "markdown",
   "id": "99fe8681",
   "metadata": {},
   "source": [
    "Let's try another example. "
   ]
  },
  {
   "cell_type": "code",
   "execution_count": null,
   "id": "dcfc081e",
   "metadata": {},
   "outputs": [
    {
     "data": {
      "text/plain": [
       "2.6"
      ]
     },
     "metadata": {},
     "output_type": "display_data"
    }
   ],
   "source": [
    "13 / 5"
   ]
  },
  {
   "cell_type": "markdown",
   "id": "70b5c896",
   "metadata": {},
   "source": [
    "Thirteen divided by five is 2.6. The floor division of Thirteen and five, is 2 as five goes into 13 two times. "
   ]
  },
  {
   "cell_type": "code",
   "execution_count": null,
   "id": "c442b7d8",
   "metadata": {},
   "outputs": [
    {
     "data": {
      "text/plain": [
       "2"
      ]
     },
     "metadata": {},
     "output_type": "display_data"
    }
   ],
   "source": [
    "13 // 5"
   ]
  },
  {
   "cell_type": "markdown",
   "id": "ee468a92",
   "metadata": {},
   "source": [
    "And 13 modulo 5 is 3 as 3 is the remainder."
   ]
  },
  {
   "cell_type": "code",
   "execution_count": null,
   "id": "ed904274",
   "metadata": {},
   "outputs": [
    {
     "data": {
      "text/plain": [
       "3"
      ]
     },
     "metadata": {},
     "output_type": "display_data"
    }
   ],
   "source": [
    "13 % 5"
   ]
  },
  {
   "cell_type": "markdown",
   "id": "dbae7dda",
   "metadata": {},
   "source": [
    "### Exponentiation\n",
    "\n",
    "We can also compute exponents using Python. The operator for this is `**`. This is an example of a time where **syntax**, or the arrangement of letters and symbols, is important. Adding a space as in `* *` will not work!"
   ]
  },
  {
   "cell_type": "code",
   "execution_count": null,
   "id": "ce1fd5e1",
   "metadata": {},
   "outputs": [
    {
     "data": {
      "text/plain": [
       "8"
      ]
     },
     "metadata": {},
     "output_type": "display_data"
    }
   ],
   "source": [
    "2 ** 3"
   ]
  },
  {
   "cell_type": "code",
   "execution_count": null,
   "id": "4eaae606",
   "metadata": {},
   "outputs": [
    {
     "ename": "SyntaxError",
     "evalue": "invalid syntax (<ipython-input-64-0f343c0fc354>, line 1)",
     "output_type": "error",
     "traceback": [
      "\u001b[0;36m  File \u001b[0;32m\"<ipython-input-64-0f343c0fc354>\"\u001b[0;36m, line \u001b[0;32m1\u001b[0m\n",
      "\u001b[0;31m    2 * * 3\u001b[0m\n",
      "\u001b[0m        ^\u001b[0m\n",
      "\u001b[0;31mSyntaxError\u001b[0m\u001b[0;31m:\u001b[0m invalid syntax\n"
     ]
    }
   ],
   "source": [
    "2 * * 3"
   ]
  },
  {
   "cell_type": "markdown",
   "id": "0b856add",
   "metadata": {},
   "source": [
    "The expression 2 * * 3 produces an error as Python does not recognize that you meant `**`."
   ]
  },
  {
   "cell_type": "markdown",
   "id": "960bc972",
   "metadata": {},
   "source": [
    "To take the root of a number in Python, we simply exponentiate by the reciprocal. For example, to take the square root of 4 or the cubed root of 8, we would do the following."
   ]
  },
  {
   "cell_type": "code",
   "execution_count": null,
   "id": "67875211",
   "metadata": {},
   "outputs": [
    {
     "data": {
      "text/plain": [
       "2.0"
      ]
     },
     "metadata": {},
     "output_type": "display_data"
    }
   ],
   "source": [
    "4 ** (1/2)"
   ]
  },
  {
   "cell_type": "code",
   "execution_count": null,
   "id": "e1791072",
   "metadata": {},
   "outputs": [
    {
     "data": {
      "text/plain": [
       "2.0"
      ]
     },
     "metadata": {},
     "output_type": "display_data"
    }
   ],
   "source": [
    "8 ** (1/3)"
   ]
  },
  {
   "cell_type": "markdown",
   "id": "1000385f",
   "metadata": {},
   "source": [
    "### Order of Operations\n",
    "\n",
    "Notice that we had to use parentheses above. If we would not have included those parentheses, we would have gotten a different result. For example:"
   ]
  },
  {
   "cell_type": "code",
   "execution_count": null,
   "id": "9f08c679",
   "metadata": {},
   "outputs": [
    {
     "data": {
      "text/plain": [
       "2.6666666666666665"
      ]
     },
     "metadata": {},
     "output_type": "display_data"
    }
   ],
   "source": [
    "8 ** 1/3"
   ]
  },
  {
   "cell_type": "markdown",
   "id": "959bd616",
   "metadata": {},
   "source": [
    "Python follows the same order of operations that you learned in elementary school. You might remember learning a mnemonic phrase such as 'Please Excuse My Dear Aunt Sally' to remember in what order to execute operations: Parentheses, Exponentiation, Multiplication and Division, Addition and Subtraction. In the previous code cell, Python computed exponentiation first, computing 8 to the first power, then divided by 3. Using parentheses not only avoids this issue, but makes your code easier to read as well! For example, these give the same result, but the second is much more clear."
   ]
  },
  {
   "cell_type": "code",
   "execution_count": null,
   "id": "9e403328",
   "metadata": {},
   "outputs": [
    {
     "data": {
      "text/plain": [
       "97"
      ]
     },
     "metadata": {},
     "output_type": "display_data"
    }
   ],
   "source": [
    "5 + 10 ** 2 - 5 // 2 * 4"
   ]
  },
  {
   "cell_type": "code",
   "execution_count": null,
   "id": "7a3cc5d2",
   "metadata": {},
   "outputs": [
    {
     "data": {
      "text/plain": [
       "97"
      ]
     },
     "metadata": {},
     "output_type": "display_data"
    }
   ],
   "source": [
    "5 + (10 ** 2) - ((5 // 2) * 4)"
   ]
  },
  {
   "cell_type": "markdown",
   "id": "67a54f55",
   "metadata": {},
   "source": [
    "\n",
    "Below is a table of summarizing the operators we learned in this chapter.\n",
    "\n",
    "| Operator | Used For       | Example Expression | Result|\n",
    "|----------|----------------|--------------------|-------|\n",
    "| +        | Addition       | 5 + 2              | 7     |\n",
    "| -        | Subtraction    | 5 - 2              | 3     |\n",
    "| *        | Multiplication | 5 * 2              | 10    |\n",
    "| /        | Division       | 5 / 2              | 2.5   |\n",
    "| //       | Floor Division | 5 // 2             | 2     |\n",
    "| %        | Modulo         | 5 % 2              | 1     |\n",
    "| **       | Exponentiation | 5 ** 2             | 25    |\n",
    "\n",
    "Each of these operators can act on numeric data types (integers or floats). In the next sections, we will discuss non-numeric data types and how to work with them in Python."
   ]
  },
  {
   "cell_type": "markdown",
   "id": "248a893e",
   "metadata": {},
   "source": []
  }
 ],
 "metadata": {
  "language_info": {
   "name": "python"
  }
 },
 "nbformat": 4,
 "nbformat_minor": 5
}

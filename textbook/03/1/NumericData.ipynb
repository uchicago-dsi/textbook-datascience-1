{
 "cells": [
  {
   "cell_type": "markdown",
   "id": "a8fc2ad8",
   "metadata": {},
   "source": [
    "# Working with Numeric Data\n",
    "*Amanda R. Kube Jotte*\n",
    "\n",
    "Python has several different **data types**, which are just different kinds of values that Python can work with. Some of the most common built-in data types are **integers**, **floats**, **booleans**, and **strings**.  \n",
    "\n",
    "In the next few sections, we’ll explore these data types one by one and learn some of the operations we can do with them. Later, we’ll also see how to use **functions** and **methods** to perform more complex calculations.  \n",
    "\n",
    "We’ll begin with the numeric data types: **integers** and **floats**.  \n",
    "\n",
    "## Integers & Floats  \n",
    "\n",
    "**Integers** are whole numbers (like `3`, `-42`, or `0`).  \n",
    "**Floats** are numbers with decimal points (like `3.14` or `-0.001`).  \n",
    "\n",
    "Floats can represent very precise values (up to about 15–17 decimal digits), which makes them useful for calculations that require accuracy. However, working with integers is usually a little simpler and faster for the computer.  \n",
    "\n",
    "Both data types are widely used, and choosing between them depends on what you’re trying to calculate. Let’s take a closer look at how they work in Python.  \n"
   ]
  },
  {
   "cell_type": "code",
   "execution_count": 26,
   "id": "f4ff1869",
   "metadata": {},
   "outputs": [
    {
     "name": "stdout",
     "output_type": "stream",
     "text": [
      "4567\n",
      "45.67\n"
     ]
    }
   ],
   "source": [
    "print(4567)\n",
    "print(45.67)"
   ]
  },
  {
   "cell_type": "markdown",
   "id": "3560e27b",
   "metadata": {},
   "source": [
    "Python includes many built-in **functions**—little tools that perform specific tasks. For now, all you need to know is:  \n",
    "- Functions are written with a name followed by parentheses.  \n",
    "- You put values inside the parentheses as **inputs** (also called *arguments*).  \n",
    "- The function gives you back an **output**.  \n",
    "\n",
    "We’ll learn much more about functions in [Section 3.5](../../03/5/IntroFunctions.ipynb).  \n",
    "\n",
    "One useful built-in function is `type()`, which tells us what kind of data (data *type*) a value is:  \n"
   ]
  },
  {
   "cell_type": "code",
   "execution_count": 27,
   "id": "47b93f15",
   "metadata": {},
   "outputs": [
    {
     "data": {
      "text/plain": [
       "int"
      ]
     },
     "execution_count": 27,
     "metadata": {},
     "output_type": "execute_result"
    }
   ],
   "source": [
    "type(3)"
   ]
  },
  {
   "cell_type": "code",
   "execution_count": 28,
   "id": "b9fb4b22",
   "metadata": {},
   "outputs": [
    {
     "data": {
      "text/plain": [
       "float"
      ]
     },
     "execution_count": 28,
     "metadata": {},
     "output_type": "execute_result"
    }
   ],
   "source": [
    "type(3.14)"
   ]
  },
  {
   "cell_type": "markdown",
   "id": "a057a7b6",
   "metadata": {},
   "source": [
    "```{tip}\n",
    "Don’t worry if functions still feel new.  \n",
    "\n",
    "At this point, all you need to know is how to **call** them: write the function name, add parentheses, and put any values you want to check inside. We’ll go into more detail on how functions work later.\n",
    "```"
   ]
  },
  {
   "cell_type": "markdown",
   "id": "86a883aa",
   "metadata": {},
   "source": [
    "Python also lets us **convert** between numeric data types using built-in functions.  \n",
    "- The `float()` function turns a value into a float (a decimal number).  \n",
    "- The `int()` function turns a value into an integer (a whole number).  \n",
    "\n",
    "Let’s see what happens when we convert the integer `4567` to a float, and the float `45.67` to an integer:  "
   ]
  },
  {
   "cell_type": "code",
   "execution_count": 29,
   "id": "5f60bffe",
   "metadata": {},
   "outputs": [
    {
     "data": {
      "text/plain": [
       "4567.0"
      ]
     },
     "execution_count": 29,
     "metadata": {},
     "output_type": "execute_result"
    }
   ],
   "source": [
    "float(4567)"
   ]
  },
  {
   "cell_type": "code",
   "execution_count": 30,
   "id": "f9592886",
   "metadata": {},
   "outputs": [
    {
     "data": {
      "text/plain": [
       "45"
      ]
     },
     "execution_count": 30,
     "metadata": {},
     "output_type": "execute_result"
    }
   ],
   "source": [
    "int(45.67)"
   ]
  },
  {
   "cell_type": "markdown",
   "id": "f4fb7024",
   "metadata": {},
   "source": [
    "We can see that the conversion of an integer to a float simply adds one significant figure after the decimal place. When you convert a float to an integer, Python does **not** round the number. It simply removes (truncates) the decimal part.  \n",
    "\n",
    "For example:  "
   ]
  },
  {
   "cell_type": "code",
   "execution_count": 31,
   "id": "6af6e9be",
   "metadata": {},
   "outputs": [
    {
     "data": {
      "text/plain": [
       "9"
      ]
     },
     "execution_count": 31,
     "metadata": {},
     "output_type": "execute_result"
    }
   ],
   "source": [
    "int(9.99)"
   ]
  },
  {
   "cell_type": "markdown",
   "id": "40f03fc1",
   "metadata": {},
   "source": [
    "## Commenting Code\n",
    "\n",
    "Sometimes, it is useful to write notes to ourselves when we are writing code. We call these notes **comments**. The comment character `#`  signals to Python that anything written after it should be ignored. For example, the text below is a comment."
   ]
  },
  {
   "cell_type": "code",
   "execution_count": 32,
   "id": "b3fc461d",
   "metadata": {},
   "outputs": [],
   "source": [
    "# This is a comment"
   ]
  },
  {
   "cell_type": "markdown",
   "id": "a4405113",
   "metadata": {},
   "source": [
    "Typically, we use comments to explain what is happening in code, especially when it’s complex. Comments are helpful both when sharing code with others and when revisiting your own code later—you won’t have to wonder “What was I doing here?” In this book, we’ll also use comments to add explanations inside code cells."
   ]
  },
  {
   "cell_type": "code",
   "execution_count": 33,
   "id": "f366c3a1",
   "metadata": {},
   "outputs": [
    {
     "data": {
      "text/plain": [
       "float"
      ]
     },
     "execution_count": 33,
     "metadata": {},
     "output_type": "execute_result"
    }
   ],
   "source": [
    "# The code below displays the data type of 12.34 which should be a float\n",
    "type(12.34)"
   ]
  },
  {
   "cell_type": "code",
   "execution_count": 34,
   "id": "f624fb9b",
   "metadata": {},
   "outputs": [
    {
     "data": {
      "text/plain": [
       "12"
      ]
     },
     "execution_count": 34,
     "metadata": {},
     "output_type": "execute_result"
    }
   ],
   "source": [
    "int(12.34) # This code truncates 12.34, removing the .34"
   ]
  },
  {
   "cell_type": "markdown",
   "id": "d0e9f985",
   "metadata": {},
   "source": [
    "If you put `#` in front of a piece of code, it will turn that code into a comment. Which means it will be ignored by Python. Turning code into a comment like this is called **commenting out**. This is especially useful if you want to keep a line of code around without actually running it."
   ]
  },
  {
   "cell_type": "code",
   "execution_count": 35,
   "id": "0f9522f6",
   "metadata": {},
   "outputs": [],
   "source": [
    "# This will not display any result below this \n",
    "# code cell because Python will not run it\n",
    "\n",
    "# int(12.34)"
   ]
  },
  {
   "cell_type": "markdown",
   "id": "807c609d",
   "metadata": {},
   "source": [
    "## Operations\n",
    "\n",
    "To work with numeric data in Python, we need to know the basic mathematical operators. In this section, we will see how to use Python to perform mathematical operations such as addition, subtraction, multiplication, division, and exponentiation.\n",
    "\n",
    "### Addition and Subtraction\n",
    "\n",
    "Addition and subtraction are relatively self explanatory in Python. We use the operators `+` and `-` as we would on a calculator. For example, we can type `3 + 4` in a Jupyter notebook cell and run it to output the solution, `7`, as follows:"
   ]
  },
  {
   "cell_type": "code",
   "execution_count": 36,
   "id": "5bc4d8b7",
   "metadata": {},
   "outputs": [
    {
     "data": {
      "text/plain": [
       "7"
      ]
     },
     "execution_count": 36,
     "metadata": {},
     "output_type": "execute_result"
    }
   ],
   "source": [
    "3 + 4"
   ]
  },
  {
   "cell_type": "markdown",
   "id": "d846308a",
   "metadata": {},
   "source": [
    "We can do the same for subtraction, subtracting six from ten to get four."
   ]
  },
  {
   "cell_type": "code",
   "execution_count": 37,
   "id": "1061f7ac",
   "metadata": {},
   "outputs": [
    {
     "data": {
      "text/plain": [
       "4"
      ]
     },
     "execution_count": 37,
     "metadata": {},
     "output_type": "execute_result"
    }
   ],
   "source": [
    "10 - 6 "
   ]
  },
  {
   "cell_type": "markdown",
   "id": "b9433505",
   "metadata": {},
   "source": [
    "Just as you learned in elementary school, in Python subtraction is the same as addition of a negative number."
   ]
  },
  {
   "cell_type": "code",
   "execution_count": 38,
   "id": "781df73b",
   "metadata": {},
   "outputs": [
    {
     "data": {
      "text/plain": [
       "4"
      ]
     },
     "execution_count": 38,
     "metadata": {},
     "output_type": "execute_result"
    }
   ],
   "source": [
    "10 + -6"
   ]
  },
  {
   "cell_type": "markdown",
   "id": "7174194d",
   "metadata": {},
   "source": [
    "We can create longer expressions as well."
   ]
  },
  {
   "cell_type": "code",
   "execution_count": 39,
   "id": "e5d3c71f",
   "metadata": {},
   "outputs": [
    {
     "data": {
      "text/plain": [
       "15"
      ]
     },
     "execution_count": 39,
     "metadata": {},
     "output_type": "execute_result"
    }
   ],
   "source": [
    "2 + 5 - 4 + 10 + 2 # This is evaluated from left to right"
   ]
  },
  {
   "cell_type": "markdown",
   "id": "77650a9b",
   "metadata": {},
   "source": [
    "### Multiplication and Division\n",
    "\n",
    "The operator for multiplication in Python is `*`, which we can use as follows."
   ]
  },
  {
   "cell_type": "code",
   "execution_count": 40,
   "id": "8f0be124",
   "metadata": {},
   "outputs": [
    {
     "data": {
      "text/plain": [
       "18"
      ]
     },
     "execution_count": 40,
     "metadata": {},
     "output_type": "execute_result"
    }
   ],
   "source": [
    "3 * 6"
   ]
  },
  {
   "cell_type": "code",
   "execution_count": 41,
   "id": "aba4f609",
   "metadata": {},
   "outputs": [
    {
     "data": {
      "text/plain": [
       "-35"
      ]
     },
     "execution_count": 41,
     "metadata": {},
     "output_type": "execute_result"
    }
   ],
   "source": [
    "5 * -7"
   ]
  },
  {
   "cell_type": "markdown",
   "id": "17208b00",
   "metadata": {},
   "source": [
    "There are multiple types of division in Python. We can use `/` for normal division which will result in a number with a decimal (which you may recall is called a float). For example:"
   ]
  },
  {
   "cell_type": "code",
   "execution_count": 42,
   "id": "47cd0ec1",
   "metadata": {},
   "outputs": [
    {
     "data": {
      "text/plain": [
       "3.5"
      ]
     },
     "execution_count": 42,
     "metadata": {},
     "output_type": "execute_result"
    }
   ],
   "source": [
    "7 / 2"
   ]
  },
  {
   "cell_type": "markdown",
   "id": "b52dafac",
   "metadata": {},
   "source": [
    "Notice that, even when a number divides evenly, the result is *still* a float - with just a zero after the decimal point."
   ]
  },
  {
   "cell_type": "code",
   "execution_count": 43,
   "id": "65cc9844",
   "metadata": {},
   "outputs": [
    {
     "data": {
      "text/plain": [
       "3.0"
      ]
     },
     "execution_count": 43,
     "metadata": {},
     "output_type": "execute_result"
    }
   ],
   "source": [
    "6 / 2"
   ]
  },
  {
   "cell_type": "markdown",
   "id": "91e2fe10",
   "metadata": {},
   "source": [
    "We can also do **floor division** using `//` which is equivalent to dividing and then taking the *floor* of the result (rounding down to the nearest whole number). Floor division will always result in an integer (a number without a decimal)."
   ]
  },
  {
   "cell_type": "code",
   "execution_count": 44,
   "id": "db0baa57",
   "metadata": {},
   "outputs": [
    {
     "data": {
      "text/plain": [
       "3"
      ]
     },
     "execution_count": 44,
     "metadata": {},
     "output_type": "execute_result"
    }
   ],
   "source": [
    "7 // 2"
   ]
  },
  {
   "cell_type": "markdown",
   "id": "29f81560",
   "metadata": {},
   "source": [
    "We can also use the **modulo** operator `%` to get the remainder after division. Using the same example as above. We know that two goes into seven three times leaving a remainder of one. Therefore, seven modulo two gives the result 1."
   ]
  },
  {
   "cell_type": "code",
   "execution_count": 45,
   "id": "dcec4197",
   "metadata": {},
   "outputs": [
    {
     "data": {
      "text/plain": [
       "1"
      ]
     },
     "execution_count": 45,
     "metadata": {},
     "output_type": "execute_result"
    }
   ],
   "source": [
    "7 % 2"
   ]
  },
  {
   "cell_type": "markdown",
   "id": "99fe8681",
   "metadata": {},
   "source": [
    "Let's try another example. "
   ]
  },
  {
   "cell_type": "code",
   "execution_count": 46,
   "id": "dcfc081e",
   "metadata": {},
   "outputs": [
    {
     "data": {
      "text/plain": [
       "2.6"
      ]
     },
     "execution_count": 46,
     "metadata": {},
     "output_type": "execute_result"
    }
   ],
   "source": [
    "13 / 5"
   ]
  },
  {
   "cell_type": "markdown",
   "id": "70b5c896",
   "metadata": {},
   "source": [
    "Thirteen divided by five is 2.6. The floor division of thirteen by five is two as five goes into thirteen two times. "
   ]
  },
  {
   "cell_type": "code",
   "execution_count": 47,
   "id": "c442b7d8",
   "metadata": {},
   "outputs": [
    {
     "data": {
      "text/plain": [
       "2"
      ]
     },
     "execution_count": 47,
     "metadata": {},
     "output_type": "execute_result"
    }
   ],
   "source": [
    "13 // 5"
   ]
  },
  {
   "cell_type": "markdown",
   "id": "ee468a92",
   "metadata": {},
   "source": [
    "And thirteen modulo five is three as three is the remainder."
   ]
  },
  {
   "cell_type": "code",
   "execution_count": 48,
   "id": "ed904274",
   "metadata": {},
   "outputs": [
    {
     "data": {
      "text/plain": [
       "3"
      ]
     },
     "execution_count": 48,
     "metadata": {},
     "output_type": "execute_result"
    }
   ],
   "source": [
    "13 % 5"
   ]
  },
  {
   "cell_type": "markdown",
   "id": "dbae7dda",
   "metadata": {},
   "source": [
    "### Exponentiation\n",
    "\n",
    "We can also compute exponents using Python. The operator for this is `**`. This is an example of a time where **syntax**, or the arrangement of letters and symbols, is important. Adding a space as in `* *` will not work!"
   ]
  },
  {
   "cell_type": "code",
   "execution_count": 49,
   "id": "ce1fd5e1",
   "metadata": {},
   "outputs": [
    {
     "data": {
      "text/plain": [
       "8"
      ]
     },
     "execution_count": 49,
     "metadata": {},
     "output_type": "execute_result"
    }
   ],
   "source": [
    "2 ** 3"
   ]
  },
  {
   "cell_type": "code",
   "execution_count": 50,
   "id": "4eaae606",
   "metadata": {},
   "outputs": [
    {
     "ename": "SyntaxError",
     "evalue": "invalid syntax (4263547826.py, line 1)",
     "output_type": "error",
     "traceback": [
      "\u001b[0;36m  Cell \u001b[0;32mIn[50], line 1\u001b[0;36m\u001b[0m\n\u001b[0;31m    2 * * 3\u001b[0m\n\u001b[0m        ^\u001b[0m\n\u001b[0;31mSyntaxError\u001b[0m\u001b[0;31m:\u001b[0m invalid syntax\n"
     ]
    }
   ],
   "source": [
    "2 * * 3"
   ]
  },
  {
   "cell_type": "markdown",
   "id": "0b856add",
   "metadata": {},
   "source": [
    "The expression `2 * * 3` produces an error as Python does not recognize that you meant `**`."
   ]
  },
  {
   "cell_type": "markdown",
   "id": "960bc972",
   "metadata": {},
   "source": [
    "To take the root of a number in Python, we simply exponentiate by the reciprocal. For example, to take the square root of four or the cubed root of eight, we would do the following."
   ]
  },
  {
   "cell_type": "code",
   "execution_count": 51,
   "id": "67875211",
   "metadata": {},
   "outputs": [
    {
     "data": {
      "text/plain": [
       "2.0"
      ]
     },
     "execution_count": 51,
     "metadata": {},
     "output_type": "execute_result"
    }
   ],
   "source": [
    "4 ** (1/2)"
   ]
  },
  {
   "cell_type": "code",
   "execution_count": 52,
   "id": "e1791072",
   "metadata": {},
   "outputs": [
    {
     "data": {
      "text/plain": [
       "2.0"
      ]
     },
     "execution_count": 52,
     "metadata": {},
     "output_type": "execute_result"
    }
   ],
   "source": [
    "8 ** (1/3)"
   ]
  },
  {
   "cell_type": "markdown",
   "id": "1000385f",
   "metadata": {},
   "source": [
    "### Order of Operations\n",
    "\n",
    "Notice that we had to use parentheses above. If we would not have included those parentheses, we would have gotten a different result. For example:"
   ]
  },
  {
   "cell_type": "code",
   "execution_count": 53,
   "id": "9f08c679",
   "metadata": {},
   "outputs": [
    {
     "data": {
      "text/plain": [
       "2.6666666666666665"
      ]
     },
     "execution_count": 53,
     "metadata": {},
     "output_type": "execute_result"
    }
   ],
   "source": [
    "8 ** 1/3"
   ]
  },
  {
   "cell_type": "markdown",
   "id": "959bd616",
   "metadata": {},
   "source": [
    "Python follows the same order of operations that you learned in elementary school. You might remember learning a mnemonic phrase such as *'Please Excuse My Dear Aunt Sally'* to remember in what order to execute operations: Parentheses, Exponentiation, Multiplication and Division, Addition and Subtraction. In the previous code cell, Python computed exponentiation first, computing eight to the first power, then divided by three. Using parentheses not only avoids this issue, but makes your code easier to read as well! For example, these give the same result, but the second is much more clear."
   ]
  },
  {
   "cell_type": "code",
   "execution_count": 54,
   "id": "9e403328",
   "metadata": {},
   "outputs": [
    {
     "data": {
      "text/plain": [
       "97"
      ]
     },
     "execution_count": 54,
     "metadata": {},
     "output_type": "execute_result"
    }
   ],
   "source": [
    "5 + 10 ** 2 - 5 // 2 * 4"
   ]
  },
  {
   "cell_type": "code",
   "execution_count": 55,
   "id": "7a3cc5d2",
   "metadata": {},
   "outputs": [
    {
     "data": {
      "text/plain": [
       "97"
      ]
     },
     "execution_count": 55,
     "metadata": {},
     "output_type": "execute_result"
    }
   ],
   "source": [
    "5 + (10 ** 2) - ((5 // 2) * 4)"
   ]
  },
  {
   "cell_type": "markdown",
   "id": "67a54f55",
   "metadata": {},
   "source": [
    "\n",
    "Below is a table of summarizing the operators we learned in this chapter.\n",
    "\n",
    "| Operator | Used For       | Example Expression | Result|\n",
    "|----------|----------------|--------------------|-------|\n",
    "| +        | Addition       | 5 + 2              | 7     |\n",
    "| -        | Subtraction    | 5 - 2              | 3     |\n",
    "| *        | Multiplication | 5 * 2              | 10    |\n",
    "| /        | Division       | 5 / 2              | 2.5   |\n",
    "| //       | Floor Division | 5 // 2             | 2     |\n",
    "| %        | Modulo         | 5 % 2              | 1     |\n",
    "| **       | Exponentiation | 5 ** 2             | 25    |\n",
    "\n",
    "Each of these operators can act on numeric data types (integers or floats). In the next sections, we will discuss non-numeric data types and how to work with them in Python."
   ]
  },
  {
   "cell_type": "markdown",
   "id": "248a893e",
   "metadata": {},
   "source": []
  }
 ],
 "metadata": {
  "kernelspec": {
   "display_name": "Python 3",
   "language": "python",
   "name": "python3"
  },
  "language_info": {
   "codemirror_mode": {
    "name": "ipython",
    "version": 3
   },
   "file_extension": ".py",
   "mimetype": "text/x-python",
   "name": "python",
   "nbconvert_exporter": "python",
   "pygments_lexer": "ipython3",
   "version": "3.9.6"
  }
 },
 "nbformat": 4,
 "nbformat_minor": 5
}

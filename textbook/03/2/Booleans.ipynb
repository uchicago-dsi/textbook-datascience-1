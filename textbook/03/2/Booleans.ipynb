{
 "cells": [
  {
   "cell_type": "markdown",
   "id": "deac4793",
   "metadata": {},
   "source": [
    "# Booleans\n",
    "\n",
    "*Amanda R. Kube Jotte, Dan L. Nicolae, and Evelyn Campbell*\n",
    "\n",
    "Booleans are a data type with only two possible values: `True` or `False`. Because they have two outcomes, we also call them **binary**. In Python, Booleans can act like numbers, where `True` is treated as `1` and `False` as `0`. This means they can be used not only in logic but also in calculations.\n",
    "\n",
    "Booleans are most often created by using **comparison operators**, which check whether a relationship between values is true or false. Let's start by learning how to do comparisons in Python."
   ]
  },
  {
   "cell_type": "markdown",
   "id": "3433b774",
   "metadata": {},
   "source": [
    "## Comparison operators\n",
    "\n",
    "Comparison operators are used to compare values using mathematical logic and return a single Boolean value of either `True` or `False`. We will see later in this book that they are important for counting, extracting and modifying data. For example, counting the number of students with GPA higher than a given threshold requires a comparison, for each student, of their GPA to the threshold.\n",
    "\n",
    "In the cell below, Python compares two integers (is five strictly smaller than seven?) and returns the Boolean that reflects the comparison."
   ]
  },
  {
   "cell_type": "code",
   "execution_count": 12,
   "id": "566ad1b5",
   "metadata": {},
   "outputs": [
    {
     "data": {
      "text/plain": [
       "True"
      ]
     },
     "execution_count": 12,
     "metadata": {},
     "output_type": "execute_result"
    }
   ],
   "source": [
    "5 < 7 # This is an expression, specifically a boolean expression, which can be answered with True or False"
   ]
  },
  {
   "cell_type": "markdown",
   "id": "1bb860ff",
   "metadata": {},
   "source": [
    "In the expression above, Python followed mathematical logic and declared the comparison to be true.\n",
    "\n",
    "Below is a table of comparison operators.\n",
    "\n",
    "| Operator | What it means   | \n",
    "|----------|-----------------|\n",
    "| ==       | Equal           |\n",
    "| !=       | Not equal       |\n",
    "| <        | Less than       |\n",
    "| <=       | Less or equal   |\n",
    "| >        | Greater than    |\n",
    "| >=       | Greater or equal|\n",
    "\n",
    "To better understand how these operators work, we illustrate their use in the cell below where we compare two real numbers."
   ]
  },
  {
   "cell_type": "code",
   "execution_count": 13,
   "id": "ac8a5b03",
   "metadata": {},
   "outputs": [
    {
     "name": "stdout",
     "output_type": "stream",
     "text": [
      "1.5 == 0.8: False\n",
      "1.5 != 0.8: True\n",
      "1.5 < 0.8: False\n",
      "1.5 <= 0.8: False\n",
      "1.5 > 0.8: True\n",
      "1.5 >= 0.8: True\n"
     ]
    }
   ],
   "source": [
    "# Recall that the print function displays information. \n",
    "# Below it will display some text and then the result of a comparison. \n",
    "# You will learn more about text like this later in this chapter.\n",
    "\n",
    "print(\"1.5 == 0.8:\", 1.5 == 0.8)\n",
    "print(\"1.5 != 0.8:\", 1.5 != 0.8)\n",
    "print(\"1.5 < 0.8:\", 1.5 < 0.8)\n",
    "print(\"1.5 <= 0.8:\", 1.5 <= 0.8)\n",
    "print(\"1.5 > 0.8:\", 1.5 > 0.8)\n",
    "print(\"1.5 >= 0.8:\", 1.5 >= 0.8)"
   ]
  },
  {
   "cell_type": "markdown",
   "id": "ab10341a",
   "metadata": {},
   "source": [
    "::::{warning}\n",
    "Be careful when comparing floats. Because of the way computers store decimal values, calculations may not be exact. For example, the code below will give the result `False`.\n",
    "\n",
    "```python\n",
    "0.1 + 0.2 == 0.3   # False\n",
    "```\n",
    "Even though mathematically 0.1 + 0.2 equals 0.3, the computer stores the result as something very close to, but not exactly, 0.3.\n",
    "\n",
    "Instead of checking floats for exact equality, check whether they are close enough within a small tolerance (such as plus or minus 1e-9). This way, small rounding differences won’t cause your comparisons to fail.\n",
    "\n",
    "For example:\n",
    "\n",
    "```python\n",
    "-1e-9 < (0.1 + 0.2) - 0.3) < 1e-9   # True\n",
    "```\n",
    "\n",
    ":::{note}\n",
    "The `e` above is how Python displays scientific notation. So, `1e-9` means $1 \\times 10^{-9}$.\n",
    ":::\n",
    "\n",
    "If you want to explore this further, try adding 0.1 + 0.2 in your own Python session.\n",
    "::::"
   ]
  },
  {
   "cell_type": "markdown",
   "id": "d989c7b0",
   "metadata": {},
   "source": [
    "## Logical (Boolean) operators\n",
    "\n",
    "Python's logical operators perform Boolean arithmetic on one or two inputs and return either `True` or `False`. The table below shows three logical operators.\n",
    "\n",
    "| Operator | What it means                | Examples (that return True)  |\n",
    "|----------|------------------------------|------------------------------|\n",
    "| and      | True if both are true        | (7 > 5) and (1.2 != 1.3)         |\n",
    "| or       | True if at least one is true | (7 < 5) or (1.2 != 1.3)          |\n",
    "| not      | True if input is false       | not (7 == 5)                    |\n"
   ]
  },
  {
   "cell_type": "code",
   "execution_count": 14,
   "id": "b597de87",
   "metadata": {},
   "outputs": [
    {
     "name": "stdout",
     "output_type": "stream",
     "text": [
      "True\n",
      "False\n",
      "False\n",
      "True\n",
      "True\n",
      "True\n",
      "True\n"
     ]
    }
   ],
   "source": [
    "print(not (7 == 5))\n",
    "print(not (7 > 5))\n",
    "print(not (1.2 != 1.3))\n",
    "\n",
    "print((7 > 5) and (1.2 != 1.3))\n",
    "print((7 > 5) & (1.2 != 1.3))\n",
    "\n",
    "print((7 < 5) or (1.2 != 1.3))\n",
    "print((7 < 5) | (1.2 != 1.3))"
   ]
  },
  {
   "cell_type": "markdown",
   "id": "61c8113c",
   "metadata": {},
   "source": [
    "```{note}\n",
    "You will see in some code examples here and elsewhere the logical operators `and` and `or` replaced by something called bitwise operators:  `&`  used instead of `and` and `|` instead of `or`. Bitwise operators work at the level of *bits* (binary representation of integers). Note that, even if they give the same results when applied to Boolean data types (as in the examples above), they have different meanings for other data types. \n",
    "\n",
    "As a rule of thumb, you should use `and` and `or` for most conditionals that you write. Later in this book, we will introduce data types that can include multiple *elements* (ie data types that hold multiple pieces of data inside them). When you want to write a conditional to check these individual elements you will use `&` and `|` instead of `and` and `or`.\n",
    "\n",
    "```\n",
    "\n",
    "Finally, an expression can contain multiple comparisons, and all comparisons must hold in order for the whole expression to be True. You can see a couple of examples below. In the first, Python evaluates first the expression `5 - 2`  (equal to `3`), then evaluates `1.2 <= 1.8` and `1.8 < 3` (both True), and finally use the Boolean operator `and` to evaluate the full expression."
   ]
  },
  {
   "cell_type": "code",
   "execution_count": 15,
   "id": "25104a0a",
   "metadata": {},
   "outputs": [
    {
     "data": {
      "text/plain": [
       "True"
      ]
     },
     "execution_count": 15,
     "metadata": {},
     "output_type": "execute_result"
    }
   ],
   "source": [
    "1.2 <= 1.8 < 5 - 2"
   ]
  },
  {
   "cell_type": "markdown",
   "id": "74f072a8",
   "metadata": {},
   "source": [
    "The expression above is essentially a shorthand for the following expression. Notice that they produce the same result."
   ]
  },
  {
   "cell_type": "code",
   "execution_count": 16,
   "id": "3e8e7cc0",
   "metadata": {},
   "outputs": [
    {
     "data": {
      "text/plain": [
       "True"
      ]
     },
     "execution_count": 16,
     "metadata": {},
     "output_type": "execute_result"
    }
   ],
   "source": [
    "1.2 <= 1.8 and 1.8 < (5-2)"
   ]
  },
  {
   "cell_type": "markdown",
   "id": "b33b20ac",
   "metadata": {},
   "source": [
    "### Truth tables\n",
    "\n",
    "An easy way to summarize the outcome of logic operators are truth tables, and we show them below for `and` and `or`. Note that we used them in the multiple comparisons above. They are useful for algorithmic thinking in programming. For simplicity we summarize them in a single table.\n",
    "\n",
    "| a      | b     | a and b | a or b  |\n",
    "|--------|-------|---------|---------|\n",
    "| True   | True  | True    | True    |\n",
    "| True   | False | False   | True    |\n",
    "| False  | True  | False   | True    |\n",
    "| False  | False | False   | False   |"
   ]
  },
  {
   "cell_type": "markdown",
   "id": "5f133061",
   "metadata": {},
   "source": [
    "## Boolean Arithmetic and Order of Operations\n",
    "\n",
    "Below, we consider the expression `5 < 3`, which reads \"5 is less than 3.\" "
   ]
  },
  {
   "cell_type": "code",
   "execution_count": 17,
   "id": "7821e6fe",
   "metadata": {},
   "outputs": [
    {
     "data": {
      "text/plain": [
       "False"
      ]
     },
     "execution_count": 17,
     "metadata": {},
     "output_type": "execute_result"
    }
   ],
   "source": [
    "5 < 3"
   ]
  },
  {
   "cell_type": "markdown",
   "id": "590c52ff",
   "metadata": {},
   "source": [
    "Because 5 is *not* in fact less than 3, the entire statement is `False`, thus this expression evaluates to `False`.\n",
    "\n",
    "Recall that `False` has a numerical value of 0, so we can perform mathematical operations on Booleans. Evaluating `5 < 3` first and then adding 5 is the same as 0 + 5, as shown below."
   ]
  },
  {
   "cell_type": "code",
   "execution_count": 18,
   "id": "026e6540",
   "metadata": {},
   "outputs": [
    {
     "data": {
      "text/plain": [
       "5"
      ]
     },
     "execution_count": 18,
     "metadata": {},
     "output_type": "execute_result"
    }
   ],
   "source": [
    "(5 < 3) + 5"
   ]
  },
  {
   "cell_type": "markdown",
   "id": "6c84829c",
   "metadata": {},
   "source": [
    "```{note}\n",
    "There is a default order of operations when we include comparisons. We provide a summary table showing this ordering below, some of which (namely operators included in precedence numbers 3, 6, 7, and 8) is outside the focus of this textbook.\n",
    "\n",
    "| Precedence | Operators | Example |\n",
    "|------------|-----------|---------|\n",
    "| **1** | `(...)` *(parentheses, function calls, indexing, slicing)* | `(a + b) * c` |\n",
    "| **2** | `**` *(exponentiation)* | `2 ** 3` → `8` |\n",
    "| **3** | `+x`, `-x`, `~x` *(unary plus, unary minus, bitwise NOT)* | `-5`, `~0b1010` |\n",
    "| **4** | `*`, `/`, `//`, `%` *(multiplication, division, floor division, modulus)* | `7 // 2`  |\n",
    "| **5** | `+`, `-` *(addition, subtraction)* | `3 + 4` |\n",
    "| **6** | `<<`, `>>` *(bitwise shifts)* | `8 >> 2`|\n",
    "| **7** | `&` *(bitwise AND)* | `6 & 3` |\n",
    "| **8** | `^`, `\\|` *(bitwise XOR, bitwise OR)* | `6 \\| 3` |\n",
    "| **9** | Comparisons: `<`, `<=`, `>`, `>=`, `==`, `!=`<br>Membership: `in`, `not in`<br>Identity: `is`, `is not` | `a < b <= c` |\n",
    "| **10** | `not` *(Boolean NOT)* | `not True`|\n",
    "| **11** | `and` *(Boolean AND)* | `True and False` |\n",
    "| **12** | `or` *(Boolean OR)* | `True or False` |\n",
    "\n",
    "```\n",
    "\n",
    "As is common with long mathematical expressions, it is often useful to explicitly impose an ordering by using parentheses."
   ]
  },
  {
   "cell_type": "markdown",
   "id": "c1d4ed6e",
   "metadata": {},
   "source": [
    "We can combine expressions in further comparisons. We see that (5 < 3) is less than 10, and thus returns another Boolean value of `True`:"
   ]
  },
  {
   "cell_type": "code",
   "execution_count": 19,
   "id": "4c6c97c5",
   "metadata": {},
   "outputs": [
    {
     "data": {
      "text/plain": [
       "True"
      ]
     },
     "execution_count": 19,
     "metadata": {},
     "output_type": "execute_result"
    }
   ],
   "source": [
    "(5 < 3) < 10"
   ]
  },
  {
   "cell_type": "markdown",
   "id": "3baec2dc",
   "metadata": {},
   "source": [
    "The `bool()` function converts an input (i.e. a numeric value, or, we will see later, a string, or even data structure) to a boolean value."
   ]
  },
  {
   "cell_type": "code",
   "execution_count": 20,
   "id": "08c98ef0",
   "metadata": {},
   "outputs": [
    {
     "data": {
      "text/plain": [
       "True"
      ]
     },
     "execution_count": 20,
     "metadata": {},
     "output_type": "execute_result"
    }
   ],
   "source": [
    "bool(5)"
   ]
  },
  {
   "cell_type": "markdown",
   "id": "8e33b075",
   "metadata": {},
   "source": [
    "Any input that has value, contains an element, or is nonzero will give an output of `True` when passed into the `bool()` function. Any input that is null, empty, or zero will give a `False` output."
   ]
  },
  {
   "cell_type": "code",
   "execution_count": 21,
   "id": "365bdebf",
   "metadata": {},
   "outputs": [
    {
     "name": "stdout",
     "output_type": "stream",
     "text": [
      "True\n",
      "False\n"
     ]
    }
   ],
   "source": [
    "print(bool(6542))\n",
    "print(bool(0))"
   ]
  },
  {
   "cell_type": "markdown",
   "id": "29997354",
   "metadata": {},
   "source": [
    "We can also convert boolean data types to integers and floats"
   ]
  },
  {
   "cell_type": "code",
   "execution_count": 22,
   "id": "d9f24eae",
   "metadata": {},
   "outputs": [
    {
     "name": "stdout",
     "output_type": "stream",
     "text": [
      "0\n",
      "1.0\n"
     ]
    }
   ],
   "source": [
    "print(int(False))\n",
    "print(float(True))"
   ]
  },
  {
   "cell_type": "markdown",
   "id": "d15b21c5",
   "metadata": {},
   "source": [
    "Now that we can build mathematical and boolean **expressions** (ie a series of mathematical and/or boolean operations on data), it can be useful to save the results of those expressions in case we want to revisit them later. In the next section, we will learn how to store the result of any expression or function in a **variable** using **assignment**."
   ]
  },
  {
   "cell_type": "markdown",
   "id": "9044c521",
   "metadata": {},
   "source": []
  }
 ],
 "metadata": {
  "kernelspec": {
   "display_name": "Python 3",
   "language": "python",
   "name": "python3"
  },
  "language_info": {
   "codemirror_mode": {
    "name": "ipython",
    "version": 3
   },
   "file_extension": ".py",
   "mimetype": "text/x-python",
   "name": "python",
   "nbconvert_exporter": "python",
   "pygments_lexer": "ipython3",
   "version": "3.9.6"
  }
 },
 "nbformat": 4,
 "nbformat_minor": 5
}

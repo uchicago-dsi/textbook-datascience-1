{
 "cells": [
  {
   "cell_type": "markdown",
   "id": "deac4793",
   "metadata": {},
   "source": [
    "# Booleans\n",
    "\n",
    "*Evelyn Campbell and Dan L. Nicolae*\n",
    "\n",
    "Booleans are a data type that consist of two possible outcomes: `True` or `False`. Under the hood, these values take on a binary value, where `True` is equal to 1 and `False` is equal to 0. Booleans are very commonly used with comparison operators (discussed more in [Section 3.4](../../03/4/Comparison.ipynb)), and because they also can have a numeric meaning, they can be used in calculations as well. Let's start with a simple example of a Boolean."
   ]
  },
  {
   "cell_type": "code",
   "execution_count": null,
   "id": "7821e6fe",
   "metadata": {},
   "outputs": [
    {
     "data": {
      "text/plain": [
       "False"
      ]
     },
     "metadata": {},
     "output_type": "display_data"
    }
   ],
   "source": [
    "5 < 3"
   ]
  },
  {
   "cell_type": "markdown",
   "id": "590c52ff",
   "metadata": {},
   "source": [
    "Above, we consider the expression `5 < 3`, which reads \"5 is less than 3.\" Because 5 is *not* in fact less than 3, the entire statement is `False`, thus this expression evaluates to `False`.\n",
    "\n",
    "Recall that `False` has a numerical value of 0, so we can perform mathematical operations on Booleans. Evaluating `5 < 3` first and then adding 5 is the same as 0 + 5, as shown below."
   ]
  },
  {
   "cell_type": "code",
   "execution_count": null,
   "id": "026e6540",
   "metadata": {},
   "outputs": [
    {
     "data": {
      "text/plain": [
       "5"
      ]
     },
     "metadata": {},
     "output_type": "display_data"
    }
   ],
   "source": [
    "(5 < 3) + 5"
   ]
  },
  {
   "cell_type": "markdown",
   "id": "6c84829c",
   "metadata": {},
   "source": [
    "Note, there is a default order of operations when we include comparisons, which is outside the focus of this textbook. To impose an ordering, we can use parentheses, which, as in mathematical operations, are evaluated first."
   ]
  },
  {
   "cell_type": "markdown",
   "id": "c1d4ed6e",
   "metadata": {},
   "source": [
    "We can combine expressions in further comparisons. We see that (5 < 3) is less than 10, and thus returns another Boolean value of `True`:"
   ]
  },
  {
   "cell_type": "code",
   "execution_count": null,
   "id": "4c6c97c5",
   "metadata": {},
   "outputs": [
    {
     "data": {
      "text/plain": [
       "True"
      ]
     },
     "metadata": {},
     "output_type": "display_data"
    }
   ],
   "source": [
    "(5 < 3) < 10"
   ]
  },
  {
   "cell_type": "markdown",
   "id": "3baec2dc",
   "metadata": {},
   "source": [
    "The `bool()` function converts an input (i.e. a numeric value, or, we will see later, a string, or even data structure) to a boolean value."
   ]
  },
  {
   "cell_type": "code",
   "execution_count": null,
   "id": "08c98ef0",
   "metadata": {},
   "outputs": [
    {
     "data": {
      "text/plain": [
       "True"
      ]
     },
     "metadata": {},
     "output_type": "display_data"
    }
   ],
   "source": [
    "bool(5)"
   ]
  },
  {
   "cell_type": "markdown",
   "id": "8e33b075",
   "metadata": {},
   "source": [
    "Any input that has value, contains an element, or is nonzero will give an output of `True` when called into the `bool()` function. Any input that is null, empty, or zero will give a `False` output."
   ]
  },
  {
   "cell_type": "code",
   "execution_count": null,
   "id": "365bdebf",
   "metadata": {},
   "outputs": [
    {
     "name": "stdout",
     "output_type": "stream",
     "text": [
      "True\n",
      "False\n"
     ]
    }
   ],
   "source": [
    "print(bool(6542))\n",
    "print(bool(0))"
   ]
  },
  {
   "cell_type": "markdown",
   "id": "29997354",
   "metadata": {},
   "source": [
    "We can also convert boolean data types to integers and floats"
   ]
  },
  {
   "cell_type": "code",
   "execution_count": null,
   "id": "d9f24eae",
   "metadata": {},
   "outputs": [
    {
     "name": "stdout",
     "output_type": "stream",
     "text": [
      "0\n",
      "1.0\n"
     ]
    }
   ],
   "source": [
    "print(int(False))\n",
    "print(float(True))"
   ]
  },
  {
   "cell_type": "markdown",
   "id": "3433b774",
   "metadata": {},
   "source": [
    "# Comparison operators\n",
    "\n",
    "Comparison operators are used to compare values using mathematical logic and return a single Boolean value of either `True` or `False`. We will see later that they are important for counting, extracting and modifying data. For example, counting the number of students with GPA higher than a given threshold requires a comparison, for each student, of their GPA to the threshold.\n",
    "\n",
    "In the cell below, Python compares two integers (is 5 strictly smaller than 7?) and returns the Boolean that reflects the comparison."
   ]
  },
  {
   "cell_type": "code",
   "execution_count": null,
   "id": "566ad1b5",
   "metadata": {},
   "outputs": [],
   "source": [
    "5<7"
   ]
  },
  {
   "cell_type": "markdown",
   "id": "1bb860ff",
   "metadata": {},
   "source": [
    "In the expression above, Python followed mathematical logic and declared the comparison to be true.\n",
    "\n",
    "Below is a table of comparison operators.\n",
    "\n",
    "| Operator | What it means   | \n",
    "|----------|-----------------|\n",
    "| ==       | Equal           |\n",
    "| !=       | Not equal       |\n",
    "| <        | Less than       |\n",
    "| <=       | Less or equal   |\n",
    "| >        | Greater than    |\n",
    "| >=       | Greater or equal|\n",
    "\n",
    "To better understand how these operators work, we illustrate their use in the cell below where we compare two real numbers."
   ]
  },
  {
   "cell_type": "code",
   "execution_count": null,
   "id": "ac8a5b03",
   "metadata": {},
   "outputs": [],
   "source": [
    "x = 1.5\n",
    "y = 0.8\n",
    "\n",
    "print(\"x == y:\", x == y)\n",
    "print(\"x != y:\", x != y)\n",
    "print(\"x < y:\", x < y)\n",
    "print(\"x <= y:\", x <= y)\n",
    "print(\"x > y:\", x > y)\n",
    "print(\"x >= y:\", x >= y)"
   ]
  },
  {
   "cell_type": "markdown",
   "id": "b15fa95c",
   "metadata": {},
   "source": [
    "We showed examples of comparisons of integers and floats, but strings can also be used with comparison operators."
   ]
  },
  {
   "cell_type": "code",
   "execution_count": null,
   "id": "683fad64",
   "metadata": {},
   "outputs": [],
   "source": [
    "a='Dan'\n",
    "b='Mike'\n",
    "\n",
    "print(\"a == b:\", a == b)\n",
    "print(\"a != b:\", a != b)\n",
    "print(\"a < b:\", a < b)\n",
    "print(\"a <= b:\", a <= b)\n",
    "print(\"a > b:\", a > b)\n",
    "print(\"a >= b:\", a >= b)"
   ]
  },
  {
   "cell_type": "markdown",
   "id": "61ab6abb",
   "metadata": {},
   "source": [
    "As you can see, Python compared the two strings and found them different, but is also able to use inequality operators to compare them. The order is determined [lexicographically](https://en.wikipedia.org/wiki/Lexicographic_order) using the ASCII values of the characters.\n",
    "\n",
    "Letter case is important for comparisons:"
   ]
  },
  {
   "cell_type": "code",
   "execution_count": null,
   "id": "ab0e0eb5",
   "metadata": {},
   "outputs": [],
   "source": [
    "'Dan'=='dan'"
   ]
  },
  {
   "cell_type": "markdown",
   "id": "d989c7b0",
   "metadata": {},
   "source": [
    "## Logical (Boolean) operators\n",
    "\n",
    "Python's logical operators perform Boolean arithmetic on one or two inputs and return either `True` or `False`. The table below shows three logical operators.\n",
    "\n",
    "| Operator | What it means                | Examples (that return True)  |\n",
    "|----------|------------------------------|------------------------------|\n",
    "| and      | True if both are true        | (7>5) and (1.2!=1.3)         |\n",
    "| or       | True if at least one is true | (7<5) or (1.2!=1.3)          |\n",
    "| not      | True if input is false       | not(7==5)                    |\n"
   ]
  },
  {
   "cell_type": "code",
   "execution_count": null,
   "id": "b597de87",
   "metadata": {},
   "outputs": [],
   "source": [
    "print((7>5) and (1.2!=1.3))\n",
    "print((7>5) & (1.2!=1.3))\n",
    "\n",
    "print((7<5) or (1.2!=1.3))\n",
    "print((7<5) | (1.2!=1.3))"
   ]
  },
  {
   "cell_type": "markdown",
   "id": "61c8113c",
   "metadata": {},
   "source": [
    "```{note}\n",
    "You will see in some code examples here and elsewhere the logical operators `and` and `or` replaced by something called bitwise operators:  `&`  used instead of `and` and `|` instead of `or`. Bitwise operators work at the level of *bits* (binary representation of integers). Note that, even if they give the same results when applied to Boolean data types (as in the examples above), they have different meanings for other data types. \n",
    "\n",
    "As a rule of thumb, you should use `and` and `or` for most conditionals that you write. Later in this book, we will introduce data types that can include multiple *elements* (ie data types that hold multiple pieces of data inside them). When you want to write a conditional to check these individual elements you will use `&` and `|` instead of `and` and `or`. For more on this, see [Section 4.3](../../04/3/Arrays-Intro.ipynb).\n",
    "\n",
    "```\n",
    "\n",
    "Finally, an expression can contain multiple comparisons, and all comparisons must hold in order for the whole expression to be True. You can see a couple of examples below. In the first, Python evaluates first the expression `5-2`  (equal to `3`), then evaluates `1.2 <= 1.8` and `1.8 < 3` (both True), and finally use the Boolean operator `and` to evaluate the full expression."
   ]
  },
  {
   "cell_type": "code",
   "execution_count": null,
   "id": "25104a0a",
   "metadata": {},
   "outputs": [],
   "source": [
    "1.2 <= 1.8 < 5-2"
   ]
  },
  {
   "cell_type": "code",
   "execution_count": null,
   "id": "d945528a",
   "metadata": {},
   "outputs": [],
   "source": [
    "'Dan' != 'Mike' == 'Nike'"
   ]
  },
  {
   "cell_type": "markdown",
   "id": "b33b20ac",
   "metadata": {},
   "source": [
    "### Truth tables\n",
    "\n",
    "An easy way to summarize the outcome of logic operators are truth tables, and we show them below for `and` and `or`. Note that we used them in the multiple comparisons above. They are useful for algorithmic thinking in programming. For simplicity we summarize them in a single table.\n",
    "\n",
    "| a      | b     | a and b | a or b  |\n",
    "|--------|-------|---------|---------|\n",
    "| True   | True  | True    | True    |\n",
    "| True   | False | False   | True    |\n",
    "| False  | True  | False   | True    |\n",
    "| False  | False | False   | False   |\n",
    "\n"
   ]
  }
 ],
 "metadata": {
  "language_info": {
   "name": "python"
  }
 },
 "nbformat": 4,
 "nbformat_minor": 5
}

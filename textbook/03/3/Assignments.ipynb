{
 "cells": [
  {
   "cell_type": "markdown",
   "id": "681d0c05-2d5a-4d2b-bb9d-2250eef930f6",
   "metadata": {},
   "source": [
    "# Assignment\n",
    "\n",
    "*Will Trimble and Amanda R. Kube Jotte* "
   ]
  },
  {
   "cell_type": "markdown",
   "id": "2168ec72-2c2f-4e87-b7a9-bcb8386764d4",
   "metadata": {},
   "source": [
    "So far, we have seen that Python can evaluate mathematical expressions, but we haven't used a equal sign. Python's equal sign (`=`) has different behavior for different data types. Some data types are **immutable** meaning that they can't be changed or edited. Others are **mutable** and can be changed or edited. Mutable data types are more complicated and we will talk about them more in the [next chapter](../../04/4/assignment.ipynb). Immutable data types include integers, floats, booleans, strings (covered in the [next section](../4/Strings.ipynb)), and tuples (covered in the [next chapter](add link when we have it)). \n",
    "\n",
    "When we \"run\" a Python cell containing an **expression** (ie a series of operations/comparisons on data without an `=`), the expression is evaluated and the result is displayed. "
   ]
  },
  {
   "cell_type": "code",
   "execution_count": null,
   "id": "490bfd09-a647-4a1c-99e3-5b598457af94",
   "metadata": {},
   "outputs": [
    {
     "data": {
      "text/plain": [
       "-37.31"
      ]
     },
     "execution_count": 1,
     "metadata": {},
     "output_type": "execute_result"
    }
   ],
   "source": [
    "1052.25 - 965 - 12.47 - 84.97 - 27.12 # Trying to balance checkbook"
   ]
  },
  {
   "cell_type": "markdown",
   "id": "cfffe705-804e-4094-9874-7a862fc5fd80",
   "metadata": {},
   "source": [
    "Sometimes, instead of displaying the result, we would like to store it. We can store the result of any expression or function in a **variable**, which will allow us to access it later.\n",
    "\n",
    "Storing a result entails giving it a **variable name** and using the **assignment operator**, a single `=`. For immutable data types, an expression with a single equals will evaluate the right hand side and store the result in the variable name on the left hand side.\n",
    "\n",
    "This cell subtracts a handful of numbers, creates a variable called `balance` and stores the result in memory. We call a statement that stores a value in a variable an **assignment statement**. Note there is no **output** (ie nothing prints out below the code like it does for an expression)."
   ]
  },
  {
   "cell_type": "code",
   "execution_count": null,
   "id": "31fbfc42-fddb-4553-a257-61d3b544a554",
   "metadata": {},
   "outputs": [],
   "source": [
    "balance = 1052.25 - 965 - 12.47 - 84.97 - 27.12 # This is an assignment statement"
   ]
  },
  {
   "cell_type": "markdown",
   "id": "37e20d99-ce27-4d8b-bf5f-85be21ba2ea0",
   "metadata": {},
   "source": [
    "We can access and change the contents of `balance` by invoking its name.\n",
    "In any of the math expressions, `balance` will be replaced by its value (-37.31)."
   ]
  },
  {
   "cell_type": "code",
   "execution_count": null,
   "id": "31a6608c-6783-4702-997e-1cbcc8f56e78",
   "metadata": {},
   "outputs": [
    {
     "data": {
      "text/plain": [
       "-37.31"
      ]
     },
     "execution_count": 3,
     "metadata": {},
     "output_type": "execute_result"
    }
   ],
   "source": [
    "balance # This is an expression (no =) "
   ]
  },
  {
   "cell_type": "code",
   "execution_count": null,
   "id": "c7f91c2b-d972-4028-8e24-76696a9318b7",
   "metadata": {},
   "outputs": [
    {
     "data": {
      "text/plain": [
       "1945.48"
      ]
     },
     "execution_count": 4,
     "metadata": {},
     "output_type": "execute_result"
    }
   ],
   "source": [
    "balance - 17.21 + 2000 # Another expression"
   ]
  },
  {
   "cell_type": "markdown",
   "id": "7ffb6640-2845-456d-9f34-d483825eed2d",
   "metadata": {},
   "source": [
    "Evaluating this expression does not change `balance`."
   ]
  },
  {
   "cell_type": "code",
   "execution_count": null,
   "id": "6a0a00da",
   "metadata": {},
   "outputs": [],
   "source": [
    "balance"
   ]
  },
  {
   "cell_type": "markdown",
   "id": "67f446f7-d152-4d74-953b-070f9a76b81a",
   "metadata": {},
   "source": [
    "I can use this value in comparisons as well. Is my balance greater than zero?"
   ]
  },
  {
   "cell_type": "code",
   "execution_count": null,
   "id": "43d515d4-6d33-4223-9fab-5f4a006ca53d",
   "metadata": {},
   "outputs": [
    {
     "data": {
      "text/plain": [
       "False"
      ]
     },
     "execution_count": 5,
     "metadata": {},
     "output_type": "execute_result"
    }
   ],
   "source": [
    "balance > 0 # This is also an expression"
   ]
  },
  {
   "cell_type": "markdown",
   "id": "692728cc-ea3c-43f9-93e4-ca736f8c3a10",
   "metadata": {},
   "source": [
    "And `balance` can be changed:"
   ]
  },
  {
   "cell_type": "code",
   "execution_count": 6,
   "id": "9ff368af-ed99-4acd-a7fa-7b91a707841b",
   "metadata": {},
   "outputs": [
    {
     "name": "stdout",
     "output_type": "stream",
     "text": [
      "-37.31\n",
      "2.6899999999999977\n"
     ]
    }
   ],
   "source": [
    "print(balance)\n",
    "balance = balance + 40\n",
    "print(balance)"
   ]
  },
  {
   "cell_type": "markdown",
   "id": "a1a42ab-29Ava-46c7-b5e7-fef05f26dae8",
   "metadata": {},
   "source": [
    "Note that the value stored in `balance` will change every time this cell is run."
   ]
  },
  {
   "cell_type": "code",
   "execution_count": null,
   "id": "df693363",
   "metadata": {},
   "outputs": [],
   "source": [
    "print(balance)\n",
    "balance = balance + 40\n",
    "print(balance)"
   ]
  },
  {
   "cell_type": "markdown",
   "id": "10619ef4-a393-439e-b6db-616f43cdcee3",
   "metadata": {},
   "source": [
    "Python variables are just names; they do not control the data types of the underlying data, and can store floats, integers, strings and other more complicated data types as well. Variable names in Python must begin with a letter, and can contain letters, numbers, and the underscore \"_\" character.\n",
    "\n",
    "If I assign a variable twice, the later assignment overwrites the earlier value:"
   ]
  },
  {
   "cell_type": "code",
   "execution_count": null,
   "id": "a44f1a2d-9d42-430e-bc5f-050cffa649f9",
   "metadata": {},
   "outputs": [
    {
     "data": {
      "text/plain": [
       "'Not enough'"
      ]
     },
     "execution_count": 7,
     "metadata": {},
     "output_type": "execute_result"
    }
   ],
   "source": [
    "balance = 1052.25 - 965 - 12.47 - 84.97 - 27.12\n",
    "balance = False \n",
    "balance"
   ]
  },
  {
   "cell_type": "markdown",
   "id": "cc725f38-3b44-4343-a1b0-fa2358eb910d",
   "metadata": {},
   "source": [
    "What can we use this for?  Everything.  We will put every important piece of data into a variable whose name will hopefully allow humans to understand something about the variable's content or purpose.\n",
    "\n",
    "Some variables are temporary and will be discarded immediately; some we will assign, use once and forget about, and some variables may contain the key data and inferences.   "
   ]
  },
  {
   "cell_type": "code",
   "execution_count": 8,
   "id": "bd7179db-a11d-4a9e-a0f4-760924c9c285",
   "metadata": {},
   "outputs": [
    {
     "data": {
      "text/plain": [
       "175.86960000000002"
      ]
     },
     "execution_count": 8,
     "metadata": {},
     "output_type": "execute_result"
    }
   ],
   "source": [
    "elevation_ft = 577           # Lake Michigan-Huron above MSL\n",
    "FEET_TO_METERS = 0.3048\n",
    "elevation_m = elevation_ft * FEET_TO_METERS\n",
    "elevation_m"
   ]
  },
  {
   "cell_type": "markdown",
   "id": "36f2589c-49df-4f0a-a162-1e082ec889fc",
   "metadata": {},
   "source": [
    "## Stay away from reserved words"
   ]
  },
  {
   "cell_type": "markdown",
   "id": "70e59eaf-3d8d-4309-87bb-93aac7508f48",
   "metadata": {},
   "source": [
    "A small handful of short English words, called **reserved words**, are part of the Python language.  These can't be used as variable names: \n",
    "\n",
    "```text\n",
    "False      await      else       import     pass\n",
    "None       break      except     in         raise\n",
    "True       class      finally    is         return\n",
    "and        continue   for        lambda     try\n",
    "as         def        from       nonlocal   while\n",
    "assert     del        global     not        with\n",
    "async      elif       if         or         yield\n",
    "```\n",
    "\n",
    "A similar list of [names of built-in functions](https://docs.python.org/3/library/functions.html) should also be avoided.\n",
    "\n",
    "If you chose a variable name that is the same as a function that is already defined, you can accidentally replace the function with your variable, making the function unavailable. \n",
    "\n",
    "For this reason, don't use `str`, `int`, or `float` as the name of your variables.  "
   ]
  },
  {
   "cell_type": "code",
   "execution_count": null,
   "id": "c875866f-a40b-410b-8d70-ed875819f005",
   "metadata": {
    "tags": [
     "raises-exception"
    ]
   },
   "outputs": [
    {
     "ename": "TypeError",
     "evalue": "'int' object is not callable",
     "output_type": "error",
     "traceback": [
      "\u001b[0;31m---------------------------------------------------------------------------\u001b[0m",
      "\u001b[0;31mTypeError\u001b[0m                                 Traceback (most recent call last)",
      "Cell \u001b[0;32mIn [9], line 4\u001b[0m\n\u001b[1;32m      1\u001b[0m \u001b[38;5;66;03m# Don't do this; int() won't work right after you\u001b[39;00m\n\u001b[1;32m      2\u001b[0m \u001b[38;5;66;03m# overwrite it because it will be 6.\u001b[39;00m\n\u001b[1;32m      3\u001b[0m \u001b[38;5;28mint\u001b[39m \u001b[38;5;241m=\u001b[39m \u001b[38;5;241m6\u001b[39m   \u001b[38;5;66;03m# don't call your variable int!!\u001b[39;00m\n\u001b[0;32m----> 4\u001b[0m \u001b[38;5;28;43mint\u001b[39;49m\u001b[43m(\u001b[49m\u001b[38;5;241;43m56.3\u001b[39;49m\u001b[43m)\u001b[49m\n",
      "\u001b[0;31mTypeError\u001b[0m: 'int' object is not callable"
     ]
    }
   ],
   "source": [
    "# Don't do this; int() won't work right after you overwrite it because it will be 6.\n",
    "int = 6   # Don't call your variable int!!\n",
    "int(56.3)"
   ]
  },
  {
   "cell_type": "code",
   "execution_count": null,
   "id": "e284b909-f5b5-43ca-849c-f2826f608019",
   "metadata": {},
   "outputs": [
    {
     "data": {
      "text/plain": [
       "12"
      ]
     },
     "execution_count": 10,
     "metadata": {},
     "output_type": "execute_result"
    }
   ],
   "source": [
    "# This cell restores the overwritten built-in function int\n",
    "del(int) # This deletes the variable int from memory\n",
    "int(12.3) # Now nothing is overwriting the int function"
   ]
  },
  {
   "cell_type": "markdown",
   "id": "55cdb2d8-ef4c-43ce-92d9-7de6f3b19910",
   "metadata": {},
   "source": [
    "## Assign variables before use\n",
    "Python will not use a default value for unassigned variables; if you use the name of a variable that has not been defined in the current Python session (ie the Python you have open right now), Python will throw an error:"
   ]
  },
  {
   "cell_type": "code",
   "execution_count": 11,
   "id": "2e456c12-9e58-4665-b046-80832058770b",
   "metadata": {
    "tags": [
     "raises-exception"
    ]
   },
   "outputs": [
    {
     "ename": "NameError",
     "evalue": "name 'january_balance' is not defined",
     "output_type": "error",
     "traceback": [
      "\u001b[0;31m---------------------------------------------------------------------------\u001b[0m",
      "\u001b[0;31mNameError\u001b[0m                                 Traceback (most recent call last)",
      "Cell \u001b[0;32mIn [11], line 1\u001b[0m\n\u001b[0;32m----> 1\u001b[0m \u001b[43mjanuary_balance\u001b[49m\n",
      "\u001b[0;31mNameError\u001b[0m: name 'january_balance' is not defined"
     ]
    }
   ],
   "source": [
    "january_balance"
   ]
  },
  {
   "cell_type": "markdown",
   "id": "6c0ca82f-83b0-4445-b511-7002c6ec0025",
   "metadata": {},
   "source": [
    "What's happening here?  Python sees the variable name, searches its memory for a variable of that name, does not find one, and terminates with a red box labeled `NameError`.  This is the error for an undefined variable. It is the error that results from using a variable name that you haven't defined yet or trying to access variables with misspelled names.\n",
    "\n",
    "Now, you know how to write mathematical and boolean expressions and how to save the results of those expressions as variables. In the next session we are going to add a new data type to your repertoire: strings."
   ]
  }
 ],
 "metadata": {
  "kernelspec": {
   "display_name": "Python 3 (ipykernel)",
   "language": "python",
   "name": "python3"
  },
  "language_info": {
   "codemirror_mode": {
    "name": "ipython",
    "version": 3
   },
   "file_extension": ".py",
   "mimetype": "text/x-python",
   "name": "python",
   "nbconvert_exporter": "python",
   "pygments_lexer": "ipython3",
   "version": "3.10.6"
  }
 },
 "nbformat": 4,
 "nbformat_minor": 5
}

{
 "cells": [
  {
   "cell_type": "markdown",
   "id": "0fe21b87",
   "metadata": {},
   "source": [
    "# Data Types\n",
    "*Evelyn Campbell, Ph.D.*\n",
    "\n",
    "Python offers a number of different data types that can be manipulated and used by various functions. Some important built-in Python data types include **integers**, **floats**, **booleans**, and **strings**. These data types can be used to build various data structures, such as lists, dictionaries, arrays, and DataFrames, which will be covered in Chapters [4](../../04/DataStructures.ipynb) and [6](../../06/DataFrames.ipynb). Here we will explore each data type and corresponding functions that are useful when working with these data types."
   ]
  },
  {
   "cell_type": "markdown",
   "id": "962e14a6",
   "metadata": {},
   "source": [
    "## Integers & Floats\n",
    "\n",
    "Integers and floating-point numbers (floats) are numerical data types that are often used to perform mathematical operations, as seen in Chapter [3.1](../../03/1/Operations.ipynb). Integers consist of whole numbers, while floats consist of whole numbers with decimal places. Floats can hold 15-17 digits following the decimal point and can be used to obtain more accurate calculations. However, it is easier and faster for a computer to do calculations using integers. Thus, one must weigh the pros and cons of using these data types when doing calculations and writing functions to obtain outcomes that are most aligned with their end goals. Let's take a look at these data types in more detail.\n"
   ]
  },
  {
   "cell_type": "code",
   "execution_count": 40,
   "id": "4999e805",
   "metadata": {},
   "outputs": [
    {
     "name": "stdout",
     "output_type": "stream",
     "text": [
      "4567\n",
      "45.67\n"
     ]
    }
   ],
   "source": [
    "print(4567)\n",
    "print(45.67)"
   ]
  },
  {
   "cell_type": "markdown",
   "id": "f6eb2187",
   "metadata": {},
   "source": [
    "Python has built-in **functions** that use values and expressions as an argument, or input, to perform a task and produce an output. A common one is the `print()` function, which displays an output. We will learn about a few more built-in functions that are associated with datatypes in this section. Built-in functions will be further discussed in depth in section [Section 3.5](../../03/5/IntroFunctions.ipynb)."
   ]
  },
  {
   "cell_type": "markdown",
   "id": "f89411c7",
   "metadata": {},
   "source": [
    "We can confirm the integer and float above by calling the `type()` function on these values."
   ]
  },
  {
   "cell_type": "code",
   "execution_count": 41,
   "id": "d80c645c",
   "metadata": {},
   "outputs": [
    {
     "data": {
      "text/plain": [
       "int"
      ]
     },
     "execution_count": 41,
     "metadata": {},
     "output_type": "execute_result"
    }
   ],
   "source": [
    "type(4567)"
   ]
  },
  {
   "cell_type": "code",
   "execution_count": 42,
   "id": "63f1f22a",
   "metadata": {},
   "outputs": [
    {
     "data": {
      "text/plain": [
       "float"
      ]
     },
     "execution_count": 42,
     "metadata": {},
     "output_type": "execute_result"
    }
   ],
   "source": [
    "type(45.67)"
   ]
  },
  {
   "cell_type": "markdown",
   "id": "a554c356",
   "metadata": {},
   "source": [
    "These numerical data types can be converted between floats and integers using the `float()` and `int()` functions. Let's see what happens when we convert the integer value 4567 to a float and the float value 45.67 to an integer:"
   ]
  },
  {
   "cell_type": "code",
   "execution_count": 44,
   "id": "e27b3d6b",
   "metadata": {},
   "outputs": [
    {
     "data": {
      "text/plain": [
       "4567.0"
      ]
     },
     "execution_count": 44,
     "metadata": {},
     "output_type": "execute_result"
    }
   ],
   "source": [
    "float(4567)"
   ]
  },
  {
   "cell_type": "code",
   "execution_count": 45,
   "id": "25c550da",
   "metadata": {},
   "outputs": [
    {
     "data": {
      "text/plain": [
       "45"
      ]
     },
     "execution_count": 45,
     "metadata": {},
     "output_type": "execute_result"
    }
   ],
   "source": [
    "int(45.67)"
   ]
  },
  {
   "cell_type": "markdown",
   "id": "0b7c63c9",
   "metadata": {},
   "source": [
    "We can see that the conversion of an integer to a float simply adds one significant figure after the decimal place. Moreover, converting a float to an integer rounds the number *down* to the nearest whole number."
   ]
  },
  {
   "cell_type": "markdown",
   "id": "5f59dfb7",
   "metadata": {},
   "source": [
    "## Booleans\n",
    "\n",
    "Booleans are a data type that consist of two possible outcomes: `True` or `False`. Under the hood, these values take on a binary value, where `True` is equal to 1 and `False` is equal to 0. Booleans are very commonly used with comparison operators (discussed more in [Section 3.4](../../03/4/Comparison.ipynb)), and because they also can have a numeric meaning, they can be used in calculations as well. Let's start with a simple example of a Boolean."
   ]
  },
  {
   "cell_type": "code",
   "execution_count": 1,
   "id": "d81771ea",
   "metadata": {},
   "outputs": [
    {
     "data": {
      "text/plain": [
       "False"
      ]
     },
     "execution_count": 1,
     "metadata": {},
     "output_type": "execute_result"
    }
   ],
   "source": [
    " 5 < 3"
   ]
  },
  {
   "cell_type": "markdown",
   "id": "061f80a6",
   "metadata": {},
   "source": [
    "Above, we consider the expression `5 < 3`, which reads \"5 is less than 3.\" Because 5 is *not* in fact less than 3, the entire statement is `False`, thus this expression evaluates to `False`.\n",
    "\n",
    "Recall that `False` has a numerical value of 0, so we can perform mathematical operations on Booleans. Evaluating `5 < 3` first and then adding 5 is the same as 0 + 5, as shown below."
   ]
  },
  {
   "cell_type": "code",
   "execution_count": 6,
   "id": "501a1360",
   "metadata": {},
   "outputs": [
    {
     "data": {
      "text/plain": [
       "5"
      ]
     },
     "execution_count": 6,
     "metadata": {},
     "output_type": "execute_result"
    }
   ],
   "source": [
    "(5 < 3) + 5"
   ]
  },
  {
   "cell_type": "markdown",
   "id": "64a58699",
   "metadata": {},
   "source": [
    "Note, there is a default order of operations when we include comparisons, which is outside the focus of this textbook. To impose an ordering, we can use parentheses, which, as in mathematical operations, are evaluated first."
   ]
  },
  {
   "cell_type": "markdown",
   "id": "071ba5da",
   "metadata": {},
   "source": [
    "We can combine expressions in further comparisons. We see that (5 < 3) is less than 10, and thus returns another Boolean value of `True`:"
   ]
  },
  {
   "cell_type": "code",
   "execution_count": 8,
   "id": "7b762697",
   "metadata": {},
   "outputs": [
    {
     "data": {
      "text/plain": [
       "True"
      ]
     },
     "execution_count": 8,
     "metadata": {},
     "output_type": "execute_result"
    }
   ],
   "source": [
    "(5 < 3) < 10"
   ]
  },
  {
   "cell_type": "markdown",
   "id": "37df7040",
   "metadata": {},
   "source": [
    "The `bool()` function converts an input (i.e. a numeric value, or, we will see later, a string, or even data structure) to a boolean value."
   ]
  },
  {
   "cell_type": "code",
   "execution_count": 46,
   "id": "eb07c4ae",
   "metadata": {},
   "outputs": [
    {
     "data": {
      "text/plain": [
       "True"
      ]
     },
     "execution_count": 46,
     "metadata": {},
     "output_type": "execute_result"
    }
   ],
   "source": [
    "bool(5)"
   ]
  },
  {
   "cell_type": "markdown",
   "id": "bf200212",
   "metadata": {},
   "source": [
    "Any input that has value, contains an element, or is nonzero will give an output of `True` when called into the `bool()` function. Any input that is null, empty, or zero will give a `False` output."
   ]
  },
  {
   "cell_type": "code",
   "execution_count": 47,
   "id": "96368899",
   "metadata": {},
   "outputs": [
    {
     "name": "stdout",
     "output_type": "stream",
     "text": [
      "True\n",
      "False\n"
     ]
    }
   ],
   "source": [
    "print(bool(6542))\n",
    "print(bool(0))"
   ]
  },
  {
   "cell_type": "markdown",
   "id": "c87c91a0",
   "metadata": {},
   "source": [
    "We can also convert boolean data types to integers and floats"
   ]
  },
  {
   "cell_type": "code",
   "execution_count": 50,
   "id": "96fb03d7",
   "metadata": {},
   "outputs": [
    {
     "name": "stdout",
     "output_type": "stream",
     "text": [
      "0\n",
      "1.0\n"
     ]
    }
   ],
   "source": [
    "print(int(False))\n",
    "print(float(True))"
   ]
  },
  {
   "cell_type": "markdown",
   "id": "102cae84",
   "metadata": {},
   "source": [
    "## Strings\n",
    "\n",
    "A **string** is a data type that can consist of **concatenated** alphanumeric and punctuation characters. According to the Merriam-Webster dictionary, to concatenate means *to link together in a series or chain*.\n",
    "\n",
    "Strings are recognized by Python through the use of single (' '), double (\" \"), or triple (''' ''') quotation marks. "
   ]
  },
  {
   "cell_type": "code",
   "execution_count": 65,
   "id": "9868b82e",
   "metadata": {},
   "outputs": [
    {
     "name": "stdout",
     "output_type": "stream",
     "text": [
      "This is a sentence.\n"
     ]
    }
   ],
   "source": [
    "print('This is a sentence.')"
   ]
  },
  {
   "cell_type": "markdown",
   "id": "71e0ea9c",
   "metadata": {},
   "source": [
    "Double quotes are recommended as a first option use, as they allow for the use of single quotations inside. In the example below, we get an error message when trying to use an apostrophe inside of single quotations."
   ]
  },
  {
   "cell_type": "code",
   "execution_count": 57,
   "id": "4e147421",
   "metadata": {},
   "outputs": [
    {
     "name": "stdout",
     "output_type": "stream",
     "text": [
      "This isn't easy.\n"
     ]
    }
   ],
   "source": [
    "print(\"This isn't easy.\")"
   ]
  },
  {
   "cell_type": "code",
   "execution_count": 58,
   "id": "5b4ec625",
   "metadata": {
    "tags": [
     "raises-exception"
    ]
   },
   "outputs": [
    {
     "ename": "SyntaxError",
     "evalue": "unterminated string literal (detected at line 1) (3546504085.py, line 1)",
     "output_type": "error",
     "traceback": [
      "\u001b[0;36m  Cell \u001b[0;32mIn[58], line 1\u001b[0;36m\u001b[0m\n\u001b[0;31m    print('This isn't easy.')\u001b[0m\n\u001b[0m                           ^\u001b[0m\n\u001b[0;31mSyntaxError\u001b[0m\u001b[0;31m:\u001b[0m unterminated string literal (detected at line 1)\n"
     ]
    }
   ],
   "source": [
    "print('This isn't easy.')"
   ]
  },
  {
   "cell_type": "markdown",
   "id": "101ed527",
   "metadata": {},
   "source": [
    "While the above error can be fixed by wrapping the string in double quotes in place of the single quotes, it can also be fixed by an **escape sequence**. Escape sequences are string modifiers that allow for the use of certain characters that would otherwise be misinterpreted by Python. Because strings are created by the use of quotes, the escape sequences `\\'` and `\\\"` allow for the use of quotes as part of a string:"
   ]
  },
  {
   "cell_type": "code",
   "execution_count": 59,
   "id": "18da1844",
   "metadata": {
    "scrolled": true
   },
   "outputs": [
    {
     "name": "stdout",
     "output_type": "stream",
     "text": [
      "This isn't easy.\n"
     ]
    }
   ],
   "source": [
    "print('This isn\\'t easy.')"
   ]
  },
  {
   "cell_type": "markdown",
   "id": "2dae3eff",
   "metadata": {},
   "source": [
    "Other useful escape sequences include `\\n` and `\\t`. These allow for a new line and tab spacing to be added to a string, respectively."
   ]
  },
  {
   "cell_type": "code",
   "execution_count": 69,
   "id": "241848e8",
   "metadata": {
    "scrolled": true
   },
   "outputs": [
    {
     "name": "stdout",
     "output_type": "stream",
     "text": [
      "This is the first sentence. \n",
      "This is the second sentence! \tThis is the third sentence?\n"
     ]
    }
   ],
   "source": [
    "print('''This is the first sentence. \\nThis is the second sentence! \\tThis is the third sentence?''')"
   ]
  },
  {
   "cell_type": "markdown",
   "id": "a46d5107",
   "metadata": {},
   "source": [
    "We can **concatenate,** or join together, strings using the mathematical operations of `+` or `*`."
   ]
  },
  {
   "cell_type": "code",
   "execution_count": 70,
   "id": "3b40b622",
   "metadata": {},
   "outputs": [
    {
     "name": "stdout",
     "output_type": "stream",
     "text": [
      "This is a sentence.This is a sentence.\n",
      "This is a sentence.This is a sentence.\n"
     ]
    }
   ],
   "source": [
    "print('This is a sentence.'+'This is a sentence.')\n",
    "\n",
    "print('This is a sentence.' * 2)\n"
   ]
  },
  {
   "cell_type": "markdown",
   "id": "80d3ecc4",
   "metadata": {},
   "source": [
    "In the above example, we see that Python prints the sentence twice, but these sentences run into each other (i.e. there is no space in between). We have to specifically tell Python to add this space. We can do this by printing the string variables that we want along with a space in quotation marks (\" \"). We can also do this by adding multiple arguments to the `print()` function, separated by a comma."
   ]
  },
  {
   "cell_type": "code",
   "execution_count": 72,
   "id": "c57fbd1b",
   "metadata": {},
   "outputs": [
    {
     "name": "stdout",
     "output_type": "stream",
     "text": [
      "This is a sentence. This is a sentence.\n",
      "This is a sentence. This is a sentence.\n"
     ]
    }
   ],
   "source": [
    "print('This is a sentence.' + \" \" + 'This is a sentence.')\n",
    "print('This is a sentence.', 'This is a sentence.')"
   ]
  },
  {
   "cell_type": "markdown",
   "id": "181788ba",
   "metadata": {},
   "source": [
    "Note, string concatenation joins multiple string expressions together, but cannot be used in combination with numerical expressions since they are not the same data type."
   ]
  },
  {
   "cell_type": "code",
   "execution_count": 73,
   "id": "f066ebc0",
   "metadata": {},
   "outputs": [
    {
     "ename": "TypeError",
     "evalue": "unsupported operand type(s) for +: 'int' and 'str'",
     "output_type": "error",
     "traceback": [
      "\u001b[0;31m---------------------------------------------------------------------------\u001b[0m",
      "\u001b[0;31mTypeError\u001b[0m                                 Traceback (most recent call last)",
      "Cell \u001b[0;32mIn[73], line 1\u001b[0m\n\u001b[0;32m----> 1\u001b[0m \u001b[38;5;241m2\u001b[39m \u001b[38;5;241m+\u001b[39m \u001b[38;5;124m'\u001b[39m\u001b[38;5;124mThis is a sentence.\u001b[39m\u001b[38;5;124m'\u001b[39m\n",
      "\u001b[0;31mTypeError\u001b[0m: unsupported operand type(s) for +: 'int' and 'str'"
     ]
    }
   ],
   "source": [
    "2 + 'This is a sentence.'"
   ]
  },
  {
   "cell_type": "markdown",
   "id": "ca3e1bc1",
   "metadata": {},
   "source": [
    "Escape sequences also can be used in the `print()` function as an argument or through concatenation:"
   ]
  },
  {
   "cell_type": "code",
   "execution_count": 75,
   "id": "74b515d1",
   "metadata": {
    "scrolled": true
   },
   "outputs": [
    {
     "name": "stdout",
     "output_type": "stream",
     "text": [
      "This is a sentence. \t This isn't easy.\n",
      "\n",
      "\n",
      "This isn't easy.\tThis is a sentence.\n"
     ]
    }
   ],
   "source": [
    "# Escape sequence used as an argument in the print function\n",
    "print('This is a sentence.', '\\t', 'This isn\\'t easy.') \n",
    "# Escape sequence used to print a blank line\n",
    "print('\\n')                  \n",
    "# Escape sequence concatenated to strings in the print function\n",
    "print('This isn\\'t easy.' + '\\t' + 'This is a sentence.')"
   ]
  },
  {
   "cell_type": "markdown",
   "id": "ee598b42",
   "metadata": {},
   "source": [
    "Numeric values can also be recognized as a string by putting them within quotation marks or using them as an argument in the `str()` function."
   ]
  },
  {
   "cell_type": "code",
   "execution_count": 76,
   "id": "2357bb90",
   "metadata": {},
   "outputs": [
    {
     "name": "stdout",
     "output_type": "stream",
     "text": [
      "2\n",
      "True\n"
     ]
    }
   ],
   "source": [
    "print(\"2\")\n",
    "print(True)"
   ]
  },
  {
   "cell_type": "markdown",
   "id": "01d68864",
   "metadata": {},
   "source": [
    "We can confirm that these are indeed strings by calling the `type()` function on these variables, which can be used on any variable to check its data type."
   ]
  },
  {
   "cell_type": "code",
   "execution_count": 78,
   "id": "eeb05252",
   "metadata": {
    "scrolled": true
   },
   "outputs": [
    {
     "name": "stdout",
     "output_type": "stream",
     "text": [
      "<class 'str'>\n",
      "<class 'bool'>\n"
     ]
    }
   ],
   "source": [
    "print(type(\"2\"))\n",
    "print(type(True))"
   ]
  },
  {
   "cell_type": "markdown",
   "id": "c8160dd5",
   "metadata": {},
   "source": [
    "Keep in mind that when a numerical value is converted to a string, it can no longer be used to perform certain mathematical calculations, such as division, subtraction, or exponentiation."
   ]
  },
  {
   "cell_type": "code",
   "execution_count": 15,
   "id": "4b93c80d",
   "metadata": {
    "tags": [
     "raises-exception"
    ]
   },
   "outputs": [
    {
     "ename": "TypeError",
     "evalue": "unsupported operand type(s) for ** or pow(): 'str' and 'int'",
     "output_type": "error",
     "traceback": [
      "\u001b[0;31m---------------------------------------------------------------------------\u001b[0m",
      "\u001b[0;31mTypeError\u001b[0m                                 Traceback (most recent call last)",
      "Cell \u001b[0;32mIn [15], line 1\u001b[0m\n\u001b[0;32m----> 1\u001b[0m \u001b[43mtwo\u001b[49m\u001b[43m \u001b[49m\u001b[38;5;241;43m*\u001b[39;49m\u001b[38;5;241;43m*\u001b[39;49m\u001b[43m \u001b[49m\u001b[38;5;241;43m2\u001b[39;49m\n",
      "\u001b[0;31mTypeError\u001b[0m: unsupported operand type(s) for ** or pow(): 'str' and 'int'"
     ]
    }
   ],
   "source": [
    "\"2\" ** 2"
   ]
  },
  {
   "cell_type": "markdown",
   "id": "9199c7f8",
   "metadata": {},
   "source": [
    "It can be used in addition and multiplication, but more so in a \"stringy\" way and not a \"mathy\" way, that is through concatenation rather than mathematical operations."
   ]
  },
  {
   "cell_type": "code",
   "execution_count": 77,
   "id": "c679b2cf",
   "metadata": {},
   "outputs": [
    {
     "data": {
      "text/plain": [
       "'22'"
      ]
     },
     "execution_count": 77,
     "metadata": {},
     "output_type": "execute_result"
    }
   ],
   "source": [
    "\"2\" + \"2\""
   ]
  },
  {
   "cell_type": "markdown",
   "id": "8cfb2a07",
   "metadata": {},
   "source": [
    "This is the only time when 2 + 2 equals 22. <span class=\"emoji\">🙃</span>"
   ]
  },
  {
   "cell_type": "markdown",
   "id": "530fbad4",
   "metadata": {},
   "source": [
    "We can also convert numerical values in strings to integers and floats\n"
   ]
  },
  {
   "cell_type": "code",
   "execution_count": 81,
   "id": "cf315206",
   "metadata": {},
   "outputs": [
    {
     "name": "stdout",
     "output_type": "stream",
     "text": [
      "45\n",
      "45.0\n"
     ]
    }
   ],
   "source": [
    "print(int('45'))\n",
    "print(float('45'))"
   ]
  },
  {
   "cell_type": "markdown",
   "id": "049ff578",
   "metadata": {},
   "source": [
    "Remember, the `int()` and `float()` functions can only convert recognized numerical values. A string of letters cannot be converted to a float or integer."
   ]
  },
  {
   "cell_type": "code",
   "execution_count": 23,
   "id": "24d13d34",
   "metadata": {
    "tags": [
     "raises-exception"
    ]
   },
   "outputs": [
    {
     "ename": "ValueError",
     "evalue": "invalid literal for int() with base 10: 'Sorry'",
     "output_type": "error",
     "traceback": [
      "\u001b[0;31m---------------------------------------------------------------------------\u001b[0m",
      "\u001b[0;31mValueError\u001b[0m                                Traceback (most recent call last)",
      "Cell \u001b[0;32mIn [23], line 1\u001b[0m\n\u001b[0;32m----> 1\u001b[0m \u001b[38;5;28;43mint\u001b[39;49m\u001b[43m(\u001b[49m\u001b[38;5;124;43m'\u001b[39;49m\u001b[38;5;124;43mSorry\u001b[39;49m\u001b[38;5;124;43m'\u001b[39;49m\u001b[43m)\u001b[49m\n",
      "\u001b[0;31mValueError\u001b[0m: invalid literal for int() with base 10: 'Sorry'"
     ]
    }
   ],
   "source": [
    "int('Sorry')"
   ]
  },
  {
   "cell_type": "markdown",
   "id": "e37e3887",
   "metadata": {},
   "source": [
    "By understanding data types, we can begin to use them in other analyses and functionalities in Python. Next, we will learn how to use data types in comparisons, which can help further down the line in functions ([Chapter 3.5](../5/IntroFunctions.ipynb)), for loops ([Chapter 5.3](../../05/3/Control_Statements_Iteration.ipynb)), and subsetting data from DataFrames ([Chapter 6.6](../../06/6/Select_Condition.ipynb))."
   ]
  }
 ],
 "metadata": {
  "kernelspec": {
   "display_name": "Python 3 (ipykernel)",
   "language": "python",
   "name": "python3"
  },
  "language_info": {
   "codemirror_mode": {
    "name": "ipython",
    "version": 3
   },
   "file_extension": ".py",
   "mimetype": "text/x-python",
   "name": "python",
   "nbconvert_exporter": "python",
   "pygments_lexer": "ipython3",
   "version": "3.11.11"
  }
 },
 "nbformat": 4,
 "nbformat_minor": 5
}

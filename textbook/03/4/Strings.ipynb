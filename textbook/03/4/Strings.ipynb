{
 "cells": [
  {
   "cell_type": "markdown",
   "id": "eb6ef532",
   "metadata": {},
   "source": [
    "## Strings\n",
    "*Amanda R. Kube Jotte*\n",
    "\n",
    "A **string** is a data type that can consist of **concatenated** (ie linked or chained) alphanumeric and punctuation characters. Strings are recognized by Python through the use of single (' '), double (\" \"), or triple (''' ''') quotation marks. \n",
    "\n",
    "For example, I can create a string placing the text that I want in my string between single, double, or triple quotes like below. All 3 will produce the same string."
   ]
  },
  {
   "cell_type": "code",
   "execution_count": 1,
   "id": "be761beb",
   "metadata": {},
   "outputs": [
    {
     "data": {
      "text/plain": [
       "'This is a sentence.'"
      ]
     },
     "execution_count": 1,
     "metadata": {},
     "output_type": "execute_result"
    }
   ],
   "source": [
    "'This is a sentence.'"
   ]
  },
  {
   "cell_type": "code",
   "execution_count": 3,
   "id": "9a5d51e4",
   "metadata": {},
   "outputs": [
    {
     "data": {
      "text/plain": [
       "'This is also a sentence.'"
      ]
     },
     "execution_count": 3,
     "metadata": {},
     "output_type": "execute_result"
    }
   ],
   "source": [
    "\"This is also a sentence.\""
   ]
  },
  {
   "cell_type": "code",
   "execution_count": 4,
   "id": "961d595b",
   "metadata": {},
   "outputs": [
    {
     "data": {
      "text/plain": [
       "'This is a third sentence.'"
      ]
     },
     "execution_count": 4,
     "metadata": {},
     "output_type": "execute_result"
    }
   ],
   "source": [
    "'''This is a third sentence.'''"
   ]
  },
  {
   "cell_type": "markdown",
   "id": "1f3311eb",
   "metadata": {},
   "source": [
    "The code cells above show output printed below them because they contain an *expression*. Recall from the [previous section](../3/Assignments.ipynb) that expressions are code statements that are not assignment statements (that is, they do not use an `=`). \n",
    "\n",
    "```{note}\n",
    "If an expression is the only line in a code cell, or if it is the last line in a cell, its result will automatically display below the cell. When this happens, we say that the code is *printing to the console*. You can think of this like your calculator showing you the result after you type something in.\n",
    "```\n",
    "\n",
    "## Creating and Displaying Strings\n",
    "\n",
    "Usually, we wouldn't just write a string in a code cell like this. If we want to print something to the console, we can use the `print()` function. You've seen this function before, but we have not properly introduced it. The `print()` function converts its input(s) to a string, and prints it. It does not need to be the only line or the last line to print to the console. It can be anywhere in your code."
   ]
  },
  {
   "cell_type": "code",
   "execution_count": null,
   "id": "9a0ae7e8",
   "metadata": {},
   "outputs": [
    {
     "name": "stdout",
     "output_type": "stream",
     "text": [
      "This is a sentence.\n"
     ]
    },
    {
     "data": {
      "text/plain": [
       "5"
      ]
     },
     "execution_count": 5,
     "metadata": {},
     "output_type": "execute_result"
    }
   ],
   "source": [
    "var = 3 + 2\n",
    "print('Today is a sunny day in Chicago.')\n",
    "var"
   ]
  },
  {
   "cell_type": "markdown",
   "id": "a951816d",
   "metadata": {},
   "source": [
    "The cell above creates a variable named `var`, prints the string `'Today is a sunny day in Chicago.'`, and then the expression in the last line `var` will print the results of `var` (in this case 5) to the console. So we see there are two printed outputs above.\n",
    "\n",
    "You will later in this book that printing things to the console can be very useful. For now, it is useful to start learning how the `print()` function works and how strings can be used in Python."
   ]
  },
  {
   "cell_type": "markdown",
   "id": "81ae4086",
   "metadata": {},
   "source": [
    "When creating strings in Python, inside or outside of `print()`, it is recommended to use double quotes instead of single quotes, as they allow for the use of single quotations inside. In the example below, we get an error message when trying to use an apostrophe inside of single quotations."
   ]
  },
  {
   "cell_type": "code",
   "execution_count": null,
   "id": "34b6995c",
   "metadata": {},
   "outputs": [
    {
     "name": "stdout",
     "output_type": "stream",
     "text": [
      "This isn't easy.\n"
     ]
    }
   ],
   "source": [
    "print(\"Today's the day!\")"
   ]
  },
  {
   "cell_type": "code",
   "execution_count": null,
   "id": "64d8dab1",
   "metadata": {},
   "outputs": [
    {
     "ename": "SyntaxError",
     "evalue": "unterminated string literal (detected at line 1) (3546504085.py, line 1)",
     "output_type": "error",
     "traceback": [
      "\u001b[0;36m  Cell \u001b[0;32mIn[58], line 1\u001b[0;36m\u001b[0m\n",
      "\u001b[0;31m    print('This isn't easy.')\u001b[0m\n",
      "\u001b[0m                           ^\u001b[0m\n",
      "\u001b[0;31mSyntaxError\u001b[0m\u001b[0;31m:\u001b[0m unterminated string literal (detected at line 1)\n"
     ]
    }
   ],
   "source": [
    "print('Today's the day!')"
   ]
  },
  {
   "cell_type": "markdown",
   "id": "f083e002",
   "metadata": {},
   "source": [
    "While the above error can be fixed by wrapping the string in double quotes in place of the single quotes, it can also be fixed by an **escape sequence**. Escape sequences are string modifiers that allow for the use of certain characters that would otherwise be misinterpreted by Python. Because strings are created by the use of quotes, the escape sequences `\\'` and `\\\"` allow for the use of quotes as part of a string:"
   ]
  },
  {
   "cell_type": "code",
   "execution_count": null,
   "id": "bc4a889b",
   "metadata": {},
   "outputs": [
    {
     "name": "stdout",
     "output_type": "stream",
     "text": [
      "This isn't easy.\n"
     ]
    }
   ],
   "source": [
    "print('Today\\'s the day!')"
   ]
  },
  {
   "cell_type": "markdown",
   "id": "8744f6e2",
   "metadata": {},
   "source": [
    "Other useful escape sequences include `\\n` and `\\t`. These allow for a new line and tab spacing to be added to a string, respectively."
   ]
  },
  {
   "cell_type": "code",
   "execution_count": null,
   "id": "562bcc23",
   "metadata": {},
   "outputs": [
    {
     "name": "stdout",
     "output_type": "stream",
     "text": [
      "This is the first sentence. \n",
      "This is the second sentence! \tThis is the third sentence?\n"
     ]
    }
   ],
   "source": [
    "print(\"This is the first sentence. \\nThis sentence is on a new line! \\tThis sentence comes after a tab.\")"
   ]
  },
  {
   "cell_type": "markdown",
   "id": "ae7515ec",
   "metadata": {},
   "source": [
    "Triple quotes are useful if you want to create a string that spans multiple lines."
   ]
  },
  {
   "cell_type": "code",
   "execution_count": null,
   "id": "d3ad84e4",
   "metadata": {},
   "outputs": [
    {
     "name": "stdout",
     "output_type": "stream",
     "text": [
      "This is sentence 1.\n",
      "This is sentence 2.\n",
      "This is sentence 3.\n",
      "\n"
     ]
    },
    {
     "data": {
      "text/plain": [
       "'This is sentence 1.\\nThis is sentence 2.\\nThis is sentence 3.\\n'"
      ]
     },
     "execution_count": 7,
     "metadata": {},
     "output_type": "execute_result"
    }
   ],
   "source": [
    "my_par = '''This is line 1.\n",
    "This is line 2.\n",
    "This is line 3.\n",
    "'''\n",
    "print(my_par) # display the text using the print() function\n",
    "my_par # display the text without the print function"
   ]
  },
  {
   "cell_type": "markdown",
   "id": "1d441c32",
   "metadata": {},
   "source": [
    "Above, I created a variable named `my_par` that stores three sentences, each separated by a newline. I then used the `print()` function to display the text, and also included `my_par` on the last line of the cell to show how Python displays it directly.\n",
    "\n",
    "```{note}\n",
    "The two outputs are formatted differently.  \n",
    "- Without `print()`, Python shows the text *literally*—including the special newline character (`\\n`) instead of starting a new line, and with quotation marks around the text.  \n",
    "- With `print()`, Python formats the text in a more natural way: it starts new lines where the `\\n` appears, and it removes the quotation marks.  \n",
    "```"
   ]
  },
  {
   "cell_type": "markdown",
   "id": "898618a7",
   "metadata": {},
   "source": [
    "Formatting text nicely isn't the only benefit of using the `print()` function. Recall, the `print()` function converts its input(s) (also called **arguments**, see [the next section](../5/IntroFunctions.ipynb) for more information) to a string, and prints it. So far, we've given the function only one input -- meaning we have put one string inside the parentheses. We could give it multiple strings:"
   ]
  },
  {
   "cell_type": "code",
   "execution_count": 9,
   "id": "2604558e",
   "metadata": {},
   "outputs": [
    {
     "name": "stdout",
     "output_type": "stream",
     "text": [
      "This is the first input. This is another input.\n",
      "There can also be three or more inputs.\n"
     ]
    }
   ],
   "source": [
    "print(\"This is the first input.\", \"This is another input.\") # We separate inputs by commas\n",
    "\n",
    "# The function separates inputs with a space and makes them one large string\n",
    "print(\"There can\", \"also be\", \"three or more inputs.\") "
   ]
  },
  {
   "cell_type": "markdown",
   "id": "9cb8cead",
   "metadata": {},
   "source": [
    "Or even inputs that are not strings. Recall, we did this in [Section 3.2](../2/Booleans.ipynb)."
   ]
  },
  {
   "cell_type": "code",
   "execution_count": 10,
   "id": "f739a489",
   "metadata": {},
   "outputs": [
    {
     "name": "stdout",
     "output_type": "stream",
     "text": [
      "1.5 == 0.8: False\n"
     ]
    }
   ],
   "source": [
    "# The second input here is a Boolean. Python makes it a string and combines the strings\n",
    "print(\"1.5 == 0.8:\", 1.5 == 0.8)"
   ]
  },
  {
   "cell_type": "markdown",
   "id": "2f685286",
   "metadata": {},
   "source": [
    "## String Operations\n",
    "Joining together strings is also called **concatenation**. The `print()` function is not the only way to join together strings. We can **concatenate** strings using the mathematical operators: `+` and `*`."
   ]
  },
  {
   "cell_type": "code",
   "execution_count": 11,
   "id": "f39640c2",
   "metadata": {},
   "outputs": [
    {
     "data": {
      "text/plain": [
       "'Moses supposes'"
      ]
     },
     "execution_count": 11,
     "metadata": {},
     "output_type": "execute_result"
    }
   ],
   "source": [
    "str1 = \"Moses supposes\"\n",
    "str1"
   ]
  },
  {
   "cell_type": "code",
   "execution_count": 12,
   "id": "35a4f492",
   "metadata": {},
   "outputs": [
    {
     "data": {
      "text/plain": [
       "'his toeses are roses.'"
      ]
     },
     "execution_count": 12,
     "metadata": {},
     "output_type": "execute_result"
    }
   ],
   "source": [
    "str2 = \"his toeses are roses.\"\n",
    "str2"
   ]
  },
  {
   "cell_type": "code",
   "execution_count": 13,
   "id": "b9bdd9ff",
   "metadata": {},
   "outputs": [
    {
     "data": {
      "text/plain": [
       "'Moses supposeshis toeses are roses.'"
      ]
     },
     "execution_count": 13,
     "metadata": {},
     "output_type": "execute_result"
    }
   ],
   "source": [
    "str1 + str2"
   ]
  },
  {
   "cell_type": "markdown",
   "id": "523e0d51",
   "metadata": {},
   "source": [
    "When we concatenate strings using `+`, it is done *very literally*. As there is no space at the end of `str1` or at the beginning of `str2`, when we join them together, there is no space between `supposes` and `his`. We can fix this by either changing the strings or concatenating a space in the middle."
   ]
  },
  {
   "cell_type": "code",
   "execution_count": 14,
   "id": "8cacc94b",
   "metadata": {},
   "outputs": [
    {
     "data": {
      "text/plain": [
       "'Moses supposes his toeses are roses.'"
      ]
     },
     "execution_count": 14,
     "metadata": {},
     "output_type": "execute_result"
    }
   ],
   "source": [
    "str1 + \" \" + str2"
   ]
  },
  {
   "cell_type": "markdown",
   "id": "c2143b4b",
   "metadata": {},
   "source": [
    "You can think of `+` as *squishing* together the strings on either side of the operator. \n",
    "\n",
    "```{note}\n",
    "The `+` operator can be used with numeric data or with strings but NOT with a combination of both.\n",
    "\n",
    "```python\n",
    "3 + 2.75 # This will work\n",
    "```\n",
    "\n",
    "```python\n",
    "\"Hello \" + \"world!\" # This will also work\n",
    "```\n",
    "\n",
    "```python\n",
    "9 + \" lives\" # This will produce an TypeError\n",
    "```\n",
    "\n",
    "If you want to concatenate numbers and text, you have to first turn the numeric data into a string. You can do this by placing it in quotations like below:\n",
    "\n",
    "```python\n",
    "\"9\" + \" lives\"\n",
    "```\n",
    "\n",
    "Or you can use the `str()` function to create a string.\n",
    "\n",
    "```python\n",
    "str(9) + \" lives\"\n",
    "```\n",
    "\n",
    "Keep in mind that when a numerical value is converted to a string, it can no longer be used to perform certain mathematical calculations, such as division, subtraction, or exponentiation.\n",
    "\n",
    "```python\n",
    "\"2\" ** 2 # this will produce a TypeError\n",
    "```\n",
    "\n",
    "```python\n",
    "# This is concatenation not addition\n",
    "\"2\" + \"2\" # The only time 2 + 2 = 22\n",
    "```\n",
    "\n",
    "```\n",
    "\n",
    "We can also use the `*` operator on strings. This will concatenate the string with copies of itself. For example, the code below concatenates two copies of the string."
   ]
  },
  {
   "cell_type": "code",
   "execution_count": 16,
   "id": "ccf4be69",
   "metadata": {},
   "outputs": [
    {
     "data": {
      "text/plain": [
       "'wakawaka'"
      ]
     },
     "execution_count": 16,
     "metadata": {},
     "output_type": "execute_result"
    }
   ],
   "source": [
    "\"waka\" * 2"
   ]
  },
  {
   "cell_type": "markdown",
   "id": "df412292",
   "metadata": {},
   "source": [
    "We can \"multiply\" strings by any integer."
   ]
  },
  {
   "cell_type": "code",
   "execution_count": 19,
   "id": "eb58ac7a",
   "metadata": {},
   "outputs": [
    {
     "data": {
      "text/plain": [
       "'wakawakawakawakawakawakawaka'"
      ]
     },
     "execution_count": 19,
     "metadata": {},
     "output_type": "execute_result"
    }
   ],
   "source": [
    "\"waka\" * 7"
   ]
  },
  {
   "cell_type": "markdown",
   "id": "44dadebc",
   "metadata": {},
   "source": [
    "But, we cannot use floats:"
   ]
  },
  {
   "cell_type": "code",
   "execution_count": null,
   "id": "cc851b09",
   "metadata": {},
   "outputs": [
    {
     "ename": "TypeError",
     "evalue": "can't multiply sequence by non-int of type 'float'",
     "output_type": "error",
     "traceback": [
      "\u001b[0;31m---------------------------------------------------------------------------\u001b[0m",
      "\u001b[0;31mTypeError\u001b[0m                                 Traceback (most recent call last)",
      "Cell \u001b[0;32mIn[17], line 1\u001b[0m\n\u001b[0;32m----> 1\u001b[0m \u001b[38;5;124;43m\"\u001b[39;49m\u001b[38;5;124;43mwake\u001b[39;49m\u001b[38;5;124;43m\"\u001b[39;49m\u001b[43m \u001b[49m\u001b[38;5;241;43m*\u001b[39;49m\u001b[43m \u001b[49m\u001b[38;5;241;43m1.5\u001b[39;49m\n",
      "\u001b[0;31mTypeError\u001b[0m: can't multiply sequence by non-int of type 'float'"
     ]
    }
   ],
   "source": [
    "\"waka\" * 1.5"
   ]
  },
  {
   "cell_type": "markdown",
   "id": "6ccaac0a",
   "metadata": {},
   "source": [
    "## Checking and Changing Data Types\n",
    "\n",
    "If you need to confirm the data types of the values you are using, you can use the `type()` function that we learned in [Section 3.1](../1/NumericData.ipynb). The code below will print the data types of `\"waka\"`, `1.5`, and `7` which we should see are string (or `str`), float, and integer (or `int`). "
   ]
  },
  {
   "cell_type": "code",
   "execution_count": 20,
   "id": "dbfa9279",
   "metadata": {},
   "outputs": [
    {
     "name": "stdout",
     "output_type": "stream",
     "text": [
      "<class 'str'>\n",
      "<class 'float'>\n",
      "<class 'int'>\n"
     ]
    }
   ],
   "source": [
    "print(type(\"waka\"))\n",
    "print(type(1.5))\n",
    "print(type(7))"
   ]
  },
  {
   "cell_type": "markdown",
   "id": "bb07e449",
   "metadata": {},
   "source": [
    "Often, this is more useful if we've created variables to store these values and have forgotten what type of data we stored."
   ]
  },
  {
   "cell_type": "code",
   "execution_count": 23,
   "id": "78d069f2",
   "metadata": {},
   "outputs": [],
   "source": [
    "my_var = 4 < 7\n",
    "my_other_var = \"It's raining cats and dogs.\""
   ]
  },
  {
   "cell_type": "code",
   "execution_count": null,
   "id": "f6b84dc3",
   "metadata": {},
   "outputs": [
    {
     "data": {
      "text/plain": [
       "bool"
      ]
     },
     "execution_count": 24,
     "metadata": {},
     "output_type": "execute_result"
    }
   ],
   "source": [
    "type(my_var) # we don't have to print the result if its the last/only line"
   ]
  },
  {
   "cell_type": "code",
   "execution_count": 25,
   "id": "c171d455",
   "metadata": {},
   "outputs": [
    {
     "data": {
      "text/plain": [
       "str"
      ]
     },
     "execution_count": 25,
     "metadata": {},
     "output_type": "execute_result"
    }
   ],
   "source": [
    "type(my_other_var)"
   ]
  },
  {
   "cell_type": "markdown",
   "id": "5372866e",
   "metadata": {},
   "source": [
    "We've seen the `int()`, `float()`, and `str()` functions which can change the data type of their input. We can also use these to convert numerical values inside strings to integers and floats."
   ]
  },
  {
   "cell_type": "code",
   "execution_count": null,
   "id": "68a02c5d",
   "metadata": {},
   "outputs": [
    {
     "name": "stdout",
     "output_type": "stream",
     "text": [
      "45\n",
      "45.0\n"
     ]
    }
   ],
   "source": [
    "print(int('45'))\n",
    "print(float('45'))"
   ]
  },
  {
   "cell_type": "markdown",
   "id": "e6be794b",
   "metadata": {},
   "source": [
    "Remember, the `int()` and `float()` functions can only convert recognized numerical values. A string of letters cannot be converted to a float or integer."
   ]
  },
  {
   "cell_type": "code",
   "execution_count": null,
   "id": "740494cd",
   "metadata": {},
   "outputs": [
    {
     "ename": "ValueError",
     "evalue": "invalid literal for int() with base 10: 'Sorry'",
     "output_type": "error",
     "traceback": [
      "\u001b[0;31m---------------------------------------------------------------------------\u001b[0m\n",
      "\u001b[0;31mValueError\u001b[0m                                Traceback (most recent call last)\n",
      "Cell \u001b[0;32mIn [23], line 1\u001b[0m\n",
      "\u001b[0;32m----> 1\u001b[0m \u001b[38;5;28;43mint\u001b[39;49m\u001b[43m(\u001b[49m\u001b[38;5;124;43m'\u001b[39;49m\u001b[38;5;124;43mSorry\u001b[39;49m\u001b[38;5;124;43m'\u001b[39;49m\u001b[43m)\u001b[49m\n",
      "\n",
      "\u001b[0;31mValueError\u001b[0m: invalid literal for int() with base 10: 'Sorry'"
     ]
    }
   ],
   "source": [
    "int('Sorry')"
   ]
  },
  {
   "cell_type": "markdown",
   "id": "a481ada0",
   "metadata": {},
   "source": [
    "## String Comparisons\n",
    "\n",
    "In [Section 3.2](../2/Booleans.ipynb) we showed examples of comparisons of integers and floats, but strings can also be used with comparison operators."
   ]
  },
  {
   "cell_type": "code",
   "execution_count": null,
   "id": "ad68d2ab",
   "metadata": {},
   "outputs": [],
   "source": [
    "a = 'Dan'\n",
    "b = 'Mike'\n",
    "\n",
    "print(\"a == b:\", a == b)\n",
    "print(\"a != b:\", a != b)\n",
    "print(\"a < b:\", a < b)\n",
    "print(\"a <= b:\", a <= b)\n",
    "print(\"a > b:\", a > b)\n",
    "print(\"a >= b:\", a >= b)"
   ]
  },
  {
   "cell_type": "markdown",
   "id": "0e431b67",
   "metadata": {},
   "source": [
    "As you can see, Python compared the two strings and found them different, but is also able to use inequality operators to compare them. The order is determined [lexicographically](https://en.wikipedia.org/wiki/Lexicographic_order) using the ASCII values of the characters.\n",
    "\n",
    "Letter case is important for comparisons:"
   ]
  },
  {
   "cell_type": "code",
   "execution_count": null,
   "id": "4ce094f8",
   "metadata": {},
   "outputs": [],
   "source": [
    "'Dan' == 'dan'"
   ]
  }
 ],
 "metadata": {
  "kernelspec": {
   "display_name": "Python 3",
   "language": "python",
   "name": "python3"
  },
  "language_info": {
   "codemirror_mode": {
    "name": "ipython",
    "version": 3
   },
   "file_extension": ".py",
   "mimetype": "text/x-python",
   "name": "python",
   "nbconvert_exporter": "python",
   "pygments_lexer": "ipython3",
   "version": "3.9.6"
  }
 },
 "nbformat": 4,
 "nbformat_minor": 5
}

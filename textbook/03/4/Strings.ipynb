{
 "cells": [
  {
   "cell_type": "markdown",
   "id": "eb6ef532",
   "metadata": {},
   "source": [
    "## Strings\n",
    "*Amanda R. Kube Jotte, Evelyn Campbell, and Dan L. Nicolae*\n",
    "\n",
    "A **string** is a data type that can consist of **concatenated** (ie linked or chained) alphanumeric and punctuation characters.\n",
    "\n",
    "Strings are recognized by Python through the use of single (' '), double (\" \"), or triple (''' ''') quotation marks. "
   ]
  },
  {
   "cell_type": "code",
   "execution_count": null,
   "id": "be761beb",
   "metadata": {},
   "outputs": [
    {
     "name": "stdout",
     "output_type": "stream",
     "text": [
      "This is a sentence.\n"
     ]
    }
   ],
   "source": [
    "print('This is a sentence.')"
   ]
  },
  {
   "cell_type": "markdown",
   "id": "81ae4086",
   "metadata": {},
   "source": [
    "Double quotes are recommended as a first option use, as they allow for the use of single quotations inside. In the example below, we get an error message when trying to use an apostrophe inside of single quotations."
   ]
  },
  {
   "cell_type": "code",
   "execution_count": null,
   "id": "34b6995c",
   "metadata": {},
   "outputs": [
    {
     "name": "stdout",
     "output_type": "stream",
     "text": [
      "This isn't easy.\n"
     ]
    }
   ],
   "source": [
    "print(\"This isn't easy.\")"
   ]
  },
  {
   "cell_type": "code",
   "execution_count": null,
   "id": "64d8dab1",
   "metadata": {},
   "outputs": [
    {
     "ename": "SyntaxError",
     "evalue": "unterminated string literal (detected at line 1) (3546504085.py, line 1)",
     "output_type": "error",
     "traceback": [
      "\u001b[0;36m  Cell \u001b[0;32mIn[58], line 1\u001b[0;36m\u001b[0m\n",
      "\u001b[0;31m    print('This isn't easy.')\u001b[0m\n",
      "\u001b[0m                           ^\u001b[0m\n",
      "\u001b[0;31mSyntaxError\u001b[0m\u001b[0;31m:\u001b[0m unterminated string literal (detected at line 1)\n"
     ]
    }
   ],
   "source": [
    "print('This isn't easy.')"
   ]
  },
  {
   "cell_type": "markdown",
   "id": "f083e002",
   "metadata": {},
   "source": [
    "While the above error can be fixed by wrapping the string in double quotes in place of the single quotes, it can also be fixed by an **escape sequence**. Escape sequences are string modifiers that allow for the use of certain characters that would otherwise be misinterpreted by Python. Because strings are created by the use of quotes, the escape sequences `\\'` and `\\\"` allow for the use of quotes as part of a string:"
   ]
  },
  {
   "cell_type": "code",
   "execution_count": null,
   "id": "bc4a889b",
   "metadata": {},
   "outputs": [
    {
     "name": "stdout",
     "output_type": "stream",
     "text": [
      "This isn't easy.\n"
     ]
    }
   ],
   "source": [
    "print('This isn\\'t easy.')"
   ]
  },
  {
   "cell_type": "markdown",
   "id": "8744f6e2",
   "metadata": {},
   "source": [
    "Other useful escape sequences include `\\n` and `\\t`. These allow for a new line and tab spacing to be added to a string, respectively."
   ]
  },
  {
   "cell_type": "code",
   "execution_count": null,
   "id": "562bcc23",
   "metadata": {},
   "outputs": [
    {
     "name": "stdout",
     "output_type": "stream",
     "text": [
      "This is the first sentence. \n",
      "This is the second sentence! \tThis is the third sentence?\n"
     ]
    }
   ],
   "source": [
    "print('''This is the first sentence. \\nThis is the second sentence! \\tThis is the third sentence?''')"
   ]
  },
  {
   "cell_type": "markdown",
   "id": "2f685286",
   "metadata": {},
   "source": [
    "We can **concatenate,** or join together, strings using the mathematical operations of `+` or `*`."
   ]
  },
  {
   "cell_type": "code",
   "execution_count": null,
   "id": "67140dce",
   "metadata": {},
   "outputs": [
    {
     "name": "stdout",
     "output_type": "stream",
     "text": [
      "This is a sentence.This is a sentence.\n",
      "This is a sentence.This is a sentence.\n"
     ]
    }
   ],
   "source": [
    "print('This is a sentence.'+'This is a sentence.')\n",
    "\n",
    "print('This is a sentence.' * 2)\n"
   ]
  },
  {
   "cell_type": "markdown",
   "id": "de40a1a4",
   "metadata": {},
   "source": [
    "In the above example, we see that Python prints the sentence twice, but these sentences run into each other (i.e. there is no space in between). We have to specifically tell Python to add this space. We can do this by printing the string variables that we want along with a space in quotation marks (\" \"). We can also do this by adding multiple arguments to the `print()` function, separated by a comma."
   ]
  },
  {
   "cell_type": "code",
   "execution_count": null,
   "id": "9744530a",
   "metadata": {},
   "outputs": [
    {
     "name": "stdout",
     "output_type": "stream",
     "text": [
      "This is a sentence. This is a sentence.\n",
      "This is a sentence. This is a sentence.\n"
     ]
    }
   ],
   "source": [
    "print('This is a sentence.' + \" \" + 'This is a sentence.')\n",
    "print('This is a sentence.', 'This is a sentence.')"
   ]
  },
  {
   "cell_type": "markdown",
   "id": "f47e1f5b",
   "metadata": {},
   "source": [
    "Note, string concatenation joins multiple string expressions together, but cannot be used in combination with numerical expressions since they are not the same data type."
   ]
  },
  {
   "cell_type": "code",
   "execution_count": null,
   "id": "00ae90d0",
   "metadata": {},
   "outputs": [
    {
     "ename": "TypeError",
     "evalue": "unsupported operand type(s) for +: 'int' and 'str'",
     "output_type": "error",
     "traceback": [
      "\u001b[0;31m---------------------------------------------------------------------------\u001b[0m\n",
      "\u001b[0;31mTypeError\u001b[0m                                 Traceback (most recent call last)\n",
      "Cell \u001b[0;32mIn[73], line 1\u001b[0m\n",
      "\u001b[0;32m----> 1\u001b[0m \u001b[38;5;241m2\u001b[39m \u001b[38;5;241m+\u001b[39m \u001b[38;5;124m'\u001b[39m\u001b[38;5;124mThis is a sentence.\u001b[39m\u001b[38;5;124m'\u001b[39m\n",
      "\n",
      "\u001b[0;31mTypeError\u001b[0m: unsupported operand type(s) for +: 'int' and 'str'"
     ]
    }
   ],
   "source": [
    "2 + 'This is a sentence.'"
   ]
  },
  {
   "cell_type": "markdown",
   "id": "d76ac06b",
   "metadata": {},
   "source": [
    "Escape sequences also can be used in the `print()` function as an argument or through concatenation:"
   ]
  },
  {
   "cell_type": "code",
   "execution_count": null,
   "id": "97a3bbfe",
   "metadata": {},
   "outputs": [
    {
     "name": "stdout",
     "output_type": "stream",
     "text": [
      "This is a sentence. \t This isn't easy.\n",
      "\n",
      "\n",
      "This isn't easy.\tThis is a sentence.\n"
     ]
    }
   ],
   "source": [
    "# Escape sequence used as an argument in the print function\n",
    "print('This is a sentence.', '\\t', 'This isn\\'t easy.') \n",
    "# Escape sequence used to print a blank line\n",
    "print('\\n')                  \n",
    "# Escape sequence concatenated to strings in the print function\n",
    "print('This isn\\'t easy.' + '\\t' + 'This is a sentence.')"
   ]
  },
  {
   "cell_type": "markdown",
   "id": "c366befe",
   "metadata": {},
   "source": [
    "Numeric values can also be recognized as a string by putting them within quotation marks or using them as an argument in the `str()` function."
   ]
  },
  {
   "cell_type": "code",
   "execution_count": null,
   "id": "abc913e1",
   "metadata": {},
   "outputs": [
    {
     "name": "stdout",
     "output_type": "stream",
     "text": [
      "2\n",
      "True\n"
     ]
    }
   ],
   "source": [
    "print(\"2\")\n",
    "print(True)"
   ]
  },
  {
   "cell_type": "markdown",
   "id": "6ccaac0a",
   "metadata": {},
   "source": [
    "We can confirm that these are indeed strings by calling the `type()` function on these variables, which can be used on any variable to check its data type."
   ]
  },
  {
   "cell_type": "code",
   "execution_count": null,
   "id": "dbfa9279",
   "metadata": {},
   "outputs": [
    {
     "name": "stdout",
     "output_type": "stream",
     "text": [
      "<class 'str'>\n",
      "<class 'bool'>\n"
     ]
    }
   ],
   "source": [
    "print(type(\"2\"))\n",
    "print(type(True))"
   ]
  },
  {
   "cell_type": "markdown",
   "id": "5b81b046",
   "metadata": {},
   "source": [
    "Keep in mind that when a numerical value is converted to a string, it can no longer be used to perform certain mathematical calculations, such as division, subtraction, or exponentiation."
   ]
  },
  {
   "cell_type": "code",
   "execution_count": null,
   "id": "a4b31663",
   "metadata": {},
   "outputs": [
    {
     "ename": "TypeError",
     "evalue": "unsupported operand type(s) for ** or pow(): 'str' and 'int'",
     "output_type": "error",
     "traceback": [
      "\u001b[0;31m---------------------------------------------------------------------------\u001b[0m\n",
      "\u001b[0;31mTypeError\u001b[0m                                 Traceback (most recent call last)\n",
      "Cell \u001b[0;32mIn [15], line 1\u001b[0m\n",
      "\u001b[0;32m----> 1\u001b[0m \u001b[43mtwo\u001b[49m\u001b[43m \u001b[49m\u001b[38;5;241;43m*\u001b[39;49m\u001b[38;5;241;43m*\u001b[39;49m\u001b[43m \u001b[49m\u001b[38;5;241;43m2\u001b[39;49m\n",
      "\n",
      "\u001b[0;31mTypeError\u001b[0m: unsupported operand type(s) for ** or pow(): 'str' and 'int'"
     ]
    }
   ],
   "source": [
    "\"2\" ** 2"
   ]
  },
  {
   "cell_type": "markdown",
   "id": "0548a988",
   "metadata": {},
   "source": [
    "It can be used in addition and multiplication, but more so in a \"stringy\" way and not a \"mathy\" way, that is through concatenation rather than mathematical operations."
   ]
  },
  {
   "cell_type": "code",
   "execution_count": null,
   "id": "ab5f5c68",
   "metadata": {},
   "outputs": [
    {
     "data": {
      "text/plain": [
       "'22'"
      ]
     },
     "metadata": {},
     "output_type": "display_data"
    }
   ],
   "source": [
    "\"2\" + \"2\""
   ]
  },
  {
   "cell_type": "markdown",
   "id": "37ad3da5",
   "metadata": {},
   "source": [
    "This is the only time when 2 + 2 equals 22. <span class=\"emoji\">🙃</span>"
   ]
  },
  {
   "cell_type": "markdown",
   "id": "9be4a107",
   "metadata": {},
   "source": [
    "We can also convert numerical values in strings to integers and floats\n"
   ]
  },
  {
   "cell_type": "code",
   "execution_count": null,
   "id": "68a02c5d",
   "metadata": {},
   "outputs": [
    {
     "name": "stdout",
     "output_type": "stream",
     "text": [
      "45\n",
      "45.0\n"
     ]
    }
   ],
   "source": [
    "print(int('45'))\n",
    "print(float('45'))"
   ]
  },
  {
   "cell_type": "markdown",
   "id": "e6be794b",
   "metadata": {},
   "source": [
    "Remember, the `int()` and `float()` functions can only convert recognized numerical values. A string of letters cannot be converted to a float or integer."
   ]
  },
  {
   "cell_type": "code",
   "execution_count": null,
   "id": "740494cd",
   "metadata": {},
   "outputs": [
    {
     "ename": "ValueError",
     "evalue": "invalid literal for int() with base 10: 'Sorry'",
     "output_type": "error",
     "traceback": [
      "\u001b[0;31m---------------------------------------------------------------------------\u001b[0m\n",
      "\u001b[0;31mValueError\u001b[0m                                Traceback (most recent call last)\n",
      "Cell \u001b[0;32mIn [23], line 1\u001b[0m\n",
      "\u001b[0;32m----> 1\u001b[0m \u001b[38;5;28;43mint\u001b[39;49m\u001b[43m(\u001b[49m\u001b[38;5;124;43m'\u001b[39;49m\u001b[38;5;124;43mSorry\u001b[39;49m\u001b[38;5;124;43m'\u001b[39;49m\u001b[43m)\u001b[49m\n",
      "\n",
      "\u001b[0;31mValueError\u001b[0m: invalid literal for int() with base 10: 'Sorry'"
     ]
    }
   ],
   "source": [
    "int('Sorry')"
   ]
  },
  {
   "cell_type": "markdown",
   "id": "584d9832",
   "metadata": {},
   "source": [
    "By understanding data types, we can begin to use them in other analyses and functionalities in Python. Next, we will learn how to use data types in comparisons, which can help further down the line in functions ([Chapter 3.5](../5/IntroFunctions.ipynb)), for loops ([Chapter 5.3](../../05/3/Control_Statements_Iteration.ipynb)), and subsetting data from DataFrames ([Chapter 6.6](../../06/6/Select_Condition.ipynb))."
   ]
  },
  {
   "cell_type": "code",
   "execution_count": null,
   "id": "fe156008",
   "metadata": {},
   "outputs": [],
   "source": []
  },
  {
   "cell_type": "markdown",
   "id": "a481ada0",
   "metadata": {},
   "source": [
    "We showed examples of comparisons of integers and floats, but strings can also be used with comparison operators."
   ]
  },
  {
   "cell_type": "code",
   "execution_count": null,
   "id": "ad68d2ab",
   "metadata": {},
   "outputs": [],
   "source": [
    "a='Dan'\n",
    "b='Mike'\n",
    "\n",
    "print(\"a == b:\", a == b)\n",
    "print(\"a != b:\", a != b)\n",
    "print(\"a < b:\", a < b)\n",
    "print(\"a <= b:\", a <= b)\n",
    "print(\"a > b:\", a > b)\n",
    "print(\"a >= b:\", a >= b)"
   ]
  },
  {
   "cell_type": "markdown",
   "id": "0e431b67",
   "metadata": {},
   "source": [
    "As you can see, Python compared the two strings and found them different, but is also able to use inequality operators to compare them. The order is determined [lexicographically](https://en.wikipedia.org/wiki/Lexicographic_order) using the ASCII values of the characters.\n",
    "\n",
    "Letter case is important for comparisons:"
   ]
  },
  {
   "cell_type": "markdown",
   "id": "4ce094f8",
   "metadata": {},
   "source": [
    "'Dan'=='dan'"
   ]
  }
 ],
 "metadata": {
  "language_info": {
   "name": "python"
  }
 },
 "nbformat": 4,
 "nbformat_minor": 5
}

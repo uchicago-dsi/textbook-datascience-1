{
 "cells": [
  {
   "cell_type": "markdown",
   "id": "1fb88591",
   "metadata": {},
   "source": [
    "# Comparison operators\n",
    "\n",
    "Comparison operators are used to compare values using mathematical logic and return a single Boolean value of either `True` or `False`. We will see later that they are important for counting, extracting and modifying data. For example, counting the number of students with GPA higher than a given threshold requires a comparison, for each student, of their GPA to the threshold.\n",
    "\n",
    "In the cell below, Python compares two integers (is 5 strictly smaller than 7?) and returns the Boolean that reflects the comparison."
   ]
  },
  {
   "cell_type": "code",
   "execution_count": null,
   "id": "8d549069",
   "metadata": {},
   "outputs": [],
   "source": [
    "5<7"
   ]
  },
  {
   "cell_type": "markdown",
   "id": "15231c07",
   "metadata": {},
   "source": [
    "In the expression above, Python followed mathematical logic and declared the comparison to be true.\n",
    "\n",
    "Below is a table of comparison operators.\n",
    "\n",
    "| Operator | What it means   | \n",
    "|----------|-----------------|\n",
    "| ==       | Equal           |\n",
    "| !=       | Not equal       |\n",
    "| <        | Less than       |\n",
    "| <=       | Less or equal   |\n",
    "| >        | Greater than    |\n",
    "| >=       | Greater or equal|\n",
    "\n",
    "To better understand how these operators work, we illustrate their use in the cell below where we compare two real numbers."
   ]
  },
  {
   "cell_type": "code",
   "execution_count": null,
   "id": "65467556",
   "metadata": {},
   "outputs": [],
   "source": [
    "x = 1.5\n",
    "y = 0.8\n",
    "\n",
    "print(\"x == y:\", x == y)\n",
    "print(\"x != y:\", x != y)\n",
    "print(\"x < y:\", x < y)\n",
    "print(\"x <= y:\", x <= y)\n",
    "print(\"x > y:\", x > y)\n",
    "print(\"x >= y:\", x >= y)"
   ]
  },
  {
   "cell_type": "markdown",
   "id": "af0c15cd",
   "metadata": {},
   "source": [
    "We showed examples of comparisons of integers and floats, but strings can also be used with comparison operators."
   ]
  },
  {
   "cell_type": "code",
   "execution_count": null,
   "id": "0471c018",
   "metadata": {},
   "outputs": [],
   "source": [
    "a='Dan'\n",
    "b='Mike'\n",
    "\n",
    "print(\"a == b:\", a == b)\n",
    "print(\"a != b:\", a != b)\n",
    "print(\"a < b:\", a < b)\n",
    "print(\"a <= b:\", a <= b)\n",
    "print(\"a > b:\", a > b)\n",
    "print(\"a >= b:\", a >= b)"
   ]
  },
  {
   "cell_type": "markdown",
   "id": "bdd035db",
   "metadata": {},
   "source": [
    "As you can see, Python compared the two strings and found them different, but is also able to use inequality operators to compare them. The order is determined [lexicographically](https://en.wikipedia.org/wiki/Lexicographic_order) using the ASCII values of the characters.\n",
    "\n",
    "Letter case is important for comparisons:"
   ]
  },
  {
   "cell_type": "code",
   "execution_count": null,
   "id": "ee700416",
   "metadata": {},
   "outputs": [],
   "source": [
    "'Dan'=='dan'"
   ]
  },
  {
   "attachments": {},
   "cell_type": "markdown",
   "id": "296319db",
   "metadata": {},
   "source": [
    "## Logical (Boolean) operators\n",
    "\n",
    "Python's logical operators perform Boolean arithmetic on one or two inputs and return either `True` or `False`. The table below shows three logical operators.\n",
    "\n",
    "| Operator | What it means                | Examples (that return True)  |\n",
    "|----------|------------------------------|------------------------------|\n",
    "| and      | True if both are true        | (7>5) and (1.2!=1.3)         |\n",
    "| or       | True if at least one is true | (7<5) or (1.2!=1.3)          |\n",
    "| not      | True if input is false       | not(7==5)                    |\n"
   ]
  },
  {
   "cell_type": "code",
   "execution_count": null,
   "id": "db2679f2",
   "metadata": {},
   "outputs": [],
   "source": [
    "print((7>5) and (1.2!=1.3))\n",
    "print((7>5) & (1.2!=1.3))\n",
    "\n",
    "print((7<5) or (1.2!=1.3))\n",
    "print((7<5) | (1.2!=1.3))"
   ]
  },
  {
   "cell_type": "markdown",
   "id": "8f108e68",
   "metadata": {},
   "source": [
    "**Note**: You will see in some code examples here and elsewhere the logic operators `and` and `or` replaced by something called bitwise operators:  `&`  used instead of `and` and `|` instead of `or`.\n",
    "Note that, even if they give the same results when applied to Boolean data types (as in the examples above), they have different meanings for other data types. We will use mostly `and` and `or` in this textbook.\n",
    "\n",
    "Finally, an expression can contain multiple comparisons, and all comparisons must hold in order for the whole expression to be True. You can see a couple of examples below. In the first, Python evaluates first the expression `5-2`  (equal to `3`), then evaluates `1.2 <= 1.8` and `1.8 < 3` (both True), and finally use the Boolean operator `and` to evaluate the full expression."
   ]
  },
  {
   "cell_type": "code",
   "execution_count": null,
   "id": "4f93fb13",
   "metadata": {},
   "outputs": [],
   "source": [
    "1.2 <= 1.8 < 5-2"
   ]
  },
  {
   "cell_type": "code",
   "execution_count": null,
   "id": "a1f549c6",
   "metadata": {},
   "outputs": [],
   "source": [
    "'Dan' != 'Mike' == 'Nike'"
   ]
  },
  {
   "cell_type": "markdown",
   "id": "5c0e1945",
   "metadata": {},
   "source": [
    "### Truth tables\n",
    "\n",
    "An easy way to summarize the outcome of logic operators are truth tables, and we show them below for `and` and `or`. Note that we used them in the multiple comparisons above. They are useful for algorithmic thinking in programming. For simplicity we summarize them in a single table.\n",
    "\n",
    "| a      | b     | a and b | a or b  |\n",
    "|--------|-------|---------|---------|\n",
    "| True   | True  | True    | True    |\n",
    "| True   | False | False   | True    |\n",
    "| False  | True  | False   | True    |\n",
    "| False  | False | False   | False   |\n",
    "\n"
   ]
  }
 ],
 "metadata": {
  "kernelspec": {
   "display_name": "Python 3.9.13 64-bit",
   "language": "python",
   "name": "python3"
  },
  "language_info": {
   "codemirror_mode": {
    "name": "ipython",
    "version": 3
   },
   "file_extension": ".py",
   "mimetype": "text/x-python",
   "name": "python",
   "nbconvert_exporter": "python",
   "pygments_lexer": "ipython3",
   "version": "3.9.13"
  },
  "vscode": {
   "interpreter": {
    "hash": "aee8b7b246df8f9039afb4144a1f6fd8d2ca17a180786b69acc140d282b71a49"
   }
  }
 },
 "nbformat": 4,
 "nbformat_minor": 5
}

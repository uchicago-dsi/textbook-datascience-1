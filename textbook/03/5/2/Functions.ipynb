{
 "cells": [
  {
   "cell_type": "markdown",
   "metadata": {
    "tags": []
   },
   "source": [
    "# User-Defined Functions\n",
    "\n",
    "In the case where we want to compute something multiple times but there is no built-in function to rely on, we can write our own function! Replacing multiple lines of code with a function allows seamless reuse of a process or computation.\n"
   ]
  },
  {
   "cell_type": "markdown",
   "metadata": {},
   "source": [
    "The general format for defining a function is given below.\n",
    "\n",
    "```python \n",
    "\n",
    "def function_name(input_arguments):\n",
    "    \"\"\" Documentation on what your function does \"\"\"\n",
    "    \n",
    "    body of function\n",
    "    \n",
    "    return output\n",
    "```\n",
    "\n",
    "\n",
    "- The `def` keyword indicates defining a function\n",
    "- function_name: We can name our function however we please\n",
    "- input_arguments: We decide how many values our function takes as input\n",
    "- docstring: We document the key characteristics of our function by using a string - typically triple quotes\n",
    "- body of function: We perform some computation in the indented body\n",
    "- output: The output is returned"
   ]
  },
  {
   "cell_type": "markdown",
   "metadata": {},
   "source": [
    "When might we use functions? Suppose we're in the United States working on the Mars probe launch of 1999. We accidentally sent data to our metric loving friends with measurements provided in inches. Let's make sure the Mars probe doesn't get lost in space and define a function to convert inches to centimeters before sending that data over."
   ]
  },
  {
   "cell_type": "code",
   "execution_count": 1,
   "metadata": {},
   "outputs": [],
   "source": [
    "def convert_inches_to_cm(x_inches):\n",
    "    \"\"\"Takes input of inches and converts to centimeters\"\"\"\n",
    "    \n",
    "    x_cms = x_inches * 2.54\n",
    "    \n",
    "    return x_cms"
   ]
  },
  {
   "cell_type": "markdown",
   "metadata": {},
   "source": [
    "Above we created a function that converts inches to centimeters. Note the input argument of `x_inches` is taken in and used in the indented body of the function, and the new variable `x_cms` is returned. But the function does not *do* anything unless we call it. Now that it is defined, we call it exactly as we would a built-in function - with our function_name followed by parentheses into our input."
   ]
  },
  {
   "cell_type": "code",
   "execution_count": 2,
   "metadata": {},
   "outputs": [
    {
     "data": {
      "text/plain": [
       "12.7"
      ]
     },
     "execution_count": 2,
     "metadata": {},
     "output_type": "execute_result"
    }
   ],
   "source": [
    "convert_inches_to_cm(5)"
   ]
  },
  {
   "cell_type": "markdown",
   "metadata": {},
   "source": [
    "Notice we have created this new variable `x_cms` in our function `convert_inches_to_cm`. However when we try to print this variable name *outside* the defined function, as below, we get an error."
   ]
  },
  {
   "cell_type": "code",
   "execution_count": 3,
   "metadata": {
    "tags": [
     "raises-exception"
    ]
   },
   "outputs": [
    {
     "ename": "NameError",
     "evalue": "name 'x_cms' is not defined",
     "output_type": "error",
     "traceback": [
      "\u001b[0;31m---------------------------------------------------------------------------\u001b[0m",
      "\u001b[0;31mNameError\u001b[0m                                 Traceback (most recent call last)",
      "\u001b[0;32m/var/folders/0w/2w872s1x7tq9cjycdmyltr840000gn/T/ipykernel_21625/1171947453.py\u001b[0m in \u001b[0;36m<cell line: 1>\u001b[0;34m()\u001b[0m\n\u001b[0;32m----> 1\u001b[0;31m \u001b[0mx_cms\u001b[0m\u001b[0;34m\u001b[0m\u001b[0;34m\u001b[0m\u001b[0m\n\u001b[0m",
      "\u001b[0;31mNameError\u001b[0m: name 'x_cms' is not defined"
     ]
    }
   ],
   "source": [
    "x_cms"
   ]
  },
  {
   "cell_type": "markdown",
   "metadata": {},
   "source": [
    "This is because of the **scope** of a variable, or where a variable is visible to other code. If we define a variable inside the body of a function, it is visible only inside that function."
   ]
  },
  {
   "cell_type": "markdown",
   "metadata": {},
   "source": [
    "And remember the docstring we wrote when defining our function? That is accessible to us, or others reading our code, with the help function!"
   ]
  },
  {
   "cell_type": "code",
   "execution_count": 7,
   "metadata": {},
   "outputs": [
    {
     "name": "stdout",
     "output_type": "stream",
     "text": [
      "Help on function convert_inches_to_cm in module __main__:\n",
      "\n",
      "convert_inches_to_cm(x_inches)\n",
      "    Takes input of inches and converts to centimeters\n",
      "\n"
     ]
    }
   ],
   "source": [
    "help(convert_inches_to_cm)"
   ]
  },
  {
   "cell_type": "markdown",
   "metadata": {},
   "source": [
    "# Return vs Print"
   ]
  },
  {
   "cell_type": "markdown",
   "metadata": {},
   "source": [
    "Another element to be aware of is the `return` statement at the end of a function. Creating a similar function that ends with `print` instead of `return`, and calling it on an input of 5, as below, it might not be obvious there is a difference."
   ]
  },
  {
   "cell_type": "code",
   "execution_count": 13,
   "metadata": {},
   "outputs": [],
   "source": [
    "def convert_inches_to_cm_print(x_inches):\n",
    "    \"\"\"Takes input of inches and converts to centimeters\"\"\"\n",
    "    \n",
    "    x_cms = x_inches * 2.54\n",
    "    \n",
    "    print(x_cms)"
   ]
  },
  {
   "cell_type": "code",
   "execution_count": 14,
   "metadata": {},
   "outputs": [
    {
     "data": {
      "text/plain": [
       "12.7"
      ]
     },
     "execution_count": 14,
     "metadata": {},
     "output_type": "execute_result"
    }
   ],
   "source": [
    "convert_inches_to_cm(5)"
   ]
  },
  {
   "cell_type": "code",
   "execution_count": 15,
   "metadata": {},
   "outputs": [
    {
     "name": "stdout",
     "output_type": "stream",
     "text": [
      "12.7\n"
     ]
    }
   ],
   "source": [
    "convert_inches_to_cm_print(5)"
   ]
  },
  {
   "cell_type": "markdown",
   "metadata": {},
   "source": [
    "But keep in mind we are working in an interactive Python environment, where the last line of code is printed by default, thus it appears that both functions print their output when in actuality only `convert_inches_to_cm_print` prints the output.\n",
    "\n",
    "So, what is the difference between the two function outputs above? The `return` statement allows us to store and reuse the output of a function, while the `print` function prints the output exactly when the function is called, and the output is not stored. Since the main purpose of a function is to store the function's output for later potential use in our code, the `return` statement is very important and powerful. \n",
    "\n",
    "Therefore the `return` statement in our first function `convert_inches_to_cm`, allows for variable assignment to the output of the function. If we try to assign the output of function `convert_inches_to_cm_print` to a new variable, we find there is no variable to assign."
   ]
  },
  {
   "cell_type": "code",
   "execution_count": 27,
   "metadata": {},
   "outputs": [
    {
     "name": "stdout",
     "output_type": "stream",
     "text": [
      "12.7\n"
     ]
    }
   ],
   "source": [
    "new_var = convert_inches_to_cm(5)\n",
    "print(new_var)"
   ]
  },
  {
   "cell_type": "code",
   "execution_count": 28,
   "metadata": {},
   "outputs": [
    {
     "name": "stdout",
     "output_type": "stream",
     "text": [
      "12.7\n",
      "None\n"
     ]
    }
   ],
   "source": [
    "new_var2 = convert_inches_to_cm_print(5)\n",
    "print(new_var2)"
   ]
  },
  {
   "cell_type": "markdown",
   "metadata": {},
   "source": [
    "Notice the value of 12.7 is printed in both cells above. The first cell prints 12.7 because we tell it to print variable `new_var`, the second cell prints 12.7 because it is running through the body of the function, which says to print `x_cms`, but the variable `new_var2` is a NoneType object that has no value."
   ]
  },
  {
   "cell_type": "markdown",
   "metadata": {},
   "source": [
    "# Functions with Multiple Arguments"
   ]
  },
  {
   "cell_type": "markdown",
   "metadata": {},
   "source": [
    "Let's try another example. Here we write a function that takes two values as input and computes the sum of squares."
   ]
  },
  {
   "cell_type": "code",
   "execution_count": 19,
   "metadata": {},
   "outputs": [],
   "source": [
    "def sum_squares(x, y):\n",
    "    \"\"\" Takes two numbers x and y and returns the sum of squares\"\"\"\n",
    "    \n",
    "    z = x**2 + y**2\n",
    "    \n",
    "    return z"
   ]
  },
  {
   "cell_type": "markdown",
   "metadata": {},
   "source": [
    "Here the function body is defined in terms of x and y, which we must specify when calling the function."
   ]
  },
  {
   "cell_type": "code",
   "execution_count": 20,
   "metadata": {},
   "outputs": [
    {
     "data": {
      "text/plain": [
       "5"
      ]
     },
     "execution_count": 20,
     "metadata": {},
     "output_type": "execute_result"
    }
   ],
   "source": [
    "sum_squares(2,1)"
   ]
  },
  {
   "cell_type": "markdown",
   "metadata": {},
   "source": [
    "If we wanted to extend the function `sum_squares` to calculate the sum of cubes or the sum of any given powers we can make the power itself an argument to the function. Further, we can assume a default option for the exponent to be 2. We do this by assigning our variable a value, in this case a number, in the input_arguments of the function definition. We then have the option to change this argument, or exclude it entirely and use the default option when calling the function."
   ]
  },
  {
   "cell_type": "code",
   "execution_count": 35,
   "metadata": {},
   "outputs": [],
   "source": [
    "def sum_powers(x, y, power=2):\n",
    "    \"\"\" Takes two numbers x and y and returns the sum of powers.\n",
    "    If not specified the default compute the sum of squares, that is power = 2 \"\"\"\n",
    "    \n",
    "    z = x**power + y**power\n",
    "    \n",
    "    return z"
   ]
  },
  {
   "cell_type": "markdown",
   "metadata": {},
   "source": [
    "Calling this function without the power argument gives the same outcome as `sum_squares`, but when we include an additional argument of 3, we're computing the sum of cubes!"
   ]
  },
  {
   "cell_type": "code",
   "execution_count": 36,
   "metadata": {},
   "outputs": [
    {
     "data": {
      "text/plain": [
       "5"
      ]
     },
     "execution_count": 36,
     "metadata": {},
     "output_type": "execute_result"
    }
   ],
   "source": [
    "sum_powers(2,1)"
   ]
  },
  {
   "cell_type": "code",
   "execution_count": 37,
   "metadata": {},
   "outputs": [
    {
     "data": {
      "text/plain": [
       "9"
      ]
     },
     "execution_count": 37,
     "metadata": {},
     "output_type": "execute_result"
    }
   ],
   "source": [
    "sum_powers(2,1,3)"
   ]
  },
  {
   "cell_type": "markdown",
   "metadata": {},
   "source": [
    "# Argument Order"
   ]
  },
  {
   "cell_type": "markdown",
   "metadata": {},
   "source": [
    "The order of the arguments does matter when calling a function. If we switch order of inputs 1 and 3 we do get a different answer. "
   ]
  },
  {
   "cell_type": "code",
   "execution_count": 38,
   "metadata": {},
   "outputs": [
    {
     "data": {
      "text/plain": [
       "5"
      ]
     },
     "execution_count": 38,
     "metadata": {},
     "output_type": "execute_result"
    }
   ],
   "source": [
    "sum_powers(2,3,1)"
   ]
  },
  {
   "cell_type": "markdown",
   "metadata": {},
   "source": [
    "If we want to more explicit about which variable in which in our input, we can call the function with the given function variables assigned. This allows us to rearrange the order of inputs without affecting the function output."
   ]
  },
  {
   "cell_type": "code",
   "execution_count": 44,
   "metadata": {},
   "outputs": [
    {
     "data": {
      "text/plain": [
       "9"
      ]
     },
     "execution_count": 44,
     "metadata": {},
     "output_type": "execute_result"
    }
   ],
   "source": [
    "sum_powers(x=1, y=2, power=3)"
   ]
  },
  {
   "cell_type": "code",
   "execution_count": 45,
   "metadata": {},
   "outputs": [
    {
     "data": {
      "text/plain": [
       "9"
      ]
     },
     "execution_count": 45,
     "metadata": {},
     "output_type": "execute_result"
    }
   ],
   "source": [
    "sum_powers(x=1, power=3, y=2)"
   ]
  },
  {
   "cell_type": "markdown",
   "metadata": {},
   "source": [
    "Functions are extremely important and useful methods to reuse, organize, and simplify code. We will see functions used throughout this textbook. As we explore more Python, we will find that functions are very versatile and can be applied to many different objects while streamlining repeatable processes.\n"
   ]
  }
 ],
 "metadata": {
  "kernelspec": {
   "display_name": "Python 3 (ipykernel)",
   "language": "python",
   "name": "python3"
  },
  "language_info": {
   "codemirror_mode": {
    "name": "ipython",
    "version": 3
   },
   "file_extension": ".py",
   "mimetype": "text/x-python",
   "name": "python",
   "nbconvert_exporter": "python",
   "pygments_lexer": "ipython3",
   "version": "3.9.12"
  }
 },
 "nbformat": 4,
 "nbformat_minor": 4
}

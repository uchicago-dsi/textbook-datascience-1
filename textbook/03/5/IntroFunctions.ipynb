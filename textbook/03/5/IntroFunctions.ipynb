{
 "cells": [
  {
   "cell_type": "markdown",
   "metadata": {},
   "source": [
    "# Functions\n",
    "\n",
    "*Susanna Lange and Amanda R. Kube Jotte*\n",
    "\n",
    "Instead of writing a line of code multiple times to perform some action more than once, it might be advantageous to check if Python has a built-in function that already does what we want! If not, we can create our own **functions** in Python!\n",
    "\n",
    "Both functions built-in to Python and those user-created follow the general format of mathematical functions of which you may be familiar. For example, the mathematical function f(x) = x + 2 takes an input, x, and returns x plus 2. Python functions work similarly.  They require an input, called an **argument**, to the function, and they provide or compute some output. This section covers the foundations behind using built-in functions and how to create our own. Additionally, we consider **methods** in this section, which is a category of functions that pertain to a specific object, or type."
   ]
  },
  {
   "cell_type": "markdown",
   "metadata": {},
   "source": []
  }
 ],
 "metadata": {
  "kernelspec": {
   "display_name": "Python 3 (ipykernel)",
   "language": "python",
   "name": "python3"
  },
  "language_info": {
   "codemirror_mode": {
    "name": "ipython",
    "version": 3
   },
   "file_extension": ".py",
   "mimetype": "text/x-python",
   "name": "python",
   "nbconvert_exporter": "python",
   "pygments_lexer": "ipython3",
   "version": "3.9.12"
  },
  "vscode": {
   "interpreter": {
    "hash": "aee8b7b246df8f9039afb4144a1f6fd8d2ca17a180786b69acc140d282b71a49"
   }
  }
 },
 "nbformat": 4,
 "nbformat_minor": 2
}

{
 "cells": [
  {
   "attachments": {},
   "cell_type": "markdown",
   "metadata": {},
   "source": [
    "# Prediction and Correlation\n",
    "*Amanda R. Kube Jotte*\n",
    "\n",
    "What can past data tell us about future observations? Can we predict patient outcomes based on clinical data? Or the sale price of a house from recent home listings? Algorithms that can predict these types of outcomes are central to the field of machine learning. In the following chapters, we will explore a few of these algorithms and how they can be used to provide information about new data.\n",
    "\n",
    "In this chapter, we will provide an introduction to the concept of prediction. Then, we will return to the topic of [association](../../10/1/causality.ipynb) to measure linear association using correlation. These topics will provide the background necessary to begin understanding and building your own prediction algorithms.\n"
   ]
  },
  {
   "cell_type": "markdown",
   "metadata": {},
   "source": []
  }
 ],
 "metadata": {
  "kernelspec": {
   "display_name": "Python 3.9.13 64-bit",
   "language": "python",
   "name": "python3"
  },
  "language_info": {
   "name": "python",
   "version": "3.10.9"
  },
  "orig_nbformat": 4,
  "vscode": {
   "interpreter": {
    "hash": "aee8b7b246df8f9039afb4144a1f6fd8d2ca17a180786b69acc140d282b71a49"
   }
  }
 },
 "nbformat": 4,
 "nbformat_minor": 2
}

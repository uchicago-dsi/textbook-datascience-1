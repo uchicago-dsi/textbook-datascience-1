{
 "cells": [
  {
   "cell_type": "markdown",
   "metadata": {},
   "source": [
    "# Background\n",
    "\n",
    "Beginning in 2004, the Illinois Department of Transportation (IDOT) began a statistical study of traffic and pedestrian stops throughout Illinois [^*]. This study has been extended multiple times and continues as of the writing of this chapter. After the institution of the Racial Profiling Prevention and Data Oversight Board in 2008, the collection of racial profiling information as a part of this study was improved and became an additional focus of the study [^**].\n",
    "\n",
    "In our investigation, we will use data for traffic stops in 2020 in the City of Chicago collected by IDOT and used for Illinois Traffic and Pedestrian Stop Study (made available by request [^***]). The subset of data used here includes 7 variables collected by the officer at the time of the traffic stop including: when and where the stop was made, the reason for the stop, the perceived race of the driver, whether the officer searched the car or its passengers, and, if so, whether the officer found any contraband during that search.\n",
    "\n",
    "We will conduct an analysis similar to that done in the IDOT statistical study called **benchmarking**. Benchmarking involves comparing proportions of the population who are stopped by police to the proportions of the local population those groups make up. The idea is that if 30% of those who are stopped by police are Hispanic or Latino and the population of the area is also 30% Hispanic or Latino, there is no bias present. However, if the population of the area is only 10% Hispanic or Latino, this group is being stopped as a rate disproportionate to its population proportion indicating potential bias.\n",
    "\n",
    "Benchmarking works well only if the benchmark used for comparison is accurate. In this case, we are considering drivers who are stopped by police. The best comparison to use would be the total population of *drivers*. However, this information is not freely available. It can, however, be estimated using additional data and knowledge of probability. IDOT did exactly this in their recent 2019 and 2020 traffic stop report which can be found [here](https://idot.illinois.gov/transportation-system/local-transportation-partners/law-enforcement/reporting/illinois-traffic-and-pedestrian-stop-study/studies.html). We have already done this estimation and will be using the estimated population of drivers by race for our investigation."
   ]
  },
  {
   "cell_type": "markdown",
   "metadata": {},
   "source": [
    "[^*]: State of Illinois. (n.d.). Illinois traffic and pedestrian stop study. Illinois Department of Transportation. https://idot.illinois.gov/transportation-system/local-transportation-partners/law-enforcement/reporting/illinois-traffic-and-pedestrian-stop-study.html \n",
    "\n",
    "[^**]: State of Illinois. (n.d.). Racial Profiling Prevention and Data Oversight Board. Illinois Department of Transportation. https://idot.illinois.gov/transportation-system/local-transportation-partners/law-enforcement/reporting/illinois-traffic-and-pedestrian-stop-study/oversight-board.html\n",
    "\n",
    "[^***]: State of Illinois. (n.d.). Traffic Stop Statistical Studies. Illinois Department of Transportation. https://idot.illinois.gov/transportation-system/local-transportation-partners/law-enforcement/reporting/illinois-traffic-and-pedestrian-stop-study/studies.html"
   ]
  }
 ],
 "metadata": {
  "language_info": {
   "name": "python"
  },
  "orig_nbformat": 4
 },
 "nbformat": 4,
 "nbformat_minor": 2
}

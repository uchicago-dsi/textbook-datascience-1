{
 "cells": [
  {
   "cell_type": "markdown",
   "id": "aea500c9",
   "metadata": {},
   "source": [
    "# Conditional Statements"
   ]
  },
  {
   "cell_type": "markdown",
   "id": "bfc72bf7",
   "metadata": {},
   "source": [
    "There are some situations where we want to proceed with a task or perform an action dependent on whether a certain condition, or perhaps conditions, have been satisfied. For example, suppose we want to go on a walk outside if it is sunny. The action of going on a walk depends on whether it is sunny. In general, <i>conditional statements </i> are statements where an action or event occurs dependent on <i>if</i> a condition is true. We will investigate how to express these types of statements in Python."
   ]
  },
  {
   "cell_type": "markdown",
   "id": "23d1355a",
   "metadata": {},
   "source": [
    "Conditional statements have the form of an \"if-then\" statement: *if* statement `P`, the hypothesis, occurs, *then* statement `Q`, the conclusion, also occurs.\n",
    "\n",
    "How do we write this in code? We utilize the `if` expression in Python.\n",
    "\n",
    "The statement below will execute the indented block *conclusion*, if the *hypothesis* is true; otherwise, if *hypothesis* is not true, then the indented block is ignored:\n",
    "\n",
    "```python\n",
    "if hypothesis:\n",
    "    conclusion\n",
    "```"
   ]
  },
  {
   "cell_type": "markdown",
   "id": "6fb74e06",
   "metadata": {},
   "source": [
    "Perhaps we want to output whether a number is even. There is more than one method to code this! We could:\n",
    "\n",
    " - Extract the last digit and see if it equals 0, 2, 4, 6 or 8.\n",
    " - Check the remainder when divided by 2 to see if it is 0.\n",
    " - Take our input $n$ and check if $(-1)^n == 1$.\n",
    " - Convert it to a binary number – (a sequence of 0s and 1s that can uniquely represent each number) – and check the last bit. \n",
    " \n",
    "The approach we will use is to check if the remainder when divided by 2 is 0. If the remainder is 0, then the input is divisible by 2 and thus even!\n",
    "\n",
    "Recall we use the `%` operator to compute the remainder. For example 2 % 3 == 2, as 3 goes into 2 exactly 0 times with remainder 2. We also have 3 % 3 == 0 as 3 divides itself with no remainder, and 4 % 3 == 1 as 4 goes into 3 once with a remainder of 1.\n",
    "\n",
    "\n",
    "And we'll use the following `if` expression to implement a function that tests if the input is even."
   ]
  },
  {
   "cell_type": "code",
   "execution_count": 31,
   "id": "fa0bde85",
   "metadata": {},
   "outputs": [],
   "source": [
    "def test_even(input_number):\n",
    "    '''This function does not return anything, but rather\n",
    "    prints a statement about if the input is even'''\n",
    "    if (input_number % 2) == 0:\n",
    "        print(\"The number\", input_number, \"is even.\")"
   ]
  },
  {
   "cell_type": "markdown",
   "id": "2be3619d",
   "metadata": {},
   "source": [
    "If the input to this function is even, the string will be printed; otherwise, this function does nothing."
   ]
  },
  {
   "cell_type": "code",
   "execution_count": 32,
   "id": "daab9a32-331e-42bd-aefc-de9c22ab4c11",
   "metadata": {},
   "outputs": [
    {
     "name": "stdout",
     "output_type": "stream",
     "text": [
      "The number 4 is even.\n"
     ]
    }
   ],
   "source": [
    "test_even(4)"
   ]
  },
  {
   "cell_type": "markdown",
   "id": "c0aa45ef-cf3b-4dba-853b-07fe2477161d",
   "metadata": {},
   "source": [
    "We can revise this function to also include information on odd integers. If we divide a number by 2 and get a remainder of 1, then the number is odd.\n",
    "\n",
    "Our revised function below takes an input integer then evaluates the first condition: *Is the remainder 0?* If so, the corresponding string is printed. The next condition is then evaluated: *Is the remainder 1?* If so, the corresponding string is printed.\n",
    "\n",
    "Notice that both conditions are always checked in our `test_parity` function. Note also that the functions defined in this section do not have a `return` statement, but rather `print` their output. This is to showcase that `if` statements are always checked, regardless of the truth value of a previous statement. Recall a function automatically terminates when `return` is called, thus to illustrate `if` statements we are using `print` in our functions."
   ]
  },
  {
   "cell_type": "code",
   "execution_count": 22,
   "id": "9b12c151",
   "metadata": {},
   "outputs": [],
   "source": [
    "def test_parity(input_number):\n",
    "    '''Prints if the input is even or odd'''\n",
    "    if (input_number % 2) == 0: \n",
    "        print(\"The number\", input_number, \"is even.\")\n",
    "    if (input_number % 2) == 1: \n",
    "        print(\"The number\", input_number, \"is odd.\")  "
   ]
  },
  {
   "cell_type": "code",
   "execution_count": 23,
   "id": "aaa27258-7dba-4cff-88f7-5c37a2e15ede",
   "metadata": {},
   "outputs": [
    {
     "name": "stdout",
     "output_type": "stream",
     "text": [
      "The number 5 is odd.\n"
     ]
    }
   ],
   "source": [
    "test_parity(5)"
   ]
  },
  {
   "cell_type": "markdown",
   "id": "01db2fd8",
   "metadata": {},
   "source": [
    "## Elif statement"
   ]
  },
  {
   "cell_type": "markdown",
   "id": "cba72a3a",
   "metadata": {},
   "source": [
    "In the case above where we have more than one conditional statement, we can utilize an `elif` statement. Used in combination with an `if` expression, an `elif` statement is only checked if all previous statements evaluate to False. This allows us to check if our first condition is true, otherwise we move to evaluate the truth value of the next statement. In words this says \"If hypothesis_1 is True then evaluate, else if hypothesis_2 is True then evaluate, ...etc\", where the first 'True' is evaluated.\n",
    "\n",
    "The format of an elif statement is:\n",
    "\n",
    "```python\n",
    "if hypothesis_1:\n",
    "    conclusion_1\n",
    "elif hypothesis_2:\n",
    "    conclusion_2\n",
    "... \n",
    "elif hypothesis_n:\n",
    "    conclusion_n\n",
    "```\n",
    "\n",
    "In an `elif` statement, once a condition is true, the remaining condition or conditions are not evaluated.\n",
    "\n",
    "Let's revise the function `test_parity` to use an `elif` statement in a new function: `test_parity_revised`."
   ]
  },
  {
   "cell_type": "code",
   "execution_count": 24,
   "id": "738009f7",
   "metadata": {},
   "outputs": [],
   "source": [
    "def test_parity_revised(input_number):\n",
    "    '''Prints if the input is even or odd'''\n",
    "    if (input_number % 2) == 0: \n",
    "        print(\"The number\", input_number, \"is even.\")\n",
    "    elif (input_number % 2) == 1: \n",
    "        print(\"The number\", input_number, \"is odd.\") "
   ]
  },
  {
   "cell_type": "code",
   "execution_count": 25,
   "id": "19895386-69b2-4911-899c-3831ce9db88a",
   "metadata": {},
   "outputs": [
    {
     "name": "stdout",
     "output_type": "stream",
     "text": [
      "The number 9 is odd.\n"
     ]
    }
   ],
   "source": [
    "test_parity_revised(9)"
   ]
  },
  {
   "cell_type": "code",
   "execution_count": 26,
   "id": "f926970a-1cfc-49c1-b64a-76bd53f5bb54",
   "metadata": {},
   "outputs": [
    {
     "name": "stdout",
     "output_type": "stream",
     "text": [
      "The number 8 is even.\n"
     ]
    }
   ],
   "source": [
    "test_parity_revised(8)"
   ]
  },
  {
   "cell_type": "markdown",
   "id": "0dc0f4f1-deb7-4129-b82a-ee27860f7936",
   "metadata": {},
   "source": [
    "When we input 8 to the test_parity_revised function, the first `if` statement evaluates to True. At this point in the function, the remaining `elif` will not execute thus saving computation time."
   ]
  },
  {
   "cell_type": "markdown",
   "id": "f9f3c01e",
   "metadata": {},
   "source": [
    "Now our function can take any integer and output whether or not that value is even or odd.\n",
    "\n",
    "But what if our user enters the number 5.7? What if they enter a fraction or an irrational number?? We can make `test_parity_revised` more complete by indicting what to do in these cases.\n"
   ]
  },
  {
   "cell_type": "markdown",
   "id": "4a79f8f5",
   "metadata": {},
   "source": [
    "## Else statement"
   ]
  },
  {
   "cell_type": "markdown",
   "id": "70258669",
   "metadata": {},
   "source": [
    "Since we have a condition that checks all even numbers and a condition that checks all odd numbers, we want to group all other possibilities into one category – neither even nor odd.\n",
    "\n",
    "We can do this with the `else` statement. The `else` statement takes one of the following forms.\n",
    "\n",
    "We could have exactly two possible conclusions which is formatted:\n",
    "\n",
    "```python\n",
    "if hypothesis_1:\n",
    "    conclusion_1\n",
    "else:\n",
    "    conclusion_2\n",
    "```\n",
    "    \n",
    "Or we could have $n+1$ conclusions for a chosen $n$ in which case we have the format:\n",
    "    \n",
    "```python\n",
    "if hypothesis_1:\n",
    "    conclusion_1\n",
    "elif hypothesis_2:\n",
    "    conclusion_2\n",
    "... \n",
    "elif hypothesis_n:\n",
    "    conclusion_n\n",
    "else:\n",
    "    conclusion    \n",
    "```    \n",
    "    \n",
    "Similar to an `elif` statement whose condition is true, once the Python interpreter has reached the `else` statement, no more conditions are evaluated – it is, after all, the last option. At this point, all other conditions have been evaluated and none executed. Thus, there is no condition or hypothesis associated with the `else` statement. If it is reached, the conclusion of the `else` statement is executed.\n",
    "    \n",
    "Let's alter the function `test_parity_revised` to use an `else` statement, in a new function: `test_parity_final`."
   ]
  },
  {
   "cell_type": "code",
   "execution_count": 40,
   "id": "e71875b8",
   "metadata": {},
   "outputs": [],
   "source": [
    "def test_parity_final(input_number):\n",
    "    '''Returns a number's parity '''\n",
    "    if (input_number % 2) == 0: \n",
    "        print(\"The number\", input_number, \"is even.\")\n",
    "    elif (input_number % 2) == 1: \n",
    "        print(\"The number\", input_number, \"is odd.\")        \n",
    "    else: \n",
    "        print(\"The number\", input_number, \"is neither even nor odd.\") "
   ]
  },
  {
   "cell_type": "markdown",
   "id": "e2a26033-158f-4847-a1a6-c06f00a0f3a3",
   "metadata": {},
   "source": [
    "Comparing the output of this function to `test_parity_revised`, we see that the past functions cannot handle a decimal input like 5.7, whereas `test_parity_final` can!"
   ]
  },
  {
   "cell_type": "code",
   "execution_count": 41,
   "id": "7016e71d",
   "metadata": {},
   "outputs": [
    {
     "name": "stdout",
     "output_type": "stream",
     "text": [
      "The number 5 is odd.\n"
     ]
    }
   ],
   "source": [
    "test_parity_final(5)"
   ]
  },
  {
   "cell_type": "code",
   "execution_count": 42,
   "id": "62193d1e-6e31-4dbe-9449-6693919483a0",
   "metadata": {},
   "outputs": [
    {
     "name": "stdout",
     "output_type": "stream",
     "text": [
      "The number 5.7 is neither even nor odd.\n"
     ]
    }
   ],
   "source": [
    "test_parity_final(5.7)"
   ]
  },
  {
   "cell_type": "code",
   "execution_count": 44,
   "id": "b88d3085-a31a-4e78-aa97-bb4984ca0891",
   "metadata": {},
   "outputs": [],
   "source": [
    "test_parity_revised(5.7)"
   ]
  },
  {
   "cell_type": "markdown",
   "id": "8ae24d0e",
   "metadata": {},
   "source": [
    "A note of caution when using the `else` statement. Since the `else` statement is executed without checking a condition, you want to be absolutely certain that all desired possibilities are accounted for in the previous condition(s).\n",
    "\n",
    "For example, if we change `test_parity_revised` as below to check if a number is even, but assume that everything else must be odd, we get an error when testing something like 5.7 in this function, as 5.7 is not odd!\n",
    "\n",
    "```python \n",
    "def test_parity_revised(input_number):\n",
    "    '''Returns a number's parity '''\n",
    "    if (input_number % 2) == 0: \n",
    "        print(\"The number\", input_number, \"is even\")\n",
    "    else: \n",
    "        print(\"The number\", input_number, \"is odd\")\n",
    "\n",
    "test_parity_revised(5.7)\n",
    "\n",
    "The number 5.7 is odd.\n",
    "```\n",
    "\n",
    "Whoops!"
   ]
  },
  {
   "cell_type": "markdown",
   "id": "e3b7843c",
   "metadata": {},
   "source": [
    "## Example: six-sided die\n"
   ]
  },
  {
   "cell_type": "markdown",
   "id": "927a460c",
   "metadata": {},
   "source": [
    "We can use random selection in combination with conditional statements to investigate abstract phenomena.\n",
    "\n",
    "For example, suppose we want to consider how often even versus odd numbers are rolled in 100 rolls of an ideal six-sided die. We can illustrate this using the random choice function in addition to our parity function above.\n",
    "\n",
    "First, we create a six-sided die, by creating an array containing the numbers 1 - 6.\n",
    "\n",
    "When we randomly select a choice from this list, we are simulating rolling a die. Repeating this 100 times gives us an array containing the outcomes of 100 tosses."
   ]
  },
  {
   "cell_type": "code",
   "execution_count": 12,
   "id": "f759d67f-1398-4283-a77f-dfea4efefa11",
   "metadata": {},
   "outputs": [],
   "source": [
    "import numpy as np"
   ]
  },
  {
   "cell_type": "code",
   "execution_count": 13,
   "id": "38d8bac1",
   "metadata": {},
   "outputs": [
    {
     "data": {
      "text/plain": [
       "array([1, 2, 3, 4, 5, 6])"
      ]
     },
     "execution_count": 13,
     "metadata": {},
     "output_type": "execute_result"
    }
   ],
   "source": [
    "die = np.arange(1, 7)\n",
    "\n",
    "die"
   ]
  },
  {
   "cell_type": "code",
   "execution_count": 14,
   "id": "313272ef",
   "metadata": {},
   "outputs": [
    {
     "data": {
      "text/plain": [
       "array([6, 6, 3, 2, 6, 4, 2, 2, 2, 6, 1, 5, 6, 6, 3, 2, 3, 4, 6, 3, 1, 4,\n",
       "       1, 3, 2, 5, 5, 6, 6, 3, 1, 5, 3, 3, 5, 6, 4, 4, 5, 2, 6, 5, 2, 2,\n",
       "       6, 6, 2, 1, 5, 3, 3, 5, 4, 1, 6, 5, 5, 6, 4, 5, 4, 3, 2, 6, 1, 1,\n",
       "       5, 1, 2, 6, 1, 6, 5, 3, 5, 4, 3, 4, 1, 1, 2, 2, 4, 4, 2, 3, 6, 1,\n",
       "       5, 5, 3, 1, 2, 1, 3, 1, 4, 4, 2, 3])"
      ]
     },
     "execution_count": 14,
     "metadata": {},
     "output_type": "execute_result"
    }
   ],
   "source": [
    "results_roll = np.random.choice(die, 100)\n",
    "\n",
    "results_roll"
   ]
  },
  {
   "cell_type": "markdown",
   "id": "3343a1fd",
   "metadata": {},
   "source": [
    "Our random roll generator outputs a number between 1 and 6, but we are only interested in if that number is even or odd. But, the way we've written our function, we cannot directly put an entire array through it.\n",
    "\n",
    "Instead we'll call `np.vectorize`, which takes a function as input and returns as output a function that acts on an entire array. That is, it allows for elementwise evaluation of our parity function!\n",
    "\n",
    "Below we define a new function, `vec_parity`, which takes an array containing the roll results, that is an array of numbers 1 - 6, and returns an array denoting even or odd rolls.\n",
    "\n",
    "Note that in the function below we use an *if-else* statement, because we are *assuming* the inputs are integer values 1 - 6."
   ]
  },
  {
   "cell_type": "code",
   "execution_count": 15,
   "id": "c6158c27",
   "metadata": {},
   "outputs": [
    {
     "data": {
      "text/plain": [
       "array(['even', 'even', 'odd', 'even', 'even', 'even', 'even', 'even',\n",
       "       'even', 'even', 'odd', 'odd', 'even', 'even', 'odd', 'even', 'odd',\n",
       "       'even', 'even', 'odd', 'odd', 'even', 'odd', 'odd', 'even', 'odd',\n",
       "       'odd', 'even', 'even', 'odd', 'odd', 'odd', 'odd', 'odd', 'odd',\n",
       "       'even', 'even', 'even', 'odd', 'even', 'even', 'odd', 'even',\n",
       "       'even', 'even', 'even', 'even', 'odd', 'odd', 'odd', 'odd', 'odd',\n",
       "       'even', 'odd', 'even', 'odd', 'odd', 'even', 'even', 'odd', 'even',\n",
       "       'odd', 'even', 'even', 'odd', 'odd', 'odd', 'odd', 'even', 'even',\n",
       "       'odd', 'even', 'odd', 'odd', 'odd', 'even', 'odd', 'even', 'odd',\n",
       "       'odd', 'even', 'even', 'even', 'even', 'even', 'odd', 'even',\n",
       "       'odd', 'odd', 'odd', 'odd', 'odd', 'even', 'odd', 'odd', 'odd',\n",
       "       'even', 'even', 'even', 'odd'], dtype='<U4')"
      ]
     },
     "execution_count": 15,
     "metadata": {},
     "output_type": "execute_result"
    }
   ],
   "source": [
    "def parity(input_integer):\n",
    "    '''Assumes integer input\n",
    "    Returns even or odd'''\n",
    "    if (input_integer % 2) == 0:\n",
    "        return \"even\"\n",
    "    else:\n",
    "        return \"odd\"\n",
    "\n",
    "    \n",
    "vec_parity = np.vectorize(parity)\n",
    "\n",
    "results_parity = vec_parity(results_roll)\n",
    "\n",
    "results_parity"
   ]
  },
  {
   "cell_type": "markdown",
   "id": "8db5c45b",
   "metadata": {},
   "source": [
    "Our goal is to compare the total number of even rolls out of the total 100 rolls of the die.\n",
    "\n",
    "Recall we can count all the even rolls in the array by elementwise comparing each result to \"even\" and summing over the instances of `True`."
   ]
  },
  {
   "cell_type": "code",
   "execution_count": 16,
   "id": "a671b84b",
   "metadata": {},
   "outputs": [
    {
     "data": {
      "text/plain": [
       "50"
      ]
     },
     "execution_count": 16,
     "metadata": {},
     "output_type": "execute_result"
    }
   ],
   "source": [
    "total_even = sum(results_parity == 'even')\n",
    "\n",
    "total_even"
   ]
  },
  {
   "cell_type": "markdown",
   "id": "60aff5c9",
   "metadata": {},
   "source": [
    "Suppose we want to repeat this experiment a few times and record the results. We create a `results` array containing the total evens in the first 100 rolls and extend this list with each new experiment."
   ]
  },
  {
   "cell_type": "code",
   "execution_count": 17,
   "id": "81fa0e91",
   "metadata": {},
   "outputs": [
    {
     "data": {
      "text/plain": [
       "array([50])"
      ]
     },
     "execution_count": 17,
     "metadata": {},
     "output_type": "execute_result"
    }
   ],
   "source": [
    "results = np.array([total_even]) \n",
    "\n",
    "results"
   ]
  },
  {
   "cell_type": "markdown",
   "id": "ed929f1d",
   "metadata": {},
   "source": [
    "We first generate the 100 random rolls of the die using `np.random.choice(die, 100)`.\n",
    "\n",
    "From this array, the `vec_parity` function will tell us which rolls were even and which rolls were odd. We sum over the even elements and append this to the current array.\n",
    "\n",
    "(Recall `np.append()` does not modify the original list, so the assignment is necessary.)"
   ]
  },
  {
   "cell_type": "code",
   "execution_count": 18,
   "id": "e34a918b",
   "metadata": {},
   "outputs": [
    {
     "data": {
      "text/plain": [
       "array([50, 49])"
      ]
     },
     "execution_count": 18,
     "metadata": {},
     "output_type": "execute_result"
    }
   ],
   "source": [
    "results = np.append(results, sum(vec_parity(np.random.choice(die, 100)) == 'even'))\n",
    "\n",
    "results"
   ]
  },
  {
   "cell_type": "markdown",
   "id": "9ebf6df5",
   "metadata": {},
   "source": [
    "We can run this experiment again!"
   ]
  },
  {
   "cell_type": "code",
   "execution_count": 19,
   "id": "8d0691a6",
   "metadata": {},
   "outputs": [
    {
     "data": {
      "text/plain": [
       "array([50, 49, 48])"
      ]
     },
     "execution_count": 19,
     "metadata": {},
     "output_type": "execute_result"
    }
   ],
   "source": [
    "results = np.append(results, sum(vec_parity(np.random.choice(die, 100)) == 'even'))\n",
    "\n",
    "results"
   ]
  },
  {
   "cell_type": "markdown",
   "id": "9e816601",
   "metadata": {},
   "source": [
    "And again!"
   ]
  },
  {
   "cell_type": "code",
   "execution_count": 20,
   "id": "4bf2f396",
   "metadata": {},
   "outputs": [
    {
     "data": {
      "text/plain": [
       "array([50, 49, 48, 49])"
      ]
     },
     "execution_count": 20,
     "metadata": {},
     "output_type": "execute_result"
    }
   ],
   "source": [
    "results = np.append(results, sum(vec_parity(np.random.choice(die, 100)) == 'even'))\n",
    "\n",
    "results"
   ]
  },
  {
   "cell_type": "markdown",
   "id": "6df57f95",
   "metadata": {},
   "source": [
    "And again?"
   ]
  },
  {
   "cell_type": "code",
   "execution_count": 21,
   "id": "419d2c3f",
   "metadata": {},
   "outputs": [
    {
     "data": {
      "text/plain": [
       "array([50, 49, 48, 49, 56])"
      ]
     },
     "execution_count": 21,
     "metadata": {},
     "output_type": "execute_result"
    }
   ],
   "source": [
    "results = np.append(results, sum(vec_parity(np.random.choice(die, 100)) == 'even'))\n",
    "\n",
    "results"
   ]
  },
  {
   "cell_type": "markdown",
   "id": "1fcc74f2",
   "metadata": {},
   "source": [
    "Is there a more automated way? In the next section we explore how we can streamline this process of running an experiment multiple times."
   ]
  }
 ],
 "metadata": {
  "kernelspec": {
   "display_name": "Python 3 (ipykernel)",
   "language": "python",
   "name": "python3"
  },
  "language_info": {
   "codemirror_mode": {
    "name": "ipython",
    "version": 3
   },
   "file_extension": ".py",
   "mimetype": "text/x-python",
   "name": "python",
   "nbconvert_exporter": "python",
   "pygments_lexer": "ipython3",
   "version": "3.9.12"
  }
 },
 "nbformat": 4,
 "nbformat_minor": 5
}

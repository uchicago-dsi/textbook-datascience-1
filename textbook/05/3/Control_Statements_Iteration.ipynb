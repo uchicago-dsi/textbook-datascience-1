{
 "cells": [
  {
   "cell_type": "markdown",
   "id": "0f1488a2",
   "metadata": {},
   "source": [
    "# Iteration and Simulation"
   ]
  },
  {
   "cell_type": "markdown",
   "id": "d1b34e0f",
   "metadata": {},
   "source": [
    "In the case that we want to repeat a programming block of statements or expressions multiple times, the control statement `for` can be used. Before we continue with the example from the previous section, we'll focus on the foundation of this *iteration* tool.\n",
    "\n",
    "A `for` statement can *iterate* through a sequence to perform some action on each of its elements. This sequence can really be any *iterable* object, including a list, a string, or a range of numbers, to name a few. The general form of a `for` statement is below:\n",
    "\n",
    "```python\n",
    "for item in sequence:\n",
    "    action    \n",
    "```\n",
    "\n",
    "Notice we specify a name to assign to the value of each of the items in the sequence – here `item`. This name is assigned to each values `in` the sequence, sequentially. And for each of these assignments – or \"loops\" – the indented body of the `for` statement is executed (here \"action\")."
   ]
  },
  {
   "cell_type": "markdown",
   "id": "5501cc72",
   "metadata": {},
   "source": [
    "For example, to print out each element in a given list we might use the following code."
   ]
  },
  {
   "cell_type": "code",
   "execution_count": 7,
   "id": "4ece3037-9654-47c4-83fc-89f58ce25c81",
   "metadata": {},
   "outputs": [
    {
     "name": "stdout",
     "output_type": "stream",
     "text": [
      "red\n",
      "rotten\n",
      "tasty\n"
     ]
    }
   ],
   "source": [
    "adjectives = [\"red\", \"rotten\", \"tasty\"]\n",
    "\n",
    "for word in adjectives:\n",
    "    print(word)"
   ]
  },
  {
   "cell_type": "markdown",
   "id": "bac686e1",
   "metadata": {},
   "source": [
    "The above dictates that for each element `word` in the list `adjectives`, we execute the indented body: `print(word)`.\n",
    "\n",
    "`word` was sequentially assigned the value of each of the elements in the list. We can choose something else since this choice of name does not matter. The `for` statement below also prints out each element in the list `adjectives`."
   ]
  },
  {
   "cell_type": "code",
   "execution_count": 8,
   "id": "e96c6705",
   "metadata": {},
   "outputs": [
    {
     "name": "stdout",
     "output_type": "stream",
     "text": [
      "red\n",
      "rotten\n",
      "tasty\n"
     ]
    }
   ],
   "source": [
    "for item in adjectives:\n",
    "    print(item)"
   ]
  },
  {
   "cell_type": "markdown",
   "id": "e4b2916d",
   "metadata": {},
   "source": [
    "Note that what we iterate over does not need to be directly related to the body of the `for` statement. In fact, `for` statements are useful to simply execute the body or action a given number of times.\n",
    "\n",
    "In the first example below, the value of the *iterator* is used in the body of the `for` statement; in the second example, the `for` statement uses this iterator merely to repeat or loop through the body statement a certain number of times. "
   ]
  },
  {
   "cell_type": "code",
   "execution_count": 9,
   "id": "2b5265a5",
   "metadata": {},
   "outputs": [
    {
     "name": "stdout",
     "output_type": "stream",
     "text": [
      "0\n",
      "1\n",
      "2\n"
     ]
    }
   ],
   "source": [
    "for i in range(3):\n",
    "    print(i)"
   ]
  },
  {
   "cell_type": "code",
   "execution_count": 10,
   "id": "07407de0",
   "metadata": {},
   "outputs": [
    {
     "name": "stdout",
     "output_type": "stream",
     "text": [
      "potato\n",
      "potato\n",
      "potato\n"
     ]
    }
   ],
   "source": [
    "for i in range(3):\n",
    "    print('potato')"
   ]
  },
  {
   "cell_type": "markdown",
   "id": "27d52acc",
   "metadata": {},
   "source": [
    "Instead of performing the action of printing, it might be useful to use a loop to count how often something occurs. Below we create a list of colors and we want to know how many colors have a `u` in them. For each element in the list we want to \n",
    "1. perform the action of checking 'Is there a u?'\n",
    "2. If a 'u' exists, we want to count that 'u'.\n",
    "\n",
    "To do this, we need to augment a variable that is defined *outside* the loop. That is, we need to define a `count` variable that we can increase each time the given condition is met. Since the default is `none`, that is at the start there are no colors with a 'u', we set `count = 0`. Each time a 'u' is found in the loop, we overwrite `count` by adding one to the previous `count` variable."
   ]
  },
  {
   "cell_type": "code",
   "execution_count": 11,
   "id": "9d93ae85",
   "metadata": {},
   "outputs": [],
   "source": [
    "color_list = ['red','orange', 'green', 'blue', 'yellow', 'purple', 'brown']"
   ]
  },
  {
   "cell_type": "code",
   "execution_count": 12,
   "id": "d7c26fac",
   "metadata": {},
   "outputs": [],
   "source": [
    "count = 0\n",
    "\n",
    "for color in color_list:\n",
    "    if 'u' in color:\n",
    "        count = count +1"
   ]
  },
  {
   "cell_type": "markdown",
   "id": "4313ef57",
   "metadata": {},
   "source": [
    "Printing the value of `count` after we run the loop gives us how many colors in our list have a 'u'."
   ]
  },
  {
   "cell_type": "code",
   "execution_count": 13,
   "id": "02477589",
   "metadata": {},
   "outputs": [
    {
     "name": "stdout",
     "output_type": "stream",
     "text": [
      "2\n"
     ]
    }
   ],
   "source": [
    "print(count)"
   ]
  },
  {
   "cell_type": "markdown",
   "id": "e193997c",
   "metadata": {},
   "source": [
    "## Nested *for* loops"
   ]
  },
  {
   "cell_type": "markdown",
   "id": "7d29a465",
   "metadata": {},
   "source": [
    "Suppose we want to repeat a process for each loop of a repeated process. We can accomplish this by nesting a `for` statement within a `for` statement.\n",
    "\n",
    "For example, suppose we have two lists, and we want to pair every element in `list_1` with every element in `list_2`. We *could* write out all possible combinations of pairs of elements of `list_1` with elements of `list_2`. Or, we could use nested `for` statements to systematically consider each element in `list_2` for each element in `list_1`.\n",
    "\n",
    "This takes the following form:\n",
    "\n",
    "```python\n",
    "for item_1 in list_1:\n",
    "    for item_2 in list_2:\n",
    "        print(item_1, item_2)\n",
    "```"
   ]
  },
  {
   "cell_type": "markdown",
   "id": "b8bba1fa",
   "metadata": {},
   "source": [
    "For a more concrete example, consider the list of `adjectives` above, and the new list of `fruits` below . We'll use a nested `for` statement to print all possible `adjective`, `fruit` combinations. "
   ]
  },
  {
   "cell_type": "code",
   "execution_count": 14,
   "id": "84bd7b3c",
   "metadata": {},
   "outputs": [],
   "source": [
    "fruits = [\"apple\", \"banana\", \"cherry\"]"
   ]
  },
  {
   "cell_type": "code",
   "execution_count": 15,
   "id": "821e88e2",
   "metadata": {},
   "outputs": [
    {
     "name": "stdout",
     "output_type": "stream",
     "text": [
      "red apple\n",
      "red banana\n",
      "red cherry\n",
      "rotten apple\n",
      "rotten banana\n",
      "rotten cherry\n",
      "tasty apple\n",
      "tasty banana\n",
      "tasty cherry\n"
     ]
    }
   ],
   "source": [
    "for adjective in adjectives:\n",
    "    for fruit in fruits:\n",
    "        print(adjective, fruit)"
   ]
  },
  {
   "cell_type": "markdown",
   "id": "23a1bac8",
   "metadata": {},
   "source": [
    "Alternatively, we could pick *random* combinations; though, in doing so we cannot guarantee that each combination will be distinct.\n",
    "\n",
    "Setting `combos = 5` below, the `for` statement prints a random adjective paired with a random fruit for each number in the range to `combos` – really, repeating these selections `combos` (or five) times.\n",
    "\n",
    "Feel free to experiment with the number of combinations to print below."
   ]
  },
  {
   "cell_type": "code",
   "execution_count": 16,
   "id": "d4ac14c0",
   "metadata": {},
   "outputs": [
    {
     "name": "stdout",
     "output_type": "stream",
     "text": [
      "rotten cherry\n",
      "red banana\n",
      "red cherry\n",
      "rotten apple\n",
      "red cherry\n"
     ]
    }
   ],
   "source": [
    "import numpy as np\n",
    "\n",
    "combos = 5 \n",
    "\n",
    "for i in np.arange(combos):\n",
    "    print(np.random.choice(adjectives), np.random.choice(fruits))"
   ]
  },
  {
   "cell_type": "markdown",
   "id": "eb73ce63",
   "metadata": {},
   "source": [
    "If we want to iterate through a list or other object but only perform an action on specific values in that list, we can use *for* statements in combination with *if* statements. For example, to print out all items in the list `adjectives` with less than or equal to five characters, we use a *for* statement to loop through each individual item in the list and check if the length satisfies the inequality."
   ]
  },
  {
   "cell_type": "code",
   "execution_count": 8,
   "id": "f2398b8b",
   "metadata": {},
   "outputs": [
    {
     "name": "stdout",
     "output_type": "stream",
     "text": [
      "red\n",
      "tasty\n"
     ]
    }
   ],
   "source": [
    "for adjective in adjectives:\n",
    "    if len(adjective) <= 5:\n",
    "        print(adjective)"
   ]
  },
  {
   "cell_type": "markdown",
   "id": "abce94c6",
   "metadata": {},
   "source": [
    "## List and Dictionary Comprehension"
   ]
  },
  {
   "cell_type": "markdown",
   "id": "25e09fb1",
   "metadata": {},
   "source": [
    "In [Section 4.1: Lists](../../04/1/Lists.ipynb) we created the following list of prime numbers:"
   ]
  },
  {
   "cell_type": "code",
   "execution_count": 17,
   "id": "35c4dd52",
   "metadata": {},
   "outputs": [
    {
     "data": {
      "text/plain": [
       "[2, 3, 5, 7, 11, 13, 17, 19, 23]"
      ]
     },
     "execution_count": 17,
     "metadata": {},
     "output_type": "execute_result"
    }
   ],
   "source": [
    "primes_abridged = [2, 3, 5, 7, 11, 13, 17, 19, 23]\n",
    "primes_abridged"
   ]
  },
  {
   "cell_type": "markdown",
   "id": "a80de77d",
   "metadata": {},
   "source": [
    "We can process this data to make a new list, or *mapping*.\n",
    "\n",
    "Consider the following expression, which creates a (partial) mapping of `primes_abridged`, with its elements doubled:"
   ]
  },
  {
   "cell_type": "code",
   "execution_count": 23,
   "id": "bbae6d3d",
   "metadata": {},
   "outputs": [
    {
     "data": {
      "text/plain": [
       "[4, 6]"
      ]
     },
     "execution_count": 23,
     "metadata": {},
     "output_type": "execute_result"
    }
   ],
   "source": [
    "primes_doubled = [2 * primes_abridged[0], 2 * primes_abridged[1]]\n",
    "\n",
    "primes_doubled"
   ]
  },
  {
   "cell_type": "markdown",
   "id": "5a961cbc",
   "metadata": {},
   "source": [
    "The above form *works*, strictly speaking; but, it would require a lot of typing to process all the elements of `primes_abridged`! Moreover, an expression of the above form requires that there are a certain set number of elements – the expression will fail if there are too few elements, and it will ignore any more elements.\n",
    "\n",
    "We can instead write the following:"
   ]
  },
  {
   "cell_type": "code",
   "execution_count": 21,
   "id": "a189681b",
   "metadata": {},
   "outputs": [
    {
     "data": {
      "text/plain": [
       "[4, 6, 10, 14, 22, 26, 34, 38, 46]"
      ]
     },
     "execution_count": 21,
     "metadata": {},
     "output_type": "execute_result"
    }
   ],
   "source": [
    "primes_doubled = []\n",
    "\n",
    "for prime in primes_abridged:\n",
    "    primes_doubled.append(2 * prime)\n",
    "    \n",
    "primes_doubled"
   ]
  },
  {
   "cell_type": "markdown",
   "id": "48424fe2",
   "metadata": {},
   "source": [
    "In the above cell:\n",
    "\n",
    "1. First, we initialized an *empty* list, and assigned to this the name, `primes_doubled`\n",
    "2. Then, using the control structure of the \"for loop,\" we considered the elements of `primes_abridged` sequentially, in each \"loop\" assigning one of its elements the name, `prime`\n",
    "3. Finally, in each loop, we multiplied the value of the element by two, and added the value of this expression to the end of the list, `primes_doubled`, using the *list method* `append`.\n",
    "\n",
    "This is a fundamental pattern in the majority of programming languages; and, one which doesn't apply only to lists.\n",
    "\n",
    "That said, there are other ways to instruct the computer to do the same – and which you may find are either *more succinct* (linguistically), *more efficient* (computationally), or both.\n",
    "\n",
    "The most \"Pythonic\" way of producing `primes_doubled` involves the **list comprehension**."
   ]
  },
  {
   "cell_type": "code",
   "execution_count": null,
   "id": "90a21eba",
   "metadata": {},
   "outputs": [],
   "source": [
    "primes_doubled = [2 * prime for prime in primes_abridged]\n",
    "\n",
    "primes_doubled"
   ]
  },
  {
   "cell_type": "markdown",
   "id": "e6a8fb0d",
   "metadata": {},
   "source": [
    "In the list comprehension, we again used the keywords `for` and `in`, in order to consider the elements of `primes_abridged` sequentially, under the name `prime`. But in this case, we were able to construct `primes_doubled` with a single, clear expression of our *mapping* from one set of data to another."
   ]
  },
  {
   "cell_type": "markdown",
   "id": "3a47d73e",
   "metadata": {},
   "source": [
    "We can use **dictionary comprehensions** to create dictionaries in a similar way to list comprehensions. Instead of using `[]` as in list comprehensions, a dictionary comprehension using `{}`."
   ]
  },
  {
   "cell_type": "code",
   "execution_count": null,
   "id": "448aff83",
   "metadata": {},
   "outputs": [],
   "source": [
    "{prime:2 * prime for prime in primes_abridged}"
   ]
  },
  {
   "cell_type": "markdown",
   "id": "f81034dd",
   "metadata": {},
   "source": [
    "## Simulating the six-sided die"
   ]
  },
  {
   "cell_type": "markdown",
   "id": "820e6565",
   "metadata": {},
   "source": [
    "In the last section we experimented with finding the number of even dice rolls when rolling a six-sided die 100 times. Now we can simulate repeating this experiment many times using the process of iteration.\n",
    "\n",
    "Below we'll redefine the six-sided die and other relevant items from the last section."
   ]
  },
  {
   "cell_type": "code",
   "execution_count": 24,
   "id": "872b3ac8",
   "metadata": {},
   "outputs": [],
   "source": [
    "die = np.arange(1, 7)\n",
    "\n",
    "def parity(input_integer): \n",
    "    '''Assumes integer input\n",
    "    Returns even or odd'''\n",
    "    if (input_integer % 2) == 0:\n",
    "        return \"even\"\n",
    "    else:\n",
    "        return \"odd\"\n",
    "    \n",
    "vec_parity = np.vectorize(parity) "
   ]
  },
  {
   "cell_type": "markdown",
   "id": "ce404c99",
   "metadata": {},
   "source": [
    "Now we'll set the desired number of iterations (10,000) and create a `for` loop to execute the experiment of rolling a die 100 times, checking whether the rolls are even, and then appending the number of evens to an array.\n",
    "\n",
    "After the experiments are simulated, we'll use the array of results to summarize our experiment. Finding the minimum and maximum number of evens rolled out of the total 100 rolls as well as the average of evens gives us useful and interesting information. \n",
    "\n",
    "In the code below, we use `np.empty(0)` to create an empty array. As we iterate through the loop, we add the results of our experiment to this array.\n",
    "\n",
    "Experiment below with different values for `num_iterations`, but be careful as it is easy to set up a long run time!"
   ]
  },
  {
   "cell_type": "code",
   "execution_count": 26,
   "id": "6fd861ca",
   "metadata": {},
   "outputs": [
    {
     "data": {
      "text/plain": [
       "array([0, 1, 2, 3])"
      ]
     },
     "execution_count": 26,
     "metadata": {},
     "output_type": "execute_result"
    }
   ],
   "source": [
    "import numpy as np\n",
    "np.arange(4)"
   ]
  },
  {
   "cell_type": "code",
   "execution_count": 27,
   "id": "6c07eef4",
   "metadata": {},
   "outputs": [
    {
     "name": "stdout",
     "output_type": "stream",
     "text": [
      "Number of iterations: 10,000\n",
      "Min Evens (out of 100): 31.0\n",
      "Max Evens (out of 100): 69.0\n",
      "Mean Evens (out of 100): 50\n"
     ]
    }
   ],
   "source": [
    "num_iterations = 10_000\n",
    "\n",
    "total_evens = np.empty(0)\n",
    "\n",
    "# Below we iterate through the array np.arange(num_experiments)\n",
    "# alternatively we could use range(num_experiments)\n",
    "\n",
    "for i in np.arange(num_iterations): \n",
    "    choices = np.random.choice(die, 100)\n",
    "    labels = vec_parity(choices)    \n",
    "    total_evens = np.append(total_evens, sum(labels == 'even'))\n",
    "\n",
    "\n",
    "# Since these aren't indented, they are outside of the \"for\" loop, and executed after it's done:\n",
    "\n",
    "print('Number of iterations: {:,}'.format(len(total_evens)))\n",
    "print('Min Evens (out of 100):', min(total_evens))\n",
    "print('Max Evens (out of 100):', max(total_evens))\n",
    "print('Mean Evens (out of 100):', round(np.mean(total_evens)))"
   ]
  },
  {
   "cell_type": "markdown",
   "id": "74bd01f9",
   "metadata": {},
   "source": [
    "In later chapters, we will learn to visualize and explore this data in more detail. \n",
    "For now, if you want to see the contents of the result array you can run the following line:"
   ]
  },
  {
   "cell_type": "code",
   "execution_count": 28,
   "id": "bf3f78af",
   "metadata": {},
   "outputs": [
    {
     "data": {
      "text/plain": [
       "array([46., 50., 52., ..., 41., 43., 55.])"
      ]
     },
     "execution_count": 28,
     "metadata": {},
     "output_type": "execute_result"
    }
   ],
   "source": [
    "total_evens"
   ]
  },
  {
   "cell_type": "markdown",
   "id": "03c16359",
   "metadata": {},
   "source": [
    "The process of simulating an experiment is much faster than performing the task and recording the results by hand. The `for` loop is essential in this action! It allows us to quickly get data that mimics a real world situation."
   ]
  }
 ],
 "metadata": {
  "kernelspec": {
   "display_name": "base",
   "language": "python",
   "name": "python3"
  },
  "language_info": {
   "codemirror_mode": {
    "name": "ipython",
    "version": 3
   },
   "file_extension": ".py",
   "mimetype": "text/x-python",
   "name": "python",
   "nbconvert_exporter": "python",
   "pygments_lexer": "ipython3",
   "version": "3.12.3"
  }
 },
 "nbformat": 4,
 "nbformat_minor": 5
}

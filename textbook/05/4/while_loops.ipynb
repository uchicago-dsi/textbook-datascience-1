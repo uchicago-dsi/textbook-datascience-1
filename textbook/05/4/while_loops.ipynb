{
 "cells": [
  {
   "cell_type": "code",
   "execution_count": 11,
   "id": "10e12d4c",
   "metadata": {},
   "outputs": [],
   "source": [
    "import numpy as np"
   ]
  },
  {
   "cell_type": "markdown",
   "id": "836402ad",
   "metadata": {},
   "source": [
    "# While Loops"
   ]
  },
  {
   "cell_type": "markdown",
   "id": "95503b00",
   "metadata": {},
   "source": [
    "In the last section, we saw examples where we wanted to repeat a process a known number of times. However, it could be the case that we don't know exactly how many times we want to repeat something. This is a situation where we might want to use a `while` loop.\n",
    "\n",
    "In a `while` loop, the body of the loop will be executed *as long as*, or *while* a specific condition is true.  \n",
    "The general format of a `while` loop is below.\n",
    "\n",
    "```python \n",
    "while condition:\n",
    "    action  \n",
    "```\n",
    "\n",
    "Notice, we do still see the colon and the indented body in the format of a `while` loop, and we have the keyword `while` to initiate the loop."
   ]
  },
  {
   "cell_type": "markdown",
   "id": "514e7500",
   "metadata": {},
   "source": [
    "To illustrate the main idea of a `while` loop, consider the example below. Here we initiate a value for `a`, and then the condition `a < 4` is evaluated. If this Boolean output is `True`, the body of the statement will execute. In this case we update `a` during each iteration. Once `a = 4`, the condition `a < 4` is `False`, thus the loop is no longer executed."
   ]
  },
  {
   "cell_type": "code",
   "execution_count": 5,
   "id": "4cfa7a68",
   "metadata": {},
   "outputs": [
    {
     "name": "stdout",
     "output_type": "stream",
     "text": [
      "1\n",
      "2\n",
      "3\n",
      "4\n"
     ]
    }
   ],
   "source": [
    "a = 0\n",
    "\n",
    "while a < 4:\n",
    "    a = a +1 \n",
    "    print(a)"
   ]
  },
  {
   "cell_type": "markdown",
   "id": "7fa5934e",
   "metadata": {},
   "source": [
    "Notice a key difference between an `if` statement and a `while` loop in the example below. An `if` statement will execute exactly once, whereas a `while` loop will execute an unknown number of times, as long as the given condition is `True`."
   ]
  },
  {
   "cell_type": "code",
   "execution_count": 6,
   "id": "95087e7a",
   "metadata": {},
   "outputs": [
    {
     "name": "stdout",
     "output_type": "stream",
     "text": [
      "1\n"
     ]
    }
   ],
   "source": [
    "a = 0\n",
    "\n",
    "if a < 4:\n",
    "    a = a +1 \n",
    "    print(a)"
   ]
  },
  {
   "cell_type": "markdown",
   "id": "32bae252",
   "metadata": {},
   "source": [
    "What might be a situation where we don't know how many times we want to repeat something? The simulation below considers such an example."
   ]
  },
  {
   "cell_type": "markdown",
   "id": "8b52ffac",
   "metadata": {},
   "source": [
    "## Simulation with the `while` loop"
   ]
  },
  {
   "cell_type": "markdown",
   "id": "b44609ca",
   "metadata": {},
   "source": [
    "Suppose we have a six-sided die and we want to know *how many rolls until we get a 5?* We can simulate this with a `while` loop.\n",
    "\n",
    "First creating our six-sided die, we want to continue rolling while the statement *I have not rolled a 5.* is `True`. We do this by creating a list of stored rolls `list_of rolls` and checking if the number 5 is contained in that list. This condition becomes the `while` loop condition.\n",
    "\n",
    "```python\n",
    "while 5 not in list_of_rolls\n",
    "```\n",
    "\n",
    "Each iteration, we roll the die again and store the new output. As soon as `5 not in list_of_rolls` is `False`, we have rolled a 5, so we are done.\n"
   ]
  },
  {
   "cell_type": "code",
   "execution_count": 21,
   "id": "7c5a1366",
   "metadata": {},
   "outputs": [],
   "source": [
    "die = np.arange(1, 7)"
   ]
  },
  {
   "cell_type": "code",
   "execution_count": 34,
   "id": "c48f2aff",
   "metadata": {},
   "outputs": [
    {
     "name": "stdout",
     "output_type": "stream",
     "text": [
      "[1, 4, 5]\n"
     ]
    }
   ],
   "source": [
    "list_of_rolls =[]\n",
    "\n",
    "while 5 not in list_of_rolls:\n",
    "    list_of_rolls.append(np.random.choice(die))\n",
    "    \n",
    "print(list_of_rolls)"
   ]
  },
  {
   "cell_type": "markdown",
   "id": "2d353648",
   "metadata": {},
   "source": [
    "How many rolls until we got a 5? We could directly count the output above, but in general we can call the `len` function."
   ]
  },
  {
   "cell_type": "code",
   "execution_count": 35,
   "id": "30dc0f05",
   "metadata": {},
   "outputs": [
    {
     "data": {
      "text/plain": [
       "3"
      ]
     },
     "execution_count": 35,
     "metadata": {},
     "output_type": "execute_result"
    }
   ],
   "source": [
    "len(list_of_rolls)"
   ]
  },
  {
   "cell_type": "markdown",
   "id": "7f52294a",
   "metadata": {},
   "source": [
    "Repeating this experiment gives us an idea of how many rolls we need, on average, before rolling a 5. \n",
    "\n",
    "Below we run 100 experiments, where each iteration we collect how many rolls were needed before getting an output of 5."
   ]
  },
  {
   "cell_type": "code",
   "execution_count": 57,
   "id": "2b567f84",
   "metadata": {},
   "outputs": [],
   "source": [
    "how_many = np.array([])\n",
    "\n",
    "for i in np.arange(100):\n",
    "    list_of_rolls =[]\n",
    "\n",
    "    while 5 not in list_of_rolls:\n",
    "        list_of_rolls.append(np.random.choice(die))\n",
    "    how_many = np.append(how_many,len(list_of_rolls))\n",
    "    "
   ]
  },
  {
   "cell_type": "markdown",
   "id": "e81b8e9e",
   "metadata": {},
   "source": [
    "Finding the average of the `how_many` array tells us we need approximately 6 rolls of the die before we get a 5."
   ]
  },
  {
   "cell_type": "code",
   "execution_count": 58,
   "id": "04e2018c",
   "metadata": {},
   "outputs": [
    {
     "data": {
      "text/plain": [
       "5.92"
      ]
     },
     "execution_count": 58,
     "metadata": {},
     "output_type": "execute_result"
    }
   ],
   "source": [
    "how_many.mean()"
   ]
  },
  {
   "cell_type": "markdown",
   "id": "260df2f0",
   "metadata": {},
   "source": [
    "```{note}\n",
    "This is an example of simulating under the geometric distribution, where we are interested in the number of trials before the first success.\n",
    "```"
   ]
  },
  {
   "cell_type": "markdown",
   "id": "d3fe49cc",
   "metadata": {},
   "source": [
    "## Infinite loops"
   ]
  },
  {
   "cell_type": "markdown",
   "id": "94bb3e2b",
   "metadata": {},
   "source": [
    "Note of caution. Since we do not specify a number of iterations for a `while` loop, there is a possibility of entering an infinite loop. This is a situation where your condition is always met, and never False, meaning the `while` loop will never terminate naturally - but rather will terminate when it runs out of memory or time.\n",
    "\n",
    "In the example below, we see the condition `x > 0` is always True, thus you might get a Timeout Error when running the code.\n",
    "\n",
    "```python \n",
    "x = 3\n",
    "\n",
    "while x > 0:\n",
    "    print(x)\n",
    "   \n",
    "```\n",
    "\n",
    "Usually the body of the statement would contain some way to update the condition parameter, in this example the value of `x`, so that there is an opportunity for the truth value of the condition to change."
   ]
  },
  {
   "cell_type": "markdown",
   "id": "403295c1",
   "metadata": {},
   "source": [
    "If we are concerned about an infinite loop possibility, we can use a `break` inside of a `while` loop. This allows us to terminate the `while` loop after a fixed number of iterations or some predetermined condition. The first time the `break` statement is reached, the `while` loop will immediately terminate."
   ]
  },
  {
   "cell_type": "code",
   "execution_count": 10,
   "id": "eadab6db",
   "metadata": {},
   "outputs": [
    {
     "name": "stdout",
     "output_type": "stream",
     "text": [
      "1\n",
      "2\n",
      "3\n",
      "4\n",
      "5\n",
      "6\n"
     ]
    }
   ],
   "source": [
    "x = 3\n",
    "count = 0\n",
    "\n",
    "while x > 0:\n",
    "    count = count +1\n",
    "    print(count)\n",
    "    if count > 5:\n",
    "        break"
   ]
  },
  {
   "cell_type": "markdown",
   "id": "24ad5c87",
   "metadata": {},
   "source": [
    "In addition to a simulation example where we want to repeat a process an unknown number of times, `while` loops are also useful when asking for programs involving user input. If we prompt a user to enter their age as an integer value, we don't know how many times they could incorrectly input a value. Until the input is as expected we would continue to prompt the user for a valid response."
   ]
  },
  {
   "cell_type": "code",
   "execution_count": null,
   "id": "ff0c1451",
   "metadata": {},
   "outputs": [],
   "source": []
  }
 ],
 "metadata": {
  "kernelspec": {
   "display_name": "Python 3 (ipykernel)",
   "language": "python",
   "name": "python3"
  },
  "language_info": {
   "codemirror_mode": {
    "name": "ipython",
    "version": 3
   },
   "file_extension": ".py",
   "mimetype": "text/x-python",
   "name": "python",
   "nbconvert_exporter": "python",
   "pygments_lexer": "ipython3",
   "version": "3.9.12"
  }
 },
 "nbformat": 4,
 "nbformat_minor": 5
}

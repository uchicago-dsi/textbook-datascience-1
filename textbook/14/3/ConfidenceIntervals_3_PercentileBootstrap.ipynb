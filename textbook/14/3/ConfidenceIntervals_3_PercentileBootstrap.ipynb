{
 "cells": [
  {
   "cell_type": "code",
   "execution_count": 1,
   "id": "49f1398b",
   "metadata": {
    "tags": [
     "remove-cell"
    ]
   },
   "outputs": [],
   "source": [
    "import numpy as np\n",
    "import pandas as pd\n",
    "\n",
    "%matplotlib inline\n",
    "import matplotlib.pyplot as plt\n",
    "plt.style.use('fivethirtyeight')\n",
    "\n",
    "population_salary=pd.read_csv(\"../../data/Salaries.csv\")"
   ]
  },
  {
   "cell_type": "markdown",
   "id": "da1a4d0d",
   "metadata": {},
   "source": [
    "# The percentile bootstrap confidence intervals\n",
    "\n",
    "We introduce here a different version of the bootstrap confidence interval. Although it is very popular, it is based on more assumptions. Here we assume that the sampling distribution for $\\hat\\theta$ is known and that it is **symmetric around $\\theta$**; see below.\n",
    "\n",
    "<img align=\"center\" src=\"./middle90sym.jpg\" width=\"400\"/>\n",
    "\n",
    "Then, $U_1-\\theta=\\theta-L_1=W$ (reflecting the width of this distribution). From the picture above, with probability 0.90:\n",
    "\n",
    "$$|\\hat\\theta-\\theta|\\leq W$$\n",
    "\n",
    "leading to \n",
    "\n",
    "$$\\hat\\theta-W\\leq \\theta\\leq \\hat\\theta+W$$\n",
    "\n",
    "We call $[ \\hat\\theta-W, \\hat\\theta+W]$ a **90\\% confidence interval**.\n",
    "This can be approximated by $[L_1,U_1]$ and we call this a 90\\% confidence interval.\n",
    "\n",
    "It leads to the following procedure for obtaining a confidence interval:\n",
    "- use bootstrap to obtain an estimate of the sampling distribution of $\\hat\\theta$.\n",
    "- from the bootstrap distribution calculate the empirical percentiles $L_1^b$ and $U_1^b$\n",
    "- $[L_1^b,U_1^b]$ is called **a percentile bootstrap CI**.\n",
    "\n",
    "We will illustrate this with the salary data - let's assume that the interest now is on the population mean (the average salary of the City of Chicago employees)."
   ]
  },
  {
   "cell_type": "code",
   "execution_count": 2,
   "id": "f4f8085e",
   "metadata": {},
   "outputs": [
    {
     "data": {
      "text/plain": [
       "[100382.64415185722, 97993.725]"
      ]
     },
     "execution_count": 2,
     "metadata": {},
     "output_type": "execute_result"
    }
   ],
   "source": [
    "# the parameter of interest\n",
    "theta=population_salary['Annual Salary'].mean()\n",
    "\n",
    "np.random.seed(3322)\n",
    "\n",
    "# this is a SRS of size n=80\n",
    "sample_salary=population_salary.sample(80,replace=False)\n",
    "\n",
    "#the average salary in the sample\n",
    "theta_hat=sample_salary['Annual Salary'].mean()\n",
    "\n",
    "[theta,theta_hat]"
   ]
  },
  {
   "cell_type": "markdown",
   "id": "b1e5dd17",
   "metadata": {},
   "source": [
    "Above, we calculate the average salary in the population ($\\$100,382.6$) and in a simple random sample of size 80 ($\\$97,993.7$). Below, we define a function that is very similar to the one introduced in the previous section, that generates bootstrap means needed for the approximation of the sampling distribution."
   ]
  },
  {
   "cell_type": "code",
   "execution_count": 3,
   "id": "9179fd54",
   "metadata": {},
   "outputs": [],
   "source": [
    "def bootstrap_mean(original_sample, label, replications):\n",
    "    \"\"\"Simulate sample means:\n",
    "    original_sample: df containing the original sample data\n",
    "    label: label of column containing the variable\n",
    "    replications: number of bootstrap samples\n",
    "    Returns array of bootstrap sample means\n",
    "    \"\"\"\n",
    "    means = np.array([])\n",
    "    for i in np.arange(replications):\n",
    "        bootstrap_sample = original_sample.sample(len(original_sample),replace=True)\n",
    "        resampled_mean = bootstrap_sample['Annual Salary'].mean()\n",
    "        means = np.append(means, resampled_mean)\n",
    "        \n",
    "    return means\n"
   ]
  },
  {
   "cell_type": "code",
   "execution_count": 4,
   "id": "21f06841",
   "metadata": {},
   "outputs": [],
   "source": [
    "bstrap_means = bootstrap_mean(sample_salary, 'Annual.Salary', 1000)"
   ]
  },
  {
   "cell_type": "code",
   "execution_count": 5,
   "id": "763f9205",
   "metadata": {
    "scrolled": true
   },
   "outputs": [
    {
     "data": {
      "image/png": "[encoded data removed]",
      "text/plain": [
       "<Figure size 432x288 with 1 Axes>"
      ]
     },
     "metadata": {},
     "output_type": "display_data"
    }
   ],
   "source": [
    "plt.hist(bstrap_means)\n",
    "plt.scatter(theta_hat, -10, color='purple', s=40)\n",
    "plt.scatter(theta, -10, color='red', s=40)\n",
    "plt.xticks(ticks=[92000,95000,98000,101000,104000], labels=[\"92K\",\"95K\",\"98K\",\"101K\",\"104K\"])\n",
    "plt.xlabel(\"bootstrap medians\");"
   ]
  },
  {
   "cell_type": "markdown",
   "id": "4d77523c",
   "metadata": {},
   "source": [
    "The above histogram is our approximation for the sampling distribution of $\\hat\\theta$. The purple dot is the location of the average salary in our sample, and the red dot is the location of the average salary in the population."
   ]
  },
  {
   "cell_type": "code",
   "execution_count": 6,
   "id": "0c70d10c",
   "metadata": {},
   "outputs": [
    {
     "name": "stdout",
     "output_type": "stream",
     "text": [
      "[93339.230625, 102538.108125]\n"
     ]
    }
   ],
   "source": [
    "left = np.percentile(bstrap_means, 2.5)\n",
    "right = np.percentile(bstrap_means,97.5)\n",
    "\n",
    "# a 95% CI\n",
    "print([left,right])"
   ]
  },
  {
   "cell_type": "markdown",
   "id": "0ff1729e",
   "metadata": {},
   "source": [
    "The 95% confidence interval for the average salary in the city of Chicago is [933339.2,102538.1]."
   ]
  }
 ],
 "metadata": {
  "kernelspec": {
   "display_name": "Python 3",
   "language": "python",
   "name": "python3"
  },
  "language_info": {
   "codemirror_mode": {
    "name": "ipython",
    "version": 3
   },
   "file_extension": ".py",
   "mimetype": "text/x-python",
   "name": "python",
   "nbconvert_exporter": "python",
   "pygments_lexer": "ipython3",
   "version": "3.8.8"
  }
 },
 "nbformat": 4,
 "nbformat_minor": 5
}

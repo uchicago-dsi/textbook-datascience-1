{
 "cells": [
  {
   "cell_type": "markdown",
   "metadata": {},
   "source": [
    "# Pillar 3: Informed Consent\n",
    "\n",
    "**Acquisition and collection of data should involve volition and informed consent from human subjects**\n",
    "\n",
    "Many research studies and commercial entities collect data from human subjects. The type of data may range from personal information (e.g. name, phone number, address, etc.) to usage and activity metrics from apps, websites, and other inputs. In informed research efforts, researchers often explain to subjects the purpose of the study, the data being collected, and why it is being collected. On the other hand, commercial entities often do not take as much of a personable approach when collecting data. Usually, prior to the collection of data, subjects are presented with an extensive “Terms and Conditions” document, which may have to be accepted for the use of a product or service. Often times, people do not thoroughly read these documents, and simply “accept” these terms and conditions. While presenting human subjects with an exhaustive document containing technical and legal jargon can be viewed as providing the opportunity for informed consent, considering the context in which these “Terms of Use” is presented can be an important basis for determining if such an approach effectively aligns with ethical informed consent.\n",
    "\n",
    "Ethical guidelines in behavioral and biological research conduct was prioritized as an important research protocol in the late 20th century after a number of incidents raised public concern, including the Tuskegee experiments [^*], the Thalidomide experiments [^**], and Nazi human experimentation [^***]. Following these incidents, the United States Congress created the National Commission for the Protection of Human Subjects of Biomedical and Behavioral Research in 1974, which was tasked with making recommendations for laws and protections for vulnerable populations in research endeavors. The Commission produced recommendations and reports for several groups of research subjects that had experienced previous abuse, such as children, [^****] prisoners, [^*****] and those that are mentally infirm. [^******] The Commission also help to establish the institutional review board (IRB), [^*******] a body of scientists and non-scientists that ethically review and approve research at an institution, as well as the Belmont report, [^********] a framework used to guide the ethical review of research studies. The Belmont Report uses three principles as the basis of ethical evaluation in human research:\n",
    "\n",
    "- Respect of persons: Respect for persons encompasses at least two ethical convictions: 1) that individuals should be treated as autonomous agents, and 2) that persons with diminished autonomy are entitled to protection. Autonomy refers to a person's ability to deliberate about personal goals and act or make decisions based on their deliberation. An important part of this deliberation includes <u>informed consent</u> (see below). Treating a person as an autonomous agent means giving space for an autonomous person's opinions and decisions and refraining from obstructing resultant actions as long as they are not detrimental to others. One's autonomy can be influenced by young age or immaturity, as well as if the person is faced with physical illness, mental impairment, or circumstances that restrict their liberty. Such persons experiencing aforementioned circumstances are entitled to protection, which may include excluding them from activities that may cause harm them.\n",
    "\n",
    "\n",
    "- Beneficence: Acting with beneficence means treating people in a way that secures their well-being. Actions rooted in beneficence have two general rules as a foundation: (1) do not harm and (2) maximize possible benefits and minimize possible harms. In research, sometimes avoiding harm requires learning what is actually harmful. This process may expose research subjects to risk. Researchers and IRBs often perform assessments of possible risks and benefits in order to decide if research efforts should proceed.\n",
    "\n",
    "\n",
    "- Justice: In research, justice considers equitable distribution of risks and rewards. In the past, targeted research subjects were persons of largely low-income, racial minorities, institutionalized, or some other vulnerable population. Yet, the recipients of beneficial discoveries from said research were often not from these groups, but rather wealthy patients. Justice in research means benefits are not denied to persons without good reason and burdens are not imposed unduly.\n",
    "\n",
    "## Informed Consent\n",
    "\n",
    "The Belmont Report also established the need for informed consent in human research endeavors and clarified what that looks like in practice. While respect of persons involved the ability for an individual to chose what they shall or shall not participate in, this choice involves three main elements: information, comprehension and voluntariness.\n",
    "\n",
    "- **Information**: Providing adequate information to a subject in order for them to make sound and informed decisions around participation may include sharing communications and material documenting the research procedure, their purposes, associated risks and anticipated benefits, alternative procedures (where therapy is involved), and a statement offering the subject the opportunity to ask questions and to withdraw their participation at any time from the study. In cases where research requires withholding information, this may be justifiable only if it is clear that (1) incomplete disclosure is truly necessary to accomplish the goals of the research, (2) there are no undisclosed risks to subjects that are more than minimal, and (3) there is an adequate plan for debriefing subjects, when appropriate, and for dissemination of research results to them. \n",
    "\n",
    "\n",
    "- **Comprehension**: Understanding of the implications of one's involvement in a research study is just as important as information about the study presented to them. Because a subject's ability to understand is a function of intelligence, rationality, language, and maturity, a researcher must adapt presentation and communication of information about the study to the research subject's needs. For those that are not able to comprehend this information (infants and young children, patients with mental impairments, or terminally ill and comatose patients), third-party advocates should be consulted and respected in making decisions in the research subject's best interest.\n",
    "\n",
    "\n",
    "- **Voluntariness**: Research participation is valid and consenting if it is done voluntarily. This means that giving consent to be in a research study must not be influenced by coercion, undue influence, or unjustifiable pressure. Coercion occurs when there is threat of harm to an individual if they do not comply with a request. Undue influence can include offers of unwarranted, exorbitant, or inappropriate reward in exchange for compliance. Unjustifiable pressure may occur when persons of influence or authority urge compliance. The boundary between unjustifiable pressure and justifiable persuasion can be difficult to manage, but clear unethical actions such as manipulation, tactics of control, and threats are major hindrances to one's voluntary participation and consent.\n",
    "\n",
    "## Challenges Faced: Informed Consent in Data Science\n",
    "\n",
    "Commercial and industry spaces may not share the same goals around research conduct and knowledge generation as academic spaces. Thus, ethical considerations by companies look very different in practice. In 2019, the New York Times published an opinion piece investigating the readability of 150 privacy policies of popular platforms and companies, such as Airbnb, Facebook, Apple, and Yelp[^*********]. The article described that the readability of most of these privacy policies exceeded college-level reading and took at least 15 minutes to read, which may not be conducive for comprehension. While this experiment was brief in nature and accounted the experience of one journalist, it highlights some important concerns regarding the data policies used by companies. The complexities of many policies could serve as a barrier for users to truly understand and consent to the collection and use of their data. Because of this, facilitating volition is an important and effective mechanism for involving consensual collection of data from human subjects. This may require a policy document to use simplified, specific language that is more understandable to a layperson audience. It may also include the use of representatives or liaisons from a company to converse with users, provide opportunities for questions, and explain important highlights and details regarding the use of their data. The trade-off of this approach is the limitation of time and resources to facilitate volition, which could reduce the use of a company’s product or service en masse. It may also limit a company’s ability to maintain and distribute data that would be for the benefit of the company. As there are important points to consider in the development of data collection protocols, one must weigh organizational interests with ethical implications to determine the most suitable mechanisms to inform product users and research subjects.\n",
    "\n",
    "<img align=\"center\" src=\"./img/NYT-readability.png\" width=\"85%\"/>\n",
    "\n",
    "<figcaption>Reading level and time (in minutes) required to read internet privacy policies for 150 popular websites and apps, along with popular books, according to Lexile scoring</figcaption>"
   ]
  },
  {
   "cell_type": "markdown",
   "metadata": {},
   "source": [
    "[^*]: Vonderlehr, R.A., Clark, T., Wenger, O.C., Heller, J.R., Untreated Syphilis in the Male Negro, Journal of Venereal Disease Information. 17:260-265, (1936).\n",
    "\n",
    "[^**]: Taussig, Helen B. “The Thalidomide Syndrome.” Scientific American, vol. 207, no. 2, 1962, pp. 29–35. JSTOR, http://www.jstor.org/stable/24936633. Accessed 3 Aug. 2023.\n",
    "\n",
    "[^***]: mWeindling P, von Villiez A, Loewenau A, Farron N. The victims of unethical human experiments and coerced research under National Socialism. Endeavour. 2016 Mar;40(1):1-6. doi: 10.1016/j.endeavour.2015.10.005. Epub 2015 Dec 31. PMID: 26749461; PMCID: PMC4822534.\n",
    "\n",
    "[^****]: Research Involving Children. The National Commission for the Protection of Human Subjects of Biomedical and Behavioral Research, 1977.\n",
    "\n",
    "[^*****]: Research Involving Prisoners. The National Commission for the Protection of Human Subjects of Biomedical and Behavioral Research, 1976.\n",
    "\n",
    "[^******]: Research Involving Those Institutionalized as Mentally Infirm. The Commission, 1978.\n",
    "\n",
    "[^*******]: Report and Recommendations : Institutional Review Boards. U.S. Dept. of Health, Education, and Welfare, 1978.\n",
    "\n",
    "[^********]: The Belmont Report : Ethical Principles and Guidelines for the Protection of Human Subjects of Research : Appendix. The Commission : for sale by the Supt. of Docs., U.S. Govt. Print. Off, 1978.\n",
    "\n",
    "[^*********]: Litman-Navarro, Kevin. “Opinion | We Read 150 Privacy Policies. They Were an Incomprehensible Disaster.” The New York Times, 12 June 2019, https://www.nytimes.com/interactive/2019/06/12/opinion/facebook-google-privacy-policies.html."
   ]
  },
  {
   "cell_type": "code",
   "execution_count": null,
   "metadata": {},
   "outputs": [],
   "source": []
  }
 ],
 "metadata": {
  "kernelspec": {
   "display_name": "Python 3 (ipykernel)",
   "language": "python",
   "name": "python3"
  },
  "language_info": {
   "codemirror_mode": {
    "name": "ipython",
    "version": 3
   },
   "file_extension": ".py",
   "mimetype": "text/x-python",
   "name": "python",
   "nbconvert_exporter": "python",
   "pygments_lexer": "ipython3",
   "version": "3.9.12"
  },
  "vscode": {
   "interpreter": {
    "hash": "aee8b7b246df8f9039afb4144a1f6fd8d2ca17a180786b69acc140d282b71a49"
   }
  }
 },
 "nbformat": 4,
 "nbformat_minor": 2
}

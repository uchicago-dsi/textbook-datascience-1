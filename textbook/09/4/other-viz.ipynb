{
 "cells": [
  {
   "cell_type": "markdown",
   "id": "02ee0b6e",
   "metadata": {},
   "source": [
    "# Other Visualization Techniques\n",
    "\n",
    "In this section, we will introduce other data visualizations that can be used to represent categorical or numerical data. We will discuss another visualization library called `seaborn`. While the `matplotlib` library can be used to create most data visualizations in Python, there are some restrictions when it comes to customization. The `seaborn` library provides many flexible options when creating visualizations. In the upcoming exercises, we will use a combination of `seaborn` and `matplotlib` to make visualizations, including box and whisker plots, heatmaps, and area plots.\n",
    "\n",
    "Along with the previous data and libraries we have been using, we will import `seaborn` as a common convention: `sns`."
   ]
  },
  {
   "cell_type": "code",
   "execution_count": 129,
   "id": "41e82e0c",
   "metadata": {},
   "outputs": [],
   "source": [
    "import warnings\n",
    "warnings.filterwarnings('ignore')\n",
    "\n",
    "import numpy as np\n",
    "import pandas as pd\n",
    "\n",
    "from matplotlib import pyplot as plt\n",
    "import seaborn as sns\n",
    "\n",
    "plt.style.use('fast')"
   ]
  },
  {
   "cell_type": "markdown",
   "id": "589f64b7",
   "metadata": {},
   "source": [
    "## Box and Whisker Plots\n",
    "\n",
    "Box and whisker plots are a useful data visualization method because they intrinsically display multiple summary statistics simultaneously. The central line of each box within a box and whisker plot is the *median*. The median (also known as the second quartile, $Q_2$) is a value within a dataset that lies within the middle, separating the higher half and the lower half of the dataset. The median is a valuable measure of center for a dataset because it is not greatly affected by outliers, as opposed to the *mean*.\n",
    "\n",
    "If *A* represents a dataset with the values listed below, the median of *A* can be determined by sorting the numbers from low to high and determining the value that falls into the middle (which in this case is 109):\n",
    "\n",
    "<img align=\"center\" src=\"./img/median(odd).png\" width=\"60%\"/>\n",
    "\n",
    "\n",
    "In the case of a dataset with an even number of values, the median can be calculated as the mean of the middle two values, as shown in the example dataset *B* below:\n",
    "\n",
    "<img align=\"center\" src=\"./img/median(even).png\" width=\"45%\"/>\n",
    "\n",
    "\n",
    "Box and whisker plots also show the *lower quartile*, *the upper quartile*, the *interquartile range*, *outliers*, the *minimum*, and the *maximum*. The lower quartile $\\left( Q_1\\right)$ is the value where the lowest 25% of the data points within a dataset lie. It is represented by the lower end of the box. \n",
    "\n",
    "On the other side, the upper quartile $\\left( Q_3\\right)$ is the value in which the highest 25% of the dataset resides. It is represented by the higher end of a box.\n",
    "\n",
    "\n",
    "The interquartile range (IQR), is the difference between the upper quartile and the lower quartile. The IQR is used to make the length of a box and is represented by the equation:\n",
    "\n",
    "  > $IQR=Q_3-Q_1$\n",
    "    \n",
    "\n",
    "Outliers are data points that are less than $Q_1-1.5×IQR$ or greater than $Q_3+1.5×IQR$. These data points are shown beyond the extremity of the whiskers.\n",
    "\n",
    "Lastly, the minimum and maximum values are represented by the lowest and highest values, respectively, <b>that are within the range $Q_1-1.5×IQR$ and $Q_3+1.5×IQR$</b>. Essentially, they are the lowest and highest values that <u>do not</u> qualify as outliers. The lower whisker represents the minimum value, while the upper whisker represents the maximum value.\n",
    "\n",
    "Below is a pictorial summary of the major components of a box and whisker plot with an accompanying set of numbers, *A*:"
   ]
  },
  {
   "cell_type": "markdown",
   "id": "64ee017b",
   "metadata": {},
   "source": [
    "<img align=\"center\" src=\"./img/BoxandWhisker.png\" width=\"75%\"/>"
   ]
  },
  {
   "cell_type": "markdown",
   "id": "0b21bf29",
   "metadata": {},
   "source": [
    "With the `military` data, we will use a box and whisker plot to examine the percentage GDP spending on the military for each country in the '60s as a way to examine multiple statistics for each country in this time period.\n",
    "\n",
    "First, we extract the data of interest:"
   ]
  },
  {
   "cell_type": "code",
   "execution_count": 131,
   "id": "3f2494b4",
   "metadata": {
    "scrolled": true
   },
   "outputs": [
    {
     "data": {
      "text/html": [
       "<div>\n",
       "<style scoped>\n",
       "    .dataframe tbody tr th:only-of-type {\n",
       "        vertical-align: middle;\n",
       "    }\n",
       "\n",
       "    .dataframe tbody tr th {\n",
       "        vertical-align: top;\n",
       "    }\n",
       "\n",
       "    .dataframe thead th {\n",
       "        text-align: right;\n",
       "    }\n",
       "</style>\n",
       "<table border=\"1\" class=\"dataframe\">\n",
       "  <thead>\n",
       "    <tr style=\"text-align: right;\">\n",
       "      <th></th>\n",
       "      <th>CAN-PercentGDP</th>\n",
       "      <th>MEX-PercentGDP</th>\n",
       "      <th>USA-PercentGDP</th>\n",
       "    </tr>\n",
       "    <tr>\n",
       "      <th>Year</th>\n",
       "      <th></th>\n",
       "      <th></th>\n",
       "      <th></th>\n",
       "    </tr>\n",
       "  </thead>\n",
       "  <tbody>\n",
       "    <tr>\n",
       "      <th>1960</th>\n",
       "      <td>4.185257</td>\n",
       "      <td>0.673509</td>\n",
       "      <td>8.993125</td>\n",
       "    </tr>\n",
       "    <tr>\n",
       "      <th>1961</th>\n",
       "      <td>4.128312</td>\n",
       "      <td>0.651780</td>\n",
       "      <td>9.156031</td>\n",
       "    </tr>\n",
       "    <tr>\n",
       "      <th>1962</th>\n",
       "      <td>3.999216</td>\n",
       "      <td>0.689655</td>\n",
       "      <td>9.331673</td>\n",
       "    </tr>\n",
       "    <tr>\n",
       "      <th>1963</th>\n",
       "      <td>3.620650</td>\n",
       "      <td>0.718686</td>\n",
       "      <td>8.831891</td>\n",
       "    </tr>\n",
       "    <tr>\n",
       "      <th>1964</th>\n",
       "      <td>3.402063</td>\n",
       "      <td>0.677507</td>\n",
       "      <td>8.051281</td>\n",
       "    </tr>\n",
       "    <tr>\n",
       "      <th>1965</th>\n",
       "      <td>2.930261</td>\n",
       "      <td>0.591270</td>\n",
       "      <td>7.587247</td>\n",
       "    </tr>\n",
       "    <tr>\n",
       "      <th>1966</th>\n",
       "      <td>2.683282</td>\n",
       "      <td>0.576379</td>\n",
       "      <td>8.435300</td>\n",
       "    </tr>\n",
       "    <tr>\n",
       "      <th>1967</th>\n",
       "      <td>2.747927</td>\n",
       "      <td>0.545217</td>\n",
       "      <td>9.417796</td>\n",
       "    </tr>\n",
       "    <tr>\n",
       "      <th>1968</th>\n",
       "      <td>2.543642</td>\n",
       "      <td>0.548511</td>\n",
       "      <td>9.268454</td>\n",
       "    </tr>\n",
       "    <tr>\n",
       "      <th>1969</th>\n",
       "      <td>2.273785</td>\n",
       "      <td>0.600160</td>\n",
       "      <td>8.633264</td>\n",
       "    </tr>\n",
       "  </tbody>\n",
       "</table>\n",
       "</div>"
      ],
      "text/plain": [
       "      CAN-PercentGDP  MEX-PercentGDP  USA-PercentGDP\n",
       "Year                                                \n",
       "1960        4.185257        0.673509        8.993125\n",
       "1961        4.128312        0.651780        9.156031\n",
       "1962        3.999216        0.689655        9.331673\n",
       "1963        3.620650        0.718686        8.831891\n",
       "1964        3.402063        0.677507        8.051281\n",
       "1965        2.930261        0.591270        7.587247\n",
       "1966        2.683282        0.576379        8.435300\n",
       "1967        2.747927        0.545217        9.417796\n",
       "1968        2.543642        0.548511        9.268454\n",
       "1969        2.273785        0.600160        8.633264"
      ]
     },
     "execution_count": 131,
     "metadata": {},
     "output_type": "execute_result"
    }
   ],
   "source": [
    "military = pd.read_csv(\"../../data/NorthAmerica_Military_USD-PercentGDP_Combined.csv\", index_col='Year')\n",
    "\n",
    "the60s = military.loc[1960:1969, ['CAN-PercentGDP', 'MEX-PercentGDP', 'USA-PercentGDP']]\n",
    "\n",
    "the60s"
   ]
  },
  {
   "cell_type": "markdown",
   "id": "097daad0",
   "metadata": {},
   "source": [
    "It is possible to make boxplots using using `pyplot` or the DataFrame method `plot.box()`, as shown below:"
   ]
  },
  {
   "cell_type": "code",
   "execution_count": 3,
   "id": "34aca023",
   "metadata": {},
   "outputs": [
    {
     "data": {
      "image/png": "[encoded data removed]",
      "text/plain": [
       "<Figure size 432x288 with 1 Axes>"
      ]
     },
     "metadata": {
      "needs_background": "light"
     },
     "output_type": "display_data"
    }
   ],
   "source": [
    "# Creates a boxplot using pyplot from matplotlib\n",
    "plt.boxplot(the60s)\n",
    "plt.show()"
   ]
  },
  {
   "cell_type": "code",
   "execution_count": 4,
   "id": "adda1f5f",
   "metadata": {},
   "outputs": [
    {
     "data": {
      "image/png": "[encoded data removed]",
      "text/plain": [
       "<Figure size 432x288 with 1 Axes>"
      ]
     },
     "metadata": {
      "needs_background": "light"
     },
     "output_type": "display_data"
    }
   ],
   "source": [
    "# Creates a boxplot using the DataFrame method plot.box()\n",
    "the60s.plot.box()\n",
    "plt.show()"
   ]
  },
  {
   "cell_type": "markdown",
   "id": "a12f1be2",
   "metadata": {},
   "source": [
    "Plotting using these approaches, the graphs show data within the columns of interest, but depending on the approach used, we see that the column title may or may not be used as categorical indicators on the x-axis. Furthermore, while these plots do the job of displaying the median and interquartile range, adding individual data points will allow for viewers to more easily see the spread of the data. The addition of axis labels, a title, and some color would also enhance this plot and make it more aesthetically pleasing. \n",
    "\n",
    "We can accomplish this using a combination of functions from `matplotlib` and `seaborn`. Using the `sns.boxplot()` and `sns.swarmplot()` functions will allow us to create a boxplot with data points overlayed on top:"
   ]
  },
  {
   "cell_type": "code",
   "execution_count": 5,
   "id": "f5f1e20c",
   "metadata": {},
   "outputs": [
    {
     "data": {
      "image/png": "[encoded data removed]",
      "text/plain": [
       "<Figure size 432x288 with 1 Axes>"
      ]
     },
     "metadata": {
      "needs_background": "light"
     },
     "output_type": "display_data"
    }
   ],
   "source": [
    "ax = sns.boxplot(data=the60s, palette=\"Set2\", linewidth=1)\n",
    "ax = sns.swarmplot(data=the60s, palette=\"Set2\", linewidth=0.5, edgecolor = \"black\")\n",
    "plt.xticks(ticks = [0,1,2], labels = ['Canada', 'Mexico', 'United States'])\n",
    "plt.ylabel(\"Percent of GDP\")\n",
    "plt.title(\"% GDP spent on the military in North America from 1960-1969\")\n",
    "\n",
    "\n",
    "plt.show()"
   ]
  },
  {
   "cell_type": "markdown",
   "id": "62687a9d",
   "metadata": {},
   "source": [
    "Now that we have proper labeling, we can see the median, upper quartile, and lower quartile of the percentage of the each country's GDP spent on the military from 1960 to 1969. A noticeable observation this plot shows is that Mexico not only spent a small percentage of their GDP on the military (less than 2%), but the percentage of spending during this decade had very little variability. This makes it hard to see what the median, upper quartile, and lower quartile are for Mexico. The issue of being able to visually resolve displays of data is a common one that data scientists encounter."
   ]
  },
  {
   "cell_type": "markdown",
   "id": "913ed316",
   "metadata": {},
   "source": [
    "## Heatmaps\n",
    "\n",
    "A heatmap is a matrix of data points depicted through a color gradient. Heatmaps are a great way to visualize data when you want to look at a multidimensional comparison of many variables. Heatmaps can be made from `matplotlib`, but this process may not be as straightforward to some. On the other hand, `seaborn` has a function dedicated to generations of heatmaps called `sns.heatmap()`. For your reference, both the `matplotlib` and `seaborn` approaches for constructing heatmaps are listed below.\n",
    "\n",
    "With `seaborn`, we will use a heatmap to visualize variables that take on a large range of values. Using data from the Division of Vital Statistics at the Center for Disease Control (CDC), we will examine maternal mortality rates (MMR) in the United States from 2018 to 2019. This data displays the MMR per 100,000 live births based on race and Hispanic origin in various age groups. More information on the dataset can be found <a target=\"_blank\" href=\"https://www.cdc.gov/nchs/data/hestat/maternal-mortality-2021/maternal-mortality-2021.htm\">here</a>.\n",
    "\n",
    "Let's load the data:"
   ]
  },
  {
   "cell_type": "code",
   "execution_count": 39,
   "id": "81938f3d",
   "metadata": {},
   "outputs": [
    {
     "data": {
      "text/html": [
       "<div>\n",
       "<style scoped>\n",
       "    .dataframe tbody tr th:only-of-type {\n",
       "        vertical-align: middle;\n",
       "    }\n",
       "\n",
       "    .dataframe tbody tr th {\n",
       "        vertical-align: top;\n",
       "    }\n",
       "\n",
       "    .dataframe thead th {\n",
       "        text-align: right;\n",
       "    }\n",
       "</style>\n",
       "<table border=\"1\" class=\"dataframe\">\n",
       "  <thead>\n",
       "    <tr style=\"text-align: right;\">\n",
       "      <th></th>\n",
       "      <th>MMR (2018)</th>\n",
       "      <th>MMR (2019)</th>\n",
       "    </tr>\n",
       "    <tr>\n",
       "      <th>Race/Ethnicity: Age Group</th>\n",
       "      <th></th>\n",
       "      <th></th>\n",
       "    </tr>\n",
       "  </thead>\n",
       "  <tbody>\n",
       "    <tr>\n",
       "      <th>Total: All Ages</th>\n",
       "      <td>17.4</td>\n",
       "      <td>20.1</td>\n",
       "    </tr>\n",
       "    <tr>\n",
       "      <th>Total: Under 25</th>\n",
       "      <td>10.6</td>\n",
       "      <td>12.6</td>\n",
       "    </tr>\n",
       "    <tr>\n",
       "      <th>Total: 25-39</th>\n",
       "      <td>16.6</td>\n",
       "      <td>19.9</td>\n",
       "    </tr>\n",
       "    <tr>\n",
       "      <th>Total: 40 and over</th>\n",
       "      <td>81.9</td>\n",
       "      <td>75.5</td>\n",
       "    </tr>\n",
       "    <tr>\n",
       "      <th>NHW: All Ages</th>\n",
       "      <td>14.9</td>\n",
       "      <td>17.9</td>\n",
       "    </tr>\n",
       "    <tr>\n",
       "      <th>NHW: Under 25</th>\n",
       "      <td>10.5</td>\n",
       "      <td>13.1</td>\n",
       "    </tr>\n",
       "    <tr>\n",
       "      <th>NHW: 25–39</th>\n",
       "      <td>13.8</td>\n",
       "      <td>16.8</td>\n",
       "    </tr>\n",
       "    <tr>\n",
       "      <th>NHW: 40 and over</th>\n",
       "      <td>72.0</td>\n",
       "      <td>75.2</td>\n",
       "    </tr>\n",
       "    <tr>\n",
       "      <th>NHB: All Ages</th>\n",
       "      <td>37.3</td>\n",
       "      <td>44.0</td>\n",
       "    </tr>\n",
       "    <tr>\n",
       "      <th>NHB: Under 25</th>\n",
       "      <td>15.3</td>\n",
       "      <td>18.8</td>\n",
       "    </tr>\n",
       "    <tr>\n",
       "      <th>NHB: 25–39</th>\n",
       "      <td>38.2</td>\n",
       "      <td>49.7</td>\n",
       "    </tr>\n",
       "    <tr>\n",
       "      <th>NHB: 40 and over</th>\n",
       "      <td>239.9</td>\n",
       "      <td>166.5</td>\n",
       "    </tr>\n",
       "    <tr>\n",
       "      <th>His: All Ages</th>\n",
       "      <td>11.8</td>\n",
       "      <td>12.6</td>\n",
       "    </tr>\n",
       "    <tr>\n",
       "      <th>His: Under 25</th>\n",
       "      <td>7.6</td>\n",
       "      <td>8.5</td>\n",
       "    </tr>\n",
       "    <tr>\n",
       "      <th>His: 25–39</th>\n",
       "      <td>12.4</td>\n",
       "      <td>12.2</td>\n",
       "    </tr>\n",
       "    <tr>\n",
       "      <th>His: 40 and over</th>\n",
       "      <td>NaN</td>\n",
       "      <td>NaN</td>\n",
       "    </tr>\n",
       "  </tbody>\n",
       "</table>\n",
       "</div>"
      ],
      "text/plain": [
       "                           MMR (2018)  MMR (2019)\n",
       "Race/Ethnicity: Age Group                        \n",
       "Total: All Ages                  17.4        20.1\n",
       "Total: Under 25                  10.6        12.6\n",
       "Total: 25-39                     16.6        19.9\n",
       "Total: 40 and over               81.9        75.5\n",
       "NHW: All Ages                    14.9        17.9\n",
       "NHW: Under 25                    10.5        13.1\n",
       "NHW: 25–39                       13.8        16.8\n",
       "NHW: 40 and over                 72.0        75.2\n",
       "NHB: All Ages                    37.3        44.0\n",
       "NHB: Under 25                    15.3        18.8\n",
       "NHB: 25–39                       38.2        49.7\n",
       "NHB: 40 and over                239.9       166.5\n",
       "His: All Ages                    11.8        12.6\n",
       "His: Under 25                     7.6         8.5\n",
       "His: 25–39                       12.4        12.2\n",
       "His: 40 and over                  NaN         NaN"
      ]
     },
     "execution_count": 39,
     "metadata": {},
     "output_type": "execute_result"
    }
   ],
   "source": [
    "mmr = pd.read_csv(\"../../data/maternal-mortality-rate_2018-2019.csv\", index_col='Race/Ethnicity: Age Group')\n",
    "\n",
    "mmr"
   ]
  },
  {
   "cell_type": "markdown",
   "id": "19f8b302",
   "metadata": {},
   "source": [
    "The `sns.heatmap()` function minimally requires an argument for the `data` parameter. We can specify this argument to be the DataFrame `mmr`:"
   ]
  },
  {
   "cell_type": "code",
   "execution_count": 132,
   "id": "ebda43d2",
   "metadata": {},
   "outputs": [
    {
     "data": {
      "image/png": "[encoded data removed]",
      "text/plain": [
       "<Figure size 432x288 with 2 Axes>"
      ]
     },
     "metadata": {
      "needs_background": "light"
     },
     "output_type": "display_data"
    }
   ],
   "source": [
    "sns.heatmap(data = mmr)\n",
    "\n",
    "plt.show()"
   ]
  },
  {
   "cell_type": "markdown",
   "id": "bfbe75f1",
   "metadata": {},
   "source": [
    "Above we generated our heatmap based on our data, but there is room for improvement. The current colormap makes it difficult to see each individual race/ethnicity category. We can outline each individual data point using the `linewidth` and `linecolor` parameters. We'll also change the colormap from the default to something more visually distinguishable using the `cmap` parameter.\n",
    "\n",
    "Furthermore, additional labeling would help in communicating what the data is about. A label for the color map bar can be added using the `cbar_kws` parameter and passing a dictionary as an argument. We will also add a title using `plt.title()`"
   ]
  },
  {
   "cell_type": "code",
   "execution_count": 74,
   "id": "c7d59b51",
   "metadata": {},
   "outputs": [
    {
     "data": {
      "image/png": "[encoded data removed]",
      "text/plain": [
       "<Figure size 432x288 with 2 Axes>"
      ]
     },
     "metadata": {
      "needs_background": "light"
     },
     "output_type": "display_data"
    }
   ],
   "source": [
    "sns.heatmap(data = mmr, cmap='summer_r', linewidth=2, linecolor=\"black\", # colormap, line width, and color specified\n",
    "           cbar_kws={'label': 'Maternal Mortality Rate (MMR) per 100,000 Live Births'}) # color bar labeled\n",
    "plt.title('U.S. MMR, by race and Hispanic origin and age: 2018 - 2019')           # title added\n",
    "\n",
    "plt.show()"
   ]
  },
  {
   "cell_type": "markdown",
   "id": "d6f03618",
   "metadata": {},
   "source": [
    "This is better, but it still can be improved! To make it easier to distinguish each row, we can change our figure size to be `plt.figure()`. We could also increase the space between the title and the heatmap using the `pad` parameter in `plt.title()`.\n",
    "\n",
    "Additionally, labeling the values of each data point would aid a viewer in understanding the distribution of the dataset. By passing `True` into the `annot` parameter, we can label each data point with its respective value. We dictate the format of this labeling using the `fmt` parameter, following formatting for string literals. More information on that is referenced below.\n",
    "\n",
    "Lastly, we can specify the minimum and maximum values of the color bar using `vmin` and `vmax`, respectively."
   ]
  },
  {
   "cell_type": "code",
   "execution_count": 76,
   "id": "93ec8fcf",
   "metadata": {},
   "outputs": [
    {
     "data": {
      "image/png": "[encoded data removed]",
      "text/plain": [
       "<Figure size 288x720 with 2 Axes>"
      ]
     },
     "metadata": {
      "needs_background": "light"
     },
     "output_type": "display_data"
    }
   ],
   "source": [
    "plt.figure(figsize=(4,10)) \n",
    "\n",
    "sns.heatmap(data = mmr, cmap='summer_r', linewidth=2, linecolor=\"black\", # colormap, line width, and color specified\n",
    "           cbar_kws={'label': 'Maternal Mortality Rate (MMR) per 100,000 Live Births'}, # color bar labeled\n",
    "            vmin=0, vmax=250, annot=True, fmt='g')                  # min and max values set, annotate data points\n",
    "plt.title('U.S. MMR, by race and Hispanic origin and age: 2018 - 2019', pad=20)     # title added, padding set\n",
    "\n",
    "plt.show()"
   ]
  },
  {
   "cell_type": "markdown",
   "id": "0a5f744d",
   "metadata": {},
   "source": [
    "Above, we see the matrix of values of the MMR (per 100,000 live births) in the U.S. based on race and ethnicity and age group. Notice that in the Hispanic, 40 and over group (His: 40 and over), these data points appear white for 2018 and 2019 and are not labeled. These groups have NaN values in the `mmr` DataFrame because the MMR does not meet National Center for Health Statistics standards of reliability, and thus, did not have a recorded value in the original dataset."
   ]
  },
  {
   "cell_type": "markdown",
   "id": "334804bf",
   "metadata": {},
   "source": [
    "## Area Plots\n",
    "\n",
    "An area plot is a specialized line graph that can be used to show trends of multiple variables in a dataset over a period of time. In an area plot, data points over time are connected to create a trend line and the region formed under the line is filled with a solid color. A useful adaptation of an area plot is that it can be constructed in a way that shows a proportional relationship of each variable to all variables over time, which can be a great alternative to using multiple pie charts to examine temporal trends.\n",
    "\n",
    "We will use an area plot to examine the proportion of suicides amongst youth ages 10-24 in east north central states from 2000-2018 using the `enc` dataset:"
   ]
  },
  {
   "cell_type": "code",
   "execution_count": 124,
   "id": "4be3c8fe",
   "metadata": {},
   "outputs": [
    {
     "data": {
      "text/html": [
       "<div>\n",
       "<style scoped>\n",
       "    .dataframe tbody tr th:only-of-type {\n",
       "        vertical-align: middle;\n",
       "    }\n",
       "\n",
       "    .dataframe tbody tr th {\n",
       "        vertical-align: top;\n",
       "    }\n",
       "\n",
       "    .dataframe thead th {\n",
       "        text-align: right;\n",
       "    }\n",
       "</style>\n",
       "<table border=\"1\" class=\"dataframe\">\n",
       "  <thead>\n",
       "    <tr style=\"text-align: right;\">\n",
       "      <th></th>\n",
       "      <th>Illinois</th>\n",
       "      <th>Indiana</th>\n",
       "      <th>Michigan</th>\n",
       "      <th>Ohio</th>\n",
       "      <th>Wisconsin</th>\n",
       "    </tr>\n",
       "    <tr>\n",
       "      <th>Year</th>\n",
       "      <th></th>\n",
       "      <th></th>\n",
       "      <th></th>\n",
       "      <th></th>\n",
       "      <th></th>\n",
       "    </tr>\n",
       "  </thead>\n",
       "  <tbody>\n",
       "    <tr>\n",
       "      <th>2000</th>\n",
       "      <td>155</td>\n",
       "      <td>112</td>\n",
       "      <td>138</td>\n",
       "      <td>151</td>\n",
       "      <td>109</td>\n",
       "    </tr>\n",
       "    <tr>\n",
       "      <th>2001</th>\n",
       "      <td>172</td>\n",
       "      <td>98</td>\n",
       "      <td>143</td>\n",
       "      <td>165</td>\n",
       "      <td>100</td>\n",
       "    </tr>\n",
       "    <tr>\n",
       "      <th>2002</th>\n",
       "      <td>168</td>\n",
       "      <td>104</td>\n",
       "      <td>150</td>\n",
       "      <td>168</td>\n",
       "      <td>112</td>\n",
       "    </tr>\n",
       "    <tr>\n",
       "      <th>2003</th>\n",
       "      <td>131</td>\n",
       "      <td>80</td>\n",
       "      <td>132</td>\n",
       "      <td>139</td>\n",
       "      <td>103</td>\n",
       "    </tr>\n",
       "    <tr>\n",
       "      <th>2004</th>\n",
       "      <td>160</td>\n",
       "      <td>99</td>\n",
       "      <td>148</td>\n",
       "      <td>199</td>\n",
       "      <td>111</td>\n",
       "    </tr>\n",
       "    <tr>\n",
       "      <th>2005</th>\n",
       "      <td>139</td>\n",
       "      <td>114</td>\n",
       "      <td>140</td>\n",
       "      <td>187</td>\n",
       "      <td>104</td>\n",
       "    </tr>\n",
       "    <tr>\n",
       "      <th>2006</th>\n",
       "      <td>135</td>\n",
       "      <td>98</td>\n",
       "      <td>124</td>\n",
       "      <td>183</td>\n",
       "      <td>71</td>\n",
       "    </tr>\n",
       "    <tr>\n",
       "      <th>2007</th>\n",
       "      <td>173</td>\n",
       "      <td>104</td>\n",
       "      <td>138</td>\n",
       "      <td>178</td>\n",
       "      <td>110</td>\n",
       "    </tr>\n",
       "    <tr>\n",
       "      <th>2008</th>\n",
       "      <td>144</td>\n",
       "      <td>94</td>\n",
       "      <td>146</td>\n",
       "      <td>202</td>\n",
       "      <td>80</td>\n",
       "    </tr>\n",
       "    <tr>\n",
       "      <th>2009</th>\n",
       "      <td>151</td>\n",
       "      <td>115</td>\n",
       "      <td>143</td>\n",
       "      <td>157</td>\n",
       "      <td>104</td>\n",
       "    </tr>\n",
       "    <tr>\n",
       "      <th>2010</th>\n",
       "      <td>151</td>\n",
       "      <td>107</td>\n",
       "      <td>182</td>\n",
       "      <td>193</td>\n",
       "      <td>113</td>\n",
       "    </tr>\n",
       "    <tr>\n",
       "      <th>2011</th>\n",
       "      <td>182</td>\n",
       "      <td>95</td>\n",
       "      <td>169</td>\n",
       "      <td>211</td>\n",
       "      <td>124</td>\n",
       "    </tr>\n",
       "    <tr>\n",
       "      <th>2012</th>\n",
       "      <td>160</td>\n",
       "      <td>127</td>\n",
       "      <td>199</td>\n",
       "      <td>197</td>\n",
       "      <td>108</td>\n",
       "    </tr>\n",
       "    <tr>\n",
       "      <th>2013</th>\n",
       "      <td>180</td>\n",
       "      <td>127</td>\n",
       "      <td>196</td>\n",
       "      <td>180</td>\n",
       "      <td>107</td>\n",
       "    </tr>\n",
       "    <tr>\n",
       "      <th>2014</th>\n",
       "      <td>187</td>\n",
       "      <td>128</td>\n",
       "      <td>211</td>\n",
       "      <td>197</td>\n",
       "      <td>127</td>\n",
       "    </tr>\n",
       "    <tr>\n",
       "      <th>2015</th>\n",
       "      <td>211</td>\n",
       "      <td>137</td>\n",
       "      <td>209</td>\n",
       "      <td>224</td>\n",
       "      <td>122</td>\n",
       "    </tr>\n",
       "    <tr>\n",
       "      <th>2016</th>\n",
       "      <td>184</td>\n",
       "      <td>157</td>\n",
       "      <td>217</td>\n",
       "      <td>215</td>\n",
       "      <td>143</td>\n",
       "    </tr>\n",
       "    <tr>\n",
       "      <th>2017</th>\n",
       "      <td>235</td>\n",
       "      <td>165</td>\n",
       "      <td>212</td>\n",
       "      <td>268</td>\n",
       "      <td>126</td>\n",
       "    </tr>\n",
       "    <tr>\n",
       "      <th>2018</th>\n",
       "      <td>201</td>\n",
       "      <td>179</td>\n",
       "      <td>251</td>\n",
       "      <td>271</td>\n",
       "      <td>114</td>\n",
       "    </tr>\n",
       "  </tbody>\n",
       "</table>\n",
       "</div>"
      ],
      "text/plain": [
       "      Illinois  Indiana  Michigan  Ohio  Wisconsin\n",
       "Year                                              \n",
       "2000       155      112       138   151        109\n",
       "2001       172       98       143   165        100\n",
       "2002       168      104       150   168        112\n",
       "2003       131       80       132   139        103\n",
       "2004       160       99       148   199        111\n",
       "2005       139      114       140   187        104\n",
       "2006       135       98       124   183         71\n",
       "2007       173      104       138   178        110\n",
       "2008       144       94       146   202         80\n",
       "2009       151      115       143   157        104\n",
       "2010       151      107       182   193        113\n",
       "2011       182       95       169   211        124\n",
       "2012       160      127       199   197        108\n",
       "2013       180      127       196   180        107\n",
       "2014       187      128       211   197        127\n",
       "2015       211      137       209   224        122\n",
       "2016       184      157       217   215        143\n",
       "2017       235      165       212   268        126\n",
       "2018       201      179       251   271        114"
      ]
     },
     "execution_count": 124,
     "metadata": {},
     "output_type": "execute_result"
    }
   ],
   "source": [
    "enc = pd.read_csv(\"../../data/east-north-central_suicides.csv\", index_col='Year')\n",
    "enc"
   ]
  },
  {
   "cell_type": "markdown",
   "id": "8b013073",
   "metadata": {},
   "source": [
    "Now that we have this data, we can begin to calculate the proportion of suicides in each state for each year. \n",
    "\n",
    "Using the `.sum()` and `.div()` methods, we can determine the sum for each year, then divide each data point by this sum. In the `.sum()` method, we will use `axis=1` to sum over each row, which will allow us to determine the total for each year:"
   ]
  },
  {
   "cell_type": "code",
   "execution_count": 125,
   "id": "b4eb14b0",
   "metadata": {},
   "outputs": [
    {
     "data": {
      "text/html": [
       "<div>\n",
       "<style scoped>\n",
       "    .dataframe tbody tr th:only-of-type {\n",
       "        vertical-align: middle;\n",
       "    }\n",
       "\n",
       "    .dataframe tbody tr th {\n",
       "        vertical-align: top;\n",
       "    }\n",
       "\n",
       "    .dataframe thead th {\n",
       "        text-align: right;\n",
       "    }\n",
       "</style>\n",
       "<table border=\"1\" class=\"dataframe\">\n",
       "  <thead>\n",
       "    <tr style=\"text-align: right;\">\n",
       "      <th></th>\n",
       "      <th>Illinois</th>\n",
       "      <th>Indiana</th>\n",
       "      <th>Michigan</th>\n",
       "      <th>Ohio</th>\n",
       "      <th>Wisconsin</th>\n",
       "    </tr>\n",
       "    <tr>\n",
       "      <th>Year</th>\n",
       "      <th></th>\n",
       "      <th></th>\n",
       "      <th></th>\n",
       "      <th></th>\n",
       "      <th></th>\n",
       "    </tr>\n",
       "  </thead>\n",
       "  <tbody>\n",
       "    <tr>\n",
       "      <th>2000</th>\n",
       "      <td>0.233083</td>\n",
       "      <td>0.168421</td>\n",
       "      <td>0.207519</td>\n",
       "      <td>0.227068</td>\n",
       "      <td>0.163910</td>\n",
       "    </tr>\n",
       "    <tr>\n",
       "      <th>2001</th>\n",
       "      <td>0.253687</td>\n",
       "      <td>0.144543</td>\n",
       "      <td>0.210914</td>\n",
       "      <td>0.243363</td>\n",
       "      <td>0.147493</td>\n",
       "    </tr>\n",
       "    <tr>\n",
       "      <th>2002</th>\n",
       "      <td>0.239316</td>\n",
       "      <td>0.148148</td>\n",
       "      <td>0.213675</td>\n",
       "      <td>0.239316</td>\n",
       "      <td>0.159544</td>\n",
       "    </tr>\n",
       "    <tr>\n",
       "      <th>2003</th>\n",
       "      <td>0.223932</td>\n",
       "      <td>0.136752</td>\n",
       "      <td>0.225641</td>\n",
       "      <td>0.237607</td>\n",
       "      <td>0.176068</td>\n",
       "    </tr>\n",
       "    <tr>\n",
       "      <th>2004</th>\n",
       "      <td>0.223152</td>\n",
       "      <td>0.138075</td>\n",
       "      <td>0.206416</td>\n",
       "      <td>0.277545</td>\n",
       "      <td>0.154812</td>\n",
       "    </tr>\n",
       "    <tr>\n",
       "      <th>2005</th>\n",
       "      <td>0.203216</td>\n",
       "      <td>0.166667</td>\n",
       "      <td>0.204678</td>\n",
       "      <td>0.273392</td>\n",
       "      <td>0.152047</td>\n",
       "    </tr>\n",
       "    <tr>\n",
       "      <th>2006</th>\n",
       "      <td>0.220949</td>\n",
       "      <td>0.160393</td>\n",
       "      <td>0.202946</td>\n",
       "      <td>0.299509</td>\n",
       "      <td>0.116203</td>\n",
       "    </tr>\n",
       "    <tr>\n",
       "      <th>2007</th>\n",
       "      <td>0.246088</td>\n",
       "      <td>0.147937</td>\n",
       "      <td>0.196302</td>\n",
       "      <td>0.253201</td>\n",
       "      <td>0.156472</td>\n",
       "    </tr>\n",
       "    <tr>\n",
       "      <th>2008</th>\n",
       "      <td>0.216216</td>\n",
       "      <td>0.141141</td>\n",
       "      <td>0.219219</td>\n",
       "      <td>0.303303</td>\n",
       "      <td>0.120120</td>\n",
       "    </tr>\n",
       "    <tr>\n",
       "      <th>2009</th>\n",
       "      <td>0.225373</td>\n",
       "      <td>0.171642</td>\n",
       "      <td>0.213433</td>\n",
       "      <td>0.234328</td>\n",
       "      <td>0.155224</td>\n",
       "    </tr>\n",
       "    <tr>\n",
       "      <th>2010</th>\n",
       "      <td>0.202413</td>\n",
       "      <td>0.143432</td>\n",
       "      <td>0.243968</td>\n",
       "      <td>0.258713</td>\n",
       "      <td>0.151475</td>\n",
       "    </tr>\n",
       "    <tr>\n",
       "      <th>2011</th>\n",
       "      <td>0.233035</td>\n",
       "      <td>0.121639</td>\n",
       "      <td>0.216389</td>\n",
       "      <td>0.270166</td>\n",
       "      <td>0.158771</td>\n",
       "    </tr>\n",
       "    <tr>\n",
       "      <th>2012</th>\n",
       "      <td>0.202276</td>\n",
       "      <td>0.160556</td>\n",
       "      <td>0.251580</td>\n",
       "      <td>0.249052</td>\n",
       "      <td>0.136536</td>\n",
       "    </tr>\n",
       "    <tr>\n",
       "      <th>2013</th>\n",
       "      <td>0.227848</td>\n",
       "      <td>0.160759</td>\n",
       "      <td>0.248101</td>\n",
       "      <td>0.227848</td>\n",
       "      <td>0.135443</td>\n",
       "    </tr>\n",
       "    <tr>\n",
       "      <th>2014</th>\n",
       "      <td>0.220000</td>\n",
       "      <td>0.150588</td>\n",
       "      <td>0.248235</td>\n",
       "      <td>0.231765</td>\n",
       "      <td>0.149412</td>\n",
       "    </tr>\n",
       "    <tr>\n",
       "      <th>2015</th>\n",
       "      <td>0.233666</td>\n",
       "      <td>0.151717</td>\n",
       "      <td>0.231451</td>\n",
       "      <td>0.248062</td>\n",
       "      <td>0.135105</td>\n",
       "    </tr>\n",
       "    <tr>\n",
       "      <th>2016</th>\n",
       "      <td>0.200873</td>\n",
       "      <td>0.171397</td>\n",
       "      <td>0.236900</td>\n",
       "      <td>0.234716</td>\n",
       "      <td>0.156114</td>\n",
       "    </tr>\n",
       "    <tr>\n",
       "      <th>2017</th>\n",
       "      <td>0.233598</td>\n",
       "      <td>0.164016</td>\n",
       "      <td>0.210736</td>\n",
       "      <td>0.266402</td>\n",
       "      <td>0.125249</td>\n",
       "    </tr>\n",
       "    <tr>\n",
       "      <th>2018</th>\n",
       "      <td>0.197835</td>\n",
       "      <td>0.176181</td>\n",
       "      <td>0.247047</td>\n",
       "      <td>0.266732</td>\n",
       "      <td>0.112205</td>\n",
       "    </tr>\n",
       "  </tbody>\n",
       "</table>\n",
       "</div>"
      ],
      "text/plain": [
       "      Illinois   Indiana  Michigan      Ohio  Wisconsin\n",
       "Year                                                   \n",
       "2000  0.233083  0.168421  0.207519  0.227068   0.163910\n",
       "2001  0.253687  0.144543  0.210914  0.243363   0.147493\n",
       "2002  0.239316  0.148148  0.213675  0.239316   0.159544\n",
       "2003  0.223932  0.136752  0.225641  0.237607   0.176068\n",
       "2004  0.223152  0.138075  0.206416  0.277545   0.154812\n",
       "2005  0.203216  0.166667  0.204678  0.273392   0.152047\n",
       "2006  0.220949  0.160393  0.202946  0.299509   0.116203\n",
       "2007  0.246088  0.147937  0.196302  0.253201   0.156472\n",
       "2008  0.216216  0.141141  0.219219  0.303303   0.120120\n",
       "2009  0.225373  0.171642  0.213433  0.234328   0.155224\n",
       "2010  0.202413  0.143432  0.243968  0.258713   0.151475\n",
       "2011  0.233035  0.121639  0.216389  0.270166   0.158771\n",
       "2012  0.202276  0.160556  0.251580  0.249052   0.136536\n",
       "2013  0.227848  0.160759  0.248101  0.227848   0.135443\n",
       "2014  0.220000  0.150588  0.248235  0.231765   0.149412\n",
       "2015  0.233666  0.151717  0.231451  0.248062   0.135105\n",
       "2016  0.200873  0.171397  0.236900  0.234716   0.156114\n",
       "2017  0.233598  0.164016  0.210736  0.266402   0.125249\n",
       "2018  0.197835  0.176181  0.247047  0.266732   0.112205"
      ]
     },
     "execution_count": 125,
     "metadata": {},
     "output_type": "execute_result"
    }
   ],
   "source": [
    "enc = enc.div(enc.sum(axis=1), axis=0)\n",
    "enc"
   ]
  },
  {
   "cell_type": "markdown",
   "id": "8868b9a1",
   "metadata": {},
   "source": [
    "Now we can begin to make the area plot with the calculated proportions. To do these, we will use the `plt.stackplot()` function. This function first takes an array-like object for the x-values, followed by arrays of the y-values that are to be stacked."
   ]
  },
  {
   "cell_type": "code",
   "execution_count": 126,
   "id": "f005d3c1",
   "metadata": {},
   "outputs": [
    {
     "data": {
      "image/png": "[encoded data removed]",
      "text/plain": [
       "<Figure size 432x288 with 1 Axes>"
      ]
     },
     "metadata": {
      "needs_background": "light"
     },
     "output_type": "display_data"
    }
   ],
   "source": [
    "plt.stackplot(enc.index, enc['Illinois'], enc['Indiana'], enc['Michigan'], enc['Ohio'], enc['Wisconsin'])\n",
    "plt.show()"
   ]
  },
  {
   "cell_type": "markdown",
   "id": "92b3755b",
   "metadata": {},
   "source": [
    "Currently, we don't know what each color corresponds to, but this can be solved by specifying the `labels` parameter, which dictates how each y-value is to be labeled. By specifying this, the labels can then be visualized in the legend using `plt.legend()`. The location of the legend will be placed using the `bbox_to_anchor` parameter.\n",
    "\n",
    "As an aesthetic feature, we can also make this graph so that it takes up the entire plotting area by using `plt.margins()`. This function accepts an x and y value, respectively, to indicate where the margins begin on each axis. To get rid of the margins, we will use 0 for each value. \n",
    "\n",
    "Like with previous visualizations, we can add a title and fix the x-axis ticks using `plt.title()` and `plt.xticks()`, respectively."
   ]
  },
  {
   "cell_type": "code",
   "execution_count": 128,
   "id": "914759d4",
   "metadata": {},
   "outputs": [
    {
     "data": {
      "image/png": "[encoded data removed]",
      "text/plain": [
       "<Figure size 432x288 with 1 Axes>"
      ]
     },
     "metadata": {
      "needs_background": "light"
     },
     "output_type": "display_data"
    }
   ],
   "source": [
    "plt.stackplot(enc.index, enc['Illinois'], enc['Indiana'], enc['Michigan'], enc['Ohio'], enc['Wisconsin'], \n",
    "              labels = ['Illinois', 'Indiana', 'Michigan', 'Ohio', 'Wisconsin'])\n",
    "plt.legend(bbox_to_anchor = (1.3,1))\n",
    "plt.margins(0,0)\n",
    "plt.title('Proportion of Suicides Amongst Youth Ages 10-24 in East North Central States (2000-2018)', pad=15)\n",
    "\n",
    "years = np.arange(2000, 2020, 2)\n",
    "plt.xticks(years)\n",
    "\n",
    "plt.show()"
   ]
  },
  {
   "cell_type": "markdown",
   "id": "ca499c7e",
   "metadata": {},
   "source": [
    "We can now see the changes in the youth suicides in north east central states from 2000-2018. We see how these trends fluctuated in each state over time in each state."
   ]
  },
  {
   "cell_type": "markdown",
   "id": "b90364f6",
   "metadata": {},
   "source": [
    "## Conclusions\n",
    "\n",
    "In this section, we were introduced to a new data visualization library: `seaborn`. The `seaborn` library can make many of the same visualizations available in `matplotlib` and can be used as an alternative in cases where more flexibility is needed. \n",
    "\n",
    "We learned how to make box and whisker plots and the multiple statistics that these plots innately show. Box and whisker plots can be made in both `matplotlib` and `seaborn`, but using `seaborn` to construct these plots allows for an easy way to overlay data points upon the box and whisker plot.\n",
    "\n",
    "We also learned about heatmaps and their ability to show multidimensional data.\n",
    "\n",
    "Lastly, we learned how to construct area plots as another way to show proportional trends overtime, combining benefits of both a line graph and pie chart.\n",
    "\n",
    "Documentation to functions introduced in this section can be found below:\n",
    "\n",
    "\n",
    "- <a target=\"_blank\" href=\"https://seaborn.pydata.org/generated/seaborn.boxplot.html\">Seaborn documentation and user guide</a>\n",
    "- <a target=\"_blank\" href=\"https://seaborn.pydata.org/examples/index.html\">Seaborn data visualization gallery</a>\n",
    "- <a target=\"_blank\" href=\"https://pandas.pydata.org/docs/reference/api/pandas.DataFrame.plot.box.html\">DataFrame.plot.box( )</a>\n",
    "- <a target=\"_blank\" href=\"https://matplotlib.org/stable/api/_as_gen/matplotlib.pyplot.boxplot.html\">plt.boxplot( )</a>\n",
    "- <a target=\"_blank\" href=\"https://seaborn.pydata.org/generated/seaborn.boxplot.html\">sns.boxplot( )</a>\n",
    "- <a target=\"_blank\" href=\"https://seaborn.pydata.org/generated/seaborn.swarmplot.html\">sns.swarmplot( )</a>\n",
    "- <a target=\"_blank\" href=\"https://matplotlib.org/stable/gallery/images_contours_and_fields/image_annotated_heatmap.html\">Heatmaps in Matplotlib</a>\n",
    "- <a target=\"_blank\" href=\"https://seaborn.pydata.org/examples/spreadsheet_heatmap.html\">sns.heatmap( )</a>\n",
    "- <a target=\"_blank\" href=\"https://docs.python.org/3/library/string.html#format-specification-mini-language\">Formatting string literals</a>\n",
    "- <a target=\"_blank\" href=\"https://matplotlib.org/stable/api/_as_gen/matplotlib.pyplot.stackplot.html\">plt.stackplot( )</a>\n"
   ]
  },
  {
   "cell_type": "code",
   "execution_count": null,
   "id": "e20b5830",
   "metadata": {},
   "outputs": [],
   "source": []
  }
 ],
 "metadata": {
  "kernelspec": {
   "display_name": "Python 3 (ipykernel)",
   "language": "python",
   "name": "python3"
  },
  "language_info": {
   "codemirror_mode": {
    "name": "ipython",
    "version": 3
   },
   "file_extension": ".py",
   "mimetype": "text/x-python",
   "name": "python",
   "nbconvert_exporter": "python",
   "pygments_lexer": "ipython3",
   "version": "3.9.12"
  }
 },
 "nbformat": 4,
 "nbformat_minor": 5
}

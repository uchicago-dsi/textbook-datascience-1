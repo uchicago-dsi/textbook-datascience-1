{
 "cells": [
  {
   "cell_type": "markdown",
   "id": "7ea83cf0",
   "metadata": {},
   "source": [
    "# Categorical Data\n",
    "\n",
    "Categorical data considers numerical quantities in the context of categorical variables. Surveys, like the ones we see on the television show <a target=\"_blank\" href=\"https://www.youtube.com/watch?v=qqtB4Romq5Y&list=PLAnv4_rGsTE7hsFYS_jyYScpyRr_QjwEY\">Family Feud</a> or the frequency of people with various eye colors, are examples of categorical data. \n",
    "\n",
    "\n",
    "In this chapter, there are two types of categorical data that we consider: ordinal data and nominal data. \n",
    "\n",
    "**Ordinal data** consists of data that can be described as having a meaningful order, ranking, or relationship between categories. An inventory that quantifies the number of small, medium, and large shirts in stock is an example of ordinal data because there is a ranked relationship between shirt sizes.\n",
    "\n",
    "**Nominal data** can be described as named categories that have no meaningful relationship to one another. Counting the number of people with black, brunette, red, and blonde hair colors in a room is an example of nominal data because hair color has no inherit meaning amongst each other - one hair color is not greater than or less than the others.\n",
    "\n",
    "\n",
    "Categorical data can be visualized using bar graphs and pie charts, and in this section, we will practice making such visualizations.\n",
    "\n",
    "Again, we'll load the necessary libraries and data."
   ]
  },
  {
   "cell_type": "code",
   "execution_count": 2,
   "id": "45d41791-b19e-48cf-917d-c411750c6122",
   "metadata": {
    "tags": []
   },
   "outputs": [
    {
     "data": {
      "text/html": [
       "<div>\n",
       "<style scoped>\n",
       "    .dataframe tbody tr th:only-of-type {\n",
       "        vertical-align: middle;\n",
       "    }\n",
       "\n",
       "    .dataframe tbody tr th {\n",
       "        vertical-align: top;\n",
       "    }\n",
       "\n",
       "    .dataframe thead th {\n",
       "        text-align: right;\n",
       "    }\n",
       "</style>\n",
       "<table border=\"1\" class=\"dataframe\">\n",
       "  <thead>\n",
       "    <tr style=\"text-align: right;\">\n",
       "      <th></th>\n",
       "      <th>CAN-PercentGDP</th>\n",
       "      <th>MEX-PercentGDP</th>\n",
       "      <th>USA-PercentGDP</th>\n",
       "      <th>CAN-USD</th>\n",
       "      <th>MEX-USD</th>\n",
       "      <th>USA-USD</th>\n",
       "    </tr>\n",
       "    <tr>\n",
       "      <th>Year</th>\n",
       "      <th></th>\n",
       "      <th></th>\n",
       "      <th></th>\n",
       "      <th></th>\n",
       "      <th></th>\n",
       "      <th></th>\n",
       "    </tr>\n",
       "  </thead>\n",
       "  <tbody>\n",
       "    <tr>\n",
       "      <th>1960</th>\n",
       "      <td>4.185257</td>\n",
       "      <td>0.673509</td>\n",
       "      <td>8.993125</td>\n",
       "      <td>1.702443</td>\n",
       "      <td>0.084000</td>\n",
       "      <td>47.346553</td>\n",
       "    </tr>\n",
       "    <tr>\n",
       "      <th>1961</th>\n",
       "      <td>4.128312</td>\n",
       "      <td>0.651780</td>\n",
       "      <td>9.156031</td>\n",
       "      <td>1.677821</td>\n",
       "      <td>0.086400</td>\n",
       "      <td>49.879771</td>\n",
       "    </tr>\n",
       "    <tr>\n",
       "      <th>1962</th>\n",
       "      <td>3.999216</td>\n",
       "      <td>0.689655</td>\n",
       "      <td>9.331673</td>\n",
       "      <td>1.671314</td>\n",
       "      <td>0.099200</td>\n",
       "      <td>54.650943</td>\n",
       "    </tr>\n",
       "    <tr>\n",
       "      <th>1963</th>\n",
       "      <td>3.620650</td>\n",
       "      <td>0.718686</td>\n",
       "      <td>8.831891</td>\n",
       "      <td>1.610092</td>\n",
       "      <td>0.112000</td>\n",
       "      <td>54.561216</td>\n",
       "    </tr>\n",
       "    <tr>\n",
       "      <th>1964</th>\n",
       "      <td>3.402063</td>\n",
       "      <td>0.677507</td>\n",
       "      <td>8.051281</td>\n",
       "      <td>1.657457</td>\n",
       "      <td>0.120000</td>\n",
       "      <td>53.432327</td>\n",
       "    </tr>\n",
       "    <tr>\n",
       "      <th>...</th>\n",
       "      <td>...</td>\n",
       "      <td>...</td>\n",
       "      <td>...</td>\n",
       "      <td>...</td>\n",
       "      <td>...</td>\n",
       "      <td>...</td>\n",
       "    </tr>\n",
       "    <tr>\n",
       "      <th>2016</th>\n",
       "      <td>1.164162</td>\n",
       "      <td>0.495064</td>\n",
       "      <td>3.418942</td>\n",
       "      <td>17.782776</td>\n",
       "      <td>5.336876</td>\n",
       "      <td>639.856443</td>\n",
       "    </tr>\n",
       "    <tr>\n",
       "      <th>2017</th>\n",
       "      <td>1.351602</td>\n",
       "      <td>0.436510</td>\n",
       "      <td>3.313381</td>\n",
       "      <td>22.269696</td>\n",
       "      <td>5.062077</td>\n",
       "      <td>646.752927</td>\n",
       "    </tr>\n",
       "    <tr>\n",
       "      <th>2018</th>\n",
       "      <td>1.324681</td>\n",
       "      <td>0.477517</td>\n",
       "      <td>3.316249</td>\n",
       "      <td>22.729328</td>\n",
       "      <td>5.839521</td>\n",
       "      <td>682.491400</td>\n",
       "    </tr>\n",
       "    <tr>\n",
       "      <th>2019</th>\n",
       "      <td>1.278941</td>\n",
       "      <td>0.523482</td>\n",
       "      <td>3.427080</td>\n",
       "      <td>22.204408</td>\n",
       "      <td>6.650808</td>\n",
       "      <td>734.344100</td>\n",
       "    </tr>\n",
       "    <tr>\n",
       "      <th>2020</th>\n",
       "      <td>1.415056</td>\n",
       "      <td>0.573652</td>\n",
       "      <td>3.741160</td>\n",
       "      <td>22.754847</td>\n",
       "      <td>6.116377</td>\n",
       "      <td>778.232200</td>\n",
       "    </tr>\n",
       "  </tbody>\n",
       "</table>\n",
       "<p>61 rows × 6 columns</p>\n",
       "</div>"
      ],
      "text/plain": [
       "      CAN-PercentGDP  MEX-PercentGDP  USA-PercentGDP    CAN-USD   MEX-USD  \\\n",
       "Year                                                                        \n",
       "1960        4.185257        0.673509        8.993125   1.702443  0.084000   \n",
       "1961        4.128312        0.651780        9.156031   1.677821  0.086400   \n",
       "1962        3.999216        0.689655        9.331673   1.671314  0.099200   \n",
       "1963        3.620650        0.718686        8.831891   1.610092  0.112000   \n",
       "1964        3.402063        0.677507        8.051281   1.657457  0.120000   \n",
       "...              ...             ...             ...        ...       ...   \n",
       "2016        1.164162        0.495064        3.418942  17.782776  5.336876   \n",
       "2017        1.351602        0.436510        3.313381  22.269696  5.062077   \n",
       "2018        1.324681        0.477517        3.316249  22.729328  5.839521   \n",
       "2019        1.278941        0.523482        3.427080  22.204408  6.650808   \n",
       "2020        1.415056        0.573652        3.741160  22.754847  6.116377   \n",
       "\n",
       "         USA-USD  \n",
       "Year              \n",
       "1960   47.346553  \n",
       "1961   49.879771  \n",
       "1962   54.650943  \n",
       "1963   54.561216  \n",
       "1964   53.432327  \n",
       "...          ...  \n",
       "2016  639.856443  \n",
       "2017  646.752927  \n",
       "2018  682.491400  \n",
       "2019  734.344100  \n",
       "2020  778.232200  \n",
       "\n",
       "[61 rows x 6 columns]"
      ]
     },
     "execution_count": 2,
     "metadata": {},
     "output_type": "execute_result"
    }
   ],
   "source": [
    "import numpy as np\n",
    "import pandas as pd\n",
    "import seaborn as sns\n",
    "\n",
    "from matplotlib import pyplot as plt\n",
    "\n",
    "plt.style.use('fast')\n",
    "\n",
    "military = pd.read_csv(\"../../data/NorthAmerica_Military_USD-PercentGDP_Combined.csv\", index_col='Year')\n",
    "\n",
    "military"
   ]
  },
  {
   "cell_type": "markdown",
   "id": "f26e1513",
   "metadata": {},
   "source": [
    "## Bar graphs\n",
    "\n",
    "Bar graphs are a popular method to visualize categorical data. They're simple, concise, and can condense\n",
    "large and complex datasets into a simple visual summary. Most bar graphs depict a categorical element as an\n",
    "independent variable on the x-axis while the height of the bar corresponds to a numerical value on the y-axis.\n",
    "\n",
    "We will practice making bar graphs using our military dataset in the context of an ordinal variable.\n",
    "\n",
    "First, let's create a graph to examine the percent of the GDP spent on the military in Canada. We will look at the years 2018, 2019 and 2020.\n",
    "\n",
    "To do this, we must extract the data for the years of interest from the column containing the data pertaining to GDP percentage of military spending in Canada. We will call this `can_gdp`.\n"
   ]
  },
  {
   "cell_type": "code",
   "execution_count": 2,
   "id": "af3c0e6d",
   "metadata": {},
   "outputs": [
    {
     "data": {
      "text/html": [
       "<div>\n",
       "<style scoped>\n",
       "    .dataframe tbody tr th:only-of-type {\n",
       "        vertical-align: middle;\n",
       "    }\n",
       "\n",
       "    .dataframe tbody tr th {\n",
       "        vertical-align: top;\n",
       "    }\n",
       "\n",
       "    .dataframe thead th {\n",
       "        text-align: right;\n",
       "    }\n",
       "</style>\n",
       "<table border=\"1\" class=\"dataframe\">\n",
       "  <thead>\n",
       "    <tr style=\"text-align: right;\">\n",
       "      <th></th>\n",
       "      <th>CAN-PercentGDP</th>\n",
       "    </tr>\n",
       "    <tr>\n",
       "      <th>Year</th>\n",
       "      <th></th>\n",
       "    </tr>\n",
       "  </thead>\n",
       "  <tbody>\n",
       "    <tr>\n",
       "      <th>2018</th>\n",
       "      <td>1.324681</td>\n",
       "    </tr>\n",
       "    <tr>\n",
       "      <th>2019</th>\n",
       "      <td>1.278941</td>\n",
       "    </tr>\n",
       "    <tr>\n",
       "      <th>2020</th>\n",
       "      <td>1.415056</td>\n",
       "    </tr>\n",
       "  </tbody>\n",
       "</table>\n",
       "</div>"
      ],
      "text/plain": [
       "      CAN-PercentGDP\n",
       "Year                \n",
       "2018        1.324681\n",
       "2019        1.278941\n",
       "2020        1.415056"
      ]
     },
     "execution_count": 2,
     "metadata": {},
     "output_type": "execute_result"
    }
   ],
   "source": [
    "can_gdp = military.loc[[2018, 2019, 2020], ['CAN-PercentGDP']]\n",
    "\n",
    "can_gdp"
   ]
  },
  {
   "cell_type": "markdown",
   "id": "62a27826-df76-4802-9414-f1a2b5931a96",
   "metadata": {},
   "source": [
    "To make a bar graph from a DataFrame, the `plot.bar()` method can be used. We will use this method on `can_gdp`:"
   ]
  },
  {
   "cell_type": "code",
   "execution_count": 3,
   "id": "7669818c",
   "metadata": {
    "scrolled": true
   },
   "outputs": [
    {
     "data": {
      "image/png": "[encoded data removed]",
      "text/plain": [
       "<Figure size 432x288 with 1 Axes>"
      ]
     },
     "metadata": {
      "needs_background": "light"
     },
     "output_type": "display_data"
    }
   ],
   "source": [
    "can_gdp.plot.bar()\n",
    "plt.show()"
   ]
  },
  {
   "cell_type": "markdown",
   "id": "c53841ab",
   "metadata": {},
   "source": [
    "We can also use `plt.bar()` to create a bar graph using the `pyplot` library. The `plt.bar()` function needs two arguments. The first argument, `x`, is an array of values to be plotted on the x-axis. \n",
    "\n",
    "The second argument, `height`, determines the height of the bars (the y-values). \n",
    "\n",
    "We will create a list of our years of interest and call it `year_labels` to input as the first argument and use the `CAN-PercentGDP` column of `can_gdp` as our second argument."
   ]
  },
  {
   "cell_type": "code",
   "execution_count": 4,
   "id": "b2be1224",
   "metadata": {
    "scrolled": false
   },
   "outputs": [
    {
     "data": {
      "image/png": "[encoded data removed]",
      "text/plain": [
       "<Figure size 432x288 with 1 Axes>"
      ]
     },
     "metadata": {
      "needs_background": "light"
     },
     "output_type": "display_data"
    }
   ],
   "source": [
    "year_labels = ['2018', '2019', '2020']\n",
    "plt.bar(year_labels, can_gdp[\"CAN-PercentGDP\"])\n",
    "plt.show()"
   ]
  },
  {
   "cell_type": "markdown",
   "id": "5748baf9",
   "metadata": {},
   "source": [
    "The above code produced a plot, but this plot needs more descriptive labeling to help others understand the data. \n",
    "\n",
    "We need to add axis labels and a title to communicate what is being measured. Aesthetically, we can also reduce the width of each bar to give more room on the graph and more rest for our eyes."
   ]
  },
  {
   "cell_type": "code",
   "execution_count": 5,
   "id": "b66c30a8-e66a-4ad1-b6c5-cbe53ee5eef9",
   "metadata": {},
   "outputs": [
    {
     "data": {
      "image/png": "[encoded data removed]",
      "text/plain": [
       "<Figure size 432x288 with 1 Axes>"
      ]
     },
     "metadata": {
      "needs_background": "light"
     },
     "output_type": "display_data"
    }
   ],
   "source": [
    "plt.bar(year_labels, can_gdp[\"CAN-PercentGDP\"], width=0.25)\n",
    "\n",
    "\n",
    "plt.title('Military Spending in Canada')\n",
    "\n",
    "plt.ylabel('Percentage of GDP')\n",
    "plt.xlabel('Year')\n",
    "\n",
    "plt.show()"
   ]
  },
  {
   "cell_type": "markdown",
   "id": "18931cc9",
   "metadata": {},
   "source": [
    "This plot looks better and is a lot more descriptive.\n",
    "\n",
    "Let's add the data from Mexico and the United States.\n",
    "\n",
    "To do this, we will once again use the `plt.subplots()` function. This time, we will specify our figure with a single axis called `ax`. Because we want to group our data by year, we can call `ax.bar()` to set precise positions on the x-axis for each country.\n",
    "\n",
    "We will also use `plt.tight_layout()` to automatically adjust the subplot dimensions to give appropriate spacing between the bars and the axes boundaries."
   ]
  },
  {
   "cell_type": "code",
   "execution_count": 6,
   "id": "6833fd5b",
   "metadata": {
    "scrolled": true
   },
   "outputs": [
    {
     "data": {
      "image/png": "[encoded data removed]",
      "text/plain": [
       "<Figure size 432x288 with 1 Axes>"
      ]
     },
     "metadata": {
      "needs_background": "light"
     },
     "output_type": "display_data"
    }
   ],
   "source": [
    "can_gdp = military.loc[[2018, 2019, 2020], ['CAN-PercentGDP']]\n",
    "mex_gdp = military.loc[[2018, 2019, 2020], ['MEX-PercentGDP']]\n",
    "usa_gdp = military.loc[[2018, 2019, 2020], ['USA-PercentGDP']]\n",
    "\n",
    "index = np.arange(len(year_labels))\n",
    "\n",
    "(fig, ax) = plt.subplots()\n",
    "\n",
    "# Offsets the bars for Canada by -0.25in\n",
    "ax.bar(index - 0.25, can_gdp[\"CAN-PercentGDP\"], width=0.25) \n",
    "\n",
    "# Plots the bars for Mexico in the middle\n",
    "ax.bar(index, mex_gdp[\"MEX-PercentGDP\"], width=0.25)\n",
    "\n",
    "# Offsets the bars for the U.S. by +0.25in\n",
    "ax.bar(index + 0.25, usa_gdp[\"USA-PercentGDP\"], width=0.25)\n",
    "\n",
    "plt.tight_layout()\n",
    "\n",
    "plt.show()"
   ]
  },
  {
   "cell_type": "markdown",
   "id": "21c5b1b1",
   "metadata": {},
   "source": [
    "We were able to create a bar plot with all three data sets together. Now, let's add the appropriate titles, axis labels, and other details using previously described functions.\n",
    "\n",
    "If we assign each country's bar to a variable, we can also label each individual bar with the associated numerical value by calling the `bar_label()` method on `ax`. In order to label the bars, the label must be specified when creating each each bar."
   ]
  },
  {
   "cell_type": "code",
   "execution_count": 22,
   "id": "61bdf283",
   "metadata": {},
   "outputs": [
    {
     "data": {
      "image/png": "[encoded data removed]",
      "text/plain": [
       "<Figure size 432x288 with 1 Axes>"
      ]
     },
     "metadata": {
      "needs_background": "light"
     },
     "output_type": "display_data"
    }
   ],
   "source": [
    "(fig, ax) = plt.subplots()\n",
    "\n",
    "\n",
    "# Creates variable for each country and offsets as appropriate\n",
    "# Annotates bar with the associated value, rounded to 2 places after the decimal\n",
    "can_bar = ax.bar(index - 0.25, can_gdp[\"CAN-PercentGDP\"].round(decimals=2), width=0.25, label='Canada') \n",
    "mex_bar = ax.bar(index, mex_gdp[\"MEX-PercentGDP\"].round(decimals=2), width=0.25, label='Mexico')\n",
    "usa_bar = ax.bar(index + 0.25, usa_gdp[\"USA-PercentGDP\"].round(decimals=2), width=0.25, label='USA')\n",
    "\n",
    "\n",
    "# Add labels and titles for entire figure\n",
    "plt.title(\"Military Spending in North America\", pad=10)\n",
    "plt.ylabel('Percentage of GDP')\n",
    "plt.xlabel('Year')\n",
    "plt.xticks(index, year_labels)\n",
    "plt.ylim(0, 5)\n",
    "\n",
    "\n",
    "# Creates legend for the entire figure\n",
    "plt.legend(loc=4, bbox_to_anchor=(1.3, 0.5))\n",
    "\n",
    "\n",
    "# Add labels for individual bars; gives spacing (padding) between the value and the bar\n",
    "ax.bar_label(can_bar, label_type=\"edge\", padding=4)\n",
    "ax.bar_label(mex_bar, label_type=\"edge\", padding=4)\n",
    "ax.bar_label(usa_bar, label_type=\"edge\", padding=4)\n",
    "\n",
    "\n",
    "plt.tight_layout()\n",
    "\n",
    "plt.show()"
   ]
  },
  {
   "cell_type": "markdown",
   "id": "c0a52a3c",
   "metadata": {},
   "source": [
    "Great! Now we have a well annotated, visually appealing graph that depicts an important message about the data: the percentage of the GDP spent on the military for each country for the years 2018-2020.\n",
    "\n",
    "From this graph, we can easily see that during this time period, Canada and Mexico contribute a smaller proportion of their GDP to military spending than the United States. This may not have been easily discernible by just looking at our large data table."
   ]
  },
  {
   "cell_type": "markdown",
   "id": "19fadd76",
   "metadata": {},
   "source": [
    "### Horizontal Bar Graphs\n",
    "\n",
    "There may be times when you want to present data as a horizontal bar graph. Using the dollar amounts spent in 2020 for each North American country, we can create a horizontal bar graph to represent nominal data. First, we need to extract the data for the year of 2020:"
   ]
  },
  {
   "cell_type": "code",
   "execution_count": 15,
   "id": "f1baccac",
   "metadata": {
    "scrolled": true
   },
   "outputs": [],
   "source": [
    "year2020 = military.loc[[2020]][['CAN-USD', 'MEX-USD', 'USA-USD']]"
   ]
  },
  {
   "cell_type": "markdown",
   "id": "b06712a1",
   "metadata": {},
   "source": [
    "From this, we obtain a DataFrame with a single row of data with values for three variables. To format this data for plotting, we can transpose the DataFrame using the `transpose()` method:"
   ]
  },
  {
   "cell_type": "code",
   "execution_count": 16,
   "id": "2acad7b4",
   "metadata": {
    "scrolled": true
   },
   "outputs": [
    {
     "data": {
      "text/html": [
       "<div>\n",
       "<style scoped>\n",
       "    .dataframe tbody tr th:only-of-type {\n",
       "        vertical-align: middle;\n",
       "    }\n",
       "\n",
       "    .dataframe tbody tr th {\n",
       "        vertical-align: top;\n",
       "    }\n",
       "\n",
       "    .dataframe thead th {\n",
       "        text-align: right;\n",
       "    }\n",
       "</style>\n",
       "<table border=\"1\" class=\"dataframe\">\n",
       "  <thead>\n",
       "    <tr style=\"text-align: right;\">\n",
       "      <th>Year</th>\n",
       "      <th>2020</th>\n",
       "    </tr>\n",
       "  </thead>\n",
       "  <tbody>\n",
       "    <tr>\n",
       "      <th>CAN-USD</th>\n",
       "      <td>22.754847</td>\n",
       "    </tr>\n",
       "    <tr>\n",
       "      <th>MEX-USD</th>\n",
       "      <td>6.116377</td>\n",
       "    </tr>\n",
       "    <tr>\n",
       "      <th>USA-USD</th>\n",
       "      <td>778.232200</td>\n",
       "    </tr>\n",
       "  </tbody>\n",
       "</table>\n",
       "</div>"
      ],
      "text/plain": [
       "Year           2020\n",
       "CAN-USD   22.754847\n",
       "MEX-USD    6.116377\n",
       "USA-USD  778.232200"
      ]
     },
     "execution_count": 16,
     "metadata": {},
     "output_type": "execute_result"
    }
   ],
   "source": [
    "year2020 = year2020.transpose()\n",
    "year2020"
   ]
  },
  {
   "cell_type": "markdown",
   "id": "286d0d9e",
   "metadata": {},
   "source": [
    "The DataFrame in this format can directly be used for plotting. To create a horizontal bar graph, we can use the `plt.barh()` function. This function requires arguments for the `y` and `width` parameters. The `y` parameter is the categorical variables to be plotted, which are usually displayed on the x-axis of a regular bar graph. The `width` parameter corresponds to the numerical values that are associated with each categorical variable.\n",
    "\n",
    "We will use the index of the `year2020` DataFrame as the an argument for the `y` parameter and the values in the `2020` column as an argument for the `width` parameter:"
   ]
  },
  {
   "cell_type": "code",
   "execution_count": 17,
   "id": "6d4d4be5",
   "metadata": {},
   "outputs": [
    {
     "data": {
      "image/png": "[encoded data removed]",
      "text/plain": [
       "<Figure size 432x288 with 1 Axes>"
      ]
     },
     "metadata": {
      "needs_background": "light"
     },
     "output_type": "display_data"
    }
   ],
   "source": [
    "plt.barh(y = year2020.index, width = year2020[2020])\n",
    "plt.show()"
   ]
  },
  {
   "cell_type": "markdown",
   "id": "245f26fe",
   "metadata": {},
   "source": [
    "In the above graph, the index is used to label the categories on the y-axis. If desired, this can be changed by using a list of the same size as an argument for the `tick_label` parameter. Additional titling and labeling can be added to this graph as well:"
   ]
  },
  {
   "cell_type": "code",
   "execution_count": 18,
   "id": "f9d97586",
   "metadata": {},
   "outputs": [
    {
     "data": {
      "image/png": "[encoded data removed]",
      "text/plain": [
       "<Figure size 432x288 with 1 Axes>"
      ]
     },
     "metadata": {
      "needs_background": "light"
     },
     "output_type": "display_data"
    }
   ],
   "source": [
    "plt.barh(y = year2020.index, width = year2020[2020], tick_label = ['Canada', 'Mexico', 'USA'])\n",
    "plt.title('Military Spending in North American in 2020 (USD)')\n",
    "plt.xlabel('USD')\n",
    "plt.ylabel('Country')\n",
    "plt.show()"
   ]
  },
  {
   "cell_type": "markdown",
   "id": "9d60ec90",
   "metadata": {},
   "source": [
    "For further customization, the bars can be colored too. To do this, the bar graph will need to be defined as a variable and then each bar color can be set by calling for the index of the bar and using the `set_color()` method like so:"
   ]
  },
  {
   "cell_type": "code",
   "execution_count": 19,
   "id": "6643a16c",
   "metadata": {},
   "outputs": [
    {
     "data": {
      "image/png": "[encoded data removed]",
      "text/plain": [
       "<Figure size 432x288 with 1 Axes>"
      ]
     },
     "metadata": {
      "needs_background": "light"
     },
     "output_type": "display_data"
    }
   ],
   "source": [
    "barh = plt.barh(y = year2020.index, width = year2020[2020], tick_label = ['Canada', 'Mexico', 'USA'])\n",
    "\n",
    "barh[0].set_color('red')\n",
    "barh[1].set_color('green')\n",
    "barh[2].set_color('blue')\n",
    "\n",
    "plt.title('Military Spending in North American in 2020 (USD)')\n",
    "plt.xlabel('USD')\n",
    "plt.ylabel('Country')\n",
    "plt.show()"
   ]
  },
  {
   "cell_type": "markdown",
   "id": "ed7a75f6",
   "metadata": {},
   "source": [
    "The same can be done for regular bar graphs made using `plt.bar()`. Depending on your visualization preferences, `plt.bar()` and `plt.barh()` provide multiple options for constructing a bar graph."
   ]
  },
  {
   "cell_type": "markdown",
   "id": "d28b66ff",
   "metadata": {},
   "source": [
    "## Pie charts\n",
    "\n",
    "Pie charts are a commonly used visualization method to represent proportions in datasets. Pie charts use *wedges* to represent the numerical value of a proportion corresponding to a categorical variable.\n",
    "\n",
    "While pie charts are very common and can be easily interpreted by a layperson audience, they may not be the best way to represent data in certain cases. Firstly, because pie charts use the area of a circle to represent the proportion of a categorical variable, it can be difficult to gauge the numerical value that a wedge represents if the area doesn't appear as an easily discernible fraction (_e.g._ ½, ⅓, ¼). This can be aided with the help of labels and legends that explicitly show the numerical values associated with the wedges of the pie chart. Secondly, if you want to visualize many categorical variables or variables that make up a significantly small proportion of the dataset, it may be difficult to see the variable on a pie chart. Overall, pie charts can be a simple and effective way to communicate proportional categorical data, but before using them, consider what attributes of the data need to be highlighted to help decide if a pie chart is the most appropriate visualization method. \n",
    "\n",
    "We will shift our focus to a different dataset. This is a dataset of the number of suicides amongst youth ages 10-24 from the years 2000 to 2018 within east north central states (Illinois, Indiana, Michigan, Ohio, and Wisconsin). This data comes from a larger dataset gathered by the Center for Disease Control (CDC). More information on this dataset, as well as data from other states, can be found <a target=\"_blank\" href=\"https://www.cdc.gov/nchs/products/databriefs/db471.htm\">here</a>.\n",
    "\n",
    "We will load the dataset below as `enc`:"
   ]
  },
  {
   "cell_type": "code",
   "execution_count": 3,
   "id": "346a46d8",
   "metadata": {},
   "outputs": [
    {
     "data": {
      "text/html": [
       "<div>\n",
       "<style scoped>\n",
       "    .dataframe tbody tr th:only-of-type {\n",
       "        vertical-align: middle;\n",
       "    }\n",
       "\n",
       "    .dataframe tbody tr th {\n",
       "        vertical-align: top;\n",
       "    }\n",
       "\n",
       "    .dataframe thead th {\n",
       "        text-align: right;\n",
       "    }\n",
       "</style>\n",
       "<table border=\"1\" class=\"dataframe\">\n",
       "  <thead>\n",
       "    <tr style=\"text-align: right;\">\n",
       "      <th></th>\n",
       "      <th>Illinois</th>\n",
       "      <th>Indiana</th>\n",
       "      <th>Michigan</th>\n",
       "      <th>Ohio</th>\n",
       "      <th>Wisconsin</th>\n",
       "    </tr>\n",
       "    <tr>\n",
       "      <th>Year</th>\n",
       "      <th></th>\n",
       "      <th></th>\n",
       "      <th></th>\n",
       "      <th></th>\n",
       "      <th></th>\n",
       "    </tr>\n",
       "  </thead>\n",
       "  <tbody>\n",
       "    <tr>\n",
       "      <th>2000</th>\n",
       "      <td>155</td>\n",
       "      <td>112</td>\n",
       "      <td>138</td>\n",
       "      <td>151</td>\n",
       "      <td>109</td>\n",
       "    </tr>\n",
       "    <tr>\n",
       "      <th>2001</th>\n",
       "      <td>172</td>\n",
       "      <td>98</td>\n",
       "      <td>143</td>\n",
       "      <td>165</td>\n",
       "      <td>100</td>\n",
       "    </tr>\n",
       "    <tr>\n",
       "      <th>2002</th>\n",
       "      <td>168</td>\n",
       "      <td>104</td>\n",
       "      <td>150</td>\n",
       "      <td>168</td>\n",
       "      <td>112</td>\n",
       "    </tr>\n",
       "    <tr>\n",
       "      <th>2003</th>\n",
       "      <td>131</td>\n",
       "      <td>80</td>\n",
       "      <td>132</td>\n",
       "      <td>139</td>\n",
       "      <td>103</td>\n",
       "    </tr>\n",
       "    <tr>\n",
       "      <th>2004</th>\n",
       "      <td>160</td>\n",
       "      <td>99</td>\n",
       "      <td>148</td>\n",
       "      <td>199</td>\n",
       "      <td>111</td>\n",
       "    </tr>\n",
       "    <tr>\n",
       "      <th>2005</th>\n",
       "      <td>139</td>\n",
       "      <td>114</td>\n",
       "      <td>140</td>\n",
       "      <td>187</td>\n",
       "      <td>104</td>\n",
       "    </tr>\n",
       "    <tr>\n",
       "      <th>2006</th>\n",
       "      <td>135</td>\n",
       "      <td>98</td>\n",
       "      <td>124</td>\n",
       "      <td>183</td>\n",
       "      <td>71</td>\n",
       "    </tr>\n",
       "    <tr>\n",
       "      <th>2007</th>\n",
       "      <td>173</td>\n",
       "      <td>104</td>\n",
       "      <td>138</td>\n",
       "      <td>178</td>\n",
       "      <td>110</td>\n",
       "    </tr>\n",
       "    <tr>\n",
       "      <th>2008</th>\n",
       "      <td>144</td>\n",
       "      <td>94</td>\n",
       "      <td>146</td>\n",
       "      <td>202</td>\n",
       "      <td>80</td>\n",
       "    </tr>\n",
       "    <tr>\n",
       "      <th>2009</th>\n",
       "      <td>151</td>\n",
       "      <td>115</td>\n",
       "      <td>143</td>\n",
       "      <td>157</td>\n",
       "      <td>104</td>\n",
       "    </tr>\n",
       "    <tr>\n",
       "      <th>2010</th>\n",
       "      <td>151</td>\n",
       "      <td>107</td>\n",
       "      <td>182</td>\n",
       "      <td>193</td>\n",
       "      <td>113</td>\n",
       "    </tr>\n",
       "    <tr>\n",
       "      <th>2011</th>\n",
       "      <td>182</td>\n",
       "      <td>95</td>\n",
       "      <td>169</td>\n",
       "      <td>211</td>\n",
       "      <td>124</td>\n",
       "    </tr>\n",
       "    <tr>\n",
       "      <th>2012</th>\n",
       "      <td>160</td>\n",
       "      <td>127</td>\n",
       "      <td>199</td>\n",
       "      <td>197</td>\n",
       "      <td>108</td>\n",
       "    </tr>\n",
       "    <tr>\n",
       "      <th>2013</th>\n",
       "      <td>180</td>\n",
       "      <td>127</td>\n",
       "      <td>196</td>\n",
       "      <td>180</td>\n",
       "      <td>107</td>\n",
       "    </tr>\n",
       "    <tr>\n",
       "      <th>2014</th>\n",
       "      <td>187</td>\n",
       "      <td>128</td>\n",
       "      <td>211</td>\n",
       "      <td>197</td>\n",
       "      <td>127</td>\n",
       "    </tr>\n",
       "    <tr>\n",
       "      <th>2015</th>\n",
       "      <td>211</td>\n",
       "      <td>137</td>\n",
       "      <td>209</td>\n",
       "      <td>224</td>\n",
       "      <td>122</td>\n",
       "    </tr>\n",
       "    <tr>\n",
       "      <th>2016</th>\n",
       "      <td>184</td>\n",
       "      <td>157</td>\n",
       "      <td>217</td>\n",
       "      <td>215</td>\n",
       "      <td>143</td>\n",
       "    </tr>\n",
       "    <tr>\n",
       "      <th>2017</th>\n",
       "      <td>235</td>\n",
       "      <td>165</td>\n",
       "      <td>212</td>\n",
       "      <td>268</td>\n",
       "      <td>126</td>\n",
       "    </tr>\n",
       "    <tr>\n",
       "      <th>2018</th>\n",
       "      <td>201</td>\n",
       "      <td>179</td>\n",
       "      <td>251</td>\n",
       "      <td>271</td>\n",
       "      <td>114</td>\n",
       "    </tr>\n",
       "  </tbody>\n",
       "</table>\n",
       "</div>"
      ],
      "text/plain": [
       "      Illinois  Indiana  Michigan  Ohio  Wisconsin\n",
       "Year                                              \n",
       "2000       155      112       138   151        109\n",
       "2001       172       98       143   165        100\n",
       "2002       168      104       150   168        112\n",
       "2003       131       80       132   139        103\n",
       "2004       160       99       148   199        111\n",
       "2005       139      114       140   187        104\n",
       "2006       135       98       124   183         71\n",
       "2007       173      104       138   178        110\n",
       "2008       144       94       146   202         80\n",
       "2009       151      115       143   157        104\n",
       "2010       151      107       182   193        113\n",
       "2011       182       95       169   211        124\n",
       "2012       160      127       199   197        108\n",
       "2013       180      127       196   180        107\n",
       "2014       187      128       211   197        127\n",
       "2015       211      137       209   224        122\n",
       "2016       184      157       217   215        143\n",
       "2017       235      165       212   268        126\n",
       "2018       201      179       251   271        114"
      ]
     },
     "execution_count": 3,
     "metadata": {},
     "output_type": "execute_result"
    }
   ],
   "source": [
    "enc = pd.read_csv(\"../../data/east-north-central_suicides.csv\", index_col='Year')\n",
    "enc"
   ]
  },
  {
   "cell_type": "markdown",
   "id": "2b6f025e",
   "metadata": {},
   "source": [
    "Next, we will  make a pie chart using the `plt.pie()` function. We will use data from the year 2018 to visualize the proportions of suicide from each state in the region. We'll also set the figure size, in inches, using `plt.figure()`."
   ]
  },
  {
   "cell_type": "code",
   "execution_count": 21,
   "id": "ee47dfdf",
   "metadata": {},
   "outputs": [
    {
     "data": {
      "image/png": "[encoded data removed]",
      "text/plain": [
       "<Figure size 720x432 with 1 Axes>"
      ]
     },
     "metadata": {},
     "output_type": "display_data"
    }
   ],
   "source": [
    "plt.figure(figsize=(10, 6))\n",
    "plt.pie(enc.loc[2018])\n",
    "plt.show()"
   ]
  },
  {
   "cell_type": "markdown",
   "id": "e12d0bf4",
   "metadata": {},
   "source": [
    "Now that we have a pie chart, let's add some more detail to it to make it more descriptive.\n",
    "\n",
    "We can label the wedges of the chart so that we know which state corresponds to which color. Likewise, we can label the percentage of each sector to know the definitive proportion of each state's contribution to the total number of suicides in 2018.\n",
    "\n",
    "To do this, we will use the columns of `enc` and define it as `states`. We then will use `states` as an argument for the `labels` parameter within `plt.pie()` and specify formatting for the `autopct` parameter, which labels the wedges using the Python's formatting style. More information on that format can be found <a target=\"_blank\" href=\"https://docs.python.org/3/tutorial/inputoutput.html#formatted-string-literals\">here</a>."
   ]
  },
  {
   "cell_type": "code",
   "execution_count": 5,
   "id": "db7549c6",
   "metadata": {},
   "outputs": [
    {
     "data": {
      "image/png": "[encoded data removed]",
      "text/plain": [
       "<Figure size 720x432 with 1 Axes>"
      ]
     },
     "metadata": {},
     "output_type": "display_data"
    }
   ],
   "source": [
    "states = enc.columns\n",
    "plt.figure(figsize=(10, 6))\n",
    "plt.pie(enc.loc[2018], labels=states, autopct='%.1f')\n",
    "plt.show()"
   ]
  },
  {
   "cell_type": "markdown",
   "id": "e2b162dd",
   "metadata": {},
   "source": [
    "This plot is okay, but it can be better.\n",
    "\n",
    "The percentages may be difficult to see as the labeling competes with the color of the wedge. Instead, let's add the percentages into a legend along with the labels of each sector. Let's also add a title so others can know what they are looking at when they view this chart."
   ]
  },
  {
   "cell_type": "code",
   "execution_count": 19,
   "id": "0d310f32",
   "metadata": {},
   "outputs": [
    {
     "data": {
      "image/png": "[encoded data removed]",
      "text/plain": [
       "<Figure size 720x432 with 1 Axes>"
      ]
     },
     "metadata": {},
     "output_type": "display_data"
    }
   ],
   "source": [
    "plt.figure(figsize=(10, 6))\n",
    "\n",
    "\n",
    "patches, text = plt.pie(x = enc.loc[2018])\n",
    "labels = ['Illinois (19.8 %)', 'Indiana (17.6 %)', 'Michigan (24.7 %)', 'Ohio (26.7 %)', 'Wisconsin (11.2 %)']\n",
    "\n",
    "\n",
    "plt.legend(patches, labels, loc=4, bbox_to_anchor=(1.6, 0.3), fontsize=15)\n",
    "plt.title(\"Proportion of Suicides Amongst Youth Ages 10-24 in East North Central States (2018)\",  loc = 'left',\n",
    "         fontsize = 13)\n",
    "\n",
    "\n",
    "plt.show()"
   ]
  },
  {
   "cell_type": "markdown",
   "id": "71eb38e3",
   "metadata": {},
   "source": [
    "Above, we used `plt.pie()` in a way that we had not used it before.\n",
    "\n",
    "Under the hood, the `plt.pie()` function returns two default outputs, which we named: `patches` and `text`. The size of each wedge is dictated by the `patches` object. The `text` object consists of a list of labels for our data. Here, we needed to specifically assign `patches` and `text` objects so we could use `patches` as an argument for the `plt.legend()` function. \n",
    "\n",
    "The `plt.legend()` function has two required arguments. The first argument dictates *what* is being labeled. In our case, the wedges of the pie chart (*i.e.* the `patches` object) are being labeled. The second argument dictates *how* things are labeled. Here, we simply created a variable called labels, which consists of the fiv strings for the five wedges:"
   ]
  },
  {
   "cell_type": "code",
   "execution_count": 20,
   "id": "b4eb218d",
   "metadata": {
    "scrolled": true
   },
   "outputs": [
    {
     "data": {
      "text/plain": [
       "['Illinois (19.8 %)',\n",
       " 'Indiana (17.6 %)',\n",
       " 'Michigan (24.7 %)',\n",
       " 'Ohio (26.7 %)',\n",
       " 'Wisconsin (11.2 %)']"
      ]
     },
     "execution_count": 20,
     "metadata": {},
     "output_type": "execute_result"
    }
   ],
   "source": [
    "labels"
   ]
  },
  {
   "cell_type": "markdown",
   "id": "9721e589",
   "metadata": {},
   "source": [
    "The other arguments, `bbox_to_anchor` and `fontsize`, are optional when using the `plt.legend()` function.\n",
    "\n",
    "The argument `bbox_to_anchor` designates the position in the plotting area where the legend will be, while the `fontsize` argument dictates the font size, in points, of the legend text.\n",
    "\n",
    "As mentioned previously, labeling can greatly enhance the efficiency of of a pie chart's ability to communicate information. Because some of the wedges are very similar in size, it can be hard to discern the numeric value associated with each state. Labeling each wedge with the percentage and associated category or making a legend that depicts this information leaves less room for ambiguity when it comes to the data."
   ]
  },
  {
   "cell_type": "markdown",
   "id": "e64c6b88",
   "metadata": {},
   "source": [
    "## Conclusions\n",
    "\n",
    "In this section, we were introduced to the `plt.bar()` and `plt.pie()` functions to construct bar plots and pie charts, respectively.\n",
    "\n",
    "The `plt.bar()` function requires `x` and `height` arguments, which can be an array of number values, but other parameters can be included.\n",
    "\n",
    "The `plt.pie()` function only requires an `x` argument as an array of values and has other parameters that can be utilized well.\n",
    "\n",
    "Both of these types of visualizations are used for depicting categorical data.\n",
    "\n",
    "As a reminder, when deciding on whether to use a pie chart, consider certain attributes of the data, such as the number of categorical variables or the size of the proportions to be plotted. Below is a list of functions with linked documentation for your reference and further reading:\n",
    "\n",
    "- <a target=\"_blank\" href=\"https://matplotlib.org/stable/api/_as_gen/matplotlib.pyplot.bar.html\">plt.bar( )</a>\n",
    "- <a target=\"_blank\" href=\"https://matplotlib.org/stable/api/_as_gen/matplotlib.pyplot.pie.html\">plt.pie( )</a>\n",
    "- <a target=\"_blank\" href=\"https://matplotlib.org/stable/gallery/statistics/boxplot_demo.html\">plt.boxplot( )</a> \n",
    "- <a target=\"_blank\" href=\"https://matplotlib.org/stable/api/_as_gen/matplotlib.pyplot.title.html\">plt.title( )</a>\n",
    "- <a target=\"_blank\" href=\"https://matplotlib.org/stable/api/_as_gen/matplotlib.pyplot.ylim.html\">plt.ylim( )</a>\n",
    "- <a target=\"_blank\" href=\"https://matplotlib.org/stable/api/_as_gen/matplotlib.pyplot.xlim.html\">plt.xlim( )</a>\n",
    "- <a target=\"_blank\" href=\"https://matplotlib.org/stable/api/_as_gen/matplotlib.pyplot.ylabel.html\">plt.ylabel( )</a>\n",
    "- <a target=\"_blank\" href=\"https://matplotlib.org/stable/api/_as_gen/matplotlib.pyplot.xlabel.html\">plt.xlabel( )</a>\n",
    "- <a target=\"_blank\" href=\"https://matplotlib.org/stable/api/_as_gen/matplotlib.pyplot.xticks.html\">plt.xticks( )</a>\n",
    "- <a target=\"_blank\" href=\"https://matplotlib.org/stable/api/_as_gen/matplotlib.axes.Axes.bar.html\">ax.bar( )</a>\n",
    "- <a target=\"_blank\" href=\"https://matplotlib.org/stable/api/_as_gen/matplotlib.axes.Axes.legend.html\">ax.legend( )</a>\n",
    "- <a target=\"_blank\" href=\"https://matplotlib.org/stable/api/_as_gen/matplotlib.pyplot.tight_layout.html\">plt.tight_layout( )</a>\n",
    "- <a target=\"_blank\" href=\"https://matplotlib.org/stable/api/_as_gen/matplotlib.pyplot.figure.html\">plt.figure( )</a>\n",
    "- <a target=\"_blank\" href=\"https://matplotlib.org/stable/api/_as_gen/matplotlib.pyplot.show.html\">plt.show( )</a>"
   ]
  },
  {
   "cell_type": "code",
   "execution_count": null,
   "id": "69a868f4",
   "metadata": {},
   "outputs": [],
   "source": []
  }
 ],
 "metadata": {
  "kernelspec": {
   "display_name": "Python 3 (ipykernel)",
   "language": "python",
   "name": "python3"
  },
  "language_info": {
   "codemirror_mode": {
    "name": "ipython",
    "version": 3
   },
   "file_extension": ".py",
   "mimetype": "text/x-python",
   "name": "python",
   "nbconvert_exporter": "python",
   "pygments_lexer": "ipython3",
   "version": "3.9.12"
  }
 },
 "nbformat": 4,
 "nbformat_minor": 5
}

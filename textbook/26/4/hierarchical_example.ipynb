{
 "cells": [
  {
   "cell_type": "code",
   "execution_count": 1,
   "metadata": {
    "tags": [
     "remove-cell"
    ]
   },
   "outputs": [],
   "source": [
    "import numpy as np\n",
    "import pandas as pd\n",
    "from scipy.cluster.hierarchy import dendrogram, linkage\n",
    "\n",
    "\n",
    "%matplotlib inline\n",
    "import matplotlib.pyplot as plt\n",
    "#plt.style.use('fivethirtyeight')"
   ]
  },
  {
   "cell_type": "markdown",
   "metadata": {},
   "source": [
    "# Hierarchical Clustering Examples\n",
    "\n",
    "## A 2-Dimensional Example\n",
    "\n",
    "Let's return to our unknown coins dataset from [Section 26.1](../1/kmeans.ipynb). Recall that we have measurements of coin weight and diameter for 100 coins.\n"
   ]
  },
  {
   "cell_type": "code",
   "execution_count": null,
   "metadata": {
    "tags": [
     "remove-cell"
    ]
   },
   "outputs": [],
   "source": [
    "coins = pd.read_csv(\"../../data/coins.csv\")\n",
    "def standard_units(my_data):\n",
    "    '''Takes in an array of data and returns that data standardized by subtracting the mean \n",
    "    and dividing by the standard deviation'''\n",
    "\n",
    "    my_mean = np.mean(my_data)\n",
    "    my_stddev = np.std(my_data, ddof = 1)\n",
    "    standardized_data = (my_data - my_mean) / my_stddev\n",
    "    \n",
    "    return standardized_data\n",
    "\n",
    "coins_su = coins.copy()\n",
    "coins_su['diameter'] = standard_units(coins['diameter'])\n",
    "coins_su['weight'] = standard_units(coins['weight'])"
   ]
  },
  {
   "cell_type": "code",
   "execution_count": null,
   "metadata": {},
   "outputs": [],
   "source": [
    "coins_su.head()"
   ]
  },
  {
   "cell_type": "markdown",
   "metadata": {},
   "source": [
    "We can use clustering to group these coins into potential denominations. Because this dataset only has two features, we can easily visualize it graphically and see that there are likely 3 clusters in our data."
   ]
  },
  {
   "cell_type": "code",
   "execution_count": null,
   "metadata": {},
   "outputs": [],
   "source": [
    "plt.scatter(coins_su['diameter'],coins_su['weight'])\n",
    "plt.xlabel('Coin Diameter')\n",
    "plt.ylabel('Coin Weight')\n",
    "plt.title('Measurements of Unknown Coins');"
   ]
  },
  {
   "cell_type": "markdown",
   "metadata": {},
   "source": [
    "The first step in clustering this data using hierarchical clustering is to import the necessary functions. We will be using `dendrogram()`, `linkage()`, and `fcluster` from `scipy.cluster.hierarchy`. "
   ]
  },
  {
   "cell_type": "code",
   "execution_count": null,
   "metadata": {},
   "outputs": [],
   "source": [
    "from scipy.cluster.hierarchy import dendrogram, linkage, fcluster"
   ]
  },
  {
   "cell_type": "code",
   "execution_count": null,
   "metadata": {
    "tags": [
     "remove-cell"
    ]
   },
   "outputs": [],
   "source": [
    "scipy.cluster.hierarchy.set_link_color_palette([\"#D81B60\",\"#1E88E5\",\"#FFC107\",\"#004D40\"])"
   ]
  },
  {
   "cell_type": "markdown",
   "metadata": {},
   "source": [
    "We can use the `linkage()` function to cluster the data. The function takes in a dataset and the type of linkage you want to use as `method`. You can also change the distance metric used by using the argument `method`. The default distance metric is euclidean distance. Remember that you don't need to give a number of clusters for hierarchical clustering. For more information about the `linkage()` function, you can see the documentation [here](https://docs.scipy.org/doc/scipy/reference/generated/scipy.cluster.hierarchy.linkage.html). For this problem, we will use euclidean distance and complete linkage."
   ]
  },
  {
   "cell_type": "code",
   "execution_count": null,
   "metadata": {},
   "outputs": [],
   "source": [
    "Z = linkage(coins_su, method='complete')"
   ]
  },
  {
   "cell_type": "markdown",
   "metadata": {},
   "source": [
    "We can use the `dendrogram()` function to depict our clustering. This function has a lot of options for customization which you can find more information about [here](https://docs.scipy.org/doc/scipy/reference/generated/scipy.cluster.hierarchy.dendrogram.html). For our purposes, we will mostly use the default options. The function takes in a linkage matrix (which conveniently is the output of `linkage()`). The argument `no_labels` can be set to `True` to keep row labels from being printed at the leaves of the dendrogram. We will set this equal to `True` to avoid unnecessary clutter on our plot. Lastly, I am setting the argument `above_threshold_color` equal to `k` to make the top of the dendrogram appear black so that it contrasts well with the colored clusters. \n",
    "\n",
    "```{note}\n",
    "If you run this code yourself at home, your dendrogram will likely be colored differently from the one here. We have used the function `set_link_color_palette` to choose colorblind-friendly colors for our dendrograms.\n",
    "```"
   ]
  },
  {
   "cell_type": "code",
   "execution_count": null,
   "metadata": {},
   "outputs": [],
   "source": [
    "dendrogram(Z, no_labels=True, above_threshold_color='k');\n",
    "\n",
    "plt.xlabel('Data Points (Each Leaf is a Coin)', fontsize=12)\n",
    "plt.ylabel('Euclidean Distance', fontsize=12)\n",
    "plt.title('Dendrogram of Coin Clusters', fontsize=14);"
   ]
  },
  {
   "cell_type": "markdown",
   "metadata": {},
   "source": [
    "The dendrogram above shows that our coin data has two major clusters depicted in pink and blue. Looking at where these two clusters are joined on the y-axis we can see that they are about 5 units apart, measured in Euclidean distance using complete linkage. The following animation shows the iterative clustering process.\n",
    "\n",
    "![](agglomerative_clustering.mp4)\n",
    "\n",
    "By default, the `dendrogram()` function will choose a cut point that it deems appropriate for your data and color clusters appropriately. However, you can also customize the plot using the argument `color_threshold` to change where the cut should be placed. In this case, we know that there should be 3 clusters in our data so we can choose a cut point that gives us 3 clusters. The appropriate cut point seems to be around 2.9."
   ]
  },
  {
   "cell_type": "code",
   "execution_count": null,
   "metadata": {},
   "outputs": [],
   "source": [
    "dendrogram(Z, no_labels=True, color_threshold=2.9, above_threshold_color='k');\n",
    "\n",
    "plt.xlabel('Data Points (Each Leaf is a Coin)', fontsize=12)\n",
    "plt.ylabel('Euclidean Distance', fontsize=12)\n",
    "plt.title('Dendrogram of Coin Clusters', fontsize=14);"
   ]
  },
  {
   "cell_type": "markdown",
   "metadata": {},
   "source": [
    "We can use the function `fcluster()` to extract the cluster membership of each row in our original dataset. This function takes in the linkage matrix as well as the cut point for clusters as `t` and the criterion used to determine clusters as `criterion`. We will be determining clusters based on their distance from each other and using 2.9 as our cut point. The cluster memberships are printed below."
   ]
  },
  {
   "cell_type": "code",
   "execution_count": null,
   "metadata": {},
   "outputs": [],
   "source": [
    "clusters = fcluster(Z, t=2.9, criterion='distance')\n",
    "clusters"
   ]
  },
  {
   "cell_type": "markdown",
   "metadata": {},
   "source": [
    "Now, we can use these cluster memberships to color our original graph of coin data based on cluster membership."
   ]
  },
  {
   "cell_type": "code",
   "execution_count": null,
   "metadata": {},
   "outputs": [],
   "source": [
    "coins_clust1 = coins_su[clusters == 1]\n",
    "coins_clust2 = coins_su[clusters == 2]\n",
    "coins_clust3 = coins_su[clusters == 3]\n",
    "\n",
    "plt.scatter(coins_clust1['diameter'],coins_clust1['weight'],color=\"#D81B60\")\n",
    "plt.scatter(coins_clust2['diameter'],coins_clust2['weight'],color=\"#1E88E5\")\n",
    "plt.scatter(coins_clust3['diameter'],coins_clust3['weight'],color=\"#FFC107\")\n",
    "plt.xlabel('Coin Diameter')\n",
    "plt.ylabel('Coin Weight')\n",
    "plt.title('Measurements of Unknown Coins');"
   ]
  },
  {
   "cell_type": "markdown",
   "metadata": {},
   "source": [
    "These clusters don't look exactly as expected. Part of what seems like it should be the blue cluster is colored pink. Recall that complete linkage calculates the distance between the furthest pair of points in a cluster. As our groups of points have an oblong shape, some of the points in the middle group are actually closer to the bottom group than they are to points with larger coin diameters in the middle group. This is what causes part of the middle group to actually be clustered with the points in the bottom group. This illustrates the importance of understanding linkage and how it affects the final clustering.\n",
    "\n",
    "Notice that, as in our k-means illustration, if we hadn't been able to visualize the data, we wouldn't have known there should be 3 clusters and might have used the two clusters from our dendrogram as our final clustering. It becomes much harder to visualize our data when we have larger numbers of features."
   ]
  },
  {
   "cell_type": "markdown",
   "metadata": {},
   "source": [
    "## A Larger Example\n",
    "\n",
    "Recall our preprocessed countries dataset from [Section 26.2](../2/kmeans_example.ipynb). The data has been cleaned, standardized, and one-hot-encoded. For additional details on this, please return to Section 26.2."
   ]
  },
  {
   "cell_type": "code",
   "execution_count": 2,
   "metadata": {
    "tags": [
     "remove-cell"
    ]
   },
   "outputs": [
    {
     "data": {
      "text/html": [
       "<div>\n",
       "<style scoped>\n",
       "    .dataframe tbody tr th:only-of-type {\n",
       "        vertical-align: middle;\n",
       "    }\n",
       "\n",
       "    .dataframe tbody tr th {\n",
       "        vertical-align: top;\n",
       "    }\n",
       "\n",
       "    .dataframe thead th {\n",
       "        text-align: right;\n",
       "    }\n",
       "</style>\n",
       "<table border=\"1\" class=\"dataframe\">\n",
       "  <thead>\n",
       "    <tr style=\"text-align: right;\">\n",
       "      <th></th>\n",
       "      <th>Density\\n(P/Km2)</th>\n",
       "      <th>Agricultural Land( %)</th>\n",
       "      <th>Land Area(Km2)</th>\n",
       "      <th>Armed Forces size</th>\n",
       "      <th>Birth Rate</th>\n",
       "      <th>Co2-Emissions</th>\n",
       "      <th>CPI</th>\n",
       "      <th>CPI Change (%)</th>\n",
       "      <th>Fertility Rate</th>\n",
       "      <th>Forested Area (%)</th>\n",
       "      <th>...</th>\n",
       "      <th>Official language_Standard Chinese</th>\n",
       "      <th>Official language_Swahili</th>\n",
       "      <th>Official language_Tamil</th>\n",
       "      <th>Official language_Thai</th>\n",
       "      <th>Official language_Tok Pisin</th>\n",
       "      <th>Official language_Turkish</th>\n",
       "      <th>Official language_Ukrainian</th>\n",
       "      <th>Official language_Urdu</th>\n",
       "      <th>Official language_Vietnamese</th>\n",
       "      <th>Official language_nan</th>\n",
       "    </tr>\n",
       "  </thead>\n",
       "  <tbody>\n",
       "    <tr>\n",
       "      <th>0</th>\n",
       "      <td>-0.415286</td>\n",
       "      <td>0.795612</td>\n",
       "      <td>-0.154173</td>\n",
       "      <td>0.291391</td>\n",
       "      <td>1.224663</td>\n",
       "      <td>-0.240521</td>\n",
       "      <td>-0.088400</td>\n",
       "      <td>-0.287060</td>\n",
       "      <td>1.372929</td>\n",
       "      <td>-1.345872</td>\n",
       "      <td>...</td>\n",
       "      <td>False</td>\n",
       "      <td>False</td>\n",
       "      <td>False</td>\n",
       "      <td>False</td>\n",
       "      <td>False</td>\n",
       "      <td>False</td>\n",
       "      <td>False</td>\n",
       "      <td>False</td>\n",
       "      <td>False</td>\n",
       "      <td>False</td>\n",
       "    </tr>\n",
       "    <tr>\n",
       "      <th>1</th>\n",
       "      <td>-0.199464</td>\n",
       "      <td>0.019721</td>\n",
       "      <td>-0.408926</td>\n",
       "      <td>-0.428702</td>\n",
       "      <td>-0.845903</td>\n",
       "      <td>-0.244393</td>\n",
       "      <td>-0.330935</td>\n",
       "      <td>-0.391937</td>\n",
       "      <td>-0.812584</td>\n",
       "      <td>-0.081090</td>\n",
       "      <td>...</td>\n",
       "      <td>False</td>\n",
       "      <td>False</td>\n",
       "      <td>False</td>\n",
       "      <td>False</td>\n",
       "      <td>False</td>\n",
       "      <td>False</td>\n",
       "      <td>False</td>\n",
       "      <td>False</td>\n",
       "      <td>False</td>\n",
       "      <td>False</td>\n",
       "    </tr>\n",
       "    <tr>\n",
       "      <th>2</th>\n",
       "      <td>-0.616720</td>\n",
       "      <td>-1.309641</td>\n",
       "      <td>0.552500</td>\n",
       "      <td>0.277631</td>\n",
       "      <td>0.403835</td>\n",
       "      <td>-0.108204</td>\n",
       "      <td>-0.076922</td>\n",
       "      <td>-0.322019</td>\n",
       "      <td>0.261002</td>\n",
       "      <td>-1.409111</td>\n",
       "      <td>...</td>\n",
       "      <td>False</td>\n",
       "      <td>False</td>\n",
       "      <td>False</td>\n",
       "      <td>False</td>\n",
       "      <td>False</td>\n",
       "      <td>False</td>\n",
       "      <td>False</td>\n",
       "      <td>False</td>\n",
       "      <td>False</td>\n",
       "      <td>False</td>\n",
       "    </tr>\n",
       "    <tr>\n",
       "      <th>3</th>\n",
       "      <td>-0.578352</td>\n",
       "      <td>0.247315</td>\n",
       "      <td>0.088726</td>\n",
       "      <td>-0.181027</td>\n",
       "      <td>2.048491</td>\n",
       "      <td>-0.216160</td>\n",
       "      <td>0.790780</td>\n",
       "      <td>1.437589</td>\n",
       "      <td>2.178118</td>\n",
       "      <td>0.804257</td>\n",
       "      <td>...</td>\n",
       "      <td>False</td>\n",
       "      <td>False</td>\n",
       "      <td>False</td>\n",
       "      <td>False</td>\n",
       "      <td>False</td>\n",
       "      <td>False</td>\n",
       "      <td>False</td>\n",
       "      <td>False</td>\n",
       "      <td>False</td>\n",
       "      <td>False</td>\n",
       "    </tr>\n",
       "    <tr>\n",
       "      <th>4</th>\n",
       "      <td>-0.621516</td>\n",
       "      <td>0.599053</td>\n",
       "      <td>0.715391</td>\n",
       "      <td>-0.208546</td>\n",
       "      <td>-0.322013</td>\n",
       "      <td>-0.060138</td>\n",
       "      <td>0.562947</td>\n",
       "      <td>5.679292</td>\n",
       "      <td>-0.321802</td>\n",
       "      <td>-0.971302</td>\n",
       "      <td>...</td>\n",
       "      <td>False</td>\n",
       "      <td>False</td>\n",
       "      <td>False</td>\n",
       "      <td>False</td>\n",
       "      <td>False</td>\n",
       "      <td>False</td>\n",
       "      <td>False</td>\n",
       "      <td>False</td>\n",
       "      <td>False</td>\n",
       "      <td>False</td>\n",
       "    </tr>\n",
       "  </tbody>\n",
       "</table>\n",
       "<p>5 rows × 167 columns</p>\n",
       "</div>"
      ],
      "text/plain": [
       "   Density\\n(P/Km2)  Agricultural Land( %)  Land Area(Km2)  Armed Forces size  \\\n",
       "0         -0.415286               0.795612       -0.154173           0.291391   \n",
       "1         -0.199464               0.019721       -0.408926          -0.428702   \n",
       "2         -0.616720              -1.309641        0.552500           0.277631   \n",
       "3         -0.578352               0.247315        0.088726          -0.181027   \n",
       "4         -0.621516               0.599053        0.715391          -0.208546   \n",
       "\n",
       "   Birth Rate  Co2-Emissions       CPI  CPI Change (%)  Fertility Rate  \\\n",
       "0    1.224663      -0.240521 -0.088400       -0.287060        1.372929   \n",
       "1   -0.845903      -0.244393 -0.330935       -0.391937       -0.812584   \n",
       "2    0.403835      -0.108204 -0.076922       -0.322019        0.261002   \n",
       "3    2.048491      -0.216160  0.790780        1.437589        2.178118   \n",
       "4   -0.322013      -0.060138  0.562947        5.679292       -0.321802   \n",
       "\n",
       "   Forested Area (%)  ...  Official language_Standard Chinese  \\\n",
       "0          -1.345872  ...                               False   \n",
       "1          -0.081090  ...                               False   \n",
       "2          -1.409111  ...                               False   \n",
       "3           0.804257  ...                               False   \n",
       "4          -0.971302  ...                               False   \n",
       "\n",
       "   Official language_Swahili  Official language_Tamil  Official language_Thai  \\\n",
       "0                      False                    False                   False   \n",
       "1                      False                    False                   False   \n",
       "2                      False                    False                   False   \n",
       "3                      False                    False                   False   \n",
       "4                      False                    False                   False   \n",
       "\n",
       "   Official language_Tok Pisin  Official language_Turkish  \\\n",
       "0                        False                      False   \n",
       "1                        False                      False   \n",
       "2                        False                      False   \n",
       "3                        False                      False   \n",
       "4                        False                      False   \n",
       "\n",
       "   Official language_Ukrainian  Official language_Urdu  \\\n",
       "0                        False                   False   \n",
       "1                        False                   False   \n",
       "2                        False                   False   \n",
       "3                        False                   False   \n",
       "4                        False                   False   \n",
       "\n",
       "   Official language_Vietnamese  Official language_nan  \n",
       "0                         False                  False  \n",
       "1                         False                  False  \n",
       "2                         False                  False  \n",
       "3                         False                  False  \n",
       "4                         False                  False  \n",
       "\n",
       "[5 rows x 167 columns]"
      ]
     },
     "execution_count": 2,
     "metadata": {},
     "output_type": "execute_result"
    }
   ],
   "source": [
    "countries = pd.read_csv(\"../../data/world-data-2023.csv\")\n",
    "countries_clean = countries.drop(columns = ['Abbreviation', 'Calling Code', 'Capital/Major City', 'Largest city', 'Latitude', 'Longitude'])\n",
    "\n",
    "def str_to_num(my_input):\n",
    "    '''Takes in a number in string format and removes commas \n",
    "    and percentage signs before returning it as a float or int\n",
    "    \n",
    "    If the string is not a number or input is not a string, \n",
    "    returns the input'''\n",
    "\n",
    "\n",
    "    if type(my_input) is str:\n",
    "\n",
    "        cleaned_input = my_input.strip() #strip trailing whitespace\n",
    "        cleaned_input = cleaned_input.removeprefix(\"$\").removesuffix(\"%\") #remove these characters if they are present\n",
    "        \n",
    "        if cleaned_input.isdigit():\n",
    "            return int(cleaned_input)\n",
    "        elif (\".\" in cleaned_input) and (cleaned_input.replace(\".\",\"\").replace(\"-\",\"\").isdigit()): #is the only non-digit character a \".\"\n",
    "            return float(cleaned_input)\n",
    "        elif (\",\" in cleaned_input) and (cleaned_input.replace(\",\",\"\").replace(\"-\",\"\").isdigit()): #is the only non-digit character a \",\"\n",
    "            return int(cleaned_input.replace(\",\",\"\"))\n",
    "        elif (\".\" in cleaned_input) and (\",\" in cleaned_input) and (cleaned_input.replace(\".\",\"\").replace(\",\",\"\").replace(\"-\",\"\").isdigit()): #contains 2 non-digit characters \",\" and \".\"\n",
    "            return float(cleaned_input.replace(\",\",\"\"))\n",
    "        else:\n",
    "            return my_input\n",
    "    else:\n",
    "        return my_input\n",
    "    \n",
    "countries_clean = countries_clean.map(str_to_num) #apply this function to every cell in the dataframe\n",
    "countries_clean = countries_clean.dropna(subset=countries_clean.columns.difference(['Official language','Currency code']),ignore_index = True) #remove rows with any missing numeric values\n",
    "\n",
    "from sklearn.preprocessing import StandardScaler\n",
    "country_names = countries_clean['Country']\n",
    "num_columns = countries_clean.drop(columns=['Country', 'Currency-Code', 'Official language'])\n",
    "cat_columns = countries_clean[['Currency-Code', 'Official language']]\n",
    "cat_dummies = pd.get_dummies(cat_columns,drop_first=True,dummy_na=True)\n",
    "scaler = StandardScaler()\n",
    "num_scaled = pd.DataFrame(scaler.fit_transform(num_columns),columns=num_columns.columns)\n",
    "countries_proc = pd.concat([num_scaled,cat_dummies], axis = 1)\n",
    "countries_proc.head()"
   ]
  },
  {
   "cell_type": "code",
   "execution_count": null,
   "metadata": {},
   "outputs": [],
   "source": [
    "countries_proc.head()"
   ]
  },
  {
   "cell_type": "markdown",
   "metadata": {},
   "source": [
    "We can use hierarchical clustering on this data similarly to how we clustered our coins data. First, we use the `linkage()` function to generate our linkage matrix. We can try this with various types of linkage. Here we will try complete and average linkage since they are the most commonly used."
   ]
  },
  {
   "cell_type": "code",
   "execution_count": null,
   "metadata": {},
   "outputs": [],
   "source": [
    "Z_comp = linkage(countries_proc, method='complete')\n",
    "Z_avg = linkage(countries_proc, method='average')"
   ]
  },
  {
   "cell_type": "markdown",
   "metadata": {},
   "source": [
    "Next, we can depict and compare our clusterings using the `dendrogram()` function. I will use the `labels` argument to add the country_names as labels for each leaf and set the argument `orientation` equal to `right` to make more room for the labels."
   ]
  },
  {
   "cell_type": "code",
   "execution_count": null,
   "metadata": {},
   "outputs": [],
   "source": [
    "my_tree_comp = dendrogram(Z_comp, labels=country_names.values, orientation='right', above_threshold_color='k')\n",
    "my_tree_avg = dendrogram(Z_avg, labels=country_names.values, orientation='right', above_threshold_color='k')"
   ]
  },
  {
   "cell_type": "code",
   "execution_count": 8,
   "metadata": {},
   "outputs": [
    {
     "data": {
      "image/png": "[encoded data removed]",
      "text/plain": [
       "<Figure size 640x480 with 1 Axes>"
      ]
     },
     "metadata": {},
     "output_type": "display_data"
    },
    {
     "data": {
      "text/plain": [
       "<Figure size 800x600 with 0 Axes>"
      ]
     },
     "metadata": {},
     "output_type": "display_data"
    }
   ],
   "source": [
    "\n",
    "plt.figure(figsize=(8, 6))\n",
    "my_tree\n",
    "plt.show();"
   ]
  },
  {
   "cell_type": "markdown",
   "metadata": {},
   "source": [
    "## Disadvantages of Hierarchical Clustering\n",
    "\n",
    "use on non-nested data\n",
    "\n",
    "time"
   ]
  }
 ],
 "metadata": {
  "language_info": {
   "name": "python"
  }
 },
 "nbformat": 4,
 "nbformat_minor": 2
}

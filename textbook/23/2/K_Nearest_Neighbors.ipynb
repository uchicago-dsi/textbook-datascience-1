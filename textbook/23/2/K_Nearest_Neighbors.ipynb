{
 "cells": [
  {
   "cell_type": "code",
   "execution_count": 1,
   "id": "bbe00eb7",
   "metadata": {
    "tags": [
     "remove-cell"
    ]
   },
   "outputs": [],
   "source": [
    "import numpy as np\n",
    "import pandas as pd\n",
    "%matplotlib inline\n",
    "\n",
    "#hide code\n",
    "import matplotlib.pyplot as plt\n",
    "plt.style.use('fivethirtyeight')\n",
    "import matplotlib.patches as mpatches\n",
    "np.random.seed(seed=1243)\n",
    "dog_ears = np.random.normal(loc=2.5, scale=2.25, size=20)\n",
    "\n",
    "cat_ears = np.random.normal(loc=6, scale=1.5, size=20)\n",
    "\n",
    "cat_claws = np.random.normal(loc=5, scale=2, size=20)\n",
    "\n",
    "dog_claws = np.random.normal(loc=3.5, scale=1.56, size=20)\n",
    "animal_labels = np.concatenate((np.full((20, ), ['dog']),  np.full((20, ), ['cat'])))\n",
    "\n",
    "\n",
    "characteristic_df = pd.DataFrame({'claw sharpness': np.concatenate((dog_claws, cat_claws)),\n",
    "              'ear pointiness': np.concatenate((dog_ears, cat_ears)), 'Label': animal_labels})\n",
    "characteristic_df = characteristic_df.sample(frac=1).reset_index(drop=True)\n",
    "cat_df = characteristic_df.loc[characteristic_df.Label =='cat']\n",
    "dog_df = characteristic_df.loc[characteristic_df.Label =='dog']"
   ]
  },
  {
   "cell_type": "markdown",
   "id": "1d85b510",
   "metadata": {
    "hideCode": false,
    "hidePrompt": false
   },
   "source": [
    "# K-Nearest Neighbor (kNN)"
   ]
  },
  {
   "cell_type": "markdown",
   "id": "1fdf0589",
   "metadata": {
    "hideCode": false,
    "hidePrompt": false
   },
   "source": [
    "Extending the idea from one neighbor to multiple, we can classify a new point based on the k- nearest neighbors instead of just relying on one. This algorithm uses information about a data point's k nearest neighbors to classify this new data point. You may be wondering how to choose k, and what does *near* mean? These are parameters of this algorithm that can be modified dependent on the problem and are discussed in more detail in [Section 21.3: Features to Consider.](../../21/3/Features_to_Consider.ipynb)\n",
    "The basic structure of the algorithm is outlined below:\n",
    "\n",
    "Given a collection of labeled data points, $\\mathcal{D} = \\{(x,y)_i\\}_{i=1}^n$, a value for $k$, and a distance metric, $d(p,q)$ we classify a new data point $z$ in the following way:\n",
    "1. Calculate the distance $d(p,z)$ for each point $p$ in the dataset\n",
    "2. Find the $k$ smallest values of $d(p,z)$\n",
    "3. Classify $z$ dependent on the mode, or most often, classification of it's $k$ nearest neighbors."
   ]
  },
  {
   "cell_type": "markdown",
   "id": "5c5bf4d6",
   "metadata": {},
   "source": [
    "\n",
    "We explore the same example from the previous section where we have characteristics of dogs and cats and want to classify a new point $(5.8,4.9)$. We said one neighbor might not give us an accurate representation, so we consider more neighbors."
   ]
  },
  {
   "cell_type": "code",
   "execution_count": 2,
   "id": "56c59c60",
   "metadata": {},
   "outputs": [
    {
     "data": {
      "text/html": [
       "<div>\n",
       "<style scoped>\n",
       "    .dataframe tbody tr th:only-of-type {\n",
       "        vertical-align: middle;\n",
       "    }\n",
       "\n",
       "    .dataframe tbody tr th {\n",
       "        vertical-align: top;\n",
       "    }\n",
       "\n",
       "    .dataframe thead th {\n",
       "        text-align: right;\n",
       "    }\n",
       "</style>\n",
       "<table border=\"1\" class=\"dataframe\">\n",
       "  <thead>\n",
       "    <tr style=\"text-align: right;\">\n",
       "      <th></th>\n",
       "      <th>claw sharpness</th>\n",
       "      <th>ear pointiness</th>\n",
       "      <th>Label</th>\n",
       "    </tr>\n",
       "  </thead>\n",
       "  <tbody>\n",
       "    <tr>\n",
       "      <th>0</th>\n",
       "      <td>3.825685</td>\n",
       "      <td>6.406667</td>\n",
       "      <td>cat</td>\n",
       "    </tr>\n",
       "    <tr>\n",
       "      <th>1</th>\n",
       "      <td>4.763658</td>\n",
       "      <td>1.951387</td>\n",
       "      <td>dog</td>\n",
       "    </tr>\n",
       "    <tr>\n",
       "      <th>2</th>\n",
       "      <td>6.329188</td>\n",
       "      <td>5.066956</td>\n",
       "      <td>cat</td>\n",
       "    </tr>\n",
       "    <tr>\n",
       "      <th>3</th>\n",
       "      <td>2.824689</td>\n",
       "      <td>1.649148</td>\n",
       "      <td>dog</td>\n",
       "    </tr>\n",
       "    <tr>\n",
       "      <th>4</th>\n",
       "      <td>5.949133</td>\n",
       "      <td>4.280015</td>\n",
       "      <td>cat</td>\n",
       "    </tr>\n",
       "  </tbody>\n",
       "</table>\n",
       "</div>"
      ],
      "text/plain": [
       "   claw sharpness  ear pointiness Label\n",
       "0        3.825685        6.406667   cat\n",
       "1        4.763658        1.951387   dog\n",
       "2        6.329188        5.066956   cat\n",
       "3        2.824689        1.649148   dog\n",
       "4        5.949133        4.280015   cat"
      ]
     },
     "execution_count": 2,
     "metadata": {},
     "output_type": "execute_result"
    }
   ],
   "source": [
    "characteristic_df.head()"
   ]
  },
  {
   "cell_type": "code",
   "execution_count": 3,
   "id": "2499b3f3",
   "metadata": {
    "tags": [
     "hide-input"
    ]
   },
   "outputs": [
    {
     "data": {
      "image/png": "[encoded data removed]",
      "text/plain": [
       "<Figure size 432x288 with 1 Axes>"
      ]
     },
     "metadata": {},
     "output_type": "display_data"
    }
   ],
   "source": [
    "plt.scatter(cat_df['claw sharpness'], cat_df['ear pointiness'] , color='blue', s=30)\n",
    "plt.scatter(dog_df['claw sharpness'], dog_df['ear pointiness'] , color='black', s=30);\n",
    "plt.scatter(5.8,4.9 , color='red', s=30);\n",
    "\n",
    "blue_patch = mpatches.Patch(color='blue', label='Cat')\n",
    "black_patch = mpatches.Patch(color='black', label='Dog')\n",
    "plt.legend(handles=[blue_patch, black_patch])\n",
    "\n",
    "plt.title(\"Dog vs Cat\")\n",
    "plt.ylabel('Ear Pointiness')\n",
    "plt.xlabel('Claw Sharpness');"
   ]
  },
  {
   "cell_type": "markdown",
   "id": "843f7673",
   "metadata": {},
   "source": [
    "We can build on the idea from the previous section to create a function that returns the closest $k$ neighbors of a given point of interest. To do this, we need our `distance` function and `row_wise_distance` from the previous section. Note `distance` computes the Euclidean distance, while `row_wise_distance` takes every point in a given DataFrame and elementwise computes the distance between the new point."
   ]
  },
  {
   "cell_type": "code",
   "execution_count": 4,
   "id": "aef146b6",
   "metadata": {},
   "outputs": [],
   "source": [
    "# the Euclidean distance\n",
    "def distance(pt1, pt2):   \n",
    "    \"\"\"Return the distance between two points, represented as arrays\"\"\"\n",
    "    return np.sqrt(sum((pt1 - pt2)**2))\n",
    "\n",
    "def row_wise_distance(row, my_point):\n",
    "    '''Computes the distance between the given my_point and a single df row'''\n",
    "    return distance(my_point, np.array(row))"
   ]
  },
  {
   "cell_type": "markdown",
   "id": "241f88e8",
   "metadata": {},
   "source": [
    "With these functions we can build a function that sorts distances and find the given $k$ closest points."
   ]
  },
  {
   "cell_type": "code",
   "execution_count": 5,
   "id": "f301fd20",
   "metadata": {},
   "outputs": [],
   "source": [
    "def closest_k(df, point, k):\n",
    "    \"\"\"Outputs a df containing the k closest rows in the input df to array 'point' \"\"\"\n",
    "    df = df.assign(Distance_to_point = df.apply(row_wise_distance, args=(point,), axis=1))\n",
    "    df = df.sort_values('Distance_to_point') \n",
    "    topk = df.head(k)\n",
    "    return topk"
   ]
  },
  {
   "cell_type": "markdown",
   "id": "c40ea5ff",
   "metadata": {},
   "source": [
    "We also want to read from this DataFrame the majority. To do this, it will be easier to encode the labels of 'cat' and 'dog' as numerical values. So we create a new column with 0 for cat and 1 for dog."
   ]
  },
  {
   "cell_type": "code",
   "execution_count": 6,
   "id": "59a8d854",
   "metadata": {},
   "outputs": [
    {
     "data": {
      "text/html": [
       "<div>\n",
       "<style scoped>\n",
       "    .dataframe tbody tr th:only-of-type {\n",
       "        vertical-align: middle;\n",
       "    }\n",
       "\n",
       "    .dataframe tbody tr th {\n",
       "        vertical-align: top;\n",
       "    }\n",
       "\n",
       "    .dataframe thead th {\n",
       "        text-align: right;\n",
       "    }\n",
       "</style>\n",
       "<table border=\"1\" class=\"dataframe\">\n",
       "  <thead>\n",
       "    <tr style=\"text-align: right;\">\n",
       "      <th></th>\n",
       "      <th>claw sharpness</th>\n",
       "      <th>ear pointiness</th>\n",
       "      <th>Label</th>\n",
       "      <th>Class</th>\n",
       "    </tr>\n",
       "  </thead>\n",
       "  <tbody>\n",
       "    <tr>\n",
       "      <th>0</th>\n",
       "      <td>3.825685</td>\n",
       "      <td>6.406667</td>\n",
       "      <td>cat</td>\n",
       "      <td>0</td>\n",
       "    </tr>\n",
       "    <tr>\n",
       "      <th>1</th>\n",
       "      <td>4.763658</td>\n",
       "      <td>1.951387</td>\n",
       "      <td>dog</td>\n",
       "      <td>1</td>\n",
       "    </tr>\n",
       "    <tr>\n",
       "      <th>2</th>\n",
       "      <td>6.329188</td>\n",
       "      <td>5.066956</td>\n",
       "      <td>cat</td>\n",
       "      <td>0</td>\n",
       "    </tr>\n",
       "    <tr>\n",
       "      <th>3</th>\n",
       "      <td>2.824689</td>\n",
       "      <td>1.649148</td>\n",
       "      <td>dog</td>\n",
       "      <td>1</td>\n",
       "    </tr>\n",
       "    <tr>\n",
       "      <th>4</th>\n",
       "      <td>5.949133</td>\n",
       "      <td>4.280015</td>\n",
       "      <td>cat</td>\n",
       "      <td>0</td>\n",
       "    </tr>\n",
       "  </tbody>\n",
       "</table>\n",
       "</div>"
      ],
      "text/plain": [
       "   claw sharpness  ear pointiness Label  Class\n",
       "0        3.825685        6.406667   cat      0\n",
       "1        4.763658        1.951387   dog      1\n",
       "2        6.329188        5.066956   cat      0\n",
       "3        2.824689        1.649148   dog      1\n",
       "4        5.949133        4.280015   cat      0"
      ]
     },
     "execution_count": 6,
     "metadata": {},
     "output_type": "execute_result"
    }
   ],
   "source": [
    "def convert_bool(input_label):\n",
    "    '''Converts to numerical encoding'''\n",
    "    if input_label == 'dog':\n",
    "        return 1\n",
    "    else: \n",
    "        return 0\n",
    "\n",
    "characteristic_df['Class'] = characteristic_df['Label'].apply(convert_bool)\n",
    "characteristic_df.head()"
   ]
  },
  {
   "cell_type": "markdown",
   "id": "a10fd150",
   "metadata": {},
   "source": [
    "Then we can find the majority category that is closest to the new point. The function below counts the number of labels in each class and compares to find the larger option."
   ]
  },
  {
   "cell_type": "code",
   "execution_count": 7,
   "id": "f0fa20ae",
   "metadata": {},
   "outputs": [],
   "source": [
    "def majority(topkclasses):\n",
    "    \"\"\"1 if the majority of the \"Class\" column is 1's, and 0 otherwise.\"\"\"\n",
    "    ones = topkclasses[topkclasses.Class==1].shape[0]\n",
    "    zeros = topkclasses[topkclasses.Class==0].shape[0]\n",
    "    if ones > zeros:\n",
    "        return 1\n",
    "    else:\n",
    "        return 0"
   ]
  },
  {
   "cell_type": "markdown",
   "id": "14a8b479",
   "metadata": {},
   "source": [
    "Putting these functions together we input our feature DataFrame, the new point we want to classify, and the number of neighbors we are interested in, to get a sorted DataFrame. Here we choose $k=5$. (Please see [Section 21.4: Multiple Classes.](../../21/4/Multiple_Classes.ipynb) for an exploration into how to choose $k$). Then we use the `majority` function to count the majority class within the $k$ closest neighbors."
   ]
  },
  {
   "cell_type": "code",
   "execution_count": 8,
   "id": "a53e2cc5",
   "metadata": {},
   "outputs": [
    {
     "data": {
      "text/html": [
       "<div>\n",
       "<style scoped>\n",
       "    .dataframe tbody tr th:only-of-type {\n",
       "        vertical-align: middle;\n",
       "    }\n",
       "\n",
       "    .dataframe tbody tr th {\n",
       "        vertical-align: top;\n",
       "    }\n",
       "\n",
       "    .dataframe thead th {\n",
       "        text-align: right;\n",
       "    }\n",
       "</style>\n",
       "<table border=\"1\" class=\"dataframe\">\n",
       "  <thead>\n",
       "    <tr style=\"text-align: right;\">\n",
       "      <th></th>\n",
       "      <th>claw sharpness</th>\n",
       "      <th>ear pointiness</th>\n",
       "      <th>Distance_to_point</th>\n",
       "      <th>Class</th>\n",
       "    </tr>\n",
       "  </thead>\n",
       "  <tbody>\n",
       "    <tr>\n",
       "      <th>24</th>\n",
       "      <td>5.422290</td>\n",
       "      <td>4.963878</td>\n",
       "      <td>0.383073</td>\n",
       "      <td>1</td>\n",
       "    </tr>\n",
       "    <tr>\n",
       "      <th>2</th>\n",
       "      <td>6.329188</td>\n",
       "      <td>5.066956</td>\n",
       "      <td>0.554901</td>\n",
       "      <td>0</td>\n",
       "    </tr>\n",
       "    <tr>\n",
       "      <th>12</th>\n",
       "      <td>6.168168</td>\n",
       "      <td>4.426849</td>\n",
       "      <td>0.599516</td>\n",
       "      <td>0</td>\n",
       "    </tr>\n",
       "    <tr>\n",
       "      <th>4</th>\n",
       "      <td>5.949133</td>\n",
       "      <td>4.280015</td>\n",
       "      <td>0.637670</td>\n",
       "      <td>0</td>\n",
       "    </tr>\n",
       "    <tr>\n",
       "      <th>7</th>\n",
       "      <td>5.385259</td>\n",
       "      <td>3.926157</td>\n",
       "      <td>1.058480</td>\n",
       "      <td>0</td>\n",
       "    </tr>\n",
       "  </tbody>\n",
       "</table>\n",
       "</div>"
      ],
      "text/plain": [
       "    claw sharpness  ear pointiness  Distance_to_point  Class\n",
       "24        5.422290        4.963878           0.383073      1\n",
       "2         6.329188        5.066956           0.554901      0\n",
       "12        6.168168        4.426849           0.599516      0\n",
       "4         5.949133        4.280015           0.637670      0\n",
       "7         5.385259        3.926157           1.058480      0"
      ]
     },
     "execution_count": 8,
     "metadata": {},
     "output_type": "execute_result"
    }
   ],
   "source": [
    "top_k = closest_k(characteristic_df[['claw sharpness', 'ear pointiness']], point = np.array([5.8,4.9]), k = 5)\n",
    "top_k.join(characteristic_df['Class'])"
   ]
  },
  {
   "cell_type": "code",
   "execution_count": 9,
   "id": "dbbac87e",
   "metadata": {},
   "outputs": [
    {
     "data": {
      "text/plain": [
       "0"
      ]
     },
     "execution_count": 9,
     "metadata": {},
     "output_type": "execute_result"
    }
   ],
   "source": [
    "majority(top_k.join(characteristic_df['Class']))"
   ]
  },
  {
   "cell_type": "markdown",
   "id": "a81af931",
   "metadata": {},
   "source": [
    "We see the majority of the class labels for the 5 closest neighbors is 0: 'cat'. Therefore we label this new point as 'cat'. See below for a visualization. "
   ]
  },
  {
   "cell_type": "code",
   "execution_count": 10,
   "id": "36559498",
   "metadata": {
    "tags": [
     "hide-input"
    ]
   },
   "outputs": [
    {
     "data": {
      "image/png": "[encoded data removed]",
      "text/plain": [
       "<Figure size 432x288 with 1 Axes>"
      ]
     },
     "metadata": {},
     "output_type": "display_data"
    }
   ],
   "source": [
    "import matplotlib.patches as mpatches\n",
    "plt.scatter(cat_df['claw sharpness'], cat_df['ear pointiness'] , color='blue', s=30)\n",
    "plt.scatter(dog_df['claw sharpness'], dog_df['ear pointiness'] , color='black', s=30);\n",
    "\n",
    "plt.plot((top_k['claw sharpness'].iloc[0], 5.8),(top_k['ear pointiness'].iloc[0],4.9),'black', linewidth=1.5,zorder = 1);\n",
    "plt.plot((top_k['claw sharpness'].iloc[1], 5.8),(top_k['ear pointiness'].iloc[1],4.9),'black', linewidth=1.5,zorder = 1);\n",
    "plt.plot((top_k['claw sharpness'].iloc[2], 5.8),(top_k['ear pointiness'].iloc[2],4.9),'black', linewidth=1.5, zorder = 1);\n",
    "plt.plot((top_k['claw sharpness'].iloc[3], 5.8),(top_k['ear pointiness'].iloc[3],4.9),'black', linewidth=1.5, zorder = 1);\n",
    "plt.plot((top_k['claw sharpness'].iloc[4], 5.8),(top_k['ear pointiness'].iloc[4],4.9),'black', linewidth=1.5, zorder = 1);\n",
    "\n",
    "\n",
    "plt.scatter(5.8,4.9, color='red', s=30);\n",
    "#plt.legend([\"cat\" , \"dog\"])\n",
    "blue_patch = mpatches.Patch(color='blue', label='Cat')\n",
    "black_patch = mpatches.Patch(color='black', label='Dog')\n",
    "plt.legend(handles=[blue_patch, black_patch])\n",
    "#plots.axis('equal');\n",
    "plt.title(\"Dog vs Cat\")\n",
    "plt.ylabel('Ear Pointiness')\n",
    "plt.xlabel('Claw Sharpness');"
   ]
  },
  {
   "cell_type": "markdown",
   "id": "da3cbf49",
   "metadata": {},
   "source": [
    "This is the general idea for kNN classification, but there are some questions that still remain. For the example above, when we chose k = 1 we got a different classification than k = 5. **How do we choose a value for k in a general classification problem?** Additionally, we might wonder **Is there a sense of accuracy for this algorithm?** In other words, how can we measure how well this classification algorithm actually classifies new data? And what about the data itself? **How can we standardize the data so that, regardless of units, we get the same classification?**\n",
    "\n",
    "All of these questions are investigated in the next two sections."
   ]
  }
 ],
 "metadata": {
  "kernelspec": {
   "display_name": "Python 3 (ipykernel)",
   "language": "python",
   "name": "python3"
  },
  "language_info": {
   "codemirror_mode": {
    "name": "ipython",
    "version": 3
   },
   "file_extension": ".py",
   "mimetype": "text/x-python",
   "name": "python",
   "nbconvert_exporter": "python",
   "pygments_lexer": "ipython3",
   "version": "3.9.12"
  }
 },
 "nbformat": 4,
 "nbformat_minor": 5
}

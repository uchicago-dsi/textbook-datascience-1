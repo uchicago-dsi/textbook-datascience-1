{
 "cells": [
  {
   "cell_type": "code",
   "execution_count": 1,
   "id": "a90a037c",
   "metadata": {
    "tags": [
     "remove-cell"
    ]
   },
   "outputs": [],
   "source": [
    "import pandas as pd\n",
    "import numpy as np"
   ]
  },
  {
   "cell_type": "markdown",
   "id": "81191426",
   "metadata": {},
   "source": [
    "# Applying Functions to DataFrames"
   ]
  },
  {
   "cell_type": "markdown",
   "id": "92e8b786",
   "metadata": {},
   "source": [
    "Now that we know the foundations of [DataFrames](../../06/DataFrames.ipynb) and [functions](../../03/5/IntroFunctions.ipynb), we can discuss how to use functions directly on columns or rows of our DataFrame."
   ]
  },
  {
   "cell_type": "markdown",
   "id": "88bc92ea",
   "metadata": {},
   "source": [
    "We will explore student grade data that provides fictional information on student math, reading, and writing scores, as well as some potential predictors of success.\n",
    "More information about the data can be [found here.](http://roycekimmons.com/tools/generated_data/exams)\n"
   ]
  },
  {
   "cell_type": "code",
   "execution_count": 3,
   "id": "50463c71",
   "metadata": {},
   "outputs": [
    {
     "data": {
      "text/html": [
       "<div>\n",
       "<style scoped>\n",
       "    .dataframe tbody tr th:only-of-type {\n",
       "        vertical-align: middle;\n",
       "    }\n",
       "\n",
       "    .dataframe tbody tr th {\n",
       "        vertical-align: top;\n",
       "    }\n",
       "\n",
       "    .dataframe thead th {\n",
       "        text-align: right;\n",
       "    }\n",
       "</style>\n",
       "<table border=\"1\" class=\"dataframe\">\n",
       "  <thead>\n",
       "    <tr style=\"text-align: right;\">\n",
       "      <th></th>\n",
       "      <th>gender</th>\n",
       "      <th>race/ethnicity</th>\n",
       "      <th>parental level of education</th>\n",
       "      <th>lunch</th>\n",
       "      <th>test preparation course</th>\n",
       "      <th>math score</th>\n",
       "      <th>reading score</th>\n",
       "      <th>writing score</th>\n",
       "    </tr>\n",
       "  </thead>\n",
       "  <tbody>\n",
       "    <tr>\n",
       "      <th>0</th>\n",
       "      <td>female</td>\n",
       "      <td>group D</td>\n",
       "      <td>some college</td>\n",
       "      <td>standard</td>\n",
       "      <td>completed</td>\n",
       "      <td>59</td>\n",
       "      <td>70</td>\n",
       "      <td>78</td>\n",
       "    </tr>\n",
       "    <tr>\n",
       "      <th>1</th>\n",
       "      <td>male</td>\n",
       "      <td>group D</td>\n",
       "      <td>associate's degree</td>\n",
       "      <td>standard</td>\n",
       "      <td>none</td>\n",
       "      <td>96</td>\n",
       "      <td>93</td>\n",
       "      <td>87</td>\n",
       "    </tr>\n",
       "    <tr>\n",
       "      <th>2</th>\n",
       "      <td>female</td>\n",
       "      <td>group D</td>\n",
       "      <td>some college</td>\n",
       "      <td>free/reduced</td>\n",
       "      <td>none</td>\n",
       "      <td>57</td>\n",
       "      <td>76</td>\n",
       "      <td>77</td>\n",
       "    </tr>\n",
       "    <tr>\n",
       "      <th>3</th>\n",
       "      <td>male</td>\n",
       "      <td>group B</td>\n",
       "      <td>some college</td>\n",
       "      <td>free/reduced</td>\n",
       "      <td>none</td>\n",
       "      <td>70</td>\n",
       "      <td>70</td>\n",
       "      <td>63</td>\n",
       "    </tr>\n",
       "    <tr>\n",
       "      <th>4</th>\n",
       "      <td>female</td>\n",
       "      <td>group D</td>\n",
       "      <td>associate's degree</td>\n",
       "      <td>standard</td>\n",
       "      <td>none</td>\n",
       "      <td>83</td>\n",
       "      <td>85</td>\n",
       "      <td>86</td>\n",
       "    </tr>\n",
       "  </tbody>\n",
       "</table>\n",
       "</div>"
      ],
      "text/plain": [
       "   gender race/ethnicity parental level of education         lunch   \n",
       "0  female        group D                some college      standard  \\\n",
       "1    male        group D          associate's degree      standard   \n",
       "2  female        group D                some college  free/reduced   \n",
       "3    male        group B                some college  free/reduced   \n",
       "4  female        group D          associate's degree      standard   \n",
       "\n",
       "  test preparation course  math score  reading score  writing score  \n",
       "0               completed          59             70             78  \n",
       "1                    none          96             93             87  \n",
       "2                    none          57             76             77  \n",
       "3                    none          70             70             63  \n",
       "4                    none          83             85             86  "
      ]
     },
     "execution_count": 3,
     "metadata": {},
     "output_type": "execute_result"
    }
   ],
   "source": [
    "student_scores_df = pd.read_csv('../../data/student_scores_data.csv')\n",
    "student_scores_df.head(5)"
   ]
  },
  {
   "cell_type": "markdown",
   "id": "ad9f84b5",
   "metadata": {},
   "source": [
    "## Apply Method"
   ]
  },
  {
   "cell_type": "markdown",
   "id": "cf48ace6",
   "metadata": {},
   "source": [
    "The `.apply` method is used to apply functions to a DataFrame or subsets of a DataFrame. This method takes the form\n",
    "\n",
    "```python\n",
    "df.apply(given_function)\n",
    "```\n",
    "where given_function can be a built-in or user defined function."
   ]
  },
  {
   "cell_type": "markdown",
   "id": "a6f2841b",
   "metadata": {},
   "source": [
    "### Apply: Across Rows"
   ]
  },
  {
   "cell_type": "markdown",
   "id": "1fc6a710",
   "metadata": {},
   "source": [
    "We can apply a built-in function to every single column of a DataFrame, or we can call the apply method on a single column. If we input the entire DataFrame, as below, we get the output of that function applied to each column."
   ]
  },
  {
   "cell_type": "code",
   "execution_count": 22,
   "id": "6809405f",
   "metadata": {},
   "outputs": [
    {
     "data": {
      "text/plain": [
       "gender                         1000\n",
       "race/ethnicity                 1000\n",
       "parental level of education    1000\n",
       "lunch                          1000\n",
       "test preparation course        1000\n",
       "math score                     1000\n",
       "reading score                  1000\n",
       "writing score                  1000\n",
       "Average Score                  1000\n",
       "math grade                     1000\n",
       "dtype: int64"
      ]
     },
     "execution_count": 22,
     "metadata": {},
     "output_type": "execute_result"
    }
   ],
   "source": [
    "student_scores_df.apply(len)"
   ]
  },
  {
   "cell_type": "markdown",
   "id": "a1e19eb7",
   "metadata": {},
   "source": [
    "It might be more useful to apply a function to an individual column or columns, as not all functions can be applied to all datatypes. We can take the average over the *math score* column by using the apply method with `np.mean` as input."
   ]
  },
  {
   "cell_type": "code",
   "execution_count": 24,
   "id": "a187cead",
   "metadata": {},
   "outputs": [
    {
     "data": {
      "text/plain": [
       "math score    67.81\n",
       "dtype: float64"
      ]
     },
     "execution_count": 24,
     "metadata": {},
     "output_type": "execute_result"
    }
   ],
   "source": [
    "student_scores_df[['math score']].apply(np.mean)"
   ]
  },
  {
   "cell_type": "markdown",
   "id": "97f585f2",
   "metadata": {},
   "source": [
    "Be aware, there are different defaults depending on if you are using `apply` on a Series or DataFrame object. We saw above that applying `np.mean` on the DataFrame column takes the mean over the entire column. But if we try to do the same on a Series, this takes the mean of each individual element, see below (the average of one number is just that number as output)."
   ]
  },
  {
   "cell_type": "code",
   "execution_count": 26,
   "id": "1ad9ffce",
   "metadata": {},
   "outputs": [
    {
     "data": {
      "text/plain": [
       "0      59.0\n",
       "1      96.0\n",
       "2      57.0\n",
       "3      70.0\n",
       "4      83.0\n",
       "       ... \n",
       "995    77.0\n",
       "996    80.0\n",
       "997    67.0\n",
       "998    80.0\n",
       "999    58.0\n",
       "Name: math score, Length: 1000, dtype: float64"
      ]
     },
     "execution_count": 26,
     "metadata": {},
     "output_type": "execute_result"
    }
   ],
   "source": [
    "student_scores_df['math score'].apply(np.mean)"
   ]
  },
  {
   "cell_type": "markdown",
   "id": "6c9b6a07",
   "metadata": {},
   "source": [
    "We can use the apply function on more than one column at a time. If we want the average across the rows of math, reading, and writing, we call `apply` on those given rows as input."
   ]
  },
  {
   "cell_type": "code",
   "execution_count": 6,
   "id": "85d2b89f",
   "metadata": {},
   "outputs": [
    {
     "data": {
      "text/plain": [
       "math score       67.810\n",
       "reading score    70.382\n",
       "writing score    69.140\n",
       "dtype: float64"
      ]
     },
     "execution_count": 6,
     "metadata": {},
     "output_type": "execute_result"
    }
   ],
   "source": [
    "student_scores_df[['math score','reading score','writing score']].apply(np.mean) #Default is axis= 0"
   ]
  },
  {
   "cell_type": "markdown",
   "id": "a23472f3",
   "metadata": {},
   "source": [
    "### Apply: Across Columns"
   ]
  },
  {
   "cell_type": "markdown",
   "id": "302fc680",
   "metadata": {},
   "source": [
    "We might be interested in an individual's average math, reading, and writing score instead of the average over just one subject. We can calculate this by specifying which axis of our DataFrame we want. To apply this function across columns of our data - for every row - we change the axis argument to `axis = 1`. By default the 'apply' method corresponds to applying the provided function across rows, that is setting 'axis = 0'. Setting 'axis = 1' allows us to apply the function across columns. "
   ]
  },
  {
   "cell_type": "code",
   "execution_count": 7,
   "id": "955583a7",
   "metadata": {},
   "outputs": [
    {
     "data": {
      "text/plain": [
       "0      69.000000\n",
       "1      92.000000\n",
       "2      70.000000\n",
       "3      67.666667\n",
       "4      84.666667\n",
       "         ...    \n",
       "995    75.000000\n",
       "996    70.666667\n",
       "997    79.666667\n",
       "998    71.333333\n",
       "999    50.000000\n",
       "Length: 1000, dtype: float64"
      ]
     },
     "execution_count": 7,
     "metadata": {},
     "output_type": "execute_result"
    }
   ],
   "source": [
    "student_scores_df[['math score','reading score','writing score']].apply(np.mean, axis = 1)"
   ]
  },
  {
   "cell_type": "markdown",
   "id": "57cc60d6",
   "metadata": {},
   "source": [
    "Including this new column in our DataFrame gives the following result."
   ]
  },
  {
   "cell_type": "code",
   "execution_count": 8,
   "id": "ae4e668a",
   "metadata": {},
   "outputs": [
    {
     "data": {
      "text/html": [
       "<div>\n",
       "<style scoped>\n",
       "    .dataframe tbody tr th:only-of-type {\n",
       "        vertical-align: middle;\n",
       "    }\n",
       "\n",
       "    .dataframe tbody tr th {\n",
       "        vertical-align: top;\n",
       "    }\n",
       "\n",
       "    .dataframe thead th {\n",
       "        text-align: right;\n",
       "    }\n",
       "</style>\n",
       "<table border=\"1\" class=\"dataframe\">\n",
       "  <thead>\n",
       "    <tr style=\"text-align: right;\">\n",
       "      <th></th>\n",
       "      <th>gender</th>\n",
       "      <th>race/ethnicity</th>\n",
       "      <th>parental level of education</th>\n",
       "      <th>lunch</th>\n",
       "      <th>test preparation course</th>\n",
       "      <th>math score</th>\n",
       "      <th>reading score</th>\n",
       "      <th>writing score</th>\n",
       "      <th>Average Score</th>\n",
       "    </tr>\n",
       "  </thead>\n",
       "  <tbody>\n",
       "    <tr>\n",
       "      <th>0</th>\n",
       "      <td>female</td>\n",
       "      <td>group D</td>\n",
       "      <td>some college</td>\n",
       "      <td>standard</td>\n",
       "      <td>completed</td>\n",
       "      <td>59</td>\n",
       "      <td>70</td>\n",
       "      <td>78</td>\n",
       "      <td>69.000000</td>\n",
       "    </tr>\n",
       "    <tr>\n",
       "      <th>1</th>\n",
       "      <td>male</td>\n",
       "      <td>group D</td>\n",
       "      <td>associate's degree</td>\n",
       "      <td>standard</td>\n",
       "      <td>none</td>\n",
       "      <td>96</td>\n",
       "      <td>93</td>\n",
       "      <td>87</td>\n",
       "      <td>92.000000</td>\n",
       "    </tr>\n",
       "    <tr>\n",
       "      <th>2</th>\n",
       "      <td>female</td>\n",
       "      <td>group D</td>\n",
       "      <td>some college</td>\n",
       "      <td>free/reduced</td>\n",
       "      <td>none</td>\n",
       "      <td>57</td>\n",
       "      <td>76</td>\n",
       "      <td>77</td>\n",
       "      <td>70.000000</td>\n",
       "    </tr>\n",
       "    <tr>\n",
       "      <th>3</th>\n",
       "      <td>male</td>\n",
       "      <td>group B</td>\n",
       "      <td>some college</td>\n",
       "      <td>free/reduced</td>\n",
       "      <td>none</td>\n",
       "      <td>70</td>\n",
       "      <td>70</td>\n",
       "      <td>63</td>\n",
       "      <td>67.666667</td>\n",
       "    </tr>\n",
       "    <tr>\n",
       "      <th>4</th>\n",
       "      <td>female</td>\n",
       "      <td>group D</td>\n",
       "      <td>associate's degree</td>\n",
       "      <td>standard</td>\n",
       "      <td>none</td>\n",
       "      <td>83</td>\n",
       "      <td>85</td>\n",
       "      <td>86</td>\n",
       "      <td>84.666667</td>\n",
       "    </tr>\n",
       "  </tbody>\n",
       "</table>\n",
       "</div>"
      ],
      "text/plain": [
       "   gender race/ethnicity parental level of education         lunch   \n",
       "0  female        group D                some college      standard  \\\n",
       "1    male        group D          associate's degree      standard   \n",
       "2  female        group D                some college  free/reduced   \n",
       "3    male        group B                some college  free/reduced   \n",
       "4  female        group D          associate's degree      standard   \n",
       "\n",
       "  test preparation course  math score  reading score  writing score   \n",
       "0               completed          59             70             78  \\\n",
       "1                    none          96             93             87   \n",
       "2                    none          57             76             77   \n",
       "3                    none          70             70             63   \n",
       "4                    none          83             85             86   \n",
       "\n",
       "   Average Score  \n",
       "0      69.000000  \n",
       "1      92.000000  \n",
       "2      70.000000  \n",
       "3      67.666667  \n",
       "4      84.666667  "
      ]
     },
     "execution_count": 8,
     "metadata": {},
     "output_type": "execute_result"
    }
   ],
   "source": [
    "student_scores_df['Average Score'] = student_scores_df[['math score','reading score','writing score']].apply(np.mean, axis = 1)\n",
    "student_scores_df.head(5)"
   ]
  },
  {
   "cell_type": "markdown",
   "id": "1cc2bca9",
   "metadata": {},
   "source": [
    "To summarize the axis options for the 'apply' method on a DataFrame, see below."
   ]
  },
  {
   "cell_type": "markdown",
   "id": "63fe789b",
   "metadata": {},
   "source": [
    "<img src=\"Apply_method.png\" width=\"1500\">"
   ]
  },
  {
   "cell_type": "markdown",
   "id": "9343e236",
   "metadata": {},
   "source": [
    "## Applying User-Defined Functions"
   ]
  },
  {
   "cell_type": "markdown",
   "id": "d91eff5d",
   "metadata": {},
   "source": [
    "The 'apply' method is useful because we can apply our own functions to columns and rows of a DataFrame! Suppose we want to have a letter grade defined for each of the scores given in the dataset. We can do this by first defining such a function, and then applying it to one column, or multiple columns of that DataFrame.\n",
    "\n",
    "We first define a function that takes in a number grade and converts this to a letter grade. Then we can apply this to our DataFrame."
   ]
  },
  {
   "cell_type": "code",
   "execution_count": 9,
   "id": "bacb9c43",
   "metadata": {},
   "outputs": [],
   "source": [
    "def letter_grade(number_grade):\n",
    "    '''Takes a numerical grade value and converts to a letter grade'''\n",
    "    if 90 <= number_grade <= 100:\n",
    "        return 'A'\n",
    "    elif 80 <= number_grade < 90:\n",
    "        return 'B'    \n",
    "    elif 70 <= number_grade < 80:\n",
    "        return 'C'      \n",
    "    elif 60 <= number_grade < 70:\n",
    "        return 'D'\n",
    "    else:\n",
    "        return 'F'   "
   ]
  },
  {
   "cell_type": "markdown",
   "id": "056c6f07",
   "metadata": {},
   "source": [
    "### Across rows"
   ]
  },
  {
   "cell_type": "markdown",
   "id": "31ea7d55",
   "metadata": {},
   "source": [
    "We use the 'apply' method on a single column, a Series object, below, in combination with our 'letter_grade' function."
   ]
  },
  {
   "cell_type": "code",
   "execution_count": 10,
   "id": "e5c5542f",
   "metadata": {},
   "outputs": [
    {
     "data": {
      "text/html": [
       "<div>\n",
       "<style scoped>\n",
       "    .dataframe tbody tr th:only-of-type {\n",
       "        vertical-align: middle;\n",
       "    }\n",
       "\n",
       "    .dataframe tbody tr th {\n",
       "        vertical-align: top;\n",
       "    }\n",
       "\n",
       "    .dataframe thead th {\n",
       "        text-align: right;\n",
       "    }\n",
       "</style>\n",
       "<table border=\"1\" class=\"dataframe\">\n",
       "  <thead>\n",
       "    <tr style=\"text-align: right;\">\n",
       "      <th></th>\n",
       "      <th>gender</th>\n",
       "      <th>race/ethnicity</th>\n",
       "      <th>parental level of education</th>\n",
       "      <th>lunch</th>\n",
       "      <th>test preparation course</th>\n",
       "      <th>math score</th>\n",
       "      <th>reading score</th>\n",
       "      <th>writing score</th>\n",
       "      <th>Average Score</th>\n",
       "      <th>math grade</th>\n",
       "    </tr>\n",
       "  </thead>\n",
       "  <tbody>\n",
       "    <tr>\n",
       "      <th>0</th>\n",
       "      <td>female</td>\n",
       "      <td>group D</td>\n",
       "      <td>some college</td>\n",
       "      <td>standard</td>\n",
       "      <td>completed</td>\n",
       "      <td>59</td>\n",
       "      <td>70</td>\n",
       "      <td>78</td>\n",
       "      <td>69.000000</td>\n",
       "      <td>F</td>\n",
       "    </tr>\n",
       "    <tr>\n",
       "      <th>1</th>\n",
       "      <td>male</td>\n",
       "      <td>group D</td>\n",
       "      <td>associate's degree</td>\n",
       "      <td>standard</td>\n",
       "      <td>none</td>\n",
       "      <td>96</td>\n",
       "      <td>93</td>\n",
       "      <td>87</td>\n",
       "      <td>92.000000</td>\n",
       "      <td>A</td>\n",
       "    </tr>\n",
       "    <tr>\n",
       "      <th>2</th>\n",
       "      <td>female</td>\n",
       "      <td>group D</td>\n",
       "      <td>some college</td>\n",
       "      <td>free/reduced</td>\n",
       "      <td>none</td>\n",
       "      <td>57</td>\n",
       "      <td>76</td>\n",
       "      <td>77</td>\n",
       "      <td>70.000000</td>\n",
       "      <td>F</td>\n",
       "    </tr>\n",
       "    <tr>\n",
       "      <th>3</th>\n",
       "      <td>male</td>\n",
       "      <td>group B</td>\n",
       "      <td>some college</td>\n",
       "      <td>free/reduced</td>\n",
       "      <td>none</td>\n",
       "      <td>70</td>\n",
       "      <td>70</td>\n",
       "      <td>63</td>\n",
       "      <td>67.666667</td>\n",
       "      <td>C</td>\n",
       "    </tr>\n",
       "    <tr>\n",
       "      <th>4</th>\n",
       "      <td>female</td>\n",
       "      <td>group D</td>\n",
       "      <td>associate's degree</td>\n",
       "      <td>standard</td>\n",
       "      <td>none</td>\n",
       "      <td>83</td>\n",
       "      <td>85</td>\n",
       "      <td>86</td>\n",
       "      <td>84.666667</td>\n",
       "      <td>B</td>\n",
       "    </tr>\n",
       "  </tbody>\n",
       "</table>\n",
       "</div>"
      ],
      "text/plain": [
       "   gender race/ethnicity parental level of education         lunch   \n",
       "0  female        group D                some college      standard  \\\n",
       "1    male        group D          associate's degree      standard   \n",
       "2  female        group D                some college  free/reduced   \n",
       "3    male        group B                some college  free/reduced   \n",
       "4  female        group D          associate's degree      standard   \n",
       "\n",
       "  test preparation course  math score  reading score  writing score   \n",
       "0               completed          59             70             78  \\\n",
       "1                    none          96             93             87   \n",
       "2                    none          57             76             77   \n",
       "3                    none          70             70             63   \n",
       "4                    none          83             85             86   \n",
       "\n",
       "   Average Score math grade  \n",
       "0      69.000000          F  \n",
       "1      92.000000          A  \n",
       "2      70.000000          F  \n",
       "3      67.666667          C  \n",
       "4      84.666667          B  "
      ]
     },
     "execution_count": 10,
     "metadata": {},
     "output_type": "execute_result"
    }
   ],
   "source": [
    "student_scores_df['math grade'] = student_scores_df['math score'].apply(letter_grade)\n",
    "student_scores_df.head(5)"
   ]
  },
  {
   "cell_type": "markdown",
   "id": "91c37a06",
   "metadata": {},
   "source": [
    "Note, since this is an elementwise function, it takes each row entry as input into the given function, we cannot call this function directly on a DataFrame object. Doing so gives an error, as below. "
   ]
  },
  {
   "cell_type": "code",
   "execution_count": 20,
   "id": "daf0a380",
   "metadata": {
    "tags": [
     "raises-exception"
    ]
   },
   "outputs": [
    {
     "name": "stdout",
     "output_type": "stream",
     "text": [
      "Exception reporting mode: Minimal\n"
     ]
    },
    {
     "ename": "ValueError",
     "evalue": "The truth value of a Series is ambiguous. Use a.empty, a.bool(), a.item(), a.any() or a.all().",
     "output_type": "error",
     "traceback": [
      "\u001b[0;31mValueError\u001b[0m\u001b[0;31m:\u001b[0m The truth value of a Series is ambiguous. Use a.empty, a.bool(), a.item(), a.any() or a.all().\n"
     ]
    }
   ],
   "source": [
    "#note xmode Minimal shortens the error message\n",
    "%xmode Minimal\n",
    "student_scores_df[['math score']].apply(letter_grade)"
   ]
  },
  {
   "cell_type": "markdown",
   "id": "02469677",
   "metadata": {},
   "source": [
    "### Applymap Method"
   ]
  },
  {
   "cell_type": "markdown",
   "id": "d82f0cf4",
   "metadata": {},
   "source": [
    "To apply a function elementwise we can do one of the following:\n",
    "    \n",
    " - Use .apply() on a Series object\n",
    "\n",
    " - Use .applymap() on a DataFrame object\n",
    " \n",
    "The general format for `applymap` matches the format for `apply` and is given by\n",
    "\n",
    "```python\n",
    "df.applymap(given_function)\n",
    "```\n",
    "where given_function can be a built-in or user defined function.\n",
    "\n",
    " \n",
    "Below we correct the error message from trying to use `apply` for elementwise operations by using `applymap`."
   ]
  },
  {
   "cell_type": "code",
   "execution_count": 12,
   "id": "67022878",
   "metadata": {
    "scrolled": true
   },
   "outputs": [
    {
     "data": {
      "text/html": [
       "<div>\n",
       "<style scoped>\n",
       "    .dataframe tbody tr th:only-of-type {\n",
       "        vertical-align: middle;\n",
       "    }\n",
       "\n",
       "    .dataframe tbody tr th {\n",
       "        vertical-align: top;\n",
       "    }\n",
       "\n",
       "    .dataframe thead th {\n",
       "        text-align: right;\n",
       "    }\n",
       "</style>\n",
       "<table border=\"1\" class=\"dataframe\">\n",
       "  <thead>\n",
       "    <tr style=\"text-align: right;\">\n",
       "      <th></th>\n",
       "      <th>math score</th>\n",
       "    </tr>\n",
       "  </thead>\n",
       "  <tbody>\n",
       "    <tr>\n",
       "      <th>0</th>\n",
       "      <td>F</td>\n",
       "    </tr>\n",
       "    <tr>\n",
       "      <th>1</th>\n",
       "      <td>A</td>\n",
       "    </tr>\n",
       "    <tr>\n",
       "      <th>2</th>\n",
       "      <td>F</td>\n",
       "    </tr>\n",
       "    <tr>\n",
       "      <th>3</th>\n",
       "      <td>C</td>\n",
       "    </tr>\n",
       "    <tr>\n",
       "      <th>4</th>\n",
       "      <td>B</td>\n",
       "    </tr>\n",
       "  </tbody>\n",
       "</table>\n",
       "</div>"
      ],
      "text/plain": [
       "  math score\n",
       "0          F\n",
       "1          A\n",
       "2          F\n",
       "3          C\n",
       "4          B"
      ]
     },
     "execution_count": 12,
     "metadata": {},
     "output_type": "execute_result"
    }
   ],
   "source": [
    "student_scores_df[[\"math score\"]].applymap(letter_grade).head(5)"
   ]
  },
  {
   "cell_type": "markdown",
   "id": "021a956b",
   "metadata": {},
   "source": [
    "We can also use `applymap` on multiple columns of the data!"
   ]
  },
  {
   "cell_type": "code",
   "execution_count": 13,
   "id": "0df516cd",
   "metadata": {},
   "outputs": [
    {
     "data": {
      "text/html": [
       "<div>\n",
       "<style scoped>\n",
       "    .dataframe tbody tr th:only-of-type {\n",
       "        vertical-align: middle;\n",
       "    }\n",
       "\n",
       "    .dataframe tbody tr th {\n",
       "        vertical-align: top;\n",
       "    }\n",
       "\n",
       "    .dataframe thead th {\n",
       "        text-align: right;\n",
       "    }\n",
       "</style>\n",
       "<table border=\"1\" class=\"dataframe\">\n",
       "  <thead>\n",
       "    <tr style=\"text-align: right;\">\n",
       "      <th></th>\n",
       "      <th>gender</th>\n",
       "      <th>race/ethnicity</th>\n",
       "      <th>parental level of education</th>\n",
       "      <th>lunch</th>\n",
       "      <th>test preparation course</th>\n",
       "      <th>math score</th>\n",
       "      <th>reading score</th>\n",
       "      <th>writing score</th>\n",
       "      <th>Average Score</th>\n",
       "      <th>math grade</th>\n",
       "      <th>writing grade</th>\n",
       "      <th>reading grade</th>\n",
       "    </tr>\n",
       "  </thead>\n",
       "  <tbody>\n",
       "    <tr>\n",
       "      <th>0</th>\n",
       "      <td>female</td>\n",
       "      <td>group D</td>\n",
       "      <td>some college</td>\n",
       "      <td>standard</td>\n",
       "      <td>completed</td>\n",
       "      <td>59</td>\n",
       "      <td>70</td>\n",
       "      <td>78</td>\n",
       "      <td>69.000000</td>\n",
       "      <td>F</td>\n",
       "      <td>C</td>\n",
       "      <td>C</td>\n",
       "    </tr>\n",
       "    <tr>\n",
       "      <th>1</th>\n",
       "      <td>male</td>\n",
       "      <td>group D</td>\n",
       "      <td>associate's degree</td>\n",
       "      <td>standard</td>\n",
       "      <td>none</td>\n",
       "      <td>96</td>\n",
       "      <td>93</td>\n",
       "      <td>87</td>\n",
       "      <td>92.000000</td>\n",
       "      <td>A</td>\n",
       "      <td>B</td>\n",
       "      <td>A</td>\n",
       "    </tr>\n",
       "    <tr>\n",
       "      <th>2</th>\n",
       "      <td>female</td>\n",
       "      <td>group D</td>\n",
       "      <td>some college</td>\n",
       "      <td>free/reduced</td>\n",
       "      <td>none</td>\n",
       "      <td>57</td>\n",
       "      <td>76</td>\n",
       "      <td>77</td>\n",
       "      <td>70.000000</td>\n",
       "      <td>F</td>\n",
       "      <td>C</td>\n",
       "      <td>C</td>\n",
       "    </tr>\n",
       "    <tr>\n",
       "      <th>3</th>\n",
       "      <td>male</td>\n",
       "      <td>group B</td>\n",
       "      <td>some college</td>\n",
       "      <td>free/reduced</td>\n",
       "      <td>none</td>\n",
       "      <td>70</td>\n",
       "      <td>70</td>\n",
       "      <td>63</td>\n",
       "      <td>67.666667</td>\n",
       "      <td>C</td>\n",
       "      <td>D</td>\n",
       "      <td>C</td>\n",
       "    </tr>\n",
       "    <tr>\n",
       "      <th>4</th>\n",
       "      <td>female</td>\n",
       "      <td>group D</td>\n",
       "      <td>associate's degree</td>\n",
       "      <td>standard</td>\n",
       "      <td>none</td>\n",
       "      <td>83</td>\n",
       "      <td>85</td>\n",
       "      <td>86</td>\n",
       "      <td>84.666667</td>\n",
       "      <td>B</td>\n",
       "      <td>B</td>\n",
       "      <td>B</td>\n",
       "    </tr>\n",
       "  </tbody>\n",
       "</table>\n",
       "</div>"
      ],
      "text/plain": [
       "   gender race/ethnicity parental level of education         lunch   \n",
       "0  female        group D                some college      standard  \\\n",
       "1    male        group D          associate's degree      standard   \n",
       "2  female        group D                some college  free/reduced   \n",
       "3    male        group B                some college  free/reduced   \n",
       "4  female        group D          associate's degree      standard   \n",
       "\n",
       "  test preparation course  math score  reading score  writing score   \n",
       "0               completed          59             70             78  \\\n",
       "1                    none          96             93             87   \n",
       "2                    none          57             76             77   \n",
       "3                    none          70             70             63   \n",
       "4                    none          83             85             86   \n",
       "\n",
       "   Average Score math grade writing grade reading grade  \n",
       "0      69.000000          F             C             C  \n",
       "1      92.000000          A             B             A  \n",
       "2      70.000000          F             C             C  \n",
       "3      67.666667          C             D             C  \n",
       "4      84.666667          B             B             B  "
      ]
     },
     "execution_count": 13,
     "metadata": {},
     "output_type": "execute_result"
    }
   ],
   "source": [
    "student_scores_df[['writing grade', 'reading grade']] = student_scores_df[['writing score', 'reading score']].applymap(letter_grade)\n",
    "student_scores_df.head(5)"
   ]
  },
  {
   "cell_type": "markdown",
   "id": "2d617bfe",
   "metadata": {},
   "source": [
    "### Across Columns"
   ]
  },
  {
   "cell_type": "markdown",
   "id": "d4abcc39",
   "metadata": {},
   "source": [
    "To illustrate how to apply a user defined function across columns, we define a function 'max_score' that takes the maximum over three specific entries. That is, for a fixed row the maximum column entry over math, reading, and writing is retrieved."
   ]
  },
  {
   "cell_type": "code",
   "execution_count": 14,
   "id": "7bda1d73",
   "metadata": {},
   "outputs": [],
   "source": [
    "def max_score(df):\n",
    "    '''Takes maximum over math, reading, and writing'''\n",
    "\n",
    "    return max(df['math score'], df['reading score'], df['writing score'])"
   ]
  },
  {
   "cell_type": "markdown",
   "id": "7e6925cf",
   "metadata": {},
   "source": [
    "We can call this function directly on the entire DataFrame, or just the rows of interest. Since our function only uses these three columns, both of the lines below are acceptable."
   ]
  },
  {
   "cell_type": "code",
   "execution_count": 18,
   "id": "5690d157",
   "metadata": {},
   "outputs": [
    {
     "data": {
      "text/plain": [
       "0      78\n",
       "1      96\n",
       "2      77\n",
       "3      70\n",
       "4      86\n",
       "       ..\n",
       "995    77\n",
       "996    80\n",
       "997    86\n",
       "998    80\n",
       "999    58\n",
       "Length: 1000, dtype: int64"
      ]
     },
     "execution_count": 18,
     "metadata": {},
     "output_type": "execute_result"
    }
   ],
   "source": [
    "student_scores_df.apply(max_score, axis = 1)"
   ]
  },
  {
   "cell_type": "code",
   "execution_count": 16,
   "id": "99e2a7c0",
   "metadata": {},
   "outputs": [
    {
     "data": {
      "text/plain": [
       "0      78\n",
       "1      96\n",
       "2      77\n",
       "3      70\n",
       "4      86\n",
       "       ..\n",
       "995    77\n",
       "996    80\n",
       "997    86\n",
       "998    80\n",
       "999    58\n",
       "Length: 1000, dtype: int64"
      ]
     },
     "execution_count": 16,
     "metadata": {},
     "output_type": "execute_result"
    }
   ],
   "source": [
    "student_scores_df[['math score', 'reading score', 'writing score']].apply(max_score, axis = 1)"
   ]
  },
  {
   "cell_type": "markdown",
   "id": "f088c363",
   "metadata": {},
   "source": [
    "With these tools, we can apply both built-in and user defined functions across the rows or columns of DataFrames."
   ]
  },
  {
   "cell_type": "markdown",
   "id": "c24ce15d",
   "metadata": {},
   "source": [
    "Note, if you are applying many different functions to DataFrames, or a function with multiple inputs, you may benefit from additional tools like lambda functions. These are anonymous functions that are not defined before use. For now, defining functions as above should suffice, but for those curious, more information on lambda functions can be [found here.](https://python-reference.readthedocs.io/en/latest/docs/operators/lambda.html) "
   ]
  }
 ],
 "metadata": {
  "kernelspec": {
   "display_name": "Python 3 (ipykernel)",
   "language": "python",
   "name": "python3"
  },
  "language_info": {
   "codemirror_mode": {
    "name": "ipython",
    "version": 3
   },
   "file_extension": ".py",
   "mimetype": "text/x-python",
   "name": "python",
   "nbconvert_exporter": "python",
   "pygments_lexer": "ipython3",
   "version": "3.9.12"
  }
 },
 "nbformat": 4,
 "nbformat_minor": 5
}

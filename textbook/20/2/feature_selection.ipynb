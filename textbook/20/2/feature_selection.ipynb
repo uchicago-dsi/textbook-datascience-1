{
 "cells": [
  {
   "cell_type": "markdown",
   "metadata": {},
   "source": [
    "# Feature Selection\n",
    "\n",
    "An overabundance of features can impact a model's predictive ability and interpretability. Higher the number of features, more the training data required to optimize the model in question and abscence of adequate training data can result in overfitted models that yield sub-optimal performance. Models with high number of features also result in complex decision boundaries where the relationship between individual predictors and the outcomes is also difficult to decipher. To this end, we explore strategies that can help gauge the relative importance of features used to represent datasets for a machine learning problem and eliminate the redundant ones that can have undesirable effects on the resulting model."
   ]
  }
 ],
 "metadata": {
  "kernelspec": {
   "display_name": "Python 3",
   "language": "python",
   "name": "python3"
  },
  "language_info": {
   "name": "python",
   "version": "3.11.6"
  }
 },
 "nbformat": 4,
 "nbformat_minor": 2
}

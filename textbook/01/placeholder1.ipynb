{
 "cells": [
  {
   "cell_type": "markdown",
   "metadata": {},
   "source": [
    "# What is Data Science?\n",
    "\n",
    "Data science is the practice of turning raw data into reliable insight to inform decisions. It blends statistics, computing, and domain expertise to collect, clean, explore, and model data. Then data scientists communicate results clearly with visualizations and narrative. Methods range from descriptive summaries to statistical inference and machine learning, with attention to uncertainty, reproducibility, and ethics. In short, data science connects questions to evidence.\n",
    "\n",
    "### What kinds of questions can it answer?\n",
    "\n",
    "- **Descriptive:** What happened? What patterns do we see?\n",
    "\n",
    "- **Diagnostic:** Why did it happen? Which factors are associated with the outcome?\n",
    "\n",
    "- **Predictive:** What is likely to happen next? (e.g., forecasting demand)\n",
    "\n",
    "- **Prescriptive:** What should we do? (e.g., recommend actions or policies)\n",
    "\n",
    "- **Causal:** What is the effect of X on Y? (e.g., A/B tests, quasi-experiments)\n",
    "\n",
    "- **Classification:** Which category does this belong to? (spam/not spam)\n",
    "\n",
    "- **Regression:** How much? (continuous outcomes like price or growth)\n",
    "\n",
    "- **Clustering/Segmentation:** How can we group similar cases without labels?\n",
    "\n",
    "- **Anomaly Detection:** What looks unusual or risky?\n",
    "\n",
    "- **Recommendation & Ranking:** Which items should be shown first to whom?\n",
    "\n",
    "In this book we’ll show you how to answer data science questions using Python. Why Python? Because it’s readable, reproducible, and has a rich ecosystem for data work (e.g., `pandas`, `numpy`, `matplotlib`, `scikit-learn`). In the next few chapters, we will learn just enough programming to load, clean, visualize, and model data confidently and effectively."
   ]
  }
 ],
 "metadata": {
  "kernelspec": {
   "display_name": "Python 3.9.13 64-bit",
   "language": "python",
   "name": "python3"
  },
  "language_info": {
   "name": "python",
   "version": "3.9.13"
  },
  "orig_nbformat": 4,
  "vscode": {
   "interpreter": {
    "hash": "aee8b7b246df8f9039afb4144a1f6fd8d2ca17a180786b69acc140d282b71a49"
   }
  }
 },
 "nbformat": 4,
 "nbformat_minor": 2
}

{
 "cells": [
  {
   "cell_type": "code",
   "execution_count": null,
   "metadata": {
    "tags": [
     "remove-cell"
    ]
   },
   "outputs": [],
   "source": [
    "import numpy as np\n",
    "import pandas as pd\n",
    "from scipy.cluster.hierarchy import dendrogram, linkage\n",
    "\n",
    "\n",
    "%matplotlib inline\n",
    "import matplotlib.pyplot as plt\n",
    "plt.style.use('fivethirtyeight')"
   ]
  },
  {
   "cell_type": "markdown",
   "metadata": {},
   "source": [
    "# Hierarchical Clustering: A Larger Example\n"
   ]
  },
  {
   "cell_type": "code",
   "execution_count": null,
   "metadata": {},
   "outputs": [],
   "source": [
    "countries = pd.read_csv(\"../../data/world-data-2023.csv\")\n",
    "countries_clean = countries.drop(columns = ['Abbreviation', 'Calling Code', 'Capital/Major City', 'Largest city', 'Latitude', 'Longitude'])\n",
    "\n",
    "def str_to_num(my_input):\n",
    "    '''Takes in a number in string format and removes commas \n",
    "    and percentage signs before returning it as a float or int\n",
    "    \n",
    "    If the string is not a number or input is not a string, \n",
    "    returns the input'''\n",
    "\n",
    "\n",
    "    if type(my_input) is str:\n",
    "\n",
    "        cleaned_input = my_input.strip() #strip trailing whitespace\n",
    "        cleaned_input = cleaned_input.removeprefix(\"$\").removesuffix(\"%\") #remove these characters if they are present\n",
    "        \n",
    "        if cleaned_input.isdigit():\n",
    "            return int(cleaned_input)\n",
    "        elif (\".\" in cleaned_input) and (cleaned_input.replace(\".\",\"\").replace(\"-\",\"\").isdigit()): #is the only non-digit character a \".\"\n",
    "            return float(cleaned_input)\n",
    "        elif (\",\" in cleaned_input) and (cleaned_input.replace(\",\",\"\").replace(\"-\",\"\").isdigit()): #is the only non-digit character a \",\"\n",
    "            return int(cleaned_input.replace(\",\",\"\"))\n",
    "        elif (\".\" in cleaned_input) and (\",\" in cleaned_input) and (cleaned_input.replace(\".\",\"\").replace(\",\",\"\").replace(\"-\",\"\").isdigit()): #contains 2 non-digit characters \",\" and \".\"\n",
    "            return float(cleaned_input.replace(\",\",\"\"))\n",
    "        else:\n",
    "            return my_input\n",
    "    else:\n",
    "        return my_input\n",
    "    \n",
    "countries_clean = countries_clean.map(str_to_num) #apply this function to every cell in the dataframe\n",
    "countries_clean = countries_clean.drop(columns=[\"Minimum wage\"]).dropna() #remove rows with any missing values, also remove the `Minimum wage` column as it has 45 missing values\n",
    "from sklearn.preprocessing import StandardScaler, OneHotEncoder\n",
    "country_names = countries_clean['Country']\n",
    "num_columns = countries_clean.drop(columns=['Country', 'Currency-Code', 'Official language'])\n",
    "cat_columns = countries_clean[['Currency-Code', 'Official language']]\n",
    "encoder = OneHotEncoder(drop = 'first', sparse_output = False)\n",
    "cat_dummies = encoder.fit_transform(cat_columns)\n",
    "scaler = StandardScaler()\n",
    "num_scaled = scaler.fit_transform(num_columns)\n",
    "countries_proc = np.concatenate((num_scaled,cat_dummies), axis = 1)\n",
    "countries_proc.head()"
   ]
  },
  {
   "cell_type": "markdown",
   "metadata": {},
   "source": []
  },
  {
   "cell_type": "markdown",
   "metadata": {},
   "source": [
    "## Disadvantages of Hierarchical Clustering\n",
    "\n",
    "use on non-nested data\n",
    "\n",
    "time"
   ]
  }
 ],
 "metadata": {
  "language_info": {
   "name": "python"
  }
 },
 "nbformat": 4,
 "nbformat_minor": 2
}

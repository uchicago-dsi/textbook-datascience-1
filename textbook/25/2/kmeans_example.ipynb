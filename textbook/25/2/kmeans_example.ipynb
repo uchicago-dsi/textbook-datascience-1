{
 "cells": [
  {
   "cell_type": "code",
   "execution_count": 1,
   "metadata": {
    "tags": [
     "remove-cell"
    ]
   },
   "outputs": [],
   "source": [
    "import numpy as np\n",
    "import pandas as pd\n",
    "\n",
    "%matplotlib inline\n",
    "import matplotlib.pyplot as plt\n",
    "plt.style.use('fivethirtyeight')"
   ]
  },
  {
   "cell_type": "markdown",
   "metadata": {},
   "source": [
    "# K-Means Clustering: A Larger Example\n",
    "\n",
    "Now that we understand the k-means clustering algorithm, let's try an example with more features and use and elbow plot to choose $k$. We will also show how you can (and should!) run the algorithm multiple times with different initial centroids because, as we saw in the animations from the previous section, the initialization can have an effect on the final clustering.\n",
    "\n",
    "## Clustering Countries\n",
    "\n",
    "For this example, we will use a dataset[^*] with information about countries across the world. It includes demographic, economic, environmental, and socio-economic information from 2023. This data and more information about it can be found [here](https://doi.org/10.34740/KAGGLE/DSV/6101670). The first few lines are shown below."
   ]
  },
  {
   "cell_type": "code",
   "execution_count": 2,
   "metadata": {},
   "outputs": [
    {
     "data": {
      "text/html": [
       "<div>\n",
       "<style scoped>\n",
       "    .dataframe tbody tr th:only-of-type {\n",
       "        vertical-align: middle;\n",
       "    }\n",
       "\n",
       "    .dataframe tbody tr th {\n",
       "        vertical-align: top;\n",
       "    }\n",
       "\n",
       "    .dataframe thead th {\n",
       "        text-align: right;\n",
       "    }\n",
       "</style>\n",
       "<table border=\"1\" class=\"dataframe\">\n",
       "  <thead>\n",
       "    <tr style=\"text-align: right;\">\n",
       "      <th></th>\n",
       "      <th>Country</th>\n",
       "      <th>Density\\n(P/Km2)</th>\n",
       "      <th>Abbreviation</th>\n",
       "      <th>Agricultural Land( %)</th>\n",
       "      <th>Land Area(Km2)</th>\n",
       "      <th>Armed Forces size</th>\n",
       "      <th>Birth Rate</th>\n",
       "      <th>Calling Code</th>\n",
       "      <th>Capital/Major City</th>\n",
       "      <th>Co2-Emissions</th>\n",
       "      <th>...</th>\n",
       "      <th>Out of pocket health expenditure</th>\n",
       "      <th>Physicians per thousand</th>\n",
       "      <th>Population</th>\n",
       "      <th>Population: Labor force participation (%)</th>\n",
       "      <th>Tax revenue (%)</th>\n",
       "      <th>Total tax rate</th>\n",
       "      <th>Unemployment rate</th>\n",
       "      <th>Urban_population</th>\n",
       "      <th>Latitude</th>\n",
       "      <th>Longitude</th>\n",
       "    </tr>\n",
       "  </thead>\n",
       "  <tbody>\n",
       "    <tr>\n",
       "      <th>0</th>\n",
       "      <td>Afghanistan</td>\n",
       "      <td>60</td>\n",
       "      <td>AF</td>\n",
       "      <td>58.10%</td>\n",
       "      <td>652,230</td>\n",
       "      <td>323,000</td>\n",
       "      <td>32.49</td>\n",
       "      <td>93.0</td>\n",
       "      <td>Kabul</td>\n",
       "      <td>8,672</td>\n",
       "      <td>...</td>\n",
       "      <td>78.40%</td>\n",
       "      <td>0.28</td>\n",
       "      <td>38,041,754</td>\n",
       "      <td>48.90%</td>\n",
       "      <td>9.30%</td>\n",
       "      <td>71.40%</td>\n",
       "      <td>11.12%</td>\n",
       "      <td>9,797,273</td>\n",
       "      <td>33.939110</td>\n",
       "      <td>67.709953</td>\n",
       "    </tr>\n",
       "    <tr>\n",
       "      <th>1</th>\n",
       "      <td>Albania</td>\n",
       "      <td>105</td>\n",
       "      <td>AL</td>\n",
       "      <td>43.10%</td>\n",
       "      <td>28,748</td>\n",
       "      <td>9,000</td>\n",
       "      <td>11.78</td>\n",
       "      <td>355.0</td>\n",
       "      <td>Tirana</td>\n",
       "      <td>4,536</td>\n",
       "      <td>...</td>\n",
       "      <td>56.90%</td>\n",
       "      <td>1.20</td>\n",
       "      <td>2,854,191</td>\n",
       "      <td>55.70%</td>\n",
       "      <td>18.60%</td>\n",
       "      <td>36.60%</td>\n",
       "      <td>12.33%</td>\n",
       "      <td>1,747,593</td>\n",
       "      <td>41.153332</td>\n",
       "      <td>20.168331</td>\n",
       "    </tr>\n",
       "    <tr>\n",
       "      <th>2</th>\n",
       "      <td>Algeria</td>\n",
       "      <td>18</td>\n",
       "      <td>DZ</td>\n",
       "      <td>17.40%</td>\n",
       "      <td>2,381,741</td>\n",
       "      <td>317,000</td>\n",
       "      <td>24.28</td>\n",
       "      <td>213.0</td>\n",
       "      <td>Algiers</td>\n",
       "      <td>150,006</td>\n",
       "      <td>...</td>\n",
       "      <td>28.10%</td>\n",
       "      <td>1.72</td>\n",
       "      <td>43,053,054</td>\n",
       "      <td>41.20%</td>\n",
       "      <td>37.20%</td>\n",
       "      <td>66.10%</td>\n",
       "      <td>11.70%</td>\n",
       "      <td>31,510,100</td>\n",
       "      <td>28.033886</td>\n",
       "      <td>1.659626</td>\n",
       "    </tr>\n",
       "    <tr>\n",
       "      <th>3</th>\n",
       "      <td>Andorra</td>\n",
       "      <td>164</td>\n",
       "      <td>AD</td>\n",
       "      <td>40.00%</td>\n",
       "      <td>468</td>\n",
       "      <td>NaN</td>\n",
       "      <td>7.20</td>\n",
       "      <td>376.0</td>\n",
       "      <td>Andorra la Vella</td>\n",
       "      <td>469</td>\n",
       "      <td>...</td>\n",
       "      <td>36.40%</td>\n",
       "      <td>3.33</td>\n",
       "      <td>77,142</td>\n",
       "      <td>NaN</td>\n",
       "      <td>NaN</td>\n",
       "      <td>NaN</td>\n",
       "      <td>NaN</td>\n",
       "      <td>67,873</td>\n",
       "      <td>42.506285</td>\n",
       "      <td>1.521801</td>\n",
       "    </tr>\n",
       "    <tr>\n",
       "      <th>4</th>\n",
       "      <td>Angola</td>\n",
       "      <td>26</td>\n",
       "      <td>AO</td>\n",
       "      <td>47.50%</td>\n",
       "      <td>1,246,700</td>\n",
       "      <td>117,000</td>\n",
       "      <td>40.73</td>\n",
       "      <td>244.0</td>\n",
       "      <td>Luanda</td>\n",
       "      <td>34,693</td>\n",
       "      <td>...</td>\n",
       "      <td>33.40%</td>\n",
       "      <td>0.21</td>\n",
       "      <td>31,825,295</td>\n",
       "      <td>77.50%</td>\n",
       "      <td>9.20%</td>\n",
       "      <td>49.10%</td>\n",
       "      <td>6.89%</td>\n",
       "      <td>21,061,025</td>\n",
       "      <td>-11.202692</td>\n",
       "      <td>17.873887</td>\n",
       "    </tr>\n",
       "  </tbody>\n",
       "</table>\n",
       "<p>5 rows × 35 columns</p>\n",
       "</div>"
      ],
      "text/plain": [
       "       Country Density\\n(P/Km2) Abbreviation Agricultural Land( %)  \\\n",
       "0  Afghanistan               60           AF                58.10%   \n",
       "1      Albania              105           AL                43.10%   \n",
       "2      Algeria               18           DZ                17.40%   \n",
       "3      Andorra              164           AD                40.00%   \n",
       "4       Angola               26           AO                47.50%   \n",
       "\n",
       "  Land Area(Km2) Armed Forces size  Birth Rate  Calling Code  \\\n",
       "0        652,230           323,000       32.49          93.0   \n",
       "1         28,748             9,000       11.78         355.0   \n",
       "2      2,381,741           317,000       24.28         213.0   \n",
       "3            468               NaN        7.20         376.0   \n",
       "4      1,246,700           117,000       40.73         244.0   \n",
       "\n",
       "  Capital/Major City Co2-Emissions  ... Out of pocket health expenditure  \\\n",
       "0              Kabul         8,672  ...                           78.40%   \n",
       "1             Tirana         4,536  ...                           56.90%   \n",
       "2            Algiers       150,006  ...                           28.10%   \n",
       "3   Andorra la Vella           469  ...                           36.40%   \n",
       "4             Luanda        34,693  ...                           33.40%   \n",
       "\n",
       "  Physicians per thousand  Population  \\\n",
       "0                    0.28  38,041,754   \n",
       "1                    1.20   2,854,191   \n",
       "2                    1.72  43,053,054   \n",
       "3                    3.33      77,142   \n",
       "4                    0.21  31,825,295   \n",
       "\n",
       "   Population: Labor force participation (%) Tax revenue (%) Total tax rate  \\\n",
       "0                                     48.90%           9.30%         71.40%   \n",
       "1                                     55.70%          18.60%         36.60%   \n",
       "2                                     41.20%          37.20%         66.10%   \n",
       "3                                        NaN             NaN            NaN   \n",
       "4                                     77.50%           9.20%         49.10%   \n",
       "\n",
       "  Unemployment rate Urban_population   Latitude  Longitude  \n",
       "0            11.12%        9,797,273  33.939110  67.709953  \n",
       "1            12.33%        1,747,593  41.153332  20.168331  \n",
       "2            11.70%       31,510,100  28.033886   1.659626  \n",
       "3               NaN           67,873  42.506285   1.521801  \n",
       "4             6.89%       21,061,025 -11.202692  17.873887  \n",
       "\n",
       "[5 rows x 35 columns]"
      ]
     },
     "execution_count": 2,
     "metadata": {},
     "output_type": "execute_result"
    }
   ],
   "source": [
    "countries = pd.read_csv(\"../../data/world-data-2023.csv\")\n",
    "countries.head()"
   ]
  },
  {
   "cell_type": "markdown",
   "metadata": {},
   "source": [
    "We want to see if we can cluster countries based on their characteristics. First, we need to do some cleaning. I don't want to include `Abbreviation`, `Calling Code`, `Capital/Major City`, `Largest city`, `Latitude`, or `Longitude` in my analysis because they uniquely identify a given country. I also see some variables that are numeric with percentage signs, dollar signs, and commas. These are characters which indicate that the variable is a string, but I would like them to be floats instead so that Python knows they have a numerical meaning.\n",
    "\n",
    "The code used for this cleaning is hidden for brevity, but the resulting, clean dataframe is shown below."
   ]
  },
  {
   "cell_type": "code",
   "execution_count": 3,
   "metadata": {
    "tags": [
     "hide-input"
    ]
   },
   "outputs": [
    {
     "data": {
      "text/html": [
       "<div>\n",
       "<style scoped>\n",
       "    .dataframe tbody tr th:only-of-type {\n",
       "        vertical-align: middle;\n",
       "    }\n",
       "\n",
       "    .dataframe tbody tr th {\n",
       "        vertical-align: top;\n",
       "    }\n",
       "\n",
       "    .dataframe thead th {\n",
       "        text-align: right;\n",
       "    }\n",
       "</style>\n",
       "<table border=\"1\" class=\"dataframe\">\n",
       "  <thead>\n",
       "    <tr style=\"text-align: right;\">\n",
       "      <th></th>\n",
       "      <th>Country</th>\n",
       "      <th>Density\\n(P/Km2)</th>\n",
       "      <th>Agricultural Land( %)</th>\n",
       "      <th>Land Area(Km2)</th>\n",
       "      <th>Armed Forces size</th>\n",
       "      <th>Birth Rate</th>\n",
       "      <th>Co2-Emissions</th>\n",
       "      <th>CPI</th>\n",
       "      <th>CPI Change (%)</th>\n",
       "      <th>Currency-Code</th>\n",
       "      <th>...</th>\n",
       "      <th>Maternal mortality ratio</th>\n",
       "      <th>Official language</th>\n",
       "      <th>Out of pocket health expenditure</th>\n",
       "      <th>Physicians per thousand</th>\n",
       "      <th>Population</th>\n",
       "      <th>Population: Labor force participation (%)</th>\n",
       "      <th>Tax revenue (%)</th>\n",
       "      <th>Total tax rate</th>\n",
       "      <th>Unemployment rate</th>\n",
       "      <th>Urban_population</th>\n",
       "    </tr>\n",
       "  </thead>\n",
       "  <tbody>\n",
       "    <tr>\n",
       "      <th>0</th>\n",
       "      <td>Afghanistan</td>\n",
       "      <td>60</td>\n",
       "      <td>58.1</td>\n",
       "      <td>652230.0</td>\n",
       "      <td>323000.0</td>\n",
       "      <td>32.49</td>\n",
       "      <td>8672.0</td>\n",
       "      <td>149.90</td>\n",
       "      <td>2.3</td>\n",
       "      <td>AFN</td>\n",
       "      <td>...</td>\n",
       "      <td>638.0</td>\n",
       "      <td>Pashto</td>\n",
       "      <td>78.4</td>\n",
       "      <td>0.28</td>\n",
       "      <td>38041754.0</td>\n",
       "      <td>48.9</td>\n",
       "      <td>9.3</td>\n",
       "      <td>71.4</td>\n",
       "      <td>11.12</td>\n",
       "      <td>9797273.0</td>\n",
       "    </tr>\n",
       "    <tr>\n",
       "      <th>1</th>\n",
       "      <td>Albania</td>\n",
       "      <td>105</td>\n",
       "      <td>43.1</td>\n",
       "      <td>28748.0</td>\n",
       "      <td>9000.0</td>\n",
       "      <td>11.78</td>\n",
       "      <td>4536.0</td>\n",
       "      <td>119.05</td>\n",
       "      <td>1.4</td>\n",
       "      <td>ALL</td>\n",
       "      <td>...</td>\n",
       "      <td>15.0</td>\n",
       "      <td>Albanian</td>\n",
       "      <td>56.9</td>\n",
       "      <td>1.20</td>\n",
       "      <td>2854191.0</td>\n",
       "      <td>55.7</td>\n",
       "      <td>18.6</td>\n",
       "      <td>36.6</td>\n",
       "      <td>12.33</td>\n",
       "      <td>1747593.0</td>\n",
       "    </tr>\n",
       "    <tr>\n",
       "      <th>2</th>\n",
       "      <td>Algeria</td>\n",
       "      <td>18</td>\n",
       "      <td>17.4</td>\n",
       "      <td>2381741.0</td>\n",
       "      <td>317000.0</td>\n",
       "      <td>24.28</td>\n",
       "      <td>150006.0</td>\n",
       "      <td>151.36</td>\n",
       "      <td>2.0</td>\n",
       "      <td>DZD</td>\n",
       "      <td>...</td>\n",
       "      <td>112.0</td>\n",
       "      <td>Arabic</td>\n",
       "      <td>28.1</td>\n",
       "      <td>1.72</td>\n",
       "      <td>43053054.0</td>\n",
       "      <td>41.2</td>\n",
       "      <td>37.2</td>\n",
       "      <td>66.1</td>\n",
       "      <td>11.70</td>\n",
       "      <td>31510100.0</td>\n",
       "    </tr>\n",
       "    <tr>\n",
       "      <th>3</th>\n",
       "      <td>Angola</td>\n",
       "      <td>26</td>\n",
       "      <td>47.5</td>\n",
       "      <td>1246700.0</td>\n",
       "      <td>117000.0</td>\n",
       "      <td>40.73</td>\n",
       "      <td>34693.0</td>\n",
       "      <td>261.73</td>\n",
       "      <td>17.1</td>\n",
       "      <td>AOA</td>\n",
       "      <td>...</td>\n",
       "      <td>241.0</td>\n",
       "      <td>Portuguese</td>\n",
       "      <td>33.4</td>\n",
       "      <td>0.21</td>\n",
       "      <td>31825295.0</td>\n",
       "      <td>77.5</td>\n",
       "      <td>9.2</td>\n",
       "      <td>49.1</td>\n",
       "      <td>6.89</td>\n",
       "      <td>21061025.0</td>\n",
       "    </tr>\n",
       "    <tr>\n",
       "      <th>4</th>\n",
       "      <td>Argentina</td>\n",
       "      <td>17</td>\n",
       "      <td>54.3</td>\n",
       "      <td>2780400.0</td>\n",
       "      <td>105000.0</td>\n",
       "      <td>17.02</td>\n",
       "      <td>201348.0</td>\n",
       "      <td>232.75</td>\n",
       "      <td>53.5</td>\n",
       "      <td>ARS</td>\n",
       "      <td>...</td>\n",
       "      <td>39.0</td>\n",
       "      <td>Spanish</td>\n",
       "      <td>17.6</td>\n",
       "      <td>3.96</td>\n",
       "      <td>44938712.0</td>\n",
       "      <td>61.3</td>\n",
       "      <td>10.1</td>\n",
       "      <td>106.3</td>\n",
       "      <td>9.79</td>\n",
       "      <td>41339571.0</td>\n",
       "    </tr>\n",
       "  </tbody>\n",
       "</table>\n",
       "<p>5 rows × 28 columns</p>\n",
       "</div>"
      ],
      "text/plain": [
       "       Country  Density\\n(P/Km2)  Agricultural Land( %)  Land Area(Km2)  \\\n",
       "0  Afghanistan                60                   58.1        652230.0   \n",
       "1      Albania               105                   43.1         28748.0   \n",
       "2      Algeria                18                   17.4       2381741.0   \n",
       "3       Angola                26                   47.5       1246700.0   \n",
       "4    Argentina                17                   54.3       2780400.0   \n",
       "\n",
       "   Armed Forces size  Birth Rate  Co2-Emissions     CPI  CPI Change (%)  \\\n",
       "0           323000.0       32.49         8672.0  149.90             2.3   \n",
       "1             9000.0       11.78         4536.0  119.05             1.4   \n",
       "2           317000.0       24.28       150006.0  151.36             2.0   \n",
       "3           117000.0       40.73        34693.0  261.73            17.1   \n",
       "4           105000.0       17.02       201348.0  232.75            53.5   \n",
       "\n",
       "  Currency-Code  ...  Maternal mortality ratio  Official language  \\\n",
       "0           AFN  ...                     638.0             Pashto   \n",
       "1           ALL  ...                      15.0           Albanian   \n",
       "2           DZD  ...                     112.0             Arabic   \n",
       "3           AOA  ...                     241.0         Portuguese   \n",
       "4           ARS  ...                      39.0            Spanish   \n",
       "\n",
       "   Out of pocket health expenditure  Physicians per thousand  Population  \\\n",
       "0                              78.4                     0.28  38041754.0   \n",
       "1                              56.9                     1.20   2854191.0   \n",
       "2                              28.1                     1.72  43053054.0   \n",
       "3                              33.4                     0.21  31825295.0   \n",
       "4                              17.6                     3.96  44938712.0   \n",
       "\n",
       "   Population: Labor force participation (%)  Tax revenue (%)  Total tax rate  \\\n",
       "0                                       48.9              9.3            71.4   \n",
       "1                                       55.7             18.6            36.6   \n",
       "2                                       41.2             37.2            66.1   \n",
       "3                                       77.5              9.2            49.1   \n",
       "4                                       61.3             10.1           106.3   \n",
       "\n",
       "   Unemployment rate Urban_population  \n",
       "0              11.12        9797273.0  \n",
       "1              12.33        1747593.0  \n",
       "2              11.70       31510100.0  \n",
       "3               6.89       21061025.0  \n",
       "4               9.79       41339571.0  \n",
       "\n",
       "[5 rows x 28 columns]"
      ]
     },
     "execution_count": 3,
     "metadata": {},
     "output_type": "execute_result"
    }
   ],
   "source": [
    "countries_clean = countries.drop(columns = ['Abbreviation', 'Calling Code', 'Capital/Major City', 'Largest city', 'Latitude', 'Longitude','Minimum wage'])\n",
    "\n",
    "def str_to_num(my_input):\n",
    "    '''Takes in a number in string format and removes commas \n",
    "    and percentage signs before returning it as a float or int\n",
    "    \n",
    "    If the string is not a number or input is not a string, \n",
    "    returns the input'''\n",
    "\n",
    "\n",
    "    if type(my_input) is str:\n",
    "\n",
    "        cleaned_input = my_input.strip() #strip trailing whitespace\n",
    "        cleaned_input = cleaned_input.removeprefix(\"$\").removesuffix(\"%\") #remove these characters if they are present\n",
    "        \n",
    "        if cleaned_input.isdigit():\n",
    "            return int(cleaned_input)\n",
    "        elif (\".\" in cleaned_input) and (cleaned_input.replace(\".\",\"\").replace(\"-\",\"\").isdigit()): #is the only non-digit character a \".\"\n",
    "            return float(cleaned_input)\n",
    "        elif (\",\" in cleaned_input) and (cleaned_input.replace(\",\",\"\").replace(\"-\",\"\").isdigit()): #is the only non-digit character a \",\"\n",
    "            return int(cleaned_input.replace(\",\",\"\"))\n",
    "        elif (\".\" in cleaned_input) and (\",\" in cleaned_input) and (cleaned_input.replace(\".\",\"\").replace(\",\",\"\").replace(\"-\",\"\").isdigit()): #contains 2 non-digit characters \",\" and \".\"\n",
    "            return float(cleaned_input.replace(\",\",\"\"))\n",
    "        else:\n",
    "            return my_input\n",
    "    else:\n",
    "        return my_input\n",
    "    \n",
    "countries_clean = countries_clean.map(str_to_num) #apply this function to every cell in the dataframe\n",
    "countries_clean = countries_clean.dropna(subset=countries_clean.columns.difference(['Official language','Currency code']),ignore_index = True) #remove rows with any missing numeric values\n",
    "countries_clean.head()"
   ]
  },
  {
   "cell_type": "markdown",
   "metadata": {},
   "source": [
    "### Preprocessing the Data\n",
    "\n",
    "In the previous section, we wrote our own functions to implement the k-means algorithm. This is a useful exercise to make sure we understand how the algorithm works, but as we know, there are libraries with optimized functions built to do these kinds of common analyses. The library `sklearn` has built-in functions to do k-means clustering that are much faster than the functions we wrote. Let's use these functions to cluster our `countries` dataset.\n",
    "\n",
    "Before, we can cluster the data, we need to do some preprocessing. Below, I import `StandardScaler` which we can use to standardize our data."
   ]
  },
  {
   "cell_type": "code",
   "execution_count": 4,
   "metadata": {},
   "outputs": [],
   "source": [
    "from sklearn.preprocessing import StandardScaler"
   ]
  },
  {
   "cell_type": "markdown",
   "metadata": {},
   "source": [
    "Next, we separate our numeric and categorical data for ease of preprocessing."
   ]
  },
  {
   "cell_type": "code",
   "execution_count": 5,
   "metadata": {},
   "outputs": [],
   "source": [
    "country_names = countries_clean['Country']\n",
    "num_columns = countries_clean.drop(columns=['Country', 'Currency-Code', 'Official language'])\n",
    "cat_columns = countries_clean[['Currency-Code', 'Official language']]"
   ]
  },
  {
   "cell_type": "markdown",
   "metadata": {},
   "source": [
    "Now, we can use `get_dummies` from the `pandas` library to dummy code our categorical features. I set `drop_first` equal to `True` so that the first category will be dropped and used as the reference level. I also set `dummy_na` equal to `True` which creates a dummy variable to indicate which values are missing."
   ]
  },
  {
   "cell_type": "code",
   "execution_count": 6,
   "metadata": {},
   "outputs": [],
   "source": [
    "cat_dummies = pd.get_dummies(cat_columns, drop_first=True, dummy_na=True)"
   ]
  },
  {
   "cell_type": "markdown",
   "metadata": {},
   "source": [
    "Next, we need to initialize our `StandardScaler` and use it to scale our numeric features."
   ]
  },
  {
   "cell_type": "code",
   "execution_count": 7,
   "metadata": {},
   "outputs": [],
   "source": [
    "scaler = StandardScaler()\n",
    "num_scaled = pd.DataFrame(scaler.fit_transform(num_columns),columns=num_columns.columns)"
   ]
  },
  {
   "cell_type": "markdown",
   "metadata": {},
   "source": [
    "Now, we can put our categorical and numerical data back together into one preprocessed dataframe using the `.concat` function from `pandas`."
   ]
  },
  {
   "cell_type": "code",
   "execution_count": 8,
   "metadata": {},
   "outputs": [
    {
     "data": {
      "text/html": [
       "<div>\n",
       "<style scoped>\n",
       "    .dataframe tbody tr th:only-of-type {\n",
       "        vertical-align: middle;\n",
       "    }\n",
       "\n",
       "    .dataframe tbody tr th {\n",
       "        vertical-align: top;\n",
       "    }\n",
       "\n",
       "    .dataframe thead th {\n",
       "        text-align: right;\n",
       "    }\n",
       "</style>\n",
       "<table border=\"1\" class=\"dataframe\">\n",
       "  <thead>\n",
       "    <tr style=\"text-align: right;\">\n",
       "      <th></th>\n",
       "      <th>Density\\n(P/Km2)</th>\n",
       "      <th>Agricultural Land( %)</th>\n",
       "      <th>Land Area(Km2)</th>\n",
       "      <th>Armed Forces size</th>\n",
       "      <th>Birth Rate</th>\n",
       "      <th>Co2-Emissions</th>\n",
       "      <th>CPI</th>\n",
       "      <th>CPI Change (%)</th>\n",
       "      <th>Fertility Rate</th>\n",
       "      <th>Forested Area (%)</th>\n",
       "      <th>...</th>\n",
       "      <th>Official language_Swahili</th>\n",
       "      <th>Official language_Swedish</th>\n",
       "      <th>Official language_Tamil</th>\n",
       "      <th>Official language_Thai</th>\n",
       "      <th>Official language_Tok Pisin</th>\n",
       "      <th>Official language_Turkish</th>\n",
       "      <th>Official language_Ukrainian</th>\n",
       "      <th>Official language_Urdu</th>\n",
       "      <th>Official language_Vietnamese</th>\n",
       "      <th>Official language_nan</th>\n",
       "    </tr>\n",
       "  </thead>\n",
       "  <tbody>\n",
       "    <tr>\n",
       "      <th>0</th>\n",
       "      <td>-0.215644</td>\n",
       "      <td>0.818138</td>\n",
       "      <td>-0.115866</td>\n",
       "      <td>0.348798</td>\n",
       "      <td>1.264388</td>\n",
       "      <td>-0.232539</td>\n",
       "      <td>-0.077214</td>\n",
       "      <td>-0.280488</td>\n",
       "      <td>1.414957</td>\n",
       "      <td>-1.256779</td>\n",
       "      <td>...</td>\n",
       "      <td>False</td>\n",
       "      <td>False</td>\n",
       "      <td>False</td>\n",
       "      <td>False</td>\n",
       "      <td>False</td>\n",
       "      <td>False</td>\n",
       "      <td>False</td>\n",
       "      <td>False</td>\n",
       "      <td>False</td>\n",
       "      <td>False</td>\n",
       "    </tr>\n",
       "    <tr>\n",
       "      <th>1</th>\n",
       "      <td>-0.156441</td>\n",
       "      <td>0.115295</td>\n",
       "      <td>-0.389922</td>\n",
       "      <td>-0.417215</td>\n",
       "      <td>-0.788460</td>\n",
       "      <td>-0.236728</td>\n",
       "      <td>-0.335232</td>\n",
       "      <td>-0.389776</td>\n",
       "      <td>-0.774075</td>\n",
       "      <td>-0.051855</td>\n",
       "      <td>...</td>\n",
       "      <td>False</td>\n",
       "      <td>False</td>\n",
       "      <td>False</td>\n",
       "      <td>False</td>\n",
       "      <td>False</td>\n",
       "      <td>False</td>\n",
       "      <td>False</td>\n",
       "      <td>False</td>\n",
       "      <td>False</td>\n",
       "      <td>False</td>\n",
       "    </tr>\n",
       "    <tr>\n",
       "      <th>2</th>\n",
       "      <td>-0.270901</td>\n",
       "      <td>-1.088910</td>\n",
       "      <td>0.644351</td>\n",
       "      <td>0.334160</td>\n",
       "      <td>0.450584</td>\n",
       "      <td>-0.089375</td>\n",
       "      <td>-0.065003</td>\n",
       "      <td>-0.316917</td>\n",
       "      <td>0.301239</td>\n",
       "      <td>-1.317025</td>\n",
       "      <td>...</td>\n",
       "      <td>False</td>\n",
       "      <td>False</td>\n",
       "      <td>False</td>\n",
       "      <td>False</td>\n",
       "      <td>False</td>\n",
       "      <td>False</td>\n",
       "      <td>False</td>\n",
       "      <td>False</td>\n",
       "      <td>False</td>\n",
       "      <td>False</td>\n",
       "    </tr>\n",
       "    <tr>\n",
       "      <th>3</th>\n",
       "      <td>-0.260376</td>\n",
       "      <td>0.321462</td>\n",
       "      <td>0.145437</td>\n",
       "      <td>-0.153746</td>\n",
       "      <td>2.081166</td>\n",
       "      <td>-0.206181</td>\n",
       "      <td>0.858093</td>\n",
       "      <td>1.516694</td>\n",
       "      <td>2.221443</td>\n",
       "      <td>0.791591</td>\n",
       "      <td>...</td>\n",
       "      <td>False</td>\n",
       "      <td>False</td>\n",
       "      <td>False</td>\n",
       "      <td>False</td>\n",
       "      <td>False</td>\n",
       "      <td>False</td>\n",
       "      <td>False</td>\n",
       "      <td>False</td>\n",
       "      <td>False</td>\n",
       "      <td>False</td>\n",
       "    </tr>\n",
       "    <tr>\n",
       "      <th>4</th>\n",
       "      <td>-0.272217</td>\n",
       "      <td>0.640084</td>\n",
       "      <td>0.819584</td>\n",
       "      <td>-0.183020</td>\n",
       "      <td>-0.269053</td>\n",
       "      <td>-0.037369</td>\n",
       "      <td>0.615715</td>\n",
       "      <td>5.936791</td>\n",
       "      <td>-0.282503</td>\n",
       "      <td>-0.899936</td>\n",
       "      <td>...</td>\n",
       "      <td>False</td>\n",
       "      <td>False</td>\n",
       "      <td>False</td>\n",
       "      <td>False</td>\n",
       "      <td>False</td>\n",
       "      <td>False</td>\n",
       "      <td>False</td>\n",
       "      <td>False</td>\n",
       "      <td>False</td>\n",
       "      <td>False</td>\n",
       "    </tr>\n",
       "  </tbody>\n",
       "</table>\n",
       "<p>5 rows × 192 columns</p>\n",
       "</div>"
      ],
      "text/plain": [
       "   Density\\n(P/Km2)  Agricultural Land( %)  Land Area(Km2)  Armed Forces size  \\\n",
       "0         -0.215644               0.818138       -0.115866           0.348798   \n",
       "1         -0.156441               0.115295       -0.389922          -0.417215   \n",
       "2         -0.270901              -1.088910        0.644351           0.334160   \n",
       "3         -0.260376               0.321462        0.145437          -0.153746   \n",
       "4         -0.272217               0.640084        0.819584          -0.183020   \n",
       "\n",
       "   Birth Rate  Co2-Emissions       CPI  CPI Change (%)  Fertility Rate  \\\n",
       "0    1.264388      -0.232539 -0.077214       -0.280488        1.414957   \n",
       "1   -0.788460      -0.236728 -0.335232       -0.389776       -0.774075   \n",
       "2    0.450584      -0.089375 -0.065003       -0.316917        0.301239   \n",
       "3    2.081166      -0.206181  0.858093        1.516694        2.221443   \n",
       "4   -0.269053      -0.037369  0.615715        5.936791       -0.282503   \n",
       "\n",
       "   Forested Area (%)  ...  Official language_Swahili  \\\n",
       "0          -1.256779  ...                      False   \n",
       "1          -0.051855  ...                      False   \n",
       "2          -1.317025  ...                      False   \n",
       "3           0.791591  ...                      False   \n",
       "4          -0.899936  ...                      False   \n",
       "\n",
       "   Official language_Swedish  Official language_Tamil  Official language_Thai  \\\n",
       "0                      False                    False                   False   \n",
       "1                      False                    False                   False   \n",
       "2                      False                    False                   False   \n",
       "3                      False                    False                   False   \n",
       "4                      False                    False                   False   \n",
       "\n",
       "   Official language_Tok Pisin  Official language_Turkish  \\\n",
       "0                        False                      False   \n",
       "1                        False                      False   \n",
       "2                        False                      False   \n",
       "3                        False                      False   \n",
       "4                        False                      False   \n",
       "\n",
       "   Official language_Ukrainian  Official language_Urdu  \\\n",
       "0                        False                   False   \n",
       "1                        False                   False   \n",
       "2                        False                   False   \n",
       "3                        False                   False   \n",
       "4                        False                   False   \n",
       "\n",
       "   Official language_Vietnamese  Official language_nan  \n",
       "0                         False                  False  \n",
       "1                         False                  False  \n",
       "2                         False                  False  \n",
       "3                         False                  False  \n",
       "4                         False                  False  \n",
       "\n",
       "[5 rows x 192 columns]"
      ]
     },
     "execution_count": 8,
     "metadata": {},
     "output_type": "execute_result"
    }
   ],
   "source": [
    "countries_proc = pd.concat([num_scaled,cat_dummies], axis = 1)\n",
    "countries_proc.head()"
   ]
  },
  {
   "cell_type": "markdown",
   "metadata": {},
   "source": [
    "### Choosing K\n",
    "\n",
    "Now that our data has been preprocessed, we are ready to start clustering. First, we import the `KMeans` function from `sklearn.cluster`."
   ]
  },
  {
   "cell_type": "code",
   "execution_count": 9,
   "metadata": {},
   "outputs": [],
   "source": [
    "from sklearn.cluster import KMeans"
   ]
  },
  {
   "cell_type": "markdown",
   "metadata": {},
   "source": [
    "The `KMeans` function takes in the number of clusters, $k$, as `n_clusters`, the number of times the algorithm should be run with different initial centroids as `n_init`, and a random seed (as explained in [Section 10.3](../../10/3/sampling.ipynb)) as `random_state`. It also takes in a maximum number of iterations and a tolerance as `max_iter` with default 300 and `tol` with default $10^{-4}$ respectively. For more information about the function, see the `scikit-learn` documentation [here](https://scikit-learn.org/stable/modules/generated/sklearn.cluster.KMeans.html).\n",
    "\n",
    "As we mentioned in the previous section, when it is not obvious how many clusters to use, we can build an Elbow Plot to help us choose $k$. Below, we use iteration to try different values (here 1-10) for $k$. For each $k$ we try, we initialize our `KMeans()` function with that $k$ value and set `n_init` to 10 which tries 10 different initial random centroids and chooses the resulting clustering with the smallest WCV. We fit this model to `countries_proc` and save the WCV which can be found using the attribute `.inertia_`. The for loop below results in a list of WCV values which we can use to build our elbow plot."
   ]
  },
  {
   "cell_type": "code",
   "execution_count": 10,
   "metadata": {},
   "outputs": [
    {
     "data": {
      "image/png": "[encoded data removed]",
      "text/plain": [
       "<Figure size 640x480 with 1 Axes>"
      ]
     },
     "metadata": {},
     "output_type": "display_data"
    }
   ],
   "source": [
    "wcv = []\n",
    "for k in range(1, 11):\n",
    "   kmeans = KMeans(n_clusters=k, n_init=10)\n",
    "   kmeans.fit(countries_proc)\n",
    "   wcv.append(kmeans.inertia_)\n",
    "\n",
    "plt.plot(range(1, 11),wcv)\n",
    "plt.xlabel(\"Number of Clusters: k\")\n",
    "plt.ylabel(\"Within-Cluster Variation\")\n",
    "plt.title('Elbow Plot for Choosing Number of Country Clusters');"
   ]
  },
  {
   "cell_type": "markdown",
   "metadata": {},
   "source": [
    "The elbow of this plot is not as clear as the plot from the [previous section](textbook/26/1/kmeans.ipynb). It looks to be somewhere between 3 and 5. We will choose $k = 4$ clusters for our data, since 4 is in the middle."
   ]
  },
  {
   "cell_type": "markdown",
   "metadata": {},
   "source": [
    "### Training Our Model\n",
    "\n",
    "Now that we have chosen k, we can use `KMeans` to cluster our dataset into 4 clusters. The attribute `.labels_` shows us the cluster membership for each row of `countries proc`."
   ]
  },
  {
   "cell_type": "code",
   "execution_count": 11,
   "metadata": {},
   "outputs": [
    {
     "data": {
      "text/plain": [
       "array([2, 0, 1, 2, 1, 1, 0, 0, 1, 1, 1, 0, 0, 0, 2, 1, 1, 0, 2, 2, 2, 1,\n",
       "       2, 0, 0, 3, 1, 2, 0, 0, 0, 0, 2, 0, 1, 1, 0, 2, 1, 0, 0, 2, 2, 0,\n",
       "       0, 2, 0, 1, 2, 1, 0, 0, 3, 1, 1, 1, 0, 0, 0, 0, 1, 1, 2, 1, 1, 2,\n",
       "       0, 1, 0, 0, 2, 2, 1, 2, 0, 0, 1, 1, 1, 1, 2, 1, 1, 0, 1, 2, 2, 0,\n",
       "       1, 1, 2, 1, 1, 1, 0, 0, 1, 0, 1, 2, 1, 2, 0, 2, 0, 0, 0, 1, 0, 0,\n",
       "       1, 2, 0, 0, 0, 1, 1, 2, 1, 2, 2, 1, 1, 1, 2, 1, 1, 0, 3, 0, 1, 2],\n",
       "      dtype=int32)"
      ]
     },
     "execution_count": 11,
     "metadata": {},
     "output_type": "execute_result"
    }
   ],
   "source": [
    "kmeans = KMeans(n_clusters=4, n_init=10)\n",
    "kmeans.fit(countries_proc)\n",
    "\n",
    "kmeans.labels_"
   ]
  },
  {
   "cell_type": "markdown",
   "metadata": {},
   "source": [
    "We can investigate which countries were clustered together using the `country_names` data which we extracted from our original dataset.\n",
    "\n",
    "Cluster 0 seems to contain mostly European countries."
   ]
  },
  {
   "cell_type": "code",
   "execution_count": 12,
   "metadata": {},
   "outputs": [
    {
     "data": {
      "text/plain": [
       "1                  Albania\n",
       "6                Australia\n",
       "7                  Austria\n",
       "11                Barbados\n",
       "12                 Belgium\n",
       "13                  Belize\n",
       "17                Bulgaria\n",
       "23                  Canada\n",
       "24                   Chile\n",
       "28              Costa Rica\n",
       "29                 Croatia\n",
       "30                  Cyprus\n",
       "31          Czech Republic\n",
       "33                 Denmark\n",
       "36                 Estonia\n",
       "39                 Finland\n",
       "40                  France\n",
       "43                 Georgia\n",
       "44                 Germany\n",
       "46                  Greece\n",
       "50                 Hungary\n",
       "51                 Iceland\n",
       "56     Republic of Ireland\n",
       "57                  Israel\n",
       "58                   Italy\n",
       "59                 Jamaica\n",
       "66                  Latvia\n",
       "68               Lithuania\n",
       "69              Luxembourg\n",
       "74                   Malta\n",
       "75               Mauritius\n",
       "83             New Zealand\n",
       "87                  Norway\n",
       "94                  Poland\n",
       "95                Portugal\n",
       "97                 Romania\n",
       "102                 Serbia\n",
       "104              Singapore\n",
       "105               Slovakia\n",
       "106               Slovenia\n",
       "108            South Korea\n",
       "109                  Spain\n",
       "112               Suriname\n",
       "113                 Sweden\n",
       "114            Switzerland\n",
       "127         United Kingdom\n",
       "129                Uruguay\n",
       "Name: Country, dtype: object"
      ]
     },
     "execution_count": 12,
     "metadata": {},
     "output_type": "execute_result"
    }
   ],
   "source": [
    "country_names[kmeans.labels_ == 0]"
   ]
  },
  {
   "cell_type": "markdown",
   "metadata": {},
   "source": [
    "Cluster 1 contains many Middle Eastern and Eastern European countries as well as Southern and Central American countries."
   ]
  },
  {
   "cell_type": "code",
   "execution_count": 13,
   "metadata": {},
   "outputs": [
    {
     "data": {
      "text/plain": [
       "2                   Algeria\n",
       "4                 Argentina\n",
       "5                   Armenia\n",
       "8                Azerbaijan\n",
       "9                   Bahrain\n",
       "10               Bangladesh\n",
       "15                 Botswana\n",
       "16                   Brazil\n",
       "21               Cape Verde\n",
       "26                 Colombia\n",
       "34       Dominican Republic\n",
       "35                    Egypt\n",
       "38                     Fiji\n",
       "47                Guatemala\n",
       "49                 Honduras\n",
       "53                Indonesia\n",
       "54                     Iran\n",
       "55                     Iraq\n",
       "60                   Jordan\n",
       "61               Kazakhstan\n",
       "63                   Kuwait\n",
       "64               Kyrgyzstan\n",
       "67                  Lebanon\n",
       "72                 Malaysia\n",
       "76                   Mexico\n",
       "77                  Moldova\n",
       "78                 Mongolia\n",
       "79                  Morocco\n",
       "81                  Myanmar\n",
       "82                    Nepal\n",
       "84                Nicaragua\n",
       "88                     Oman\n",
       "89                 Pakistan\n",
       "91                 Paraguay\n",
       "92                     Peru\n",
       "93              Philippines\n",
       "96                    Qatar\n",
       "98                   Russia\n",
       "100            Saudi Arabia\n",
       "107            South Africa\n",
       "110               Sri Lanka\n",
       "115                   Syria\n",
       "116              Tajikistan\n",
       "118                Thailand\n",
       "121     Trinidad and Tobago\n",
       "122                 Tunisia\n",
       "123                  Turkey\n",
       "125                 Ukraine\n",
       "126    United Arab Emirates\n",
       "130                 Vietnam\n",
       "Name: Country, dtype: object"
      ]
     },
     "execution_count": 13,
     "metadata": {},
     "output_type": "execute_result"
    }
   ],
   "source": [
    "country_names[kmeans.labels_ == 1]"
   ]
  },
  {
   "cell_type": "markdown",
   "metadata": {},
   "source": [
    "Cluster 2 contains mostly African countries."
   ]
  },
  {
   "cell_type": "code",
   "execution_count": 14,
   "metadata": {},
   "outputs": [
    {
     "data": {
      "text/plain": [
       "0                           Afghanistan\n",
       "3                                Angola\n",
       "14                                Benin\n",
       "18                         Burkina Faso\n",
       "19                              Burundi\n",
       "20                          Ivory Coast\n",
       "22                             Cameroon\n",
       "27                Republic of the Congo\n",
       "32     Democratic Republic of the Congo\n",
       "37                             Ethiopia\n",
       "41                                Gabon\n",
       "42                           The Gambia\n",
       "45                                Ghana\n",
       "48                               Guinea\n",
       "62                                Kenya\n",
       "65                                 Laos\n",
       "70                           Madagascar\n",
       "71                               Malawi\n",
       "73                                 Mali\n",
       "80                           Mozambique\n",
       "85                                Niger\n",
       "86                              Nigeria\n",
       "90                     Papua New Guinea\n",
       "99                               Rwanda\n",
       "101                             Senegal\n",
       "103                        Sierra Leone\n",
       "111                               Sudan\n",
       "117                            Tanzania\n",
       "119                          East Timor\n",
       "120                                Togo\n",
       "124                              Uganda\n",
       "131                              Zambia\n",
       "Name: Country, dtype: object"
      ]
     },
     "execution_count": 14,
     "metadata": {},
     "output_type": "execute_result"
    }
   ],
   "source": [
    "country_names[kmeans.labels_ == 2]"
   ]
  },
  {
   "cell_type": "markdown",
   "metadata": {},
   "source": [
    "China, India and the United States make up their own cluster."
   ]
  },
  {
   "cell_type": "code",
   "execution_count": 15,
   "metadata": {},
   "outputs": [
    {
     "data": {
      "text/plain": [
       "25             China\n",
       "52             India\n",
       "128    United States\n",
       "Name: Country, dtype: object"
      ]
     },
     "execution_count": 15,
     "metadata": {},
     "output_type": "execute_result"
    }
   ],
   "source": [
    "country_names[kmeans.labels_ == 3]"
   ]
  },
  {
   "cell_type": "markdown",
   "metadata": {},
   "source": [
    "The map below shows which countries are assigned to each cluster. Interestingly, the clustering seems to have some geographic meaning. Countries close together on the map tend to belong to the same cluster."
   ]
  },
  {
   "cell_type": "code",
   "execution_count": 18,
   "metadata": {
    "tags": [
     "hide-input"
    ]
   },
   "outputs": [
    {
     "data": {
      "application/vnd.plotly.v1+json": {
       "config": {
        "plotlyServerURL": "https://plot.ly"
       },
       "data": [
        {
         "colorscale": [
          [
           0,
           "#D81B60"
          ],
          [
           1,
           "#D81B60"
          ]
         ],
         "geo": "geo",
         "hovertemplate": "<b>%{hovertext}</b><br><br>cluster=0<br>country_names=%{location}<extra></extra>",
         "hovertext": [
          "Albania",
          "Australia",
          "Austria",
          "Barbados",
          "Belgium",
          "Belize",
          "Bulgaria",
          "Canada",
          "Chile",
          "Costa Rica",
          "Croatia",
          "Cyprus",
          "Czech Republic",
          "Denmark",
          "Estonia",
          "Finland",
          "France",
          "Georgia",
          "Germany",
          "Greece",
          "Hungary",
          "Iceland",
          "Republic of Ireland",
          "Israel",
          "Italy",
          "Jamaica",
          "Latvia",
          "Lithuania",
          "Luxembourg",
          "Malta",
          "Mauritius",
          "New Zealand",
          "Norway",
          "Poland",
          "Portugal",
          "Romania",
          "Serbia",
          "Singapore",
          "Slovakia",
          "Slovenia",
          "South Korea",
          "Spain",
          "Suriname",
          "Sweden",
          "Switzerland",
          "United Kingdom",
          "Uruguay"
         ],
         "locationmode": "country names",
         "locations": [
          "Albania",
          "Australia",
          "Austria",
          "Barbados",
          "Belgium",
          "Belize",
          "Bulgaria",
          "Canada",
          "Chile",
          "Costa Rica",
          "Croatia",
          "Cyprus",
          "Czech Republic",
          "Denmark",
          "Estonia",
          "Finland",
          "France",
          "Georgia",
          "Germany",
          "Greece",
          "Hungary",
          "Iceland",
          "Republic of Ireland",
          "Israel",
          "Italy",
          "Jamaica",
          "Latvia",
          "Lithuania",
          "Luxembourg",
          "Malta",
          "Mauritius",
          "New Zealand",
          "Norway",
          "Poland",
          "Portugal",
          "Romania",
          "Serbia",
          "Singapore",
          "Slovakia",
          "Slovenia",
          "South Korea",
          "Spain",
          "Suriname",
          "Sweden",
          "Switzerland",
          "United Kingdom",
          "Uruguay"
         ],
         "name": "0",
         "showlegend": true,
         "showscale": false,
         "type": "choropleth",
         "z": [
          1,
          1,
          1,
          1,
          1,
          1,
          1,
          1,
          1,
          1,
          1,
          1,
          1,
          1,
          1,
          1,
          1,
          1,
          1,
          1,
          1,
          1,
          1,
          1,
          1,
          1,
          1,
          1,
          1,
          1,
          1,
          1,
          1,
          1,
          1,
          1,
          1,
          1,
          1,
          1,
          1,
          1,
          1,
          1,
          1,
          1,
          1
         ]
        },
        {
         "colorscale": [
          [
           0,
           "#1E88E5"
          ],
          [
           1,
           "#1E88E5"
          ]
         ],
         "geo": "geo",
         "hovertemplate": "<b>%{hovertext}</b><br><br>cluster=1<br>country_names=%{location}<extra></extra>",
         "hovertext": [
          "Algeria",
          "Argentina",
          "Armenia",
          "Azerbaijan",
          "Bahrain",
          "Bangladesh",
          "Botswana",
          "Brazil",
          "Cape Verde",
          "Colombia",
          "Dominican Republic",
          "Egypt",
          "Fiji",
          "Guatemala",
          "Honduras",
          "Indonesia",
          "Iran",
          "Iraq",
          "Jordan",
          "Kazakhstan",
          "Kuwait",
          "Kyrgyzstan",
          "Lebanon",
          "Malaysia",
          "Mexico",
          "Moldova",
          "Mongolia",
          "Morocco",
          "Myanmar",
          "Nepal",
          "Nicaragua",
          "Oman",
          "Pakistan",
          "Paraguay",
          "Peru",
          "Philippines",
          "Qatar",
          "Russia",
          "Saudi Arabia",
          "South Africa",
          "Sri Lanka",
          "Syria",
          "Tajikistan",
          "Thailand",
          "Trinidad and Tobago",
          "Tunisia",
          "Turkey",
          "Ukraine",
          "United Arab Emirates",
          "Vietnam"
         ],
         "locationmode": "country names",
         "locations": [
          "Algeria",
          "Argentina",
          "Armenia",
          "Azerbaijan",
          "Bahrain",
          "Bangladesh",
          "Botswana",
          "Brazil",
          "Cape Verde",
          "Colombia",
          "Dominican Republic",
          "Egypt",
          "Fiji",
          "Guatemala",
          "Honduras",
          "Indonesia",
          "Iran",
          "Iraq",
          "Jordan",
          "Kazakhstan",
          "Kuwait",
          "Kyrgyzstan",
          "Lebanon",
          "Malaysia",
          "Mexico",
          "Moldova",
          "Mongolia",
          "Morocco",
          "Myanmar",
          "Nepal",
          "Nicaragua",
          "Oman",
          "Pakistan",
          "Paraguay",
          "Peru",
          "Philippines",
          "Qatar",
          "Russia",
          "Saudi Arabia",
          "South Africa",
          "Sri Lanka",
          "Syria",
          "Tajikistan",
          "Thailand",
          "Trinidad and Tobago",
          "Tunisia",
          "Turkey",
          "Ukraine",
          "United Arab Emirates",
          "Vietnam"
         ],
         "name": "1",
         "showlegend": true,
         "showscale": false,
         "type": "choropleth",
         "z": [
          1,
          1,
          1,
          1,
          1,
          1,
          1,
          1,
          1,
          1,
          1,
          1,
          1,
          1,
          1,
          1,
          1,
          1,
          1,
          1,
          1,
          1,
          1,
          1,
          1,
          1,
          1,
          1,
          1,
          1,
          1,
          1,
          1,
          1,
          1,
          1,
          1,
          1,
          1,
          1,
          1,
          1,
          1,
          1,
          1,
          1,
          1,
          1,
          1,
          1
         ]
        },
        {
         "colorscale": [
          [
           0,
           "#FFC107"
          ],
          [
           1,
           "#FFC107"
          ]
         ],
         "geo": "geo",
         "hovertemplate": "<b>%{hovertext}</b><br><br>cluster=2<br>country_names=%{location}<extra></extra>",
         "hovertext": [
          "Afghanistan",
          "Angola",
          "Benin",
          "Burkina Faso",
          "Burundi",
          "Ivory Coast",
          "Cameroon",
          "Republic of the Congo",
          "Democratic Republic of the Congo",
          "Ethiopia",
          "Gabon",
          "The Gambia",
          "Ghana",
          "Guinea",
          "Kenya",
          "Laos",
          "Madagascar",
          "Malawi",
          "Mali",
          "Mozambique",
          "Niger",
          "Nigeria",
          "Papua New Guinea",
          "Rwanda",
          "Senegal",
          "Sierra Leone",
          "Sudan",
          "Tanzania",
          "East Timor",
          "Togo",
          "Uganda",
          "Zambia"
         ],
         "locationmode": "country names",
         "locations": [
          "Afghanistan",
          "Angola",
          "Benin",
          "Burkina Faso",
          "Burundi",
          "Ivory Coast",
          "Cameroon",
          "Republic of the Congo",
          "Democratic Republic of the Congo",
          "Ethiopia",
          "Gabon",
          "The Gambia",
          "Ghana",
          "Guinea",
          "Kenya",
          "Laos",
          "Madagascar",
          "Malawi",
          "Mali",
          "Mozambique",
          "Niger",
          "Nigeria",
          "Papua New Guinea",
          "Rwanda",
          "Senegal",
          "Sierra Leone",
          "Sudan",
          "Tanzania",
          "East Timor",
          "Togo",
          "Uganda",
          "Zambia"
         ],
         "name": "2",
         "showlegend": true,
         "showscale": false,
         "type": "choropleth",
         "z": [
          1,
          1,
          1,
          1,
          1,
          1,
          1,
          1,
          1,
          1,
          1,
          1,
          1,
          1,
          1,
          1,
          1,
          1,
          1,
          1,
          1,
          1,
          1,
          1,
          1,
          1,
          1,
          1,
          1,
          1,
          1,
          1
         ]
        },
        {
         "colorscale": [
          [
           0,
           "#004D40"
          ],
          [
           1,
           "#004D40"
          ]
         ],
         "geo": "geo",
         "hovertemplate": "<b>%{hovertext}</b><br><br>cluster=3<br>country_names=%{location}<extra></extra>",
         "hovertext": [
          "China",
          "India",
          "United States"
         ],
         "locationmode": "country names",
         "locations": [
          "China",
          "India",
          "United States"
         ],
         "name": "3",
         "showlegend": true,
         "showscale": false,
         "type": "choropleth",
         "z": [
          1,
          1,
          1
         ]
        }
       ],
       "layout": {
        "geo": {
         "center": {},
         "domain": {
          "x": [
           0,
           1
          ],
          "y": [
           0,
           1
          ]
         }
        },
        "legend": {
         "title": {
          "text": "Cluster Membership"
         },
         "tracegroupgap": 0
        },
        "margin": {
         "t": 60
        },
        "template": {
         "data": {
          "bar": [
           {
            "error_x": {
             "color": "#2a3f5f"
            },
            "error_y": {
             "color": "#2a3f5f"
            },
            "marker": {
             "line": {
              "color": "#E5ECF6",
              "width": 0.5
             },
             "pattern": {
              "fillmode": "overlay",
              "size": 10,
              "solidity": 0.2
             }
            },
            "type": "bar"
           }
          ],
          "barpolar": [
           {
            "marker": {
             "line": {
              "color": "#E5ECF6",
              "width": 0.5
             },
             "pattern": {
              "fillmode": "overlay",
              "size": 10,
              "solidity": 0.2
             }
            },
            "type": "barpolar"
           }
          ],
          "carpet": [
           {
            "aaxis": {
             "endlinecolor": "#2a3f5f",
             "gridcolor": "white",
             "linecolor": "white",
             "minorgridcolor": "white",
             "startlinecolor": "#2a3f5f"
            },
            "baxis": {
             "endlinecolor": "#2a3f5f",
             "gridcolor": "white",
             "linecolor": "white",
             "minorgridcolor": "white",
             "startlinecolor": "#2a3f5f"
            },
            "type": "carpet"
           }
          ],
          "choropleth": [
           {
            "colorbar": {
             "outlinewidth": 0,
             "ticks": ""
            },
            "type": "choropleth"
           }
          ],
          "contour": [
           {
            "colorbar": {
             "outlinewidth": 0,
             "ticks": ""
            },
            "colorscale": [
             [
              0,
              "#0d0887"
             ],
             [
              0.1111111111111111,
              "#46039f"
             ],
             [
              0.2222222222222222,
              "#7201a8"
             ],
             [
              0.3333333333333333,
              "#9c179e"
             ],
             [
              0.4444444444444444,
              "#bd3786"
             ],
             [
              0.5555555555555556,
              "#d8576b"
             ],
             [
              0.6666666666666666,
              "#ed7953"
             ],
             [
              0.7777777777777778,
              "#fb9f3a"
             ],
             [
              0.8888888888888888,
              "#fdca26"
             ],
             [
              1,
              "#f0f921"
             ]
            ],
            "type": "contour"
           }
          ],
          "contourcarpet": [
           {
            "colorbar": {
             "outlinewidth": 0,
             "ticks": ""
            },
            "type": "contourcarpet"
           }
          ],
          "heatmap": [
           {
            "colorbar": {
             "outlinewidth": 0,
             "ticks": ""
            },
            "colorscale": [
             [
              0,
              "#0d0887"
             ],
             [
              0.1111111111111111,
              "#46039f"
             ],
             [
              0.2222222222222222,
              "#7201a8"
             ],
             [
              0.3333333333333333,
              "#9c179e"
             ],
             [
              0.4444444444444444,
              "#bd3786"
             ],
             [
              0.5555555555555556,
              "#d8576b"
             ],
             [
              0.6666666666666666,
              "#ed7953"
             ],
             [
              0.7777777777777778,
              "#fb9f3a"
             ],
             [
              0.8888888888888888,
              "#fdca26"
             ],
             [
              1,
              "#f0f921"
             ]
            ],
            "type": "heatmap"
           }
          ],
          "heatmapgl": [
           {
            "colorbar": {
             "outlinewidth": 0,
             "ticks": ""
            },
            "colorscale": [
             [
              0,
              "#0d0887"
             ],
             [
              0.1111111111111111,
              "#46039f"
             ],
             [
              0.2222222222222222,
              "#7201a8"
             ],
             [
              0.3333333333333333,
              "#9c179e"
             ],
             [
              0.4444444444444444,
              "#bd3786"
             ],
             [
              0.5555555555555556,
              "#d8576b"
             ],
             [
              0.6666666666666666,
              "#ed7953"
             ],
             [
              0.7777777777777778,
              "#fb9f3a"
             ],
             [
              0.8888888888888888,
              "#fdca26"
             ],
             [
              1,
              "#f0f921"
             ]
            ],
            "type": "heatmapgl"
           }
          ],
          "histogram": [
           {
            "marker": {
             "pattern": {
              "fillmode": "overlay",
              "size": 10,
              "solidity": 0.2
             }
            },
            "type": "histogram"
           }
          ],
          "histogram2d": [
           {
            "colorbar": {
             "outlinewidth": 0,
             "ticks": ""
            },
            "colorscale": [
             [
              0,
              "#0d0887"
             ],
             [
              0.1111111111111111,
              "#46039f"
             ],
             [
              0.2222222222222222,
              "#7201a8"
             ],
             [
              0.3333333333333333,
              "#9c179e"
             ],
             [
              0.4444444444444444,
              "#bd3786"
             ],
             [
              0.5555555555555556,
              "#d8576b"
             ],
             [
              0.6666666666666666,
              "#ed7953"
             ],
             [
              0.7777777777777778,
              "#fb9f3a"
             ],
             [
              0.8888888888888888,
              "#fdca26"
             ],
             [
              1,
              "#f0f921"
             ]
            ],
            "type": "histogram2d"
           }
          ],
          "histogram2dcontour": [
           {
            "colorbar": {
             "outlinewidth": 0,
             "ticks": ""
            },
            "colorscale": [
             [
              0,
              "#0d0887"
             ],
             [
              0.1111111111111111,
              "#46039f"
             ],
             [
              0.2222222222222222,
              "#7201a8"
             ],
             [
              0.3333333333333333,
              "#9c179e"
             ],
             [
              0.4444444444444444,
              "#bd3786"
             ],
             [
              0.5555555555555556,
              "#d8576b"
             ],
             [
              0.6666666666666666,
              "#ed7953"
             ],
             [
              0.7777777777777778,
              "#fb9f3a"
             ],
             [
              0.8888888888888888,
              "#fdca26"
             ],
             [
              1,
              "#f0f921"
             ]
            ],
            "type": "histogram2dcontour"
           }
          ],
          "mesh3d": [
           {
            "colorbar": {
             "outlinewidth": 0,
             "ticks": ""
            },
            "type": "mesh3d"
           }
          ],
          "parcoords": [
           {
            "line": {
             "colorbar": {
              "outlinewidth": 0,
              "ticks": ""
             }
            },
            "type": "parcoords"
           }
          ],
          "pie": [
           {
            "automargin": true,
            "type": "pie"
           }
          ],
          "scatter": [
           {
            "fillpattern": {
             "fillmode": "overlay",
             "size": 10,
             "solidity": 0.2
            },
            "type": "scatter"
           }
          ],
          "scatter3d": [
           {
            "line": {
             "colorbar": {
              "outlinewidth": 0,
              "ticks": ""
             }
            },
            "marker": {
             "colorbar": {
              "outlinewidth": 0,
              "ticks": ""
             }
            },
            "type": "scatter3d"
           }
          ],
          "scattercarpet": [
           {
            "marker": {
             "colorbar": {
              "outlinewidth": 0,
              "ticks": ""
             }
            },
            "type": "scattercarpet"
           }
          ],
          "scattergeo": [
           {
            "marker": {
             "colorbar": {
              "outlinewidth": 0,
              "ticks": ""
             }
            },
            "type": "scattergeo"
           }
          ],
          "scattergl": [
           {
            "marker": {
             "colorbar": {
              "outlinewidth": 0,
              "ticks": ""
             }
            },
            "type": "scattergl"
           }
          ],
          "scattermapbox": [
           {
            "marker": {
             "colorbar": {
              "outlinewidth": 0,
              "ticks": ""
             }
            },
            "type": "scattermapbox"
           }
          ],
          "scatterpolar": [
           {
            "marker": {
             "colorbar": {
              "outlinewidth": 0,
              "ticks": ""
             }
            },
            "type": "scatterpolar"
           }
          ],
          "scatterpolargl": [
           {
            "marker": {
             "colorbar": {
              "outlinewidth": 0,
              "ticks": ""
             }
            },
            "type": "scatterpolargl"
           }
          ],
          "scatterternary": [
           {
            "marker": {
             "colorbar": {
              "outlinewidth": 0,
              "ticks": ""
             }
            },
            "type": "scatterternary"
           }
          ],
          "surface": [
           {
            "colorbar": {
             "outlinewidth": 0,
             "ticks": ""
            },
            "colorscale": [
             [
              0,
              "#0d0887"
             ],
             [
              0.1111111111111111,
              "#46039f"
             ],
             [
              0.2222222222222222,
              "#7201a8"
             ],
             [
              0.3333333333333333,
              "#9c179e"
             ],
             [
              0.4444444444444444,
              "#bd3786"
             ],
             [
              0.5555555555555556,
              "#d8576b"
             ],
             [
              0.6666666666666666,
              "#ed7953"
             ],
             [
              0.7777777777777778,
              "#fb9f3a"
             ],
             [
              0.8888888888888888,
              "#fdca26"
             ],
             [
              1,
              "#f0f921"
             ]
            ],
            "type": "surface"
           }
          ],
          "table": [
           {
            "cells": {
             "fill": {
              "color": "#EBF0F8"
             },
             "line": {
              "color": "white"
             }
            },
            "header": {
             "fill": {
              "color": "#C8D4E3"
             },
             "line": {
              "color": "white"
             }
            },
            "type": "table"
           }
          ]
         },
         "layout": {
          "annotationdefaults": {
           "arrowcolor": "#2a3f5f",
           "arrowhead": 0,
           "arrowwidth": 1
          },
          "autotypenumbers": "strict",
          "coloraxis": {
           "colorbar": {
            "outlinewidth": 0,
            "ticks": ""
           }
          },
          "colorscale": {
           "diverging": [
            [
             0,
             "#8e0152"
            ],
            [
             0.1,
             "#c51b7d"
            ],
            [
             0.2,
             "#de77ae"
            ],
            [
             0.3,
             "#f1b6da"
            ],
            [
             0.4,
             "#fde0ef"
            ],
            [
             0.5,
             "#f7f7f7"
            ],
            [
             0.6,
             "#e6f5d0"
            ],
            [
             0.7,
             "#b8e186"
            ],
            [
             0.8,
             "#7fbc41"
            ],
            [
             0.9,
             "#4d9221"
            ],
            [
             1,
             "#276419"
            ]
           ],
           "sequential": [
            [
             0,
             "#0d0887"
            ],
            [
             0.1111111111111111,
             "#46039f"
            ],
            [
             0.2222222222222222,
             "#7201a8"
            ],
            [
             0.3333333333333333,
             "#9c179e"
            ],
            [
             0.4444444444444444,
             "#bd3786"
            ],
            [
             0.5555555555555556,
             "#d8576b"
            ],
            [
             0.6666666666666666,
             "#ed7953"
            ],
            [
             0.7777777777777778,
             "#fb9f3a"
            ],
            [
             0.8888888888888888,
             "#fdca26"
            ],
            [
             1,
             "#f0f921"
            ]
           ],
           "sequentialminus": [
            [
             0,
             "#0d0887"
            ],
            [
             0.1111111111111111,
             "#46039f"
            ],
            [
             0.2222222222222222,
             "#7201a8"
            ],
            [
             0.3333333333333333,
             "#9c179e"
            ],
            [
             0.4444444444444444,
             "#bd3786"
            ],
            [
             0.5555555555555556,
             "#d8576b"
            ],
            [
             0.6666666666666666,
             "#ed7953"
            ],
            [
             0.7777777777777778,
             "#fb9f3a"
            ],
            [
             0.8888888888888888,
             "#fdca26"
            ],
            [
             1,
             "#f0f921"
            ]
           ]
          },
          "colorway": [
           "#636efa",
           "#EF553B",
           "#00cc96",
           "#ab63fa",
           "#FFA15A",
           "#19d3f3",
           "#FF6692",
           "#B6E880",
           "#FF97FF",
           "#FECB52"
          ],
          "font": {
           "color": "#2a3f5f"
          },
          "geo": {
           "bgcolor": "white",
           "lakecolor": "white",
           "landcolor": "#E5ECF6",
           "showlakes": true,
           "showland": true,
           "subunitcolor": "white"
          },
          "hoverlabel": {
           "align": "left"
          },
          "hovermode": "closest",
          "mapbox": {
           "style": "light"
          },
          "paper_bgcolor": "white",
          "plot_bgcolor": "#E5ECF6",
          "polar": {
           "angularaxis": {
            "gridcolor": "white",
            "linecolor": "white",
            "ticks": ""
           },
           "bgcolor": "#E5ECF6",
           "radialaxis": {
            "gridcolor": "white",
            "linecolor": "white",
            "ticks": ""
           }
          },
          "scene": {
           "xaxis": {
            "backgroundcolor": "#E5ECF6",
            "gridcolor": "white",
            "gridwidth": 2,
            "linecolor": "white",
            "showbackground": true,
            "ticks": "",
            "zerolinecolor": "white"
           },
           "yaxis": {
            "backgroundcolor": "#E5ECF6",
            "gridcolor": "white",
            "gridwidth": 2,
            "linecolor": "white",
            "showbackground": true,
            "ticks": "",
            "zerolinecolor": "white"
           },
           "zaxis": {
            "backgroundcolor": "#E5ECF6",
            "gridcolor": "white",
            "gridwidth": 2,
            "linecolor": "white",
            "showbackground": true,
            "ticks": "",
            "zerolinecolor": "white"
           }
          },
          "shapedefaults": {
           "line": {
            "color": "#2a3f5f"
           }
          },
          "ternary": {
           "aaxis": {
            "gridcolor": "white",
            "linecolor": "white",
            "ticks": ""
           },
           "baxis": {
            "gridcolor": "white",
            "linecolor": "white",
            "ticks": ""
           },
           "bgcolor": "#E5ECF6",
           "caxis": {
            "gridcolor": "white",
            "linecolor": "white",
            "ticks": ""
           }
          },
          "title": {
           "x": 0.05
          },
          "xaxis": {
           "automargin": true,
           "gridcolor": "white",
           "linecolor": "white",
           "ticks": "",
           "title": {
            "standoff": 15
           },
           "zerolinecolor": "white",
           "zerolinewidth": 2
          },
          "yaxis": {
           "automargin": true,
           "gridcolor": "white",
           "linecolor": "white",
           "ticks": "",
           "title": {
            "standoff": 15
           },
           "zerolinecolor": "white",
           "zerolinewidth": 2
          }
         }
        }
       }
      }
     },
     "metadata": {},
     "output_type": "display_data"
    }
   ],
   "source": [
    "import plotly.express as px\n",
    "\n",
    "dat = pd.DataFrame({'country_names': country_names, 'cluster': np.array([str(lab) for lab in kmeans.labels_])})\n",
    "\n",
    "fig = px.choropleth(dat, locations=\"country_names\",\n",
    "                    locationmode='country names',\n",
    "                    color=\"cluster\", \n",
    "                    color_discrete_sequence=[\"#D81B60\",\"#1E88E5\",\"#FFC107\",\"#004D40\"],\n",
    "                    hover_name=\"country_names\",\n",
    "                    category_orders={\"cluster\":[\"0\",\"1\",\"2\",\"3\"]})\n",
    "fig.update_layout(legend_title_text='Cluster Membership')\n",
    "\n",
    "fig.show()"
   ]
  },
  {
   "cell_type": "markdown",
   "metadata": {},
   "source": [
    "## Disadvantages of `K-Means` Clustering\n",
    "\n",
    "As we discussed previously, k-means clustering has several disadvantages. It does not always converge to a solution that provides the global minimum within-cluster variation. Because of this, it can also give differing solutions depending on the initial starting points. In addition, the k-means algorithm requires the user to specify the number of clusters, which may not always be obvious, especially for data with high dimensionality. In the next section, we will discuss another clustering method that does not require you to specify a number of clusters: hierarchical clustering."
   ]
  },
  {
   "cell_type": "markdown",
   "metadata": {},
   "source": [
    "[^*]: Nidula Elgiriyewithana. (2023). Global Country Information Dataset 2023 [Data set]. Kaggle. https://doi.org/10.34740/KAGGLE/DSV/6101670"
   ]
  }
 ],
 "metadata": {
  "kernelspec": {
   "display_name": "Python 3",
   "language": "python",
   "name": "python3"
  },
  "language_info": {
   "codemirror_mode": {
    "name": "ipython",
    "version": 3
   },
   "file_extension": ".py",
   "mimetype": "text/x-python",
   "name": "python",
   "nbconvert_exporter": "python",
   "pygments_lexer": "ipython3",
   "version": "3.9.6"
  }
 },
 "nbformat": 4,
 "nbformat_minor": 2
}

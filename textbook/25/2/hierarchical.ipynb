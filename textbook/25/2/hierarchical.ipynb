{
 "cells": [
  {
   "cell_type": "code",
   "execution_count": null,
   "metadata": {
    "tags": [
     "remove-cell"
    ]
   },
   "outputs": [],
   "source": [
    "import numpy as np\n",
    "import pandas as pd\n",
    "\n",
    "%matplotlib inline\n",
    "import matplotlib.pyplot as plt\n",
    "plt.style.use('fivethirtyeight')"
   ]
  },
  {
   "cell_type": "markdown",
   "metadata": {},
   "source": [
    "# Hierarchical Clustering\n",
    "\n"
   ]
  },
  {
   "cell_type": "markdown",
   "metadata": {},
   "source": [
    "```{prf:algorithm} Hierarchical Clustering\n",
    ":label: hierarchical\n",
    "\n",
    "**Inputs** Given a dissimilarity metric and linkage.\n",
    "\n",
    "**Output** A dendrogram that can be used to decide on a clustering of $n$ datapoints.\n",
    "\n",
    "1. Begin by treating each of the $n$ points as its own cluster.\n",
    "2. While there exists more than one cluster:\n",
    "     Fuse the two clusters that are closest given the choice of dissimilarity metric and linkage.\n",
    "\n",
    "```"
   ]
  },
  {
   "cell_type": "markdown",
   "metadata": {},
   "source": [
    "{prf:ref}`hierarchical`"
   ]
  }
 ],
 "metadata": {
  "language_info": {
   "name": "python"
  }
 },
 "nbformat": 4,
 "nbformat_minor": 2
}

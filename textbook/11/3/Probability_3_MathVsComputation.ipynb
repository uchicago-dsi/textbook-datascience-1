{
 "cells": [
  {
   "cell_type": "code",
   "execution_count": 1,
   "metadata": {
    "tags": [
     "remove-cell"
    ]
   },
   "outputs": [],
   "source": [
    "import numpy as np\n",
    "import pandas as pd\n",
    "\n",
    "%matplotlib inline\n",
    "import matplotlib.pyplot as plt\n",
    "\n",
    "from collections import Counter\n",
    "\n",
    "birthdays=np.arange(1,366,1)\n",
    "def birthday_sim(n,nrep):\n",
    "    '''Estimate birthday matching probabilities using nrep simulations'''\n",
    "    outcomes = np.array([])\n",
    "    for i in np.arange(nrep):\n",
    "        outcomes = np.append(outcomes, \n",
    "                             Counter(np.random.choice(birthdays,n)).most_common(1)[0][1])\n",
    "    return outcomes"
   ]
  },
  {
   "cell_type": "markdown",
   "metadata": {},
   "source": [
    "# Mathematical derivation versus computational estimation\n",
    "\n",
    "We illustrated in the previous sections how to approach a simple problem using either mathematics or simulations (a computational solution). There are many examples of scientific problems where advances have been made using computational methods, mathematical solutions, or both. For example, in meteorology, mathematical models are used to estimate precipitation levels, while simulations are run to predict local weather patterns.\n",
    "\n",
    "The debate of the merits of these two approaches is beyond the scope of this textbook (and it can lead to a stimulating classroom discussion), but we would like to note that there are problems where analytical derivations are preferred and problems where computational solutions are optimal. For example, when calculating the probability of winning a lottery where the number of combinations is very large (for example, hundreds of millions), a mathematical derivation works better because the estimation of very rare events require an enormous number of repetitions. Below we show a generalization of the birthday problem where the code is almost identical to what we introduced above, while a mathematical derivation is a lot more difficult.\n",
    "\n",
    "## The triplets problem\n",
    "\n",
    "Given a number of people, $n$, what is the probability that at least three share a birthday? Assumptions are the same as before:\n",
    "\n",
    "a. 365 days in a year.\n",
    "\n",
    "b. All days are equally likely.\n",
    "\n",
    "c. Subjects have independent birthdays.\n",
    "\n",
    "The exact formula for this probability is a lot more complicated than the one for the classical birthday problem (see reference below). Recall that we solved the birthday problem by focusing on the complement of the event of interest. The complement in the context of the triplets problem is as complicated as the event itself.\n",
    "\n",
    "\n",
    "The next cell constructs a data frame with the estimated probabilities for $n$ ranging from 40 to 120; the range was selected to illustrate how probabilities are different than in the previous section.\n",
    "\n",
    "Note that the only difference in the code is when we count the number of repetitions where the most frequent birthday count is larger or equal to 3.\n"
   ]
  },
  {
   "cell_type": "code",
   "execution_count": 6,
   "metadata": {},
   "outputs": [
    {
     "data": {
      "text/html": [
       "<div>\n",
       "<style scoped>\n",
       "    .dataframe tbody tr th:only-of-type {\n",
       "        vertical-align: middle;\n",
       "    }\n",
       "\n",
       "    .dataframe tbody tr th {\n",
       "        vertical-align: top;\n",
       "    }\n",
       "\n",
       "    .dataframe thead th {\n",
       "        text-align: right;\n",
       "    }\n",
       "</style>\n",
       "<table border=\"1\" class=\"dataframe\">\n",
       "  <thead>\n",
       "    <tr style=\"text-align: right;\">\n",
       "      <th></th>\n",
       "      <th>Number of people</th>\n",
       "      <th>Triplet Probability</th>\n",
       "    </tr>\n",
       "  </thead>\n",
       "  <tbody>\n",
       "    <tr>\n",
       "      <th>76</th>\n",
       "      <td>116</td>\n",
       "      <td>0.782</td>\n",
       "    </tr>\n",
       "    <tr>\n",
       "      <th>77</th>\n",
       "      <td>117</td>\n",
       "      <td>0.823</td>\n",
       "    </tr>\n",
       "    <tr>\n",
       "      <th>78</th>\n",
       "      <td>118</td>\n",
       "      <td>0.796</td>\n",
       "    </tr>\n",
       "    <tr>\n",
       "      <th>79</th>\n",
       "      <td>119</td>\n",
       "      <td>0.794</td>\n",
       "    </tr>\n",
       "    <tr>\n",
       "      <th>80</th>\n",
       "      <td>120</td>\n",
       "      <td>0.825</td>\n",
       "    </tr>\n",
       "  </tbody>\n",
       "</table>\n",
       "</div>"
      ],
      "text/plain": [
       "    Number of people  Triplet Probability\n",
       "76               116                0.782\n",
       "77               117                0.823\n",
       "78               118                0.796\n",
       "79               119                0.794\n",
       "80               120                0.825"
      ]
     },
     "execution_count": 6,
     "metadata": {},
     "output_type": "execute_result"
    }
   ],
   "source": [
    "nrep=1000\n",
    "number_people=np.arange(40,121,1)\n",
    "probs3= np.array([])\n",
    "for i in number_people: \n",
    "    probs3= np.append(probs3,sum(birthday_sim(i,nrep)>=3)/nrep)\n",
    "\n",
    "Birthday3_df=pd.DataFrame(\n",
    "    {\"Number of people\":number_people,\n",
    "     \"Triplet Probability\":probs3})\n",
    "\n",
    "Birthday3_df.tail(5)"
   ]
  },
  {
   "cell_type": "code",
   "execution_count": 7,
   "metadata": {
    "scrolled": true
   },
   "outputs": [
    {
     "data": {
      "image/png": "[encoded data removed]",
      "text/plain": [
       "<Figure size 640x480 with 1 Axes>"
      ]
     },
     "metadata": {},
     "output_type": "display_data"
    }
   ],
   "source": [
    "Birthday3_df.plot.scatter(\"Number of people\",\"Triplet Probability\")\n",
    "plt.show()"
   ]
  },
  {
   "cell_type": "markdown",
   "metadata": {},
   "source": [
    "If you want to obtain a smoother curve (reflecting a more accurate estimation of probabilities) you need to increase the number of simulations. Play with the code and see how the number of simulations affects the smoothness of the function!\n",
    "\n",
    "Note that for triplets, the number of people that yields a probability closest to 0.5 is **around** 87."
   ]
  },
  {
   "cell_type": "code",
   "execution_count": 13,
   "metadata": {},
   "outputs": [
    {
     "data": {
      "text/plain": [
       "0.5013"
      ]
     },
     "execution_count": 13,
     "metadata": {},
     "output_type": "execute_result"
    }
   ],
   "source": [
    "n=87\n",
    "nrep=10000\n",
    "sum(birthday_sim(n,nrep)>=3)/nrep"
   ]
  },
  {
   "cell_type": "markdown",
   "metadata": {},
   "source": [
    "**Reference for the triplets problem:**\n",
    "\n",
    "DasGupta A (2005) The matching, birthday and the strong birthday problem: a contemporary review. Journal of Statistical Planning and Inference, Volume 130, Issues 1–2, 377-389."
   ]
  }
 ],
 "metadata": {
  "kernelspec": {
   "display_name": "base",
   "language": "python",
   "name": "python3"
  },
  "language_info": {
   "codemirror_mode": {
    "name": "ipython",
    "version": 3
   },
   "file_extension": ".py",
   "mimetype": "text/x-python",
   "name": "python",
   "nbconvert_exporter": "python",
   "pygments_lexer": "ipython3",
   "version": "3.12.3"
  }
 },
 "nbformat": 4,
 "nbformat_minor": 2
}
